{
  "nbformat": 4,
  "nbformat_minor": 0,
  "metadata": {
    "colab": {
      "provenance": [],
      "collapsed_sections": []
    },
    "kernelspec": {
      "name": "python3",
      "display_name": "Python 3"
    },
    "language_info": {
      "name": "python"
    },
    "gpuClass": "standard"
  },
  "cells": [
    {
      "cell_type": "code",
      "source": [
        "!pip install opendatasets"
      ],
      "metadata": {
        "colab": {
          "base_uri": "https://localhost:8080/"
        },
        "id": "ruxoz94Mi-iH",
        "outputId": "175498c3-834d-4646-cce6-302e33face28"
      },
      "execution_count": 1,
      "outputs": [
        {
          "output_type": "stream",
          "name": "stdout",
          "text": [
            "Looking in indexes: https://pypi.org/simple, https://us-python.pkg.dev/colab-wheels/public/simple/\n",
            "Collecting opendatasets\n",
            "  Downloading opendatasets-0.1.22-py3-none-any.whl (15 kB)\n",
            "Requirement already satisfied: click in /usr/local/lib/python3.7/dist-packages (from opendatasets) (7.1.2)\n",
            "Requirement already satisfied: tqdm in /usr/local/lib/python3.7/dist-packages (from opendatasets) (4.64.0)\n",
            "Requirement already satisfied: kaggle in /usr/local/lib/python3.7/dist-packages (from opendatasets) (1.5.12)\n",
            "Requirement already satisfied: six>=1.10 in /usr/local/lib/python3.7/dist-packages (from kaggle->opendatasets) (1.15.0)\n",
            "Requirement already satisfied: python-slugify in /usr/local/lib/python3.7/dist-packages (from kaggle->opendatasets) (6.1.2)\n",
            "Requirement already satisfied: python-dateutil in /usr/local/lib/python3.7/dist-packages (from kaggle->opendatasets) (2.8.2)\n",
            "Requirement already satisfied: requests in /usr/local/lib/python3.7/dist-packages (from kaggle->opendatasets) (2.23.0)\n",
            "Requirement already satisfied: certifi in /usr/local/lib/python3.7/dist-packages (from kaggle->opendatasets) (2022.6.15)\n",
            "Requirement already satisfied: urllib3 in /usr/local/lib/python3.7/dist-packages (from kaggle->opendatasets) (1.24.3)\n",
            "Requirement already satisfied: text-unidecode>=1.3 in /usr/local/lib/python3.7/dist-packages (from python-slugify->kaggle->opendatasets) (1.3)\n",
            "Requirement already satisfied: idna<3,>=2.5 in /usr/local/lib/python3.7/dist-packages (from requests->kaggle->opendatasets) (2.10)\n",
            "Requirement already satisfied: chardet<4,>=3.0.2 in /usr/local/lib/python3.7/dist-packages (from requests->kaggle->opendatasets) (3.0.4)\n",
            "Installing collected packages: opendatasets\n",
            "Successfully installed opendatasets-0.1.22\n"
          ]
        }
      ]
    },
    {
      "cell_type": "code",
      "execution_count": 2,
      "metadata": {
        "id": "-_eZ6PXXirKc"
      },
      "outputs": [],
      "source": [
        "import opendatasets as od"
      ]
    },
    {
      "cell_type": "code",
      "source": [
        "train_dir='/content/train.csv'"
      ],
      "metadata": {
        "id": "QvHmYohQjQIE"
      },
      "execution_count": 3,
      "outputs": []
    },
    {
      "cell_type": "code",
      "source": [
        "!ls -lh {train_dir}"
      ],
      "metadata": {
        "colab": {
          "base_uri": "https://localhost:8080/"
        },
        "id": "P9bX1drFk6GN",
        "outputId": "53bd8372-3911-4a12-cb2c-6cf575b8d547"
      },
      "execution_count": 4,
      "outputs": [
        {
          "output_type": "stream",
          "name": "stdout",
          "text": [
            "-rw-r--r-- 1 root root 8.8M Sep  4 10:39 /content/train.csv\n"
          ]
        }
      ]
    },
    {
      "cell_type": "code",
      "source": [
        "!wc -l {train_dir}"
      ],
      "metadata": {
        "colab": {
          "base_uri": "https://localhost:8080/"
        },
        "id": "wbiiWz6Jk_Nv",
        "outputId": "dec045de-2b3c-44da-85fd-a4e109933f60"
      },
      "execution_count": 5,
      "outputs": [
        {
          "output_type": "stream",
          "name": "stdout",
          "text": [
            "20501 /content/train.csv\n"
          ]
        }
      ]
    },
    {
      "cell_type": "code",
      "source": [
        "!head {train_dir}"
      ],
      "metadata": {
        "colab": {
          "base_uri": "https://localhost:8080/"
        },
        "id": "YWY_U5xWlL-s",
        "outputId": "400aa867-725a-47ec-ee61-da0ce965483d"
      },
      "execution_count": 6,
      "outputs": [
        {
          "output_type": "stream",
          "name": "stdout",
          "text": [
            "id,type,locality,activation_date,latitude,longitude,lease_type,gym,lift,swimming_pool,negotiable,furnishing,parking,property_size,property_age,bathroom,facing,cup_board,floor,total_floor,amenities,water_supply,building_type,balconies,rent\r\n",
            "ff8081815733a243015733b2876600a6,BHK2,\"Cauvery Colony,Koramangala\",21-04-2018 14:44,12.9344709,77.634471,FAMILY,1,1,1,0,SEMI_FURNISHED,BOTH,1250,25,2,E,2,6,12,\"{\"\"LIFT\"\":true,\"\"GYM\"\":true,\"\"INTERNET\"\":true,\"\"AC\"\":false,\"\"CLUB\"\":true,\"\"INTERCOM\"\":true,\"\"POOL\"\":true,\"\"CPA\"\":true,\"\"FS\"\":true,\"\"SERVANT\"\":false,\"\"SECURITY\"\":true,\"\"SC\"\":true,\"\"GP\"\":true,\"\"PARK\"\":false,\"\"RWH\"\":true,\"\"STP\"\":true,\"\"HK\"\":false,\"\"PB\"\":true,\"\"VP\"\":true}\",CORP_BORE,AP,2,40000\r\n",
            "ff8081815ee25e15015ee50004da2acd,BHK2,Bellandur,09-10-2017 12:48,12.92955671,77.6722797,ANYONE,0,1,0,1,SEMI_FURNISHED,BOTH,1400,4,2,NE,2,3,4,\"{\"\"LIFT\"\":true,\"\"GYM\"\":false,\"\"INTERNET\"\":false,\"\"AC\"\":false,\"\"CLUB\"\":false,\"\"INTERCOM\"\":false,\"\"POOL\"\":false,\"\"CPA\"\":false,\"\"FS\"\":false,\"\"SERVANT\"\":false,\"\"SECURITY\"\":true,\"\"SC\"\":true,\"\"GP\"\":false,\"\"PARK\"\":true,\"\"RWH\"\":true,\"\"STP\"\":true,\"\"HK\"\":false,\"\"PB\"\":true,\"\"VP\"\":true}\",CORPORATION,AP,2,22000\r\n",
            "ff80818163f29c9e0163f46770b873e7,BHK3,Thiruvanmiyur,12-06-2018 22:02,12.98287026,80.26201214,FAMILY,0,1,0,0,SEMI_FURNISHED,BOTH,1350,6,3,E,3,1,5,\"{\"\"LIFT\"\":true,\"\"GYM\"\":false,\"\"INTERNET\"\":false,\"\"AC\"\":false,\"\"CLUB\"\":false,\"\"INTERCOM\"\":false,\"\"POOL\"\":false,\"\"CPA\"\":true,\"\"FS\"\":false,\"\"SERVANT\"\":false,\"\"SECURITY\"\":false,\"\"SC\"\":true,\"\"GP\"\":false,\"\"PARK\"\":true,\"\"RWH\"\":false,\"\"STP\"\":false,\"\"HK\"\":false,\"\"PB\"\":true,\"\"VP\"\":true}\",CORP_BORE,AP,3,28000\r\n",
            "ff80818164b68a700164b74b1b247a1d,BHK1,Attiguppe,20-07-2018 16:22,12.95599061,77.53163369,FAMILY,0,0,0,1,SEMI_FURNISHED,TWO_WHEELER,600,3,1,E,1,1,2,\"{\"\"LIFT\"\":false,\"\"GYM\"\":false,\"\"INTERNET\"\":false,\"\"AC\"\":false,\"\"CLUB\"\":false,\"\"INTERCOM\"\":false,\"\"POOL\"\":false,\"\"CPA\"\":false,\"\"FS\"\":false,\"\"SERVANT\"\":false,\"\"SECURITY\"\":false,\"\"SC\"\":false,\"\"GP\"\":false,\"\"PARK\"\":false,\"\"RWH\"\":false,\"\"STP\"\":false,\"\"HK\"\":false,\"\"PB\"\":false,\"\"VP\"\":false}\",CORPORATION,IH,0,8000\r\n",
            "ff80818163b1faf00163b4b9b8a163b1,BHK3,Kodihalli,31-05-2018 17:41,12.96390329,77.64944586,FAMILY,0,0,0,1,SEMI_FURNISHED,BOTH,1500,15,3,E,4,0,0,\"{\"\"LIFT\"\":false,\"\"GYM\"\":false,\"\"INTERNET\"\":false,\"\"AC\"\":false,\"\"CLUB\"\":false,\"\"INTERCOM\"\":false,\"\"POOL\"\":false,\"\"CPA\"\":true,\"\"FS\"\":false,\"\"SERVANT\"\":false,\"\"SECURITY\"\":false,\"\"SC\"\":false,\"\"GP\"\":false,\"\"PARK\"\":true,\"\"RWH\"\":false,\"\"STP\"\":false,\"\"HK\"\":false,\"\"PB\"\":false,\"\"VP\"\":true}\",CORPORATION,IH,1,45000\r\n",
            "ff8081815f48e4aa015f4dd1a9c6696b,BHK1,\"Seetharampalya,Hoodi\",24-10-2017 18:29,12.9861959,77.7183141,FAMILY,1,1,1,1,SEMI_FURNISHED,BOTH,1080,0,2,E,1,3,5,\"{\"\"LIFT\"\":true,\"\"GYM\"\":true,\"\"INTERNET\"\":false,\"\"AC\"\":false,\"\"CLUB\"\":true,\"\"INTERCOM\"\":false,\"\"POOL\"\":true,\"\"CPA\"\":true,\"\"FS\"\":true,\"\"SERVANT\"\":false,\"\"SECURITY\"\":true,\"\"SC\"\":false,\"\"GP\"\":false,\"\"PARK\"\":false,\"\"RWH\"\":false,\"\"STP\"\":false,\"\"HK\"\":false,\"\"PB\"\":true,\"\"VP\"\":false}\",CORP_BORE,AP,2,18000\r\n",
            "ff808181647d728001647e3cd0ed458d,BHK3,\"Narayanappa Garden,Whitefield\",12-07-2018 20:29,12.9671442,77.7506621,ANYONE,1,1,1,1,FULLY_FURNISHED,BOTH,1895,5,3,NE,5,3,9,\"{\"\"LIFT\"\":true,\"\"GYM\"\":true,\"\"INTERNET\"\":true,\"\"AC\"\":true,\"\"CLUB\"\":true,\"\"INTERCOM\"\":true,\"\"POOL\"\":true,\"\"CPA\"\":true,\"\"FS\"\":true,\"\"SERVANT\"\":true,\"\"SECURITY\"\":true,\"\"SC\"\":true,\"\"GP\"\":false,\"\"PARK\"\":true,\"\"RWH\"\":true,\"\"STP\"\":true,\"\"HK\"\":true,\"\"PB\"\":true,\"\"VP\"\":true}\",CORPORATION,AP,3,32000\r\n",
            "ff80818164e9cd1b0164ea07d09114b7,BHK2,HSR Layout 5th Sector,30-07-2018 16:01,12.91741383,77.63176379,ANYONE,0,0,0,1,SEMI_FURNISHED,BOTH,1000,10,2,S,2,0,2,\"{\"\"LIFT\"\":false,\"\"GYM\"\":false,\"\"INTERNET\"\":false,\"\"AC\"\":false,\"\"CLUB\"\":false,\"\"INTERCOM\"\":false,\"\"POOL\"\":false,\"\"CPA\"\":false,\"\"FS\"\":false,\"\"SERVANT\"\":false,\"\"SECURITY\"\":false,\"\"SC\"\":true,\"\"GP\"\":false,\"\"PARK\"\":false,\"\"RWH\"\":false,\"\"STP\"\":false,\"\"HK\"\":false,\"\"PB\"\":true,\"\"VP\"\":true}\",CORP_BORE,IH,0,22000\r\n",
            "ff808181624e0deb01624e6b3426131c,BHK2,Banashankari,26-03-2018 14:11,12.92330118,77.55632407,ANYONE,0,0,0,0,SEMI_FURNISHED,NONE,900,10,2,S,2,0,1,\"{\"\"LIFT\"\":false,\"\"GYM\"\":false,\"\"INTERNET\"\":true,\"\"AC\"\":false,\"\"CLUB\"\":false,\"\"INTERCOM\"\":false,\"\"POOL\"\":false,\"\"CPA\"\":false,\"\"FS\"\":false,\"\"SERVANT\"\":false,\"\"SECURITY\"\":true,\"\"SC\"\":true,\"\"GP\"\":false,\"\"PARK\"\":true,\"\"RWH\"\":false,\"\"STP\"\":false,\"\"HK\"\":false,\"\"PB\"\":false,\"\"VP\"\":false}\",CORPORATION,IH,0,10000\r\n"
          ]
        }
      ]
    },
    {
      "cell_type": "code",
      "source": [
        "s='id,type,locality,activation_date,latitude,longitude,lease_type,gym,lift,swimming_pool,negotiable,furnishing,parking,property_size,property_age,bathroom,facing,cup_board,floor,total_floor,amenities,water_supply,building_type,balconies,rent'\n",
        "cols=[]\n",
        "cols=s.split(',')\n",
        "cols"
      ],
      "metadata": {
        "colab": {
          "base_uri": "https://localhost:8080/"
        },
        "id": "5g-e444JlQjN",
        "outputId": "a0350d54-670e-41b8-ef92-5f43b5a64be5"
      },
      "execution_count": 7,
      "outputs": [
        {
          "output_type": "execute_result",
          "data": {
            "text/plain": [
              "['id',\n",
              " 'type',\n",
              " 'locality',\n",
              " 'activation_date',\n",
              " 'latitude',\n",
              " 'longitude',\n",
              " 'lease_type',\n",
              " 'gym',\n",
              " 'lift',\n",
              " 'swimming_pool',\n",
              " 'negotiable',\n",
              " 'furnishing',\n",
              " 'parking',\n",
              " 'property_size',\n",
              " 'property_age',\n",
              " 'bathroom',\n",
              " 'facing',\n",
              " 'cup_board',\n",
              " 'floor',\n",
              " 'total_floor',\n",
              " 'amenities',\n",
              " 'water_supply',\n",
              " 'building_type',\n",
              " 'balconies',\n",
              " 'rent']"
            ]
          },
          "metadata": {},
          "execution_count": 7
        }
      ]
    },
    {
      "cell_type": "code",
      "source": [
        "len(cols)"
      ],
      "metadata": {
        "colab": {
          "base_uri": "https://localhost:8080/"
        },
        "id": "oMQTqd_tlbXo",
        "outputId": "a3ddc1fe-e9ac-4292-f4d9-851d4c810fc2"
      },
      "execution_count": 8,
      "outputs": [
        {
          "output_type": "execute_result",
          "data": {
            "text/plain": [
              "25"
            ]
          },
          "metadata": {},
          "execution_count": 8
        }
      ]
    },
    {
      "cell_type": "code",
      "source": [],
      "metadata": {
        "id": "2N46x53fmEdw"
      },
      "execution_count": 8,
      "outputs": []
    },
    {
      "cell_type": "code",
      "source": [
        "import pandas as pd"
      ],
      "metadata": {
        "id": "LT4xQ7otlETf"
      },
      "execution_count": 9,
      "outputs": []
    },
    {
      "cell_type": "code",
      "source": [
        "df=pd.read_csv(train_dir, usecols=cols)"
      ],
      "metadata": {
        "id": "eKqbBCJkmSI0"
      },
      "execution_count": 10,
      "outputs": []
    },
    {
      "cell_type": "code",
      "source": [
        "df.head(20)"
      ],
      "metadata": {
        "colab": {
          "base_uri": "https://localhost:8080/",
          "height": 891
        },
        "id": "OdMX5DIDmnau",
        "outputId": "eb3dbc69-d113-4add-b9da-c892f5f67ce8"
      },
      "execution_count": 11,
      "outputs": [
        {
          "output_type": "execute_result",
          "data": {
            "text/plain": [
              "                                  id  type  \\\n",
              "0   ff8081815733a243015733b2876600a6  BHK2   \n",
              "1   ff8081815ee25e15015ee50004da2acd  BHK2   \n",
              "2   ff80818163f29c9e0163f46770b873e7  BHK3   \n",
              "3   ff80818164b68a700164b74b1b247a1d  BHK1   \n",
              "4   ff80818163b1faf00163b4b9b8a163b1  BHK3   \n",
              "5   ff8081815f48e4aa015f4dd1a9c6696b  BHK1   \n",
              "6   ff808181647d728001647e3cd0ed458d  BHK3   \n",
              "7   ff80818164e9cd1b0164ea07d09114b7  BHK2   \n",
              "8   ff808181624e0deb01624e6b3426131c  BHK2   \n",
              "9   ff808181620eb61601620f1b79a42734  BHK2   \n",
              "10  ff8081815c116660015c119a34fd0829  BHK2   \n",
              "11  ff8081815f887e60015f8b497ac62da0  BHK2   \n",
              "12  ff8081815b3ce753015b3deabfae2e70  BHK2   \n",
              "13  ff8081815efff8db015f0097a4a946bf  BHK2   \n",
              "14  ff808181645efb5c01645f8463e227fd  BHK1   \n",
              "15  ff808181620eb34b0162133b0dbe5f16  BHK2   \n",
              "16  ff8081816483b0ba01648479cec8103a  BHK3   \n",
              "17  ff8081815d851c3f015d8d3a9b3e5361  BHK3   \n",
              "18  ff8081816058ce47016058d4e68f0308  BHK2   \n",
              "19  ff80818163dffb5f0163e00d3cdd0429  BHK2   \n",
              "\n",
              "                                             locality   activation_date  \\\n",
              "0                          Cauvery Colony,Koramangala  21-04-2018 14:44   \n",
              "1                                           Bellandur  09-10-2017 12:48   \n",
              "2                                       Thiruvanmiyur  12-06-2018 22:02   \n",
              "3                                           Attiguppe  20-07-2018 16:22   \n",
              "4                                           Kodihalli  31-05-2018 17:41   \n",
              "5                                Seetharampalya,Hoodi  24-10-2017 18:29   \n",
              "6                       Narayanappa Garden,Whitefield  12-07-2018 20:29   \n",
              "7                               HSR Layout 5th Sector  30-07-2018 16:01   \n",
              "8                                        Banashankari  26-03-2018 14:11   \n",
              "9                                          Whitefield  10-03-2018 17:17   \n",
              "10                                           RR Nagar  11-07-2017 14:58   \n",
              "11                             ITPL Residential Flats  05-11-2017 16:14   \n",
              "12                              Raja Rajeshwari Nagar  27-08-2017 16:55   \n",
              "13  Prestige Shanthinikethan, Bengaluru, Karnataka...  09-10-2017 16:59   \n",
              "14                                      Murugeshpalya  05-07-2018 15:18   \n",
              "15                                     Sheshadripuram  11-03-2018 15:39   \n",
              "16                                           Cox Town  15-07-2018 17:08   \n",
              "17                                      BTM 2nd Stage  14-08-2017 12:02   \n",
              "18                                     Chikkakannalli  15-12-2017 14:53   \n",
              "19                                              agara  08-06-2018 21:28   \n",
              "\n",
              "     latitude  longitude lease_type  gym  lift  swimming_pool  ...  bathroom  \\\n",
              "0   12.934471  77.634471     FAMILY    1     1              1  ...         2   \n",
              "1   12.929557  77.672280     ANYONE    0     1              0  ...         2   \n",
              "2   12.982870  80.262012     FAMILY    0     1              0  ...         3   \n",
              "3   12.955991  77.531634     FAMILY    0     0              0  ...         1   \n",
              "4   12.963903  77.649446     FAMILY    0     0              0  ...         3   \n",
              "5   12.986196  77.718314     FAMILY    1     1              1  ...         2   \n",
              "6   12.967144  77.750662     ANYONE    1     1              1  ...         3   \n",
              "7   12.917414  77.631764     ANYONE    0     0              0  ...         2   \n",
              "8   12.923301  77.556324     ANYONE    0     0              0  ...         2   \n",
              "9   12.972697  77.751880     ANYONE    1     1              0  ...         2   \n",
              "10  12.912039  77.510950     FAMILY    0     0              0  ...         2   \n",
              "11  12.986175  77.735956     ANYONE    1     1              0  ...         2   \n",
              "12  12.925034  77.517115     ANYONE    0     1              0  ...         2   \n",
              "13  12.989002  77.727370     FAMILY    1     1              1  ...         2   \n",
              "14  12.954775  77.650037   BACHELOR    0     0              0  ...         1   \n",
              "15  12.986517  77.574781     FAMILY    0     0              0  ...         1   \n",
              "16  12.998526  77.631007     FAMILY    0     0              0  ...         2   \n",
              "17  12.908240  77.607409     ANYONE    0     0              0  ...         2   \n",
              "18  12.900570  77.707885     FAMILY    0     0              0  ...         2   \n",
              "19  12.924363  77.653267     ANYONE    0     1              0  ...         2   \n",
              "\n",
              "   facing cup_board  floor  total_floor  \\\n",
              "0       E         2      6           12   \n",
              "1      NE         2      3            4   \n",
              "2       E         3      1            5   \n",
              "3       E         1      1            2   \n",
              "4       E         4      0            0   \n",
              "5       E         1      3            5   \n",
              "6      NE         5      3            9   \n",
              "7       S         2      0            2   \n",
              "8       S         2      0            1   \n",
              "9       E         4      2            4   \n",
              "10      E         4      1            2   \n",
              "11      N         2      1            4   \n",
              "12      E         2      1            4   \n",
              "13      E         2     11           14   \n",
              "14      E         1      2            2   \n",
              "15      E         0      1            3   \n",
              "16      E         2      1            3   \n",
              "17      E         0      1            2   \n",
              "18     SE         2      4           15   \n",
              "19      E         2      0            4   \n",
              "\n",
              "                                            amenities water_supply  \\\n",
              "0   {\"LIFT\":true,\"GYM\":true,\"INTERNET\":true,\"AC\":f...    CORP_BORE   \n",
              "1   {\"LIFT\":true,\"GYM\":false,\"INTERNET\":false,\"AC\"...  CORPORATION   \n",
              "2   {\"LIFT\":true,\"GYM\":false,\"INTERNET\":false,\"AC\"...    CORP_BORE   \n",
              "3   {\"LIFT\":false,\"GYM\":false,\"INTERNET\":false,\"AC...  CORPORATION   \n",
              "4   {\"LIFT\":false,\"GYM\":false,\"INTERNET\":false,\"AC...  CORPORATION   \n",
              "5   {\"LIFT\":true,\"GYM\":true,\"INTERNET\":false,\"AC\":...    CORP_BORE   \n",
              "6   {\"LIFT\":true,\"GYM\":true,\"INTERNET\":true,\"AC\":t...  CORPORATION   \n",
              "7   {\"LIFT\":false,\"GYM\":false,\"INTERNET\":false,\"AC...    CORP_BORE   \n",
              "8   {\"LIFT\":false,\"GYM\":false,\"INTERNET\":true,\"AC\"...  CORPORATION   \n",
              "9   {\"LIFT\":true,\"GYM\":true,\"INTERNET\":true,\"AC\":f...    CORP_BORE   \n",
              "10  {\"AC\":false,\"CLUB\":false,\"CPA\":false,\"FS\":fals...  CORPORATION   \n",
              "11  {\"LIFT\":true,\"GYM\":true,\"INTERNET\":true,\"AC\":f...  CORPORATION   \n",
              "12  {\"LIFT\":true,\"GYM\":false,\"INTERNET\":true,\"AC\":...  CORPORATION   \n",
              "13  {\"LIFT\":true,\"GYM\":true,\"INTERNET\":true,\"AC\":f...    CORP_BORE   \n",
              "14  {\"LIFT\":false,\"GYM\":false,\"INTERNET\":true,\"AC\"...  CORPORATION   \n",
              "15  {\"LIFT\":false,\"GYM\":false,\"INTERNET\":true,\"AC\"...    CORP_BORE   \n",
              "16  {\"LIFT\":false,\"GYM\":false,\"INTERNET\":false,\"AC...  CORPORATION   \n",
              "17  {\"AC\":false,\"CLUB\":false,\"CPA\":false,\"FS\":fals...  CORPORATION   \n",
              "18  {\"LIFT\":true,\"GYM\":true,\"INTERNET\":true,\"AC\":f...  CORPORATION   \n",
              "19  {\"LIFT\":true,\"GYM\":false,\"INTERNET\":true,\"AC\":...  CORPORATION   \n",
              "\n",
              "    building_type  balconies   rent  \n",
              "0              AP          2  40000  \n",
              "1              AP          2  22000  \n",
              "2              AP          3  28000  \n",
              "3              IH          0   8000  \n",
              "4              IH          1  45000  \n",
              "5              AP          2  18000  \n",
              "6              AP          3  32000  \n",
              "7              IH          0  22000  \n",
              "8              IH          0  10000  \n",
              "9              AP          2  19500  \n",
              "10             IF          1  12500  \n",
              "11             AP          2  32000  \n",
              "12             AP          1  11000  \n",
              "13             AP          2  32500  \n",
              "14             IH          0  12000  \n",
              "15             IF          1  15000  \n",
              "16             IH          2  18500  \n",
              "17             IF          1  21000  \n",
              "18             AP          2  22000  \n",
              "19             AP          3  24000  \n",
              "\n",
              "[20 rows x 25 columns]"
            ],
            "text/html": [
              "\n",
              "  <div id=\"df-cd3aaa29-cdb0-43b9-9309-2a572664fbff\">\n",
              "    <div class=\"colab-df-container\">\n",
              "      <div>\n",
              "<style scoped>\n",
              "    .dataframe tbody tr th:only-of-type {\n",
              "        vertical-align: middle;\n",
              "    }\n",
              "\n",
              "    .dataframe tbody tr th {\n",
              "        vertical-align: top;\n",
              "    }\n",
              "\n",
              "    .dataframe thead th {\n",
              "        text-align: right;\n",
              "    }\n",
              "</style>\n",
              "<table border=\"1\" class=\"dataframe\">\n",
              "  <thead>\n",
              "    <tr style=\"text-align: right;\">\n",
              "      <th></th>\n",
              "      <th>id</th>\n",
              "      <th>type</th>\n",
              "      <th>locality</th>\n",
              "      <th>activation_date</th>\n",
              "      <th>latitude</th>\n",
              "      <th>longitude</th>\n",
              "      <th>lease_type</th>\n",
              "      <th>gym</th>\n",
              "      <th>lift</th>\n",
              "      <th>swimming_pool</th>\n",
              "      <th>...</th>\n",
              "      <th>bathroom</th>\n",
              "      <th>facing</th>\n",
              "      <th>cup_board</th>\n",
              "      <th>floor</th>\n",
              "      <th>total_floor</th>\n",
              "      <th>amenities</th>\n",
              "      <th>water_supply</th>\n",
              "      <th>building_type</th>\n",
              "      <th>balconies</th>\n",
              "      <th>rent</th>\n",
              "    </tr>\n",
              "  </thead>\n",
              "  <tbody>\n",
              "    <tr>\n",
              "      <th>0</th>\n",
              "      <td>ff8081815733a243015733b2876600a6</td>\n",
              "      <td>BHK2</td>\n",
              "      <td>Cauvery Colony,Koramangala</td>\n",
              "      <td>21-04-2018 14:44</td>\n",
              "      <td>12.934471</td>\n",
              "      <td>77.634471</td>\n",
              "      <td>FAMILY</td>\n",
              "      <td>1</td>\n",
              "      <td>1</td>\n",
              "      <td>1</td>\n",
              "      <td>...</td>\n",
              "      <td>2</td>\n",
              "      <td>E</td>\n",
              "      <td>2</td>\n",
              "      <td>6</td>\n",
              "      <td>12</td>\n",
              "      <td>{\"LIFT\":true,\"GYM\":true,\"INTERNET\":true,\"AC\":f...</td>\n",
              "      <td>CORP_BORE</td>\n",
              "      <td>AP</td>\n",
              "      <td>2</td>\n",
              "      <td>40000</td>\n",
              "    </tr>\n",
              "    <tr>\n",
              "      <th>1</th>\n",
              "      <td>ff8081815ee25e15015ee50004da2acd</td>\n",
              "      <td>BHK2</td>\n",
              "      <td>Bellandur</td>\n",
              "      <td>09-10-2017 12:48</td>\n",
              "      <td>12.929557</td>\n",
              "      <td>77.672280</td>\n",
              "      <td>ANYONE</td>\n",
              "      <td>0</td>\n",
              "      <td>1</td>\n",
              "      <td>0</td>\n",
              "      <td>...</td>\n",
              "      <td>2</td>\n",
              "      <td>NE</td>\n",
              "      <td>2</td>\n",
              "      <td>3</td>\n",
              "      <td>4</td>\n",
              "      <td>{\"LIFT\":true,\"GYM\":false,\"INTERNET\":false,\"AC\"...</td>\n",
              "      <td>CORPORATION</td>\n",
              "      <td>AP</td>\n",
              "      <td>2</td>\n",
              "      <td>22000</td>\n",
              "    </tr>\n",
              "    <tr>\n",
              "      <th>2</th>\n",
              "      <td>ff80818163f29c9e0163f46770b873e7</td>\n",
              "      <td>BHK3</td>\n",
              "      <td>Thiruvanmiyur</td>\n",
              "      <td>12-06-2018 22:02</td>\n",
              "      <td>12.982870</td>\n",
              "      <td>80.262012</td>\n",
              "      <td>FAMILY</td>\n",
              "      <td>0</td>\n",
              "      <td>1</td>\n",
              "      <td>0</td>\n",
              "      <td>...</td>\n",
              "      <td>3</td>\n",
              "      <td>E</td>\n",
              "      <td>3</td>\n",
              "      <td>1</td>\n",
              "      <td>5</td>\n",
              "      <td>{\"LIFT\":true,\"GYM\":false,\"INTERNET\":false,\"AC\"...</td>\n",
              "      <td>CORP_BORE</td>\n",
              "      <td>AP</td>\n",
              "      <td>3</td>\n",
              "      <td>28000</td>\n",
              "    </tr>\n",
              "    <tr>\n",
              "      <th>3</th>\n",
              "      <td>ff80818164b68a700164b74b1b247a1d</td>\n",
              "      <td>BHK1</td>\n",
              "      <td>Attiguppe</td>\n",
              "      <td>20-07-2018 16:22</td>\n",
              "      <td>12.955991</td>\n",
              "      <td>77.531634</td>\n",
              "      <td>FAMILY</td>\n",
              "      <td>0</td>\n",
              "      <td>0</td>\n",
              "      <td>0</td>\n",
              "      <td>...</td>\n",
              "      <td>1</td>\n",
              "      <td>E</td>\n",
              "      <td>1</td>\n",
              "      <td>1</td>\n",
              "      <td>2</td>\n",
              "      <td>{\"LIFT\":false,\"GYM\":false,\"INTERNET\":false,\"AC...</td>\n",
              "      <td>CORPORATION</td>\n",
              "      <td>IH</td>\n",
              "      <td>0</td>\n",
              "      <td>8000</td>\n",
              "    </tr>\n",
              "    <tr>\n",
              "      <th>4</th>\n",
              "      <td>ff80818163b1faf00163b4b9b8a163b1</td>\n",
              "      <td>BHK3</td>\n",
              "      <td>Kodihalli</td>\n",
              "      <td>31-05-2018 17:41</td>\n",
              "      <td>12.963903</td>\n",
              "      <td>77.649446</td>\n",
              "      <td>FAMILY</td>\n",
              "      <td>0</td>\n",
              "      <td>0</td>\n",
              "      <td>0</td>\n",
              "      <td>...</td>\n",
              "      <td>3</td>\n",
              "      <td>E</td>\n",
              "      <td>4</td>\n",
              "      <td>0</td>\n",
              "      <td>0</td>\n",
              "      <td>{\"LIFT\":false,\"GYM\":false,\"INTERNET\":false,\"AC...</td>\n",
              "      <td>CORPORATION</td>\n",
              "      <td>IH</td>\n",
              "      <td>1</td>\n",
              "      <td>45000</td>\n",
              "    </tr>\n",
              "    <tr>\n",
              "      <th>5</th>\n",
              "      <td>ff8081815f48e4aa015f4dd1a9c6696b</td>\n",
              "      <td>BHK1</td>\n",
              "      <td>Seetharampalya,Hoodi</td>\n",
              "      <td>24-10-2017 18:29</td>\n",
              "      <td>12.986196</td>\n",
              "      <td>77.718314</td>\n",
              "      <td>FAMILY</td>\n",
              "      <td>1</td>\n",
              "      <td>1</td>\n",
              "      <td>1</td>\n",
              "      <td>...</td>\n",
              "      <td>2</td>\n",
              "      <td>E</td>\n",
              "      <td>1</td>\n",
              "      <td>3</td>\n",
              "      <td>5</td>\n",
              "      <td>{\"LIFT\":true,\"GYM\":true,\"INTERNET\":false,\"AC\":...</td>\n",
              "      <td>CORP_BORE</td>\n",
              "      <td>AP</td>\n",
              "      <td>2</td>\n",
              "      <td>18000</td>\n",
              "    </tr>\n",
              "    <tr>\n",
              "      <th>6</th>\n",
              "      <td>ff808181647d728001647e3cd0ed458d</td>\n",
              "      <td>BHK3</td>\n",
              "      <td>Narayanappa Garden,Whitefield</td>\n",
              "      <td>12-07-2018 20:29</td>\n",
              "      <td>12.967144</td>\n",
              "      <td>77.750662</td>\n",
              "      <td>ANYONE</td>\n",
              "      <td>1</td>\n",
              "      <td>1</td>\n",
              "      <td>1</td>\n",
              "      <td>...</td>\n",
              "      <td>3</td>\n",
              "      <td>NE</td>\n",
              "      <td>5</td>\n",
              "      <td>3</td>\n",
              "      <td>9</td>\n",
              "      <td>{\"LIFT\":true,\"GYM\":true,\"INTERNET\":true,\"AC\":t...</td>\n",
              "      <td>CORPORATION</td>\n",
              "      <td>AP</td>\n",
              "      <td>3</td>\n",
              "      <td>32000</td>\n",
              "    </tr>\n",
              "    <tr>\n",
              "      <th>7</th>\n",
              "      <td>ff80818164e9cd1b0164ea07d09114b7</td>\n",
              "      <td>BHK2</td>\n",
              "      <td>HSR Layout 5th Sector</td>\n",
              "      <td>30-07-2018 16:01</td>\n",
              "      <td>12.917414</td>\n",
              "      <td>77.631764</td>\n",
              "      <td>ANYONE</td>\n",
              "      <td>0</td>\n",
              "      <td>0</td>\n",
              "      <td>0</td>\n",
              "      <td>...</td>\n",
              "      <td>2</td>\n",
              "      <td>S</td>\n",
              "      <td>2</td>\n",
              "      <td>0</td>\n",
              "      <td>2</td>\n",
              "      <td>{\"LIFT\":false,\"GYM\":false,\"INTERNET\":false,\"AC...</td>\n",
              "      <td>CORP_BORE</td>\n",
              "      <td>IH</td>\n",
              "      <td>0</td>\n",
              "      <td>22000</td>\n",
              "    </tr>\n",
              "    <tr>\n",
              "      <th>8</th>\n",
              "      <td>ff808181624e0deb01624e6b3426131c</td>\n",
              "      <td>BHK2</td>\n",
              "      <td>Banashankari</td>\n",
              "      <td>26-03-2018 14:11</td>\n",
              "      <td>12.923301</td>\n",
              "      <td>77.556324</td>\n",
              "      <td>ANYONE</td>\n",
              "      <td>0</td>\n",
              "      <td>0</td>\n",
              "      <td>0</td>\n",
              "      <td>...</td>\n",
              "      <td>2</td>\n",
              "      <td>S</td>\n",
              "      <td>2</td>\n",
              "      <td>0</td>\n",
              "      <td>1</td>\n",
              "      <td>{\"LIFT\":false,\"GYM\":false,\"INTERNET\":true,\"AC\"...</td>\n",
              "      <td>CORPORATION</td>\n",
              "      <td>IH</td>\n",
              "      <td>0</td>\n",
              "      <td>10000</td>\n",
              "    </tr>\n",
              "    <tr>\n",
              "      <th>9</th>\n",
              "      <td>ff808181620eb61601620f1b79a42734</td>\n",
              "      <td>BHK2</td>\n",
              "      <td>Whitefield</td>\n",
              "      <td>10-03-2018 17:17</td>\n",
              "      <td>12.972697</td>\n",
              "      <td>77.751880</td>\n",
              "      <td>ANYONE</td>\n",
              "      <td>1</td>\n",
              "      <td>1</td>\n",
              "      <td>0</td>\n",
              "      <td>...</td>\n",
              "      <td>2</td>\n",
              "      <td>E</td>\n",
              "      <td>4</td>\n",
              "      <td>2</td>\n",
              "      <td>4</td>\n",
              "      <td>{\"LIFT\":true,\"GYM\":true,\"INTERNET\":true,\"AC\":f...</td>\n",
              "      <td>CORP_BORE</td>\n",
              "      <td>AP</td>\n",
              "      <td>2</td>\n",
              "      <td>19500</td>\n",
              "    </tr>\n",
              "    <tr>\n",
              "      <th>10</th>\n",
              "      <td>ff8081815c116660015c119a34fd0829</td>\n",
              "      <td>BHK2</td>\n",
              "      <td>RR Nagar</td>\n",
              "      <td>11-07-2017 14:58</td>\n",
              "      <td>12.912039</td>\n",
              "      <td>77.510950</td>\n",
              "      <td>FAMILY</td>\n",
              "      <td>0</td>\n",
              "      <td>0</td>\n",
              "      <td>0</td>\n",
              "      <td>...</td>\n",
              "      <td>2</td>\n",
              "      <td>E</td>\n",
              "      <td>4</td>\n",
              "      <td>1</td>\n",
              "      <td>2</td>\n",
              "      <td>{\"AC\":false,\"CLUB\":false,\"CPA\":false,\"FS\":fals...</td>\n",
              "      <td>CORPORATION</td>\n",
              "      <td>IF</td>\n",
              "      <td>1</td>\n",
              "      <td>12500</td>\n",
              "    </tr>\n",
              "    <tr>\n",
              "      <th>11</th>\n",
              "      <td>ff8081815f887e60015f8b497ac62da0</td>\n",
              "      <td>BHK2</td>\n",
              "      <td>ITPL Residential Flats</td>\n",
              "      <td>05-11-2017 16:14</td>\n",
              "      <td>12.986175</td>\n",
              "      <td>77.735956</td>\n",
              "      <td>ANYONE</td>\n",
              "      <td>1</td>\n",
              "      <td>1</td>\n",
              "      <td>0</td>\n",
              "      <td>...</td>\n",
              "      <td>2</td>\n",
              "      <td>N</td>\n",
              "      <td>2</td>\n",
              "      <td>1</td>\n",
              "      <td>4</td>\n",
              "      <td>{\"LIFT\":true,\"GYM\":true,\"INTERNET\":true,\"AC\":f...</td>\n",
              "      <td>CORPORATION</td>\n",
              "      <td>AP</td>\n",
              "      <td>2</td>\n",
              "      <td>32000</td>\n",
              "    </tr>\n",
              "    <tr>\n",
              "      <th>12</th>\n",
              "      <td>ff8081815b3ce753015b3deabfae2e70</td>\n",
              "      <td>BHK2</td>\n",
              "      <td>Raja Rajeshwari Nagar</td>\n",
              "      <td>27-08-2017 16:55</td>\n",
              "      <td>12.925034</td>\n",
              "      <td>77.517115</td>\n",
              "      <td>ANYONE</td>\n",
              "      <td>0</td>\n",
              "      <td>1</td>\n",
              "      <td>0</td>\n",
              "      <td>...</td>\n",
              "      <td>2</td>\n",
              "      <td>E</td>\n",
              "      <td>2</td>\n",
              "      <td>1</td>\n",
              "      <td>4</td>\n",
              "      <td>{\"LIFT\":true,\"GYM\":false,\"INTERNET\":true,\"AC\":...</td>\n",
              "      <td>CORPORATION</td>\n",
              "      <td>AP</td>\n",
              "      <td>1</td>\n",
              "      <td>11000</td>\n",
              "    </tr>\n",
              "    <tr>\n",
              "      <th>13</th>\n",
              "      <td>ff8081815efff8db015f0097a4a946bf</td>\n",
              "      <td>BHK2</td>\n",
              "      <td>Prestige Shanthinikethan, Bengaluru, Karnataka...</td>\n",
              "      <td>09-10-2017 16:59</td>\n",
              "      <td>12.989002</td>\n",
              "      <td>77.727370</td>\n",
              "      <td>FAMILY</td>\n",
              "      <td>1</td>\n",
              "      <td>1</td>\n",
              "      <td>1</td>\n",
              "      <td>...</td>\n",
              "      <td>2</td>\n",
              "      <td>E</td>\n",
              "      <td>2</td>\n",
              "      <td>11</td>\n",
              "      <td>14</td>\n",
              "      <td>{\"LIFT\":true,\"GYM\":true,\"INTERNET\":true,\"AC\":f...</td>\n",
              "      <td>CORP_BORE</td>\n",
              "      <td>AP</td>\n",
              "      <td>2</td>\n",
              "      <td>32500</td>\n",
              "    </tr>\n",
              "    <tr>\n",
              "      <th>14</th>\n",
              "      <td>ff808181645efb5c01645f8463e227fd</td>\n",
              "      <td>BHK1</td>\n",
              "      <td>Murugeshpalya</td>\n",
              "      <td>05-07-2018 15:18</td>\n",
              "      <td>12.954775</td>\n",
              "      <td>77.650037</td>\n",
              "      <td>BACHELOR</td>\n",
              "      <td>0</td>\n",
              "      <td>0</td>\n",
              "      <td>0</td>\n",
              "      <td>...</td>\n",
              "      <td>1</td>\n",
              "      <td>E</td>\n",
              "      <td>1</td>\n",
              "      <td>2</td>\n",
              "      <td>2</td>\n",
              "      <td>{\"LIFT\":false,\"GYM\":false,\"INTERNET\":true,\"AC\"...</td>\n",
              "      <td>CORPORATION</td>\n",
              "      <td>IH</td>\n",
              "      <td>0</td>\n",
              "      <td>12000</td>\n",
              "    </tr>\n",
              "    <tr>\n",
              "      <th>15</th>\n",
              "      <td>ff808181620eb34b0162133b0dbe5f16</td>\n",
              "      <td>BHK2</td>\n",
              "      <td>Sheshadripuram</td>\n",
              "      <td>11-03-2018 15:39</td>\n",
              "      <td>12.986517</td>\n",
              "      <td>77.574781</td>\n",
              "      <td>FAMILY</td>\n",
              "      <td>0</td>\n",
              "      <td>0</td>\n",
              "      <td>0</td>\n",
              "      <td>...</td>\n",
              "      <td>1</td>\n",
              "      <td>E</td>\n",
              "      <td>0</td>\n",
              "      <td>1</td>\n",
              "      <td>3</td>\n",
              "      <td>{\"LIFT\":false,\"GYM\":false,\"INTERNET\":true,\"AC\"...</td>\n",
              "      <td>CORP_BORE</td>\n",
              "      <td>IF</td>\n",
              "      <td>1</td>\n",
              "      <td>15000</td>\n",
              "    </tr>\n",
              "    <tr>\n",
              "      <th>16</th>\n",
              "      <td>ff8081816483b0ba01648479cec8103a</td>\n",
              "      <td>BHK3</td>\n",
              "      <td>Cox Town</td>\n",
              "      <td>15-07-2018 17:08</td>\n",
              "      <td>12.998526</td>\n",
              "      <td>77.631007</td>\n",
              "      <td>FAMILY</td>\n",
              "      <td>0</td>\n",
              "      <td>0</td>\n",
              "      <td>0</td>\n",
              "      <td>...</td>\n",
              "      <td>2</td>\n",
              "      <td>E</td>\n",
              "      <td>2</td>\n",
              "      <td>1</td>\n",
              "      <td>3</td>\n",
              "      <td>{\"LIFT\":false,\"GYM\":false,\"INTERNET\":false,\"AC...</td>\n",
              "      <td>CORPORATION</td>\n",
              "      <td>IH</td>\n",
              "      <td>2</td>\n",
              "      <td>18500</td>\n",
              "    </tr>\n",
              "    <tr>\n",
              "      <th>17</th>\n",
              "      <td>ff8081815d851c3f015d8d3a9b3e5361</td>\n",
              "      <td>BHK3</td>\n",
              "      <td>BTM 2nd Stage</td>\n",
              "      <td>14-08-2017 12:02</td>\n",
              "      <td>12.908240</td>\n",
              "      <td>77.607409</td>\n",
              "      <td>ANYONE</td>\n",
              "      <td>0</td>\n",
              "      <td>0</td>\n",
              "      <td>0</td>\n",
              "      <td>...</td>\n",
              "      <td>2</td>\n",
              "      <td>E</td>\n",
              "      <td>0</td>\n",
              "      <td>1</td>\n",
              "      <td>2</td>\n",
              "      <td>{\"AC\":false,\"CLUB\":false,\"CPA\":false,\"FS\":fals...</td>\n",
              "      <td>CORPORATION</td>\n",
              "      <td>IF</td>\n",
              "      <td>1</td>\n",
              "      <td>21000</td>\n",
              "    </tr>\n",
              "    <tr>\n",
              "      <th>18</th>\n",
              "      <td>ff8081816058ce47016058d4e68f0308</td>\n",
              "      <td>BHK2</td>\n",
              "      <td>Chikkakannalli</td>\n",
              "      <td>15-12-2017 14:53</td>\n",
              "      <td>12.900570</td>\n",
              "      <td>77.707885</td>\n",
              "      <td>FAMILY</td>\n",
              "      <td>0</td>\n",
              "      <td>0</td>\n",
              "      <td>0</td>\n",
              "      <td>...</td>\n",
              "      <td>2</td>\n",
              "      <td>SE</td>\n",
              "      <td>2</td>\n",
              "      <td>4</td>\n",
              "      <td>15</td>\n",
              "      <td>{\"LIFT\":true,\"GYM\":true,\"INTERNET\":true,\"AC\":f...</td>\n",
              "      <td>CORPORATION</td>\n",
              "      <td>AP</td>\n",
              "      <td>2</td>\n",
              "      <td>22000</td>\n",
              "    </tr>\n",
              "    <tr>\n",
              "      <th>19</th>\n",
              "      <td>ff80818163dffb5f0163e00d3cdd0429</td>\n",
              "      <td>BHK2</td>\n",
              "      <td>agara</td>\n",
              "      <td>08-06-2018 21:28</td>\n",
              "      <td>12.924363</td>\n",
              "      <td>77.653267</td>\n",
              "      <td>ANYONE</td>\n",
              "      <td>0</td>\n",
              "      <td>1</td>\n",
              "      <td>0</td>\n",
              "      <td>...</td>\n",
              "      <td>2</td>\n",
              "      <td>E</td>\n",
              "      <td>2</td>\n",
              "      <td>0</td>\n",
              "      <td>4</td>\n",
              "      <td>{\"LIFT\":true,\"GYM\":false,\"INTERNET\":true,\"AC\":...</td>\n",
              "      <td>CORPORATION</td>\n",
              "      <td>AP</td>\n",
              "      <td>3</td>\n",
              "      <td>24000</td>\n",
              "    </tr>\n",
              "  </tbody>\n",
              "</table>\n",
              "<p>20 rows × 25 columns</p>\n",
              "</div>\n",
              "      <button class=\"colab-df-convert\" onclick=\"convertToInteractive('df-cd3aaa29-cdb0-43b9-9309-2a572664fbff')\"\n",
              "              title=\"Convert this dataframe to an interactive table.\"\n",
              "              style=\"display:none;\">\n",
              "        \n",
              "  <svg xmlns=\"http://www.w3.org/2000/svg\" height=\"24px\"viewBox=\"0 0 24 24\"\n",
              "       width=\"24px\">\n",
              "    <path d=\"M0 0h24v24H0V0z\" fill=\"none\"/>\n",
              "    <path d=\"M18.56 5.44l.94 2.06.94-2.06 2.06-.94-2.06-.94-.94-2.06-.94 2.06-2.06.94zm-11 1L8.5 8.5l.94-2.06 2.06-.94-2.06-.94L8.5 2.5l-.94 2.06-2.06.94zm10 10l.94 2.06.94-2.06 2.06-.94-2.06-.94-.94-2.06-.94 2.06-2.06.94z\"/><path d=\"M17.41 7.96l-1.37-1.37c-.4-.4-.92-.59-1.43-.59-.52 0-1.04.2-1.43.59L10.3 9.45l-7.72 7.72c-.78.78-.78 2.05 0 2.83L4 21.41c.39.39.9.59 1.41.59.51 0 1.02-.2 1.41-.59l7.78-7.78 2.81-2.81c.8-.78.8-2.07 0-2.86zM5.41 20L4 18.59l7.72-7.72 1.47 1.35L5.41 20z\"/>\n",
              "  </svg>\n",
              "      </button>\n",
              "      \n",
              "  <style>\n",
              "    .colab-df-container {\n",
              "      display:flex;\n",
              "      flex-wrap:wrap;\n",
              "      gap: 12px;\n",
              "    }\n",
              "\n",
              "    .colab-df-convert {\n",
              "      background-color: #E8F0FE;\n",
              "      border: none;\n",
              "      border-radius: 50%;\n",
              "      cursor: pointer;\n",
              "      display: none;\n",
              "      fill: #1967D2;\n",
              "      height: 32px;\n",
              "      padding: 0 0 0 0;\n",
              "      width: 32px;\n",
              "    }\n",
              "\n",
              "    .colab-df-convert:hover {\n",
              "      background-color: #E2EBFA;\n",
              "      box-shadow: 0px 1px 2px rgba(60, 64, 67, 0.3), 0px 1px 3px 1px rgba(60, 64, 67, 0.15);\n",
              "      fill: #174EA6;\n",
              "    }\n",
              "\n",
              "    [theme=dark] .colab-df-convert {\n",
              "      background-color: #3B4455;\n",
              "      fill: #D2E3FC;\n",
              "    }\n",
              "\n",
              "    [theme=dark] .colab-df-convert:hover {\n",
              "      background-color: #434B5C;\n",
              "      box-shadow: 0px 1px 3px 1px rgba(0, 0, 0, 0.15);\n",
              "      filter: drop-shadow(0px 1px 2px rgba(0, 0, 0, 0.3));\n",
              "      fill: #FFFFFF;\n",
              "    }\n",
              "  </style>\n",
              "\n",
              "      <script>\n",
              "        const buttonEl =\n",
              "          document.querySelector('#df-cd3aaa29-cdb0-43b9-9309-2a572664fbff button.colab-df-convert');\n",
              "        buttonEl.style.display =\n",
              "          google.colab.kernel.accessAllowed ? 'block' : 'none';\n",
              "\n",
              "        async function convertToInteractive(key) {\n",
              "          const element = document.querySelector('#df-cd3aaa29-cdb0-43b9-9309-2a572664fbff');\n",
              "          const dataTable =\n",
              "            await google.colab.kernel.invokeFunction('convertToInteractive',\n",
              "                                                     [key], {});\n",
              "          if (!dataTable) return;\n",
              "\n",
              "          const docLinkHtml = 'Like what you see? Visit the ' +\n",
              "            '<a target=\"_blank\" href=https://colab.research.google.com/notebooks/data_table.ipynb>data table notebook</a>'\n",
              "            + ' to learn more about interactive tables.';\n",
              "          element.innerHTML = '';\n",
              "          dataTable['output_type'] = 'display_data';\n",
              "          await google.colab.output.renderOutput(dataTable, element);\n",
              "          const docLink = document.createElement('div');\n",
              "          docLink.innerHTML = docLinkHtml;\n",
              "          element.appendChild(docLink);\n",
              "        }\n",
              "      </script>\n",
              "    </div>\n",
              "  </div>\n",
              "  "
            ]
          },
          "metadata": {},
          "execution_count": 11
        }
      ]
    },
    {
      "cell_type": "code",
      "source": [
        "amen=df['amenities'][0]"
      ],
      "metadata": {
        "id": "MbzSLPCdnI-Y"
      },
      "execution_count": 12,
      "outputs": []
    },
    {
      "cell_type": "code",
      "source": [
        "amen"
      ],
      "metadata": {
        "colab": {
          "base_uri": "https://localhost:8080/",
          "height": 53
        },
        "id": "JFGBB-mHna5L",
        "outputId": "73db3b49-a4a0-496e-adbd-a9eb880f9be3"
      },
      "execution_count": 13,
      "outputs": [
        {
          "output_type": "execute_result",
          "data": {
            "text/plain": [
              "'{\"LIFT\":true,\"GYM\":true,\"INTERNET\":true,\"AC\":false,\"CLUB\":true,\"INTERCOM\":true,\"POOL\":true,\"CPA\":true,\"FS\":true,\"SERVANT\":false,\"SECURITY\":true,\"SC\":true,\"GP\":true,\"PARK\":false,\"RWH\":true,\"STP\":true,\"HK\":false,\"PB\":true,\"VP\":true}'"
            ],
            "application/vnd.google.colaboratory.intrinsic+json": {
              "type": "string"
            }
          },
          "metadata": {},
          "execution_count": 13
        }
      ]
    },
    {
      "cell_type": "code",
      "source": [
        "type(amen)"
      ],
      "metadata": {
        "colab": {
          "base_uri": "https://localhost:8080/"
        },
        "id": "eQBrKjR3nctX",
        "outputId": "db42ae88-a581-496a-ecbd-8a008c7446a3"
      },
      "execution_count": 14,
      "outputs": [
        {
          "output_type": "execute_result",
          "data": {
            "text/plain": [
              "str"
            ]
          },
          "metadata": {},
          "execution_count": 14
        }
      ]
    },
    {
      "cell_type": "code",
      "source": [
        "\n",
        "amen=amen.split(',')"
      ],
      "metadata": {
        "id": "-CYfxxH-ngVU"
      },
      "execution_count": 15,
      "outputs": []
    },
    {
      "cell_type": "code",
      "source": [
        "amen"
      ],
      "metadata": {
        "colab": {
          "base_uri": "https://localhost:8080/"
        },
        "id": "h32LcSpOnlyD",
        "outputId": "8d0134bb-6271-4f61-85db-d838f58b0566"
      },
      "execution_count": 16,
      "outputs": [
        {
          "output_type": "execute_result",
          "data": {
            "text/plain": [
              "['{\"LIFT\":true',\n",
              " '\"GYM\":true',\n",
              " '\"INTERNET\":true',\n",
              " '\"AC\":false',\n",
              " '\"CLUB\":true',\n",
              " '\"INTERCOM\":true',\n",
              " '\"POOL\":true',\n",
              " '\"CPA\":true',\n",
              " '\"FS\":true',\n",
              " '\"SERVANT\":false',\n",
              " '\"SECURITY\":true',\n",
              " '\"SC\":true',\n",
              " '\"GP\":true',\n",
              " '\"PARK\":false',\n",
              " '\"RWH\":true',\n",
              " '\"STP\":true',\n",
              " '\"HK\":false',\n",
              " '\"PB\":true',\n",
              " '\"VP\":true}']"
            ]
          },
          "metadata": {},
          "execution_count": 16
        }
      ]
    },
    {
      "cell_type": "code",
      "source": [
        "amen_fields=list()\n",
        "for i in amen:\n",
        "  # print(i)\n",
        "  a=(i.split(':'))\n",
        "  amen_fields.append(a[0])\n"
      ],
      "metadata": {
        "id": "IsJ92vGEn_ym"
      },
      "execution_count": 17,
      "outputs": []
    },
    {
      "cell_type": "code",
      "source": [
        "amen_fields[0]='\"LIFT\"'"
      ],
      "metadata": {
        "id": "k-vYqRUdnL6A"
      },
      "execution_count": 18,
      "outputs": []
    },
    {
      "cell_type": "code",
      "source": [
        "amen_fields"
      ],
      "metadata": {
        "colab": {
          "base_uri": "https://localhost:8080/"
        },
        "id": "sSTNTt_JpUDo",
        "outputId": "1c2da71f-c249-45ad-cc8f-66227b9fd5a9"
      },
      "execution_count": 19,
      "outputs": [
        {
          "output_type": "execute_result",
          "data": {
            "text/plain": [
              "['\"LIFT\"',\n",
              " '\"GYM\"',\n",
              " '\"INTERNET\"',\n",
              " '\"AC\"',\n",
              " '\"CLUB\"',\n",
              " '\"INTERCOM\"',\n",
              " '\"POOL\"',\n",
              " '\"CPA\"',\n",
              " '\"FS\"',\n",
              " '\"SERVANT\"',\n",
              " '\"SECURITY\"',\n",
              " '\"SC\"',\n",
              " '\"GP\"',\n",
              " '\"PARK\"',\n",
              " '\"RWH\"',\n",
              " '\"STP\"',\n",
              " '\"HK\"',\n",
              " '\"PB\"',\n",
              " '\"VP\"']"
            ]
          },
          "metadata": {},
          "execution_count": 19
        }
      ]
    },
    {
      "cell_type": "code",
      "source": [
        "amenities=list()\n",
        "for i in amen_fields:\n",
        "  x=i.replace('\"', \"\", 2)\n",
        "  amenities.append(x)"
      ],
      "metadata": {
        "id": "nFYugxl3rV5C"
      },
      "execution_count": 20,
      "outputs": []
    },
    {
      "cell_type": "code",
      "source": [
        "amenities"
      ],
      "metadata": {
        "colab": {
          "base_uri": "https://localhost:8080/"
        },
        "id": "tUTreZHvrt-5",
        "outputId": "1defa096-5c03-4aa4-90d5-c0e304902b8c"
      },
      "execution_count": 21,
      "outputs": [
        {
          "output_type": "execute_result",
          "data": {
            "text/plain": [
              "['LIFT',\n",
              " 'GYM',\n",
              " 'INTERNET',\n",
              " 'AC',\n",
              " 'CLUB',\n",
              " 'INTERCOM',\n",
              " 'POOL',\n",
              " 'CPA',\n",
              " 'FS',\n",
              " 'SERVANT',\n",
              " 'SECURITY',\n",
              " 'SC',\n",
              " 'GP',\n",
              " 'PARK',\n",
              " 'RWH',\n",
              " 'STP',\n",
              " 'HK',\n",
              " 'PB',\n",
              " 'VP']"
            ]
          },
          "metadata": {},
          "execution_count": 21
        }
      ]
    },
    {
      "cell_type": "code",
      "source": [
        "import numpy as np\n"
      ],
      "metadata": {
        "id": "4jSgnWnEw_ir"
      },
      "execution_count": 22,
      "outputs": []
    },
    {
      "cell_type": "code",
      "source": [
        "# print(distinct)\n",
        "x = np.array(df['building_type'].tolist())\n",
        "print(np.unique(x))"
      ],
      "metadata": {
        "colab": {
          "base_uri": "https://localhost:8080/"
        },
        "id": "taaGGMVKws9C",
        "outputId": "916c50b0-d232-44c8-d79b-65aec941faa6"
      },
      "execution_count": 23,
      "outputs": [
        {
          "output_type": "stream",
          "name": "stdout",
          "text": [
            "['AP' 'GC' 'IF' 'IH']\n"
          ]
        }
      ]
    },
    {
      "cell_type": "code",
      "source": [
        "build_dict={'IH':3,'IF':2,'AP':1,'GC':0}"
      ],
      "metadata": {
        "id": "5KFgGZbeIsM2"
      },
      "execution_count": 24,
      "outputs": []
    },
    {
      "cell_type": "code",
      "source": [
        "x = np.array(df['facing'].tolist())\n",
        "print(np.unique(x))"
      ],
      "metadata": {
        "colab": {
          "base_uri": "https://localhost:8080/"
        },
        "id": "WOZWqqNXxMbs",
        "outputId": "f1d90450-5c9e-4087-8349-322c312df43d"
      },
      "execution_count": 25,
      "outputs": [
        {
          "output_type": "stream",
          "name": "stdout",
          "text": [
            "['E' 'N' 'NE' 'NW' 'S' 'SE' 'SW' 'W']\n"
          ]
        }
      ]
    },
    {
      "cell_type": "code",
      "source": [
        "face_dict={'N':7,'E':6,'NE':5,'W':4,'NW':3,'SE':2,'SW':1,'S':0}"
      ],
      "metadata": {
        "id": "2u5Oxf-EScoy"
      },
      "execution_count": 26,
      "outputs": []
    },
    {
      "cell_type": "code",
      "source": [
        "x = np.array(df['negotiable'].tolist())\n",
        "print(np.unique(x))"
      ],
      "metadata": {
        "colab": {
          "base_uri": "https://localhost:8080/"
        },
        "id": "yXk49i7HxPLY",
        "outputId": "55d0c8b1-23b5-4fb2-a600-4ff99e7c6054"
      },
      "execution_count": 27,
      "outputs": [
        {
          "output_type": "stream",
          "name": "stdout",
          "text": [
            "[0 1]\n"
          ]
        }
      ]
    },
    {
      "cell_type": "code",
      "source": [
        "x = np.array(df['furnishing'].tolist())\n",
        "print(np.unique(x))"
      ],
      "metadata": {
        "colab": {
          "base_uri": "https://localhost:8080/"
        },
        "id": "7lLdhbO1xbhb",
        "outputId": "0dd364f6-2f36-4444-fb74-3403c724fd13"
      },
      "execution_count": 28,
      "outputs": [
        {
          "output_type": "stream",
          "name": "stdout",
          "text": [
            "['FULLY_FURNISHED' 'NOT_FURNISHED' 'SEMI_FURNISHED']\n"
          ]
        }
      ]
    },
    {
      "cell_type": "code",
      "source": [
        "furnish_dict={'FULLY_FURNISHED':2,'SEMI_FURNISHED':1,'NOT_FURNISHED':0}"
      ],
      "metadata": {
        "id": "HwuCUSmyIcX4"
      },
      "execution_count": 29,
      "outputs": []
    },
    {
      "cell_type": "code",
      "source": [
        "x = np.array(df['water_supply'].tolist())\n",
        "print(np.unique(x))"
      ],
      "metadata": {
        "colab": {
          "base_uri": "https://localhost:8080/"
        },
        "id": "0QggjzMexkTv",
        "outputId": "f6c47cdf-9de3-47a5-89d5-5d71c0d4027a"
      },
      "execution_count": 30,
      "outputs": [
        {
          "output_type": "stream",
          "name": "stdout",
          "text": [
            "['BOREWELL' 'CORPORATION' 'CORP_BORE']\n"
          ]
        }
      ]
    },
    {
      "cell_type": "code",
      "source": [
        "water_dict={'CORP_BORE':2,'CORPORATION':1,'BOREWELL':0}"
      ],
      "metadata": {
        "id": "LPjS4PfqIRHl"
      },
      "execution_count": 31,
      "outputs": []
    },
    {
      "cell_type": "code",
      "source": [
        "x = np.array(df['type'].tolist())\n",
        "print(np.unique(x))"
      ],
      "metadata": {
        "colab": {
          "base_uri": "https://localhost:8080/"
        },
        "id": "8cb6j__k0Xw7",
        "outputId": "30f46c80-d76e-439c-cec4-aac420a4a8b2"
      },
      "execution_count": 32,
      "outputs": [
        {
          "output_type": "stream",
          "name": "stdout",
          "text": [
            "['BHK1' 'BHK2' 'BHK3' 'BHK4' 'BHK4PLUS' 'RK1']\n"
          ]
        }
      ]
    },
    {
      "cell_type": "code",
      "source": [
        "type_dict={'BHK4PLUS':5,'BHK4':4,'BHK3':2,'BHK2':2,'BHK1':1,'RK1':0}"
      ],
      "metadata": {
        "id": "mLedLB1dIAWz"
      },
      "execution_count": 33,
      "outputs": []
    },
    {
      "cell_type": "code",
      "source": [
        "x = np.array(df['parking'].tolist())\n",
        "print(np.unique(x))"
      ],
      "metadata": {
        "colab": {
          "base_uri": "https://localhost:8080/"
        },
        "id": "Nhz3DQByJHVw",
        "outputId": "0547e9ec-9610-4a06-aeb1-2a4531c97907"
      },
      "execution_count": 34,
      "outputs": [
        {
          "output_type": "stream",
          "name": "stdout",
          "text": [
            "['BOTH' 'FOUR_WHEELER' 'NONE' 'TWO_WHEELER']\n"
          ]
        }
      ]
    },
    {
      "cell_type": "code",
      "source": [
        "park_dict={'BOTH':3,'FOUR_WHEELER':2,'TWO_WHEELER':1,'NONE':0}"
      ],
      "metadata": {
        "id": "8SsRl0sqJKZ3"
      },
      "execution_count": 35,
      "outputs": []
    },
    {
      "cell_type": "code",
      "source": [
        "need_cols1=['id',\n",
        " 'type',\n",
        " 'gym',\n",
        " 'lift',\n",
        " 'swimming_pool',\n",
        " 'negotiable',\n",
        " 'furnishing',\n",
        " 'parking',\n",
        " 'property_size',\n",
        " 'property_age',\n",
        " 'bathroom',\n",
        " 'facing',\n",
        " 'cup_board',\n",
        " 'floor',\n",
        " 'total_floor',\n",
        " 'water_supply',\n",
        " 'building_type',\n",
        " 'balconies',\n",
        " 'rent']\n"
      ],
      "metadata": {
        "id": "ftfoMdvxr-Fy"
      },
      "execution_count": 36,
      "outputs": []
    },
    {
      "cell_type": "code",
      "source": [
        "df1=pd.read_csv(train_dir, usecols=need_cols1)"
      ],
      "metadata": {
        "id": "hLmKRVU2wRzh"
      },
      "execution_count": 37,
      "outputs": []
    },
    {
      "cell_type": "code",
      "source": [
        "df1.head(10)"
      ],
      "metadata": {
        "colab": {
          "base_uri": "https://localhost:8080/",
          "height": 427
        },
        "id": "Vgfby5QK0Imz",
        "outputId": "fa364a99-5f2a-4602-c21b-1a1520ffd2d3"
      },
      "execution_count": 38,
      "outputs": [
        {
          "output_type": "execute_result",
          "data": {
            "text/plain": [
              "                                 id  type  gym  lift  swimming_pool  \\\n",
              "0  ff8081815733a243015733b2876600a6  BHK2    1     1              1   \n",
              "1  ff8081815ee25e15015ee50004da2acd  BHK2    0     1              0   \n",
              "2  ff80818163f29c9e0163f46770b873e7  BHK3    0     1              0   \n",
              "3  ff80818164b68a700164b74b1b247a1d  BHK1    0     0              0   \n",
              "4  ff80818163b1faf00163b4b9b8a163b1  BHK3    0     0              0   \n",
              "5  ff8081815f48e4aa015f4dd1a9c6696b  BHK1    1     1              1   \n",
              "6  ff808181647d728001647e3cd0ed458d  BHK3    1     1              1   \n",
              "7  ff80818164e9cd1b0164ea07d09114b7  BHK2    0     0              0   \n",
              "8  ff808181624e0deb01624e6b3426131c  BHK2    0     0              0   \n",
              "9  ff808181620eb61601620f1b79a42734  BHK2    1     1              0   \n",
              "\n",
              "   negotiable       furnishing      parking  property_size  property_age  \\\n",
              "0           0   SEMI_FURNISHED         BOTH           1250            25   \n",
              "1           1   SEMI_FURNISHED         BOTH           1400             4   \n",
              "2           0   SEMI_FURNISHED         BOTH           1350             6   \n",
              "3           1   SEMI_FURNISHED  TWO_WHEELER            600             3   \n",
              "4           1   SEMI_FURNISHED         BOTH           1500            15   \n",
              "5           1   SEMI_FURNISHED         BOTH           1080             0   \n",
              "6           1  FULLY_FURNISHED         BOTH           1895             5   \n",
              "7           1   SEMI_FURNISHED         BOTH           1000            10   \n",
              "8           0   SEMI_FURNISHED         NONE            900            10   \n",
              "9           1   SEMI_FURNISHED         BOTH           1290             4   \n",
              "\n",
              "   bathroom facing  cup_board  floor  total_floor water_supply building_type  \\\n",
              "0         2      E          2      6           12    CORP_BORE            AP   \n",
              "1         2     NE          2      3            4  CORPORATION            AP   \n",
              "2         3      E          3      1            5    CORP_BORE            AP   \n",
              "3         1      E          1      1            2  CORPORATION            IH   \n",
              "4         3      E          4      0            0  CORPORATION            IH   \n",
              "5         2      E          1      3            5    CORP_BORE            AP   \n",
              "6         3     NE          5      3            9  CORPORATION            AP   \n",
              "7         2      S          2      0            2    CORP_BORE            IH   \n",
              "8         2      S          2      0            1  CORPORATION            IH   \n",
              "9         2      E          4      2            4    CORP_BORE            AP   \n",
              "\n",
              "   balconies   rent  \n",
              "0          2  40000  \n",
              "1          2  22000  \n",
              "2          3  28000  \n",
              "3          0   8000  \n",
              "4          1  45000  \n",
              "5          2  18000  \n",
              "6          3  32000  \n",
              "7          0  22000  \n",
              "8          0  10000  \n",
              "9          2  19500  "
            ],
            "text/html": [
              "\n",
              "  <div id=\"df-77b67511-4c4d-459f-9d12-1d0c2ac1b865\">\n",
              "    <div class=\"colab-df-container\">\n",
              "      <div>\n",
              "<style scoped>\n",
              "    .dataframe tbody tr th:only-of-type {\n",
              "        vertical-align: middle;\n",
              "    }\n",
              "\n",
              "    .dataframe tbody tr th {\n",
              "        vertical-align: top;\n",
              "    }\n",
              "\n",
              "    .dataframe thead th {\n",
              "        text-align: right;\n",
              "    }\n",
              "</style>\n",
              "<table border=\"1\" class=\"dataframe\">\n",
              "  <thead>\n",
              "    <tr style=\"text-align: right;\">\n",
              "      <th></th>\n",
              "      <th>id</th>\n",
              "      <th>type</th>\n",
              "      <th>gym</th>\n",
              "      <th>lift</th>\n",
              "      <th>swimming_pool</th>\n",
              "      <th>negotiable</th>\n",
              "      <th>furnishing</th>\n",
              "      <th>parking</th>\n",
              "      <th>property_size</th>\n",
              "      <th>property_age</th>\n",
              "      <th>bathroom</th>\n",
              "      <th>facing</th>\n",
              "      <th>cup_board</th>\n",
              "      <th>floor</th>\n",
              "      <th>total_floor</th>\n",
              "      <th>water_supply</th>\n",
              "      <th>building_type</th>\n",
              "      <th>balconies</th>\n",
              "      <th>rent</th>\n",
              "    </tr>\n",
              "  </thead>\n",
              "  <tbody>\n",
              "    <tr>\n",
              "      <th>0</th>\n",
              "      <td>ff8081815733a243015733b2876600a6</td>\n",
              "      <td>BHK2</td>\n",
              "      <td>1</td>\n",
              "      <td>1</td>\n",
              "      <td>1</td>\n",
              "      <td>0</td>\n",
              "      <td>SEMI_FURNISHED</td>\n",
              "      <td>BOTH</td>\n",
              "      <td>1250</td>\n",
              "      <td>25</td>\n",
              "      <td>2</td>\n",
              "      <td>E</td>\n",
              "      <td>2</td>\n",
              "      <td>6</td>\n",
              "      <td>12</td>\n",
              "      <td>CORP_BORE</td>\n",
              "      <td>AP</td>\n",
              "      <td>2</td>\n",
              "      <td>40000</td>\n",
              "    </tr>\n",
              "    <tr>\n",
              "      <th>1</th>\n",
              "      <td>ff8081815ee25e15015ee50004da2acd</td>\n",
              "      <td>BHK2</td>\n",
              "      <td>0</td>\n",
              "      <td>1</td>\n",
              "      <td>0</td>\n",
              "      <td>1</td>\n",
              "      <td>SEMI_FURNISHED</td>\n",
              "      <td>BOTH</td>\n",
              "      <td>1400</td>\n",
              "      <td>4</td>\n",
              "      <td>2</td>\n",
              "      <td>NE</td>\n",
              "      <td>2</td>\n",
              "      <td>3</td>\n",
              "      <td>4</td>\n",
              "      <td>CORPORATION</td>\n",
              "      <td>AP</td>\n",
              "      <td>2</td>\n",
              "      <td>22000</td>\n",
              "    </tr>\n",
              "    <tr>\n",
              "      <th>2</th>\n",
              "      <td>ff80818163f29c9e0163f46770b873e7</td>\n",
              "      <td>BHK3</td>\n",
              "      <td>0</td>\n",
              "      <td>1</td>\n",
              "      <td>0</td>\n",
              "      <td>0</td>\n",
              "      <td>SEMI_FURNISHED</td>\n",
              "      <td>BOTH</td>\n",
              "      <td>1350</td>\n",
              "      <td>6</td>\n",
              "      <td>3</td>\n",
              "      <td>E</td>\n",
              "      <td>3</td>\n",
              "      <td>1</td>\n",
              "      <td>5</td>\n",
              "      <td>CORP_BORE</td>\n",
              "      <td>AP</td>\n",
              "      <td>3</td>\n",
              "      <td>28000</td>\n",
              "    </tr>\n",
              "    <tr>\n",
              "      <th>3</th>\n",
              "      <td>ff80818164b68a700164b74b1b247a1d</td>\n",
              "      <td>BHK1</td>\n",
              "      <td>0</td>\n",
              "      <td>0</td>\n",
              "      <td>0</td>\n",
              "      <td>1</td>\n",
              "      <td>SEMI_FURNISHED</td>\n",
              "      <td>TWO_WHEELER</td>\n",
              "      <td>600</td>\n",
              "      <td>3</td>\n",
              "      <td>1</td>\n",
              "      <td>E</td>\n",
              "      <td>1</td>\n",
              "      <td>1</td>\n",
              "      <td>2</td>\n",
              "      <td>CORPORATION</td>\n",
              "      <td>IH</td>\n",
              "      <td>0</td>\n",
              "      <td>8000</td>\n",
              "    </tr>\n",
              "    <tr>\n",
              "      <th>4</th>\n",
              "      <td>ff80818163b1faf00163b4b9b8a163b1</td>\n",
              "      <td>BHK3</td>\n",
              "      <td>0</td>\n",
              "      <td>0</td>\n",
              "      <td>0</td>\n",
              "      <td>1</td>\n",
              "      <td>SEMI_FURNISHED</td>\n",
              "      <td>BOTH</td>\n",
              "      <td>1500</td>\n",
              "      <td>15</td>\n",
              "      <td>3</td>\n",
              "      <td>E</td>\n",
              "      <td>4</td>\n",
              "      <td>0</td>\n",
              "      <td>0</td>\n",
              "      <td>CORPORATION</td>\n",
              "      <td>IH</td>\n",
              "      <td>1</td>\n",
              "      <td>45000</td>\n",
              "    </tr>\n",
              "    <tr>\n",
              "      <th>5</th>\n",
              "      <td>ff8081815f48e4aa015f4dd1a9c6696b</td>\n",
              "      <td>BHK1</td>\n",
              "      <td>1</td>\n",
              "      <td>1</td>\n",
              "      <td>1</td>\n",
              "      <td>1</td>\n",
              "      <td>SEMI_FURNISHED</td>\n",
              "      <td>BOTH</td>\n",
              "      <td>1080</td>\n",
              "      <td>0</td>\n",
              "      <td>2</td>\n",
              "      <td>E</td>\n",
              "      <td>1</td>\n",
              "      <td>3</td>\n",
              "      <td>5</td>\n",
              "      <td>CORP_BORE</td>\n",
              "      <td>AP</td>\n",
              "      <td>2</td>\n",
              "      <td>18000</td>\n",
              "    </tr>\n",
              "    <tr>\n",
              "      <th>6</th>\n",
              "      <td>ff808181647d728001647e3cd0ed458d</td>\n",
              "      <td>BHK3</td>\n",
              "      <td>1</td>\n",
              "      <td>1</td>\n",
              "      <td>1</td>\n",
              "      <td>1</td>\n",
              "      <td>FULLY_FURNISHED</td>\n",
              "      <td>BOTH</td>\n",
              "      <td>1895</td>\n",
              "      <td>5</td>\n",
              "      <td>3</td>\n",
              "      <td>NE</td>\n",
              "      <td>5</td>\n",
              "      <td>3</td>\n",
              "      <td>9</td>\n",
              "      <td>CORPORATION</td>\n",
              "      <td>AP</td>\n",
              "      <td>3</td>\n",
              "      <td>32000</td>\n",
              "    </tr>\n",
              "    <tr>\n",
              "      <th>7</th>\n",
              "      <td>ff80818164e9cd1b0164ea07d09114b7</td>\n",
              "      <td>BHK2</td>\n",
              "      <td>0</td>\n",
              "      <td>0</td>\n",
              "      <td>0</td>\n",
              "      <td>1</td>\n",
              "      <td>SEMI_FURNISHED</td>\n",
              "      <td>BOTH</td>\n",
              "      <td>1000</td>\n",
              "      <td>10</td>\n",
              "      <td>2</td>\n",
              "      <td>S</td>\n",
              "      <td>2</td>\n",
              "      <td>0</td>\n",
              "      <td>2</td>\n",
              "      <td>CORP_BORE</td>\n",
              "      <td>IH</td>\n",
              "      <td>0</td>\n",
              "      <td>22000</td>\n",
              "    </tr>\n",
              "    <tr>\n",
              "      <th>8</th>\n",
              "      <td>ff808181624e0deb01624e6b3426131c</td>\n",
              "      <td>BHK2</td>\n",
              "      <td>0</td>\n",
              "      <td>0</td>\n",
              "      <td>0</td>\n",
              "      <td>0</td>\n",
              "      <td>SEMI_FURNISHED</td>\n",
              "      <td>NONE</td>\n",
              "      <td>900</td>\n",
              "      <td>10</td>\n",
              "      <td>2</td>\n",
              "      <td>S</td>\n",
              "      <td>2</td>\n",
              "      <td>0</td>\n",
              "      <td>1</td>\n",
              "      <td>CORPORATION</td>\n",
              "      <td>IH</td>\n",
              "      <td>0</td>\n",
              "      <td>10000</td>\n",
              "    </tr>\n",
              "    <tr>\n",
              "      <th>9</th>\n",
              "      <td>ff808181620eb61601620f1b79a42734</td>\n",
              "      <td>BHK2</td>\n",
              "      <td>1</td>\n",
              "      <td>1</td>\n",
              "      <td>0</td>\n",
              "      <td>1</td>\n",
              "      <td>SEMI_FURNISHED</td>\n",
              "      <td>BOTH</td>\n",
              "      <td>1290</td>\n",
              "      <td>4</td>\n",
              "      <td>2</td>\n",
              "      <td>E</td>\n",
              "      <td>4</td>\n",
              "      <td>2</td>\n",
              "      <td>4</td>\n",
              "      <td>CORP_BORE</td>\n",
              "      <td>AP</td>\n",
              "      <td>2</td>\n",
              "      <td>19500</td>\n",
              "    </tr>\n",
              "  </tbody>\n",
              "</table>\n",
              "</div>\n",
              "      <button class=\"colab-df-convert\" onclick=\"convertToInteractive('df-77b67511-4c4d-459f-9d12-1d0c2ac1b865')\"\n",
              "              title=\"Convert this dataframe to an interactive table.\"\n",
              "              style=\"display:none;\">\n",
              "        \n",
              "  <svg xmlns=\"http://www.w3.org/2000/svg\" height=\"24px\"viewBox=\"0 0 24 24\"\n",
              "       width=\"24px\">\n",
              "    <path d=\"M0 0h24v24H0V0z\" fill=\"none\"/>\n",
              "    <path d=\"M18.56 5.44l.94 2.06.94-2.06 2.06-.94-2.06-.94-.94-2.06-.94 2.06-2.06.94zm-11 1L8.5 8.5l.94-2.06 2.06-.94-2.06-.94L8.5 2.5l-.94 2.06-2.06.94zm10 10l.94 2.06.94-2.06 2.06-.94-2.06-.94-.94-2.06-.94 2.06-2.06.94z\"/><path d=\"M17.41 7.96l-1.37-1.37c-.4-.4-.92-.59-1.43-.59-.52 0-1.04.2-1.43.59L10.3 9.45l-7.72 7.72c-.78.78-.78 2.05 0 2.83L4 21.41c.39.39.9.59 1.41.59.51 0 1.02-.2 1.41-.59l7.78-7.78 2.81-2.81c.8-.78.8-2.07 0-2.86zM5.41 20L4 18.59l7.72-7.72 1.47 1.35L5.41 20z\"/>\n",
              "  </svg>\n",
              "      </button>\n",
              "      \n",
              "  <style>\n",
              "    .colab-df-container {\n",
              "      display:flex;\n",
              "      flex-wrap:wrap;\n",
              "      gap: 12px;\n",
              "    }\n",
              "\n",
              "    .colab-df-convert {\n",
              "      background-color: #E8F0FE;\n",
              "      border: none;\n",
              "      border-radius: 50%;\n",
              "      cursor: pointer;\n",
              "      display: none;\n",
              "      fill: #1967D2;\n",
              "      height: 32px;\n",
              "      padding: 0 0 0 0;\n",
              "      width: 32px;\n",
              "    }\n",
              "\n",
              "    .colab-df-convert:hover {\n",
              "      background-color: #E2EBFA;\n",
              "      box-shadow: 0px 1px 2px rgba(60, 64, 67, 0.3), 0px 1px 3px 1px rgba(60, 64, 67, 0.15);\n",
              "      fill: #174EA6;\n",
              "    }\n",
              "\n",
              "    [theme=dark] .colab-df-convert {\n",
              "      background-color: #3B4455;\n",
              "      fill: #D2E3FC;\n",
              "    }\n",
              "\n",
              "    [theme=dark] .colab-df-convert:hover {\n",
              "      background-color: #434B5C;\n",
              "      box-shadow: 0px 1px 3px 1px rgba(0, 0, 0, 0.15);\n",
              "      filter: drop-shadow(0px 1px 2px rgba(0, 0, 0, 0.3));\n",
              "      fill: #FFFFFF;\n",
              "    }\n",
              "  </style>\n",
              "\n",
              "      <script>\n",
              "        const buttonEl =\n",
              "          document.querySelector('#df-77b67511-4c4d-459f-9d12-1d0c2ac1b865 button.colab-df-convert');\n",
              "        buttonEl.style.display =\n",
              "          google.colab.kernel.accessAllowed ? 'block' : 'none';\n",
              "\n",
              "        async function convertToInteractive(key) {\n",
              "          const element = document.querySelector('#df-77b67511-4c4d-459f-9d12-1d0c2ac1b865');\n",
              "          const dataTable =\n",
              "            await google.colab.kernel.invokeFunction('convertToInteractive',\n",
              "                                                     [key], {});\n",
              "          if (!dataTable) return;\n",
              "\n",
              "          const docLinkHtml = 'Like what you see? Visit the ' +\n",
              "            '<a target=\"_blank\" href=https://colab.research.google.com/notebooks/data_table.ipynb>data table notebook</a>'\n",
              "            + ' to learn more about interactive tables.';\n",
              "          element.innerHTML = '';\n",
              "          dataTable['output_type'] = 'display_data';\n",
              "          await google.colab.output.renderOutput(dataTable, element);\n",
              "          const docLink = document.createElement('div');\n",
              "          docLink.innerHTML = docLinkHtml;\n",
              "          element.appendChild(docLink);\n",
              "        }\n",
              "      </script>\n",
              "    </div>\n",
              "  </div>\n",
              "  "
            ]
          },
          "metadata": {},
          "execution_count": 38
        }
      ]
    },
    {
      "cell_type": "code",
      "source": [
        "df1.info()"
      ],
      "metadata": {
        "colab": {
          "base_uri": "https://localhost:8080/"
        },
        "id": "n6wdEFv30hvv",
        "outputId": "abdb15e4-c974-4278-8531-09e3a7fc607c"
      },
      "execution_count": 39,
      "outputs": [
        {
          "output_type": "stream",
          "name": "stdout",
          "text": [
            "<class 'pandas.core.frame.DataFrame'>\n",
            "RangeIndex: 20500 entries, 0 to 20499\n",
            "Data columns (total 19 columns):\n",
            " #   Column         Non-Null Count  Dtype \n",
            "---  ------         --------------  ----- \n",
            " 0   id             20500 non-null  object\n",
            " 1   type           20500 non-null  object\n",
            " 2   gym            20500 non-null  int64 \n",
            " 3   lift           20500 non-null  int64 \n",
            " 4   swimming_pool  20500 non-null  int64 \n",
            " 5   negotiable     20500 non-null  int64 \n",
            " 6   furnishing     20500 non-null  object\n",
            " 7   parking        20500 non-null  object\n",
            " 8   property_size  20500 non-null  int64 \n",
            " 9   property_age   20500 non-null  int64 \n",
            " 10  bathroom       20500 non-null  int64 \n",
            " 11  facing         20500 non-null  object\n",
            " 12  cup_board      20500 non-null  int64 \n",
            " 13  floor          20500 non-null  int64 \n",
            " 14  total_floor    20500 non-null  int64 \n",
            " 15  water_supply   20500 non-null  object\n",
            " 16  building_type  20500 non-null  object\n",
            " 17  balconies      20500 non-null  int64 \n",
            " 18  rent           20500 non-null  int64 \n",
            "dtypes: int64(12), object(7)\n",
            "memory usage: 3.0+ MB\n"
          ]
        }
      ]
    },
    {
      "cell_type": "code",
      "source": [
        "df1.describe()"
      ],
      "metadata": {
        "colab": {
          "base_uri": "https://localhost:8080/",
          "height": 364
        },
        "id": "g3BSINt10lGD",
        "outputId": "ab56450f-b685-4cb0-fdd2-d7a4d23fe6d1"
      },
      "execution_count": 40,
      "outputs": [
        {
          "output_type": "execute_result",
          "data": {
            "text/plain": [
              "                gym          lift  swimming_pool    negotiable  property_size  \\\n",
              "count  20500.000000  20500.000000   20500.000000  20500.000000   20500.000000   \n",
              "mean       0.226732      0.361463       0.174927      0.711512    1061.829463   \n",
              "std        0.418728      0.480436       0.379914      0.453070     591.419631   \n",
              "min        0.000000      0.000000       0.000000      0.000000       1.000000   \n",
              "25%        0.000000      0.000000       0.000000      0.000000     700.000000   \n",
              "50%        0.000000      0.000000       0.000000      1.000000    1047.000000   \n",
              "75%        0.000000      1.000000       0.000000      1.000000    1281.000000   \n",
              "max        1.000000      1.000000       1.000000      1.000000   50000.000000   \n",
              "\n",
              "       property_age      bathroom     cup_board         floor   total_floor  \\\n",
              "count  20500.000000  20500.000000  20500.000000  20500.000000  20500.000000   \n",
              "mean       5.770634      1.858146      4.553512      1.873561      3.801610   \n",
              "std        6.350271      0.710822    335.416267      2.184927      3.185748   \n",
              "min       -1.000000      1.000000      0.000000      0.000000      0.000000   \n",
              "25%        1.000000      1.000000      1.000000      1.000000      2.000000   \n",
              "50%        5.000000      2.000000      2.000000      1.000000      3.000000   \n",
              "75%       10.000000      2.000000      3.000000      2.000000      4.000000   \n",
              "max      400.000000     21.000000  48026.000000     25.000000     26.000000   \n",
              "\n",
              "          balconies          rent  \n",
              "count  20500.000000  20500.000000  \n",
              "mean       1.148976  19053.602195  \n",
              "std        0.993835   8433.949300  \n",
              "min        0.000000   8000.000000  \n",
              "25%        0.000000  12500.000000  \n",
              "50%        1.000000  17500.000000  \n",
              "75%        2.000000  24000.000000  \n",
              "max       13.000000  50000.000000  "
            ],
            "text/html": [
              "\n",
              "  <div id=\"df-bd6aa36e-090b-41b2-9172-69df1c4fc9ea\">\n",
              "    <div class=\"colab-df-container\">\n",
              "      <div>\n",
              "<style scoped>\n",
              "    .dataframe tbody tr th:only-of-type {\n",
              "        vertical-align: middle;\n",
              "    }\n",
              "\n",
              "    .dataframe tbody tr th {\n",
              "        vertical-align: top;\n",
              "    }\n",
              "\n",
              "    .dataframe thead th {\n",
              "        text-align: right;\n",
              "    }\n",
              "</style>\n",
              "<table border=\"1\" class=\"dataframe\">\n",
              "  <thead>\n",
              "    <tr style=\"text-align: right;\">\n",
              "      <th></th>\n",
              "      <th>gym</th>\n",
              "      <th>lift</th>\n",
              "      <th>swimming_pool</th>\n",
              "      <th>negotiable</th>\n",
              "      <th>property_size</th>\n",
              "      <th>property_age</th>\n",
              "      <th>bathroom</th>\n",
              "      <th>cup_board</th>\n",
              "      <th>floor</th>\n",
              "      <th>total_floor</th>\n",
              "      <th>balconies</th>\n",
              "      <th>rent</th>\n",
              "    </tr>\n",
              "  </thead>\n",
              "  <tbody>\n",
              "    <tr>\n",
              "      <th>count</th>\n",
              "      <td>20500.000000</td>\n",
              "      <td>20500.000000</td>\n",
              "      <td>20500.000000</td>\n",
              "      <td>20500.000000</td>\n",
              "      <td>20500.000000</td>\n",
              "      <td>20500.000000</td>\n",
              "      <td>20500.000000</td>\n",
              "      <td>20500.000000</td>\n",
              "      <td>20500.000000</td>\n",
              "      <td>20500.000000</td>\n",
              "      <td>20500.000000</td>\n",
              "      <td>20500.000000</td>\n",
              "    </tr>\n",
              "    <tr>\n",
              "      <th>mean</th>\n",
              "      <td>0.226732</td>\n",
              "      <td>0.361463</td>\n",
              "      <td>0.174927</td>\n",
              "      <td>0.711512</td>\n",
              "      <td>1061.829463</td>\n",
              "      <td>5.770634</td>\n",
              "      <td>1.858146</td>\n",
              "      <td>4.553512</td>\n",
              "      <td>1.873561</td>\n",
              "      <td>3.801610</td>\n",
              "      <td>1.148976</td>\n",
              "      <td>19053.602195</td>\n",
              "    </tr>\n",
              "    <tr>\n",
              "      <th>std</th>\n",
              "      <td>0.418728</td>\n",
              "      <td>0.480436</td>\n",
              "      <td>0.379914</td>\n",
              "      <td>0.453070</td>\n",
              "      <td>591.419631</td>\n",
              "      <td>6.350271</td>\n",
              "      <td>0.710822</td>\n",
              "      <td>335.416267</td>\n",
              "      <td>2.184927</td>\n",
              "      <td>3.185748</td>\n",
              "      <td>0.993835</td>\n",
              "      <td>8433.949300</td>\n",
              "    </tr>\n",
              "    <tr>\n",
              "      <th>min</th>\n",
              "      <td>0.000000</td>\n",
              "      <td>0.000000</td>\n",
              "      <td>0.000000</td>\n",
              "      <td>0.000000</td>\n",
              "      <td>1.000000</td>\n",
              "      <td>-1.000000</td>\n",
              "      <td>1.000000</td>\n",
              "      <td>0.000000</td>\n",
              "      <td>0.000000</td>\n",
              "      <td>0.000000</td>\n",
              "      <td>0.000000</td>\n",
              "      <td>8000.000000</td>\n",
              "    </tr>\n",
              "    <tr>\n",
              "      <th>25%</th>\n",
              "      <td>0.000000</td>\n",
              "      <td>0.000000</td>\n",
              "      <td>0.000000</td>\n",
              "      <td>0.000000</td>\n",
              "      <td>700.000000</td>\n",
              "      <td>1.000000</td>\n",
              "      <td>1.000000</td>\n",
              "      <td>1.000000</td>\n",
              "      <td>1.000000</td>\n",
              "      <td>2.000000</td>\n",
              "      <td>0.000000</td>\n",
              "      <td>12500.000000</td>\n",
              "    </tr>\n",
              "    <tr>\n",
              "      <th>50%</th>\n",
              "      <td>0.000000</td>\n",
              "      <td>0.000000</td>\n",
              "      <td>0.000000</td>\n",
              "      <td>1.000000</td>\n",
              "      <td>1047.000000</td>\n",
              "      <td>5.000000</td>\n",
              "      <td>2.000000</td>\n",
              "      <td>2.000000</td>\n",
              "      <td>1.000000</td>\n",
              "      <td>3.000000</td>\n",
              "      <td>1.000000</td>\n",
              "      <td>17500.000000</td>\n",
              "    </tr>\n",
              "    <tr>\n",
              "      <th>75%</th>\n",
              "      <td>0.000000</td>\n",
              "      <td>1.000000</td>\n",
              "      <td>0.000000</td>\n",
              "      <td>1.000000</td>\n",
              "      <td>1281.000000</td>\n",
              "      <td>10.000000</td>\n",
              "      <td>2.000000</td>\n",
              "      <td>3.000000</td>\n",
              "      <td>2.000000</td>\n",
              "      <td>4.000000</td>\n",
              "      <td>2.000000</td>\n",
              "      <td>24000.000000</td>\n",
              "    </tr>\n",
              "    <tr>\n",
              "      <th>max</th>\n",
              "      <td>1.000000</td>\n",
              "      <td>1.000000</td>\n",
              "      <td>1.000000</td>\n",
              "      <td>1.000000</td>\n",
              "      <td>50000.000000</td>\n",
              "      <td>400.000000</td>\n",
              "      <td>21.000000</td>\n",
              "      <td>48026.000000</td>\n",
              "      <td>25.000000</td>\n",
              "      <td>26.000000</td>\n",
              "      <td>13.000000</td>\n",
              "      <td>50000.000000</td>\n",
              "    </tr>\n",
              "  </tbody>\n",
              "</table>\n",
              "</div>\n",
              "      <button class=\"colab-df-convert\" onclick=\"convertToInteractive('df-bd6aa36e-090b-41b2-9172-69df1c4fc9ea')\"\n",
              "              title=\"Convert this dataframe to an interactive table.\"\n",
              "              style=\"display:none;\">\n",
              "        \n",
              "  <svg xmlns=\"http://www.w3.org/2000/svg\" height=\"24px\"viewBox=\"0 0 24 24\"\n",
              "       width=\"24px\">\n",
              "    <path d=\"M0 0h24v24H0V0z\" fill=\"none\"/>\n",
              "    <path d=\"M18.56 5.44l.94 2.06.94-2.06 2.06-.94-2.06-.94-.94-2.06-.94 2.06-2.06.94zm-11 1L8.5 8.5l.94-2.06 2.06-.94-2.06-.94L8.5 2.5l-.94 2.06-2.06.94zm10 10l.94 2.06.94-2.06 2.06-.94-2.06-.94-.94-2.06-.94 2.06-2.06.94z\"/><path d=\"M17.41 7.96l-1.37-1.37c-.4-.4-.92-.59-1.43-.59-.52 0-1.04.2-1.43.59L10.3 9.45l-7.72 7.72c-.78.78-.78 2.05 0 2.83L4 21.41c.39.39.9.59 1.41.59.51 0 1.02-.2 1.41-.59l7.78-7.78 2.81-2.81c.8-.78.8-2.07 0-2.86zM5.41 20L4 18.59l7.72-7.72 1.47 1.35L5.41 20z\"/>\n",
              "  </svg>\n",
              "      </button>\n",
              "      \n",
              "  <style>\n",
              "    .colab-df-container {\n",
              "      display:flex;\n",
              "      flex-wrap:wrap;\n",
              "      gap: 12px;\n",
              "    }\n",
              "\n",
              "    .colab-df-convert {\n",
              "      background-color: #E8F0FE;\n",
              "      border: none;\n",
              "      border-radius: 50%;\n",
              "      cursor: pointer;\n",
              "      display: none;\n",
              "      fill: #1967D2;\n",
              "      height: 32px;\n",
              "      padding: 0 0 0 0;\n",
              "      width: 32px;\n",
              "    }\n",
              "\n",
              "    .colab-df-convert:hover {\n",
              "      background-color: #E2EBFA;\n",
              "      box-shadow: 0px 1px 2px rgba(60, 64, 67, 0.3), 0px 1px 3px 1px rgba(60, 64, 67, 0.15);\n",
              "      fill: #174EA6;\n",
              "    }\n",
              "\n",
              "    [theme=dark] .colab-df-convert {\n",
              "      background-color: #3B4455;\n",
              "      fill: #D2E3FC;\n",
              "    }\n",
              "\n",
              "    [theme=dark] .colab-df-convert:hover {\n",
              "      background-color: #434B5C;\n",
              "      box-shadow: 0px 1px 3px 1px rgba(0, 0, 0, 0.15);\n",
              "      filter: drop-shadow(0px 1px 2px rgba(0, 0, 0, 0.3));\n",
              "      fill: #FFFFFF;\n",
              "    }\n",
              "  </style>\n",
              "\n",
              "      <script>\n",
              "        const buttonEl =\n",
              "          document.querySelector('#df-bd6aa36e-090b-41b2-9172-69df1c4fc9ea button.colab-df-convert');\n",
              "        buttonEl.style.display =\n",
              "          google.colab.kernel.accessAllowed ? 'block' : 'none';\n",
              "\n",
              "        async function convertToInteractive(key) {\n",
              "          const element = document.querySelector('#df-bd6aa36e-090b-41b2-9172-69df1c4fc9ea');\n",
              "          const dataTable =\n",
              "            await google.colab.kernel.invokeFunction('convertToInteractive',\n",
              "                                                     [key], {});\n",
              "          if (!dataTable) return;\n",
              "\n",
              "          const docLinkHtml = 'Like what you see? Visit the ' +\n",
              "            '<a target=\"_blank\" href=https://colab.research.google.com/notebooks/data_table.ipynb>data table notebook</a>'\n",
              "            + ' to learn more about interactive tables.';\n",
              "          element.innerHTML = '';\n",
              "          dataTable['output_type'] = 'display_data';\n",
              "          await google.colab.output.renderOutput(dataTable, element);\n",
              "          const docLink = document.createElement('div');\n",
              "          docLink.innerHTML = docLinkHtml;\n",
              "          element.appendChild(docLink);\n",
              "        }\n",
              "      </script>\n",
              "    </div>\n",
              "  </div>\n",
              "  "
            ]
          },
          "metadata": {},
          "execution_count": 40
        }
      ]
    },
    {
      "cell_type": "markdown",
      "source": [
        "# a few anomalies to note: \n",
        "there are a few houses with 21 bathrooms\n",
        "\n",
        "cupboard column has value 48026\n",
        "\n",
        "there are houses with 13 balconies\n",
        "\n",
        "\n",
        "\n",
        "# all of these anomalies must be taken care of during model building and website building\n"
      ],
      "metadata": {
        "id": "H9v7FVwa1V-8"
      }
    },
    {
      "cell_type": "code",
      "source": [
        "df1=df1[df1[\"bathroom\"] < 10]\n",
        "df1=df1[df1[\"cup_board\"]<20]\n",
        "df1=df1[df1[\"balconies\"]<5]"
      ],
      "metadata": {
        "id": "2leNKuRO1_Yw"
      },
      "execution_count": 41,
      "outputs": []
    },
    {
      "cell_type": "code",
      "source": [
        "for ind in df1.index:\n",
        "    # print(df['Name'][ind], df['Stream'][ind])\n",
        "    df1['building_type'][ind]=build_dict[df1['building_type'][ind]]\n",
        "\n",
        "\n"
      ],
      "metadata": {
        "colab": {
          "base_uri": "https://localhost:8080/"
        },
        "id": "85EHsxgiOyEb",
        "outputId": "a036f3b1-43bd-4487-d8b5-acaff81f5c39"
      },
      "execution_count": 42,
      "outputs": [
        {
          "output_type": "stream",
          "name": "stderr",
          "text": [
            "/usr/local/lib/python3.7/dist-packages/ipykernel_launcher.py:3: SettingWithCopyWarning: \n",
            "A value is trying to be set on a copy of a slice from a DataFrame\n",
            "\n",
            "See the caveats in the documentation: https://pandas.pydata.org/pandas-docs/stable/user_guide/indexing.html#returning-a-view-versus-a-copy\n",
            "  This is separate from the ipykernel package so we can avoid doing imports until\n"
          ]
        }
      ]
    },
    {
      "cell_type": "code",
      "source": [
        "type_dict"
      ],
      "metadata": {
        "colab": {
          "base_uri": "https://localhost:8080/"
        },
        "id": "VgDgaVkfRotP",
        "outputId": "faef317e-08b8-4b33-95a7-0c0c98d7f762"
      },
      "execution_count": 43,
      "outputs": [
        {
          "output_type": "execute_result",
          "data": {
            "text/plain": [
              "{'BHK4PLUS': 5, 'BHK4': 4, 'BHK3': 2, 'BHK2': 2, 'BHK1': 1, 'RK1': 0}"
            ]
          },
          "metadata": {},
          "execution_count": 43
        }
      ]
    },
    {
      "cell_type": "code",
      "source": [
        "%%time\n",
        "for ind in df1.index:\n",
        "    # print(df['Name'][ind], df['Stream'][ind])\n",
        "    # df1['building_type'][ind]=build_dict[df1['building_type'][ind]]\n",
        "    # df1['furnishing'][ind]=furnish_dict[df1['furnishing'][ind]]\n",
        "    # df1['water_supply'][ind]=water_dict[df1['water_supply'][ind]]\n",
        "    df1['type'][ind]=type_dict[df1['type'][ind]]\n",
        "    # df1['parking'][ind]=park_dict[df1['parking'][ind]]\n",
        "\n"
      ],
      "metadata": {
        "colab": {
          "base_uri": "https://localhost:8080/"
        },
        "id": "pqmr4MCkQGtb",
        "outputId": "951a767e-d1e2-45c6-dbbb-691e363553cd"
      },
      "execution_count": 44,
      "outputs": [
        {
          "output_type": "stream",
          "name": "stderr",
          "text": [
            "/usr/local/lib/python3.7/dist-packages/ipykernel_launcher.py:6: SettingWithCopyWarning: \n",
            "A value is trying to be set on a copy of a slice from a DataFrame\n",
            "\n",
            "See the caveats in the documentation: https://pandas.pydata.org/pandas-docs/stable/user_guide/indexing.html#returning-a-view-versus-a-copy\n",
            "  \n"
          ]
        },
        {
          "output_type": "stream",
          "name": "stdout",
          "text": [
            "CPU times: user 6.17 s, sys: 409 ms, total: 6.57 s\n",
            "Wall time: 6.21 s\n"
          ]
        }
      ]
    },
    {
      "cell_type": "code",
      "source": [
        "furnish_dict"
      ],
      "metadata": {
        "colab": {
          "base_uri": "https://localhost:8080/"
        },
        "id": "Ee8a-Pq6Ryr1",
        "outputId": "e7593c10-54ff-4850-d8c3-7cdbb3799b3b"
      },
      "execution_count": 45,
      "outputs": [
        {
          "output_type": "execute_result",
          "data": {
            "text/plain": [
              "{'FULLY_FURNISHED': 2, 'SEMI_FURNISHED': 1, 'NOT_FURNISHED': 0}"
            ]
          },
          "metadata": {},
          "execution_count": 45
        }
      ]
    },
    {
      "cell_type": "code",
      "source": [
        "%%time\n",
        "for ind in df1.index:\n",
        "    df1['furnishing'][ind]=furnish_dict[df1['furnishing'][ind]]\n",
        "    # df1['water_supply'][ind]=water_dict[df1['water_supply'][ind]]\n",
        "    # df1['parking'][ind]=park_dict[df1['parking'][ind]]"
      ],
      "metadata": {
        "colab": {
          "base_uri": "https://localhost:8080/"
        },
        "id": "O_GkBUBdRuF5",
        "outputId": "8da08441-a0d5-410e-fe82-7f6471b360a2"
      },
      "execution_count": 46,
      "outputs": [
        {
          "output_type": "stream",
          "name": "stderr",
          "text": [
            "/usr/local/lib/python3.7/dist-packages/ipykernel_launcher.py:2: SettingWithCopyWarning: \n",
            "A value is trying to be set on a copy of a slice from a DataFrame\n",
            "\n",
            "See the caveats in the documentation: https://pandas.pydata.org/pandas-docs/stable/user_guide/indexing.html#returning-a-view-versus-a-copy\n",
            "  \n"
          ]
        },
        {
          "output_type": "stream",
          "name": "stdout",
          "text": [
            "CPU times: user 7.55 s, sys: 326 ms, total: 7.88 s\n",
            "Wall time: 9.3 s\n"
          ]
        }
      ]
    },
    {
      "cell_type": "code",
      "source": [
        "%%time\n",
        "for ind in df1.index:\n",
        "    df1['water_supply'][ind]=water_dict[df1['water_supply'][ind]]\n",
        "    # df1['parking'][ind]=park_dict[df1['parking'][ind]]"
      ],
      "metadata": {
        "colab": {
          "base_uri": "https://localhost:8080/"
        },
        "id": "WiRagSMIR4B-",
        "outputId": "04d3588b-ca6a-4881-b68a-d0c53f3a61a2"
      },
      "execution_count": 47,
      "outputs": [
        {
          "output_type": "stream",
          "name": "stderr",
          "text": [
            "/usr/local/lib/python3.7/dist-packages/ipykernel_launcher.py:2: SettingWithCopyWarning: \n",
            "A value is trying to be set on a copy of a slice from a DataFrame\n",
            "\n",
            "See the caveats in the documentation: https://pandas.pydata.org/pandas-docs/stable/user_guide/indexing.html#returning-a-view-versus-a-copy\n",
            "  \n"
          ]
        },
        {
          "output_type": "stream",
          "name": "stdout",
          "text": [
            "CPU times: user 5.59 s, sys: 334 ms, total: 5.93 s\n",
            "Wall time: 5.76 s\n"
          ]
        }
      ]
    },
    {
      "cell_type": "code",
      "source": [
        "%%time\n",
        "for ind in df1.index:\n",
        "    df1['parking'][ind]=park_dict[df1['parking'][ind]]"
      ],
      "metadata": {
        "colab": {
          "base_uri": "https://localhost:8080/"
        },
        "id": "Yzm8EP8pR8UA",
        "outputId": "8851fc93-1d2f-4812-9519-bd92c2679133"
      },
      "execution_count": 48,
      "outputs": [
        {
          "output_type": "stream",
          "name": "stderr",
          "text": [
            "/usr/local/lib/python3.7/dist-packages/ipykernel_launcher.py:2: SettingWithCopyWarning: \n",
            "A value is trying to be set on a copy of a slice from a DataFrame\n",
            "\n",
            "See the caveats in the documentation: https://pandas.pydata.org/pandas-docs/stable/user_guide/indexing.html#returning-a-view-versus-a-copy\n",
            "  \n"
          ]
        },
        {
          "output_type": "stream",
          "name": "stdout",
          "text": [
            "CPU times: user 5.33 s, sys: 298 ms, total: 5.63 s\n",
            "Wall time: 5.17 s\n"
          ]
        }
      ]
    },
    {
      "cell_type": "code",
      "source": [
        "face_dict"
      ],
      "metadata": {
        "colab": {
          "base_uri": "https://localhost:8080/"
        },
        "id": "CrWLolfNTQcY",
        "outputId": "077622eb-f2ed-4479-ed20-a07e4bc8fc93"
      },
      "execution_count": 49,
      "outputs": [
        {
          "output_type": "execute_result",
          "data": {
            "text/plain": [
              "{'N': 7, 'E': 6, 'NE': 5, 'W': 4, 'NW': 3, 'SE': 2, 'SW': 1, 'S': 0}"
            ]
          },
          "metadata": {},
          "execution_count": 49
        }
      ]
    },
    {
      "cell_type": "code",
      "source": [
        "for ind in df1.index:\n",
        "    df1['facing'][ind]=face_dict[df1['facing'][ind]]"
      ],
      "metadata": {
        "colab": {
          "base_uri": "https://localhost:8080/"
        },
        "id": "XMPIaDXXTSOK",
        "outputId": "068fb953-6a85-490b-bf5f-f2f844fb818d"
      },
      "execution_count": 50,
      "outputs": [
        {
          "output_type": "stream",
          "name": "stderr",
          "text": [
            "/usr/local/lib/python3.7/dist-packages/ipykernel_launcher.py:2: SettingWithCopyWarning: \n",
            "A value is trying to be set on a copy of a slice from a DataFrame\n",
            "\n",
            "See the caveats in the documentation: https://pandas.pydata.org/pandas-docs/stable/user_guide/indexing.html#returning-a-view-versus-a-copy\n",
            "  \n"
          ]
        }
      ]
    },
    {
      "cell_type": "code",
      "source": [
        "df1.head()"
      ],
      "metadata": {
        "colab": {
          "base_uri": "https://localhost:8080/",
          "height": 270
        },
        "id": "eyf1HG1DQDAB",
        "outputId": "e6fe929a-b9ec-415d-b97e-af77ebc58d9f"
      },
      "execution_count": 51,
      "outputs": [
        {
          "output_type": "execute_result",
          "data": {
            "text/plain": [
              "                                 id type  gym  lift  swimming_pool  \\\n",
              "0  ff8081815733a243015733b2876600a6    2    1     1              1   \n",
              "1  ff8081815ee25e15015ee50004da2acd    2    0     1              0   \n",
              "2  ff80818163f29c9e0163f46770b873e7    2    0     1              0   \n",
              "3  ff80818164b68a700164b74b1b247a1d    1    0     0              0   \n",
              "4  ff80818163b1faf00163b4b9b8a163b1    2    0     0              0   \n",
              "\n",
              "   negotiable furnishing parking  property_size  property_age  bathroom  \\\n",
              "0           0          1       3           1250            25         2   \n",
              "1           1          1       3           1400             4         2   \n",
              "2           0          1       3           1350             6         3   \n",
              "3           1          1       1            600             3         1   \n",
              "4           1          1       3           1500            15         3   \n",
              "\n",
              "  facing  cup_board  floor  total_floor water_supply building_type  balconies  \\\n",
              "0      6          2      6           12            2             1          2   \n",
              "1      5          2      3            4            1             1          2   \n",
              "2      6          3      1            5            2             1          3   \n",
              "3      6          1      1            2            1             3          0   \n",
              "4      6          4      0            0            1             3          1   \n",
              "\n",
              "    rent  \n",
              "0  40000  \n",
              "1  22000  \n",
              "2  28000  \n",
              "3   8000  \n",
              "4  45000  "
            ],
            "text/html": [
              "\n",
              "  <div id=\"df-8d24cdd3-5179-48db-a21b-d0366615659c\">\n",
              "    <div class=\"colab-df-container\">\n",
              "      <div>\n",
              "<style scoped>\n",
              "    .dataframe tbody tr th:only-of-type {\n",
              "        vertical-align: middle;\n",
              "    }\n",
              "\n",
              "    .dataframe tbody tr th {\n",
              "        vertical-align: top;\n",
              "    }\n",
              "\n",
              "    .dataframe thead th {\n",
              "        text-align: right;\n",
              "    }\n",
              "</style>\n",
              "<table border=\"1\" class=\"dataframe\">\n",
              "  <thead>\n",
              "    <tr style=\"text-align: right;\">\n",
              "      <th></th>\n",
              "      <th>id</th>\n",
              "      <th>type</th>\n",
              "      <th>gym</th>\n",
              "      <th>lift</th>\n",
              "      <th>swimming_pool</th>\n",
              "      <th>negotiable</th>\n",
              "      <th>furnishing</th>\n",
              "      <th>parking</th>\n",
              "      <th>property_size</th>\n",
              "      <th>property_age</th>\n",
              "      <th>bathroom</th>\n",
              "      <th>facing</th>\n",
              "      <th>cup_board</th>\n",
              "      <th>floor</th>\n",
              "      <th>total_floor</th>\n",
              "      <th>water_supply</th>\n",
              "      <th>building_type</th>\n",
              "      <th>balconies</th>\n",
              "      <th>rent</th>\n",
              "    </tr>\n",
              "  </thead>\n",
              "  <tbody>\n",
              "    <tr>\n",
              "      <th>0</th>\n",
              "      <td>ff8081815733a243015733b2876600a6</td>\n",
              "      <td>2</td>\n",
              "      <td>1</td>\n",
              "      <td>1</td>\n",
              "      <td>1</td>\n",
              "      <td>0</td>\n",
              "      <td>1</td>\n",
              "      <td>3</td>\n",
              "      <td>1250</td>\n",
              "      <td>25</td>\n",
              "      <td>2</td>\n",
              "      <td>6</td>\n",
              "      <td>2</td>\n",
              "      <td>6</td>\n",
              "      <td>12</td>\n",
              "      <td>2</td>\n",
              "      <td>1</td>\n",
              "      <td>2</td>\n",
              "      <td>40000</td>\n",
              "    </tr>\n",
              "    <tr>\n",
              "      <th>1</th>\n",
              "      <td>ff8081815ee25e15015ee50004da2acd</td>\n",
              "      <td>2</td>\n",
              "      <td>0</td>\n",
              "      <td>1</td>\n",
              "      <td>0</td>\n",
              "      <td>1</td>\n",
              "      <td>1</td>\n",
              "      <td>3</td>\n",
              "      <td>1400</td>\n",
              "      <td>4</td>\n",
              "      <td>2</td>\n",
              "      <td>5</td>\n",
              "      <td>2</td>\n",
              "      <td>3</td>\n",
              "      <td>4</td>\n",
              "      <td>1</td>\n",
              "      <td>1</td>\n",
              "      <td>2</td>\n",
              "      <td>22000</td>\n",
              "    </tr>\n",
              "    <tr>\n",
              "      <th>2</th>\n",
              "      <td>ff80818163f29c9e0163f46770b873e7</td>\n",
              "      <td>2</td>\n",
              "      <td>0</td>\n",
              "      <td>1</td>\n",
              "      <td>0</td>\n",
              "      <td>0</td>\n",
              "      <td>1</td>\n",
              "      <td>3</td>\n",
              "      <td>1350</td>\n",
              "      <td>6</td>\n",
              "      <td>3</td>\n",
              "      <td>6</td>\n",
              "      <td>3</td>\n",
              "      <td>1</td>\n",
              "      <td>5</td>\n",
              "      <td>2</td>\n",
              "      <td>1</td>\n",
              "      <td>3</td>\n",
              "      <td>28000</td>\n",
              "    </tr>\n",
              "    <tr>\n",
              "      <th>3</th>\n",
              "      <td>ff80818164b68a700164b74b1b247a1d</td>\n",
              "      <td>1</td>\n",
              "      <td>0</td>\n",
              "      <td>0</td>\n",
              "      <td>0</td>\n",
              "      <td>1</td>\n",
              "      <td>1</td>\n",
              "      <td>1</td>\n",
              "      <td>600</td>\n",
              "      <td>3</td>\n",
              "      <td>1</td>\n",
              "      <td>6</td>\n",
              "      <td>1</td>\n",
              "      <td>1</td>\n",
              "      <td>2</td>\n",
              "      <td>1</td>\n",
              "      <td>3</td>\n",
              "      <td>0</td>\n",
              "      <td>8000</td>\n",
              "    </tr>\n",
              "    <tr>\n",
              "      <th>4</th>\n",
              "      <td>ff80818163b1faf00163b4b9b8a163b1</td>\n",
              "      <td>2</td>\n",
              "      <td>0</td>\n",
              "      <td>0</td>\n",
              "      <td>0</td>\n",
              "      <td>1</td>\n",
              "      <td>1</td>\n",
              "      <td>3</td>\n",
              "      <td>1500</td>\n",
              "      <td>15</td>\n",
              "      <td>3</td>\n",
              "      <td>6</td>\n",
              "      <td>4</td>\n",
              "      <td>0</td>\n",
              "      <td>0</td>\n",
              "      <td>1</td>\n",
              "      <td>3</td>\n",
              "      <td>1</td>\n",
              "      <td>45000</td>\n",
              "    </tr>\n",
              "  </tbody>\n",
              "</table>\n",
              "</div>\n",
              "      <button class=\"colab-df-convert\" onclick=\"convertToInteractive('df-8d24cdd3-5179-48db-a21b-d0366615659c')\"\n",
              "              title=\"Convert this dataframe to an interactive table.\"\n",
              "              style=\"display:none;\">\n",
              "        \n",
              "  <svg xmlns=\"http://www.w3.org/2000/svg\" height=\"24px\"viewBox=\"0 0 24 24\"\n",
              "       width=\"24px\">\n",
              "    <path d=\"M0 0h24v24H0V0z\" fill=\"none\"/>\n",
              "    <path d=\"M18.56 5.44l.94 2.06.94-2.06 2.06-.94-2.06-.94-.94-2.06-.94 2.06-2.06.94zm-11 1L8.5 8.5l.94-2.06 2.06-.94-2.06-.94L8.5 2.5l-.94 2.06-2.06.94zm10 10l.94 2.06.94-2.06 2.06-.94-2.06-.94-.94-2.06-.94 2.06-2.06.94z\"/><path d=\"M17.41 7.96l-1.37-1.37c-.4-.4-.92-.59-1.43-.59-.52 0-1.04.2-1.43.59L10.3 9.45l-7.72 7.72c-.78.78-.78 2.05 0 2.83L4 21.41c.39.39.9.59 1.41.59.51 0 1.02-.2 1.41-.59l7.78-7.78 2.81-2.81c.8-.78.8-2.07 0-2.86zM5.41 20L4 18.59l7.72-7.72 1.47 1.35L5.41 20z\"/>\n",
              "  </svg>\n",
              "      </button>\n",
              "      \n",
              "  <style>\n",
              "    .colab-df-container {\n",
              "      display:flex;\n",
              "      flex-wrap:wrap;\n",
              "      gap: 12px;\n",
              "    }\n",
              "\n",
              "    .colab-df-convert {\n",
              "      background-color: #E8F0FE;\n",
              "      border: none;\n",
              "      border-radius: 50%;\n",
              "      cursor: pointer;\n",
              "      display: none;\n",
              "      fill: #1967D2;\n",
              "      height: 32px;\n",
              "      padding: 0 0 0 0;\n",
              "      width: 32px;\n",
              "    }\n",
              "\n",
              "    .colab-df-convert:hover {\n",
              "      background-color: #E2EBFA;\n",
              "      box-shadow: 0px 1px 2px rgba(60, 64, 67, 0.3), 0px 1px 3px 1px rgba(60, 64, 67, 0.15);\n",
              "      fill: #174EA6;\n",
              "    }\n",
              "\n",
              "    [theme=dark] .colab-df-convert {\n",
              "      background-color: #3B4455;\n",
              "      fill: #D2E3FC;\n",
              "    }\n",
              "\n",
              "    [theme=dark] .colab-df-convert:hover {\n",
              "      background-color: #434B5C;\n",
              "      box-shadow: 0px 1px 3px 1px rgba(0, 0, 0, 0.15);\n",
              "      filter: drop-shadow(0px 1px 2px rgba(0, 0, 0, 0.3));\n",
              "      fill: #FFFFFF;\n",
              "    }\n",
              "  </style>\n",
              "\n",
              "      <script>\n",
              "        const buttonEl =\n",
              "          document.querySelector('#df-8d24cdd3-5179-48db-a21b-d0366615659c button.colab-df-convert');\n",
              "        buttonEl.style.display =\n",
              "          google.colab.kernel.accessAllowed ? 'block' : 'none';\n",
              "\n",
              "        async function convertToInteractive(key) {\n",
              "          const element = document.querySelector('#df-8d24cdd3-5179-48db-a21b-d0366615659c');\n",
              "          const dataTable =\n",
              "            await google.colab.kernel.invokeFunction('convertToInteractive',\n",
              "                                                     [key], {});\n",
              "          if (!dataTable) return;\n",
              "\n",
              "          const docLinkHtml = 'Like what you see? Visit the ' +\n",
              "            '<a target=\"_blank\" href=https://colab.research.google.com/notebooks/data_table.ipynb>data table notebook</a>'\n",
              "            + ' to learn more about interactive tables.';\n",
              "          element.innerHTML = '';\n",
              "          dataTable['output_type'] = 'display_data';\n",
              "          await google.colab.output.renderOutput(dataTable, element);\n",
              "          const docLink = document.createElement('div');\n",
              "          docLink.innerHTML = docLinkHtml;\n",
              "          element.appendChild(docLink);\n",
              "        }\n",
              "      </script>\n",
              "    </div>\n",
              "  </div>\n",
              "  "
            ]
          },
          "metadata": {},
          "execution_count": 51
        }
      ]
    },
    {
      "cell_type": "code",
      "source": [
        "df1.info()"
      ],
      "metadata": {
        "colab": {
          "base_uri": "https://localhost:8080/"
        },
        "id": "gNLJgInOTfft",
        "outputId": "6b505424-1347-492b-8a7f-b235fc7bb7f0"
      },
      "execution_count": 52,
      "outputs": [
        {
          "output_type": "stream",
          "name": "stdout",
          "text": [
            "<class 'pandas.core.frame.DataFrame'>\n",
            "Int64Index: 20445 entries, 0 to 20499\n",
            "Data columns (total 19 columns):\n",
            " #   Column         Non-Null Count  Dtype \n",
            "---  ------         --------------  ----- \n",
            " 0   id             20445 non-null  object\n",
            " 1   type           20445 non-null  object\n",
            " 2   gym            20445 non-null  int64 \n",
            " 3   lift           20445 non-null  int64 \n",
            " 4   swimming_pool  20445 non-null  int64 \n",
            " 5   negotiable     20445 non-null  int64 \n",
            " 6   furnishing     20445 non-null  object\n",
            " 7   parking        20445 non-null  object\n",
            " 8   property_size  20445 non-null  int64 \n",
            " 9   property_age   20445 non-null  int64 \n",
            " 10  bathroom       20445 non-null  int64 \n",
            " 11  facing         20445 non-null  object\n",
            " 12  cup_board      20445 non-null  int64 \n",
            " 13  floor          20445 non-null  int64 \n",
            " 14  total_floor    20445 non-null  int64 \n",
            " 15  water_supply   20445 non-null  object\n",
            " 16  building_type  20445 non-null  object\n",
            " 17  balconies      20445 non-null  int64 \n",
            " 18  rent           20445 non-null  int64 \n",
            "dtypes: int64(12), object(7)\n",
            "memory usage: 3.6+ MB\n"
          ]
        }
      ]
    },
    {
      "cell_type": "code",
      "source": [
        "df1['type'] = pd.to_numeric(df1['type'])\n",
        "df1['furnishing'] = pd.to_numeric(df1['furnishing'])\n",
        "df1['parking'] = pd.to_numeric(df1['parking'])\n",
        "df1['facing'] = pd.to_numeric(df1['facing'])\n",
        "df1['water_supply'] = pd.to_numeric(df1['water_supply'])\n",
        "df1['building_type'] = pd.to_numeric(df1['building_type'])\n",
        "\n",
        "\n",
        "\n",
        "\n"
      ],
      "metadata": {
        "id": "bELXV4AvT1nx"
      },
      "execution_count": 53,
      "outputs": []
    },
    {
      "cell_type": "code",
      "source": [
        "df1.info()"
      ],
      "metadata": {
        "colab": {
          "base_uri": "https://localhost:8080/"
        },
        "id": "mwFI4JCqUQoO",
        "outputId": "ee01f3bf-a870-46a7-adad-15f0ecbaa15d"
      },
      "execution_count": 54,
      "outputs": [
        {
          "output_type": "stream",
          "name": "stdout",
          "text": [
            "<class 'pandas.core.frame.DataFrame'>\n",
            "Int64Index: 20445 entries, 0 to 20499\n",
            "Data columns (total 19 columns):\n",
            " #   Column         Non-Null Count  Dtype \n",
            "---  ------         --------------  ----- \n",
            " 0   id             20445 non-null  object\n",
            " 1   type           20445 non-null  int64 \n",
            " 2   gym            20445 non-null  int64 \n",
            " 3   lift           20445 non-null  int64 \n",
            " 4   swimming_pool  20445 non-null  int64 \n",
            " 5   negotiable     20445 non-null  int64 \n",
            " 6   furnishing     20445 non-null  int64 \n",
            " 7   parking        20445 non-null  int64 \n",
            " 8   property_size  20445 non-null  int64 \n",
            " 9   property_age   20445 non-null  int64 \n",
            " 10  bathroom       20445 non-null  int64 \n",
            " 11  facing         20445 non-null  int64 \n",
            " 12  cup_board      20445 non-null  int64 \n",
            " 13  floor          20445 non-null  int64 \n",
            " 14  total_floor    20445 non-null  int64 \n",
            " 15  water_supply   20445 non-null  int64 \n",
            " 16  building_type  20445 non-null  int64 \n",
            " 17  balconies      20445 non-null  int64 \n",
            " 18  rent           20445 non-null  int64 \n",
            "dtypes: int64(18), object(1)\n",
            "memory usage: 3.6+ MB\n"
          ]
        }
      ]
    },
    {
      "cell_type": "code",
      "source": [
        "# # df1.to_csv('processeddf.csv')\n",
        "\n",
        "# from google.colab import files\n",
        "\n",
        "# df1.to_csv('processeddf.csv')\n",
        "# files.download('processeddf.csv')"
      ],
      "metadata": {
        "id": "1YP_iTbIUVId"
      },
      "execution_count": 55,
      "outputs": []
    },
    {
      "cell_type": "code",
      "source": [
        "from sklearn.model_selection import train_test_split"
      ],
      "metadata": {
        "id": "2Kn_RIy80qiB"
      },
      "execution_count": 56,
      "outputs": []
    },
    {
      "cell_type": "code",
      "source": [
        "train_df1,val_df1= train_test_split(df1,test_size=0.2,random_state=42)"
      ],
      "metadata": {
        "id": "4qiWc_un0v3E"
      },
      "execution_count": 57,
      "outputs": []
    },
    {
      "cell_type": "code",
      "source": [
        "len(train_df1)"
      ],
      "metadata": {
        "colab": {
          "base_uri": "https://localhost:8080/"
        },
        "id": "U22kXPJL0zQy",
        "outputId": "7fb5bfca-c90c-44e4-b882-ca653c0187b2"
      },
      "execution_count": 58,
      "outputs": [
        {
          "output_type": "execute_result",
          "data": {
            "text/plain": [
              "16356"
            ]
          },
          "metadata": {},
          "execution_count": 58
        }
      ]
    },
    {
      "cell_type": "code",
      "source": [
        "len(val_df1)"
      ],
      "metadata": {
        "colab": {
          "base_uri": "https://localhost:8080/"
        },
        "id": "nSl-HBIF04ys",
        "outputId": "1ac08ac2-e4ba-4022-9475-0162103c615f"
      },
      "execution_count": 59,
      "outputs": [
        {
          "output_type": "execute_result",
          "data": {
            "text/plain": [
              "4089"
            ]
          },
          "metadata": {},
          "execution_count": 59
        }
      ]
    },
    {
      "cell_type": "code",
      "source": [
        "train_df1=train_df1.dropna()\n",
        "val_df1=val_df1.dropna()"
      ],
      "metadata": {
        "id": "s4ExnKBY06NF"
      },
      "execution_count": 60,
      "outputs": []
    },
    {
      "cell_type": "code",
      "source": [
        "print(len(train_df1))\n",
        "print(len(val_df1))"
      ],
      "metadata": {
        "colab": {
          "base_uri": "https://localhost:8080/"
        },
        "id": "TAGkXTlZ1FPM",
        "outputId": "9b03cc5f-0eaf-481f-8fba-47d5f690208f"
      },
      "execution_count": 61,
      "outputs": [
        {
          "output_type": "stream",
          "name": "stdout",
          "text": [
            "16356\n",
            "4089\n"
          ]
        }
      ]
    },
    {
      "cell_type": "code",
      "source": [
        "train_df1.head(5)"
      ],
      "metadata": {
        "colab": {
          "base_uri": "https://localhost:8080/",
          "height": 270
        },
        "id": "_y7uowPB1KLJ",
        "outputId": "bf2d9f0c-17da-430b-aa56-9d26751a956f"
      },
      "execution_count": 62,
      "outputs": [
        {
          "output_type": "execute_result",
          "data": {
            "text/plain": [
              "                                     id  type  gym  lift  swimming_pool  \\\n",
              "10087  ff8081815239c00501523afa9bd91094     1    0     0              0   \n",
              "14619  ff8081815c022dd3015c053bf6886366     2    0     0              0   \n",
              "5368   ff8081814fdb74dc014fde80bf640994     2    0     0              0   \n",
              "14832  ff80818162a582350162a8b4a5880000     2    1     1              0   \n",
              "12448  ff80818157bd3a640157bd5fa534033e     0    0     0              0   \n",
              "\n",
              "       negotiable  furnishing  parking  property_size  property_age  bathroom  \\\n",
              "10087           0           0        1            600             1         1   \n",
              "14619           1           1        3           1000             0         2   \n",
              "5368            1           1        3           1055             1         2   \n",
              "14832           0           1        2           1200             9         2   \n",
              "12448           0           1        1            230             3         1   \n",
              "\n",
              "       facing  cup_board  floor  total_floor  water_supply  building_type  \\\n",
              "10087       6          0      1            3             1              2   \n",
              "14619       6          2      0           13             1              1   \n",
              "5368        6          4      3            3             0              1   \n",
              "14832       4          2      2            4             2              1   \n",
              "12448       6          1      0            3             1              3   \n",
              "\n",
              "       balconies   rent  \n",
              "10087          0   8500  \n",
              "14619          2  25000  \n",
              "5368           1  21500  \n",
              "14832          0  22500  \n",
              "12448          0   8000  "
            ],
            "text/html": [
              "\n",
              "  <div id=\"df-0eade02d-b175-46f6-ba8d-803288dcb215\">\n",
              "    <div class=\"colab-df-container\">\n",
              "      <div>\n",
              "<style scoped>\n",
              "    .dataframe tbody tr th:only-of-type {\n",
              "        vertical-align: middle;\n",
              "    }\n",
              "\n",
              "    .dataframe tbody tr th {\n",
              "        vertical-align: top;\n",
              "    }\n",
              "\n",
              "    .dataframe thead th {\n",
              "        text-align: right;\n",
              "    }\n",
              "</style>\n",
              "<table border=\"1\" class=\"dataframe\">\n",
              "  <thead>\n",
              "    <tr style=\"text-align: right;\">\n",
              "      <th></th>\n",
              "      <th>id</th>\n",
              "      <th>type</th>\n",
              "      <th>gym</th>\n",
              "      <th>lift</th>\n",
              "      <th>swimming_pool</th>\n",
              "      <th>negotiable</th>\n",
              "      <th>furnishing</th>\n",
              "      <th>parking</th>\n",
              "      <th>property_size</th>\n",
              "      <th>property_age</th>\n",
              "      <th>bathroom</th>\n",
              "      <th>facing</th>\n",
              "      <th>cup_board</th>\n",
              "      <th>floor</th>\n",
              "      <th>total_floor</th>\n",
              "      <th>water_supply</th>\n",
              "      <th>building_type</th>\n",
              "      <th>balconies</th>\n",
              "      <th>rent</th>\n",
              "    </tr>\n",
              "  </thead>\n",
              "  <tbody>\n",
              "    <tr>\n",
              "      <th>10087</th>\n",
              "      <td>ff8081815239c00501523afa9bd91094</td>\n",
              "      <td>1</td>\n",
              "      <td>0</td>\n",
              "      <td>0</td>\n",
              "      <td>0</td>\n",
              "      <td>0</td>\n",
              "      <td>0</td>\n",
              "      <td>1</td>\n",
              "      <td>600</td>\n",
              "      <td>1</td>\n",
              "      <td>1</td>\n",
              "      <td>6</td>\n",
              "      <td>0</td>\n",
              "      <td>1</td>\n",
              "      <td>3</td>\n",
              "      <td>1</td>\n",
              "      <td>2</td>\n",
              "      <td>0</td>\n",
              "      <td>8500</td>\n",
              "    </tr>\n",
              "    <tr>\n",
              "      <th>14619</th>\n",
              "      <td>ff8081815c022dd3015c053bf6886366</td>\n",
              "      <td>2</td>\n",
              "      <td>0</td>\n",
              "      <td>0</td>\n",
              "      <td>0</td>\n",
              "      <td>1</td>\n",
              "      <td>1</td>\n",
              "      <td>3</td>\n",
              "      <td>1000</td>\n",
              "      <td>0</td>\n",
              "      <td>2</td>\n",
              "      <td>6</td>\n",
              "      <td>2</td>\n",
              "      <td>0</td>\n",
              "      <td>13</td>\n",
              "      <td>1</td>\n",
              "      <td>1</td>\n",
              "      <td>2</td>\n",
              "      <td>25000</td>\n",
              "    </tr>\n",
              "    <tr>\n",
              "      <th>5368</th>\n",
              "      <td>ff8081814fdb74dc014fde80bf640994</td>\n",
              "      <td>2</td>\n",
              "      <td>0</td>\n",
              "      <td>0</td>\n",
              "      <td>0</td>\n",
              "      <td>1</td>\n",
              "      <td>1</td>\n",
              "      <td>3</td>\n",
              "      <td>1055</td>\n",
              "      <td>1</td>\n",
              "      <td>2</td>\n",
              "      <td>6</td>\n",
              "      <td>4</td>\n",
              "      <td>3</td>\n",
              "      <td>3</td>\n",
              "      <td>0</td>\n",
              "      <td>1</td>\n",
              "      <td>1</td>\n",
              "      <td>21500</td>\n",
              "    </tr>\n",
              "    <tr>\n",
              "      <th>14832</th>\n",
              "      <td>ff80818162a582350162a8b4a5880000</td>\n",
              "      <td>2</td>\n",
              "      <td>1</td>\n",
              "      <td>1</td>\n",
              "      <td>0</td>\n",
              "      <td>0</td>\n",
              "      <td>1</td>\n",
              "      <td>2</td>\n",
              "      <td>1200</td>\n",
              "      <td>9</td>\n",
              "      <td>2</td>\n",
              "      <td>4</td>\n",
              "      <td>2</td>\n",
              "      <td>2</td>\n",
              "      <td>4</td>\n",
              "      <td>2</td>\n",
              "      <td>1</td>\n",
              "      <td>0</td>\n",
              "      <td>22500</td>\n",
              "    </tr>\n",
              "    <tr>\n",
              "      <th>12448</th>\n",
              "      <td>ff80818157bd3a640157bd5fa534033e</td>\n",
              "      <td>0</td>\n",
              "      <td>0</td>\n",
              "      <td>0</td>\n",
              "      <td>0</td>\n",
              "      <td>0</td>\n",
              "      <td>1</td>\n",
              "      <td>1</td>\n",
              "      <td>230</td>\n",
              "      <td>3</td>\n",
              "      <td>1</td>\n",
              "      <td>6</td>\n",
              "      <td>1</td>\n",
              "      <td>0</td>\n",
              "      <td>3</td>\n",
              "      <td>1</td>\n",
              "      <td>3</td>\n",
              "      <td>0</td>\n",
              "      <td>8000</td>\n",
              "    </tr>\n",
              "  </tbody>\n",
              "</table>\n",
              "</div>\n",
              "      <button class=\"colab-df-convert\" onclick=\"convertToInteractive('df-0eade02d-b175-46f6-ba8d-803288dcb215')\"\n",
              "              title=\"Convert this dataframe to an interactive table.\"\n",
              "              style=\"display:none;\">\n",
              "        \n",
              "  <svg xmlns=\"http://www.w3.org/2000/svg\" height=\"24px\"viewBox=\"0 0 24 24\"\n",
              "       width=\"24px\">\n",
              "    <path d=\"M0 0h24v24H0V0z\" fill=\"none\"/>\n",
              "    <path d=\"M18.56 5.44l.94 2.06.94-2.06 2.06-.94-2.06-.94-.94-2.06-.94 2.06-2.06.94zm-11 1L8.5 8.5l.94-2.06 2.06-.94-2.06-.94L8.5 2.5l-.94 2.06-2.06.94zm10 10l.94 2.06.94-2.06 2.06-.94-2.06-.94-.94-2.06-.94 2.06-2.06.94z\"/><path d=\"M17.41 7.96l-1.37-1.37c-.4-.4-.92-.59-1.43-.59-.52 0-1.04.2-1.43.59L10.3 9.45l-7.72 7.72c-.78.78-.78 2.05 0 2.83L4 21.41c.39.39.9.59 1.41.59.51 0 1.02-.2 1.41-.59l7.78-7.78 2.81-2.81c.8-.78.8-2.07 0-2.86zM5.41 20L4 18.59l7.72-7.72 1.47 1.35L5.41 20z\"/>\n",
              "  </svg>\n",
              "      </button>\n",
              "      \n",
              "  <style>\n",
              "    .colab-df-container {\n",
              "      display:flex;\n",
              "      flex-wrap:wrap;\n",
              "      gap: 12px;\n",
              "    }\n",
              "\n",
              "    .colab-df-convert {\n",
              "      background-color: #E8F0FE;\n",
              "      border: none;\n",
              "      border-radius: 50%;\n",
              "      cursor: pointer;\n",
              "      display: none;\n",
              "      fill: #1967D2;\n",
              "      height: 32px;\n",
              "      padding: 0 0 0 0;\n",
              "      width: 32px;\n",
              "    }\n",
              "\n",
              "    .colab-df-convert:hover {\n",
              "      background-color: #E2EBFA;\n",
              "      box-shadow: 0px 1px 2px rgba(60, 64, 67, 0.3), 0px 1px 3px 1px rgba(60, 64, 67, 0.15);\n",
              "      fill: #174EA6;\n",
              "    }\n",
              "\n",
              "    [theme=dark] .colab-df-convert {\n",
              "      background-color: #3B4455;\n",
              "      fill: #D2E3FC;\n",
              "    }\n",
              "\n",
              "    [theme=dark] .colab-df-convert:hover {\n",
              "      background-color: #434B5C;\n",
              "      box-shadow: 0px 1px 3px 1px rgba(0, 0, 0, 0.15);\n",
              "      filter: drop-shadow(0px 1px 2px rgba(0, 0, 0, 0.3));\n",
              "      fill: #FFFFFF;\n",
              "    }\n",
              "  </style>\n",
              "\n",
              "      <script>\n",
              "        const buttonEl =\n",
              "          document.querySelector('#df-0eade02d-b175-46f6-ba8d-803288dcb215 button.colab-df-convert');\n",
              "        buttonEl.style.display =\n",
              "          google.colab.kernel.accessAllowed ? 'block' : 'none';\n",
              "\n",
              "        async function convertToInteractive(key) {\n",
              "          const element = document.querySelector('#df-0eade02d-b175-46f6-ba8d-803288dcb215');\n",
              "          const dataTable =\n",
              "            await google.colab.kernel.invokeFunction('convertToInteractive',\n",
              "                                                     [key], {});\n",
              "          if (!dataTable) return;\n",
              "\n",
              "          const docLinkHtml = 'Like what you see? Visit the ' +\n",
              "            '<a target=\"_blank\" href=https://colab.research.google.com/notebooks/data_table.ipynb>data table notebook</a>'\n",
              "            + ' to learn more about interactive tables.';\n",
              "          element.innerHTML = '';\n",
              "          dataTable['output_type'] = 'display_data';\n",
              "          await google.colab.output.renderOutput(dataTable, element);\n",
              "          const docLink = document.createElement('div');\n",
              "          docLink.innerHTML = docLinkHtml;\n",
              "          element.appendChild(docLink);\n",
              "        }\n",
              "      </script>\n",
              "    </div>\n",
              "  </div>\n",
              "  "
            ]
          },
          "metadata": {},
          "execution_count": 62
        }
      ]
    },
    {
      "cell_type": "code",
      "source": [
        "val_df1.head(5)"
      ],
      "metadata": {
        "colab": {
          "base_uri": "https://localhost:8080/",
          "height": 270
        },
        "id": "b3V8Iqbm22st",
        "outputId": "e1c658ac-0d11-40eb-f9f9-5af295940ca8"
      },
      "execution_count": 63,
      "outputs": [
        {
          "output_type": "execute_result",
          "data": {
            "text/plain": [
              "                                     id  type  gym  lift  swimming_pool  \\\n",
              "16330  ff8081816108a00501610915abc93a4b     2    1     1              1   \n",
              "7850   ff8081815aacc98e015aae15194752a5     2    0     0              0   \n",
              "13547  ff80818158de4fb60158dea009ce0ed2     0    0     0              0   \n",
              "5565   ff80818160204e9b0160267e7faf7a7f     2    0     0              0   \n",
              "10606  ff808181638d2a350163909b97eb7088     2    0     0              0   \n",
              "\n",
              "       negotiable  furnishing  parking  property_size  property_age  bathroom  \\\n",
              "16330           1           1        3           1505             1         2   \n",
              "7850            1           1        1            743            15         2   \n",
              "13547           0           1        1            200            10         1   \n",
              "5565            1           1        3           1000             0         2   \n",
              "10606           0           1        1            500            10         1   \n",
              "\n",
              "       facing  cup_board  floor  total_floor  water_supply  building_type  \\\n",
              "16330       7          3      3            5             1              1   \n",
              "7850        7          2      1            2             1              2   \n",
              "13547       4          1      0            3             1              3   \n",
              "5565        7          2      0            3             2              1   \n",
              "10606       0          2      1            3             2              1   \n",
              "\n",
              "       balconies   rent  \n",
              "16330          2  22000  \n",
              "7850           0  22000  \n",
              "13547          1   8250  \n",
              "5565           0  20000  \n",
              "10606          1  12500  "
            ],
            "text/html": [
              "\n",
              "  <div id=\"df-182aa62b-d62f-4123-818e-8741fdad9091\">\n",
              "    <div class=\"colab-df-container\">\n",
              "      <div>\n",
              "<style scoped>\n",
              "    .dataframe tbody tr th:only-of-type {\n",
              "        vertical-align: middle;\n",
              "    }\n",
              "\n",
              "    .dataframe tbody tr th {\n",
              "        vertical-align: top;\n",
              "    }\n",
              "\n",
              "    .dataframe thead th {\n",
              "        text-align: right;\n",
              "    }\n",
              "</style>\n",
              "<table border=\"1\" class=\"dataframe\">\n",
              "  <thead>\n",
              "    <tr style=\"text-align: right;\">\n",
              "      <th></th>\n",
              "      <th>id</th>\n",
              "      <th>type</th>\n",
              "      <th>gym</th>\n",
              "      <th>lift</th>\n",
              "      <th>swimming_pool</th>\n",
              "      <th>negotiable</th>\n",
              "      <th>furnishing</th>\n",
              "      <th>parking</th>\n",
              "      <th>property_size</th>\n",
              "      <th>property_age</th>\n",
              "      <th>bathroom</th>\n",
              "      <th>facing</th>\n",
              "      <th>cup_board</th>\n",
              "      <th>floor</th>\n",
              "      <th>total_floor</th>\n",
              "      <th>water_supply</th>\n",
              "      <th>building_type</th>\n",
              "      <th>balconies</th>\n",
              "      <th>rent</th>\n",
              "    </tr>\n",
              "  </thead>\n",
              "  <tbody>\n",
              "    <tr>\n",
              "      <th>16330</th>\n",
              "      <td>ff8081816108a00501610915abc93a4b</td>\n",
              "      <td>2</td>\n",
              "      <td>1</td>\n",
              "      <td>1</td>\n",
              "      <td>1</td>\n",
              "      <td>1</td>\n",
              "      <td>1</td>\n",
              "      <td>3</td>\n",
              "      <td>1505</td>\n",
              "      <td>1</td>\n",
              "      <td>2</td>\n",
              "      <td>7</td>\n",
              "      <td>3</td>\n",
              "      <td>3</td>\n",
              "      <td>5</td>\n",
              "      <td>1</td>\n",
              "      <td>1</td>\n",
              "      <td>2</td>\n",
              "      <td>22000</td>\n",
              "    </tr>\n",
              "    <tr>\n",
              "      <th>7850</th>\n",
              "      <td>ff8081815aacc98e015aae15194752a5</td>\n",
              "      <td>2</td>\n",
              "      <td>0</td>\n",
              "      <td>0</td>\n",
              "      <td>0</td>\n",
              "      <td>1</td>\n",
              "      <td>1</td>\n",
              "      <td>1</td>\n",
              "      <td>743</td>\n",
              "      <td>15</td>\n",
              "      <td>2</td>\n",
              "      <td>7</td>\n",
              "      <td>2</td>\n",
              "      <td>1</td>\n",
              "      <td>2</td>\n",
              "      <td>1</td>\n",
              "      <td>2</td>\n",
              "      <td>0</td>\n",
              "      <td>22000</td>\n",
              "    </tr>\n",
              "    <tr>\n",
              "      <th>13547</th>\n",
              "      <td>ff80818158de4fb60158dea009ce0ed2</td>\n",
              "      <td>0</td>\n",
              "      <td>0</td>\n",
              "      <td>0</td>\n",
              "      <td>0</td>\n",
              "      <td>0</td>\n",
              "      <td>1</td>\n",
              "      <td>1</td>\n",
              "      <td>200</td>\n",
              "      <td>10</td>\n",
              "      <td>1</td>\n",
              "      <td>4</td>\n",
              "      <td>1</td>\n",
              "      <td>0</td>\n",
              "      <td>3</td>\n",
              "      <td>1</td>\n",
              "      <td>3</td>\n",
              "      <td>1</td>\n",
              "      <td>8250</td>\n",
              "    </tr>\n",
              "    <tr>\n",
              "      <th>5565</th>\n",
              "      <td>ff80818160204e9b0160267e7faf7a7f</td>\n",
              "      <td>2</td>\n",
              "      <td>0</td>\n",
              "      <td>0</td>\n",
              "      <td>0</td>\n",
              "      <td>1</td>\n",
              "      <td>1</td>\n",
              "      <td>3</td>\n",
              "      <td>1000</td>\n",
              "      <td>0</td>\n",
              "      <td>2</td>\n",
              "      <td>7</td>\n",
              "      <td>2</td>\n",
              "      <td>0</td>\n",
              "      <td>3</td>\n",
              "      <td>2</td>\n",
              "      <td>1</td>\n",
              "      <td>0</td>\n",
              "      <td>20000</td>\n",
              "    </tr>\n",
              "    <tr>\n",
              "      <th>10606</th>\n",
              "      <td>ff808181638d2a350163909b97eb7088</td>\n",
              "      <td>2</td>\n",
              "      <td>0</td>\n",
              "      <td>0</td>\n",
              "      <td>0</td>\n",
              "      <td>0</td>\n",
              "      <td>1</td>\n",
              "      <td>1</td>\n",
              "      <td>500</td>\n",
              "      <td>10</td>\n",
              "      <td>1</td>\n",
              "      <td>0</td>\n",
              "      <td>2</td>\n",
              "      <td>1</td>\n",
              "      <td>3</td>\n",
              "      <td>2</td>\n",
              "      <td>1</td>\n",
              "      <td>1</td>\n",
              "      <td>12500</td>\n",
              "    </tr>\n",
              "  </tbody>\n",
              "</table>\n",
              "</div>\n",
              "      <button class=\"colab-df-convert\" onclick=\"convertToInteractive('df-182aa62b-d62f-4123-818e-8741fdad9091')\"\n",
              "              title=\"Convert this dataframe to an interactive table.\"\n",
              "              style=\"display:none;\">\n",
              "        \n",
              "  <svg xmlns=\"http://www.w3.org/2000/svg\" height=\"24px\"viewBox=\"0 0 24 24\"\n",
              "       width=\"24px\">\n",
              "    <path d=\"M0 0h24v24H0V0z\" fill=\"none\"/>\n",
              "    <path d=\"M18.56 5.44l.94 2.06.94-2.06 2.06-.94-2.06-.94-.94-2.06-.94 2.06-2.06.94zm-11 1L8.5 8.5l.94-2.06 2.06-.94-2.06-.94L8.5 2.5l-.94 2.06-2.06.94zm10 10l.94 2.06.94-2.06 2.06-.94-2.06-.94-.94-2.06-.94 2.06-2.06.94z\"/><path d=\"M17.41 7.96l-1.37-1.37c-.4-.4-.92-.59-1.43-.59-.52 0-1.04.2-1.43.59L10.3 9.45l-7.72 7.72c-.78.78-.78 2.05 0 2.83L4 21.41c.39.39.9.59 1.41.59.51 0 1.02-.2 1.41-.59l7.78-7.78 2.81-2.81c.8-.78.8-2.07 0-2.86zM5.41 20L4 18.59l7.72-7.72 1.47 1.35L5.41 20z\"/>\n",
              "  </svg>\n",
              "      </button>\n",
              "      \n",
              "  <style>\n",
              "    .colab-df-container {\n",
              "      display:flex;\n",
              "      flex-wrap:wrap;\n",
              "      gap: 12px;\n",
              "    }\n",
              "\n",
              "    .colab-df-convert {\n",
              "      background-color: #E8F0FE;\n",
              "      border: none;\n",
              "      border-radius: 50%;\n",
              "      cursor: pointer;\n",
              "      display: none;\n",
              "      fill: #1967D2;\n",
              "      height: 32px;\n",
              "      padding: 0 0 0 0;\n",
              "      width: 32px;\n",
              "    }\n",
              "\n",
              "    .colab-df-convert:hover {\n",
              "      background-color: #E2EBFA;\n",
              "      box-shadow: 0px 1px 2px rgba(60, 64, 67, 0.3), 0px 1px 3px 1px rgba(60, 64, 67, 0.15);\n",
              "      fill: #174EA6;\n",
              "    }\n",
              "\n",
              "    [theme=dark] .colab-df-convert {\n",
              "      background-color: #3B4455;\n",
              "      fill: #D2E3FC;\n",
              "    }\n",
              "\n",
              "    [theme=dark] .colab-df-convert:hover {\n",
              "      background-color: #434B5C;\n",
              "      box-shadow: 0px 1px 3px 1px rgba(0, 0, 0, 0.15);\n",
              "      filter: drop-shadow(0px 1px 2px rgba(0, 0, 0, 0.3));\n",
              "      fill: #FFFFFF;\n",
              "    }\n",
              "  </style>\n",
              "\n",
              "      <script>\n",
              "        const buttonEl =\n",
              "          document.querySelector('#df-182aa62b-d62f-4123-818e-8741fdad9091 button.colab-df-convert');\n",
              "        buttonEl.style.display =\n",
              "          google.colab.kernel.accessAllowed ? 'block' : 'none';\n",
              "\n",
              "        async function convertToInteractive(key) {\n",
              "          const element = document.querySelector('#df-182aa62b-d62f-4123-818e-8741fdad9091');\n",
              "          const dataTable =\n",
              "            await google.colab.kernel.invokeFunction('convertToInteractive',\n",
              "                                                     [key], {});\n",
              "          if (!dataTable) return;\n",
              "\n",
              "          const docLinkHtml = 'Like what you see? Visit the ' +\n",
              "            '<a target=\"_blank\" href=https://colab.research.google.com/notebooks/data_table.ipynb>data table notebook</a>'\n",
              "            + ' to learn more about interactive tables.';\n",
              "          element.innerHTML = '';\n",
              "          dataTable['output_type'] = 'display_data';\n",
              "          await google.colab.output.renderOutput(dataTable, element);\n",
              "          const docLink = document.createElement('div');\n",
              "          docLink.innerHTML = docLinkHtml;\n",
              "          element.appendChild(docLink);\n",
              "        }\n",
              "      </script>\n",
              "    </div>\n",
              "  </div>\n",
              "  "
            ]
          },
          "metadata": {},
          "execution_count": 63
        }
      ]
    },
    {
      "cell_type": "code",
      "source": [
        "input_cols=['id',\n",
        " 'type',\n",
        " 'gym',\n",
        " 'lift',\n",
        " 'swimming_pool',\n",
        " 'negotiable',\n",
        " 'furnishing',\n",
        " 'parking',\n",
        " 'property_size',\n",
        " 'property_age',\n",
        " 'bathroom',\n",
        " 'facing',\n",
        " 'cup_board',\n",
        " 'floor',\n",
        " 'total_floor',\n",
        " 'water_supply',\n",
        " 'building_type',\n",
        " 'balconies',\n",
        " ]"
      ],
      "metadata": {
        "id": "ieQElgur27K6"
      },
      "execution_count": 64,
      "outputs": []
    },
    {
      "cell_type": "code",
      "source": [
        "target_cols=['rent']"
      ],
      "metadata": {
        "id": "e9Eu_06c3J55"
      },
      "execution_count": 65,
      "outputs": []
    },
    {
      "cell_type": "code",
      "source": [
        "train_inputs1=train_df1[input_cols]\n",
        "train_inputs1.head(5)"
      ],
      "metadata": {
        "colab": {
          "base_uri": "https://localhost:8080/",
          "height": 270
        },
        "id": "WIbYBCZt3MAp",
        "outputId": "3154ac8e-2888-4db1-ee38-5bd2a95bfd0f"
      },
      "execution_count": 66,
      "outputs": [
        {
          "output_type": "execute_result",
          "data": {
            "text/plain": [
              "                                     id  type  gym  lift  swimming_pool  \\\n",
              "10087  ff8081815239c00501523afa9bd91094     1    0     0              0   \n",
              "14619  ff8081815c022dd3015c053bf6886366     2    0     0              0   \n",
              "5368   ff8081814fdb74dc014fde80bf640994     2    0     0              0   \n",
              "14832  ff80818162a582350162a8b4a5880000     2    1     1              0   \n",
              "12448  ff80818157bd3a640157bd5fa534033e     0    0     0              0   \n",
              "\n",
              "       negotiable  furnishing  parking  property_size  property_age  bathroom  \\\n",
              "10087           0           0        1            600             1         1   \n",
              "14619           1           1        3           1000             0         2   \n",
              "5368            1           1        3           1055             1         2   \n",
              "14832           0           1        2           1200             9         2   \n",
              "12448           0           1        1            230             3         1   \n",
              "\n",
              "       facing  cup_board  floor  total_floor  water_supply  building_type  \\\n",
              "10087       6          0      1            3             1              2   \n",
              "14619       6          2      0           13             1              1   \n",
              "5368        6          4      3            3             0              1   \n",
              "14832       4          2      2            4             2              1   \n",
              "12448       6          1      0            3             1              3   \n",
              "\n",
              "       balconies  \n",
              "10087          0  \n",
              "14619          2  \n",
              "5368           1  \n",
              "14832          0  \n",
              "12448          0  "
            ],
            "text/html": [
              "\n",
              "  <div id=\"df-6094fad0-2e92-45ad-be93-6b044c3c2934\">\n",
              "    <div class=\"colab-df-container\">\n",
              "      <div>\n",
              "<style scoped>\n",
              "    .dataframe tbody tr th:only-of-type {\n",
              "        vertical-align: middle;\n",
              "    }\n",
              "\n",
              "    .dataframe tbody tr th {\n",
              "        vertical-align: top;\n",
              "    }\n",
              "\n",
              "    .dataframe thead th {\n",
              "        text-align: right;\n",
              "    }\n",
              "</style>\n",
              "<table border=\"1\" class=\"dataframe\">\n",
              "  <thead>\n",
              "    <tr style=\"text-align: right;\">\n",
              "      <th></th>\n",
              "      <th>id</th>\n",
              "      <th>type</th>\n",
              "      <th>gym</th>\n",
              "      <th>lift</th>\n",
              "      <th>swimming_pool</th>\n",
              "      <th>negotiable</th>\n",
              "      <th>furnishing</th>\n",
              "      <th>parking</th>\n",
              "      <th>property_size</th>\n",
              "      <th>property_age</th>\n",
              "      <th>bathroom</th>\n",
              "      <th>facing</th>\n",
              "      <th>cup_board</th>\n",
              "      <th>floor</th>\n",
              "      <th>total_floor</th>\n",
              "      <th>water_supply</th>\n",
              "      <th>building_type</th>\n",
              "      <th>balconies</th>\n",
              "    </tr>\n",
              "  </thead>\n",
              "  <tbody>\n",
              "    <tr>\n",
              "      <th>10087</th>\n",
              "      <td>ff8081815239c00501523afa9bd91094</td>\n",
              "      <td>1</td>\n",
              "      <td>0</td>\n",
              "      <td>0</td>\n",
              "      <td>0</td>\n",
              "      <td>0</td>\n",
              "      <td>0</td>\n",
              "      <td>1</td>\n",
              "      <td>600</td>\n",
              "      <td>1</td>\n",
              "      <td>1</td>\n",
              "      <td>6</td>\n",
              "      <td>0</td>\n",
              "      <td>1</td>\n",
              "      <td>3</td>\n",
              "      <td>1</td>\n",
              "      <td>2</td>\n",
              "      <td>0</td>\n",
              "    </tr>\n",
              "    <tr>\n",
              "      <th>14619</th>\n",
              "      <td>ff8081815c022dd3015c053bf6886366</td>\n",
              "      <td>2</td>\n",
              "      <td>0</td>\n",
              "      <td>0</td>\n",
              "      <td>0</td>\n",
              "      <td>1</td>\n",
              "      <td>1</td>\n",
              "      <td>3</td>\n",
              "      <td>1000</td>\n",
              "      <td>0</td>\n",
              "      <td>2</td>\n",
              "      <td>6</td>\n",
              "      <td>2</td>\n",
              "      <td>0</td>\n",
              "      <td>13</td>\n",
              "      <td>1</td>\n",
              "      <td>1</td>\n",
              "      <td>2</td>\n",
              "    </tr>\n",
              "    <tr>\n",
              "      <th>5368</th>\n",
              "      <td>ff8081814fdb74dc014fde80bf640994</td>\n",
              "      <td>2</td>\n",
              "      <td>0</td>\n",
              "      <td>0</td>\n",
              "      <td>0</td>\n",
              "      <td>1</td>\n",
              "      <td>1</td>\n",
              "      <td>3</td>\n",
              "      <td>1055</td>\n",
              "      <td>1</td>\n",
              "      <td>2</td>\n",
              "      <td>6</td>\n",
              "      <td>4</td>\n",
              "      <td>3</td>\n",
              "      <td>3</td>\n",
              "      <td>0</td>\n",
              "      <td>1</td>\n",
              "      <td>1</td>\n",
              "    </tr>\n",
              "    <tr>\n",
              "      <th>14832</th>\n",
              "      <td>ff80818162a582350162a8b4a5880000</td>\n",
              "      <td>2</td>\n",
              "      <td>1</td>\n",
              "      <td>1</td>\n",
              "      <td>0</td>\n",
              "      <td>0</td>\n",
              "      <td>1</td>\n",
              "      <td>2</td>\n",
              "      <td>1200</td>\n",
              "      <td>9</td>\n",
              "      <td>2</td>\n",
              "      <td>4</td>\n",
              "      <td>2</td>\n",
              "      <td>2</td>\n",
              "      <td>4</td>\n",
              "      <td>2</td>\n",
              "      <td>1</td>\n",
              "      <td>0</td>\n",
              "    </tr>\n",
              "    <tr>\n",
              "      <th>12448</th>\n",
              "      <td>ff80818157bd3a640157bd5fa534033e</td>\n",
              "      <td>0</td>\n",
              "      <td>0</td>\n",
              "      <td>0</td>\n",
              "      <td>0</td>\n",
              "      <td>0</td>\n",
              "      <td>1</td>\n",
              "      <td>1</td>\n",
              "      <td>230</td>\n",
              "      <td>3</td>\n",
              "      <td>1</td>\n",
              "      <td>6</td>\n",
              "      <td>1</td>\n",
              "      <td>0</td>\n",
              "      <td>3</td>\n",
              "      <td>1</td>\n",
              "      <td>3</td>\n",
              "      <td>0</td>\n",
              "    </tr>\n",
              "  </tbody>\n",
              "</table>\n",
              "</div>\n",
              "      <button class=\"colab-df-convert\" onclick=\"convertToInteractive('df-6094fad0-2e92-45ad-be93-6b044c3c2934')\"\n",
              "              title=\"Convert this dataframe to an interactive table.\"\n",
              "              style=\"display:none;\">\n",
              "        \n",
              "  <svg xmlns=\"http://www.w3.org/2000/svg\" height=\"24px\"viewBox=\"0 0 24 24\"\n",
              "       width=\"24px\">\n",
              "    <path d=\"M0 0h24v24H0V0z\" fill=\"none\"/>\n",
              "    <path d=\"M18.56 5.44l.94 2.06.94-2.06 2.06-.94-2.06-.94-.94-2.06-.94 2.06-2.06.94zm-11 1L8.5 8.5l.94-2.06 2.06-.94-2.06-.94L8.5 2.5l-.94 2.06-2.06.94zm10 10l.94 2.06.94-2.06 2.06-.94-2.06-.94-.94-2.06-.94 2.06-2.06.94z\"/><path d=\"M17.41 7.96l-1.37-1.37c-.4-.4-.92-.59-1.43-.59-.52 0-1.04.2-1.43.59L10.3 9.45l-7.72 7.72c-.78.78-.78 2.05 0 2.83L4 21.41c.39.39.9.59 1.41.59.51 0 1.02-.2 1.41-.59l7.78-7.78 2.81-2.81c.8-.78.8-2.07 0-2.86zM5.41 20L4 18.59l7.72-7.72 1.47 1.35L5.41 20z\"/>\n",
              "  </svg>\n",
              "      </button>\n",
              "      \n",
              "  <style>\n",
              "    .colab-df-container {\n",
              "      display:flex;\n",
              "      flex-wrap:wrap;\n",
              "      gap: 12px;\n",
              "    }\n",
              "\n",
              "    .colab-df-convert {\n",
              "      background-color: #E8F0FE;\n",
              "      border: none;\n",
              "      border-radius: 50%;\n",
              "      cursor: pointer;\n",
              "      display: none;\n",
              "      fill: #1967D2;\n",
              "      height: 32px;\n",
              "      padding: 0 0 0 0;\n",
              "      width: 32px;\n",
              "    }\n",
              "\n",
              "    .colab-df-convert:hover {\n",
              "      background-color: #E2EBFA;\n",
              "      box-shadow: 0px 1px 2px rgba(60, 64, 67, 0.3), 0px 1px 3px 1px rgba(60, 64, 67, 0.15);\n",
              "      fill: #174EA6;\n",
              "    }\n",
              "\n",
              "    [theme=dark] .colab-df-convert {\n",
              "      background-color: #3B4455;\n",
              "      fill: #D2E3FC;\n",
              "    }\n",
              "\n",
              "    [theme=dark] .colab-df-convert:hover {\n",
              "      background-color: #434B5C;\n",
              "      box-shadow: 0px 1px 3px 1px rgba(0, 0, 0, 0.15);\n",
              "      filter: drop-shadow(0px 1px 2px rgba(0, 0, 0, 0.3));\n",
              "      fill: #FFFFFF;\n",
              "    }\n",
              "  </style>\n",
              "\n",
              "      <script>\n",
              "        const buttonEl =\n",
              "          document.querySelector('#df-6094fad0-2e92-45ad-be93-6b044c3c2934 button.colab-df-convert');\n",
              "        buttonEl.style.display =\n",
              "          google.colab.kernel.accessAllowed ? 'block' : 'none';\n",
              "\n",
              "        async function convertToInteractive(key) {\n",
              "          const element = document.querySelector('#df-6094fad0-2e92-45ad-be93-6b044c3c2934');\n",
              "          const dataTable =\n",
              "            await google.colab.kernel.invokeFunction('convertToInteractive',\n",
              "                                                     [key], {});\n",
              "          if (!dataTable) return;\n",
              "\n",
              "          const docLinkHtml = 'Like what you see? Visit the ' +\n",
              "            '<a target=\"_blank\" href=https://colab.research.google.com/notebooks/data_table.ipynb>data table notebook</a>'\n",
              "            + ' to learn more about interactive tables.';\n",
              "          element.innerHTML = '';\n",
              "          dataTable['output_type'] = 'display_data';\n",
              "          await google.colab.output.renderOutput(dataTable, element);\n",
              "          const docLink = document.createElement('div');\n",
              "          docLink.innerHTML = docLinkHtml;\n",
              "          element.appendChild(docLink);\n",
              "        }\n",
              "      </script>\n",
              "    </div>\n",
              "  </div>\n",
              "  "
            ]
          },
          "metadata": {},
          "execution_count": 66
        }
      ]
    },
    {
      "cell_type": "code",
      "source": [
        "train_targets=train_df1[target_cols]\n",
        "train_targets.head(5)"
      ],
      "metadata": {
        "colab": {
          "base_uri": "https://localhost:8080/",
          "height": 206
        },
        "id": "cbwzxX8a3bjv",
        "outputId": "4001dd04-02d5-4e56-cd26-6e4d70ec003b"
      },
      "execution_count": 67,
      "outputs": [
        {
          "output_type": "execute_result",
          "data": {
            "text/plain": [
              "        rent\n",
              "10087   8500\n",
              "14619  25000\n",
              "5368   21500\n",
              "14832  22500\n",
              "12448   8000"
            ],
            "text/html": [
              "\n",
              "  <div id=\"df-09804a72-7be7-4034-8a10-78a910b82127\">\n",
              "    <div class=\"colab-df-container\">\n",
              "      <div>\n",
              "<style scoped>\n",
              "    .dataframe tbody tr th:only-of-type {\n",
              "        vertical-align: middle;\n",
              "    }\n",
              "\n",
              "    .dataframe tbody tr th {\n",
              "        vertical-align: top;\n",
              "    }\n",
              "\n",
              "    .dataframe thead th {\n",
              "        text-align: right;\n",
              "    }\n",
              "</style>\n",
              "<table border=\"1\" class=\"dataframe\">\n",
              "  <thead>\n",
              "    <tr style=\"text-align: right;\">\n",
              "      <th></th>\n",
              "      <th>rent</th>\n",
              "    </tr>\n",
              "  </thead>\n",
              "  <tbody>\n",
              "    <tr>\n",
              "      <th>10087</th>\n",
              "      <td>8500</td>\n",
              "    </tr>\n",
              "    <tr>\n",
              "      <th>14619</th>\n",
              "      <td>25000</td>\n",
              "    </tr>\n",
              "    <tr>\n",
              "      <th>5368</th>\n",
              "      <td>21500</td>\n",
              "    </tr>\n",
              "    <tr>\n",
              "      <th>14832</th>\n",
              "      <td>22500</td>\n",
              "    </tr>\n",
              "    <tr>\n",
              "      <th>12448</th>\n",
              "      <td>8000</td>\n",
              "    </tr>\n",
              "  </tbody>\n",
              "</table>\n",
              "</div>\n",
              "      <button class=\"colab-df-convert\" onclick=\"convertToInteractive('df-09804a72-7be7-4034-8a10-78a910b82127')\"\n",
              "              title=\"Convert this dataframe to an interactive table.\"\n",
              "              style=\"display:none;\">\n",
              "        \n",
              "  <svg xmlns=\"http://www.w3.org/2000/svg\" height=\"24px\"viewBox=\"0 0 24 24\"\n",
              "       width=\"24px\">\n",
              "    <path d=\"M0 0h24v24H0V0z\" fill=\"none\"/>\n",
              "    <path d=\"M18.56 5.44l.94 2.06.94-2.06 2.06-.94-2.06-.94-.94-2.06-.94 2.06-2.06.94zm-11 1L8.5 8.5l.94-2.06 2.06-.94-2.06-.94L8.5 2.5l-.94 2.06-2.06.94zm10 10l.94 2.06.94-2.06 2.06-.94-2.06-.94-.94-2.06-.94 2.06-2.06.94z\"/><path d=\"M17.41 7.96l-1.37-1.37c-.4-.4-.92-.59-1.43-.59-.52 0-1.04.2-1.43.59L10.3 9.45l-7.72 7.72c-.78.78-.78 2.05 0 2.83L4 21.41c.39.39.9.59 1.41.59.51 0 1.02-.2 1.41-.59l7.78-7.78 2.81-2.81c.8-.78.8-2.07 0-2.86zM5.41 20L4 18.59l7.72-7.72 1.47 1.35L5.41 20z\"/>\n",
              "  </svg>\n",
              "      </button>\n",
              "      \n",
              "  <style>\n",
              "    .colab-df-container {\n",
              "      display:flex;\n",
              "      flex-wrap:wrap;\n",
              "      gap: 12px;\n",
              "    }\n",
              "\n",
              "    .colab-df-convert {\n",
              "      background-color: #E8F0FE;\n",
              "      border: none;\n",
              "      border-radius: 50%;\n",
              "      cursor: pointer;\n",
              "      display: none;\n",
              "      fill: #1967D2;\n",
              "      height: 32px;\n",
              "      padding: 0 0 0 0;\n",
              "      width: 32px;\n",
              "    }\n",
              "\n",
              "    .colab-df-convert:hover {\n",
              "      background-color: #E2EBFA;\n",
              "      box-shadow: 0px 1px 2px rgba(60, 64, 67, 0.3), 0px 1px 3px 1px rgba(60, 64, 67, 0.15);\n",
              "      fill: #174EA6;\n",
              "    }\n",
              "\n",
              "    [theme=dark] .colab-df-convert {\n",
              "      background-color: #3B4455;\n",
              "      fill: #D2E3FC;\n",
              "    }\n",
              "\n",
              "    [theme=dark] .colab-df-convert:hover {\n",
              "      background-color: #434B5C;\n",
              "      box-shadow: 0px 1px 3px 1px rgba(0, 0, 0, 0.15);\n",
              "      filter: drop-shadow(0px 1px 2px rgba(0, 0, 0, 0.3));\n",
              "      fill: #FFFFFF;\n",
              "    }\n",
              "  </style>\n",
              "\n",
              "      <script>\n",
              "        const buttonEl =\n",
              "          document.querySelector('#df-09804a72-7be7-4034-8a10-78a910b82127 button.colab-df-convert');\n",
              "        buttonEl.style.display =\n",
              "          google.colab.kernel.accessAllowed ? 'block' : 'none';\n",
              "\n",
              "        async function convertToInteractive(key) {\n",
              "          const element = document.querySelector('#df-09804a72-7be7-4034-8a10-78a910b82127');\n",
              "          const dataTable =\n",
              "            await google.colab.kernel.invokeFunction('convertToInteractive',\n",
              "                                                     [key], {});\n",
              "          if (!dataTable) return;\n",
              "\n",
              "          const docLinkHtml = 'Like what you see? Visit the ' +\n",
              "            '<a target=\"_blank\" href=https://colab.research.google.com/notebooks/data_table.ipynb>data table notebook</a>'\n",
              "            + ' to learn more about interactive tables.';\n",
              "          element.innerHTML = '';\n",
              "          dataTable['output_type'] = 'display_data';\n",
              "          await google.colab.output.renderOutput(dataTable, element);\n",
              "          const docLink = document.createElement('div');\n",
              "          docLink.innerHTML = docLinkHtml;\n",
              "          element.appendChild(docLink);\n",
              "        }\n",
              "      </script>\n",
              "    </div>\n",
              "  </div>\n",
              "  "
            ]
          },
          "metadata": {},
          "execution_count": 67
        }
      ]
    },
    {
      "cell_type": "code",
      "source": [
        "val_inputs1=val_df1[input_cols]\n",
        "val_inputs1.head(5)"
      ],
      "metadata": {
        "colab": {
          "base_uri": "https://localhost:8080/",
          "height": 270
        },
        "id": "_GHsDwzP3p0M",
        "outputId": "5d82c280-cf69-4f6f-acee-efbd36e2513b"
      },
      "execution_count": 68,
      "outputs": [
        {
          "output_type": "execute_result",
          "data": {
            "text/plain": [
              "                                     id  type  gym  lift  swimming_pool  \\\n",
              "16330  ff8081816108a00501610915abc93a4b     2    1     1              1   \n",
              "7850   ff8081815aacc98e015aae15194752a5     2    0     0              0   \n",
              "13547  ff80818158de4fb60158dea009ce0ed2     0    0     0              0   \n",
              "5565   ff80818160204e9b0160267e7faf7a7f     2    0     0              0   \n",
              "10606  ff808181638d2a350163909b97eb7088     2    0     0              0   \n",
              "\n",
              "       negotiable  furnishing  parking  property_size  property_age  bathroom  \\\n",
              "16330           1           1        3           1505             1         2   \n",
              "7850            1           1        1            743            15         2   \n",
              "13547           0           1        1            200            10         1   \n",
              "5565            1           1        3           1000             0         2   \n",
              "10606           0           1        1            500            10         1   \n",
              "\n",
              "       facing  cup_board  floor  total_floor  water_supply  building_type  \\\n",
              "16330       7          3      3            5             1              1   \n",
              "7850        7          2      1            2             1              2   \n",
              "13547       4          1      0            3             1              3   \n",
              "5565        7          2      0            3             2              1   \n",
              "10606       0          2      1            3             2              1   \n",
              "\n",
              "       balconies  \n",
              "16330          2  \n",
              "7850           0  \n",
              "13547          1  \n",
              "5565           0  \n",
              "10606          1  "
            ],
            "text/html": [
              "\n",
              "  <div id=\"df-2c589199-961c-42c5-858c-a03e3b1dccdc\">\n",
              "    <div class=\"colab-df-container\">\n",
              "      <div>\n",
              "<style scoped>\n",
              "    .dataframe tbody tr th:only-of-type {\n",
              "        vertical-align: middle;\n",
              "    }\n",
              "\n",
              "    .dataframe tbody tr th {\n",
              "        vertical-align: top;\n",
              "    }\n",
              "\n",
              "    .dataframe thead th {\n",
              "        text-align: right;\n",
              "    }\n",
              "</style>\n",
              "<table border=\"1\" class=\"dataframe\">\n",
              "  <thead>\n",
              "    <tr style=\"text-align: right;\">\n",
              "      <th></th>\n",
              "      <th>id</th>\n",
              "      <th>type</th>\n",
              "      <th>gym</th>\n",
              "      <th>lift</th>\n",
              "      <th>swimming_pool</th>\n",
              "      <th>negotiable</th>\n",
              "      <th>furnishing</th>\n",
              "      <th>parking</th>\n",
              "      <th>property_size</th>\n",
              "      <th>property_age</th>\n",
              "      <th>bathroom</th>\n",
              "      <th>facing</th>\n",
              "      <th>cup_board</th>\n",
              "      <th>floor</th>\n",
              "      <th>total_floor</th>\n",
              "      <th>water_supply</th>\n",
              "      <th>building_type</th>\n",
              "      <th>balconies</th>\n",
              "    </tr>\n",
              "  </thead>\n",
              "  <tbody>\n",
              "    <tr>\n",
              "      <th>16330</th>\n",
              "      <td>ff8081816108a00501610915abc93a4b</td>\n",
              "      <td>2</td>\n",
              "      <td>1</td>\n",
              "      <td>1</td>\n",
              "      <td>1</td>\n",
              "      <td>1</td>\n",
              "      <td>1</td>\n",
              "      <td>3</td>\n",
              "      <td>1505</td>\n",
              "      <td>1</td>\n",
              "      <td>2</td>\n",
              "      <td>7</td>\n",
              "      <td>3</td>\n",
              "      <td>3</td>\n",
              "      <td>5</td>\n",
              "      <td>1</td>\n",
              "      <td>1</td>\n",
              "      <td>2</td>\n",
              "    </tr>\n",
              "    <tr>\n",
              "      <th>7850</th>\n",
              "      <td>ff8081815aacc98e015aae15194752a5</td>\n",
              "      <td>2</td>\n",
              "      <td>0</td>\n",
              "      <td>0</td>\n",
              "      <td>0</td>\n",
              "      <td>1</td>\n",
              "      <td>1</td>\n",
              "      <td>1</td>\n",
              "      <td>743</td>\n",
              "      <td>15</td>\n",
              "      <td>2</td>\n",
              "      <td>7</td>\n",
              "      <td>2</td>\n",
              "      <td>1</td>\n",
              "      <td>2</td>\n",
              "      <td>1</td>\n",
              "      <td>2</td>\n",
              "      <td>0</td>\n",
              "    </tr>\n",
              "    <tr>\n",
              "      <th>13547</th>\n",
              "      <td>ff80818158de4fb60158dea009ce0ed2</td>\n",
              "      <td>0</td>\n",
              "      <td>0</td>\n",
              "      <td>0</td>\n",
              "      <td>0</td>\n",
              "      <td>0</td>\n",
              "      <td>1</td>\n",
              "      <td>1</td>\n",
              "      <td>200</td>\n",
              "      <td>10</td>\n",
              "      <td>1</td>\n",
              "      <td>4</td>\n",
              "      <td>1</td>\n",
              "      <td>0</td>\n",
              "      <td>3</td>\n",
              "      <td>1</td>\n",
              "      <td>3</td>\n",
              "      <td>1</td>\n",
              "    </tr>\n",
              "    <tr>\n",
              "      <th>5565</th>\n",
              "      <td>ff80818160204e9b0160267e7faf7a7f</td>\n",
              "      <td>2</td>\n",
              "      <td>0</td>\n",
              "      <td>0</td>\n",
              "      <td>0</td>\n",
              "      <td>1</td>\n",
              "      <td>1</td>\n",
              "      <td>3</td>\n",
              "      <td>1000</td>\n",
              "      <td>0</td>\n",
              "      <td>2</td>\n",
              "      <td>7</td>\n",
              "      <td>2</td>\n",
              "      <td>0</td>\n",
              "      <td>3</td>\n",
              "      <td>2</td>\n",
              "      <td>1</td>\n",
              "      <td>0</td>\n",
              "    </tr>\n",
              "    <tr>\n",
              "      <th>10606</th>\n",
              "      <td>ff808181638d2a350163909b97eb7088</td>\n",
              "      <td>2</td>\n",
              "      <td>0</td>\n",
              "      <td>0</td>\n",
              "      <td>0</td>\n",
              "      <td>0</td>\n",
              "      <td>1</td>\n",
              "      <td>1</td>\n",
              "      <td>500</td>\n",
              "      <td>10</td>\n",
              "      <td>1</td>\n",
              "      <td>0</td>\n",
              "      <td>2</td>\n",
              "      <td>1</td>\n",
              "      <td>3</td>\n",
              "      <td>2</td>\n",
              "      <td>1</td>\n",
              "      <td>1</td>\n",
              "    </tr>\n",
              "  </tbody>\n",
              "</table>\n",
              "</div>\n",
              "      <button class=\"colab-df-convert\" onclick=\"convertToInteractive('df-2c589199-961c-42c5-858c-a03e3b1dccdc')\"\n",
              "              title=\"Convert this dataframe to an interactive table.\"\n",
              "              style=\"display:none;\">\n",
              "        \n",
              "  <svg xmlns=\"http://www.w3.org/2000/svg\" height=\"24px\"viewBox=\"0 0 24 24\"\n",
              "       width=\"24px\">\n",
              "    <path d=\"M0 0h24v24H0V0z\" fill=\"none\"/>\n",
              "    <path d=\"M18.56 5.44l.94 2.06.94-2.06 2.06-.94-2.06-.94-.94-2.06-.94 2.06-2.06.94zm-11 1L8.5 8.5l.94-2.06 2.06-.94-2.06-.94L8.5 2.5l-.94 2.06-2.06.94zm10 10l.94 2.06.94-2.06 2.06-.94-2.06-.94-.94-2.06-.94 2.06-2.06.94z\"/><path d=\"M17.41 7.96l-1.37-1.37c-.4-.4-.92-.59-1.43-.59-.52 0-1.04.2-1.43.59L10.3 9.45l-7.72 7.72c-.78.78-.78 2.05 0 2.83L4 21.41c.39.39.9.59 1.41.59.51 0 1.02-.2 1.41-.59l7.78-7.78 2.81-2.81c.8-.78.8-2.07 0-2.86zM5.41 20L4 18.59l7.72-7.72 1.47 1.35L5.41 20z\"/>\n",
              "  </svg>\n",
              "      </button>\n",
              "      \n",
              "  <style>\n",
              "    .colab-df-container {\n",
              "      display:flex;\n",
              "      flex-wrap:wrap;\n",
              "      gap: 12px;\n",
              "    }\n",
              "\n",
              "    .colab-df-convert {\n",
              "      background-color: #E8F0FE;\n",
              "      border: none;\n",
              "      border-radius: 50%;\n",
              "      cursor: pointer;\n",
              "      display: none;\n",
              "      fill: #1967D2;\n",
              "      height: 32px;\n",
              "      padding: 0 0 0 0;\n",
              "      width: 32px;\n",
              "    }\n",
              "\n",
              "    .colab-df-convert:hover {\n",
              "      background-color: #E2EBFA;\n",
              "      box-shadow: 0px 1px 2px rgba(60, 64, 67, 0.3), 0px 1px 3px 1px rgba(60, 64, 67, 0.15);\n",
              "      fill: #174EA6;\n",
              "    }\n",
              "\n",
              "    [theme=dark] .colab-df-convert {\n",
              "      background-color: #3B4455;\n",
              "      fill: #D2E3FC;\n",
              "    }\n",
              "\n",
              "    [theme=dark] .colab-df-convert:hover {\n",
              "      background-color: #434B5C;\n",
              "      box-shadow: 0px 1px 3px 1px rgba(0, 0, 0, 0.15);\n",
              "      filter: drop-shadow(0px 1px 2px rgba(0, 0, 0, 0.3));\n",
              "      fill: #FFFFFF;\n",
              "    }\n",
              "  </style>\n",
              "\n",
              "      <script>\n",
              "        const buttonEl =\n",
              "          document.querySelector('#df-2c589199-961c-42c5-858c-a03e3b1dccdc button.colab-df-convert');\n",
              "        buttonEl.style.display =\n",
              "          google.colab.kernel.accessAllowed ? 'block' : 'none';\n",
              "\n",
              "        async function convertToInteractive(key) {\n",
              "          const element = document.querySelector('#df-2c589199-961c-42c5-858c-a03e3b1dccdc');\n",
              "          const dataTable =\n",
              "            await google.colab.kernel.invokeFunction('convertToInteractive',\n",
              "                                                     [key], {});\n",
              "          if (!dataTable) return;\n",
              "\n",
              "          const docLinkHtml = 'Like what you see? Visit the ' +\n",
              "            '<a target=\"_blank\" href=https://colab.research.google.com/notebooks/data_table.ipynb>data table notebook</a>'\n",
              "            + ' to learn more about interactive tables.';\n",
              "          element.innerHTML = '';\n",
              "          dataTable['output_type'] = 'display_data';\n",
              "          await google.colab.output.renderOutput(dataTable, element);\n",
              "          const docLink = document.createElement('div');\n",
              "          docLink.innerHTML = docLinkHtml;\n",
              "          element.appendChild(docLink);\n",
              "        }\n",
              "      </script>\n",
              "    </div>\n",
              "  </div>\n",
              "  "
            ]
          },
          "metadata": {},
          "execution_count": 68
        }
      ]
    },
    {
      "cell_type": "code",
      "source": [
        "val_targets=val_df1[target_cols]\n",
        "val_targets.head(5)"
      ],
      "metadata": {
        "colab": {
          "base_uri": "https://localhost:8080/",
          "height": 206
        },
        "id": "OzaboMCj3vIA",
        "outputId": "b02ea0b4-9808-4b33-d737-9acd8318b560"
      },
      "execution_count": 69,
      "outputs": [
        {
          "output_type": "execute_result",
          "data": {
            "text/plain": [
              "        rent\n",
              "16330  22000\n",
              "7850   22000\n",
              "13547   8250\n",
              "5565   20000\n",
              "10606  12500"
            ],
            "text/html": [
              "\n",
              "  <div id=\"df-00e902f4-d432-47d4-a590-867354db99b8\">\n",
              "    <div class=\"colab-df-container\">\n",
              "      <div>\n",
              "<style scoped>\n",
              "    .dataframe tbody tr th:only-of-type {\n",
              "        vertical-align: middle;\n",
              "    }\n",
              "\n",
              "    .dataframe tbody tr th {\n",
              "        vertical-align: top;\n",
              "    }\n",
              "\n",
              "    .dataframe thead th {\n",
              "        text-align: right;\n",
              "    }\n",
              "</style>\n",
              "<table border=\"1\" class=\"dataframe\">\n",
              "  <thead>\n",
              "    <tr style=\"text-align: right;\">\n",
              "      <th></th>\n",
              "      <th>rent</th>\n",
              "    </tr>\n",
              "  </thead>\n",
              "  <tbody>\n",
              "    <tr>\n",
              "      <th>16330</th>\n",
              "      <td>22000</td>\n",
              "    </tr>\n",
              "    <tr>\n",
              "      <th>7850</th>\n",
              "      <td>22000</td>\n",
              "    </tr>\n",
              "    <tr>\n",
              "      <th>13547</th>\n",
              "      <td>8250</td>\n",
              "    </tr>\n",
              "    <tr>\n",
              "      <th>5565</th>\n",
              "      <td>20000</td>\n",
              "    </tr>\n",
              "    <tr>\n",
              "      <th>10606</th>\n",
              "      <td>12500</td>\n",
              "    </tr>\n",
              "  </tbody>\n",
              "</table>\n",
              "</div>\n",
              "      <button class=\"colab-df-convert\" onclick=\"convertToInteractive('df-00e902f4-d432-47d4-a590-867354db99b8')\"\n",
              "              title=\"Convert this dataframe to an interactive table.\"\n",
              "              style=\"display:none;\">\n",
              "        \n",
              "  <svg xmlns=\"http://www.w3.org/2000/svg\" height=\"24px\"viewBox=\"0 0 24 24\"\n",
              "       width=\"24px\">\n",
              "    <path d=\"M0 0h24v24H0V0z\" fill=\"none\"/>\n",
              "    <path d=\"M18.56 5.44l.94 2.06.94-2.06 2.06-.94-2.06-.94-.94-2.06-.94 2.06-2.06.94zm-11 1L8.5 8.5l.94-2.06 2.06-.94-2.06-.94L8.5 2.5l-.94 2.06-2.06.94zm10 10l.94 2.06.94-2.06 2.06-.94-2.06-.94-.94-2.06-.94 2.06-2.06.94z\"/><path d=\"M17.41 7.96l-1.37-1.37c-.4-.4-.92-.59-1.43-.59-.52 0-1.04.2-1.43.59L10.3 9.45l-7.72 7.72c-.78.78-.78 2.05 0 2.83L4 21.41c.39.39.9.59 1.41.59.51 0 1.02-.2 1.41-.59l7.78-7.78 2.81-2.81c.8-.78.8-2.07 0-2.86zM5.41 20L4 18.59l7.72-7.72 1.47 1.35L5.41 20z\"/>\n",
              "  </svg>\n",
              "      </button>\n",
              "      \n",
              "  <style>\n",
              "    .colab-df-container {\n",
              "      display:flex;\n",
              "      flex-wrap:wrap;\n",
              "      gap: 12px;\n",
              "    }\n",
              "\n",
              "    .colab-df-convert {\n",
              "      background-color: #E8F0FE;\n",
              "      border: none;\n",
              "      border-radius: 50%;\n",
              "      cursor: pointer;\n",
              "      display: none;\n",
              "      fill: #1967D2;\n",
              "      height: 32px;\n",
              "      padding: 0 0 0 0;\n",
              "      width: 32px;\n",
              "    }\n",
              "\n",
              "    .colab-df-convert:hover {\n",
              "      background-color: #E2EBFA;\n",
              "      box-shadow: 0px 1px 2px rgba(60, 64, 67, 0.3), 0px 1px 3px 1px rgba(60, 64, 67, 0.15);\n",
              "      fill: #174EA6;\n",
              "    }\n",
              "\n",
              "    [theme=dark] .colab-df-convert {\n",
              "      background-color: #3B4455;\n",
              "      fill: #D2E3FC;\n",
              "    }\n",
              "\n",
              "    [theme=dark] .colab-df-convert:hover {\n",
              "      background-color: #434B5C;\n",
              "      box-shadow: 0px 1px 3px 1px rgba(0, 0, 0, 0.15);\n",
              "      filter: drop-shadow(0px 1px 2px rgba(0, 0, 0, 0.3));\n",
              "      fill: #FFFFFF;\n",
              "    }\n",
              "  </style>\n",
              "\n",
              "      <script>\n",
              "        const buttonEl =\n",
              "          document.querySelector('#df-00e902f4-d432-47d4-a590-867354db99b8 button.colab-df-convert');\n",
              "        buttonEl.style.display =\n",
              "          google.colab.kernel.accessAllowed ? 'block' : 'none';\n",
              "\n",
              "        async function convertToInteractive(key) {\n",
              "          const element = document.querySelector('#df-00e902f4-d432-47d4-a590-867354db99b8');\n",
              "          const dataTable =\n",
              "            await google.colab.kernel.invokeFunction('convertToInteractive',\n",
              "                                                     [key], {});\n",
              "          if (!dataTable) return;\n",
              "\n",
              "          const docLinkHtml = 'Like what you see? Visit the ' +\n",
              "            '<a target=\"_blank\" href=https://colab.research.google.com/notebooks/data_table.ipynb>data table notebook</a>'\n",
              "            + ' to learn more about interactive tables.';\n",
              "          element.innerHTML = '';\n",
              "          dataTable['output_type'] = 'display_data';\n",
              "          await google.colab.output.renderOutput(dataTable, element);\n",
              "          const docLink = document.createElement('div');\n",
              "          docLink.innerHTML = docLinkHtml;\n",
              "          element.appendChild(docLink);\n",
              "        }\n",
              "      </script>\n",
              "    </div>\n",
              "  </div>\n",
              "  "
            ]
          },
          "metadata": {},
          "execution_count": 69
        }
      ]
    },
    {
      "cell_type": "code",
      "source": [
        "from sklearn.dummy import DummyRegressor"
      ],
      "metadata": {
        "id": "lIMaLvH8CxFq"
      },
      "execution_count": 70,
      "outputs": []
    },
    {
      "cell_type": "code",
      "source": [
        "dummy_regr = DummyRegressor(strategy=\"mean\")"
      ],
      "metadata": {
        "id": "nTANsOseCjaM"
      },
      "execution_count": 71,
      "outputs": []
    },
    {
      "cell_type": "code",
      "source": [
        "dummy_regr.fit(train_inputs1, train_targets)"
      ],
      "metadata": {
        "colab": {
          "base_uri": "https://localhost:8080/"
        },
        "id": "DG6IsPdqC-3o",
        "outputId": "6b25e9d7-92ea-43d6-b171-d83550ed9f98"
      },
      "execution_count": 72,
      "outputs": [
        {
          "output_type": "execute_result",
          "data": {
            "text/plain": [
              "DummyRegressor()"
            ]
          },
          "metadata": {},
          "execution_count": 72
        }
      ]
    },
    {
      "cell_type": "code",
      "source": [
        "train_preds_dummy=dummy_regr.predict(val_inputs1)"
      ],
      "metadata": {
        "id": "SHRDsQNxDFPr"
      },
      "execution_count": 73,
      "outputs": []
    },
    {
      "cell_type": "code",
      "source": [
        "from sklearn.metrics import mean_squared_error\n"
      ],
      "metadata": {
        "id": "j3Gky2cLCtCR"
      },
      "execution_count": 74,
      "outputs": []
    },
    {
      "cell_type": "code",
      "source": [
        "from sklearn.metrics import mean_absolute_error"
      ],
      "metadata": {
        "id": "LGbQSCq2CvP_"
      },
      "execution_count": 75,
      "outputs": []
    },
    {
      "cell_type": "code",
      "source": [],
      "metadata": {
        "id": "F6WWeOBtCvNX"
      },
      "execution_count": 75,
      "outputs": []
    },
    {
      "cell_type": "code",
      "source": [
        "train_rmse = mean_squared_error(val_targets, train_preds_dummy, squared=False)\n",
        "train_rmse"
      ],
      "metadata": {
        "colab": {
          "base_uri": "https://localhost:8080/"
        },
        "id": "NvyOqvgBCvKm",
        "outputId": "16085051-6d6e-4575-a354-4fa2922f5faf"
      },
      "execution_count": 76,
      "outputs": [
        {
          "output_type": "execute_result",
          "data": {
            "text/plain": [
              "8527.347208103169"
            ]
          },
          "metadata": {},
          "execution_count": 76
        }
      ]
    },
    {
      "cell_type": "code",
      "source": [
        "### the rmse for the baseline model is 8527.347"
      ],
      "metadata": {
        "id": "Ok_BaO-DDXHi"
      },
      "execution_count": 77,
      "outputs": []
    },
    {
      "cell_type": "code",
      "source": [
        "from sklearn.linear_model import LinearRegression"
      ],
      "metadata": {
        "id": "X-55RzgRDqaT"
      },
      "execution_count": 78,
      "outputs": []
    },
    {
      "cell_type": "code",
      "source": [
        "linear_model=LinearRegression()\n"
      ],
      "metadata": {
        "id": "nBgDRhC3Dv0n"
      },
      "execution_count": 79,
      "outputs": []
    },
    {
      "cell_type": "code",
      "source": [
        "train_cols=[\n",
        " 'type',\n",
        " 'gym',\n",
        " 'lift',\n",
        " 'swimming_pool',\n",
        " 'negotiable',\n",
        " 'furnishing',\n",
        " 'parking',\n",
        " 'property_size',\n",
        " 'property_age',\n",
        " 'bathroom',\n",
        " 'facing',\n",
        " 'cup_board',\n",
        " 'floor',\n",
        " 'total_floor',\n",
        " 'water_supply',\n",
        " 'building_type',\n",
        " 'balconies',\n",
        " ]"
      ],
      "metadata": {
        "id": "xoWSvrvgEA5y"
      },
      "execution_count": 80,
      "outputs": []
    },
    {
      "cell_type": "code",
      "source": [
        "# from sklearn import preprocessing"
      ],
      "metadata": {
        "id": "85Tn9byAEecO"
      },
      "execution_count": 81,
      "outputs": []
    },
    {
      "cell_type": "code",
      "source": [
        "# label_encoder = preprocessing.LabelEncoder()\n"
      ],
      "metadata": {
        "id": "5qawMRfZEfTL"
      },
      "execution_count": 82,
      "outputs": []
    },
    {
      "cell_type": "code",
      "source": [
        "# train_inputs1['type']= label_encoder.fit_transform(train_inputs1['type'])\n",
        "# val_inputs1['type']= label_encoder.fit_transform(val_inputs1['type'])\n"
      ],
      "metadata": {
        "id": "d-c9MjFFEjDh"
      },
      "execution_count": 83,
      "outputs": []
    },
    {
      "cell_type": "code",
      "source": [
        "# train_inputs1['parking']= label_encoder.fit_transform(train_inputs1['parking'])\n",
        "# val_inputs1['parking']= label_encoder.fit_transform(val_inputs1['parking'])\n"
      ],
      "metadata": {
        "id": "VmC5iKW6EtgD"
      },
      "execution_count": 84,
      "outputs": []
    },
    {
      "cell_type": "code",
      "source": [
        "# train_inputs1['furnishing']= label_encoder.fit_transform(train_inputs1['furnishing'])\n",
        "# val_inputs1['furnishing']= label_encoder.fit_transform(val_inputs1['furnishing'])\n"
      ],
      "metadata": {
        "id": "EtshCOP0FJZZ"
      },
      "execution_count": 85,
      "outputs": []
    },
    {
      "cell_type": "code",
      "source": [
        "# train_inputs1['facing']= label_encoder.fit_transform(train_inputs1['facing'])\n",
        "# # val_inputs1['facing']= label_encoder.fit_transform(val_inputs1['facing'])\n"
      ],
      "metadata": {
        "id": "Wq8I7dZiFR0F"
      },
      "execution_count": 86,
      "outputs": []
    },
    {
      "cell_type": "code",
      "source": [
        "# train_inputs1['water_supply']= label_encoder.fit_transform(train_inputs1['water_supply'])\n",
        "# val_inputs1['water_supply']= label_encoder.fit_transform(val_inputs1['water_supply'])\n"
      ],
      "metadata": {
        "id": "56sO7XZtFYvQ"
      },
      "execution_count": 87,
      "outputs": []
    },
    {
      "cell_type": "code",
      "source": [
        "# train_inputs1['building_type']= label_encoder.fit_transform(train_inputs1['building_type'])\n",
        "# val_inputs1['building_type']= label_encoder.fit_transform(val_inputs1['building_type'])\n"
      ],
      "metadata": {
        "id": "6dQjv1WBFg-w"
      },
      "execution_count": 88,
      "outputs": []
    },
    {
      "cell_type": "markdown",
      "source": [],
      "metadata": {
        "id": "-4E45mKBE1Nm"
      }
    },
    {
      "cell_type": "code",
      "source": [
        "linear_model.fit(train_inputs1[train_cols],train_targets)"
      ],
      "metadata": {
        "colab": {
          "base_uri": "https://localhost:8080/"
        },
        "id": "WZrbc4kzDwxs",
        "outputId": "4180b09f-ddd4-4473-915a-59687f7635cb"
      },
      "execution_count": 89,
      "outputs": [
        {
          "output_type": "execute_result",
          "data": {
            "text/plain": [
              "LinearRegression()"
            ]
          },
          "metadata": {},
          "execution_count": 89
        }
      ]
    },
    {
      "cell_type": "code",
      "source": [
        "linear_preds=linear_model.predict(val_inputs1[train_cols])"
      ],
      "metadata": {
        "id": "dR56JdSLFri5"
      },
      "execution_count": 90,
      "outputs": []
    },
    {
      "cell_type": "code",
      "source": [
        "linear_rmse = mean_squared_error(val_targets, linear_preds, squared=False)\n",
        "linear_rmse"
      ],
      "metadata": {
        "colab": {
          "base_uri": "https://localhost:8080/"
        },
        "id": "wMugVVZvGsR5",
        "outputId": "b491f8d4-775f-4152-f081-e83a5eff2653"
      },
      "execution_count": 91,
      "outputs": [
        {
          "output_type": "execute_result",
          "data": {
            "text/plain": [
              "6806.841187362279"
            ]
          },
          "metadata": {},
          "execution_count": 91
        }
      ]
    },
    {
      "cell_type": "code",
      "source": [
        "linear_mae=mean_absolute_error(val_targets,linear_preds)\n",
        "linear_mae"
      ],
      "metadata": {
        "colab": {
          "base_uri": "https://localhost:8080/"
        },
        "id": "TSxAa6qdVR8V",
        "outputId": "99348170-3b29-4368-ca9e-2aad1291c778"
      },
      "execution_count": 92,
      "outputs": [
        {
          "output_type": "execute_result",
          "data": {
            "text/plain": [
              "3740.897177043131"
            ]
          },
          "metadata": {},
          "execution_count": 92
        }
      ]
    },
    {
      "cell_type": "code",
      "source": [
        "from sklearn.linear_model import Ridge"
      ],
      "metadata": {
        "id": "RjQqReW3VsK3"
      },
      "execution_count": 93,
      "outputs": []
    },
    {
      "cell_type": "code",
      "source": [
        "ridge_model=Ridge(random_state=42,alpha=0.9)"
      ],
      "metadata": {
        "id": "-bCKi7B0V3dj"
      },
      "execution_count": 94,
      "outputs": []
    },
    {
      "cell_type": "code",
      "source": [
        "%%time\n",
        "ridge_model.fit(train_inputs1[train_cols],train_targets)"
      ],
      "metadata": {
        "colab": {
          "base_uri": "https://localhost:8080/"
        },
        "id": "Q7Ya2kl3V7AJ",
        "outputId": "8c6ab832-48fa-4486-e540-a3b52898182e"
      },
      "execution_count": 95,
      "outputs": [
        {
          "output_type": "stream",
          "name": "stdout",
          "text": [
            "CPU times: user 8.24 ms, sys: 11.6 ms, total: 19.9 ms\n",
            "Wall time: 14.2 ms\n"
          ]
        },
        {
          "output_type": "execute_result",
          "data": {
            "text/plain": [
              "Ridge(alpha=0.9, random_state=42)"
            ]
          },
          "metadata": {},
          "execution_count": 95
        }
      ]
    },
    {
      "cell_type": "code",
      "source": [
        "ridge_preds=ridge_model.predict(val_inputs1[train_cols])"
      ],
      "metadata": {
        "id": "Ti9dQTc3WGaH"
      },
      "execution_count": 96,
      "outputs": []
    },
    {
      "cell_type": "code",
      "source": [
        "ridge_rmse = mean_squared_error(val_targets, ridge_preds, squared=False)\n",
        "ridge_rmse"
      ],
      "metadata": {
        "colab": {
          "base_uri": "https://localhost:8080/"
        },
        "id": "9PuVRSjlWNC3",
        "outputId": "ff54d386-b60b-4bf9-968a-b81923726a71"
      },
      "execution_count": 97,
      "outputs": [
        {
          "output_type": "execute_result",
          "data": {
            "text/plain": [
              "6807.222393040564"
            ]
          },
          "metadata": {},
          "execution_count": 97
        }
      ]
    },
    {
      "cell_type": "code",
      "source": [
        "ridge_mae=mean_absolute_error(val_targets,ridge_preds)\n",
        "ridge_mae"
      ],
      "metadata": {
        "colab": {
          "base_uri": "https://localhost:8080/"
        },
        "id": "UR8Q-StGZOze",
        "outputId": "02f92ebd-29a1-458d-ff3a-066581dfd8e8"
      },
      "execution_count": 98,
      "outputs": [
        {
          "output_type": "execute_result",
          "data": {
            "text/plain": [
              "3740.873823803578"
            ]
          },
          "metadata": {},
          "execution_count": 98
        }
      ]
    },
    {
      "cell_type": "code",
      "source": [
        "from sklearn.ensemble import RandomForestRegressor"
      ],
      "metadata": {
        "id": "PZc_h9lPWU1V"
      },
      "execution_count": 99,
      "outputs": []
    },
    {
      "cell_type": "code",
      "source": [
        "forest = RandomForestRegressor(max_depth=12, random_state=44)"
      ],
      "metadata": {
        "id": "53VtzIB4Zph_"
      },
      "execution_count": 100,
      "outputs": []
    },
    {
      "cell_type": "code",
      "source": [
        "forest.fit(train_inputs1[train_cols],train_targets)"
      ],
      "metadata": {
        "colab": {
          "base_uri": "https://localhost:8080/"
        },
        "id": "w4l-_UH8Zvh6",
        "outputId": "ffa2ea4c-9069-44fd-d4b3-c806832f312c"
      },
      "execution_count": 101,
      "outputs": [
        {
          "output_type": "stream",
          "name": "stderr",
          "text": [
            "/usr/local/lib/python3.7/dist-packages/ipykernel_launcher.py:1: DataConversionWarning: A column-vector y was passed when a 1d array was expected. Please change the shape of y to (n_samples,), for example using ravel().\n",
            "  \"\"\"Entry point for launching an IPython kernel.\n"
          ]
        },
        {
          "output_type": "execute_result",
          "data": {
            "text/plain": [
              "RandomForestRegressor(max_depth=12, random_state=44)"
            ]
          },
          "metadata": {},
          "execution_count": 101
        }
      ]
    },
    {
      "cell_type": "code",
      "source": [
        "forest_pred=forest.predict(val_inputs1[train_cols])"
      ],
      "metadata": {
        "id": "eM7b4u_EZ9Iw"
      },
      "execution_count": 102,
      "outputs": []
    },
    {
      "cell_type": "code",
      "source": [
        "forest_rmse = mean_squared_error(val_targets, forest_pred, squared=False)\n",
        "forest_rmse"
      ],
      "metadata": {
        "colab": {
          "base_uri": "https://localhost:8080/"
        },
        "id": "HWQYVqnEaG7R",
        "outputId": "1b970f15-1f1c-48e0-bb15-83f31e729d5e"
      },
      "execution_count": 103,
      "outputs": [
        {
          "output_type": "execute_result",
          "data": {
            "text/plain": [
              "4848.292858057139"
            ]
          },
          "metadata": {},
          "execution_count": 103
        }
      ]
    },
    {
      "cell_type": "code",
      "source": [
        "forest_mae=mean_absolute_error(val_targets, forest_pred)\n",
        "forest_mae"
      ],
      "metadata": {
        "colab": {
          "base_uri": "https://localhost:8080/"
        },
        "id": "nxeSJJz0aET8",
        "outputId": "d6990ede-8873-42d5-bd24-09d07d2bc074"
      },
      "execution_count": 104,
      "outputs": [
        {
          "output_type": "execute_result",
          "data": {
            "text/plain": [
              "3504.6396023117923"
            ]
          },
          "metadata": {},
          "execution_count": 104
        }
      ]
    },
    {
      "cell_type": "code",
      "source": [
        "from sklearn.metrics import r2_score"
      ],
      "metadata": {
        "id": "AMGE07E_pt1O"
      },
      "execution_count": 105,
      "outputs": []
    },
    {
      "cell_type": "code",
      "source": [
        "r2_score(val_targets, forest_pred)"
      ],
      "metadata": {
        "colab": {
          "base_uri": "https://localhost:8080/"
        },
        "id": "JDKBcBh2puuT",
        "outputId": "6c728435-982b-43d8-f69b-0a459af828a5"
      },
      "execution_count": 106,
      "outputs": [
        {
          "output_type": "execute_result",
          "data": {
            "text/plain": [
              "0.6761897490090827"
            ]
          },
          "metadata": {},
          "execution_count": 106
        }
      ]
    },
    {
      "cell_type": "code",
      "source": [
        "from math import radians\n",
        "from math import sin,cos\n",
        "from math import asin\n",
        "def calculate_spherical_distance(lat1, lon1, lat2, lon2, r=6371):\n",
        "    # Convert degrees to radians\n",
        "    coordinates = lat1, lon1, lat2, lon2\n",
        "    # radians(c) is same as c*pi/180\n",
        "    phi1, lambda1, phi2, lambda2 = [\n",
        "        radians(c) for c in coordinates\n",
        "    ]  \n",
        "    \n",
        "    # Apply the haversine formula\n",
        "    a = (np.square(sin((phi2-phi1)/2)) + cos(phi1) * cos(phi2) * \n",
        "         np.square(sin((lambda2-lambda1)/2)))\n",
        "    d = 2*r*asin(np.sqrt(a))\n",
        "    return d"
      ],
      "metadata": {
        "id": "HBD-cIkC3ZuC"
      },
      "execution_count": 107,
      "outputs": []
    },
    {
      "cell_type": "code",
      "source": [],
      "metadata": {
        "id": "K1G3U7063zjH"
      },
      "execution_count": 107,
      "outputs": []
    },
    {
      "cell_type": "code",
      "source": [
        "\n",
        "need_cols2=['id',\n",
        " 'type',\n",
        " 'latitude',\n",
        " 'longitude',\n",
        " 'gym',\n",
        " 'lift',\n",
        " 'swimming_pool',\n",
        " 'negotiable',\n",
        " 'furnishing',\n",
        " 'parking',\n",
        " 'property_size',\n",
        " 'property_age',\n",
        " 'bathroom',\n",
        " 'facing',\n",
        " 'cup_board',\n",
        " 'floor',\n",
        " 'total_floor',\n",
        " 'water_supply',\n",
        " 'building_type',\n",
        " 'balconies',\n",
        " 'rent']"
      ],
      "metadata": {
        "id": "P0GG_E9o4VUp"
      },
      "execution_count": 108,
      "outputs": []
    },
    {
      "cell_type": "code",
      "source": [
        "df2=pd.read_csv(train_dir, usecols=need_cols2)"
      ],
      "metadata": {
        "id": "WN6h5YTY4mYL"
      },
      "execution_count": 109,
      "outputs": []
    },
    {
      "cell_type": "code",
      "source": [
        "df2.head()"
      ],
      "metadata": {
        "colab": {
          "base_uri": "https://localhost:8080/",
          "height": 300
        },
        "id": "MKrMu1Po41rI",
        "outputId": "e9056a2d-0713-491f-c6a2-684d64109d22"
      },
      "execution_count": 110,
      "outputs": [
        {
          "output_type": "execute_result",
          "data": {
            "text/plain": [
              "                                 id  type   latitude  longitude  gym  lift  \\\n",
              "0  ff8081815733a243015733b2876600a6  BHK2  12.934471  77.634471    1     1   \n",
              "1  ff8081815ee25e15015ee50004da2acd  BHK2  12.929557  77.672280    0     1   \n",
              "2  ff80818163f29c9e0163f46770b873e7  BHK3  12.982870  80.262012    0     1   \n",
              "3  ff80818164b68a700164b74b1b247a1d  BHK1  12.955991  77.531634    0     0   \n",
              "4  ff80818163b1faf00163b4b9b8a163b1  BHK3  12.963903  77.649446    0     0   \n",
              "\n",
              "   swimming_pool  negotiable      furnishing      parking  ...  property_age  \\\n",
              "0              1           0  SEMI_FURNISHED         BOTH  ...            25   \n",
              "1              0           1  SEMI_FURNISHED         BOTH  ...             4   \n",
              "2              0           0  SEMI_FURNISHED         BOTH  ...             6   \n",
              "3              0           1  SEMI_FURNISHED  TWO_WHEELER  ...             3   \n",
              "4              0           1  SEMI_FURNISHED         BOTH  ...            15   \n",
              "\n",
              "   bathroom  facing cup_board  floor  total_floor  water_supply building_type  \\\n",
              "0         2       E         2      6           12     CORP_BORE            AP   \n",
              "1         2      NE         2      3            4   CORPORATION            AP   \n",
              "2         3       E         3      1            5     CORP_BORE            AP   \n",
              "3         1       E         1      1            2   CORPORATION            IH   \n",
              "4         3       E         4      0            0   CORPORATION            IH   \n",
              "\n",
              "  balconies   rent  \n",
              "0         2  40000  \n",
              "1         2  22000  \n",
              "2         3  28000  \n",
              "3         0   8000  \n",
              "4         1  45000  \n",
              "\n",
              "[5 rows x 21 columns]"
            ],
            "text/html": [
              "\n",
              "  <div id=\"df-cb7503da-9aa0-44bb-b3ec-36fdeaa0a803\">\n",
              "    <div class=\"colab-df-container\">\n",
              "      <div>\n",
              "<style scoped>\n",
              "    .dataframe tbody tr th:only-of-type {\n",
              "        vertical-align: middle;\n",
              "    }\n",
              "\n",
              "    .dataframe tbody tr th {\n",
              "        vertical-align: top;\n",
              "    }\n",
              "\n",
              "    .dataframe thead th {\n",
              "        text-align: right;\n",
              "    }\n",
              "</style>\n",
              "<table border=\"1\" class=\"dataframe\">\n",
              "  <thead>\n",
              "    <tr style=\"text-align: right;\">\n",
              "      <th></th>\n",
              "      <th>id</th>\n",
              "      <th>type</th>\n",
              "      <th>latitude</th>\n",
              "      <th>longitude</th>\n",
              "      <th>gym</th>\n",
              "      <th>lift</th>\n",
              "      <th>swimming_pool</th>\n",
              "      <th>negotiable</th>\n",
              "      <th>furnishing</th>\n",
              "      <th>parking</th>\n",
              "      <th>...</th>\n",
              "      <th>property_age</th>\n",
              "      <th>bathroom</th>\n",
              "      <th>facing</th>\n",
              "      <th>cup_board</th>\n",
              "      <th>floor</th>\n",
              "      <th>total_floor</th>\n",
              "      <th>water_supply</th>\n",
              "      <th>building_type</th>\n",
              "      <th>balconies</th>\n",
              "      <th>rent</th>\n",
              "    </tr>\n",
              "  </thead>\n",
              "  <tbody>\n",
              "    <tr>\n",
              "      <th>0</th>\n",
              "      <td>ff8081815733a243015733b2876600a6</td>\n",
              "      <td>BHK2</td>\n",
              "      <td>12.934471</td>\n",
              "      <td>77.634471</td>\n",
              "      <td>1</td>\n",
              "      <td>1</td>\n",
              "      <td>1</td>\n",
              "      <td>0</td>\n",
              "      <td>SEMI_FURNISHED</td>\n",
              "      <td>BOTH</td>\n",
              "      <td>...</td>\n",
              "      <td>25</td>\n",
              "      <td>2</td>\n",
              "      <td>E</td>\n",
              "      <td>2</td>\n",
              "      <td>6</td>\n",
              "      <td>12</td>\n",
              "      <td>CORP_BORE</td>\n",
              "      <td>AP</td>\n",
              "      <td>2</td>\n",
              "      <td>40000</td>\n",
              "    </tr>\n",
              "    <tr>\n",
              "      <th>1</th>\n",
              "      <td>ff8081815ee25e15015ee50004da2acd</td>\n",
              "      <td>BHK2</td>\n",
              "      <td>12.929557</td>\n",
              "      <td>77.672280</td>\n",
              "      <td>0</td>\n",
              "      <td>1</td>\n",
              "      <td>0</td>\n",
              "      <td>1</td>\n",
              "      <td>SEMI_FURNISHED</td>\n",
              "      <td>BOTH</td>\n",
              "      <td>...</td>\n",
              "      <td>4</td>\n",
              "      <td>2</td>\n",
              "      <td>NE</td>\n",
              "      <td>2</td>\n",
              "      <td>3</td>\n",
              "      <td>4</td>\n",
              "      <td>CORPORATION</td>\n",
              "      <td>AP</td>\n",
              "      <td>2</td>\n",
              "      <td>22000</td>\n",
              "    </tr>\n",
              "    <tr>\n",
              "      <th>2</th>\n",
              "      <td>ff80818163f29c9e0163f46770b873e7</td>\n",
              "      <td>BHK3</td>\n",
              "      <td>12.982870</td>\n",
              "      <td>80.262012</td>\n",
              "      <td>0</td>\n",
              "      <td>1</td>\n",
              "      <td>0</td>\n",
              "      <td>0</td>\n",
              "      <td>SEMI_FURNISHED</td>\n",
              "      <td>BOTH</td>\n",
              "      <td>...</td>\n",
              "      <td>6</td>\n",
              "      <td>3</td>\n",
              "      <td>E</td>\n",
              "      <td>3</td>\n",
              "      <td>1</td>\n",
              "      <td>5</td>\n",
              "      <td>CORP_BORE</td>\n",
              "      <td>AP</td>\n",
              "      <td>3</td>\n",
              "      <td>28000</td>\n",
              "    </tr>\n",
              "    <tr>\n",
              "      <th>3</th>\n",
              "      <td>ff80818164b68a700164b74b1b247a1d</td>\n",
              "      <td>BHK1</td>\n",
              "      <td>12.955991</td>\n",
              "      <td>77.531634</td>\n",
              "      <td>0</td>\n",
              "      <td>0</td>\n",
              "      <td>0</td>\n",
              "      <td>1</td>\n",
              "      <td>SEMI_FURNISHED</td>\n",
              "      <td>TWO_WHEELER</td>\n",
              "      <td>...</td>\n",
              "      <td>3</td>\n",
              "      <td>1</td>\n",
              "      <td>E</td>\n",
              "      <td>1</td>\n",
              "      <td>1</td>\n",
              "      <td>2</td>\n",
              "      <td>CORPORATION</td>\n",
              "      <td>IH</td>\n",
              "      <td>0</td>\n",
              "      <td>8000</td>\n",
              "    </tr>\n",
              "    <tr>\n",
              "      <th>4</th>\n",
              "      <td>ff80818163b1faf00163b4b9b8a163b1</td>\n",
              "      <td>BHK3</td>\n",
              "      <td>12.963903</td>\n",
              "      <td>77.649446</td>\n",
              "      <td>0</td>\n",
              "      <td>0</td>\n",
              "      <td>0</td>\n",
              "      <td>1</td>\n",
              "      <td>SEMI_FURNISHED</td>\n",
              "      <td>BOTH</td>\n",
              "      <td>...</td>\n",
              "      <td>15</td>\n",
              "      <td>3</td>\n",
              "      <td>E</td>\n",
              "      <td>4</td>\n",
              "      <td>0</td>\n",
              "      <td>0</td>\n",
              "      <td>CORPORATION</td>\n",
              "      <td>IH</td>\n",
              "      <td>1</td>\n",
              "      <td>45000</td>\n",
              "    </tr>\n",
              "  </tbody>\n",
              "</table>\n",
              "<p>5 rows × 21 columns</p>\n",
              "</div>\n",
              "      <button class=\"colab-df-convert\" onclick=\"convertToInteractive('df-cb7503da-9aa0-44bb-b3ec-36fdeaa0a803')\"\n",
              "              title=\"Convert this dataframe to an interactive table.\"\n",
              "              style=\"display:none;\">\n",
              "        \n",
              "  <svg xmlns=\"http://www.w3.org/2000/svg\" height=\"24px\"viewBox=\"0 0 24 24\"\n",
              "       width=\"24px\">\n",
              "    <path d=\"M0 0h24v24H0V0z\" fill=\"none\"/>\n",
              "    <path d=\"M18.56 5.44l.94 2.06.94-2.06 2.06-.94-2.06-.94-.94-2.06-.94 2.06-2.06.94zm-11 1L8.5 8.5l.94-2.06 2.06-.94-2.06-.94L8.5 2.5l-.94 2.06-2.06.94zm10 10l.94 2.06.94-2.06 2.06-.94-2.06-.94-.94-2.06-.94 2.06-2.06.94z\"/><path d=\"M17.41 7.96l-1.37-1.37c-.4-.4-.92-.59-1.43-.59-.52 0-1.04.2-1.43.59L10.3 9.45l-7.72 7.72c-.78.78-.78 2.05 0 2.83L4 21.41c.39.39.9.59 1.41.59.51 0 1.02-.2 1.41-.59l7.78-7.78 2.81-2.81c.8-.78.8-2.07 0-2.86zM5.41 20L4 18.59l7.72-7.72 1.47 1.35L5.41 20z\"/>\n",
              "  </svg>\n",
              "      </button>\n",
              "      \n",
              "  <style>\n",
              "    .colab-df-container {\n",
              "      display:flex;\n",
              "      flex-wrap:wrap;\n",
              "      gap: 12px;\n",
              "    }\n",
              "\n",
              "    .colab-df-convert {\n",
              "      background-color: #E8F0FE;\n",
              "      border: none;\n",
              "      border-radius: 50%;\n",
              "      cursor: pointer;\n",
              "      display: none;\n",
              "      fill: #1967D2;\n",
              "      height: 32px;\n",
              "      padding: 0 0 0 0;\n",
              "      width: 32px;\n",
              "    }\n",
              "\n",
              "    .colab-df-convert:hover {\n",
              "      background-color: #E2EBFA;\n",
              "      box-shadow: 0px 1px 2px rgba(60, 64, 67, 0.3), 0px 1px 3px 1px rgba(60, 64, 67, 0.15);\n",
              "      fill: #174EA6;\n",
              "    }\n",
              "\n",
              "    [theme=dark] .colab-df-convert {\n",
              "      background-color: #3B4455;\n",
              "      fill: #D2E3FC;\n",
              "    }\n",
              "\n",
              "    [theme=dark] .colab-df-convert:hover {\n",
              "      background-color: #434B5C;\n",
              "      box-shadow: 0px 1px 3px 1px rgba(0, 0, 0, 0.15);\n",
              "      filter: drop-shadow(0px 1px 2px rgba(0, 0, 0, 0.3));\n",
              "      fill: #FFFFFF;\n",
              "    }\n",
              "  </style>\n",
              "\n",
              "      <script>\n",
              "        const buttonEl =\n",
              "          document.querySelector('#df-cb7503da-9aa0-44bb-b3ec-36fdeaa0a803 button.colab-df-convert');\n",
              "        buttonEl.style.display =\n",
              "          google.colab.kernel.accessAllowed ? 'block' : 'none';\n",
              "\n",
              "        async function convertToInteractive(key) {\n",
              "          const element = document.querySelector('#df-cb7503da-9aa0-44bb-b3ec-36fdeaa0a803');\n",
              "          const dataTable =\n",
              "            await google.colab.kernel.invokeFunction('convertToInteractive',\n",
              "                                                     [key], {});\n",
              "          if (!dataTable) return;\n",
              "\n",
              "          const docLinkHtml = 'Like what you see? Visit the ' +\n",
              "            '<a target=\"_blank\" href=https://colab.research.google.com/notebooks/data_table.ipynb>data table notebook</a>'\n",
              "            + ' to learn more about interactive tables.';\n",
              "          element.innerHTML = '';\n",
              "          dataTable['output_type'] = 'display_data';\n",
              "          await google.colab.output.renderOutput(dataTable, element);\n",
              "          const docLink = document.createElement('div');\n",
              "          docLink.innerHTML = docLinkHtml;\n",
              "          element.appendChild(docLink);\n",
              "        }\n",
              "      </script>\n",
              "    </div>\n",
              "  </div>\n",
              "  "
            ]
          },
          "metadata": {},
          "execution_count": 110
        }
      ]
    },
    {
      "cell_type": "code",
      "source": [
        "df2=df2[df2[\"bathroom\"] < 10]\n",
        "df2=df2[df2[\"cup_board\"]<20]\n",
        "df2=df2[df2[\"balconies\"]<5]"
      ],
      "metadata": {
        "id": "BS18TBFH43i2"
      },
      "execution_count": 111,
      "outputs": []
    },
    {
      "cell_type": "code",
      "source": [
        "df2.info()"
      ],
      "metadata": {
        "colab": {
          "base_uri": "https://localhost:8080/"
        },
        "id": "TC9EU5wd5CM4",
        "outputId": "64ea1027-7976-4972-c2ae-932c591cb66c"
      },
      "execution_count": 112,
      "outputs": [
        {
          "output_type": "stream",
          "name": "stdout",
          "text": [
            "<class 'pandas.core.frame.DataFrame'>\n",
            "Int64Index: 20445 entries, 0 to 20499\n",
            "Data columns (total 21 columns):\n",
            " #   Column         Non-Null Count  Dtype  \n",
            "---  ------         --------------  -----  \n",
            " 0   id             20445 non-null  object \n",
            " 1   type           20445 non-null  object \n",
            " 2   latitude       20445 non-null  float64\n",
            " 3   longitude      20445 non-null  float64\n",
            " 4   gym            20445 non-null  int64  \n",
            " 5   lift           20445 non-null  int64  \n",
            " 6   swimming_pool  20445 non-null  int64  \n",
            " 7   negotiable     20445 non-null  int64  \n",
            " 8   furnishing     20445 non-null  object \n",
            " 9   parking        20445 non-null  object \n",
            " 10  property_size  20445 non-null  int64  \n",
            " 11  property_age   20445 non-null  int64  \n",
            " 12  bathroom       20445 non-null  int64  \n",
            " 13  facing         20445 non-null  object \n",
            " 14  cup_board      20445 non-null  int64  \n",
            " 15  floor          20445 non-null  int64  \n",
            " 16  total_floor    20445 non-null  int64  \n",
            " 17  water_supply   20445 non-null  object \n",
            " 18  building_type  20445 non-null  object \n",
            " 19  balconies      20445 non-null  int64  \n",
            " 20  rent           20445 non-null  int64  \n",
            "dtypes: float64(2), int64(12), object(7)\n",
            "memory usage: 3.4+ MB\n"
          ]
        }
      ]
    },
    {
      "cell_type": "code",
      "source": [
        "for ind in df2.index:\n",
        "  df2['furnishing'][ind]=furnish_dict[df2['furnishing'][ind]]"
      ],
      "metadata": {
        "colab": {
          "base_uri": "https://localhost:8080/"
        },
        "id": "gP_Ozso06gXf",
        "outputId": "fe989b82-d108-419b-8e27-2ad9164ae9db"
      },
      "execution_count": 113,
      "outputs": [
        {
          "output_type": "stream",
          "name": "stderr",
          "text": [
            "/usr/local/lib/python3.7/dist-packages/ipykernel_launcher.py:2: SettingWithCopyWarning: \n",
            "A value is trying to be set on a copy of a slice from a DataFrame\n",
            "\n",
            "See the caveats in the documentation: https://pandas.pydata.org/pandas-docs/stable/user_guide/indexing.html#returning-a-view-versus-a-copy\n",
            "  \n"
          ]
        }
      ]
    },
    {
      "cell_type": "code",
      "source": [
        "for ind in df2.index:\n",
        "  df2['water_supply'][ind]=water_dict[df2['water_supply'][ind]]"
      ],
      "metadata": {
        "colab": {
          "base_uri": "https://localhost:8080/"
        },
        "id": "LuA-9Far69Of",
        "outputId": "384abff4-f43e-4409-dbfe-4b651905e43d"
      },
      "execution_count": 114,
      "outputs": [
        {
          "output_type": "stream",
          "name": "stderr",
          "text": [
            "/usr/local/lib/python3.7/dist-packages/ipykernel_launcher.py:2: SettingWithCopyWarning: \n",
            "A value is trying to be set on a copy of a slice from a DataFrame\n",
            "\n",
            "See the caveats in the documentation: https://pandas.pydata.org/pandas-docs/stable/user_guide/indexing.html#returning-a-view-versus-a-copy\n",
            "  \n"
          ]
        }
      ]
    },
    {
      "cell_type": "code",
      "source": [
        "for ind in df2.index:\n",
        "  df2['parking'][ind]=park_dict[df2['parking'][ind]]"
      ],
      "metadata": {
        "colab": {
          "base_uri": "https://localhost:8080/"
        },
        "id": "46OSL1WV7Iv7",
        "outputId": "41db6a49-e8e8-4be7-a1f3-6719c55ad2aa"
      },
      "execution_count": 115,
      "outputs": [
        {
          "output_type": "stream",
          "name": "stderr",
          "text": [
            "/usr/local/lib/python3.7/dist-packages/ipykernel_launcher.py:2: SettingWithCopyWarning: \n",
            "A value is trying to be set on a copy of a slice from a DataFrame\n",
            "\n",
            "See the caveats in the documentation: https://pandas.pydata.org/pandas-docs/stable/user_guide/indexing.html#returning-a-view-versus-a-copy\n",
            "  \n"
          ]
        }
      ]
    },
    {
      "cell_type": "code",
      "source": [
        "for ind in df2.index:\n",
        "  df2['facing'][ind]=face_dict[df2['facing'][ind]]"
      ],
      "metadata": {
        "colab": {
          "base_uri": "https://localhost:8080/"
        },
        "id": "vlKS93r_7QAX",
        "outputId": "f22fbf6f-4555-4649-8243-9863eb6842c2"
      },
      "execution_count": 116,
      "outputs": [
        {
          "output_type": "stream",
          "name": "stderr",
          "text": [
            "/usr/local/lib/python3.7/dist-packages/ipykernel_launcher.py:2: SettingWithCopyWarning: \n",
            "A value is trying to be set on a copy of a slice from a DataFrame\n",
            "\n",
            "See the caveats in the documentation: https://pandas.pydata.org/pandas-docs/stable/user_guide/indexing.html#returning-a-view-versus-a-copy\n",
            "  \n"
          ]
        }
      ]
    },
    {
      "cell_type": "code",
      "source": [
        "for ind in df2.index:\n",
        "  df2['type'][ind]=type_dict[df2['type'][ind]]"
      ],
      "metadata": {
        "colab": {
          "base_uri": "https://localhost:8080/"
        },
        "id": "-HVEKK0N7wV7",
        "outputId": "d7702ffd-9439-4d9b-bf96-d4cb8f48b677"
      },
      "execution_count": 117,
      "outputs": [
        {
          "output_type": "stream",
          "name": "stderr",
          "text": [
            "/usr/local/lib/python3.7/dist-packages/ipykernel_launcher.py:2: SettingWithCopyWarning: \n",
            "A value is trying to be set on a copy of a slice from a DataFrame\n",
            "\n",
            "See the caveats in the documentation: https://pandas.pydata.org/pandas-docs/stable/user_guide/indexing.html#returning-a-view-versus-a-copy\n",
            "  \n"
          ]
        }
      ]
    },
    {
      "cell_type": "code",
      "source": [
        "for ind in df2.index:\n",
        "  df2['building_type'][ind]=build_dict[df2['building_type'][ind]]"
      ],
      "metadata": {
        "colab": {
          "base_uri": "https://localhost:8080/"
        },
        "id": "ZgfLKcI1750Y",
        "outputId": "9b060ea9-4cce-4158-c4c8-90273d232dde"
      },
      "execution_count": 118,
      "outputs": [
        {
          "output_type": "stream",
          "name": "stderr",
          "text": [
            "/usr/local/lib/python3.7/dist-packages/ipykernel_launcher.py:2: SettingWithCopyWarning: \n",
            "A value is trying to be set on a copy of a slice from a DataFrame\n",
            "\n",
            "See the caveats in the documentation: https://pandas.pydata.org/pandas-docs/stable/user_guide/indexing.html#returning-a-view-versus-a-copy\n",
            "  \n"
          ]
        }
      ]
    },
    {
      "cell_type": "code",
      "source": [
        "df2.head()"
      ],
      "metadata": {
        "colab": {
          "base_uri": "https://localhost:8080/",
          "height": 300
        },
        "id": "KAtXRoAX7XUI",
        "outputId": "72b28f63-2560-405c-ba03-71b002b74f54"
      },
      "execution_count": 119,
      "outputs": [
        {
          "output_type": "execute_result",
          "data": {
            "text/plain": [
              "                                 id type   latitude  longitude  gym  lift  \\\n",
              "0  ff8081815733a243015733b2876600a6    2  12.934471  77.634471    1     1   \n",
              "1  ff8081815ee25e15015ee50004da2acd    2  12.929557  77.672280    0     1   \n",
              "2  ff80818163f29c9e0163f46770b873e7    2  12.982870  80.262012    0     1   \n",
              "3  ff80818164b68a700164b74b1b247a1d    1  12.955991  77.531634    0     0   \n",
              "4  ff80818163b1faf00163b4b9b8a163b1    2  12.963903  77.649446    0     0   \n",
              "\n",
              "   swimming_pool  negotiable furnishing parking  ...  property_age  bathroom  \\\n",
              "0              1           0          1       3  ...            25         2   \n",
              "1              0           1          1       3  ...             4         2   \n",
              "2              0           0          1       3  ...             6         3   \n",
              "3              0           1          1       1  ...             3         1   \n",
              "4              0           1          1       3  ...            15         3   \n",
              "\n",
              "   facing cup_board  floor  total_floor  water_supply building_type balconies  \\\n",
              "0       6         2      6           12             2             1         2   \n",
              "1       5         2      3            4             1             1         2   \n",
              "2       6         3      1            5             2             1         3   \n",
              "3       6         1      1            2             1             3         0   \n",
              "4       6         4      0            0             1             3         1   \n",
              "\n",
              "    rent  \n",
              "0  40000  \n",
              "1  22000  \n",
              "2  28000  \n",
              "3   8000  \n",
              "4  45000  \n",
              "\n",
              "[5 rows x 21 columns]"
            ],
            "text/html": [
              "\n",
              "  <div id=\"df-4f21b861-a0d6-4731-ace9-e05b9183ea89\">\n",
              "    <div class=\"colab-df-container\">\n",
              "      <div>\n",
              "<style scoped>\n",
              "    .dataframe tbody tr th:only-of-type {\n",
              "        vertical-align: middle;\n",
              "    }\n",
              "\n",
              "    .dataframe tbody tr th {\n",
              "        vertical-align: top;\n",
              "    }\n",
              "\n",
              "    .dataframe thead th {\n",
              "        text-align: right;\n",
              "    }\n",
              "</style>\n",
              "<table border=\"1\" class=\"dataframe\">\n",
              "  <thead>\n",
              "    <tr style=\"text-align: right;\">\n",
              "      <th></th>\n",
              "      <th>id</th>\n",
              "      <th>type</th>\n",
              "      <th>latitude</th>\n",
              "      <th>longitude</th>\n",
              "      <th>gym</th>\n",
              "      <th>lift</th>\n",
              "      <th>swimming_pool</th>\n",
              "      <th>negotiable</th>\n",
              "      <th>furnishing</th>\n",
              "      <th>parking</th>\n",
              "      <th>...</th>\n",
              "      <th>property_age</th>\n",
              "      <th>bathroom</th>\n",
              "      <th>facing</th>\n",
              "      <th>cup_board</th>\n",
              "      <th>floor</th>\n",
              "      <th>total_floor</th>\n",
              "      <th>water_supply</th>\n",
              "      <th>building_type</th>\n",
              "      <th>balconies</th>\n",
              "      <th>rent</th>\n",
              "    </tr>\n",
              "  </thead>\n",
              "  <tbody>\n",
              "    <tr>\n",
              "      <th>0</th>\n",
              "      <td>ff8081815733a243015733b2876600a6</td>\n",
              "      <td>2</td>\n",
              "      <td>12.934471</td>\n",
              "      <td>77.634471</td>\n",
              "      <td>1</td>\n",
              "      <td>1</td>\n",
              "      <td>1</td>\n",
              "      <td>0</td>\n",
              "      <td>1</td>\n",
              "      <td>3</td>\n",
              "      <td>...</td>\n",
              "      <td>25</td>\n",
              "      <td>2</td>\n",
              "      <td>6</td>\n",
              "      <td>2</td>\n",
              "      <td>6</td>\n",
              "      <td>12</td>\n",
              "      <td>2</td>\n",
              "      <td>1</td>\n",
              "      <td>2</td>\n",
              "      <td>40000</td>\n",
              "    </tr>\n",
              "    <tr>\n",
              "      <th>1</th>\n",
              "      <td>ff8081815ee25e15015ee50004da2acd</td>\n",
              "      <td>2</td>\n",
              "      <td>12.929557</td>\n",
              "      <td>77.672280</td>\n",
              "      <td>0</td>\n",
              "      <td>1</td>\n",
              "      <td>0</td>\n",
              "      <td>1</td>\n",
              "      <td>1</td>\n",
              "      <td>3</td>\n",
              "      <td>...</td>\n",
              "      <td>4</td>\n",
              "      <td>2</td>\n",
              "      <td>5</td>\n",
              "      <td>2</td>\n",
              "      <td>3</td>\n",
              "      <td>4</td>\n",
              "      <td>1</td>\n",
              "      <td>1</td>\n",
              "      <td>2</td>\n",
              "      <td>22000</td>\n",
              "    </tr>\n",
              "    <tr>\n",
              "      <th>2</th>\n",
              "      <td>ff80818163f29c9e0163f46770b873e7</td>\n",
              "      <td>2</td>\n",
              "      <td>12.982870</td>\n",
              "      <td>80.262012</td>\n",
              "      <td>0</td>\n",
              "      <td>1</td>\n",
              "      <td>0</td>\n",
              "      <td>0</td>\n",
              "      <td>1</td>\n",
              "      <td>3</td>\n",
              "      <td>...</td>\n",
              "      <td>6</td>\n",
              "      <td>3</td>\n",
              "      <td>6</td>\n",
              "      <td>3</td>\n",
              "      <td>1</td>\n",
              "      <td>5</td>\n",
              "      <td>2</td>\n",
              "      <td>1</td>\n",
              "      <td>3</td>\n",
              "      <td>28000</td>\n",
              "    </tr>\n",
              "    <tr>\n",
              "      <th>3</th>\n",
              "      <td>ff80818164b68a700164b74b1b247a1d</td>\n",
              "      <td>1</td>\n",
              "      <td>12.955991</td>\n",
              "      <td>77.531634</td>\n",
              "      <td>0</td>\n",
              "      <td>0</td>\n",
              "      <td>0</td>\n",
              "      <td>1</td>\n",
              "      <td>1</td>\n",
              "      <td>1</td>\n",
              "      <td>...</td>\n",
              "      <td>3</td>\n",
              "      <td>1</td>\n",
              "      <td>6</td>\n",
              "      <td>1</td>\n",
              "      <td>1</td>\n",
              "      <td>2</td>\n",
              "      <td>1</td>\n",
              "      <td>3</td>\n",
              "      <td>0</td>\n",
              "      <td>8000</td>\n",
              "    </tr>\n",
              "    <tr>\n",
              "      <th>4</th>\n",
              "      <td>ff80818163b1faf00163b4b9b8a163b1</td>\n",
              "      <td>2</td>\n",
              "      <td>12.963903</td>\n",
              "      <td>77.649446</td>\n",
              "      <td>0</td>\n",
              "      <td>0</td>\n",
              "      <td>0</td>\n",
              "      <td>1</td>\n",
              "      <td>1</td>\n",
              "      <td>3</td>\n",
              "      <td>...</td>\n",
              "      <td>15</td>\n",
              "      <td>3</td>\n",
              "      <td>6</td>\n",
              "      <td>4</td>\n",
              "      <td>0</td>\n",
              "      <td>0</td>\n",
              "      <td>1</td>\n",
              "      <td>3</td>\n",
              "      <td>1</td>\n",
              "      <td>45000</td>\n",
              "    </tr>\n",
              "  </tbody>\n",
              "</table>\n",
              "<p>5 rows × 21 columns</p>\n",
              "</div>\n",
              "      <button class=\"colab-df-convert\" onclick=\"convertToInteractive('df-4f21b861-a0d6-4731-ace9-e05b9183ea89')\"\n",
              "              title=\"Convert this dataframe to an interactive table.\"\n",
              "              style=\"display:none;\">\n",
              "        \n",
              "  <svg xmlns=\"http://www.w3.org/2000/svg\" height=\"24px\"viewBox=\"0 0 24 24\"\n",
              "       width=\"24px\">\n",
              "    <path d=\"M0 0h24v24H0V0z\" fill=\"none\"/>\n",
              "    <path d=\"M18.56 5.44l.94 2.06.94-2.06 2.06-.94-2.06-.94-.94-2.06-.94 2.06-2.06.94zm-11 1L8.5 8.5l.94-2.06 2.06-.94-2.06-.94L8.5 2.5l-.94 2.06-2.06.94zm10 10l.94 2.06.94-2.06 2.06-.94-2.06-.94-.94-2.06-.94 2.06-2.06.94z\"/><path d=\"M17.41 7.96l-1.37-1.37c-.4-.4-.92-.59-1.43-.59-.52 0-1.04.2-1.43.59L10.3 9.45l-7.72 7.72c-.78.78-.78 2.05 0 2.83L4 21.41c.39.39.9.59 1.41.59.51 0 1.02-.2 1.41-.59l7.78-7.78 2.81-2.81c.8-.78.8-2.07 0-2.86zM5.41 20L4 18.59l7.72-7.72 1.47 1.35L5.41 20z\"/>\n",
              "  </svg>\n",
              "      </button>\n",
              "      \n",
              "  <style>\n",
              "    .colab-df-container {\n",
              "      display:flex;\n",
              "      flex-wrap:wrap;\n",
              "      gap: 12px;\n",
              "    }\n",
              "\n",
              "    .colab-df-convert {\n",
              "      background-color: #E8F0FE;\n",
              "      border: none;\n",
              "      border-radius: 50%;\n",
              "      cursor: pointer;\n",
              "      display: none;\n",
              "      fill: #1967D2;\n",
              "      height: 32px;\n",
              "      padding: 0 0 0 0;\n",
              "      width: 32px;\n",
              "    }\n",
              "\n",
              "    .colab-df-convert:hover {\n",
              "      background-color: #E2EBFA;\n",
              "      box-shadow: 0px 1px 2px rgba(60, 64, 67, 0.3), 0px 1px 3px 1px rgba(60, 64, 67, 0.15);\n",
              "      fill: #174EA6;\n",
              "    }\n",
              "\n",
              "    [theme=dark] .colab-df-convert {\n",
              "      background-color: #3B4455;\n",
              "      fill: #D2E3FC;\n",
              "    }\n",
              "\n",
              "    [theme=dark] .colab-df-convert:hover {\n",
              "      background-color: #434B5C;\n",
              "      box-shadow: 0px 1px 3px 1px rgba(0, 0, 0, 0.15);\n",
              "      filter: drop-shadow(0px 1px 2px rgba(0, 0, 0, 0.3));\n",
              "      fill: #FFFFFF;\n",
              "    }\n",
              "  </style>\n",
              "\n",
              "      <script>\n",
              "        const buttonEl =\n",
              "          document.querySelector('#df-4f21b861-a0d6-4731-ace9-e05b9183ea89 button.colab-df-convert');\n",
              "        buttonEl.style.display =\n",
              "          google.colab.kernel.accessAllowed ? 'block' : 'none';\n",
              "\n",
              "        async function convertToInteractive(key) {\n",
              "          const element = document.querySelector('#df-4f21b861-a0d6-4731-ace9-e05b9183ea89');\n",
              "          const dataTable =\n",
              "            await google.colab.kernel.invokeFunction('convertToInteractive',\n",
              "                                                     [key], {});\n",
              "          if (!dataTable) return;\n",
              "\n",
              "          const docLinkHtml = 'Like what you see? Visit the ' +\n",
              "            '<a target=\"_blank\" href=https://colab.research.google.com/notebooks/data_table.ipynb>data table notebook</a>'\n",
              "            + ' to learn more about interactive tables.';\n",
              "          element.innerHTML = '';\n",
              "          dataTable['output_type'] = 'display_data';\n",
              "          await google.colab.output.renderOutput(dataTable, element);\n",
              "          const docLink = document.createElement('div');\n",
              "          docLink.innerHTML = docLinkHtml;\n",
              "          element.appendChild(docLink);\n",
              "        }\n",
              "      </script>\n",
              "    </div>\n",
              "  </div>\n",
              "  "
            ]
          },
          "metadata": {},
          "execution_count": 119
        }
      ]
    },
    {
      "cell_type": "code",
      "source": [
        "ec_lat=12.8452\n",
        "ec_long=77.6602"
      ],
      "metadata": {
        "id": "apzGduiJ7ilI"
      },
      "execution_count": 120,
      "outputs": []
    },
    {
      "cell_type": "code",
      "source": [
        "df2[\"ecity\"]=0"
      ],
      "metadata": {
        "id": "UzL7mKX08Tqv"
      },
      "execution_count": 121,
      "outputs": []
    },
    {
      "cell_type": "code",
      "source": [
        "df2.head()"
      ],
      "metadata": {
        "colab": {
          "base_uri": "https://localhost:8080/",
          "height": 300
        },
        "id": "QD2Gbybw89Ml",
        "outputId": "0e16027e-961e-4a24-e49c-17f9d00973e5"
      },
      "execution_count": 122,
      "outputs": [
        {
          "output_type": "execute_result",
          "data": {
            "text/plain": [
              "                                 id type   latitude  longitude  gym  lift  \\\n",
              "0  ff8081815733a243015733b2876600a6    2  12.934471  77.634471    1     1   \n",
              "1  ff8081815ee25e15015ee50004da2acd    2  12.929557  77.672280    0     1   \n",
              "2  ff80818163f29c9e0163f46770b873e7    2  12.982870  80.262012    0     1   \n",
              "3  ff80818164b68a700164b74b1b247a1d    1  12.955991  77.531634    0     0   \n",
              "4  ff80818163b1faf00163b4b9b8a163b1    2  12.963903  77.649446    0     0   \n",
              "\n",
              "   swimming_pool  negotiable furnishing parking  ...  bathroom  facing  \\\n",
              "0              1           0          1       3  ...         2       6   \n",
              "1              0           1          1       3  ...         2       5   \n",
              "2              0           0          1       3  ...         3       6   \n",
              "3              0           1          1       1  ...         1       6   \n",
              "4              0           1          1       3  ...         3       6   \n",
              "\n",
              "   cup_board floor  total_floor  water_supply  building_type balconies   rent  \\\n",
              "0          2     6           12             2              1         2  40000   \n",
              "1          2     3            4             1              1         2  22000   \n",
              "2          3     1            5             2              1         3  28000   \n",
              "3          1     1            2             1              3         0   8000   \n",
              "4          4     0            0             1              3         1  45000   \n",
              "\n",
              "   ecity  \n",
              "0      0  \n",
              "1      0  \n",
              "2      0  \n",
              "3      0  \n",
              "4      0  \n",
              "\n",
              "[5 rows x 22 columns]"
            ],
            "text/html": [
              "\n",
              "  <div id=\"df-69e96f73-bc10-44b5-99e2-5e019e9df733\">\n",
              "    <div class=\"colab-df-container\">\n",
              "      <div>\n",
              "<style scoped>\n",
              "    .dataframe tbody tr th:only-of-type {\n",
              "        vertical-align: middle;\n",
              "    }\n",
              "\n",
              "    .dataframe tbody tr th {\n",
              "        vertical-align: top;\n",
              "    }\n",
              "\n",
              "    .dataframe thead th {\n",
              "        text-align: right;\n",
              "    }\n",
              "</style>\n",
              "<table border=\"1\" class=\"dataframe\">\n",
              "  <thead>\n",
              "    <tr style=\"text-align: right;\">\n",
              "      <th></th>\n",
              "      <th>id</th>\n",
              "      <th>type</th>\n",
              "      <th>latitude</th>\n",
              "      <th>longitude</th>\n",
              "      <th>gym</th>\n",
              "      <th>lift</th>\n",
              "      <th>swimming_pool</th>\n",
              "      <th>negotiable</th>\n",
              "      <th>furnishing</th>\n",
              "      <th>parking</th>\n",
              "      <th>...</th>\n",
              "      <th>bathroom</th>\n",
              "      <th>facing</th>\n",
              "      <th>cup_board</th>\n",
              "      <th>floor</th>\n",
              "      <th>total_floor</th>\n",
              "      <th>water_supply</th>\n",
              "      <th>building_type</th>\n",
              "      <th>balconies</th>\n",
              "      <th>rent</th>\n",
              "      <th>ecity</th>\n",
              "    </tr>\n",
              "  </thead>\n",
              "  <tbody>\n",
              "    <tr>\n",
              "      <th>0</th>\n",
              "      <td>ff8081815733a243015733b2876600a6</td>\n",
              "      <td>2</td>\n",
              "      <td>12.934471</td>\n",
              "      <td>77.634471</td>\n",
              "      <td>1</td>\n",
              "      <td>1</td>\n",
              "      <td>1</td>\n",
              "      <td>0</td>\n",
              "      <td>1</td>\n",
              "      <td>3</td>\n",
              "      <td>...</td>\n",
              "      <td>2</td>\n",
              "      <td>6</td>\n",
              "      <td>2</td>\n",
              "      <td>6</td>\n",
              "      <td>12</td>\n",
              "      <td>2</td>\n",
              "      <td>1</td>\n",
              "      <td>2</td>\n",
              "      <td>40000</td>\n",
              "      <td>0</td>\n",
              "    </tr>\n",
              "    <tr>\n",
              "      <th>1</th>\n",
              "      <td>ff8081815ee25e15015ee50004da2acd</td>\n",
              "      <td>2</td>\n",
              "      <td>12.929557</td>\n",
              "      <td>77.672280</td>\n",
              "      <td>0</td>\n",
              "      <td>1</td>\n",
              "      <td>0</td>\n",
              "      <td>1</td>\n",
              "      <td>1</td>\n",
              "      <td>3</td>\n",
              "      <td>...</td>\n",
              "      <td>2</td>\n",
              "      <td>5</td>\n",
              "      <td>2</td>\n",
              "      <td>3</td>\n",
              "      <td>4</td>\n",
              "      <td>1</td>\n",
              "      <td>1</td>\n",
              "      <td>2</td>\n",
              "      <td>22000</td>\n",
              "      <td>0</td>\n",
              "    </tr>\n",
              "    <tr>\n",
              "      <th>2</th>\n",
              "      <td>ff80818163f29c9e0163f46770b873e7</td>\n",
              "      <td>2</td>\n",
              "      <td>12.982870</td>\n",
              "      <td>80.262012</td>\n",
              "      <td>0</td>\n",
              "      <td>1</td>\n",
              "      <td>0</td>\n",
              "      <td>0</td>\n",
              "      <td>1</td>\n",
              "      <td>3</td>\n",
              "      <td>...</td>\n",
              "      <td>3</td>\n",
              "      <td>6</td>\n",
              "      <td>3</td>\n",
              "      <td>1</td>\n",
              "      <td>5</td>\n",
              "      <td>2</td>\n",
              "      <td>1</td>\n",
              "      <td>3</td>\n",
              "      <td>28000</td>\n",
              "      <td>0</td>\n",
              "    </tr>\n",
              "    <tr>\n",
              "      <th>3</th>\n",
              "      <td>ff80818164b68a700164b74b1b247a1d</td>\n",
              "      <td>1</td>\n",
              "      <td>12.955991</td>\n",
              "      <td>77.531634</td>\n",
              "      <td>0</td>\n",
              "      <td>0</td>\n",
              "      <td>0</td>\n",
              "      <td>1</td>\n",
              "      <td>1</td>\n",
              "      <td>1</td>\n",
              "      <td>...</td>\n",
              "      <td>1</td>\n",
              "      <td>6</td>\n",
              "      <td>1</td>\n",
              "      <td>1</td>\n",
              "      <td>2</td>\n",
              "      <td>1</td>\n",
              "      <td>3</td>\n",
              "      <td>0</td>\n",
              "      <td>8000</td>\n",
              "      <td>0</td>\n",
              "    </tr>\n",
              "    <tr>\n",
              "      <th>4</th>\n",
              "      <td>ff80818163b1faf00163b4b9b8a163b1</td>\n",
              "      <td>2</td>\n",
              "      <td>12.963903</td>\n",
              "      <td>77.649446</td>\n",
              "      <td>0</td>\n",
              "      <td>0</td>\n",
              "      <td>0</td>\n",
              "      <td>1</td>\n",
              "      <td>1</td>\n",
              "      <td>3</td>\n",
              "      <td>...</td>\n",
              "      <td>3</td>\n",
              "      <td>6</td>\n",
              "      <td>4</td>\n",
              "      <td>0</td>\n",
              "      <td>0</td>\n",
              "      <td>1</td>\n",
              "      <td>3</td>\n",
              "      <td>1</td>\n",
              "      <td>45000</td>\n",
              "      <td>0</td>\n",
              "    </tr>\n",
              "  </tbody>\n",
              "</table>\n",
              "<p>5 rows × 22 columns</p>\n",
              "</div>\n",
              "      <button class=\"colab-df-convert\" onclick=\"convertToInteractive('df-69e96f73-bc10-44b5-99e2-5e019e9df733')\"\n",
              "              title=\"Convert this dataframe to an interactive table.\"\n",
              "              style=\"display:none;\">\n",
              "        \n",
              "  <svg xmlns=\"http://www.w3.org/2000/svg\" height=\"24px\"viewBox=\"0 0 24 24\"\n",
              "       width=\"24px\">\n",
              "    <path d=\"M0 0h24v24H0V0z\" fill=\"none\"/>\n",
              "    <path d=\"M18.56 5.44l.94 2.06.94-2.06 2.06-.94-2.06-.94-.94-2.06-.94 2.06-2.06.94zm-11 1L8.5 8.5l.94-2.06 2.06-.94-2.06-.94L8.5 2.5l-.94 2.06-2.06.94zm10 10l.94 2.06.94-2.06 2.06-.94-2.06-.94-.94-2.06-.94 2.06-2.06.94z\"/><path d=\"M17.41 7.96l-1.37-1.37c-.4-.4-.92-.59-1.43-.59-.52 0-1.04.2-1.43.59L10.3 9.45l-7.72 7.72c-.78.78-.78 2.05 0 2.83L4 21.41c.39.39.9.59 1.41.59.51 0 1.02-.2 1.41-.59l7.78-7.78 2.81-2.81c.8-.78.8-2.07 0-2.86zM5.41 20L4 18.59l7.72-7.72 1.47 1.35L5.41 20z\"/>\n",
              "  </svg>\n",
              "      </button>\n",
              "      \n",
              "  <style>\n",
              "    .colab-df-container {\n",
              "      display:flex;\n",
              "      flex-wrap:wrap;\n",
              "      gap: 12px;\n",
              "    }\n",
              "\n",
              "    .colab-df-convert {\n",
              "      background-color: #E8F0FE;\n",
              "      border: none;\n",
              "      border-radius: 50%;\n",
              "      cursor: pointer;\n",
              "      display: none;\n",
              "      fill: #1967D2;\n",
              "      height: 32px;\n",
              "      padding: 0 0 0 0;\n",
              "      width: 32px;\n",
              "    }\n",
              "\n",
              "    .colab-df-convert:hover {\n",
              "      background-color: #E2EBFA;\n",
              "      box-shadow: 0px 1px 2px rgba(60, 64, 67, 0.3), 0px 1px 3px 1px rgba(60, 64, 67, 0.15);\n",
              "      fill: #174EA6;\n",
              "    }\n",
              "\n",
              "    [theme=dark] .colab-df-convert {\n",
              "      background-color: #3B4455;\n",
              "      fill: #D2E3FC;\n",
              "    }\n",
              "\n",
              "    [theme=dark] .colab-df-convert:hover {\n",
              "      background-color: #434B5C;\n",
              "      box-shadow: 0px 1px 3px 1px rgba(0, 0, 0, 0.15);\n",
              "      filter: drop-shadow(0px 1px 2px rgba(0, 0, 0, 0.3));\n",
              "      fill: #FFFFFF;\n",
              "    }\n",
              "  </style>\n",
              "\n",
              "      <script>\n",
              "        const buttonEl =\n",
              "          document.querySelector('#df-69e96f73-bc10-44b5-99e2-5e019e9df733 button.colab-df-convert');\n",
              "        buttonEl.style.display =\n",
              "          google.colab.kernel.accessAllowed ? 'block' : 'none';\n",
              "\n",
              "        async function convertToInteractive(key) {\n",
              "          const element = document.querySelector('#df-69e96f73-bc10-44b5-99e2-5e019e9df733');\n",
              "          const dataTable =\n",
              "            await google.colab.kernel.invokeFunction('convertToInteractive',\n",
              "                                                     [key], {});\n",
              "          if (!dataTable) return;\n",
              "\n",
              "          const docLinkHtml = 'Like what you see? Visit the ' +\n",
              "            '<a target=\"_blank\" href=https://colab.research.google.com/notebooks/data_table.ipynb>data table notebook</a>'\n",
              "            + ' to learn more about interactive tables.';\n",
              "          element.innerHTML = '';\n",
              "          dataTable['output_type'] = 'display_data';\n",
              "          await google.colab.output.renderOutput(dataTable, element);\n",
              "          const docLink = document.createElement('div');\n",
              "          docLink.innerHTML = docLinkHtml;\n",
              "          element.appendChild(docLink);\n",
              "        }\n",
              "      </script>\n",
              "    </div>\n",
              "  </div>\n",
              "  "
            ]
          },
          "metadata": {},
          "execution_count": 122
        }
      ]
    },
    {
      "cell_type": "code",
      "source": [
        "for ind in df2.index:\n",
        "  df2['ecity'][ind]=calculate_spherical_distance(ec_lat,ec_long,df2[\"latitude\"][ind], df2[\"longitude\"][ind])"
      ],
      "metadata": {
        "colab": {
          "base_uri": "https://localhost:8080/"
        },
        "id": "e2VdCBEc8_6k",
        "outputId": "77607185-5775-43e2-99ed-5bbc399bdfdb"
      },
      "execution_count": 123,
      "outputs": [
        {
          "output_type": "stream",
          "name": "stderr",
          "text": [
            "/usr/local/lib/python3.7/dist-packages/ipykernel_launcher.py:2: SettingWithCopyWarning: \n",
            "A value is trying to be set on a copy of a slice from a DataFrame\n",
            "\n",
            "See the caveats in the documentation: https://pandas.pydata.org/pandas-docs/stable/user_guide/indexing.html#returning-a-view-versus-a-copy\n",
            "  \n"
          ]
        }
      ]
    },
    {
      "cell_type": "code",
      "source": [
        "df2.head()"
      ],
      "metadata": {
        "colab": {
          "base_uri": "https://localhost:8080/",
          "height": 300
        },
        "id": "iX7u2skf9Y9c",
        "outputId": "51e0e1ce-d929-41f7-b0aa-743af8ea6772"
      },
      "execution_count": 243,
      "outputs": [
        {
          "output_type": "execute_result",
          "data": {
            "text/plain": [
              "                                 id type   latitude  longitude  gym  lift  \\\n",
              "0  ff8081815733a243015733b2876600a6    2  12.934471  77.634471    1     1   \n",
              "1  ff8081815ee25e15015ee50004da2acd    2  12.929557  77.672280    0     1   \n",
              "2  ff80818163f29c9e0163f46770b873e7    2  12.982870  80.262012    0     1   \n",
              "3  ff80818164b68a700164b74b1b247a1d    1  12.955991  77.531634    0     0   \n",
              "4  ff80818163b1faf00163b4b9b8a163b1    2  12.963903  77.649446    0     0   \n",
              "\n",
              "   swimming_pool  negotiable furnishing parking  ...  bathroom  facing  \\\n",
              "0              1           0          1       3  ...         2       6   \n",
              "1              0           1          1       3  ...         2       5   \n",
              "2              0           0          1       3  ...         3       6   \n",
              "3              0           1          1       1  ...         1       6   \n",
              "4              0           1          1       3  ...         3       6   \n",
              "\n",
              "   cup_board floor  total_floor  water_supply  building_type balconies   rent  \\\n",
              "0          2     6           12             2              1         2  40000   \n",
              "1          2     3            4             1              1         2  22000   \n",
              "2          3     1            5             2              1         3  28000   \n",
              "3          1     1            2             1              3         0   8000   \n",
              "4          4     0            0             1              3         1  45000   \n",
              "\n",
              "   ecity  \n",
              "0     10  \n",
              "1      9  \n",
              "2    282  \n",
              "3     18  \n",
              "4     13  \n",
              "\n",
              "[5 rows x 22 columns]"
            ],
            "text/html": [
              "\n",
              "  <div id=\"df-67726895-b541-41a0-b25c-73c19cfe2f77\">\n",
              "    <div class=\"colab-df-container\">\n",
              "      <div>\n",
              "<style scoped>\n",
              "    .dataframe tbody tr th:only-of-type {\n",
              "        vertical-align: middle;\n",
              "    }\n",
              "\n",
              "    .dataframe tbody tr th {\n",
              "        vertical-align: top;\n",
              "    }\n",
              "\n",
              "    .dataframe thead th {\n",
              "        text-align: right;\n",
              "    }\n",
              "</style>\n",
              "<table border=\"1\" class=\"dataframe\">\n",
              "  <thead>\n",
              "    <tr style=\"text-align: right;\">\n",
              "      <th></th>\n",
              "      <th>id</th>\n",
              "      <th>type</th>\n",
              "      <th>latitude</th>\n",
              "      <th>longitude</th>\n",
              "      <th>gym</th>\n",
              "      <th>lift</th>\n",
              "      <th>swimming_pool</th>\n",
              "      <th>negotiable</th>\n",
              "      <th>furnishing</th>\n",
              "      <th>parking</th>\n",
              "      <th>...</th>\n",
              "      <th>bathroom</th>\n",
              "      <th>facing</th>\n",
              "      <th>cup_board</th>\n",
              "      <th>floor</th>\n",
              "      <th>total_floor</th>\n",
              "      <th>water_supply</th>\n",
              "      <th>building_type</th>\n",
              "      <th>balconies</th>\n",
              "      <th>rent</th>\n",
              "      <th>ecity</th>\n",
              "    </tr>\n",
              "  </thead>\n",
              "  <tbody>\n",
              "    <tr>\n",
              "      <th>0</th>\n",
              "      <td>ff8081815733a243015733b2876600a6</td>\n",
              "      <td>2</td>\n",
              "      <td>12.934471</td>\n",
              "      <td>77.634471</td>\n",
              "      <td>1</td>\n",
              "      <td>1</td>\n",
              "      <td>1</td>\n",
              "      <td>0</td>\n",
              "      <td>1</td>\n",
              "      <td>3</td>\n",
              "      <td>...</td>\n",
              "      <td>2</td>\n",
              "      <td>6</td>\n",
              "      <td>2</td>\n",
              "      <td>6</td>\n",
              "      <td>12</td>\n",
              "      <td>2</td>\n",
              "      <td>1</td>\n",
              "      <td>2</td>\n",
              "      <td>40000</td>\n",
              "      <td>10</td>\n",
              "    </tr>\n",
              "    <tr>\n",
              "      <th>1</th>\n",
              "      <td>ff8081815ee25e15015ee50004da2acd</td>\n",
              "      <td>2</td>\n",
              "      <td>12.929557</td>\n",
              "      <td>77.672280</td>\n",
              "      <td>0</td>\n",
              "      <td>1</td>\n",
              "      <td>0</td>\n",
              "      <td>1</td>\n",
              "      <td>1</td>\n",
              "      <td>3</td>\n",
              "      <td>...</td>\n",
              "      <td>2</td>\n",
              "      <td>5</td>\n",
              "      <td>2</td>\n",
              "      <td>3</td>\n",
              "      <td>4</td>\n",
              "      <td>1</td>\n",
              "      <td>1</td>\n",
              "      <td>2</td>\n",
              "      <td>22000</td>\n",
              "      <td>9</td>\n",
              "    </tr>\n",
              "    <tr>\n",
              "      <th>2</th>\n",
              "      <td>ff80818163f29c9e0163f46770b873e7</td>\n",
              "      <td>2</td>\n",
              "      <td>12.982870</td>\n",
              "      <td>80.262012</td>\n",
              "      <td>0</td>\n",
              "      <td>1</td>\n",
              "      <td>0</td>\n",
              "      <td>0</td>\n",
              "      <td>1</td>\n",
              "      <td>3</td>\n",
              "      <td>...</td>\n",
              "      <td>3</td>\n",
              "      <td>6</td>\n",
              "      <td>3</td>\n",
              "      <td>1</td>\n",
              "      <td>5</td>\n",
              "      <td>2</td>\n",
              "      <td>1</td>\n",
              "      <td>3</td>\n",
              "      <td>28000</td>\n",
              "      <td>282</td>\n",
              "    </tr>\n",
              "    <tr>\n",
              "      <th>3</th>\n",
              "      <td>ff80818164b68a700164b74b1b247a1d</td>\n",
              "      <td>1</td>\n",
              "      <td>12.955991</td>\n",
              "      <td>77.531634</td>\n",
              "      <td>0</td>\n",
              "      <td>0</td>\n",
              "      <td>0</td>\n",
              "      <td>1</td>\n",
              "      <td>1</td>\n",
              "      <td>1</td>\n",
              "      <td>...</td>\n",
              "      <td>1</td>\n",
              "      <td>6</td>\n",
              "      <td>1</td>\n",
              "      <td>1</td>\n",
              "      <td>2</td>\n",
              "      <td>1</td>\n",
              "      <td>3</td>\n",
              "      <td>0</td>\n",
              "      <td>8000</td>\n",
              "      <td>18</td>\n",
              "    </tr>\n",
              "    <tr>\n",
              "      <th>4</th>\n",
              "      <td>ff80818163b1faf00163b4b9b8a163b1</td>\n",
              "      <td>2</td>\n",
              "      <td>12.963903</td>\n",
              "      <td>77.649446</td>\n",
              "      <td>0</td>\n",
              "      <td>0</td>\n",
              "      <td>0</td>\n",
              "      <td>1</td>\n",
              "      <td>1</td>\n",
              "      <td>3</td>\n",
              "      <td>...</td>\n",
              "      <td>3</td>\n",
              "      <td>6</td>\n",
              "      <td>4</td>\n",
              "      <td>0</td>\n",
              "      <td>0</td>\n",
              "      <td>1</td>\n",
              "      <td>3</td>\n",
              "      <td>1</td>\n",
              "      <td>45000</td>\n",
              "      <td>13</td>\n",
              "    </tr>\n",
              "  </tbody>\n",
              "</table>\n",
              "<p>5 rows × 22 columns</p>\n",
              "</div>\n",
              "      <button class=\"colab-df-convert\" onclick=\"convertToInteractive('df-67726895-b541-41a0-b25c-73c19cfe2f77')\"\n",
              "              title=\"Convert this dataframe to an interactive table.\"\n",
              "              style=\"display:none;\">\n",
              "        \n",
              "  <svg xmlns=\"http://www.w3.org/2000/svg\" height=\"24px\"viewBox=\"0 0 24 24\"\n",
              "       width=\"24px\">\n",
              "    <path d=\"M0 0h24v24H0V0z\" fill=\"none\"/>\n",
              "    <path d=\"M18.56 5.44l.94 2.06.94-2.06 2.06-.94-2.06-.94-.94-2.06-.94 2.06-2.06.94zm-11 1L8.5 8.5l.94-2.06 2.06-.94-2.06-.94L8.5 2.5l-.94 2.06-2.06.94zm10 10l.94 2.06.94-2.06 2.06-.94-2.06-.94-.94-2.06-.94 2.06-2.06.94z\"/><path d=\"M17.41 7.96l-1.37-1.37c-.4-.4-.92-.59-1.43-.59-.52 0-1.04.2-1.43.59L10.3 9.45l-7.72 7.72c-.78.78-.78 2.05 0 2.83L4 21.41c.39.39.9.59 1.41.59.51 0 1.02-.2 1.41-.59l7.78-7.78 2.81-2.81c.8-.78.8-2.07 0-2.86zM5.41 20L4 18.59l7.72-7.72 1.47 1.35L5.41 20z\"/>\n",
              "  </svg>\n",
              "      </button>\n",
              "      \n",
              "  <style>\n",
              "    .colab-df-container {\n",
              "      display:flex;\n",
              "      flex-wrap:wrap;\n",
              "      gap: 12px;\n",
              "    }\n",
              "\n",
              "    .colab-df-convert {\n",
              "      background-color: #E8F0FE;\n",
              "      border: none;\n",
              "      border-radius: 50%;\n",
              "      cursor: pointer;\n",
              "      display: none;\n",
              "      fill: #1967D2;\n",
              "      height: 32px;\n",
              "      padding: 0 0 0 0;\n",
              "      width: 32px;\n",
              "    }\n",
              "\n",
              "    .colab-df-convert:hover {\n",
              "      background-color: #E2EBFA;\n",
              "      box-shadow: 0px 1px 2px rgba(60, 64, 67, 0.3), 0px 1px 3px 1px rgba(60, 64, 67, 0.15);\n",
              "      fill: #174EA6;\n",
              "    }\n",
              "\n",
              "    [theme=dark] .colab-df-convert {\n",
              "      background-color: #3B4455;\n",
              "      fill: #D2E3FC;\n",
              "    }\n",
              "\n",
              "    [theme=dark] .colab-df-convert:hover {\n",
              "      background-color: #434B5C;\n",
              "      box-shadow: 0px 1px 3px 1px rgba(0, 0, 0, 0.15);\n",
              "      filter: drop-shadow(0px 1px 2px rgba(0, 0, 0, 0.3));\n",
              "      fill: #FFFFFF;\n",
              "    }\n",
              "  </style>\n",
              "\n",
              "      <script>\n",
              "        const buttonEl =\n",
              "          document.querySelector('#df-67726895-b541-41a0-b25c-73c19cfe2f77 button.colab-df-convert');\n",
              "        buttonEl.style.display =\n",
              "          google.colab.kernel.accessAllowed ? 'block' : 'none';\n",
              "\n",
              "        async function convertToInteractive(key) {\n",
              "          const element = document.querySelector('#df-67726895-b541-41a0-b25c-73c19cfe2f77');\n",
              "          const dataTable =\n",
              "            await google.colab.kernel.invokeFunction('convertToInteractive',\n",
              "                                                     [key], {});\n",
              "          if (!dataTable) return;\n",
              "\n",
              "          const docLinkHtml = 'Like what you see? Visit the ' +\n",
              "            '<a target=\"_blank\" href=https://colab.research.google.com/notebooks/data_table.ipynb>data table notebook</a>'\n",
              "            + ' to learn more about interactive tables.';\n",
              "          element.innerHTML = '';\n",
              "          dataTable['output_type'] = 'display_data';\n",
              "          await google.colab.output.renderOutput(dataTable, element);\n",
              "          const docLink = document.createElement('div');\n",
              "          docLink.innerHTML = docLinkHtml;\n",
              "          element.appendChild(docLink);\n",
              "        }\n",
              "      </script>\n",
              "    </div>\n",
              "  </div>\n",
              "  "
            ]
          },
          "metadata": {},
          "execution_count": 243
        }
      ]
    },
    {
      "cell_type": "code",
      "source": [
        "df2.to_csv('processed2.csv')\n",
        "files.download('processed2.csv')"
      ],
      "metadata": {
        "colab": {
          "base_uri": "https://localhost:8080/",
          "height": 17
        },
        "id": "UtfS35Tv9grj",
        "outputId": "e9fd70b0-6700-42e2-cb63-65005785166c"
      },
      "execution_count": 244,
      "outputs": [
        {
          "output_type": "display_data",
          "data": {
            "text/plain": [
              "<IPython.core.display.Javascript object>"
            ],
            "application/javascript": [
              "\n",
              "    async function download(id, filename, size) {\n",
              "      if (!google.colab.kernel.accessAllowed) {\n",
              "        return;\n",
              "      }\n",
              "      const div = document.createElement('div');\n",
              "      const label = document.createElement('label');\n",
              "      label.textContent = `Downloading \"${filename}\": `;\n",
              "      div.appendChild(label);\n",
              "      const progress = document.createElement('progress');\n",
              "      progress.max = size;\n",
              "      div.appendChild(progress);\n",
              "      document.body.appendChild(div);\n",
              "\n",
              "      const buffers = [];\n",
              "      let downloaded = 0;\n",
              "\n",
              "      const channel = await google.colab.kernel.comms.open(id);\n",
              "      // Send a message to notify the kernel that we're ready.\n",
              "      channel.send({})\n",
              "\n",
              "      for await (const message of channel.messages) {\n",
              "        // Send a message to notify the kernel that we're ready.\n",
              "        channel.send({})\n",
              "        if (message.buffers) {\n",
              "          for (const buffer of message.buffers) {\n",
              "            buffers.push(buffer);\n",
              "            downloaded += buffer.byteLength;\n",
              "            progress.value = downloaded;\n",
              "          }\n",
              "        }\n",
              "      }\n",
              "      const blob = new Blob(buffers, {type: 'application/binary'});\n",
              "      const a = document.createElement('a');\n",
              "      a.href = window.URL.createObjectURL(blob);\n",
              "      a.download = filename;\n",
              "      div.appendChild(a);\n",
              "      a.click();\n",
              "      div.remove();\n",
              "    }\n",
              "  "
            ]
          },
          "metadata": {}
        },
        {
          "output_type": "display_data",
          "data": {
            "text/plain": [
              "<IPython.core.display.Javascript object>"
            ],
            "application/javascript": [
              "download(\"download_7954efe4-66ff-450a-8e51-f5c127fe5511\", \"processed2.csv\", 2195465)"
            ]
          },
          "metadata": {}
        }
      ]
    },
    {
      "cell_type": "code",
      "source": [
        "train2,val2= train_test_split(df2,test_size=0.2,random_state=42)"
      ],
      "metadata": {
        "id": "BxgLF-is9n7t"
      },
      "execution_count": 124,
      "outputs": []
    },
    {
      "cell_type": "code",
      "source": [
        "train2=train2.dropna()\n",
        "val2=val2.dropna()"
      ],
      "metadata": {
        "id": "iMxaZppf9xfU"
      },
      "execution_count": 125,
      "outputs": []
    },
    {
      "cell_type": "code",
      "source": [
        "train2.head()"
      ],
      "metadata": {
        "colab": {
          "base_uri": "https://localhost:8080/",
          "height": 300
        },
        "id": "0Ho0cE6t-QGX",
        "outputId": "941cd2d4-646f-4945-d484-30ff25a02674"
      },
      "execution_count": 126,
      "outputs": [
        {
          "output_type": "execute_result",
          "data": {
            "text/plain": [
              "                                     id type   latitude  longitude  gym  lift  \\\n",
              "10087  ff8081815239c00501523afa9bd91094    1  12.945062  77.680330    0     0   \n",
              "14619  ff8081815c022dd3015c053bf6886366    2  12.938255  77.726365    0     0   \n",
              "5368   ff8081814fdb74dc014fde80bf640994    2  12.906489  77.691041    0     0   \n",
              "14832  ff80818162a582350162a8b4a5880000    2  12.964146  77.708150    1     1   \n",
              "12448  ff80818157bd3a640157bd5fa534033e    0  12.923776  77.649667    0     0   \n",
              "\n",
              "       swimming_pool  negotiable furnishing parking  ...  bathroom  facing  \\\n",
              "10087              0           0          0       1  ...         1       6   \n",
              "14619              0           1          1       3  ...         2       6   \n",
              "5368               0           1          1       3  ...         2       6   \n",
              "14832              0           0          1       2  ...         2       4   \n",
              "12448              0           0          1       1  ...         1       6   \n",
              "\n",
              "       cup_board floor  total_floor  water_supply  building_type balconies  \\\n",
              "10087          0     1            3             1              2         0   \n",
              "14619          2     0           13             1              1         2   \n",
              "5368           4     3            3             0              1         1   \n",
              "14832          2     2            4             2              1         0   \n",
              "12448          1     0            3             1              3         0   \n",
              "\n",
              "        rent  ecity  \n",
              "10087   8500     11  \n",
              "14619  25000     12  \n",
              "5368   21500      7  \n",
              "14832  22500     14  \n",
              "12448   8000      8  \n",
              "\n",
              "[5 rows x 22 columns]"
            ],
            "text/html": [
              "\n",
              "  <div id=\"df-06fa2f32-332a-463a-99ec-63f7b1d3e9ab\">\n",
              "    <div class=\"colab-df-container\">\n",
              "      <div>\n",
              "<style scoped>\n",
              "    .dataframe tbody tr th:only-of-type {\n",
              "        vertical-align: middle;\n",
              "    }\n",
              "\n",
              "    .dataframe tbody tr th {\n",
              "        vertical-align: top;\n",
              "    }\n",
              "\n",
              "    .dataframe thead th {\n",
              "        text-align: right;\n",
              "    }\n",
              "</style>\n",
              "<table border=\"1\" class=\"dataframe\">\n",
              "  <thead>\n",
              "    <tr style=\"text-align: right;\">\n",
              "      <th></th>\n",
              "      <th>id</th>\n",
              "      <th>type</th>\n",
              "      <th>latitude</th>\n",
              "      <th>longitude</th>\n",
              "      <th>gym</th>\n",
              "      <th>lift</th>\n",
              "      <th>swimming_pool</th>\n",
              "      <th>negotiable</th>\n",
              "      <th>furnishing</th>\n",
              "      <th>parking</th>\n",
              "      <th>...</th>\n",
              "      <th>bathroom</th>\n",
              "      <th>facing</th>\n",
              "      <th>cup_board</th>\n",
              "      <th>floor</th>\n",
              "      <th>total_floor</th>\n",
              "      <th>water_supply</th>\n",
              "      <th>building_type</th>\n",
              "      <th>balconies</th>\n",
              "      <th>rent</th>\n",
              "      <th>ecity</th>\n",
              "    </tr>\n",
              "  </thead>\n",
              "  <tbody>\n",
              "    <tr>\n",
              "      <th>10087</th>\n",
              "      <td>ff8081815239c00501523afa9bd91094</td>\n",
              "      <td>1</td>\n",
              "      <td>12.945062</td>\n",
              "      <td>77.680330</td>\n",
              "      <td>0</td>\n",
              "      <td>0</td>\n",
              "      <td>0</td>\n",
              "      <td>0</td>\n",
              "      <td>0</td>\n",
              "      <td>1</td>\n",
              "      <td>...</td>\n",
              "      <td>1</td>\n",
              "      <td>6</td>\n",
              "      <td>0</td>\n",
              "      <td>1</td>\n",
              "      <td>3</td>\n",
              "      <td>1</td>\n",
              "      <td>2</td>\n",
              "      <td>0</td>\n",
              "      <td>8500</td>\n",
              "      <td>11</td>\n",
              "    </tr>\n",
              "    <tr>\n",
              "      <th>14619</th>\n",
              "      <td>ff8081815c022dd3015c053bf6886366</td>\n",
              "      <td>2</td>\n",
              "      <td>12.938255</td>\n",
              "      <td>77.726365</td>\n",
              "      <td>0</td>\n",
              "      <td>0</td>\n",
              "      <td>0</td>\n",
              "      <td>1</td>\n",
              "      <td>1</td>\n",
              "      <td>3</td>\n",
              "      <td>...</td>\n",
              "      <td>2</td>\n",
              "      <td>6</td>\n",
              "      <td>2</td>\n",
              "      <td>0</td>\n",
              "      <td>13</td>\n",
              "      <td>1</td>\n",
              "      <td>1</td>\n",
              "      <td>2</td>\n",
              "      <td>25000</td>\n",
              "      <td>12</td>\n",
              "    </tr>\n",
              "    <tr>\n",
              "      <th>5368</th>\n",
              "      <td>ff8081814fdb74dc014fde80bf640994</td>\n",
              "      <td>2</td>\n",
              "      <td>12.906489</td>\n",
              "      <td>77.691041</td>\n",
              "      <td>0</td>\n",
              "      <td>0</td>\n",
              "      <td>0</td>\n",
              "      <td>1</td>\n",
              "      <td>1</td>\n",
              "      <td>3</td>\n",
              "      <td>...</td>\n",
              "      <td>2</td>\n",
              "      <td>6</td>\n",
              "      <td>4</td>\n",
              "      <td>3</td>\n",
              "      <td>3</td>\n",
              "      <td>0</td>\n",
              "      <td>1</td>\n",
              "      <td>1</td>\n",
              "      <td>21500</td>\n",
              "      <td>7</td>\n",
              "    </tr>\n",
              "    <tr>\n",
              "      <th>14832</th>\n",
              "      <td>ff80818162a582350162a8b4a5880000</td>\n",
              "      <td>2</td>\n",
              "      <td>12.964146</td>\n",
              "      <td>77.708150</td>\n",
              "      <td>1</td>\n",
              "      <td>1</td>\n",
              "      <td>0</td>\n",
              "      <td>0</td>\n",
              "      <td>1</td>\n",
              "      <td>2</td>\n",
              "      <td>...</td>\n",
              "      <td>2</td>\n",
              "      <td>4</td>\n",
              "      <td>2</td>\n",
              "      <td>2</td>\n",
              "      <td>4</td>\n",
              "      <td>2</td>\n",
              "      <td>1</td>\n",
              "      <td>0</td>\n",
              "      <td>22500</td>\n",
              "      <td>14</td>\n",
              "    </tr>\n",
              "    <tr>\n",
              "      <th>12448</th>\n",
              "      <td>ff80818157bd3a640157bd5fa534033e</td>\n",
              "      <td>0</td>\n",
              "      <td>12.923776</td>\n",
              "      <td>77.649667</td>\n",
              "      <td>0</td>\n",
              "      <td>0</td>\n",
              "      <td>0</td>\n",
              "      <td>0</td>\n",
              "      <td>1</td>\n",
              "      <td>1</td>\n",
              "      <td>...</td>\n",
              "      <td>1</td>\n",
              "      <td>6</td>\n",
              "      <td>1</td>\n",
              "      <td>0</td>\n",
              "      <td>3</td>\n",
              "      <td>1</td>\n",
              "      <td>3</td>\n",
              "      <td>0</td>\n",
              "      <td>8000</td>\n",
              "      <td>8</td>\n",
              "    </tr>\n",
              "  </tbody>\n",
              "</table>\n",
              "<p>5 rows × 22 columns</p>\n",
              "</div>\n",
              "      <button class=\"colab-df-convert\" onclick=\"convertToInteractive('df-06fa2f32-332a-463a-99ec-63f7b1d3e9ab')\"\n",
              "              title=\"Convert this dataframe to an interactive table.\"\n",
              "              style=\"display:none;\">\n",
              "        \n",
              "  <svg xmlns=\"http://www.w3.org/2000/svg\" height=\"24px\"viewBox=\"0 0 24 24\"\n",
              "       width=\"24px\">\n",
              "    <path d=\"M0 0h24v24H0V0z\" fill=\"none\"/>\n",
              "    <path d=\"M18.56 5.44l.94 2.06.94-2.06 2.06-.94-2.06-.94-.94-2.06-.94 2.06-2.06.94zm-11 1L8.5 8.5l.94-2.06 2.06-.94-2.06-.94L8.5 2.5l-.94 2.06-2.06.94zm10 10l.94 2.06.94-2.06 2.06-.94-2.06-.94-.94-2.06-.94 2.06-2.06.94z\"/><path d=\"M17.41 7.96l-1.37-1.37c-.4-.4-.92-.59-1.43-.59-.52 0-1.04.2-1.43.59L10.3 9.45l-7.72 7.72c-.78.78-.78 2.05 0 2.83L4 21.41c.39.39.9.59 1.41.59.51 0 1.02-.2 1.41-.59l7.78-7.78 2.81-2.81c.8-.78.8-2.07 0-2.86zM5.41 20L4 18.59l7.72-7.72 1.47 1.35L5.41 20z\"/>\n",
              "  </svg>\n",
              "      </button>\n",
              "      \n",
              "  <style>\n",
              "    .colab-df-container {\n",
              "      display:flex;\n",
              "      flex-wrap:wrap;\n",
              "      gap: 12px;\n",
              "    }\n",
              "\n",
              "    .colab-df-convert {\n",
              "      background-color: #E8F0FE;\n",
              "      border: none;\n",
              "      border-radius: 50%;\n",
              "      cursor: pointer;\n",
              "      display: none;\n",
              "      fill: #1967D2;\n",
              "      height: 32px;\n",
              "      padding: 0 0 0 0;\n",
              "      width: 32px;\n",
              "    }\n",
              "\n",
              "    .colab-df-convert:hover {\n",
              "      background-color: #E2EBFA;\n",
              "      box-shadow: 0px 1px 2px rgba(60, 64, 67, 0.3), 0px 1px 3px 1px rgba(60, 64, 67, 0.15);\n",
              "      fill: #174EA6;\n",
              "    }\n",
              "\n",
              "    [theme=dark] .colab-df-convert {\n",
              "      background-color: #3B4455;\n",
              "      fill: #D2E3FC;\n",
              "    }\n",
              "\n",
              "    [theme=dark] .colab-df-convert:hover {\n",
              "      background-color: #434B5C;\n",
              "      box-shadow: 0px 1px 3px 1px rgba(0, 0, 0, 0.15);\n",
              "      filter: drop-shadow(0px 1px 2px rgba(0, 0, 0, 0.3));\n",
              "      fill: #FFFFFF;\n",
              "    }\n",
              "  </style>\n",
              "\n",
              "      <script>\n",
              "        const buttonEl =\n",
              "          document.querySelector('#df-06fa2f32-332a-463a-99ec-63f7b1d3e9ab button.colab-df-convert');\n",
              "        buttonEl.style.display =\n",
              "          google.colab.kernel.accessAllowed ? 'block' : 'none';\n",
              "\n",
              "        async function convertToInteractive(key) {\n",
              "          const element = document.querySelector('#df-06fa2f32-332a-463a-99ec-63f7b1d3e9ab');\n",
              "          const dataTable =\n",
              "            await google.colab.kernel.invokeFunction('convertToInteractive',\n",
              "                                                     [key], {});\n",
              "          if (!dataTable) return;\n",
              "\n",
              "          const docLinkHtml = 'Like what you see? Visit the ' +\n",
              "            '<a target=\"_blank\" href=https://colab.research.google.com/notebooks/data_table.ipynb>data table notebook</a>'\n",
              "            + ' to learn more about interactive tables.';\n",
              "          element.innerHTML = '';\n",
              "          dataTable['output_type'] = 'display_data';\n",
              "          await google.colab.output.renderOutput(dataTable, element);\n",
              "          const docLink = document.createElement('div');\n",
              "          docLink.innerHTML = docLinkHtml;\n",
              "          element.appendChild(docLink);\n",
              "        }\n",
              "      </script>\n",
              "    </div>\n",
              "  </div>\n",
              "  "
            ]
          },
          "metadata": {},
          "execution_count": 126
        }
      ]
    },
    {
      "cell_type": "code",
      "source": [
        "input_cols2=['id',\n",
        " 'type',\n",
        " 'gym',\n",
        " 'lift',\n",
        " 'swimming_pool',\n",
        " 'negotiable',\n",
        " 'furnishing',\n",
        " 'parking',\n",
        " 'property_size',\n",
        " 'property_age',\n",
        " 'bathroom',\n",
        " 'facing',\n",
        " 'cup_board',\n",
        " 'floor',\n",
        " 'total_floor',\n",
        " 'water_supply',\n",
        " 'building_type',\n",
        " 'balconies',\n",
        " 'ecity']"
      ],
      "metadata": {
        "id": "VKYXLNU094et"
      },
      "execution_count": 127,
      "outputs": []
    },
    {
      "cell_type": "code",
      "source": [
        "target_cols=['rent']"
      ],
      "metadata": {
        "id": "VP2fXlt6-DBh"
      },
      "execution_count": 128,
      "outputs": []
    },
    {
      "cell_type": "code",
      "source": [
        "train_inputs2=train2[input_cols2]\n",
        "train_inputs2.head(5)"
      ],
      "metadata": {
        "colab": {
          "base_uri": "https://localhost:8080/",
          "height": 270
        },
        "id": "WUdAhIuy-GrE",
        "outputId": "605d0834-7b48-4eff-d2c1-9d1a7be7f27a"
      },
      "execution_count": 129,
      "outputs": [
        {
          "output_type": "execute_result",
          "data": {
            "text/plain": [
              "                                     id type  gym  lift  swimming_pool  \\\n",
              "10087  ff8081815239c00501523afa9bd91094    1    0     0              0   \n",
              "14619  ff8081815c022dd3015c053bf6886366    2    0     0              0   \n",
              "5368   ff8081814fdb74dc014fde80bf640994    2    0     0              0   \n",
              "14832  ff80818162a582350162a8b4a5880000    2    1     1              0   \n",
              "12448  ff80818157bd3a640157bd5fa534033e    0    0     0              0   \n",
              "\n",
              "       negotiable furnishing parking  property_size  property_age  bathroom  \\\n",
              "10087           0          0       1            600             1         1   \n",
              "14619           1          1       3           1000             0         2   \n",
              "5368            1          1       3           1055             1         2   \n",
              "14832           0          1       2           1200             9         2   \n",
              "12448           0          1       1            230             3         1   \n",
              "\n",
              "      facing  cup_board  floor  total_floor water_supply building_type  \\\n",
              "10087      6          0      1            3            1             2   \n",
              "14619      6          2      0           13            1             1   \n",
              "5368       6          4      3            3            0             1   \n",
              "14832      4          2      2            4            2             1   \n",
              "12448      6          1      0            3            1             3   \n",
              "\n",
              "       balconies  ecity  \n",
              "10087          0     11  \n",
              "14619          2     12  \n",
              "5368           1      7  \n",
              "14832          0     14  \n",
              "12448          0      8  "
            ],
            "text/html": [
              "\n",
              "  <div id=\"df-d661664b-0c11-4f9d-ba81-07f3a6a03bb7\">\n",
              "    <div class=\"colab-df-container\">\n",
              "      <div>\n",
              "<style scoped>\n",
              "    .dataframe tbody tr th:only-of-type {\n",
              "        vertical-align: middle;\n",
              "    }\n",
              "\n",
              "    .dataframe tbody tr th {\n",
              "        vertical-align: top;\n",
              "    }\n",
              "\n",
              "    .dataframe thead th {\n",
              "        text-align: right;\n",
              "    }\n",
              "</style>\n",
              "<table border=\"1\" class=\"dataframe\">\n",
              "  <thead>\n",
              "    <tr style=\"text-align: right;\">\n",
              "      <th></th>\n",
              "      <th>id</th>\n",
              "      <th>type</th>\n",
              "      <th>gym</th>\n",
              "      <th>lift</th>\n",
              "      <th>swimming_pool</th>\n",
              "      <th>negotiable</th>\n",
              "      <th>furnishing</th>\n",
              "      <th>parking</th>\n",
              "      <th>property_size</th>\n",
              "      <th>property_age</th>\n",
              "      <th>bathroom</th>\n",
              "      <th>facing</th>\n",
              "      <th>cup_board</th>\n",
              "      <th>floor</th>\n",
              "      <th>total_floor</th>\n",
              "      <th>water_supply</th>\n",
              "      <th>building_type</th>\n",
              "      <th>balconies</th>\n",
              "      <th>ecity</th>\n",
              "    </tr>\n",
              "  </thead>\n",
              "  <tbody>\n",
              "    <tr>\n",
              "      <th>10087</th>\n",
              "      <td>ff8081815239c00501523afa9bd91094</td>\n",
              "      <td>1</td>\n",
              "      <td>0</td>\n",
              "      <td>0</td>\n",
              "      <td>0</td>\n",
              "      <td>0</td>\n",
              "      <td>0</td>\n",
              "      <td>1</td>\n",
              "      <td>600</td>\n",
              "      <td>1</td>\n",
              "      <td>1</td>\n",
              "      <td>6</td>\n",
              "      <td>0</td>\n",
              "      <td>1</td>\n",
              "      <td>3</td>\n",
              "      <td>1</td>\n",
              "      <td>2</td>\n",
              "      <td>0</td>\n",
              "      <td>11</td>\n",
              "    </tr>\n",
              "    <tr>\n",
              "      <th>14619</th>\n",
              "      <td>ff8081815c022dd3015c053bf6886366</td>\n",
              "      <td>2</td>\n",
              "      <td>0</td>\n",
              "      <td>0</td>\n",
              "      <td>0</td>\n",
              "      <td>1</td>\n",
              "      <td>1</td>\n",
              "      <td>3</td>\n",
              "      <td>1000</td>\n",
              "      <td>0</td>\n",
              "      <td>2</td>\n",
              "      <td>6</td>\n",
              "      <td>2</td>\n",
              "      <td>0</td>\n",
              "      <td>13</td>\n",
              "      <td>1</td>\n",
              "      <td>1</td>\n",
              "      <td>2</td>\n",
              "      <td>12</td>\n",
              "    </tr>\n",
              "    <tr>\n",
              "      <th>5368</th>\n",
              "      <td>ff8081814fdb74dc014fde80bf640994</td>\n",
              "      <td>2</td>\n",
              "      <td>0</td>\n",
              "      <td>0</td>\n",
              "      <td>0</td>\n",
              "      <td>1</td>\n",
              "      <td>1</td>\n",
              "      <td>3</td>\n",
              "      <td>1055</td>\n",
              "      <td>1</td>\n",
              "      <td>2</td>\n",
              "      <td>6</td>\n",
              "      <td>4</td>\n",
              "      <td>3</td>\n",
              "      <td>3</td>\n",
              "      <td>0</td>\n",
              "      <td>1</td>\n",
              "      <td>1</td>\n",
              "      <td>7</td>\n",
              "    </tr>\n",
              "    <tr>\n",
              "      <th>14832</th>\n",
              "      <td>ff80818162a582350162a8b4a5880000</td>\n",
              "      <td>2</td>\n",
              "      <td>1</td>\n",
              "      <td>1</td>\n",
              "      <td>0</td>\n",
              "      <td>0</td>\n",
              "      <td>1</td>\n",
              "      <td>2</td>\n",
              "      <td>1200</td>\n",
              "      <td>9</td>\n",
              "      <td>2</td>\n",
              "      <td>4</td>\n",
              "      <td>2</td>\n",
              "      <td>2</td>\n",
              "      <td>4</td>\n",
              "      <td>2</td>\n",
              "      <td>1</td>\n",
              "      <td>0</td>\n",
              "      <td>14</td>\n",
              "    </tr>\n",
              "    <tr>\n",
              "      <th>12448</th>\n",
              "      <td>ff80818157bd3a640157bd5fa534033e</td>\n",
              "      <td>0</td>\n",
              "      <td>0</td>\n",
              "      <td>0</td>\n",
              "      <td>0</td>\n",
              "      <td>0</td>\n",
              "      <td>1</td>\n",
              "      <td>1</td>\n",
              "      <td>230</td>\n",
              "      <td>3</td>\n",
              "      <td>1</td>\n",
              "      <td>6</td>\n",
              "      <td>1</td>\n",
              "      <td>0</td>\n",
              "      <td>3</td>\n",
              "      <td>1</td>\n",
              "      <td>3</td>\n",
              "      <td>0</td>\n",
              "      <td>8</td>\n",
              "    </tr>\n",
              "  </tbody>\n",
              "</table>\n",
              "</div>\n",
              "      <button class=\"colab-df-convert\" onclick=\"convertToInteractive('df-d661664b-0c11-4f9d-ba81-07f3a6a03bb7')\"\n",
              "              title=\"Convert this dataframe to an interactive table.\"\n",
              "              style=\"display:none;\">\n",
              "        \n",
              "  <svg xmlns=\"http://www.w3.org/2000/svg\" height=\"24px\"viewBox=\"0 0 24 24\"\n",
              "       width=\"24px\">\n",
              "    <path d=\"M0 0h24v24H0V0z\" fill=\"none\"/>\n",
              "    <path d=\"M18.56 5.44l.94 2.06.94-2.06 2.06-.94-2.06-.94-.94-2.06-.94 2.06-2.06.94zm-11 1L8.5 8.5l.94-2.06 2.06-.94-2.06-.94L8.5 2.5l-.94 2.06-2.06.94zm10 10l.94 2.06.94-2.06 2.06-.94-2.06-.94-.94-2.06-.94 2.06-2.06.94z\"/><path d=\"M17.41 7.96l-1.37-1.37c-.4-.4-.92-.59-1.43-.59-.52 0-1.04.2-1.43.59L10.3 9.45l-7.72 7.72c-.78.78-.78 2.05 0 2.83L4 21.41c.39.39.9.59 1.41.59.51 0 1.02-.2 1.41-.59l7.78-7.78 2.81-2.81c.8-.78.8-2.07 0-2.86zM5.41 20L4 18.59l7.72-7.72 1.47 1.35L5.41 20z\"/>\n",
              "  </svg>\n",
              "      </button>\n",
              "      \n",
              "  <style>\n",
              "    .colab-df-container {\n",
              "      display:flex;\n",
              "      flex-wrap:wrap;\n",
              "      gap: 12px;\n",
              "    }\n",
              "\n",
              "    .colab-df-convert {\n",
              "      background-color: #E8F0FE;\n",
              "      border: none;\n",
              "      border-radius: 50%;\n",
              "      cursor: pointer;\n",
              "      display: none;\n",
              "      fill: #1967D2;\n",
              "      height: 32px;\n",
              "      padding: 0 0 0 0;\n",
              "      width: 32px;\n",
              "    }\n",
              "\n",
              "    .colab-df-convert:hover {\n",
              "      background-color: #E2EBFA;\n",
              "      box-shadow: 0px 1px 2px rgba(60, 64, 67, 0.3), 0px 1px 3px 1px rgba(60, 64, 67, 0.15);\n",
              "      fill: #174EA6;\n",
              "    }\n",
              "\n",
              "    [theme=dark] .colab-df-convert {\n",
              "      background-color: #3B4455;\n",
              "      fill: #D2E3FC;\n",
              "    }\n",
              "\n",
              "    [theme=dark] .colab-df-convert:hover {\n",
              "      background-color: #434B5C;\n",
              "      box-shadow: 0px 1px 3px 1px rgba(0, 0, 0, 0.15);\n",
              "      filter: drop-shadow(0px 1px 2px rgba(0, 0, 0, 0.3));\n",
              "      fill: #FFFFFF;\n",
              "    }\n",
              "  </style>\n",
              "\n",
              "      <script>\n",
              "        const buttonEl =\n",
              "          document.querySelector('#df-d661664b-0c11-4f9d-ba81-07f3a6a03bb7 button.colab-df-convert');\n",
              "        buttonEl.style.display =\n",
              "          google.colab.kernel.accessAllowed ? 'block' : 'none';\n",
              "\n",
              "        async function convertToInteractive(key) {\n",
              "          const element = document.querySelector('#df-d661664b-0c11-4f9d-ba81-07f3a6a03bb7');\n",
              "          const dataTable =\n",
              "            await google.colab.kernel.invokeFunction('convertToInteractive',\n",
              "                                                     [key], {});\n",
              "          if (!dataTable) return;\n",
              "\n",
              "          const docLinkHtml = 'Like what you see? Visit the ' +\n",
              "            '<a target=\"_blank\" href=https://colab.research.google.com/notebooks/data_table.ipynb>data table notebook</a>'\n",
              "            + ' to learn more about interactive tables.';\n",
              "          element.innerHTML = '';\n",
              "          dataTable['output_type'] = 'display_data';\n",
              "          await google.colab.output.renderOutput(dataTable, element);\n",
              "          const docLink = document.createElement('div');\n",
              "          docLink.innerHTML = docLinkHtml;\n",
              "          element.appendChild(docLink);\n",
              "        }\n",
              "      </script>\n",
              "    </div>\n",
              "  </div>\n",
              "  "
            ]
          },
          "metadata": {},
          "execution_count": 129
        }
      ]
    },
    {
      "cell_type": "code",
      "source": [
        "train_outputs2=train2[target_cols]\n",
        "train_outputs2.head(5)"
      ],
      "metadata": {
        "colab": {
          "base_uri": "https://localhost:8080/",
          "height": 206
        },
        "id": "QdjeWfvY-tLL",
        "outputId": "96a91776-b126-4928-cbd3-adf1629b2b64"
      },
      "execution_count": 130,
      "outputs": [
        {
          "output_type": "execute_result",
          "data": {
            "text/plain": [
              "        rent\n",
              "10087   8500\n",
              "14619  25000\n",
              "5368   21500\n",
              "14832  22500\n",
              "12448   8000"
            ],
            "text/html": [
              "\n",
              "  <div id=\"df-b41c963f-0708-4e42-876b-16a6b1334fda\">\n",
              "    <div class=\"colab-df-container\">\n",
              "      <div>\n",
              "<style scoped>\n",
              "    .dataframe tbody tr th:only-of-type {\n",
              "        vertical-align: middle;\n",
              "    }\n",
              "\n",
              "    .dataframe tbody tr th {\n",
              "        vertical-align: top;\n",
              "    }\n",
              "\n",
              "    .dataframe thead th {\n",
              "        text-align: right;\n",
              "    }\n",
              "</style>\n",
              "<table border=\"1\" class=\"dataframe\">\n",
              "  <thead>\n",
              "    <tr style=\"text-align: right;\">\n",
              "      <th></th>\n",
              "      <th>rent</th>\n",
              "    </tr>\n",
              "  </thead>\n",
              "  <tbody>\n",
              "    <tr>\n",
              "      <th>10087</th>\n",
              "      <td>8500</td>\n",
              "    </tr>\n",
              "    <tr>\n",
              "      <th>14619</th>\n",
              "      <td>25000</td>\n",
              "    </tr>\n",
              "    <tr>\n",
              "      <th>5368</th>\n",
              "      <td>21500</td>\n",
              "    </tr>\n",
              "    <tr>\n",
              "      <th>14832</th>\n",
              "      <td>22500</td>\n",
              "    </tr>\n",
              "    <tr>\n",
              "      <th>12448</th>\n",
              "      <td>8000</td>\n",
              "    </tr>\n",
              "  </tbody>\n",
              "</table>\n",
              "</div>\n",
              "      <button class=\"colab-df-convert\" onclick=\"convertToInteractive('df-b41c963f-0708-4e42-876b-16a6b1334fda')\"\n",
              "              title=\"Convert this dataframe to an interactive table.\"\n",
              "              style=\"display:none;\">\n",
              "        \n",
              "  <svg xmlns=\"http://www.w3.org/2000/svg\" height=\"24px\"viewBox=\"0 0 24 24\"\n",
              "       width=\"24px\">\n",
              "    <path d=\"M0 0h24v24H0V0z\" fill=\"none\"/>\n",
              "    <path d=\"M18.56 5.44l.94 2.06.94-2.06 2.06-.94-2.06-.94-.94-2.06-.94 2.06-2.06.94zm-11 1L8.5 8.5l.94-2.06 2.06-.94-2.06-.94L8.5 2.5l-.94 2.06-2.06.94zm10 10l.94 2.06.94-2.06 2.06-.94-2.06-.94-.94-2.06-.94 2.06-2.06.94z\"/><path d=\"M17.41 7.96l-1.37-1.37c-.4-.4-.92-.59-1.43-.59-.52 0-1.04.2-1.43.59L10.3 9.45l-7.72 7.72c-.78.78-.78 2.05 0 2.83L4 21.41c.39.39.9.59 1.41.59.51 0 1.02-.2 1.41-.59l7.78-7.78 2.81-2.81c.8-.78.8-2.07 0-2.86zM5.41 20L4 18.59l7.72-7.72 1.47 1.35L5.41 20z\"/>\n",
              "  </svg>\n",
              "      </button>\n",
              "      \n",
              "  <style>\n",
              "    .colab-df-container {\n",
              "      display:flex;\n",
              "      flex-wrap:wrap;\n",
              "      gap: 12px;\n",
              "    }\n",
              "\n",
              "    .colab-df-convert {\n",
              "      background-color: #E8F0FE;\n",
              "      border: none;\n",
              "      border-radius: 50%;\n",
              "      cursor: pointer;\n",
              "      display: none;\n",
              "      fill: #1967D2;\n",
              "      height: 32px;\n",
              "      padding: 0 0 0 0;\n",
              "      width: 32px;\n",
              "    }\n",
              "\n",
              "    .colab-df-convert:hover {\n",
              "      background-color: #E2EBFA;\n",
              "      box-shadow: 0px 1px 2px rgba(60, 64, 67, 0.3), 0px 1px 3px 1px rgba(60, 64, 67, 0.15);\n",
              "      fill: #174EA6;\n",
              "    }\n",
              "\n",
              "    [theme=dark] .colab-df-convert {\n",
              "      background-color: #3B4455;\n",
              "      fill: #D2E3FC;\n",
              "    }\n",
              "\n",
              "    [theme=dark] .colab-df-convert:hover {\n",
              "      background-color: #434B5C;\n",
              "      box-shadow: 0px 1px 3px 1px rgba(0, 0, 0, 0.15);\n",
              "      filter: drop-shadow(0px 1px 2px rgba(0, 0, 0, 0.3));\n",
              "      fill: #FFFFFF;\n",
              "    }\n",
              "  </style>\n",
              "\n",
              "      <script>\n",
              "        const buttonEl =\n",
              "          document.querySelector('#df-b41c963f-0708-4e42-876b-16a6b1334fda button.colab-df-convert');\n",
              "        buttonEl.style.display =\n",
              "          google.colab.kernel.accessAllowed ? 'block' : 'none';\n",
              "\n",
              "        async function convertToInteractive(key) {\n",
              "          const element = document.querySelector('#df-b41c963f-0708-4e42-876b-16a6b1334fda');\n",
              "          const dataTable =\n",
              "            await google.colab.kernel.invokeFunction('convertToInteractive',\n",
              "                                                     [key], {});\n",
              "          if (!dataTable) return;\n",
              "\n",
              "          const docLinkHtml = 'Like what you see? Visit the ' +\n",
              "            '<a target=\"_blank\" href=https://colab.research.google.com/notebooks/data_table.ipynb>data table notebook</a>'\n",
              "            + ' to learn more about interactive tables.';\n",
              "          element.innerHTML = '';\n",
              "          dataTable['output_type'] = 'display_data';\n",
              "          await google.colab.output.renderOutput(dataTable, element);\n",
              "          const docLink = document.createElement('div');\n",
              "          docLink.innerHTML = docLinkHtml;\n",
              "          element.appendChild(docLink);\n",
              "        }\n",
              "      </script>\n",
              "    </div>\n",
              "  </div>\n",
              "  "
            ]
          },
          "metadata": {},
          "execution_count": 130
        }
      ]
    },
    {
      "cell_type": "code",
      "source": [
        "val_inputs2=val2[input_cols2]\n",
        "val_inputs2.head(5)"
      ],
      "metadata": {
        "colab": {
          "base_uri": "https://localhost:8080/",
          "height": 270
        },
        "id": "j5ImhAf1_kz0",
        "outputId": "699cef7f-2de8-4cfc-be99-455e48c68f5c"
      },
      "execution_count": 131,
      "outputs": [
        {
          "output_type": "execute_result",
          "data": {
            "text/plain": [
              "                                     id type  gym  lift  swimming_pool  \\\n",
              "16330  ff8081816108a00501610915abc93a4b    2    1     1              1   \n",
              "7850   ff8081815aacc98e015aae15194752a5    2    0     0              0   \n",
              "13547  ff80818158de4fb60158dea009ce0ed2    0    0     0              0   \n",
              "5565   ff80818160204e9b0160267e7faf7a7f    2    0     0              0   \n",
              "10606  ff808181638d2a350163909b97eb7088    2    0     0              0   \n",
              "\n",
              "       negotiable furnishing parking  property_size  property_age  bathroom  \\\n",
              "16330           1          1       3           1505             1         2   \n",
              "7850            1          1       1            743            15         2   \n",
              "13547           0          1       1            200            10         1   \n",
              "5565            1          1       3           1000             0         2   \n",
              "10606           0          1       1            500            10         1   \n",
              "\n",
              "      facing  cup_board  floor  total_floor water_supply building_type  \\\n",
              "16330      7          3      3            5            1             1   \n",
              "7850       7          2      1            2            1             2   \n",
              "13547      4          1      0            3            1             3   \n",
              "5565       7          2      0            3            2             1   \n",
              "10606      0          2      1            3            2             1   \n",
              "\n",
              "       balconies  ecity  \n",
              "16330          2     15  \n",
              "7850           0      9  \n",
              "13547          1     10  \n",
              "5565           0     12  \n",
              "10606          1      8  "
            ],
            "text/html": [
              "\n",
              "  <div id=\"df-102fdbe1-1919-46f1-bdcb-89e55e04d38d\">\n",
              "    <div class=\"colab-df-container\">\n",
              "      <div>\n",
              "<style scoped>\n",
              "    .dataframe tbody tr th:only-of-type {\n",
              "        vertical-align: middle;\n",
              "    }\n",
              "\n",
              "    .dataframe tbody tr th {\n",
              "        vertical-align: top;\n",
              "    }\n",
              "\n",
              "    .dataframe thead th {\n",
              "        text-align: right;\n",
              "    }\n",
              "</style>\n",
              "<table border=\"1\" class=\"dataframe\">\n",
              "  <thead>\n",
              "    <tr style=\"text-align: right;\">\n",
              "      <th></th>\n",
              "      <th>id</th>\n",
              "      <th>type</th>\n",
              "      <th>gym</th>\n",
              "      <th>lift</th>\n",
              "      <th>swimming_pool</th>\n",
              "      <th>negotiable</th>\n",
              "      <th>furnishing</th>\n",
              "      <th>parking</th>\n",
              "      <th>property_size</th>\n",
              "      <th>property_age</th>\n",
              "      <th>bathroom</th>\n",
              "      <th>facing</th>\n",
              "      <th>cup_board</th>\n",
              "      <th>floor</th>\n",
              "      <th>total_floor</th>\n",
              "      <th>water_supply</th>\n",
              "      <th>building_type</th>\n",
              "      <th>balconies</th>\n",
              "      <th>ecity</th>\n",
              "    </tr>\n",
              "  </thead>\n",
              "  <tbody>\n",
              "    <tr>\n",
              "      <th>16330</th>\n",
              "      <td>ff8081816108a00501610915abc93a4b</td>\n",
              "      <td>2</td>\n",
              "      <td>1</td>\n",
              "      <td>1</td>\n",
              "      <td>1</td>\n",
              "      <td>1</td>\n",
              "      <td>1</td>\n",
              "      <td>3</td>\n",
              "      <td>1505</td>\n",
              "      <td>1</td>\n",
              "      <td>2</td>\n",
              "      <td>7</td>\n",
              "      <td>3</td>\n",
              "      <td>3</td>\n",
              "      <td>5</td>\n",
              "      <td>1</td>\n",
              "      <td>1</td>\n",
              "      <td>2</td>\n",
              "      <td>15</td>\n",
              "    </tr>\n",
              "    <tr>\n",
              "      <th>7850</th>\n",
              "      <td>ff8081815aacc98e015aae15194752a5</td>\n",
              "      <td>2</td>\n",
              "      <td>0</td>\n",
              "      <td>0</td>\n",
              "      <td>0</td>\n",
              "      <td>1</td>\n",
              "      <td>1</td>\n",
              "      <td>1</td>\n",
              "      <td>743</td>\n",
              "      <td>15</td>\n",
              "      <td>2</td>\n",
              "      <td>7</td>\n",
              "      <td>2</td>\n",
              "      <td>1</td>\n",
              "      <td>2</td>\n",
              "      <td>1</td>\n",
              "      <td>2</td>\n",
              "      <td>0</td>\n",
              "      <td>9</td>\n",
              "    </tr>\n",
              "    <tr>\n",
              "      <th>13547</th>\n",
              "      <td>ff80818158de4fb60158dea009ce0ed2</td>\n",
              "      <td>0</td>\n",
              "      <td>0</td>\n",
              "      <td>0</td>\n",
              "      <td>0</td>\n",
              "      <td>0</td>\n",
              "      <td>1</td>\n",
              "      <td>1</td>\n",
              "      <td>200</td>\n",
              "      <td>10</td>\n",
              "      <td>1</td>\n",
              "      <td>4</td>\n",
              "      <td>1</td>\n",
              "      <td>0</td>\n",
              "      <td>3</td>\n",
              "      <td>1</td>\n",
              "      <td>3</td>\n",
              "      <td>1</td>\n",
              "      <td>10</td>\n",
              "    </tr>\n",
              "    <tr>\n",
              "      <th>5565</th>\n",
              "      <td>ff80818160204e9b0160267e7faf7a7f</td>\n",
              "      <td>2</td>\n",
              "      <td>0</td>\n",
              "      <td>0</td>\n",
              "      <td>0</td>\n",
              "      <td>1</td>\n",
              "      <td>1</td>\n",
              "      <td>3</td>\n",
              "      <td>1000</td>\n",
              "      <td>0</td>\n",
              "      <td>2</td>\n",
              "      <td>7</td>\n",
              "      <td>2</td>\n",
              "      <td>0</td>\n",
              "      <td>3</td>\n",
              "      <td>2</td>\n",
              "      <td>1</td>\n",
              "      <td>0</td>\n",
              "      <td>12</td>\n",
              "    </tr>\n",
              "    <tr>\n",
              "      <th>10606</th>\n",
              "      <td>ff808181638d2a350163909b97eb7088</td>\n",
              "      <td>2</td>\n",
              "      <td>0</td>\n",
              "      <td>0</td>\n",
              "      <td>0</td>\n",
              "      <td>0</td>\n",
              "      <td>1</td>\n",
              "      <td>1</td>\n",
              "      <td>500</td>\n",
              "      <td>10</td>\n",
              "      <td>1</td>\n",
              "      <td>0</td>\n",
              "      <td>2</td>\n",
              "      <td>1</td>\n",
              "      <td>3</td>\n",
              "      <td>2</td>\n",
              "      <td>1</td>\n",
              "      <td>1</td>\n",
              "      <td>8</td>\n",
              "    </tr>\n",
              "  </tbody>\n",
              "</table>\n",
              "</div>\n",
              "      <button class=\"colab-df-convert\" onclick=\"convertToInteractive('df-102fdbe1-1919-46f1-bdcb-89e55e04d38d')\"\n",
              "              title=\"Convert this dataframe to an interactive table.\"\n",
              "              style=\"display:none;\">\n",
              "        \n",
              "  <svg xmlns=\"http://www.w3.org/2000/svg\" height=\"24px\"viewBox=\"0 0 24 24\"\n",
              "       width=\"24px\">\n",
              "    <path d=\"M0 0h24v24H0V0z\" fill=\"none\"/>\n",
              "    <path d=\"M18.56 5.44l.94 2.06.94-2.06 2.06-.94-2.06-.94-.94-2.06-.94 2.06-2.06.94zm-11 1L8.5 8.5l.94-2.06 2.06-.94-2.06-.94L8.5 2.5l-.94 2.06-2.06.94zm10 10l.94 2.06.94-2.06 2.06-.94-2.06-.94-.94-2.06-.94 2.06-2.06.94z\"/><path d=\"M17.41 7.96l-1.37-1.37c-.4-.4-.92-.59-1.43-.59-.52 0-1.04.2-1.43.59L10.3 9.45l-7.72 7.72c-.78.78-.78 2.05 0 2.83L4 21.41c.39.39.9.59 1.41.59.51 0 1.02-.2 1.41-.59l7.78-7.78 2.81-2.81c.8-.78.8-2.07 0-2.86zM5.41 20L4 18.59l7.72-7.72 1.47 1.35L5.41 20z\"/>\n",
              "  </svg>\n",
              "      </button>\n",
              "      \n",
              "  <style>\n",
              "    .colab-df-container {\n",
              "      display:flex;\n",
              "      flex-wrap:wrap;\n",
              "      gap: 12px;\n",
              "    }\n",
              "\n",
              "    .colab-df-convert {\n",
              "      background-color: #E8F0FE;\n",
              "      border: none;\n",
              "      border-radius: 50%;\n",
              "      cursor: pointer;\n",
              "      display: none;\n",
              "      fill: #1967D2;\n",
              "      height: 32px;\n",
              "      padding: 0 0 0 0;\n",
              "      width: 32px;\n",
              "    }\n",
              "\n",
              "    .colab-df-convert:hover {\n",
              "      background-color: #E2EBFA;\n",
              "      box-shadow: 0px 1px 2px rgba(60, 64, 67, 0.3), 0px 1px 3px 1px rgba(60, 64, 67, 0.15);\n",
              "      fill: #174EA6;\n",
              "    }\n",
              "\n",
              "    [theme=dark] .colab-df-convert {\n",
              "      background-color: #3B4455;\n",
              "      fill: #D2E3FC;\n",
              "    }\n",
              "\n",
              "    [theme=dark] .colab-df-convert:hover {\n",
              "      background-color: #434B5C;\n",
              "      box-shadow: 0px 1px 3px 1px rgba(0, 0, 0, 0.15);\n",
              "      filter: drop-shadow(0px 1px 2px rgba(0, 0, 0, 0.3));\n",
              "      fill: #FFFFFF;\n",
              "    }\n",
              "  </style>\n",
              "\n",
              "      <script>\n",
              "        const buttonEl =\n",
              "          document.querySelector('#df-102fdbe1-1919-46f1-bdcb-89e55e04d38d button.colab-df-convert');\n",
              "        buttonEl.style.display =\n",
              "          google.colab.kernel.accessAllowed ? 'block' : 'none';\n",
              "\n",
              "        async function convertToInteractive(key) {\n",
              "          const element = document.querySelector('#df-102fdbe1-1919-46f1-bdcb-89e55e04d38d');\n",
              "          const dataTable =\n",
              "            await google.colab.kernel.invokeFunction('convertToInteractive',\n",
              "                                                     [key], {});\n",
              "          if (!dataTable) return;\n",
              "\n",
              "          const docLinkHtml = 'Like what you see? Visit the ' +\n",
              "            '<a target=\"_blank\" href=https://colab.research.google.com/notebooks/data_table.ipynb>data table notebook</a>'\n",
              "            + ' to learn more about interactive tables.';\n",
              "          element.innerHTML = '';\n",
              "          dataTable['output_type'] = 'display_data';\n",
              "          await google.colab.output.renderOutput(dataTable, element);\n",
              "          const docLink = document.createElement('div');\n",
              "          docLink.innerHTML = docLinkHtml;\n",
              "          element.appendChild(docLink);\n",
              "        }\n",
              "      </script>\n",
              "    </div>\n",
              "  </div>\n",
              "  "
            ]
          },
          "metadata": {},
          "execution_count": 131
        }
      ]
    },
    {
      "cell_type": "code",
      "source": [
        "val_outputs2=val2[target_cols]\n",
        "val_outputs2.head(5)"
      ],
      "metadata": {
        "colab": {
          "base_uri": "https://localhost:8080/",
          "height": 206
        },
        "id": "N7tfGML0_vpA",
        "outputId": "f6f1ace9-cf63-4cf5-ba35-6c1be5923349"
      },
      "execution_count": 132,
      "outputs": [
        {
          "output_type": "execute_result",
          "data": {
            "text/plain": [
              "        rent\n",
              "16330  22000\n",
              "7850   22000\n",
              "13547   8250\n",
              "5565   20000\n",
              "10606  12500"
            ],
            "text/html": [
              "\n",
              "  <div id=\"df-8ba51af9-61a2-4a1a-acd4-b0678c404838\">\n",
              "    <div class=\"colab-df-container\">\n",
              "      <div>\n",
              "<style scoped>\n",
              "    .dataframe tbody tr th:only-of-type {\n",
              "        vertical-align: middle;\n",
              "    }\n",
              "\n",
              "    .dataframe tbody tr th {\n",
              "        vertical-align: top;\n",
              "    }\n",
              "\n",
              "    .dataframe thead th {\n",
              "        text-align: right;\n",
              "    }\n",
              "</style>\n",
              "<table border=\"1\" class=\"dataframe\">\n",
              "  <thead>\n",
              "    <tr style=\"text-align: right;\">\n",
              "      <th></th>\n",
              "      <th>rent</th>\n",
              "    </tr>\n",
              "  </thead>\n",
              "  <tbody>\n",
              "    <tr>\n",
              "      <th>16330</th>\n",
              "      <td>22000</td>\n",
              "    </tr>\n",
              "    <tr>\n",
              "      <th>7850</th>\n",
              "      <td>22000</td>\n",
              "    </tr>\n",
              "    <tr>\n",
              "      <th>13547</th>\n",
              "      <td>8250</td>\n",
              "    </tr>\n",
              "    <tr>\n",
              "      <th>5565</th>\n",
              "      <td>20000</td>\n",
              "    </tr>\n",
              "    <tr>\n",
              "      <th>10606</th>\n",
              "      <td>12500</td>\n",
              "    </tr>\n",
              "  </tbody>\n",
              "</table>\n",
              "</div>\n",
              "      <button class=\"colab-df-convert\" onclick=\"convertToInteractive('df-8ba51af9-61a2-4a1a-acd4-b0678c404838')\"\n",
              "              title=\"Convert this dataframe to an interactive table.\"\n",
              "              style=\"display:none;\">\n",
              "        \n",
              "  <svg xmlns=\"http://www.w3.org/2000/svg\" height=\"24px\"viewBox=\"0 0 24 24\"\n",
              "       width=\"24px\">\n",
              "    <path d=\"M0 0h24v24H0V0z\" fill=\"none\"/>\n",
              "    <path d=\"M18.56 5.44l.94 2.06.94-2.06 2.06-.94-2.06-.94-.94-2.06-.94 2.06-2.06.94zm-11 1L8.5 8.5l.94-2.06 2.06-.94-2.06-.94L8.5 2.5l-.94 2.06-2.06.94zm10 10l.94 2.06.94-2.06 2.06-.94-2.06-.94-.94-2.06-.94 2.06-2.06.94z\"/><path d=\"M17.41 7.96l-1.37-1.37c-.4-.4-.92-.59-1.43-.59-.52 0-1.04.2-1.43.59L10.3 9.45l-7.72 7.72c-.78.78-.78 2.05 0 2.83L4 21.41c.39.39.9.59 1.41.59.51 0 1.02-.2 1.41-.59l7.78-7.78 2.81-2.81c.8-.78.8-2.07 0-2.86zM5.41 20L4 18.59l7.72-7.72 1.47 1.35L5.41 20z\"/>\n",
              "  </svg>\n",
              "      </button>\n",
              "      \n",
              "  <style>\n",
              "    .colab-df-container {\n",
              "      display:flex;\n",
              "      flex-wrap:wrap;\n",
              "      gap: 12px;\n",
              "    }\n",
              "\n",
              "    .colab-df-convert {\n",
              "      background-color: #E8F0FE;\n",
              "      border: none;\n",
              "      border-radius: 50%;\n",
              "      cursor: pointer;\n",
              "      display: none;\n",
              "      fill: #1967D2;\n",
              "      height: 32px;\n",
              "      padding: 0 0 0 0;\n",
              "      width: 32px;\n",
              "    }\n",
              "\n",
              "    .colab-df-convert:hover {\n",
              "      background-color: #E2EBFA;\n",
              "      box-shadow: 0px 1px 2px rgba(60, 64, 67, 0.3), 0px 1px 3px 1px rgba(60, 64, 67, 0.15);\n",
              "      fill: #174EA6;\n",
              "    }\n",
              "\n",
              "    [theme=dark] .colab-df-convert {\n",
              "      background-color: #3B4455;\n",
              "      fill: #D2E3FC;\n",
              "    }\n",
              "\n",
              "    [theme=dark] .colab-df-convert:hover {\n",
              "      background-color: #434B5C;\n",
              "      box-shadow: 0px 1px 3px 1px rgba(0, 0, 0, 0.15);\n",
              "      filter: drop-shadow(0px 1px 2px rgba(0, 0, 0, 0.3));\n",
              "      fill: #FFFFFF;\n",
              "    }\n",
              "  </style>\n",
              "\n",
              "      <script>\n",
              "        const buttonEl =\n",
              "          document.querySelector('#df-8ba51af9-61a2-4a1a-acd4-b0678c404838 button.colab-df-convert');\n",
              "        buttonEl.style.display =\n",
              "          google.colab.kernel.accessAllowed ? 'block' : 'none';\n",
              "\n",
              "        async function convertToInteractive(key) {\n",
              "          const element = document.querySelector('#df-8ba51af9-61a2-4a1a-acd4-b0678c404838');\n",
              "          const dataTable =\n",
              "            await google.colab.kernel.invokeFunction('convertToInteractive',\n",
              "                                                     [key], {});\n",
              "          if (!dataTable) return;\n",
              "\n",
              "          const docLinkHtml = 'Like what you see? Visit the ' +\n",
              "            '<a target=\"_blank\" href=https://colab.research.google.com/notebooks/data_table.ipynb>data table notebook</a>'\n",
              "            + ' to learn more about interactive tables.';\n",
              "          element.innerHTML = '';\n",
              "          dataTable['output_type'] = 'display_data';\n",
              "          await google.colab.output.renderOutput(dataTable, element);\n",
              "          const docLink = document.createElement('div');\n",
              "          docLink.innerHTML = docLinkHtml;\n",
              "          element.appendChild(docLink);\n",
              "        }\n",
              "      </script>\n",
              "    </div>\n",
              "  </div>\n",
              "  "
            ]
          },
          "metadata": {},
          "execution_count": 132
        }
      ]
    },
    {
      "cell_type": "code",
      "source": [
        "linear_model2=LinearRegression()"
      ],
      "metadata": {
        "id": "Ra9jJvKj_3d2"
      },
      "execution_count": 133,
      "outputs": []
    },
    {
      "cell_type": "code",
      "source": [
        "train_cols2=[\n",
        " 'type',\n",
        " 'gym',\n",
        " 'lift',\n",
        " 'swimming_pool',\n",
        " 'negotiable',\n",
        " 'furnishing',\n",
        " 'parking',\n",
        " 'property_size',\n",
        " 'property_age',\n",
        " 'bathroom',\n",
        " 'facing',\n",
        " 'cup_board',\n",
        " 'floor',\n",
        " 'total_floor',\n",
        " 'water_supply',\n",
        " 'building_type',\n",
        " 'balconies',\n",
        " 'ecity']"
      ],
      "metadata": {
        "id": "qJTNiYDxAIKk"
      },
      "execution_count": 134,
      "outputs": []
    },
    {
      "cell_type": "code",
      "source": [
        "linear_model2.fit(train_inputs2[train_cols2],train_outputs2)"
      ],
      "metadata": {
        "colab": {
          "base_uri": "https://localhost:8080/"
        },
        "id": "qSXOOVfV_7Pu",
        "outputId": "0e278fee-f56f-49c8-a369-7e19292ba78c"
      },
      "execution_count": 135,
      "outputs": [
        {
          "output_type": "execute_result",
          "data": {
            "text/plain": [
              "LinearRegression()"
            ]
          },
          "metadata": {},
          "execution_count": 135
        }
      ]
    },
    {
      "cell_type": "code",
      "source": [
        "linear_preds2=linear_model2.predict(val_inputs2[train_cols2])"
      ],
      "metadata": {
        "id": "7qU3-PrQAOe7"
      },
      "execution_count": 136,
      "outputs": []
    },
    {
      "cell_type": "code",
      "source": [
        "linear_rmse2 = mean_squared_error(val_outputs2, linear_preds2, squared=False)\n",
        "linear_rmse2"
      ],
      "metadata": {
        "colab": {
          "base_uri": "https://localhost:8080/"
        },
        "id": "XjExRkDcAY-I",
        "outputId": "d399946f-a39a-46c3-a879-17382cb36531"
      },
      "execution_count": 137,
      "outputs": [
        {
          "output_type": "execute_result",
          "data": {
            "text/plain": [
              "6779.931562505886"
            ]
          },
          "metadata": {},
          "execution_count": 137
        }
      ]
    },
    {
      "cell_type": "code",
      "source": [
        "linear_mae2=mean_absolute_error(val_outputs2, linear_preds2)\n",
        "linear_mae2"
      ],
      "metadata": {
        "colab": {
          "base_uri": "https://localhost:8080/"
        },
        "id": "-EJUy-dyAh4N",
        "outputId": "91d1da07-4e6d-4b66-bf33-496e56e0b3dc"
      },
      "execution_count": 138,
      "outputs": [
        {
          "output_type": "execute_result",
          "data": {
            "text/plain": [
              "3707.5593510183708"
            ]
          },
          "metadata": {},
          "execution_count": 138
        }
      ]
    },
    {
      "cell_type": "code",
      "source": [
        "forest2 = RandomForestRegressor(max_depth=12, random_state=44)"
      ],
      "metadata": {
        "id": "w4b-GulhAnMy"
      },
      "execution_count": 139,
      "outputs": []
    },
    {
      "cell_type": "code",
      "source": [
        "forest2.fit(train_inputs2[train_cols2],train_outputs2)"
      ],
      "metadata": {
        "colab": {
          "base_uri": "https://localhost:8080/"
        },
        "id": "9C3pXJfFAsm_",
        "outputId": "9fbbd86a-fc56-4419-9d88-443f0d8b5998"
      },
      "execution_count": 140,
      "outputs": [
        {
          "output_type": "stream",
          "name": "stderr",
          "text": [
            "/usr/local/lib/python3.7/dist-packages/ipykernel_launcher.py:1: DataConversionWarning: A column-vector y was passed when a 1d array was expected. Please change the shape of y to (n_samples,), for example using ravel().\n",
            "  \"\"\"Entry point for launching an IPython kernel.\n"
          ]
        },
        {
          "output_type": "execute_result",
          "data": {
            "text/plain": [
              "RandomForestRegressor(max_depth=12, random_state=44)"
            ]
          },
          "metadata": {},
          "execution_count": 140
        }
      ]
    },
    {
      "cell_type": "code",
      "source": [
        "forest_pred2=forest2.predict(val_inputs2[train_cols2])"
      ],
      "metadata": {
        "id": "faXG6EeCAzCg"
      },
      "execution_count": 141,
      "outputs": []
    },
    {
      "cell_type": "code",
      "source": [
        "forest_rmse2 = mean_squared_error(val_outputs2, forest_pred2, squared=False)\n",
        "forest_rmse2"
      ],
      "metadata": {
        "colab": {
          "base_uri": "https://localhost:8080/"
        },
        "id": "KP7yVrILA6kF",
        "outputId": "428265ea-2127-4e4c-a09e-49355222370f"
      },
      "execution_count": 142,
      "outputs": [
        {
          "output_type": "execute_result",
          "data": {
            "text/plain": [
              "4627.622946971815"
            ]
          },
          "metadata": {},
          "execution_count": 142
        }
      ]
    },
    {
      "cell_type": "code",
      "source": [
        "forest_mae2=mean_absolute_error(val_outputs2, forest_pred2)\n",
        "forest_mae2"
      ],
      "metadata": {
        "colab": {
          "base_uri": "https://localhost:8080/"
        },
        "id": "quaNXnR0BIAx",
        "outputId": "304083b3-70e0-409a-9ae7-e4803b50cd53"
      },
      "execution_count": 143,
      "outputs": [
        {
          "output_type": "execute_result",
          "data": {
            "text/plain": [
              "3303.247699952211"
            ]
          },
          "metadata": {},
          "execution_count": 143
        }
      ]
    },
    {
      "cell_type": "code",
      "source": [
        "r2_score(val_outputs2, forest_pred2)"
      ],
      "metadata": {
        "colab": {
          "base_uri": "https://localhost:8080/"
        },
        "id": "lKViY2uuBOX6",
        "outputId": "9a74fe52-0472-4b7f-ec79-4889861b7123"
      },
      "execution_count": 144,
      "outputs": [
        {
          "output_type": "execute_result",
          "data": {
            "text/plain": [
              "0.7049953682716847"
            ]
          },
          "metadata": {},
          "execution_count": 144
        }
      ]
    },
    {
      "cell_type": "code",
      "source": [
        "import joblib\n",
        "joblib.dump(forest2, 'model1.h5')\n",
        "  "
      ],
      "metadata": {
        "colab": {
          "base_uri": "https://localhost:8080/"
        },
        "id": "8nY5S3bmGQYY",
        "outputId": "df9dffc2-7ec8-418c-dbfc-5d41dc824a61"
      },
      "execution_count": 147,
      "outputs": [
        {
          "output_type": "execute_result",
          "data": {
            "text/plain": [
              "['model1.h5']"
            ]
          },
          "metadata": {},
          "execution_count": 147
        }
      ]
    },
    {
      "cell_type": "code",
      "source": [
        "test_dir='/content/train.csv'"
      ],
      "metadata": {
        "id": "RYzQY0ULINvn"
      },
      "execution_count": null,
      "outputs": []
    },
    {
      "cell_type": "code",
      "source": [
        "test_df=pd.read_csv(test_dir,)"
      ],
      "metadata": {
        "id": "K4_06ojTHvR2"
      },
      "execution_count": null,
      "outputs": []
    },
    {
      "cell_type": "code",
      "source": [],
      "metadata": {
        "id": "fa8jwkt5IM6U"
      },
      "execution_count": null,
      "outputs": []
    }
  ]
}