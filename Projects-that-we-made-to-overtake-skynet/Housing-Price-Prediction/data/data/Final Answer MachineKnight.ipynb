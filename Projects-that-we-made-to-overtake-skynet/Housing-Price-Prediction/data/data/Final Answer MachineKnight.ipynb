{
  "nbformat": 4,
  "nbformat_minor": 0,
  "metadata": {
    "colab": {
      "provenance": [],
      "collapsed_sections": []
    },
    "kernelspec": {
      "name": "python3",
      "display_name": "Python 3"
    },
    "language_info": {
      "name": "python"
    },
    "gpuClass": "standard"
  },
  "cells": [
    {
      "cell_type": "code",
      "source": [
        "!pip install opendatasets"
      ],
      "metadata": {
        "colab": {
          "base_uri": "https://localhost:8080/"
        },
        "id": "ruxoz94Mi-iH",
        "outputId": "f66c442b-7288-4247-db88-b2f5099534bd"
      },
      "execution_count": 178,
      "outputs": [
        {
          "output_type": "stream",
          "name": "stdout",
          "text": [
            "Looking in indexes: https://pypi.org/simple, https://us-python.pkg.dev/colab-wheels/public/simple/\n",
            "Requirement already satisfied: opendatasets in /usr/local/lib/python3.7/dist-packages (0.1.22)\n",
            "Requirement already satisfied: click in /usr/local/lib/python3.7/dist-packages (from opendatasets) (7.1.2)\n",
            "Requirement already satisfied: tqdm in /usr/local/lib/python3.7/dist-packages (from opendatasets) (4.64.0)\n",
            "Requirement already satisfied: kaggle in /usr/local/lib/python3.7/dist-packages (from opendatasets) (1.5.12)\n",
            "Requirement already satisfied: requests in /usr/local/lib/python3.7/dist-packages (from kaggle->opendatasets) (2.23.0)\n",
            "Requirement already satisfied: urllib3 in /usr/local/lib/python3.7/dist-packages (from kaggle->opendatasets) (1.24.3)\n",
            "Requirement already satisfied: python-slugify in /usr/local/lib/python3.7/dist-packages (from kaggle->opendatasets) (6.1.2)\n",
            "Requirement already satisfied: six>=1.10 in /usr/local/lib/python3.7/dist-packages (from kaggle->opendatasets) (1.15.0)\n",
            "Requirement already satisfied: python-dateutil in /usr/local/lib/python3.7/dist-packages (from kaggle->opendatasets) (2.8.2)\n",
            "Requirement already satisfied: certifi in /usr/local/lib/python3.7/dist-packages (from kaggle->opendatasets) (2022.6.15)\n",
            "Requirement already satisfied: text-unidecode>=1.3 in /usr/local/lib/python3.7/dist-packages (from python-slugify->kaggle->opendatasets) (1.3)\n",
            "Requirement already satisfied: idna<3,>=2.5 in /usr/local/lib/python3.7/dist-packages (from requests->kaggle->opendatasets) (2.10)\n",
            "Requirement already satisfied: chardet<4,>=3.0.2 in /usr/local/lib/python3.7/dist-packages (from requests->kaggle->opendatasets) (3.0.4)\n"
          ]
        }
      ]
    },
    {
      "cell_type": "code",
      "execution_count": 179,
      "metadata": {
        "id": "-_eZ6PXXirKc"
      },
      "outputs": [],
      "source": [
        "import opendatasets as od"
      ]
    },
    {
      "cell_type": "code",
      "source": [
        "train_dir='/content/train.csv'"
      ],
      "metadata": {
        "id": "QvHmYohQjQIE"
      },
      "execution_count": 180,
      "outputs": []
    },
    {
      "cell_type": "code",
      "source": [
        "!ls -lh {train_dir}"
      ],
      "metadata": {
        "colab": {
          "base_uri": "https://localhost:8080/"
        },
        "id": "P9bX1drFk6GN",
        "outputId": "c0ed391f-59a4-480f-d30d-f2f5549eacd6"
      },
      "execution_count": 181,
      "outputs": [
        {
          "output_type": "stream",
          "name": "stdout",
          "text": [
            "-rw-r--r-- 1 root root 8.8M Sep  4 10:39 /content/train.csv\n"
          ]
        }
      ]
    },
    {
      "cell_type": "code",
      "source": [
        "!wc -l {train_dir}"
      ],
      "metadata": {
        "colab": {
          "base_uri": "https://localhost:8080/"
        },
        "id": "wbiiWz6Jk_Nv",
        "outputId": "a3fdb11b-0d39-4713-d807-5dfee325c9f5"
      },
      "execution_count": 182,
      "outputs": [
        {
          "output_type": "stream",
          "name": "stdout",
          "text": [
            "20501 /content/train.csv\n"
          ]
        }
      ]
    },
    {
      "cell_type": "code",
      "source": [
        "!head {train_dir}"
      ],
      "metadata": {
        "colab": {
          "base_uri": "https://localhost:8080/"
        },
        "id": "YWY_U5xWlL-s",
        "outputId": "e1106078-a62e-4687-92b8-61c6c86ccb74"
      },
      "execution_count": 183,
      "outputs": [
        {
          "output_type": "stream",
          "name": "stdout",
          "text": [
            "id,type,locality,activation_date,latitude,longitude,lease_type,gym,lift,swimming_pool,negotiable,furnishing,parking,property_size,property_age,bathroom,facing,cup_board,floor,total_floor,amenities,water_supply,building_type,balconies,rent\r\n",
            "ff8081815733a243015733b2876600a6,BHK2,\"Cauvery Colony,Koramangala\",21-04-2018 14:44,12.9344709,77.634471,FAMILY,1,1,1,0,SEMI_FURNISHED,BOTH,1250,25,2,E,2,6,12,\"{\"\"LIFT\"\":true,\"\"GYM\"\":true,\"\"INTERNET\"\":true,\"\"AC\"\":false,\"\"CLUB\"\":true,\"\"INTERCOM\"\":true,\"\"POOL\"\":true,\"\"CPA\"\":true,\"\"FS\"\":true,\"\"SERVANT\"\":false,\"\"SECURITY\"\":true,\"\"SC\"\":true,\"\"GP\"\":true,\"\"PARK\"\":false,\"\"RWH\"\":true,\"\"STP\"\":true,\"\"HK\"\":false,\"\"PB\"\":true,\"\"VP\"\":true}\",CORP_BORE,AP,2,40000\r\n",
            "ff8081815ee25e15015ee50004da2acd,BHK2,Bellandur,09-10-2017 12:48,12.92955671,77.6722797,ANYONE,0,1,0,1,SEMI_FURNISHED,BOTH,1400,4,2,NE,2,3,4,\"{\"\"LIFT\"\":true,\"\"GYM\"\":false,\"\"INTERNET\"\":false,\"\"AC\"\":false,\"\"CLUB\"\":false,\"\"INTERCOM\"\":false,\"\"POOL\"\":false,\"\"CPA\"\":false,\"\"FS\"\":false,\"\"SERVANT\"\":false,\"\"SECURITY\"\":true,\"\"SC\"\":true,\"\"GP\"\":false,\"\"PARK\"\":true,\"\"RWH\"\":true,\"\"STP\"\":true,\"\"HK\"\":false,\"\"PB\"\":true,\"\"VP\"\":true}\",CORPORATION,AP,2,22000\r\n",
            "ff80818163f29c9e0163f46770b873e7,BHK3,Thiruvanmiyur,12-06-2018 22:02,12.98287026,80.26201214,FAMILY,0,1,0,0,SEMI_FURNISHED,BOTH,1350,6,3,E,3,1,5,\"{\"\"LIFT\"\":true,\"\"GYM\"\":false,\"\"INTERNET\"\":false,\"\"AC\"\":false,\"\"CLUB\"\":false,\"\"INTERCOM\"\":false,\"\"POOL\"\":false,\"\"CPA\"\":true,\"\"FS\"\":false,\"\"SERVANT\"\":false,\"\"SECURITY\"\":false,\"\"SC\"\":true,\"\"GP\"\":false,\"\"PARK\"\":true,\"\"RWH\"\":false,\"\"STP\"\":false,\"\"HK\"\":false,\"\"PB\"\":true,\"\"VP\"\":true}\",CORP_BORE,AP,3,28000\r\n",
            "ff80818164b68a700164b74b1b247a1d,BHK1,Attiguppe,20-07-2018 16:22,12.95599061,77.53163369,FAMILY,0,0,0,1,SEMI_FURNISHED,TWO_WHEELER,600,3,1,E,1,1,2,\"{\"\"LIFT\"\":false,\"\"GYM\"\":false,\"\"INTERNET\"\":false,\"\"AC\"\":false,\"\"CLUB\"\":false,\"\"INTERCOM\"\":false,\"\"POOL\"\":false,\"\"CPA\"\":false,\"\"FS\"\":false,\"\"SERVANT\"\":false,\"\"SECURITY\"\":false,\"\"SC\"\":false,\"\"GP\"\":false,\"\"PARK\"\":false,\"\"RWH\"\":false,\"\"STP\"\":false,\"\"HK\"\":false,\"\"PB\"\":false,\"\"VP\"\":false}\",CORPORATION,IH,0,8000\r\n",
            "ff80818163b1faf00163b4b9b8a163b1,BHK3,Kodihalli,31-05-2018 17:41,12.96390329,77.64944586,FAMILY,0,0,0,1,SEMI_FURNISHED,BOTH,1500,15,3,E,4,0,0,\"{\"\"LIFT\"\":false,\"\"GYM\"\":false,\"\"INTERNET\"\":false,\"\"AC\"\":false,\"\"CLUB\"\":false,\"\"INTERCOM\"\":false,\"\"POOL\"\":false,\"\"CPA\"\":true,\"\"FS\"\":false,\"\"SERVANT\"\":false,\"\"SECURITY\"\":false,\"\"SC\"\":false,\"\"GP\"\":false,\"\"PARK\"\":true,\"\"RWH\"\":false,\"\"STP\"\":false,\"\"HK\"\":false,\"\"PB\"\":false,\"\"VP\"\":true}\",CORPORATION,IH,1,45000\r\n",
            "ff8081815f48e4aa015f4dd1a9c6696b,BHK1,\"Seetharampalya,Hoodi\",24-10-2017 18:29,12.9861959,77.7183141,FAMILY,1,1,1,1,SEMI_FURNISHED,BOTH,1080,0,2,E,1,3,5,\"{\"\"LIFT\"\":true,\"\"GYM\"\":true,\"\"INTERNET\"\":false,\"\"AC\"\":false,\"\"CLUB\"\":true,\"\"INTERCOM\"\":false,\"\"POOL\"\":true,\"\"CPA\"\":true,\"\"FS\"\":true,\"\"SERVANT\"\":false,\"\"SECURITY\"\":true,\"\"SC\"\":false,\"\"GP\"\":false,\"\"PARK\"\":false,\"\"RWH\"\":false,\"\"STP\"\":false,\"\"HK\"\":false,\"\"PB\"\":true,\"\"VP\"\":false}\",CORP_BORE,AP,2,18000\r\n",
            "ff808181647d728001647e3cd0ed458d,BHK3,\"Narayanappa Garden,Whitefield\",12-07-2018 20:29,12.9671442,77.7506621,ANYONE,1,1,1,1,FULLY_FURNISHED,BOTH,1895,5,3,NE,5,3,9,\"{\"\"LIFT\"\":true,\"\"GYM\"\":true,\"\"INTERNET\"\":true,\"\"AC\"\":true,\"\"CLUB\"\":true,\"\"INTERCOM\"\":true,\"\"POOL\"\":true,\"\"CPA\"\":true,\"\"FS\"\":true,\"\"SERVANT\"\":true,\"\"SECURITY\"\":true,\"\"SC\"\":true,\"\"GP\"\":false,\"\"PARK\"\":true,\"\"RWH\"\":true,\"\"STP\"\":true,\"\"HK\"\":true,\"\"PB\"\":true,\"\"VP\"\":true}\",CORPORATION,AP,3,32000\r\n",
            "ff80818164e9cd1b0164ea07d09114b7,BHK2,HSR Layout 5th Sector,30-07-2018 16:01,12.91741383,77.63176379,ANYONE,0,0,0,1,SEMI_FURNISHED,BOTH,1000,10,2,S,2,0,2,\"{\"\"LIFT\"\":false,\"\"GYM\"\":false,\"\"INTERNET\"\":false,\"\"AC\"\":false,\"\"CLUB\"\":false,\"\"INTERCOM\"\":false,\"\"POOL\"\":false,\"\"CPA\"\":false,\"\"FS\"\":false,\"\"SERVANT\"\":false,\"\"SECURITY\"\":false,\"\"SC\"\":true,\"\"GP\"\":false,\"\"PARK\"\":false,\"\"RWH\"\":false,\"\"STP\"\":false,\"\"HK\"\":false,\"\"PB\"\":true,\"\"VP\"\":true}\",CORP_BORE,IH,0,22000\r\n",
            "ff808181624e0deb01624e6b3426131c,BHK2,Banashankari,26-03-2018 14:11,12.92330118,77.55632407,ANYONE,0,0,0,0,SEMI_FURNISHED,NONE,900,10,2,S,2,0,1,\"{\"\"LIFT\"\":false,\"\"GYM\"\":false,\"\"INTERNET\"\":true,\"\"AC\"\":false,\"\"CLUB\"\":false,\"\"INTERCOM\"\":false,\"\"POOL\"\":false,\"\"CPA\"\":false,\"\"FS\"\":false,\"\"SERVANT\"\":false,\"\"SECURITY\"\":true,\"\"SC\"\":true,\"\"GP\"\":false,\"\"PARK\"\":true,\"\"RWH\"\":false,\"\"STP\"\":false,\"\"HK\"\":false,\"\"PB\"\":false,\"\"VP\"\":false}\",CORPORATION,IH,0,10000\r\n"
          ]
        }
      ]
    },
    {
      "cell_type": "markdown",
      "source": [
        "# Let us find the list of columns"
      ],
      "metadata": {
        "id": "cZ9pXiy_NjsY"
      }
    },
    {
      "cell_type": "code",
      "source": [
        "s='id,type,locality,activation_date,latitude,longitude,lease_type,gym,lift,swimming_pool,negotiable,furnishing,parking,property_size,property_age,bathroom,facing,cup_board,floor,total_floor,amenities,water_supply,building_type,balconies,rent'\n",
        "cols=[]\n",
        "cols=s.split(',')\n",
        "cols"
      ],
      "metadata": {
        "colab": {
          "base_uri": "https://localhost:8080/"
        },
        "id": "5g-e444JlQjN",
        "outputId": "639d72ab-a272-40e6-fe7e-da240eadb0f8"
      },
      "execution_count": 184,
      "outputs": [
        {
          "output_type": "execute_result",
          "data": {
            "text/plain": [
              "['id',\n",
              " 'type',\n",
              " 'locality',\n",
              " 'activation_date',\n",
              " 'latitude',\n",
              " 'longitude',\n",
              " 'lease_type',\n",
              " 'gym',\n",
              " 'lift',\n",
              " 'swimming_pool',\n",
              " 'negotiable',\n",
              " 'furnishing',\n",
              " 'parking',\n",
              " 'property_size',\n",
              " 'property_age',\n",
              " 'bathroom',\n",
              " 'facing',\n",
              " 'cup_board',\n",
              " 'floor',\n",
              " 'total_floor',\n",
              " 'amenities',\n",
              " 'water_supply',\n",
              " 'building_type',\n",
              " 'balconies',\n",
              " 'rent']"
            ]
          },
          "metadata": {},
          "execution_count": 184
        }
      ]
    },
    {
      "cell_type": "code",
      "source": [
        "len(cols)\n",
        "## this tells us the number of fields we have"
      ],
      "metadata": {
        "colab": {
          "base_uri": "https://localhost:8080/"
        },
        "id": "oMQTqd_tlbXo",
        "outputId": "3f4bbcb5-61a6-4c1b-e12c-6a3f1458ec42"
      },
      "execution_count": 185,
      "outputs": [
        {
          "output_type": "execute_result",
          "data": {
            "text/plain": [
              "25"
            ]
          },
          "metadata": {},
          "execution_count": 185
        }
      ]
    },
    {
      "cell_type": "code",
      "source": [
        "import pandas as pd"
      ],
      "metadata": {
        "id": "LT4xQ7otlETf"
      },
      "execution_count": 186,
      "outputs": []
    },
    {
      "cell_type": "code",
      "source": [
        "df=pd.read_csv(train_dir, usecols=cols)"
      ],
      "metadata": {
        "id": "eKqbBCJkmSI0"
      },
      "execution_count": 187,
      "outputs": []
    },
    {
      "cell_type": "code",
      "source": [
        "df.head(20)"
      ],
      "metadata": {
        "colab": {
          "base_uri": "https://localhost:8080/",
          "height": 891
        },
        "id": "OdMX5DIDmnau",
        "outputId": "f57114c5-c03e-4b52-b136-7be197dabe97"
      },
      "execution_count": 188,
      "outputs": [
        {
          "output_type": "execute_result",
          "data": {
            "text/plain": [
              "                                  id  type  \\\n",
              "0   ff8081815733a243015733b2876600a6  BHK2   \n",
              "1   ff8081815ee25e15015ee50004da2acd  BHK2   \n",
              "2   ff80818163f29c9e0163f46770b873e7  BHK3   \n",
              "3   ff80818164b68a700164b74b1b247a1d  BHK1   \n",
              "4   ff80818163b1faf00163b4b9b8a163b1  BHK3   \n",
              "5   ff8081815f48e4aa015f4dd1a9c6696b  BHK1   \n",
              "6   ff808181647d728001647e3cd0ed458d  BHK3   \n",
              "7   ff80818164e9cd1b0164ea07d09114b7  BHK2   \n",
              "8   ff808181624e0deb01624e6b3426131c  BHK2   \n",
              "9   ff808181620eb61601620f1b79a42734  BHK2   \n",
              "10  ff8081815c116660015c119a34fd0829  BHK2   \n",
              "11  ff8081815f887e60015f8b497ac62da0  BHK2   \n",
              "12  ff8081815b3ce753015b3deabfae2e70  BHK2   \n",
              "13  ff8081815efff8db015f0097a4a946bf  BHK2   \n",
              "14  ff808181645efb5c01645f8463e227fd  BHK1   \n",
              "15  ff808181620eb34b0162133b0dbe5f16  BHK2   \n",
              "16  ff8081816483b0ba01648479cec8103a  BHK3   \n",
              "17  ff8081815d851c3f015d8d3a9b3e5361  BHK3   \n",
              "18  ff8081816058ce47016058d4e68f0308  BHK2   \n",
              "19  ff80818163dffb5f0163e00d3cdd0429  BHK2   \n",
              "\n",
              "                                             locality   activation_date  \\\n",
              "0                          Cauvery Colony,Koramangala  21-04-2018 14:44   \n",
              "1                                           Bellandur  09-10-2017 12:48   \n",
              "2                                       Thiruvanmiyur  12-06-2018 22:02   \n",
              "3                                           Attiguppe  20-07-2018 16:22   \n",
              "4                                           Kodihalli  31-05-2018 17:41   \n",
              "5                                Seetharampalya,Hoodi  24-10-2017 18:29   \n",
              "6                       Narayanappa Garden,Whitefield  12-07-2018 20:29   \n",
              "7                               HSR Layout 5th Sector  30-07-2018 16:01   \n",
              "8                                        Banashankari  26-03-2018 14:11   \n",
              "9                                          Whitefield  10-03-2018 17:17   \n",
              "10                                           RR Nagar  11-07-2017 14:58   \n",
              "11                             ITPL Residential Flats  05-11-2017 16:14   \n",
              "12                              Raja Rajeshwari Nagar  27-08-2017 16:55   \n",
              "13  Prestige Shanthinikethan, Bengaluru, Karnataka...  09-10-2017 16:59   \n",
              "14                                      Murugeshpalya  05-07-2018 15:18   \n",
              "15                                     Sheshadripuram  11-03-2018 15:39   \n",
              "16                                           Cox Town  15-07-2018 17:08   \n",
              "17                                      BTM 2nd Stage  14-08-2017 12:02   \n",
              "18                                     Chikkakannalli  15-12-2017 14:53   \n",
              "19                                              agara  08-06-2018 21:28   \n",
              "\n",
              "     latitude  longitude lease_type  gym  lift  swimming_pool  ...  bathroom  \\\n",
              "0   12.934471  77.634471     FAMILY    1     1              1  ...         2   \n",
              "1   12.929557  77.672280     ANYONE    0     1              0  ...         2   \n",
              "2   12.982870  80.262012     FAMILY    0     1              0  ...         3   \n",
              "3   12.955991  77.531634     FAMILY    0     0              0  ...         1   \n",
              "4   12.963903  77.649446     FAMILY    0     0              0  ...         3   \n",
              "5   12.986196  77.718314     FAMILY    1     1              1  ...         2   \n",
              "6   12.967144  77.750662     ANYONE    1     1              1  ...         3   \n",
              "7   12.917414  77.631764     ANYONE    0     0              0  ...         2   \n",
              "8   12.923301  77.556324     ANYONE    0     0              0  ...         2   \n",
              "9   12.972697  77.751880     ANYONE    1     1              0  ...         2   \n",
              "10  12.912039  77.510950     FAMILY    0     0              0  ...         2   \n",
              "11  12.986175  77.735956     ANYONE    1     1              0  ...         2   \n",
              "12  12.925034  77.517115     ANYONE    0     1              0  ...         2   \n",
              "13  12.989002  77.727370     FAMILY    1     1              1  ...         2   \n",
              "14  12.954775  77.650037   BACHELOR    0     0              0  ...         1   \n",
              "15  12.986517  77.574781     FAMILY    0     0              0  ...         1   \n",
              "16  12.998526  77.631007     FAMILY    0     0              0  ...         2   \n",
              "17  12.908240  77.607409     ANYONE    0     0              0  ...         2   \n",
              "18  12.900570  77.707885     FAMILY    0     0              0  ...         2   \n",
              "19  12.924363  77.653267     ANYONE    0     1              0  ...         2   \n",
              "\n",
              "   facing cup_board  floor  total_floor  \\\n",
              "0       E         2      6           12   \n",
              "1      NE         2      3            4   \n",
              "2       E         3      1            5   \n",
              "3       E         1      1            2   \n",
              "4       E         4      0            0   \n",
              "5       E         1      3            5   \n",
              "6      NE         5      3            9   \n",
              "7       S         2      0            2   \n",
              "8       S         2      0            1   \n",
              "9       E         4      2            4   \n",
              "10      E         4      1            2   \n",
              "11      N         2      1            4   \n",
              "12      E         2      1            4   \n",
              "13      E         2     11           14   \n",
              "14      E         1      2            2   \n",
              "15      E         0      1            3   \n",
              "16      E         2      1            3   \n",
              "17      E         0      1            2   \n",
              "18     SE         2      4           15   \n",
              "19      E         2      0            4   \n",
              "\n",
              "                                            amenities water_supply  \\\n",
              "0   {\"LIFT\":true,\"GYM\":true,\"INTERNET\":true,\"AC\":f...    CORP_BORE   \n",
              "1   {\"LIFT\":true,\"GYM\":false,\"INTERNET\":false,\"AC\"...  CORPORATION   \n",
              "2   {\"LIFT\":true,\"GYM\":false,\"INTERNET\":false,\"AC\"...    CORP_BORE   \n",
              "3   {\"LIFT\":false,\"GYM\":false,\"INTERNET\":false,\"AC...  CORPORATION   \n",
              "4   {\"LIFT\":false,\"GYM\":false,\"INTERNET\":false,\"AC...  CORPORATION   \n",
              "5   {\"LIFT\":true,\"GYM\":true,\"INTERNET\":false,\"AC\":...    CORP_BORE   \n",
              "6   {\"LIFT\":true,\"GYM\":true,\"INTERNET\":true,\"AC\":t...  CORPORATION   \n",
              "7   {\"LIFT\":false,\"GYM\":false,\"INTERNET\":false,\"AC...    CORP_BORE   \n",
              "8   {\"LIFT\":false,\"GYM\":false,\"INTERNET\":true,\"AC\"...  CORPORATION   \n",
              "9   {\"LIFT\":true,\"GYM\":true,\"INTERNET\":true,\"AC\":f...    CORP_BORE   \n",
              "10  {\"AC\":false,\"CLUB\":false,\"CPA\":false,\"FS\":fals...  CORPORATION   \n",
              "11  {\"LIFT\":true,\"GYM\":true,\"INTERNET\":true,\"AC\":f...  CORPORATION   \n",
              "12  {\"LIFT\":true,\"GYM\":false,\"INTERNET\":true,\"AC\":...  CORPORATION   \n",
              "13  {\"LIFT\":true,\"GYM\":true,\"INTERNET\":true,\"AC\":f...    CORP_BORE   \n",
              "14  {\"LIFT\":false,\"GYM\":false,\"INTERNET\":true,\"AC\"...  CORPORATION   \n",
              "15  {\"LIFT\":false,\"GYM\":false,\"INTERNET\":true,\"AC\"...    CORP_BORE   \n",
              "16  {\"LIFT\":false,\"GYM\":false,\"INTERNET\":false,\"AC...  CORPORATION   \n",
              "17  {\"AC\":false,\"CLUB\":false,\"CPA\":false,\"FS\":fals...  CORPORATION   \n",
              "18  {\"LIFT\":true,\"GYM\":true,\"INTERNET\":true,\"AC\":f...  CORPORATION   \n",
              "19  {\"LIFT\":true,\"GYM\":false,\"INTERNET\":true,\"AC\":...  CORPORATION   \n",
              "\n",
              "    building_type  balconies   rent  \n",
              "0              AP          2  40000  \n",
              "1              AP          2  22000  \n",
              "2              AP          3  28000  \n",
              "3              IH          0   8000  \n",
              "4              IH          1  45000  \n",
              "5              AP          2  18000  \n",
              "6              AP          3  32000  \n",
              "7              IH          0  22000  \n",
              "8              IH          0  10000  \n",
              "9              AP          2  19500  \n",
              "10             IF          1  12500  \n",
              "11             AP          2  32000  \n",
              "12             AP          1  11000  \n",
              "13             AP          2  32500  \n",
              "14             IH          0  12000  \n",
              "15             IF          1  15000  \n",
              "16             IH          2  18500  \n",
              "17             IF          1  21000  \n",
              "18             AP          2  22000  \n",
              "19             AP          3  24000  \n",
              "\n",
              "[20 rows x 25 columns]"
            ],
            "text/html": [
              "\n",
              "  <div id=\"df-50c739a8-2985-4e25-83a5-c388edfad0d3\">\n",
              "    <div class=\"colab-df-container\">\n",
              "      <div>\n",
              "<style scoped>\n",
              "    .dataframe tbody tr th:only-of-type {\n",
              "        vertical-align: middle;\n",
              "    }\n",
              "\n",
              "    .dataframe tbody tr th {\n",
              "        vertical-align: top;\n",
              "    }\n",
              "\n",
              "    .dataframe thead th {\n",
              "        text-align: right;\n",
              "    }\n",
              "</style>\n",
              "<table border=\"1\" class=\"dataframe\">\n",
              "  <thead>\n",
              "    <tr style=\"text-align: right;\">\n",
              "      <th></th>\n",
              "      <th>id</th>\n",
              "      <th>type</th>\n",
              "      <th>locality</th>\n",
              "      <th>activation_date</th>\n",
              "      <th>latitude</th>\n",
              "      <th>longitude</th>\n",
              "      <th>lease_type</th>\n",
              "      <th>gym</th>\n",
              "      <th>lift</th>\n",
              "      <th>swimming_pool</th>\n",
              "      <th>...</th>\n",
              "      <th>bathroom</th>\n",
              "      <th>facing</th>\n",
              "      <th>cup_board</th>\n",
              "      <th>floor</th>\n",
              "      <th>total_floor</th>\n",
              "      <th>amenities</th>\n",
              "      <th>water_supply</th>\n",
              "      <th>building_type</th>\n",
              "      <th>balconies</th>\n",
              "      <th>rent</th>\n",
              "    </tr>\n",
              "  </thead>\n",
              "  <tbody>\n",
              "    <tr>\n",
              "      <th>0</th>\n",
              "      <td>ff8081815733a243015733b2876600a6</td>\n",
              "      <td>BHK2</td>\n",
              "      <td>Cauvery Colony,Koramangala</td>\n",
              "      <td>21-04-2018 14:44</td>\n",
              "      <td>12.934471</td>\n",
              "      <td>77.634471</td>\n",
              "      <td>FAMILY</td>\n",
              "      <td>1</td>\n",
              "      <td>1</td>\n",
              "      <td>1</td>\n",
              "      <td>...</td>\n",
              "      <td>2</td>\n",
              "      <td>E</td>\n",
              "      <td>2</td>\n",
              "      <td>6</td>\n",
              "      <td>12</td>\n",
              "      <td>{\"LIFT\":true,\"GYM\":true,\"INTERNET\":true,\"AC\":f...</td>\n",
              "      <td>CORP_BORE</td>\n",
              "      <td>AP</td>\n",
              "      <td>2</td>\n",
              "      <td>40000</td>\n",
              "    </tr>\n",
              "    <tr>\n",
              "      <th>1</th>\n",
              "      <td>ff8081815ee25e15015ee50004da2acd</td>\n",
              "      <td>BHK2</td>\n",
              "      <td>Bellandur</td>\n",
              "      <td>09-10-2017 12:48</td>\n",
              "      <td>12.929557</td>\n",
              "      <td>77.672280</td>\n",
              "      <td>ANYONE</td>\n",
              "      <td>0</td>\n",
              "      <td>1</td>\n",
              "      <td>0</td>\n",
              "      <td>...</td>\n",
              "      <td>2</td>\n",
              "      <td>NE</td>\n",
              "      <td>2</td>\n",
              "      <td>3</td>\n",
              "      <td>4</td>\n",
              "      <td>{\"LIFT\":true,\"GYM\":false,\"INTERNET\":false,\"AC\"...</td>\n",
              "      <td>CORPORATION</td>\n",
              "      <td>AP</td>\n",
              "      <td>2</td>\n",
              "      <td>22000</td>\n",
              "    </tr>\n",
              "    <tr>\n",
              "      <th>2</th>\n",
              "      <td>ff80818163f29c9e0163f46770b873e7</td>\n",
              "      <td>BHK3</td>\n",
              "      <td>Thiruvanmiyur</td>\n",
              "      <td>12-06-2018 22:02</td>\n",
              "      <td>12.982870</td>\n",
              "      <td>80.262012</td>\n",
              "      <td>FAMILY</td>\n",
              "      <td>0</td>\n",
              "      <td>1</td>\n",
              "      <td>0</td>\n",
              "      <td>...</td>\n",
              "      <td>3</td>\n",
              "      <td>E</td>\n",
              "      <td>3</td>\n",
              "      <td>1</td>\n",
              "      <td>5</td>\n",
              "      <td>{\"LIFT\":true,\"GYM\":false,\"INTERNET\":false,\"AC\"...</td>\n",
              "      <td>CORP_BORE</td>\n",
              "      <td>AP</td>\n",
              "      <td>3</td>\n",
              "      <td>28000</td>\n",
              "    </tr>\n",
              "    <tr>\n",
              "      <th>3</th>\n",
              "      <td>ff80818164b68a700164b74b1b247a1d</td>\n",
              "      <td>BHK1</td>\n",
              "      <td>Attiguppe</td>\n",
              "      <td>20-07-2018 16:22</td>\n",
              "      <td>12.955991</td>\n",
              "      <td>77.531634</td>\n",
              "      <td>FAMILY</td>\n",
              "      <td>0</td>\n",
              "      <td>0</td>\n",
              "      <td>0</td>\n",
              "      <td>...</td>\n",
              "      <td>1</td>\n",
              "      <td>E</td>\n",
              "      <td>1</td>\n",
              "      <td>1</td>\n",
              "      <td>2</td>\n",
              "      <td>{\"LIFT\":false,\"GYM\":false,\"INTERNET\":false,\"AC...</td>\n",
              "      <td>CORPORATION</td>\n",
              "      <td>IH</td>\n",
              "      <td>0</td>\n",
              "      <td>8000</td>\n",
              "    </tr>\n",
              "    <tr>\n",
              "      <th>4</th>\n",
              "      <td>ff80818163b1faf00163b4b9b8a163b1</td>\n",
              "      <td>BHK3</td>\n",
              "      <td>Kodihalli</td>\n",
              "      <td>31-05-2018 17:41</td>\n",
              "      <td>12.963903</td>\n",
              "      <td>77.649446</td>\n",
              "      <td>FAMILY</td>\n",
              "      <td>0</td>\n",
              "      <td>0</td>\n",
              "      <td>0</td>\n",
              "      <td>...</td>\n",
              "      <td>3</td>\n",
              "      <td>E</td>\n",
              "      <td>4</td>\n",
              "      <td>0</td>\n",
              "      <td>0</td>\n",
              "      <td>{\"LIFT\":false,\"GYM\":false,\"INTERNET\":false,\"AC...</td>\n",
              "      <td>CORPORATION</td>\n",
              "      <td>IH</td>\n",
              "      <td>1</td>\n",
              "      <td>45000</td>\n",
              "    </tr>\n",
              "    <tr>\n",
              "      <th>5</th>\n",
              "      <td>ff8081815f48e4aa015f4dd1a9c6696b</td>\n",
              "      <td>BHK1</td>\n",
              "      <td>Seetharampalya,Hoodi</td>\n",
              "      <td>24-10-2017 18:29</td>\n",
              "      <td>12.986196</td>\n",
              "      <td>77.718314</td>\n",
              "      <td>FAMILY</td>\n",
              "      <td>1</td>\n",
              "      <td>1</td>\n",
              "      <td>1</td>\n",
              "      <td>...</td>\n",
              "      <td>2</td>\n",
              "      <td>E</td>\n",
              "      <td>1</td>\n",
              "      <td>3</td>\n",
              "      <td>5</td>\n",
              "      <td>{\"LIFT\":true,\"GYM\":true,\"INTERNET\":false,\"AC\":...</td>\n",
              "      <td>CORP_BORE</td>\n",
              "      <td>AP</td>\n",
              "      <td>2</td>\n",
              "      <td>18000</td>\n",
              "    </tr>\n",
              "    <tr>\n",
              "      <th>6</th>\n",
              "      <td>ff808181647d728001647e3cd0ed458d</td>\n",
              "      <td>BHK3</td>\n",
              "      <td>Narayanappa Garden,Whitefield</td>\n",
              "      <td>12-07-2018 20:29</td>\n",
              "      <td>12.967144</td>\n",
              "      <td>77.750662</td>\n",
              "      <td>ANYONE</td>\n",
              "      <td>1</td>\n",
              "      <td>1</td>\n",
              "      <td>1</td>\n",
              "      <td>...</td>\n",
              "      <td>3</td>\n",
              "      <td>NE</td>\n",
              "      <td>5</td>\n",
              "      <td>3</td>\n",
              "      <td>9</td>\n",
              "      <td>{\"LIFT\":true,\"GYM\":true,\"INTERNET\":true,\"AC\":t...</td>\n",
              "      <td>CORPORATION</td>\n",
              "      <td>AP</td>\n",
              "      <td>3</td>\n",
              "      <td>32000</td>\n",
              "    </tr>\n",
              "    <tr>\n",
              "      <th>7</th>\n",
              "      <td>ff80818164e9cd1b0164ea07d09114b7</td>\n",
              "      <td>BHK2</td>\n",
              "      <td>HSR Layout 5th Sector</td>\n",
              "      <td>30-07-2018 16:01</td>\n",
              "      <td>12.917414</td>\n",
              "      <td>77.631764</td>\n",
              "      <td>ANYONE</td>\n",
              "      <td>0</td>\n",
              "      <td>0</td>\n",
              "      <td>0</td>\n",
              "      <td>...</td>\n",
              "      <td>2</td>\n",
              "      <td>S</td>\n",
              "      <td>2</td>\n",
              "      <td>0</td>\n",
              "      <td>2</td>\n",
              "      <td>{\"LIFT\":false,\"GYM\":false,\"INTERNET\":false,\"AC...</td>\n",
              "      <td>CORP_BORE</td>\n",
              "      <td>IH</td>\n",
              "      <td>0</td>\n",
              "      <td>22000</td>\n",
              "    </tr>\n",
              "    <tr>\n",
              "      <th>8</th>\n",
              "      <td>ff808181624e0deb01624e6b3426131c</td>\n",
              "      <td>BHK2</td>\n",
              "      <td>Banashankari</td>\n",
              "      <td>26-03-2018 14:11</td>\n",
              "      <td>12.923301</td>\n",
              "      <td>77.556324</td>\n",
              "      <td>ANYONE</td>\n",
              "      <td>0</td>\n",
              "      <td>0</td>\n",
              "      <td>0</td>\n",
              "      <td>...</td>\n",
              "      <td>2</td>\n",
              "      <td>S</td>\n",
              "      <td>2</td>\n",
              "      <td>0</td>\n",
              "      <td>1</td>\n",
              "      <td>{\"LIFT\":false,\"GYM\":false,\"INTERNET\":true,\"AC\"...</td>\n",
              "      <td>CORPORATION</td>\n",
              "      <td>IH</td>\n",
              "      <td>0</td>\n",
              "      <td>10000</td>\n",
              "    </tr>\n",
              "    <tr>\n",
              "      <th>9</th>\n",
              "      <td>ff808181620eb61601620f1b79a42734</td>\n",
              "      <td>BHK2</td>\n",
              "      <td>Whitefield</td>\n",
              "      <td>10-03-2018 17:17</td>\n",
              "      <td>12.972697</td>\n",
              "      <td>77.751880</td>\n",
              "      <td>ANYONE</td>\n",
              "      <td>1</td>\n",
              "      <td>1</td>\n",
              "      <td>0</td>\n",
              "      <td>...</td>\n",
              "      <td>2</td>\n",
              "      <td>E</td>\n",
              "      <td>4</td>\n",
              "      <td>2</td>\n",
              "      <td>4</td>\n",
              "      <td>{\"LIFT\":true,\"GYM\":true,\"INTERNET\":true,\"AC\":f...</td>\n",
              "      <td>CORP_BORE</td>\n",
              "      <td>AP</td>\n",
              "      <td>2</td>\n",
              "      <td>19500</td>\n",
              "    </tr>\n",
              "    <tr>\n",
              "      <th>10</th>\n",
              "      <td>ff8081815c116660015c119a34fd0829</td>\n",
              "      <td>BHK2</td>\n",
              "      <td>RR Nagar</td>\n",
              "      <td>11-07-2017 14:58</td>\n",
              "      <td>12.912039</td>\n",
              "      <td>77.510950</td>\n",
              "      <td>FAMILY</td>\n",
              "      <td>0</td>\n",
              "      <td>0</td>\n",
              "      <td>0</td>\n",
              "      <td>...</td>\n",
              "      <td>2</td>\n",
              "      <td>E</td>\n",
              "      <td>4</td>\n",
              "      <td>1</td>\n",
              "      <td>2</td>\n",
              "      <td>{\"AC\":false,\"CLUB\":false,\"CPA\":false,\"FS\":fals...</td>\n",
              "      <td>CORPORATION</td>\n",
              "      <td>IF</td>\n",
              "      <td>1</td>\n",
              "      <td>12500</td>\n",
              "    </tr>\n",
              "    <tr>\n",
              "      <th>11</th>\n",
              "      <td>ff8081815f887e60015f8b497ac62da0</td>\n",
              "      <td>BHK2</td>\n",
              "      <td>ITPL Residential Flats</td>\n",
              "      <td>05-11-2017 16:14</td>\n",
              "      <td>12.986175</td>\n",
              "      <td>77.735956</td>\n",
              "      <td>ANYONE</td>\n",
              "      <td>1</td>\n",
              "      <td>1</td>\n",
              "      <td>0</td>\n",
              "      <td>...</td>\n",
              "      <td>2</td>\n",
              "      <td>N</td>\n",
              "      <td>2</td>\n",
              "      <td>1</td>\n",
              "      <td>4</td>\n",
              "      <td>{\"LIFT\":true,\"GYM\":true,\"INTERNET\":true,\"AC\":f...</td>\n",
              "      <td>CORPORATION</td>\n",
              "      <td>AP</td>\n",
              "      <td>2</td>\n",
              "      <td>32000</td>\n",
              "    </tr>\n",
              "    <tr>\n",
              "      <th>12</th>\n",
              "      <td>ff8081815b3ce753015b3deabfae2e70</td>\n",
              "      <td>BHK2</td>\n",
              "      <td>Raja Rajeshwari Nagar</td>\n",
              "      <td>27-08-2017 16:55</td>\n",
              "      <td>12.925034</td>\n",
              "      <td>77.517115</td>\n",
              "      <td>ANYONE</td>\n",
              "      <td>0</td>\n",
              "      <td>1</td>\n",
              "      <td>0</td>\n",
              "      <td>...</td>\n",
              "      <td>2</td>\n",
              "      <td>E</td>\n",
              "      <td>2</td>\n",
              "      <td>1</td>\n",
              "      <td>4</td>\n",
              "      <td>{\"LIFT\":true,\"GYM\":false,\"INTERNET\":true,\"AC\":...</td>\n",
              "      <td>CORPORATION</td>\n",
              "      <td>AP</td>\n",
              "      <td>1</td>\n",
              "      <td>11000</td>\n",
              "    </tr>\n",
              "    <tr>\n",
              "      <th>13</th>\n",
              "      <td>ff8081815efff8db015f0097a4a946bf</td>\n",
              "      <td>BHK2</td>\n",
              "      <td>Prestige Shanthinikethan, Bengaluru, Karnataka...</td>\n",
              "      <td>09-10-2017 16:59</td>\n",
              "      <td>12.989002</td>\n",
              "      <td>77.727370</td>\n",
              "      <td>FAMILY</td>\n",
              "      <td>1</td>\n",
              "      <td>1</td>\n",
              "      <td>1</td>\n",
              "      <td>...</td>\n",
              "      <td>2</td>\n",
              "      <td>E</td>\n",
              "      <td>2</td>\n",
              "      <td>11</td>\n",
              "      <td>14</td>\n",
              "      <td>{\"LIFT\":true,\"GYM\":true,\"INTERNET\":true,\"AC\":f...</td>\n",
              "      <td>CORP_BORE</td>\n",
              "      <td>AP</td>\n",
              "      <td>2</td>\n",
              "      <td>32500</td>\n",
              "    </tr>\n",
              "    <tr>\n",
              "      <th>14</th>\n",
              "      <td>ff808181645efb5c01645f8463e227fd</td>\n",
              "      <td>BHK1</td>\n",
              "      <td>Murugeshpalya</td>\n",
              "      <td>05-07-2018 15:18</td>\n",
              "      <td>12.954775</td>\n",
              "      <td>77.650037</td>\n",
              "      <td>BACHELOR</td>\n",
              "      <td>0</td>\n",
              "      <td>0</td>\n",
              "      <td>0</td>\n",
              "      <td>...</td>\n",
              "      <td>1</td>\n",
              "      <td>E</td>\n",
              "      <td>1</td>\n",
              "      <td>2</td>\n",
              "      <td>2</td>\n",
              "      <td>{\"LIFT\":false,\"GYM\":false,\"INTERNET\":true,\"AC\"...</td>\n",
              "      <td>CORPORATION</td>\n",
              "      <td>IH</td>\n",
              "      <td>0</td>\n",
              "      <td>12000</td>\n",
              "    </tr>\n",
              "    <tr>\n",
              "      <th>15</th>\n",
              "      <td>ff808181620eb34b0162133b0dbe5f16</td>\n",
              "      <td>BHK2</td>\n",
              "      <td>Sheshadripuram</td>\n",
              "      <td>11-03-2018 15:39</td>\n",
              "      <td>12.986517</td>\n",
              "      <td>77.574781</td>\n",
              "      <td>FAMILY</td>\n",
              "      <td>0</td>\n",
              "      <td>0</td>\n",
              "      <td>0</td>\n",
              "      <td>...</td>\n",
              "      <td>1</td>\n",
              "      <td>E</td>\n",
              "      <td>0</td>\n",
              "      <td>1</td>\n",
              "      <td>3</td>\n",
              "      <td>{\"LIFT\":false,\"GYM\":false,\"INTERNET\":true,\"AC\"...</td>\n",
              "      <td>CORP_BORE</td>\n",
              "      <td>IF</td>\n",
              "      <td>1</td>\n",
              "      <td>15000</td>\n",
              "    </tr>\n",
              "    <tr>\n",
              "      <th>16</th>\n",
              "      <td>ff8081816483b0ba01648479cec8103a</td>\n",
              "      <td>BHK3</td>\n",
              "      <td>Cox Town</td>\n",
              "      <td>15-07-2018 17:08</td>\n",
              "      <td>12.998526</td>\n",
              "      <td>77.631007</td>\n",
              "      <td>FAMILY</td>\n",
              "      <td>0</td>\n",
              "      <td>0</td>\n",
              "      <td>0</td>\n",
              "      <td>...</td>\n",
              "      <td>2</td>\n",
              "      <td>E</td>\n",
              "      <td>2</td>\n",
              "      <td>1</td>\n",
              "      <td>3</td>\n",
              "      <td>{\"LIFT\":false,\"GYM\":false,\"INTERNET\":false,\"AC...</td>\n",
              "      <td>CORPORATION</td>\n",
              "      <td>IH</td>\n",
              "      <td>2</td>\n",
              "      <td>18500</td>\n",
              "    </tr>\n",
              "    <tr>\n",
              "      <th>17</th>\n",
              "      <td>ff8081815d851c3f015d8d3a9b3e5361</td>\n",
              "      <td>BHK3</td>\n",
              "      <td>BTM 2nd Stage</td>\n",
              "      <td>14-08-2017 12:02</td>\n",
              "      <td>12.908240</td>\n",
              "      <td>77.607409</td>\n",
              "      <td>ANYONE</td>\n",
              "      <td>0</td>\n",
              "      <td>0</td>\n",
              "      <td>0</td>\n",
              "      <td>...</td>\n",
              "      <td>2</td>\n",
              "      <td>E</td>\n",
              "      <td>0</td>\n",
              "      <td>1</td>\n",
              "      <td>2</td>\n",
              "      <td>{\"AC\":false,\"CLUB\":false,\"CPA\":false,\"FS\":fals...</td>\n",
              "      <td>CORPORATION</td>\n",
              "      <td>IF</td>\n",
              "      <td>1</td>\n",
              "      <td>21000</td>\n",
              "    </tr>\n",
              "    <tr>\n",
              "      <th>18</th>\n",
              "      <td>ff8081816058ce47016058d4e68f0308</td>\n",
              "      <td>BHK2</td>\n",
              "      <td>Chikkakannalli</td>\n",
              "      <td>15-12-2017 14:53</td>\n",
              "      <td>12.900570</td>\n",
              "      <td>77.707885</td>\n",
              "      <td>FAMILY</td>\n",
              "      <td>0</td>\n",
              "      <td>0</td>\n",
              "      <td>0</td>\n",
              "      <td>...</td>\n",
              "      <td>2</td>\n",
              "      <td>SE</td>\n",
              "      <td>2</td>\n",
              "      <td>4</td>\n",
              "      <td>15</td>\n",
              "      <td>{\"LIFT\":true,\"GYM\":true,\"INTERNET\":true,\"AC\":f...</td>\n",
              "      <td>CORPORATION</td>\n",
              "      <td>AP</td>\n",
              "      <td>2</td>\n",
              "      <td>22000</td>\n",
              "    </tr>\n",
              "    <tr>\n",
              "      <th>19</th>\n",
              "      <td>ff80818163dffb5f0163e00d3cdd0429</td>\n",
              "      <td>BHK2</td>\n",
              "      <td>agara</td>\n",
              "      <td>08-06-2018 21:28</td>\n",
              "      <td>12.924363</td>\n",
              "      <td>77.653267</td>\n",
              "      <td>ANYONE</td>\n",
              "      <td>0</td>\n",
              "      <td>1</td>\n",
              "      <td>0</td>\n",
              "      <td>...</td>\n",
              "      <td>2</td>\n",
              "      <td>E</td>\n",
              "      <td>2</td>\n",
              "      <td>0</td>\n",
              "      <td>4</td>\n",
              "      <td>{\"LIFT\":true,\"GYM\":false,\"INTERNET\":true,\"AC\":...</td>\n",
              "      <td>CORPORATION</td>\n",
              "      <td>AP</td>\n",
              "      <td>3</td>\n",
              "      <td>24000</td>\n",
              "    </tr>\n",
              "  </tbody>\n",
              "</table>\n",
              "<p>20 rows × 25 columns</p>\n",
              "</div>\n",
              "      <button class=\"colab-df-convert\" onclick=\"convertToInteractive('df-50c739a8-2985-4e25-83a5-c388edfad0d3')\"\n",
              "              title=\"Convert this dataframe to an interactive table.\"\n",
              "              style=\"display:none;\">\n",
              "        \n",
              "  <svg xmlns=\"http://www.w3.org/2000/svg\" height=\"24px\"viewBox=\"0 0 24 24\"\n",
              "       width=\"24px\">\n",
              "    <path d=\"M0 0h24v24H0V0z\" fill=\"none\"/>\n",
              "    <path d=\"M18.56 5.44l.94 2.06.94-2.06 2.06-.94-2.06-.94-.94-2.06-.94 2.06-2.06.94zm-11 1L8.5 8.5l.94-2.06 2.06-.94-2.06-.94L8.5 2.5l-.94 2.06-2.06.94zm10 10l.94 2.06.94-2.06 2.06-.94-2.06-.94-.94-2.06-.94 2.06-2.06.94z\"/><path d=\"M17.41 7.96l-1.37-1.37c-.4-.4-.92-.59-1.43-.59-.52 0-1.04.2-1.43.59L10.3 9.45l-7.72 7.72c-.78.78-.78 2.05 0 2.83L4 21.41c.39.39.9.59 1.41.59.51 0 1.02-.2 1.41-.59l7.78-7.78 2.81-2.81c.8-.78.8-2.07 0-2.86zM5.41 20L4 18.59l7.72-7.72 1.47 1.35L5.41 20z\"/>\n",
              "  </svg>\n",
              "      </button>\n",
              "      \n",
              "  <style>\n",
              "    .colab-df-container {\n",
              "      display:flex;\n",
              "      flex-wrap:wrap;\n",
              "      gap: 12px;\n",
              "    }\n",
              "\n",
              "    .colab-df-convert {\n",
              "      background-color: #E8F0FE;\n",
              "      border: none;\n",
              "      border-radius: 50%;\n",
              "      cursor: pointer;\n",
              "      display: none;\n",
              "      fill: #1967D2;\n",
              "      height: 32px;\n",
              "      padding: 0 0 0 0;\n",
              "      width: 32px;\n",
              "    }\n",
              "\n",
              "    .colab-df-convert:hover {\n",
              "      background-color: #E2EBFA;\n",
              "      box-shadow: 0px 1px 2px rgba(60, 64, 67, 0.3), 0px 1px 3px 1px rgba(60, 64, 67, 0.15);\n",
              "      fill: #174EA6;\n",
              "    }\n",
              "\n",
              "    [theme=dark] .colab-df-convert {\n",
              "      background-color: #3B4455;\n",
              "      fill: #D2E3FC;\n",
              "    }\n",
              "\n",
              "    [theme=dark] .colab-df-convert:hover {\n",
              "      background-color: #434B5C;\n",
              "      box-shadow: 0px 1px 3px 1px rgba(0, 0, 0, 0.15);\n",
              "      filter: drop-shadow(0px 1px 2px rgba(0, 0, 0, 0.3));\n",
              "      fill: #FFFFFF;\n",
              "    }\n",
              "  </style>\n",
              "\n",
              "      <script>\n",
              "        const buttonEl =\n",
              "          document.querySelector('#df-50c739a8-2985-4e25-83a5-c388edfad0d3 button.colab-df-convert');\n",
              "        buttonEl.style.display =\n",
              "          google.colab.kernel.accessAllowed ? 'block' : 'none';\n",
              "\n",
              "        async function convertToInteractive(key) {\n",
              "          const element = document.querySelector('#df-50c739a8-2985-4e25-83a5-c388edfad0d3');\n",
              "          const dataTable =\n",
              "            await google.colab.kernel.invokeFunction('convertToInteractive',\n",
              "                                                     [key], {});\n",
              "          if (!dataTable) return;\n",
              "\n",
              "          const docLinkHtml = 'Like what you see? Visit the ' +\n",
              "            '<a target=\"_blank\" href=https://colab.research.google.com/notebooks/data_table.ipynb>data table notebook</a>'\n",
              "            + ' to learn more about interactive tables.';\n",
              "          element.innerHTML = '';\n",
              "          dataTable['output_type'] = 'display_data';\n",
              "          await google.colab.output.renderOutput(dataTable, element);\n",
              "          const docLink = document.createElement('div');\n",
              "          docLink.innerHTML = docLinkHtml;\n",
              "          element.appendChild(docLink);\n",
              "        }\n",
              "      </script>\n",
              "    </div>\n",
              "  </div>\n",
              "  "
            ]
          },
          "metadata": {},
          "execution_count": 188
        }
      ]
    },
    {
      "cell_type": "markdown",
      "source": [
        "# Let us look at the amenities field and see if we can find any useful parameters"
      ],
      "metadata": {
        "id": "UNj_vYM2NrAQ"
      }
    },
    {
      "cell_type": "code",
      "source": [
        "amen=df['amenities'][0]"
      ],
      "metadata": {
        "id": "MbzSLPCdnI-Y"
      },
      "execution_count": 189,
      "outputs": []
    },
    {
      "cell_type": "code",
      "source": [
        "amen"
      ],
      "metadata": {
        "colab": {
          "base_uri": "https://localhost:8080/",
          "height": 53
        },
        "id": "JFGBB-mHna5L",
        "outputId": "115567aa-8138-4153-8a82-ada144981b3b"
      },
      "execution_count": 190,
      "outputs": [
        {
          "output_type": "execute_result",
          "data": {
            "text/plain": [
              "'{\"LIFT\":true,\"GYM\":true,\"INTERNET\":true,\"AC\":false,\"CLUB\":true,\"INTERCOM\":true,\"POOL\":true,\"CPA\":true,\"FS\":true,\"SERVANT\":false,\"SECURITY\":true,\"SC\":true,\"GP\":true,\"PARK\":false,\"RWH\":true,\"STP\":true,\"HK\":false,\"PB\":true,\"VP\":true}'"
            ],
            "application/vnd.google.colaboratory.intrinsic+json": {
              "type": "string"
            }
          },
          "metadata": {},
          "execution_count": 190
        }
      ]
    },
    {
      "cell_type": "code",
      "source": [
        "type(amen)"
      ],
      "metadata": {
        "colab": {
          "base_uri": "https://localhost:8080/"
        },
        "id": "eQBrKjR3nctX",
        "outputId": "605bc5ce-e8e1-4a6f-e9de-3e900f7893ac"
      },
      "execution_count": 191,
      "outputs": [
        {
          "output_type": "execute_result",
          "data": {
            "text/plain": [
              "str"
            ]
          },
          "metadata": {},
          "execution_count": 191
        }
      ]
    },
    {
      "cell_type": "code",
      "source": [
        "amen=amen.split(',')"
      ],
      "metadata": {
        "id": "-CYfxxH-ngVU"
      },
      "execution_count": 192,
      "outputs": []
    },
    {
      "cell_type": "code",
      "source": [
        "amen_fields=list()\n",
        "for i in amen:\n",
        "  # print(i)\n",
        "  a=(i.split(':'))\n",
        "  amen_fields.append(a[0])\n"
      ],
      "metadata": {
        "id": "IsJ92vGEn_ym"
      },
      "execution_count": 194,
      "outputs": []
    },
    {
      "cell_type": "code",
      "source": [
        "amen_fields[0]='\"LIFT\"'"
      ],
      "metadata": {
        "id": "k-vYqRUdnL6A"
      },
      "execution_count": 195,
      "outputs": []
    },
    {
      "cell_type": "code",
      "source": [
        "amen_fields\n",
        "## final list of amenities from the dataset"
      ],
      "metadata": {
        "colab": {
          "base_uri": "https://localhost:8080/"
        },
        "id": "sSTNTt_JpUDo",
        "outputId": "fa4a715d-3f9f-4ad2-9385-7fd30cbd6c8e"
      },
      "execution_count": 196,
      "outputs": [
        {
          "output_type": "execute_result",
          "data": {
            "text/plain": [
              "['\"LIFT\"',\n",
              " '\"GYM\"',\n",
              " '\"INTERNET\"',\n",
              " '\"AC\"',\n",
              " '\"CLUB\"',\n",
              " '\"INTERCOM\"',\n",
              " '\"POOL\"',\n",
              " '\"CPA\"',\n",
              " '\"FS\"',\n",
              " '\"SERVANT\"',\n",
              " '\"SECURITY\"',\n",
              " '\"SC\"',\n",
              " '\"GP\"',\n",
              " '\"PARK\"',\n",
              " '\"RWH\"',\n",
              " '\"STP\"',\n",
              " '\"HK\"',\n",
              " '\"PB\"',\n",
              " '\"VP\"']"
            ]
          },
          "metadata": {},
          "execution_count": 196
        }
      ]
    },
    {
      "cell_type": "code",
      "source": [
        "amenities=list()\n",
        "for i in amen_fields:\n",
        "  x=i.replace('\"', \"\", 2)\n",
        "  amenities.append(x)"
      ],
      "metadata": {
        "id": "nFYugxl3rV5C"
      },
      "execution_count": 197,
      "outputs": []
    },
    {
      "cell_type": "code",
      "source": [
        "amenities"
      ],
      "metadata": {
        "colab": {
          "base_uri": "https://localhost:8080/"
        },
        "id": "tUTreZHvrt-5",
        "outputId": "07e9a43e-c74d-4129-fe59-5a5ceccce562"
      },
      "execution_count": 198,
      "outputs": [
        {
          "output_type": "execute_result",
          "data": {
            "text/plain": [
              "['LIFT',\n",
              " 'GYM',\n",
              " 'INTERNET',\n",
              " 'AC',\n",
              " 'CLUB',\n",
              " 'INTERCOM',\n",
              " 'POOL',\n",
              " 'CPA',\n",
              " 'FS',\n",
              " 'SERVANT',\n",
              " 'SECURITY',\n",
              " 'SC',\n",
              " 'GP',\n",
              " 'PARK',\n",
              " 'RWH',\n",
              " 'STP',\n",
              " 'HK',\n",
              " 'PB',\n",
              " 'VP']"
            ]
          },
          "metadata": {},
          "execution_count": 198
        }
      ]
    },
    {
      "cell_type": "code",
      "source": [
        "import numpy as np\n"
      ],
      "metadata": {
        "id": "4jSgnWnEw_ir"
      },
      "execution_count": 199,
      "outputs": []
    },
    {
      "cell_type": "markdown",
      "source": [
        "# Let us come up with our own encoding systems for the categorical data in the dataset"
      ],
      "metadata": {
        "id": "sD3HtVBPN40p"
      }
    },
    {
      "cell_type": "code",
      "source": [
        "# print(distinct)\n",
        "x = np.array(df['building_type'].tolist())\n",
        "print(np.unique(x))"
      ],
      "metadata": {
        "colab": {
          "base_uri": "https://localhost:8080/"
        },
        "id": "taaGGMVKws9C",
        "outputId": "e7332cc5-c92e-4924-e587-18c8ac4a83ad"
      },
      "execution_count": 200,
      "outputs": [
        {
          "output_type": "stream",
          "name": "stdout",
          "text": [
            "['AP' 'GC' 'IF' 'IH']\n"
          ]
        }
      ]
    },
    {
      "cell_type": "code",
      "source": [
        "build_dict={'IH':3,'IF':2,'AP':1,'GC':0}"
      ],
      "metadata": {
        "id": "5KFgGZbeIsM2"
      },
      "execution_count": 201,
      "outputs": []
    },
    {
      "cell_type": "code",
      "source": [
        "x = np.array(df['facing'].tolist())\n",
        "print(np.unique(x))"
      ],
      "metadata": {
        "colab": {
          "base_uri": "https://localhost:8080/"
        },
        "id": "WOZWqqNXxMbs",
        "outputId": "9fdb88a6-0884-4553-c51a-25c387436c6b"
      },
      "execution_count": 202,
      "outputs": [
        {
          "output_type": "stream",
          "name": "stdout",
          "text": [
            "['E' 'N' 'NE' 'NW' 'S' 'SE' 'SW' 'W']\n"
          ]
        }
      ]
    },
    {
      "cell_type": "code",
      "source": [
        "face_dict={'N':7,'E':6,'NE':5,'W':4,'NW':3,'SE':2,'SW':1,'S':0}"
      ],
      "metadata": {
        "id": "2u5Oxf-EScoy"
      },
      "execution_count": 203,
      "outputs": []
    },
    {
      "cell_type": "code",
      "source": [
        "x = np.array(df['negotiable'].tolist())\n",
        "print(np.unique(x))"
      ],
      "metadata": {
        "colab": {
          "base_uri": "https://localhost:8080/"
        },
        "id": "yXk49i7HxPLY",
        "outputId": "281cafc5-0b2d-4686-d852-3114631ead0b"
      },
      "execution_count": 204,
      "outputs": [
        {
          "output_type": "stream",
          "name": "stdout",
          "text": [
            "[0 1]\n"
          ]
        }
      ]
    },
    {
      "cell_type": "code",
      "source": [
        "x = np.array(df['furnishing'].tolist())\n",
        "print(np.unique(x))"
      ],
      "metadata": {
        "colab": {
          "base_uri": "https://localhost:8080/"
        },
        "id": "7lLdhbO1xbhb",
        "outputId": "923d6a3c-04e9-4676-8c95-ccf8cc57ded1"
      },
      "execution_count": 205,
      "outputs": [
        {
          "output_type": "stream",
          "name": "stdout",
          "text": [
            "['FULLY_FURNISHED' 'NOT_FURNISHED' 'SEMI_FURNISHED']\n"
          ]
        }
      ]
    },
    {
      "cell_type": "code",
      "source": [
        "furnish_dict={'FULLY_FURNISHED':2,'SEMI_FURNISHED':1,'NOT_FURNISHED':0}"
      ],
      "metadata": {
        "id": "HwuCUSmyIcX4"
      },
      "execution_count": 206,
      "outputs": []
    },
    {
      "cell_type": "code",
      "source": [
        "x = np.array(df['water_supply'].tolist())\n",
        "print(np.unique(x))"
      ],
      "metadata": {
        "colab": {
          "base_uri": "https://localhost:8080/"
        },
        "id": "0QggjzMexkTv",
        "outputId": "3c8333dd-6367-4a85-d215-860bb986be66"
      },
      "execution_count": 207,
      "outputs": [
        {
          "output_type": "stream",
          "name": "stdout",
          "text": [
            "['BOREWELL' 'CORPORATION' 'CORP_BORE']\n"
          ]
        }
      ]
    },
    {
      "cell_type": "code",
      "source": [
        "water_dict={'CORP_BORE':2,'CORPORATION':1,'BOREWELL':0}"
      ],
      "metadata": {
        "id": "LPjS4PfqIRHl"
      },
      "execution_count": 208,
      "outputs": []
    },
    {
      "cell_type": "code",
      "source": [
        "x = np.array(df['type'].tolist())\n",
        "print(np.unique(x))"
      ],
      "metadata": {
        "colab": {
          "base_uri": "https://localhost:8080/"
        },
        "id": "8cb6j__k0Xw7",
        "outputId": "f499e0c6-995d-4a30-9d97-ef16c2e9593e"
      },
      "execution_count": 209,
      "outputs": [
        {
          "output_type": "stream",
          "name": "stdout",
          "text": [
            "['BHK1' 'BHK2' 'BHK3' 'BHK4' 'BHK4PLUS' 'RK1']\n"
          ]
        }
      ]
    },
    {
      "cell_type": "code",
      "source": [
        "type_dict={'BHK4PLUS':5,'BHK4':4,'BHK3':2,'BHK2':2,'BHK1':1,'RK1':0}"
      ],
      "metadata": {
        "id": "mLedLB1dIAWz"
      },
      "execution_count": 210,
      "outputs": []
    },
    {
      "cell_type": "code",
      "source": [
        "x = np.array(df['parking'].tolist())\n",
        "print(np.unique(x))"
      ],
      "metadata": {
        "colab": {
          "base_uri": "https://localhost:8080/"
        },
        "id": "Nhz3DQByJHVw",
        "outputId": "c1a71374-f1ce-43d3-e7df-05cea1997b70"
      },
      "execution_count": 211,
      "outputs": [
        {
          "output_type": "stream",
          "name": "stdout",
          "text": [
            "['BOTH' 'FOUR_WHEELER' 'NONE' 'TWO_WHEELER']\n"
          ]
        }
      ]
    },
    {
      "cell_type": "code",
      "source": [
        "park_dict={'BOTH':3,'FOUR_WHEELER':2,'TWO_WHEELER':1,'NONE':0}"
      ],
      "metadata": {
        "id": "8SsRl0sqJKZ3"
      },
      "execution_count": 212,
      "outputs": []
    },
    {
      "cell_type": "code",
      "source": [
        "need_cols1=['id',\n",
        " 'type',\n",
        " 'gym',\n",
        " 'lift',\n",
        " 'swimming_pool',\n",
        " 'negotiable',\n",
        " 'furnishing',\n",
        " 'parking',\n",
        " 'property_size',\n",
        " 'property_age',\n",
        " 'bathroom',\n",
        " 'facing',\n",
        " 'cup_board',\n",
        " 'floor',\n",
        " 'total_floor',\n",
        " 'water_supply',\n",
        " 'building_type',\n",
        " 'balconies',\n",
        " 'rent']\n",
        "# this is a list of all columns in the dataset"
      ],
      "metadata": {
        "id": "ftfoMdvxr-Fy"
      },
      "execution_count": 213,
      "outputs": []
    },
    {
      "cell_type": "markdown",
      "source": [
        "# for the first model, let us pick a subset of the columns which are very useful"
      ],
      "metadata": {
        "id": "pK1hyNs4OCnB"
      }
    },
    {
      "cell_type": "code",
      "source": [
        "df1=pd.read_csv(train_dir, usecols=need_cols1)"
      ],
      "metadata": {
        "id": "hLmKRVU2wRzh"
      },
      "execution_count": 214,
      "outputs": []
    },
    {
      "cell_type": "code",
      "source": [
        "df1.head(10)"
      ],
      "metadata": {
        "colab": {
          "base_uri": "https://localhost:8080/",
          "height": 427
        },
        "id": "Vgfby5QK0Imz",
        "outputId": "10f651df-1b2c-4b63-e993-34563daab580"
      },
      "execution_count": 215,
      "outputs": [
        {
          "output_type": "execute_result",
          "data": {
            "text/plain": [
              "                                 id  type  gym  lift  swimming_pool  \\\n",
              "0  ff8081815733a243015733b2876600a6  BHK2    1     1              1   \n",
              "1  ff8081815ee25e15015ee50004da2acd  BHK2    0     1              0   \n",
              "2  ff80818163f29c9e0163f46770b873e7  BHK3    0     1              0   \n",
              "3  ff80818164b68a700164b74b1b247a1d  BHK1    0     0              0   \n",
              "4  ff80818163b1faf00163b4b9b8a163b1  BHK3    0     0              0   \n",
              "5  ff8081815f48e4aa015f4dd1a9c6696b  BHK1    1     1              1   \n",
              "6  ff808181647d728001647e3cd0ed458d  BHK3    1     1              1   \n",
              "7  ff80818164e9cd1b0164ea07d09114b7  BHK2    0     0              0   \n",
              "8  ff808181624e0deb01624e6b3426131c  BHK2    0     0              0   \n",
              "9  ff808181620eb61601620f1b79a42734  BHK2    1     1              0   \n",
              "\n",
              "   negotiable       furnishing      parking  property_size  property_age  \\\n",
              "0           0   SEMI_FURNISHED         BOTH           1250            25   \n",
              "1           1   SEMI_FURNISHED         BOTH           1400             4   \n",
              "2           0   SEMI_FURNISHED         BOTH           1350             6   \n",
              "3           1   SEMI_FURNISHED  TWO_WHEELER            600             3   \n",
              "4           1   SEMI_FURNISHED         BOTH           1500            15   \n",
              "5           1   SEMI_FURNISHED         BOTH           1080             0   \n",
              "6           1  FULLY_FURNISHED         BOTH           1895             5   \n",
              "7           1   SEMI_FURNISHED         BOTH           1000            10   \n",
              "8           0   SEMI_FURNISHED         NONE            900            10   \n",
              "9           1   SEMI_FURNISHED         BOTH           1290             4   \n",
              "\n",
              "   bathroom facing  cup_board  floor  total_floor water_supply building_type  \\\n",
              "0         2      E          2      6           12    CORP_BORE            AP   \n",
              "1         2     NE          2      3            4  CORPORATION            AP   \n",
              "2         3      E          3      1            5    CORP_BORE            AP   \n",
              "3         1      E          1      1            2  CORPORATION            IH   \n",
              "4         3      E          4      0            0  CORPORATION            IH   \n",
              "5         2      E          1      3            5    CORP_BORE            AP   \n",
              "6         3     NE          5      3            9  CORPORATION            AP   \n",
              "7         2      S          2      0            2    CORP_BORE            IH   \n",
              "8         2      S          2      0            1  CORPORATION            IH   \n",
              "9         2      E          4      2            4    CORP_BORE            AP   \n",
              "\n",
              "   balconies   rent  \n",
              "0          2  40000  \n",
              "1          2  22000  \n",
              "2          3  28000  \n",
              "3          0   8000  \n",
              "4          1  45000  \n",
              "5          2  18000  \n",
              "6          3  32000  \n",
              "7          0  22000  \n",
              "8          0  10000  \n",
              "9          2  19500  "
            ],
            "text/html": [
              "\n",
              "  <div id=\"df-4c85c214-8856-4d7b-9272-76d2616bffc5\">\n",
              "    <div class=\"colab-df-container\">\n",
              "      <div>\n",
              "<style scoped>\n",
              "    .dataframe tbody tr th:only-of-type {\n",
              "        vertical-align: middle;\n",
              "    }\n",
              "\n",
              "    .dataframe tbody tr th {\n",
              "        vertical-align: top;\n",
              "    }\n",
              "\n",
              "    .dataframe thead th {\n",
              "        text-align: right;\n",
              "    }\n",
              "</style>\n",
              "<table border=\"1\" class=\"dataframe\">\n",
              "  <thead>\n",
              "    <tr style=\"text-align: right;\">\n",
              "      <th></th>\n",
              "      <th>id</th>\n",
              "      <th>type</th>\n",
              "      <th>gym</th>\n",
              "      <th>lift</th>\n",
              "      <th>swimming_pool</th>\n",
              "      <th>negotiable</th>\n",
              "      <th>furnishing</th>\n",
              "      <th>parking</th>\n",
              "      <th>property_size</th>\n",
              "      <th>property_age</th>\n",
              "      <th>bathroom</th>\n",
              "      <th>facing</th>\n",
              "      <th>cup_board</th>\n",
              "      <th>floor</th>\n",
              "      <th>total_floor</th>\n",
              "      <th>water_supply</th>\n",
              "      <th>building_type</th>\n",
              "      <th>balconies</th>\n",
              "      <th>rent</th>\n",
              "    </tr>\n",
              "  </thead>\n",
              "  <tbody>\n",
              "    <tr>\n",
              "      <th>0</th>\n",
              "      <td>ff8081815733a243015733b2876600a6</td>\n",
              "      <td>BHK2</td>\n",
              "      <td>1</td>\n",
              "      <td>1</td>\n",
              "      <td>1</td>\n",
              "      <td>0</td>\n",
              "      <td>SEMI_FURNISHED</td>\n",
              "      <td>BOTH</td>\n",
              "      <td>1250</td>\n",
              "      <td>25</td>\n",
              "      <td>2</td>\n",
              "      <td>E</td>\n",
              "      <td>2</td>\n",
              "      <td>6</td>\n",
              "      <td>12</td>\n",
              "      <td>CORP_BORE</td>\n",
              "      <td>AP</td>\n",
              "      <td>2</td>\n",
              "      <td>40000</td>\n",
              "    </tr>\n",
              "    <tr>\n",
              "      <th>1</th>\n",
              "      <td>ff8081815ee25e15015ee50004da2acd</td>\n",
              "      <td>BHK2</td>\n",
              "      <td>0</td>\n",
              "      <td>1</td>\n",
              "      <td>0</td>\n",
              "      <td>1</td>\n",
              "      <td>SEMI_FURNISHED</td>\n",
              "      <td>BOTH</td>\n",
              "      <td>1400</td>\n",
              "      <td>4</td>\n",
              "      <td>2</td>\n",
              "      <td>NE</td>\n",
              "      <td>2</td>\n",
              "      <td>3</td>\n",
              "      <td>4</td>\n",
              "      <td>CORPORATION</td>\n",
              "      <td>AP</td>\n",
              "      <td>2</td>\n",
              "      <td>22000</td>\n",
              "    </tr>\n",
              "    <tr>\n",
              "      <th>2</th>\n",
              "      <td>ff80818163f29c9e0163f46770b873e7</td>\n",
              "      <td>BHK3</td>\n",
              "      <td>0</td>\n",
              "      <td>1</td>\n",
              "      <td>0</td>\n",
              "      <td>0</td>\n",
              "      <td>SEMI_FURNISHED</td>\n",
              "      <td>BOTH</td>\n",
              "      <td>1350</td>\n",
              "      <td>6</td>\n",
              "      <td>3</td>\n",
              "      <td>E</td>\n",
              "      <td>3</td>\n",
              "      <td>1</td>\n",
              "      <td>5</td>\n",
              "      <td>CORP_BORE</td>\n",
              "      <td>AP</td>\n",
              "      <td>3</td>\n",
              "      <td>28000</td>\n",
              "    </tr>\n",
              "    <tr>\n",
              "      <th>3</th>\n",
              "      <td>ff80818164b68a700164b74b1b247a1d</td>\n",
              "      <td>BHK1</td>\n",
              "      <td>0</td>\n",
              "      <td>0</td>\n",
              "      <td>0</td>\n",
              "      <td>1</td>\n",
              "      <td>SEMI_FURNISHED</td>\n",
              "      <td>TWO_WHEELER</td>\n",
              "      <td>600</td>\n",
              "      <td>3</td>\n",
              "      <td>1</td>\n",
              "      <td>E</td>\n",
              "      <td>1</td>\n",
              "      <td>1</td>\n",
              "      <td>2</td>\n",
              "      <td>CORPORATION</td>\n",
              "      <td>IH</td>\n",
              "      <td>0</td>\n",
              "      <td>8000</td>\n",
              "    </tr>\n",
              "    <tr>\n",
              "      <th>4</th>\n",
              "      <td>ff80818163b1faf00163b4b9b8a163b1</td>\n",
              "      <td>BHK3</td>\n",
              "      <td>0</td>\n",
              "      <td>0</td>\n",
              "      <td>0</td>\n",
              "      <td>1</td>\n",
              "      <td>SEMI_FURNISHED</td>\n",
              "      <td>BOTH</td>\n",
              "      <td>1500</td>\n",
              "      <td>15</td>\n",
              "      <td>3</td>\n",
              "      <td>E</td>\n",
              "      <td>4</td>\n",
              "      <td>0</td>\n",
              "      <td>0</td>\n",
              "      <td>CORPORATION</td>\n",
              "      <td>IH</td>\n",
              "      <td>1</td>\n",
              "      <td>45000</td>\n",
              "    </tr>\n",
              "    <tr>\n",
              "      <th>5</th>\n",
              "      <td>ff8081815f48e4aa015f4dd1a9c6696b</td>\n",
              "      <td>BHK1</td>\n",
              "      <td>1</td>\n",
              "      <td>1</td>\n",
              "      <td>1</td>\n",
              "      <td>1</td>\n",
              "      <td>SEMI_FURNISHED</td>\n",
              "      <td>BOTH</td>\n",
              "      <td>1080</td>\n",
              "      <td>0</td>\n",
              "      <td>2</td>\n",
              "      <td>E</td>\n",
              "      <td>1</td>\n",
              "      <td>3</td>\n",
              "      <td>5</td>\n",
              "      <td>CORP_BORE</td>\n",
              "      <td>AP</td>\n",
              "      <td>2</td>\n",
              "      <td>18000</td>\n",
              "    </tr>\n",
              "    <tr>\n",
              "      <th>6</th>\n",
              "      <td>ff808181647d728001647e3cd0ed458d</td>\n",
              "      <td>BHK3</td>\n",
              "      <td>1</td>\n",
              "      <td>1</td>\n",
              "      <td>1</td>\n",
              "      <td>1</td>\n",
              "      <td>FULLY_FURNISHED</td>\n",
              "      <td>BOTH</td>\n",
              "      <td>1895</td>\n",
              "      <td>5</td>\n",
              "      <td>3</td>\n",
              "      <td>NE</td>\n",
              "      <td>5</td>\n",
              "      <td>3</td>\n",
              "      <td>9</td>\n",
              "      <td>CORPORATION</td>\n",
              "      <td>AP</td>\n",
              "      <td>3</td>\n",
              "      <td>32000</td>\n",
              "    </tr>\n",
              "    <tr>\n",
              "      <th>7</th>\n",
              "      <td>ff80818164e9cd1b0164ea07d09114b7</td>\n",
              "      <td>BHK2</td>\n",
              "      <td>0</td>\n",
              "      <td>0</td>\n",
              "      <td>0</td>\n",
              "      <td>1</td>\n",
              "      <td>SEMI_FURNISHED</td>\n",
              "      <td>BOTH</td>\n",
              "      <td>1000</td>\n",
              "      <td>10</td>\n",
              "      <td>2</td>\n",
              "      <td>S</td>\n",
              "      <td>2</td>\n",
              "      <td>0</td>\n",
              "      <td>2</td>\n",
              "      <td>CORP_BORE</td>\n",
              "      <td>IH</td>\n",
              "      <td>0</td>\n",
              "      <td>22000</td>\n",
              "    </tr>\n",
              "    <tr>\n",
              "      <th>8</th>\n",
              "      <td>ff808181624e0deb01624e6b3426131c</td>\n",
              "      <td>BHK2</td>\n",
              "      <td>0</td>\n",
              "      <td>0</td>\n",
              "      <td>0</td>\n",
              "      <td>0</td>\n",
              "      <td>SEMI_FURNISHED</td>\n",
              "      <td>NONE</td>\n",
              "      <td>900</td>\n",
              "      <td>10</td>\n",
              "      <td>2</td>\n",
              "      <td>S</td>\n",
              "      <td>2</td>\n",
              "      <td>0</td>\n",
              "      <td>1</td>\n",
              "      <td>CORPORATION</td>\n",
              "      <td>IH</td>\n",
              "      <td>0</td>\n",
              "      <td>10000</td>\n",
              "    </tr>\n",
              "    <tr>\n",
              "      <th>9</th>\n",
              "      <td>ff808181620eb61601620f1b79a42734</td>\n",
              "      <td>BHK2</td>\n",
              "      <td>1</td>\n",
              "      <td>1</td>\n",
              "      <td>0</td>\n",
              "      <td>1</td>\n",
              "      <td>SEMI_FURNISHED</td>\n",
              "      <td>BOTH</td>\n",
              "      <td>1290</td>\n",
              "      <td>4</td>\n",
              "      <td>2</td>\n",
              "      <td>E</td>\n",
              "      <td>4</td>\n",
              "      <td>2</td>\n",
              "      <td>4</td>\n",
              "      <td>CORP_BORE</td>\n",
              "      <td>AP</td>\n",
              "      <td>2</td>\n",
              "      <td>19500</td>\n",
              "    </tr>\n",
              "  </tbody>\n",
              "</table>\n",
              "</div>\n",
              "      <button class=\"colab-df-convert\" onclick=\"convertToInteractive('df-4c85c214-8856-4d7b-9272-76d2616bffc5')\"\n",
              "              title=\"Convert this dataframe to an interactive table.\"\n",
              "              style=\"display:none;\">\n",
              "        \n",
              "  <svg xmlns=\"http://www.w3.org/2000/svg\" height=\"24px\"viewBox=\"0 0 24 24\"\n",
              "       width=\"24px\">\n",
              "    <path d=\"M0 0h24v24H0V0z\" fill=\"none\"/>\n",
              "    <path d=\"M18.56 5.44l.94 2.06.94-2.06 2.06-.94-2.06-.94-.94-2.06-.94 2.06-2.06.94zm-11 1L8.5 8.5l.94-2.06 2.06-.94-2.06-.94L8.5 2.5l-.94 2.06-2.06.94zm10 10l.94 2.06.94-2.06 2.06-.94-2.06-.94-.94-2.06-.94 2.06-2.06.94z\"/><path d=\"M17.41 7.96l-1.37-1.37c-.4-.4-.92-.59-1.43-.59-.52 0-1.04.2-1.43.59L10.3 9.45l-7.72 7.72c-.78.78-.78 2.05 0 2.83L4 21.41c.39.39.9.59 1.41.59.51 0 1.02-.2 1.41-.59l7.78-7.78 2.81-2.81c.8-.78.8-2.07 0-2.86zM5.41 20L4 18.59l7.72-7.72 1.47 1.35L5.41 20z\"/>\n",
              "  </svg>\n",
              "      </button>\n",
              "      \n",
              "  <style>\n",
              "    .colab-df-container {\n",
              "      display:flex;\n",
              "      flex-wrap:wrap;\n",
              "      gap: 12px;\n",
              "    }\n",
              "\n",
              "    .colab-df-convert {\n",
              "      background-color: #E8F0FE;\n",
              "      border: none;\n",
              "      border-radius: 50%;\n",
              "      cursor: pointer;\n",
              "      display: none;\n",
              "      fill: #1967D2;\n",
              "      height: 32px;\n",
              "      padding: 0 0 0 0;\n",
              "      width: 32px;\n",
              "    }\n",
              "\n",
              "    .colab-df-convert:hover {\n",
              "      background-color: #E2EBFA;\n",
              "      box-shadow: 0px 1px 2px rgba(60, 64, 67, 0.3), 0px 1px 3px 1px rgba(60, 64, 67, 0.15);\n",
              "      fill: #174EA6;\n",
              "    }\n",
              "\n",
              "    [theme=dark] .colab-df-convert {\n",
              "      background-color: #3B4455;\n",
              "      fill: #D2E3FC;\n",
              "    }\n",
              "\n",
              "    [theme=dark] .colab-df-convert:hover {\n",
              "      background-color: #434B5C;\n",
              "      box-shadow: 0px 1px 3px 1px rgba(0, 0, 0, 0.15);\n",
              "      filter: drop-shadow(0px 1px 2px rgba(0, 0, 0, 0.3));\n",
              "      fill: #FFFFFF;\n",
              "    }\n",
              "  </style>\n",
              "\n",
              "      <script>\n",
              "        const buttonEl =\n",
              "          document.querySelector('#df-4c85c214-8856-4d7b-9272-76d2616bffc5 button.colab-df-convert');\n",
              "        buttonEl.style.display =\n",
              "          google.colab.kernel.accessAllowed ? 'block' : 'none';\n",
              "\n",
              "        async function convertToInteractive(key) {\n",
              "          const element = document.querySelector('#df-4c85c214-8856-4d7b-9272-76d2616bffc5');\n",
              "          const dataTable =\n",
              "            await google.colab.kernel.invokeFunction('convertToInteractive',\n",
              "                                                     [key], {});\n",
              "          if (!dataTable) return;\n",
              "\n",
              "          const docLinkHtml = 'Like what you see? Visit the ' +\n",
              "            '<a target=\"_blank\" href=https://colab.research.google.com/notebooks/data_table.ipynb>data table notebook</a>'\n",
              "            + ' to learn more about interactive tables.';\n",
              "          element.innerHTML = '';\n",
              "          dataTable['output_type'] = 'display_data';\n",
              "          await google.colab.output.renderOutput(dataTable, element);\n",
              "          const docLink = document.createElement('div');\n",
              "          docLink.innerHTML = docLinkHtml;\n",
              "          element.appendChild(docLink);\n",
              "        }\n",
              "      </script>\n",
              "    </div>\n",
              "  </div>\n",
              "  "
            ]
          },
          "metadata": {},
          "execution_count": 215
        }
      ]
    },
    {
      "cell_type": "code",
      "source": [
        "df1.info()"
      ],
      "metadata": {
        "colab": {
          "base_uri": "https://localhost:8080/"
        },
        "id": "n6wdEFv30hvv",
        "outputId": "d9554bae-4021-448a-f007-78c439470c6c"
      },
      "execution_count": 216,
      "outputs": [
        {
          "output_type": "stream",
          "name": "stdout",
          "text": [
            "<class 'pandas.core.frame.DataFrame'>\n",
            "RangeIndex: 20500 entries, 0 to 20499\n",
            "Data columns (total 19 columns):\n",
            " #   Column         Non-Null Count  Dtype \n",
            "---  ------         --------------  ----- \n",
            " 0   id             20500 non-null  object\n",
            " 1   type           20500 non-null  object\n",
            " 2   gym            20500 non-null  int64 \n",
            " 3   lift           20500 non-null  int64 \n",
            " 4   swimming_pool  20500 non-null  int64 \n",
            " 5   negotiable     20500 non-null  int64 \n",
            " 6   furnishing     20500 non-null  object\n",
            " 7   parking        20500 non-null  object\n",
            " 8   property_size  20500 non-null  int64 \n",
            " 9   property_age   20500 non-null  int64 \n",
            " 10  bathroom       20500 non-null  int64 \n",
            " 11  facing         20500 non-null  object\n",
            " 12  cup_board      20500 non-null  int64 \n",
            " 13  floor          20500 non-null  int64 \n",
            " 14  total_floor    20500 non-null  int64 \n",
            " 15  water_supply   20500 non-null  object\n",
            " 16  building_type  20500 non-null  object\n",
            " 17  balconies      20500 non-null  int64 \n",
            " 18  rent           20500 non-null  int64 \n",
            "dtypes: int64(12), object(7)\n",
            "memory usage: 3.0+ MB\n"
          ]
        }
      ]
    },
    {
      "cell_type": "code",
      "source": [
        "df1.describe()"
      ],
      "metadata": {
        "colab": {
          "base_uri": "https://localhost:8080/",
          "height": 364
        },
        "id": "g3BSINt10lGD",
        "outputId": "7b91b71a-5a5d-474f-e526-561fc82eecf4"
      },
      "execution_count": 217,
      "outputs": [
        {
          "output_type": "execute_result",
          "data": {
            "text/plain": [
              "                gym          lift  swimming_pool    negotiable  property_size  \\\n",
              "count  20500.000000  20500.000000   20500.000000  20500.000000   20500.000000   \n",
              "mean       0.226732      0.361463       0.174927      0.711512    1061.829463   \n",
              "std        0.418728      0.480436       0.379914      0.453070     591.419631   \n",
              "min        0.000000      0.000000       0.000000      0.000000       1.000000   \n",
              "25%        0.000000      0.000000       0.000000      0.000000     700.000000   \n",
              "50%        0.000000      0.000000       0.000000      1.000000    1047.000000   \n",
              "75%        0.000000      1.000000       0.000000      1.000000    1281.000000   \n",
              "max        1.000000      1.000000       1.000000      1.000000   50000.000000   \n",
              "\n",
              "       property_age      bathroom     cup_board         floor   total_floor  \\\n",
              "count  20500.000000  20500.000000  20500.000000  20500.000000  20500.000000   \n",
              "mean       5.770634      1.858146      4.553512      1.873561      3.801610   \n",
              "std        6.350271      0.710822    335.416267      2.184927      3.185748   \n",
              "min       -1.000000      1.000000      0.000000      0.000000      0.000000   \n",
              "25%        1.000000      1.000000      1.000000      1.000000      2.000000   \n",
              "50%        5.000000      2.000000      2.000000      1.000000      3.000000   \n",
              "75%       10.000000      2.000000      3.000000      2.000000      4.000000   \n",
              "max      400.000000     21.000000  48026.000000     25.000000     26.000000   \n",
              "\n",
              "          balconies          rent  \n",
              "count  20500.000000  20500.000000  \n",
              "mean       1.148976  19053.602195  \n",
              "std        0.993835   8433.949300  \n",
              "min        0.000000   8000.000000  \n",
              "25%        0.000000  12500.000000  \n",
              "50%        1.000000  17500.000000  \n",
              "75%        2.000000  24000.000000  \n",
              "max       13.000000  50000.000000  "
            ],
            "text/html": [
              "\n",
              "  <div id=\"df-a1b03656-d68a-4b05-94f1-d82a0e3813d1\">\n",
              "    <div class=\"colab-df-container\">\n",
              "      <div>\n",
              "<style scoped>\n",
              "    .dataframe tbody tr th:only-of-type {\n",
              "        vertical-align: middle;\n",
              "    }\n",
              "\n",
              "    .dataframe tbody tr th {\n",
              "        vertical-align: top;\n",
              "    }\n",
              "\n",
              "    .dataframe thead th {\n",
              "        text-align: right;\n",
              "    }\n",
              "</style>\n",
              "<table border=\"1\" class=\"dataframe\">\n",
              "  <thead>\n",
              "    <tr style=\"text-align: right;\">\n",
              "      <th></th>\n",
              "      <th>gym</th>\n",
              "      <th>lift</th>\n",
              "      <th>swimming_pool</th>\n",
              "      <th>negotiable</th>\n",
              "      <th>property_size</th>\n",
              "      <th>property_age</th>\n",
              "      <th>bathroom</th>\n",
              "      <th>cup_board</th>\n",
              "      <th>floor</th>\n",
              "      <th>total_floor</th>\n",
              "      <th>balconies</th>\n",
              "      <th>rent</th>\n",
              "    </tr>\n",
              "  </thead>\n",
              "  <tbody>\n",
              "    <tr>\n",
              "      <th>count</th>\n",
              "      <td>20500.000000</td>\n",
              "      <td>20500.000000</td>\n",
              "      <td>20500.000000</td>\n",
              "      <td>20500.000000</td>\n",
              "      <td>20500.000000</td>\n",
              "      <td>20500.000000</td>\n",
              "      <td>20500.000000</td>\n",
              "      <td>20500.000000</td>\n",
              "      <td>20500.000000</td>\n",
              "      <td>20500.000000</td>\n",
              "      <td>20500.000000</td>\n",
              "      <td>20500.000000</td>\n",
              "    </tr>\n",
              "    <tr>\n",
              "      <th>mean</th>\n",
              "      <td>0.226732</td>\n",
              "      <td>0.361463</td>\n",
              "      <td>0.174927</td>\n",
              "      <td>0.711512</td>\n",
              "      <td>1061.829463</td>\n",
              "      <td>5.770634</td>\n",
              "      <td>1.858146</td>\n",
              "      <td>4.553512</td>\n",
              "      <td>1.873561</td>\n",
              "      <td>3.801610</td>\n",
              "      <td>1.148976</td>\n",
              "      <td>19053.602195</td>\n",
              "    </tr>\n",
              "    <tr>\n",
              "      <th>std</th>\n",
              "      <td>0.418728</td>\n",
              "      <td>0.480436</td>\n",
              "      <td>0.379914</td>\n",
              "      <td>0.453070</td>\n",
              "      <td>591.419631</td>\n",
              "      <td>6.350271</td>\n",
              "      <td>0.710822</td>\n",
              "      <td>335.416267</td>\n",
              "      <td>2.184927</td>\n",
              "      <td>3.185748</td>\n",
              "      <td>0.993835</td>\n",
              "      <td>8433.949300</td>\n",
              "    </tr>\n",
              "    <tr>\n",
              "      <th>min</th>\n",
              "      <td>0.000000</td>\n",
              "      <td>0.000000</td>\n",
              "      <td>0.000000</td>\n",
              "      <td>0.000000</td>\n",
              "      <td>1.000000</td>\n",
              "      <td>-1.000000</td>\n",
              "      <td>1.000000</td>\n",
              "      <td>0.000000</td>\n",
              "      <td>0.000000</td>\n",
              "      <td>0.000000</td>\n",
              "      <td>0.000000</td>\n",
              "      <td>8000.000000</td>\n",
              "    </tr>\n",
              "    <tr>\n",
              "      <th>25%</th>\n",
              "      <td>0.000000</td>\n",
              "      <td>0.000000</td>\n",
              "      <td>0.000000</td>\n",
              "      <td>0.000000</td>\n",
              "      <td>700.000000</td>\n",
              "      <td>1.000000</td>\n",
              "      <td>1.000000</td>\n",
              "      <td>1.000000</td>\n",
              "      <td>1.000000</td>\n",
              "      <td>2.000000</td>\n",
              "      <td>0.000000</td>\n",
              "      <td>12500.000000</td>\n",
              "    </tr>\n",
              "    <tr>\n",
              "      <th>50%</th>\n",
              "      <td>0.000000</td>\n",
              "      <td>0.000000</td>\n",
              "      <td>0.000000</td>\n",
              "      <td>1.000000</td>\n",
              "      <td>1047.000000</td>\n",
              "      <td>5.000000</td>\n",
              "      <td>2.000000</td>\n",
              "      <td>2.000000</td>\n",
              "      <td>1.000000</td>\n",
              "      <td>3.000000</td>\n",
              "      <td>1.000000</td>\n",
              "      <td>17500.000000</td>\n",
              "    </tr>\n",
              "    <tr>\n",
              "      <th>75%</th>\n",
              "      <td>0.000000</td>\n",
              "      <td>1.000000</td>\n",
              "      <td>0.000000</td>\n",
              "      <td>1.000000</td>\n",
              "      <td>1281.000000</td>\n",
              "      <td>10.000000</td>\n",
              "      <td>2.000000</td>\n",
              "      <td>3.000000</td>\n",
              "      <td>2.000000</td>\n",
              "      <td>4.000000</td>\n",
              "      <td>2.000000</td>\n",
              "      <td>24000.000000</td>\n",
              "    </tr>\n",
              "    <tr>\n",
              "      <th>max</th>\n",
              "      <td>1.000000</td>\n",
              "      <td>1.000000</td>\n",
              "      <td>1.000000</td>\n",
              "      <td>1.000000</td>\n",
              "      <td>50000.000000</td>\n",
              "      <td>400.000000</td>\n",
              "      <td>21.000000</td>\n",
              "      <td>48026.000000</td>\n",
              "      <td>25.000000</td>\n",
              "      <td>26.000000</td>\n",
              "      <td>13.000000</td>\n",
              "      <td>50000.000000</td>\n",
              "    </tr>\n",
              "  </tbody>\n",
              "</table>\n",
              "</div>\n",
              "      <button class=\"colab-df-convert\" onclick=\"convertToInteractive('df-a1b03656-d68a-4b05-94f1-d82a0e3813d1')\"\n",
              "              title=\"Convert this dataframe to an interactive table.\"\n",
              "              style=\"display:none;\">\n",
              "        \n",
              "  <svg xmlns=\"http://www.w3.org/2000/svg\" height=\"24px\"viewBox=\"0 0 24 24\"\n",
              "       width=\"24px\">\n",
              "    <path d=\"M0 0h24v24H0V0z\" fill=\"none\"/>\n",
              "    <path d=\"M18.56 5.44l.94 2.06.94-2.06 2.06-.94-2.06-.94-.94-2.06-.94 2.06-2.06.94zm-11 1L8.5 8.5l.94-2.06 2.06-.94-2.06-.94L8.5 2.5l-.94 2.06-2.06.94zm10 10l.94 2.06.94-2.06 2.06-.94-2.06-.94-.94-2.06-.94 2.06-2.06.94z\"/><path d=\"M17.41 7.96l-1.37-1.37c-.4-.4-.92-.59-1.43-.59-.52 0-1.04.2-1.43.59L10.3 9.45l-7.72 7.72c-.78.78-.78 2.05 0 2.83L4 21.41c.39.39.9.59 1.41.59.51 0 1.02-.2 1.41-.59l7.78-7.78 2.81-2.81c.8-.78.8-2.07 0-2.86zM5.41 20L4 18.59l7.72-7.72 1.47 1.35L5.41 20z\"/>\n",
              "  </svg>\n",
              "      </button>\n",
              "      \n",
              "  <style>\n",
              "    .colab-df-container {\n",
              "      display:flex;\n",
              "      flex-wrap:wrap;\n",
              "      gap: 12px;\n",
              "    }\n",
              "\n",
              "    .colab-df-convert {\n",
              "      background-color: #E8F0FE;\n",
              "      border: none;\n",
              "      border-radius: 50%;\n",
              "      cursor: pointer;\n",
              "      display: none;\n",
              "      fill: #1967D2;\n",
              "      height: 32px;\n",
              "      padding: 0 0 0 0;\n",
              "      width: 32px;\n",
              "    }\n",
              "\n",
              "    .colab-df-convert:hover {\n",
              "      background-color: #E2EBFA;\n",
              "      box-shadow: 0px 1px 2px rgba(60, 64, 67, 0.3), 0px 1px 3px 1px rgba(60, 64, 67, 0.15);\n",
              "      fill: #174EA6;\n",
              "    }\n",
              "\n",
              "    [theme=dark] .colab-df-convert {\n",
              "      background-color: #3B4455;\n",
              "      fill: #D2E3FC;\n",
              "    }\n",
              "\n",
              "    [theme=dark] .colab-df-convert:hover {\n",
              "      background-color: #434B5C;\n",
              "      box-shadow: 0px 1px 3px 1px rgba(0, 0, 0, 0.15);\n",
              "      filter: drop-shadow(0px 1px 2px rgba(0, 0, 0, 0.3));\n",
              "      fill: #FFFFFF;\n",
              "    }\n",
              "  </style>\n",
              "\n",
              "      <script>\n",
              "        const buttonEl =\n",
              "          document.querySelector('#df-a1b03656-d68a-4b05-94f1-d82a0e3813d1 button.colab-df-convert');\n",
              "        buttonEl.style.display =\n",
              "          google.colab.kernel.accessAllowed ? 'block' : 'none';\n",
              "\n",
              "        async function convertToInteractive(key) {\n",
              "          const element = document.querySelector('#df-a1b03656-d68a-4b05-94f1-d82a0e3813d1');\n",
              "          const dataTable =\n",
              "            await google.colab.kernel.invokeFunction('convertToInteractive',\n",
              "                                                     [key], {});\n",
              "          if (!dataTable) return;\n",
              "\n",
              "          const docLinkHtml = 'Like what you see? Visit the ' +\n",
              "            '<a target=\"_blank\" href=https://colab.research.google.com/notebooks/data_table.ipynb>data table notebook</a>'\n",
              "            + ' to learn more about interactive tables.';\n",
              "          element.innerHTML = '';\n",
              "          dataTable['output_type'] = 'display_data';\n",
              "          await google.colab.output.renderOutput(dataTable, element);\n",
              "          const docLink = document.createElement('div');\n",
              "          docLink.innerHTML = docLinkHtml;\n",
              "          element.appendChild(docLink);\n",
              "        }\n",
              "      </script>\n",
              "    </div>\n",
              "  </div>\n",
              "  "
            ]
          },
          "metadata": {},
          "execution_count": 217
        }
      ]
    },
    {
      "cell_type": "markdown",
      "source": [
        "# Anomalies to note: \n",
        "there are a few houses with 21 bathrooms\n",
        "\n",
        "cupboard column has value 48026\n",
        "\n",
        "there are houses with 13 balconies\n",
        "\n",
        "\n",
        "\n",
        "## All of these anomalies must be taken care of during model building \n"
      ],
      "metadata": {
        "id": "H9v7FVwa1V-8"
      }
    },
    {
      "cell_type": "markdown",
      "source": [
        "# Removing outliers"
      ],
      "metadata": {
        "id": "hqPmRkUZOF2e"
      }
    },
    {
      "cell_type": "code",
      "source": [
        "df1=df1[df1[\"bathroom\"] < 10]\n",
        "df1=df1[df1[\"cup_board\"]<20]\n",
        "df1=df1[df1[\"balconies\"]<5]"
      ],
      "metadata": {
        "id": "2leNKuRO1_Yw"
      },
      "execution_count": 345,
      "outputs": []
    },
    {
      "cell_type": "markdown",
      "source": [
        "# Encoding the categorical fields"
      ],
      "metadata": {
        "id": "kl6zTuXTOMCM"
      }
    },
    {
      "cell_type": "code",
      "source": [
        "for ind in df1.index:\n",
        "    # print(df['Name'][ind], df['Stream'][ind])\n",
        "    df1['building_type'][ind]=build_dict[df1['building_type'][ind]]\n",
        "\n",
        "\n"
      ],
      "metadata": {
        "colab": {
          "base_uri": "https://localhost:8080/"
        },
        "id": "85EHsxgiOyEb",
        "outputId": "93d92be9-aeb9-4a43-eb4c-8cfad72ca177"
      },
      "execution_count": 219,
      "outputs": [
        {
          "output_type": "stream",
          "name": "stderr",
          "text": [
            "/usr/local/lib/python3.7/dist-packages/ipykernel_launcher.py:3: SettingWithCopyWarning: \n",
            "A value is trying to be set on a copy of a slice from a DataFrame\n",
            "\n",
            "See the caveats in the documentation: https://pandas.pydata.org/pandas-docs/stable/user_guide/indexing.html#returning-a-view-versus-a-copy\n",
            "  This is separate from the ipykernel package so we can avoid doing imports until\n"
          ]
        }
      ]
    },
    {
      "cell_type": "code",
      "source": [
        "type_dict"
      ],
      "metadata": {
        "colab": {
          "base_uri": "https://localhost:8080/"
        },
        "id": "VgDgaVkfRotP",
        "outputId": "4ba5f9ab-98e9-4a55-c234-3995fd89169c"
      },
      "execution_count": 220,
      "outputs": [
        {
          "output_type": "execute_result",
          "data": {
            "text/plain": [
              "{'BHK4PLUS': 5, 'BHK4': 4, 'BHK3': 2, 'BHK2': 2, 'BHK1': 1, 'RK1': 0}"
            ]
          },
          "metadata": {},
          "execution_count": 220
        }
      ]
    },
    {
      "cell_type": "code",
      "source": [
        "%%time\n",
        "for ind in df1.index:\n",
        "    df1['type'][ind]=type_dict[df1['type'][ind]]\n",
        "   \n",
        "\n"
      ],
      "metadata": {
        "colab": {
          "base_uri": "https://localhost:8080/"
        },
        "id": "pqmr4MCkQGtb",
        "outputId": "0dacdf84-59f0-47a5-a8f3-67af41114013"
      },
      "execution_count": 221,
      "outputs": [
        {
          "output_type": "stream",
          "name": "stderr",
          "text": [
            "/usr/local/lib/python3.7/dist-packages/ipykernel_launcher.py:6: SettingWithCopyWarning: \n",
            "A value is trying to be set on a copy of a slice from a DataFrame\n",
            "\n",
            "See the caveats in the documentation: https://pandas.pydata.org/pandas-docs/stable/user_guide/indexing.html#returning-a-view-versus-a-copy\n",
            "  \n"
          ]
        },
        {
          "output_type": "stream",
          "name": "stdout",
          "text": [
            "CPU times: user 7.48 s, sys: 143 ms, total: 7.62 s\n",
            "Wall time: 9.42 s\n"
          ]
        }
      ]
    },
    {
      "cell_type": "code",
      "source": [
        "furnish_dict"
      ],
      "metadata": {
        "colab": {
          "base_uri": "https://localhost:8080/"
        },
        "id": "Ee8a-Pq6Ryr1",
        "outputId": "2c78207b-9b6a-4563-b0dd-5b41ce30ee33"
      },
      "execution_count": 222,
      "outputs": [
        {
          "output_type": "execute_result",
          "data": {
            "text/plain": [
              "{'FULLY_FURNISHED': 2, 'SEMI_FURNISHED': 1, 'NOT_FURNISHED': 0}"
            ]
          },
          "metadata": {},
          "execution_count": 222
        }
      ]
    },
    {
      "cell_type": "code",
      "source": [
        "%%time\n",
        "for ind in df1.index:\n",
        "    df1['furnishing'][ind]=furnish_dict[df1['furnishing'][ind]]"
      ],
      "metadata": {
        "colab": {
          "base_uri": "https://localhost:8080/"
        },
        "id": "O_GkBUBdRuF5",
        "outputId": "43e3cee3-1aaa-45fe-97e0-ce4447e8ac03"
      },
      "execution_count": 223,
      "outputs": [
        {
          "output_type": "stream",
          "name": "stderr",
          "text": [
            "/usr/local/lib/python3.7/dist-packages/ipykernel_launcher.py:2: SettingWithCopyWarning: \n",
            "A value is trying to be set on a copy of a slice from a DataFrame\n",
            "\n",
            "See the caveats in the documentation: https://pandas.pydata.org/pandas-docs/stable/user_guide/indexing.html#returning-a-view-versus-a-copy\n",
            "  \n"
          ]
        },
        {
          "output_type": "stream",
          "name": "stdout",
          "text": [
            "CPU times: user 6.4 s, sys: 310 ms, total: 6.71 s\n",
            "Wall time: 7.1 s\n"
          ]
        }
      ]
    },
    {
      "cell_type": "code",
      "source": [
        "%%time\n",
        "for ind in df1.index:\n",
        "    df1['water_supply'][ind]=water_dict[df1['water_supply'][ind]]"
      ],
      "metadata": {
        "colab": {
          "base_uri": "https://localhost:8080/"
        },
        "id": "WiRagSMIR4B-",
        "outputId": "0409d85b-28a5-4557-e8ea-085950cc1e67"
      },
      "execution_count": 224,
      "outputs": [
        {
          "output_type": "stream",
          "name": "stderr",
          "text": [
            "/usr/local/lib/python3.7/dist-packages/ipykernel_launcher.py:2: SettingWithCopyWarning: \n",
            "A value is trying to be set on a copy of a slice from a DataFrame\n",
            "\n",
            "See the caveats in the documentation: https://pandas.pydata.org/pandas-docs/stable/user_guide/indexing.html#returning-a-view-versus-a-copy\n",
            "  \n"
          ]
        },
        {
          "output_type": "stream",
          "name": "stdout",
          "text": [
            "CPU times: user 5.75 s, sys: 416 ms, total: 6.16 s\n",
            "Wall time: 5.57 s\n"
          ]
        }
      ]
    },
    {
      "cell_type": "code",
      "source": [
        "%%time\n",
        "for ind in df1.index:\n",
        "    df1['parking'][ind]=park_dict[df1['parking'][ind]]"
      ],
      "metadata": {
        "colab": {
          "base_uri": "https://localhost:8080/"
        },
        "id": "Yzm8EP8pR8UA",
        "outputId": "eb64e08a-05e7-43af-a4bb-c85f9111fb14"
      },
      "execution_count": 225,
      "outputs": [
        {
          "output_type": "stream",
          "name": "stderr",
          "text": [
            "/usr/local/lib/python3.7/dist-packages/ipykernel_launcher.py:2: SettingWithCopyWarning: \n",
            "A value is trying to be set on a copy of a slice from a DataFrame\n",
            "\n",
            "See the caveats in the documentation: https://pandas.pydata.org/pandas-docs/stable/user_guide/indexing.html#returning-a-view-versus-a-copy\n",
            "  \n"
          ]
        },
        {
          "output_type": "stream",
          "name": "stdout",
          "text": [
            "CPU times: user 5.57 s, sys: 370 ms, total: 5.94 s\n",
            "Wall time: 5.43 s\n"
          ]
        }
      ]
    },
    {
      "cell_type": "code",
      "source": [
        "face_dict"
      ],
      "metadata": {
        "colab": {
          "base_uri": "https://localhost:8080/"
        },
        "id": "CrWLolfNTQcY",
        "outputId": "d64b7fa5-305d-478f-acb0-ec23f99652b4"
      },
      "execution_count": 226,
      "outputs": [
        {
          "output_type": "execute_result",
          "data": {
            "text/plain": [
              "{'N': 7, 'E': 6, 'NE': 5, 'W': 4, 'NW': 3, 'SE': 2, 'SW': 1, 'S': 0}"
            ]
          },
          "metadata": {},
          "execution_count": 226
        }
      ]
    },
    {
      "cell_type": "code",
      "source": [
        "for ind in df1.index:\n",
        "    df1['facing'][ind]=face_dict[df1['facing'][ind]]"
      ],
      "metadata": {
        "colab": {
          "base_uri": "https://localhost:8080/"
        },
        "id": "XMPIaDXXTSOK",
        "outputId": "e6abf445-e66d-4ebd-ceb3-18bd684eceb8"
      },
      "execution_count": 227,
      "outputs": [
        {
          "output_type": "stream",
          "name": "stderr",
          "text": [
            "/usr/local/lib/python3.7/dist-packages/ipykernel_launcher.py:2: SettingWithCopyWarning: \n",
            "A value is trying to be set on a copy of a slice from a DataFrame\n",
            "\n",
            "See the caveats in the documentation: https://pandas.pydata.org/pandas-docs/stable/user_guide/indexing.html#returning-a-view-versus-a-copy\n",
            "  \n"
          ]
        }
      ]
    },
    {
      "cell_type": "code",
      "source": [
        "df1.info()"
      ],
      "metadata": {
        "colab": {
          "base_uri": "https://localhost:8080/"
        },
        "id": "gNLJgInOTfft",
        "outputId": "3e903088-f1c7-4ea9-ccc9-6b58d49d87d7"
      },
      "execution_count": 229,
      "outputs": [
        {
          "output_type": "stream",
          "name": "stdout",
          "text": [
            "<class 'pandas.core.frame.DataFrame'>\n",
            "Int64Index: 20445 entries, 0 to 20499\n",
            "Data columns (total 19 columns):\n",
            " #   Column         Non-Null Count  Dtype \n",
            "---  ------         --------------  ----- \n",
            " 0   id             20445 non-null  object\n",
            " 1   type           20445 non-null  object\n",
            " 2   gym            20445 non-null  int64 \n",
            " 3   lift           20445 non-null  int64 \n",
            " 4   swimming_pool  20445 non-null  int64 \n",
            " 5   negotiable     20445 non-null  int64 \n",
            " 6   furnishing     20445 non-null  object\n",
            " 7   parking        20445 non-null  object\n",
            " 8   property_size  20445 non-null  int64 \n",
            " 9   property_age   20445 non-null  int64 \n",
            " 10  bathroom       20445 non-null  int64 \n",
            " 11  facing         20445 non-null  object\n",
            " 12  cup_board      20445 non-null  int64 \n",
            " 13  floor          20445 non-null  int64 \n",
            " 14  total_floor    20445 non-null  int64 \n",
            " 15  water_supply   20445 non-null  object\n",
            " 16  building_type  20445 non-null  object\n",
            " 17  balconies      20445 non-null  int64 \n",
            " 18  rent           20445 non-null  int64 \n",
            "dtypes: int64(12), object(7)\n",
            "memory usage: 3.6+ MB\n"
          ]
        }
      ]
    },
    {
      "cell_type": "code",
      "source": [
        "## let us parse all the fields as integers\n",
        "df1['type'] = pd.to_numeric(df1['type'])\n",
        "df1['furnishing'] = pd.to_numeric(df1['furnishing'])\n",
        "df1['parking'] = pd.to_numeric(df1['parking'])\n",
        "df1['facing'] = pd.to_numeric(df1['facing'])\n",
        "df1['water_supply'] = pd.to_numeric(df1['water_supply'])\n",
        "df1['building_type'] = pd.to_numeric(df1['building_type'])\n",
        "\n",
        "\n",
        "\n",
        "\n"
      ],
      "metadata": {
        "id": "bELXV4AvT1nx"
      },
      "execution_count": 230,
      "outputs": []
    },
    {
      "cell_type": "code",
      "source": [
        "df1.info()"
      ],
      "metadata": {
        "colab": {
          "base_uri": "https://localhost:8080/"
        },
        "id": "mwFI4JCqUQoO",
        "outputId": "dfddf138-75d7-41bc-e419-39fd2d7029eb"
      },
      "execution_count": 231,
      "outputs": [
        {
          "output_type": "stream",
          "name": "stdout",
          "text": [
            "<class 'pandas.core.frame.DataFrame'>\n",
            "Int64Index: 20445 entries, 0 to 20499\n",
            "Data columns (total 19 columns):\n",
            " #   Column         Non-Null Count  Dtype \n",
            "---  ------         --------------  ----- \n",
            " 0   id             20445 non-null  object\n",
            " 1   type           20445 non-null  int64 \n",
            " 2   gym            20445 non-null  int64 \n",
            " 3   lift           20445 non-null  int64 \n",
            " 4   swimming_pool  20445 non-null  int64 \n",
            " 5   negotiable     20445 non-null  int64 \n",
            " 6   furnishing     20445 non-null  int64 \n",
            " 7   parking        20445 non-null  int64 \n",
            " 8   property_size  20445 non-null  int64 \n",
            " 9   property_age   20445 non-null  int64 \n",
            " 10  bathroom       20445 non-null  int64 \n",
            " 11  facing         20445 non-null  int64 \n",
            " 12  cup_board      20445 non-null  int64 \n",
            " 13  floor          20445 non-null  int64 \n",
            " 14  total_floor    20445 non-null  int64 \n",
            " 15  water_supply   20445 non-null  int64 \n",
            " 16  building_type  20445 non-null  int64 \n",
            " 17  balconies      20445 non-null  int64 \n",
            " 18  rent           20445 non-null  int64 \n",
            "dtypes: int64(18), object(1)\n",
            "memory usage: 3.6+ MB\n"
          ]
        }
      ]
    },
    {
      "cell_type": "code",
      "source": [
        "# # df1.to_csv('processeddf.csv')\n",
        "\n",
        "# from google.colab import files\n",
        "\n",
        "# df1.to_csv('processeddf.csv')\n",
        "# files.download('processeddf.csv')"
      ],
      "metadata": {
        "id": "1YP_iTbIUVId"
      },
      "execution_count": 232,
      "outputs": []
    },
    {
      "cell_type": "markdown",
      "source": [
        "# Splitting the training set into train and val"
      ],
      "metadata": {
        "id": "aUOv1yVWOU2F"
      }
    },
    {
      "cell_type": "code",
      "source": [
        "from sklearn.model_selection import train_test_split"
      ],
      "metadata": {
        "id": "2Kn_RIy80qiB"
      },
      "execution_count": 233,
      "outputs": []
    },
    {
      "cell_type": "code",
      "source": [
        "train_df1,val_df1= train_test_split(df1,test_size=0.2,random_state=42)"
      ],
      "metadata": {
        "id": "4qiWc_un0v3E"
      },
      "execution_count": 234,
      "outputs": []
    },
    {
      "cell_type": "code",
      "source": [
        "len(train_df1)"
      ],
      "metadata": {
        "colab": {
          "base_uri": "https://localhost:8080/"
        },
        "id": "U22kXPJL0zQy",
        "outputId": "1ba9b939-1734-47c2-c90c-1f1a61bd5268"
      },
      "execution_count": 235,
      "outputs": [
        {
          "output_type": "execute_result",
          "data": {
            "text/plain": [
              "16356"
            ]
          },
          "metadata": {},
          "execution_count": 235
        }
      ]
    },
    {
      "cell_type": "code",
      "source": [
        "len(val_df1)"
      ],
      "metadata": {
        "colab": {
          "base_uri": "https://localhost:8080/"
        },
        "id": "nSl-HBIF04ys",
        "outputId": "9bc14f8c-6074-46da-b166-51eaadafe7c3"
      },
      "execution_count": 236,
      "outputs": [
        {
          "output_type": "execute_result",
          "data": {
            "text/plain": [
              "4089"
            ]
          },
          "metadata": {},
          "execution_count": 236
        }
      ]
    },
    {
      "cell_type": "code",
      "source": [
        "## we only need records where all fields are non null\n",
        "train_df1=train_df1.dropna()\n",
        "val_df1=val_df1.dropna()"
      ],
      "metadata": {
        "id": "s4ExnKBY06NF"
      },
      "execution_count": 237,
      "outputs": []
    },
    {
      "cell_type": "code",
      "source": [
        "print(len(train_df1))\n",
        "print(len(val_df1))"
      ],
      "metadata": {
        "colab": {
          "base_uri": "https://localhost:8080/"
        },
        "id": "TAGkXTlZ1FPM",
        "outputId": "c620c49f-9844-46f6-a662-82c8ae4f9e0f"
      },
      "execution_count": 238,
      "outputs": [
        {
          "output_type": "stream",
          "name": "stdout",
          "text": [
            "16356\n",
            "4089\n"
          ]
        }
      ]
    },
    {
      "cell_type": "code",
      "source": [
        "train_df1.head(5)"
      ],
      "metadata": {
        "colab": {
          "base_uri": "https://localhost:8080/",
          "height": 270
        },
        "id": "_y7uowPB1KLJ",
        "outputId": "a29f9a9f-b47b-4a8d-da8d-5ecb975a1229"
      },
      "execution_count": 239,
      "outputs": [
        {
          "output_type": "execute_result",
          "data": {
            "text/plain": [
              "                                     id  type  gym  lift  swimming_pool  \\\n",
              "10087  ff8081815239c00501523afa9bd91094     1    0     0              0   \n",
              "14619  ff8081815c022dd3015c053bf6886366     2    0     0              0   \n",
              "5368   ff8081814fdb74dc014fde80bf640994     2    0     0              0   \n",
              "14832  ff80818162a582350162a8b4a5880000     2    1     1              0   \n",
              "12448  ff80818157bd3a640157bd5fa534033e     0    0     0              0   \n",
              "\n",
              "       negotiable  furnishing  parking  property_size  property_age  bathroom  \\\n",
              "10087           0           0        1            600             1         1   \n",
              "14619           1           1        3           1000             0         2   \n",
              "5368            1           1        3           1055             1         2   \n",
              "14832           0           1        2           1200             9         2   \n",
              "12448           0           1        1            230             3         1   \n",
              "\n",
              "       facing  cup_board  floor  total_floor  water_supply  building_type  \\\n",
              "10087       6          0      1            3             1              2   \n",
              "14619       6          2      0           13             1              1   \n",
              "5368        6          4      3            3             0              1   \n",
              "14832       4          2      2            4             2              1   \n",
              "12448       6          1      0            3             1              3   \n",
              "\n",
              "       balconies   rent  \n",
              "10087          0   8500  \n",
              "14619          2  25000  \n",
              "5368           1  21500  \n",
              "14832          0  22500  \n",
              "12448          0   8000  "
            ],
            "text/html": [
              "\n",
              "  <div id=\"df-2521ab7b-0d4e-4bb2-b2bb-e83df7109121\">\n",
              "    <div class=\"colab-df-container\">\n",
              "      <div>\n",
              "<style scoped>\n",
              "    .dataframe tbody tr th:only-of-type {\n",
              "        vertical-align: middle;\n",
              "    }\n",
              "\n",
              "    .dataframe tbody tr th {\n",
              "        vertical-align: top;\n",
              "    }\n",
              "\n",
              "    .dataframe thead th {\n",
              "        text-align: right;\n",
              "    }\n",
              "</style>\n",
              "<table border=\"1\" class=\"dataframe\">\n",
              "  <thead>\n",
              "    <tr style=\"text-align: right;\">\n",
              "      <th></th>\n",
              "      <th>id</th>\n",
              "      <th>type</th>\n",
              "      <th>gym</th>\n",
              "      <th>lift</th>\n",
              "      <th>swimming_pool</th>\n",
              "      <th>negotiable</th>\n",
              "      <th>furnishing</th>\n",
              "      <th>parking</th>\n",
              "      <th>property_size</th>\n",
              "      <th>property_age</th>\n",
              "      <th>bathroom</th>\n",
              "      <th>facing</th>\n",
              "      <th>cup_board</th>\n",
              "      <th>floor</th>\n",
              "      <th>total_floor</th>\n",
              "      <th>water_supply</th>\n",
              "      <th>building_type</th>\n",
              "      <th>balconies</th>\n",
              "      <th>rent</th>\n",
              "    </tr>\n",
              "  </thead>\n",
              "  <tbody>\n",
              "    <tr>\n",
              "      <th>10087</th>\n",
              "      <td>ff8081815239c00501523afa9bd91094</td>\n",
              "      <td>1</td>\n",
              "      <td>0</td>\n",
              "      <td>0</td>\n",
              "      <td>0</td>\n",
              "      <td>0</td>\n",
              "      <td>0</td>\n",
              "      <td>1</td>\n",
              "      <td>600</td>\n",
              "      <td>1</td>\n",
              "      <td>1</td>\n",
              "      <td>6</td>\n",
              "      <td>0</td>\n",
              "      <td>1</td>\n",
              "      <td>3</td>\n",
              "      <td>1</td>\n",
              "      <td>2</td>\n",
              "      <td>0</td>\n",
              "      <td>8500</td>\n",
              "    </tr>\n",
              "    <tr>\n",
              "      <th>14619</th>\n",
              "      <td>ff8081815c022dd3015c053bf6886366</td>\n",
              "      <td>2</td>\n",
              "      <td>0</td>\n",
              "      <td>0</td>\n",
              "      <td>0</td>\n",
              "      <td>1</td>\n",
              "      <td>1</td>\n",
              "      <td>3</td>\n",
              "      <td>1000</td>\n",
              "      <td>0</td>\n",
              "      <td>2</td>\n",
              "      <td>6</td>\n",
              "      <td>2</td>\n",
              "      <td>0</td>\n",
              "      <td>13</td>\n",
              "      <td>1</td>\n",
              "      <td>1</td>\n",
              "      <td>2</td>\n",
              "      <td>25000</td>\n",
              "    </tr>\n",
              "    <tr>\n",
              "      <th>5368</th>\n",
              "      <td>ff8081814fdb74dc014fde80bf640994</td>\n",
              "      <td>2</td>\n",
              "      <td>0</td>\n",
              "      <td>0</td>\n",
              "      <td>0</td>\n",
              "      <td>1</td>\n",
              "      <td>1</td>\n",
              "      <td>3</td>\n",
              "      <td>1055</td>\n",
              "      <td>1</td>\n",
              "      <td>2</td>\n",
              "      <td>6</td>\n",
              "      <td>4</td>\n",
              "      <td>3</td>\n",
              "      <td>3</td>\n",
              "      <td>0</td>\n",
              "      <td>1</td>\n",
              "      <td>1</td>\n",
              "      <td>21500</td>\n",
              "    </tr>\n",
              "    <tr>\n",
              "      <th>14832</th>\n",
              "      <td>ff80818162a582350162a8b4a5880000</td>\n",
              "      <td>2</td>\n",
              "      <td>1</td>\n",
              "      <td>1</td>\n",
              "      <td>0</td>\n",
              "      <td>0</td>\n",
              "      <td>1</td>\n",
              "      <td>2</td>\n",
              "      <td>1200</td>\n",
              "      <td>9</td>\n",
              "      <td>2</td>\n",
              "      <td>4</td>\n",
              "      <td>2</td>\n",
              "      <td>2</td>\n",
              "      <td>4</td>\n",
              "      <td>2</td>\n",
              "      <td>1</td>\n",
              "      <td>0</td>\n",
              "      <td>22500</td>\n",
              "    </tr>\n",
              "    <tr>\n",
              "      <th>12448</th>\n",
              "      <td>ff80818157bd3a640157bd5fa534033e</td>\n",
              "      <td>0</td>\n",
              "      <td>0</td>\n",
              "      <td>0</td>\n",
              "      <td>0</td>\n",
              "      <td>0</td>\n",
              "      <td>1</td>\n",
              "      <td>1</td>\n",
              "      <td>230</td>\n",
              "      <td>3</td>\n",
              "      <td>1</td>\n",
              "      <td>6</td>\n",
              "      <td>1</td>\n",
              "      <td>0</td>\n",
              "      <td>3</td>\n",
              "      <td>1</td>\n",
              "      <td>3</td>\n",
              "      <td>0</td>\n",
              "      <td>8000</td>\n",
              "    </tr>\n",
              "  </tbody>\n",
              "</table>\n",
              "</div>\n",
              "      <button class=\"colab-df-convert\" onclick=\"convertToInteractive('df-2521ab7b-0d4e-4bb2-b2bb-e83df7109121')\"\n",
              "              title=\"Convert this dataframe to an interactive table.\"\n",
              "              style=\"display:none;\">\n",
              "        \n",
              "  <svg xmlns=\"http://www.w3.org/2000/svg\" height=\"24px\"viewBox=\"0 0 24 24\"\n",
              "       width=\"24px\">\n",
              "    <path d=\"M0 0h24v24H0V0z\" fill=\"none\"/>\n",
              "    <path d=\"M18.56 5.44l.94 2.06.94-2.06 2.06-.94-2.06-.94-.94-2.06-.94 2.06-2.06.94zm-11 1L8.5 8.5l.94-2.06 2.06-.94-2.06-.94L8.5 2.5l-.94 2.06-2.06.94zm10 10l.94 2.06.94-2.06 2.06-.94-2.06-.94-.94-2.06-.94 2.06-2.06.94z\"/><path d=\"M17.41 7.96l-1.37-1.37c-.4-.4-.92-.59-1.43-.59-.52 0-1.04.2-1.43.59L10.3 9.45l-7.72 7.72c-.78.78-.78 2.05 0 2.83L4 21.41c.39.39.9.59 1.41.59.51 0 1.02-.2 1.41-.59l7.78-7.78 2.81-2.81c.8-.78.8-2.07 0-2.86zM5.41 20L4 18.59l7.72-7.72 1.47 1.35L5.41 20z\"/>\n",
              "  </svg>\n",
              "      </button>\n",
              "      \n",
              "  <style>\n",
              "    .colab-df-container {\n",
              "      display:flex;\n",
              "      flex-wrap:wrap;\n",
              "      gap: 12px;\n",
              "    }\n",
              "\n",
              "    .colab-df-convert {\n",
              "      background-color: #E8F0FE;\n",
              "      border: none;\n",
              "      border-radius: 50%;\n",
              "      cursor: pointer;\n",
              "      display: none;\n",
              "      fill: #1967D2;\n",
              "      height: 32px;\n",
              "      padding: 0 0 0 0;\n",
              "      width: 32px;\n",
              "    }\n",
              "\n",
              "    .colab-df-convert:hover {\n",
              "      background-color: #E2EBFA;\n",
              "      box-shadow: 0px 1px 2px rgba(60, 64, 67, 0.3), 0px 1px 3px 1px rgba(60, 64, 67, 0.15);\n",
              "      fill: #174EA6;\n",
              "    }\n",
              "\n",
              "    [theme=dark] .colab-df-convert {\n",
              "      background-color: #3B4455;\n",
              "      fill: #D2E3FC;\n",
              "    }\n",
              "\n",
              "    [theme=dark] .colab-df-convert:hover {\n",
              "      background-color: #434B5C;\n",
              "      box-shadow: 0px 1px 3px 1px rgba(0, 0, 0, 0.15);\n",
              "      filter: drop-shadow(0px 1px 2px rgba(0, 0, 0, 0.3));\n",
              "      fill: #FFFFFF;\n",
              "    }\n",
              "  </style>\n",
              "\n",
              "      <script>\n",
              "        const buttonEl =\n",
              "          document.querySelector('#df-2521ab7b-0d4e-4bb2-b2bb-e83df7109121 button.colab-df-convert');\n",
              "        buttonEl.style.display =\n",
              "          google.colab.kernel.accessAllowed ? 'block' : 'none';\n",
              "\n",
              "        async function convertToInteractive(key) {\n",
              "          const element = document.querySelector('#df-2521ab7b-0d4e-4bb2-b2bb-e83df7109121');\n",
              "          const dataTable =\n",
              "            await google.colab.kernel.invokeFunction('convertToInteractive',\n",
              "                                                     [key], {});\n",
              "          if (!dataTable) return;\n",
              "\n",
              "          const docLinkHtml = 'Like what you see? Visit the ' +\n",
              "            '<a target=\"_blank\" href=https://colab.research.google.com/notebooks/data_table.ipynb>data table notebook</a>'\n",
              "            + ' to learn more about interactive tables.';\n",
              "          element.innerHTML = '';\n",
              "          dataTable['output_type'] = 'display_data';\n",
              "          await google.colab.output.renderOutput(dataTable, element);\n",
              "          const docLink = document.createElement('div');\n",
              "          docLink.innerHTML = docLinkHtml;\n",
              "          element.appendChild(docLink);\n",
              "        }\n",
              "      </script>\n",
              "    </div>\n",
              "  </div>\n",
              "  "
            ]
          },
          "metadata": {},
          "execution_count": 239
        }
      ]
    },
    {
      "cell_type": "code",
      "source": [
        "val_df1.head(5)"
      ],
      "metadata": {
        "colab": {
          "base_uri": "https://localhost:8080/",
          "height": 270
        },
        "id": "b3V8Iqbm22st",
        "outputId": "0fe17aa1-060d-4b38-d5fc-f5f0ed883937"
      },
      "execution_count": 240,
      "outputs": [
        {
          "output_type": "execute_result",
          "data": {
            "text/plain": [
              "                                     id  type  gym  lift  swimming_pool  \\\n",
              "16330  ff8081816108a00501610915abc93a4b     2    1     1              1   \n",
              "7850   ff8081815aacc98e015aae15194752a5     2    0     0              0   \n",
              "13547  ff80818158de4fb60158dea009ce0ed2     0    0     0              0   \n",
              "5565   ff80818160204e9b0160267e7faf7a7f     2    0     0              0   \n",
              "10606  ff808181638d2a350163909b97eb7088     2    0     0              0   \n",
              "\n",
              "       negotiable  furnishing  parking  property_size  property_age  bathroom  \\\n",
              "16330           1           1        3           1505             1         2   \n",
              "7850            1           1        1            743            15         2   \n",
              "13547           0           1        1            200            10         1   \n",
              "5565            1           1        3           1000             0         2   \n",
              "10606           0           1        1            500            10         1   \n",
              "\n",
              "       facing  cup_board  floor  total_floor  water_supply  building_type  \\\n",
              "16330       7          3      3            5             1              1   \n",
              "7850        7          2      1            2             1              2   \n",
              "13547       4          1      0            3             1              3   \n",
              "5565        7          2      0            3             2              1   \n",
              "10606       0          2      1            3             2              1   \n",
              "\n",
              "       balconies   rent  \n",
              "16330          2  22000  \n",
              "7850           0  22000  \n",
              "13547          1   8250  \n",
              "5565           0  20000  \n",
              "10606          1  12500  "
            ],
            "text/html": [
              "\n",
              "  <div id=\"df-06d52c3f-b32e-485b-991e-5bc87bb027ec\">\n",
              "    <div class=\"colab-df-container\">\n",
              "      <div>\n",
              "<style scoped>\n",
              "    .dataframe tbody tr th:only-of-type {\n",
              "        vertical-align: middle;\n",
              "    }\n",
              "\n",
              "    .dataframe tbody tr th {\n",
              "        vertical-align: top;\n",
              "    }\n",
              "\n",
              "    .dataframe thead th {\n",
              "        text-align: right;\n",
              "    }\n",
              "</style>\n",
              "<table border=\"1\" class=\"dataframe\">\n",
              "  <thead>\n",
              "    <tr style=\"text-align: right;\">\n",
              "      <th></th>\n",
              "      <th>id</th>\n",
              "      <th>type</th>\n",
              "      <th>gym</th>\n",
              "      <th>lift</th>\n",
              "      <th>swimming_pool</th>\n",
              "      <th>negotiable</th>\n",
              "      <th>furnishing</th>\n",
              "      <th>parking</th>\n",
              "      <th>property_size</th>\n",
              "      <th>property_age</th>\n",
              "      <th>bathroom</th>\n",
              "      <th>facing</th>\n",
              "      <th>cup_board</th>\n",
              "      <th>floor</th>\n",
              "      <th>total_floor</th>\n",
              "      <th>water_supply</th>\n",
              "      <th>building_type</th>\n",
              "      <th>balconies</th>\n",
              "      <th>rent</th>\n",
              "    </tr>\n",
              "  </thead>\n",
              "  <tbody>\n",
              "    <tr>\n",
              "      <th>16330</th>\n",
              "      <td>ff8081816108a00501610915abc93a4b</td>\n",
              "      <td>2</td>\n",
              "      <td>1</td>\n",
              "      <td>1</td>\n",
              "      <td>1</td>\n",
              "      <td>1</td>\n",
              "      <td>1</td>\n",
              "      <td>3</td>\n",
              "      <td>1505</td>\n",
              "      <td>1</td>\n",
              "      <td>2</td>\n",
              "      <td>7</td>\n",
              "      <td>3</td>\n",
              "      <td>3</td>\n",
              "      <td>5</td>\n",
              "      <td>1</td>\n",
              "      <td>1</td>\n",
              "      <td>2</td>\n",
              "      <td>22000</td>\n",
              "    </tr>\n",
              "    <tr>\n",
              "      <th>7850</th>\n",
              "      <td>ff8081815aacc98e015aae15194752a5</td>\n",
              "      <td>2</td>\n",
              "      <td>0</td>\n",
              "      <td>0</td>\n",
              "      <td>0</td>\n",
              "      <td>1</td>\n",
              "      <td>1</td>\n",
              "      <td>1</td>\n",
              "      <td>743</td>\n",
              "      <td>15</td>\n",
              "      <td>2</td>\n",
              "      <td>7</td>\n",
              "      <td>2</td>\n",
              "      <td>1</td>\n",
              "      <td>2</td>\n",
              "      <td>1</td>\n",
              "      <td>2</td>\n",
              "      <td>0</td>\n",
              "      <td>22000</td>\n",
              "    </tr>\n",
              "    <tr>\n",
              "      <th>13547</th>\n",
              "      <td>ff80818158de4fb60158dea009ce0ed2</td>\n",
              "      <td>0</td>\n",
              "      <td>0</td>\n",
              "      <td>0</td>\n",
              "      <td>0</td>\n",
              "      <td>0</td>\n",
              "      <td>1</td>\n",
              "      <td>1</td>\n",
              "      <td>200</td>\n",
              "      <td>10</td>\n",
              "      <td>1</td>\n",
              "      <td>4</td>\n",
              "      <td>1</td>\n",
              "      <td>0</td>\n",
              "      <td>3</td>\n",
              "      <td>1</td>\n",
              "      <td>3</td>\n",
              "      <td>1</td>\n",
              "      <td>8250</td>\n",
              "    </tr>\n",
              "    <tr>\n",
              "      <th>5565</th>\n",
              "      <td>ff80818160204e9b0160267e7faf7a7f</td>\n",
              "      <td>2</td>\n",
              "      <td>0</td>\n",
              "      <td>0</td>\n",
              "      <td>0</td>\n",
              "      <td>1</td>\n",
              "      <td>1</td>\n",
              "      <td>3</td>\n",
              "      <td>1000</td>\n",
              "      <td>0</td>\n",
              "      <td>2</td>\n",
              "      <td>7</td>\n",
              "      <td>2</td>\n",
              "      <td>0</td>\n",
              "      <td>3</td>\n",
              "      <td>2</td>\n",
              "      <td>1</td>\n",
              "      <td>0</td>\n",
              "      <td>20000</td>\n",
              "    </tr>\n",
              "    <tr>\n",
              "      <th>10606</th>\n",
              "      <td>ff808181638d2a350163909b97eb7088</td>\n",
              "      <td>2</td>\n",
              "      <td>0</td>\n",
              "      <td>0</td>\n",
              "      <td>0</td>\n",
              "      <td>0</td>\n",
              "      <td>1</td>\n",
              "      <td>1</td>\n",
              "      <td>500</td>\n",
              "      <td>10</td>\n",
              "      <td>1</td>\n",
              "      <td>0</td>\n",
              "      <td>2</td>\n",
              "      <td>1</td>\n",
              "      <td>3</td>\n",
              "      <td>2</td>\n",
              "      <td>1</td>\n",
              "      <td>1</td>\n",
              "      <td>12500</td>\n",
              "    </tr>\n",
              "  </tbody>\n",
              "</table>\n",
              "</div>\n",
              "      <button class=\"colab-df-convert\" onclick=\"convertToInteractive('df-06d52c3f-b32e-485b-991e-5bc87bb027ec')\"\n",
              "              title=\"Convert this dataframe to an interactive table.\"\n",
              "              style=\"display:none;\">\n",
              "        \n",
              "  <svg xmlns=\"http://www.w3.org/2000/svg\" height=\"24px\"viewBox=\"0 0 24 24\"\n",
              "       width=\"24px\">\n",
              "    <path d=\"M0 0h24v24H0V0z\" fill=\"none\"/>\n",
              "    <path d=\"M18.56 5.44l.94 2.06.94-2.06 2.06-.94-2.06-.94-.94-2.06-.94 2.06-2.06.94zm-11 1L8.5 8.5l.94-2.06 2.06-.94-2.06-.94L8.5 2.5l-.94 2.06-2.06.94zm10 10l.94 2.06.94-2.06 2.06-.94-2.06-.94-.94-2.06-.94 2.06-2.06.94z\"/><path d=\"M17.41 7.96l-1.37-1.37c-.4-.4-.92-.59-1.43-.59-.52 0-1.04.2-1.43.59L10.3 9.45l-7.72 7.72c-.78.78-.78 2.05 0 2.83L4 21.41c.39.39.9.59 1.41.59.51 0 1.02-.2 1.41-.59l7.78-7.78 2.81-2.81c.8-.78.8-2.07 0-2.86zM5.41 20L4 18.59l7.72-7.72 1.47 1.35L5.41 20z\"/>\n",
              "  </svg>\n",
              "      </button>\n",
              "      \n",
              "  <style>\n",
              "    .colab-df-container {\n",
              "      display:flex;\n",
              "      flex-wrap:wrap;\n",
              "      gap: 12px;\n",
              "    }\n",
              "\n",
              "    .colab-df-convert {\n",
              "      background-color: #E8F0FE;\n",
              "      border: none;\n",
              "      border-radius: 50%;\n",
              "      cursor: pointer;\n",
              "      display: none;\n",
              "      fill: #1967D2;\n",
              "      height: 32px;\n",
              "      padding: 0 0 0 0;\n",
              "      width: 32px;\n",
              "    }\n",
              "\n",
              "    .colab-df-convert:hover {\n",
              "      background-color: #E2EBFA;\n",
              "      box-shadow: 0px 1px 2px rgba(60, 64, 67, 0.3), 0px 1px 3px 1px rgba(60, 64, 67, 0.15);\n",
              "      fill: #174EA6;\n",
              "    }\n",
              "\n",
              "    [theme=dark] .colab-df-convert {\n",
              "      background-color: #3B4455;\n",
              "      fill: #D2E3FC;\n",
              "    }\n",
              "\n",
              "    [theme=dark] .colab-df-convert:hover {\n",
              "      background-color: #434B5C;\n",
              "      box-shadow: 0px 1px 3px 1px rgba(0, 0, 0, 0.15);\n",
              "      filter: drop-shadow(0px 1px 2px rgba(0, 0, 0, 0.3));\n",
              "      fill: #FFFFFF;\n",
              "    }\n",
              "  </style>\n",
              "\n",
              "      <script>\n",
              "        const buttonEl =\n",
              "          document.querySelector('#df-06d52c3f-b32e-485b-991e-5bc87bb027ec button.colab-df-convert');\n",
              "        buttonEl.style.display =\n",
              "          google.colab.kernel.accessAllowed ? 'block' : 'none';\n",
              "\n",
              "        async function convertToInteractive(key) {\n",
              "          const element = document.querySelector('#df-06d52c3f-b32e-485b-991e-5bc87bb027ec');\n",
              "          const dataTable =\n",
              "            await google.colab.kernel.invokeFunction('convertToInteractive',\n",
              "                                                     [key], {});\n",
              "          if (!dataTable) return;\n",
              "\n",
              "          const docLinkHtml = 'Like what you see? Visit the ' +\n",
              "            '<a target=\"_blank\" href=https://colab.research.google.com/notebooks/data_table.ipynb>data table notebook</a>'\n",
              "            + ' to learn more about interactive tables.';\n",
              "          element.innerHTML = '';\n",
              "          dataTable['output_type'] = 'display_data';\n",
              "          await google.colab.output.renderOutput(dataTable, element);\n",
              "          const docLink = document.createElement('div');\n",
              "          docLink.innerHTML = docLinkHtml;\n",
              "          element.appendChild(docLink);\n",
              "        }\n",
              "      </script>\n",
              "    </div>\n",
              "  </div>\n",
              "  "
            ]
          },
          "metadata": {},
          "execution_count": 240
        }
      ]
    },
    {
      "cell_type": "code",
      "source": [
        "input_cols=['id',\n",
        " 'type',\n",
        " 'gym',\n",
        " 'lift',\n",
        " 'swimming_pool',\n",
        " 'negotiable',\n",
        " 'furnishing',\n",
        " 'parking',\n",
        " 'property_size',\n",
        " 'property_age',\n",
        " 'bathroom',\n",
        " 'facing',\n",
        " 'cup_board',\n",
        " 'floor',\n",
        " 'total_floor',\n",
        " 'water_supply',\n",
        " 'building_type',\n",
        " 'balconies',\n",
        " ]\n",
        "\n",
        " ## these are the fields we will use for this model"
      ],
      "metadata": {
        "id": "ieQElgur27K6"
      },
      "execution_count": 241,
      "outputs": []
    },
    {
      "cell_type": "code",
      "source": [
        "target_cols=['rent']"
      ],
      "metadata": {
        "id": "e9Eu_06c3J55"
      },
      "execution_count": 242,
      "outputs": []
    },
    {
      "cell_type": "code",
      "source": [
        "train_inputs1=train_df1[input_cols]\n",
        "train_inputs1.head(5)"
      ],
      "metadata": {
        "colab": {
          "base_uri": "https://localhost:8080/",
          "height": 270
        },
        "id": "WIbYBCZt3MAp",
        "outputId": "b5fd745f-ae30-422d-9fa9-7818711dfde1"
      },
      "execution_count": 243,
      "outputs": [
        {
          "output_type": "execute_result",
          "data": {
            "text/plain": [
              "                                     id  type  gym  lift  swimming_pool  \\\n",
              "10087  ff8081815239c00501523afa9bd91094     1    0     0              0   \n",
              "14619  ff8081815c022dd3015c053bf6886366     2    0     0              0   \n",
              "5368   ff8081814fdb74dc014fde80bf640994     2    0     0              0   \n",
              "14832  ff80818162a582350162a8b4a5880000     2    1     1              0   \n",
              "12448  ff80818157bd3a640157bd5fa534033e     0    0     0              0   \n",
              "\n",
              "       negotiable  furnishing  parking  property_size  property_age  bathroom  \\\n",
              "10087           0           0        1            600             1         1   \n",
              "14619           1           1        3           1000             0         2   \n",
              "5368            1           1        3           1055             1         2   \n",
              "14832           0           1        2           1200             9         2   \n",
              "12448           0           1        1            230             3         1   \n",
              "\n",
              "       facing  cup_board  floor  total_floor  water_supply  building_type  \\\n",
              "10087       6          0      1            3             1              2   \n",
              "14619       6          2      0           13             1              1   \n",
              "5368        6          4      3            3             0              1   \n",
              "14832       4          2      2            4             2              1   \n",
              "12448       6          1      0            3             1              3   \n",
              "\n",
              "       balconies  \n",
              "10087          0  \n",
              "14619          2  \n",
              "5368           1  \n",
              "14832          0  \n",
              "12448          0  "
            ],
            "text/html": [
              "\n",
              "  <div id=\"df-7506ef03-9f69-43b2-b6b2-164d1ffa475d\">\n",
              "    <div class=\"colab-df-container\">\n",
              "      <div>\n",
              "<style scoped>\n",
              "    .dataframe tbody tr th:only-of-type {\n",
              "        vertical-align: middle;\n",
              "    }\n",
              "\n",
              "    .dataframe tbody tr th {\n",
              "        vertical-align: top;\n",
              "    }\n",
              "\n",
              "    .dataframe thead th {\n",
              "        text-align: right;\n",
              "    }\n",
              "</style>\n",
              "<table border=\"1\" class=\"dataframe\">\n",
              "  <thead>\n",
              "    <tr style=\"text-align: right;\">\n",
              "      <th></th>\n",
              "      <th>id</th>\n",
              "      <th>type</th>\n",
              "      <th>gym</th>\n",
              "      <th>lift</th>\n",
              "      <th>swimming_pool</th>\n",
              "      <th>negotiable</th>\n",
              "      <th>furnishing</th>\n",
              "      <th>parking</th>\n",
              "      <th>property_size</th>\n",
              "      <th>property_age</th>\n",
              "      <th>bathroom</th>\n",
              "      <th>facing</th>\n",
              "      <th>cup_board</th>\n",
              "      <th>floor</th>\n",
              "      <th>total_floor</th>\n",
              "      <th>water_supply</th>\n",
              "      <th>building_type</th>\n",
              "      <th>balconies</th>\n",
              "    </tr>\n",
              "  </thead>\n",
              "  <tbody>\n",
              "    <tr>\n",
              "      <th>10087</th>\n",
              "      <td>ff8081815239c00501523afa9bd91094</td>\n",
              "      <td>1</td>\n",
              "      <td>0</td>\n",
              "      <td>0</td>\n",
              "      <td>0</td>\n",
              "      <td>0</td>\n",
              "      <td>0</td>\n",
              "      <td>1</td>\n",
              "      <td>600</td>\n",
              "      <td>1</td>\n",
              "      <td>1</td>\n",
              "      <td>6</td>\n",
              "      <td>0</td>\n",
              "      <td>1</td>\n",
              "      <td>3</td>\n",
              "      <td>1</td>\n",
              "      <td>2</td>\n",
              "      <td>0</td>\n",
              "    </tr>\n",
              "    <tr>\n",
              "      <th>14619</th>\n",
              "      <td>ff8081815c022dd3015c053bf6886366</td>\n",
              "      <td>2</td>\n",
              "      <td>0</td>\n",
              "      <td>0</td>\n",
              "      <td>0</td>\n",
              "      <td>1</td>\n",
              "      <td>1</td>\n",
              "      <td>3</td>\n",
              "      <td>1000</td>\n",
              "      <td>0</td>\n",
              "      <td>2</td>\n",
              "      <td>6</td>\n",
              "      <td>2</td>\n",
              "      <td>0</td>\n",
              "      <td>13</td>\n",
              "      <td>1</td>\n",
              "      <td>1</td>\n",
              "      <td>2</td>\n",
              "    </tr>\n",
              "    <tr>\n",
              "      <th>5368</th>\n",
              "      <td>ff8081814fdb74dc014fde80bf640994</td>\n",
              "      <td>2</td>\n",
              "      <td>0</td>\n",
              "      <td>0</td>\n",
              "      <td>0</td>\n",
              "      <td>1</td>\n",
              "      <td>1</td>\n",
              "      <td>3</td>\n",
              "      <td>1055</td>\n",
              "      <td>1</td>\n",
              "      <td>2</td>\n",
              "      <td>6</td>\n",
              "      <td>4</td>\n",
              "      <td>3</td>\n",
              "      <td>3</td>\n",
              "      <td>0</td>\n",
              "      <td>1</td>\n",
              "      <td>1</td>\n",
              "    </tr>\n",
              "    <tr>\n",
              "      <th>14832</th>\n",
              "      <td>ff80818162a582350162a8b4a5880000</td>\n",
              "      <td>2</td>\n",
              "      <td>1</td>\n",
              "      <td>1</td>\n",
              "      <td>0</td>\n",
              "      <td>0</td>\n",
              "      <td>1</td>\n",
              "      <td>2</td>\n",
              "      <td>1200</td>\n",
              "      <td>9</td>\n",
              "      <td>2</td>\n",
              "      <td>4</td>\n",
              "      <td>2</td>\n",
              "      <td>2</td>\n",
              "      <td>4</td>\n",
              "      <td>2</td>\n",
              "      <td>1</td>\n",
              "      <td>0</td>\n",
              "    </tr>\n",
              "    <tr>\n",
              "      <th>12448</th>\n",
              "      <td>ff80818157bd3a640157bd5fa534033e</td>\n",
              "      <td>0</td>\n",
              "      <td>0</td>\n",
              "      <td>0</td>\n",
              "      <td>0</td>\n",
              "      <td>0</td>\n",
              "      <td>1</td>\n",
              "      <td>1</td>\n",
              "      <td>230</td>\n",
              "      <td>3</td>\n",
              "      <td>1</td>\n",
              "      <td>6</td>\n",
              "      <td>1</td>\n",
              "      <td>0</td>\n",
              "      <td>3</td>\n",
              "      <td>1</td>\n",
              "      <td>3</td>\n",
              "      <td>0</td>\n",
              "    </tr>\n",
              "  </tbody>\n",
              "</table>\n",
              "</div>\n",
              "      <button class=\"colab-df-convert\" onclick=\"convertToInteractive('df-7506ef03-9f69-43b2-b6b2-164d1ffa475d')\"\n",
              "              title=\"Convert this dataframe to an interactive table.\"\n",
              "              style=\"display:none;\">\n",
              "        \n",
              "  <svg xmlns=\"http://www.w3.org/2000/svg\" height=\"24px\"viewBox=\"0 0 24 24\"\n",
              "       width=\"24px\">\n",
              "    <path d=\"M0 0h24v24H0V0z\" fill=\"none\"/>\n",
              "    <path d=\"M18.56 5.44l.94 2.06.94-2.06 2.06-.94-2.06-.94-.94-2.06-.94 2.06-2.06.94zm-11 1L8.5 8.5l.94-2.06 2.06-.94-2.06-.94L8.5 2.5l-.94 2.06-2.06.94zm10 10l.94 2.06.94-2.06 2.06-.94-2.06-.94-.94-2.06-.94 2.06-2.06.94z\"/><path d=\"M17.41 7.96l-1.37-1.37c-.4-.4-.92-.59-1.43-.59-.52 0-1.04.2-1.43.59L10.3 9.45l-7.72 7.72c-.78.78-.78 2.05 0 2.83L4 21.41c.39.39.9.59 1.41.59.51 0 1.02-.2 1.41-.59l7.78-7.78 2.81-2.81c.8-.78.8-2.07 0-2.86zM5.41 20L4 18.59l7.72-7.72 1.47 1.35L5.41 20z\"/>\n",
              "  </svg>\n",
              "      </button>\n",
              "      \n",
              "  <style>\n",
              "    .colab-df-container {\n",
              "      display:flex;\n",
              "      flex-wrap:wrap;\n",
              "      gap: 12px;\n",
              "    }\n",
              "\n",
              "    .colab-df-convert {\n",
              "      background-color: #E8F0FE;\n",
              "      border: none;\n",
              "      border-radius: 50%;\n",
              "      cursor: pointer;\n",
              "      display: none;\n",
              "      fill: #1967D2;\n",
              "      height: 32px;\n",
              "      padding: 0 0 0 0;\n",
              "      width: 32px;\n",
              "    }\n",
              "\n",
              "    .colab-df-convert:hover {\n",
              "      background-color: #E2EBFA;\n",
              "      box-shadow: 0px 1px 2px rgba(60, 64, 67, 0.3), 0px 1px 3px 1px rgba(60, 64, 67, 0.15);\n",
              "      fill: #174EA6;\n",
              "    }\n",
              "\n",
              "    [theme=dark] .colab-df-convert {\n",
              "      background-color: #3B4455;\n",
              "      fill: #D2E3FC;\n",
              "    }\n",
              "\n",
              "    [theme=dark] .colab-df-convert:hover {\n",
              "      background-color: #434B5C;\n",
              "      box-shadow: 0px 1px 3px 1px rgba(0, 0, 0, 0.15);\n",
              "      filter: drop-shadow(0px 1px 2px rgba(0, 0, 0, 0.3));\n",
              "      fill: #FFFFFF;\n",
              "    }\n",
              "  </style>\n",
              "\n",
              "      <script>\n",
              "        const buttonEl =\n",
              "          document.querySelector('#df-7506ef03-9f69-43b2-b6b2-164d1ffa475d button.colab-df-convert');\n",
              "        buttonEl.style.display =\n",
              "          google.colab.kernel.accessAllowed ? 'block' : 'none';\n",
              "\n",
              "        async function convertToInteractive(key) {\n",
              "          const element = document.querySelector('#df-7506ef03-9f69-43b2-b6b2-164d1ffa475d');\n",
              "          const dataTable =\n",
              "            await google.colab.kernel.invokeFunction('convertToInteractive',\n",
              "                                                     [key], {});\n",
              "          if (!dataTable) return;\n",
              "\n",
              "          const docLinkHtml = 'Like what you see? Visit the ' +\n",
              "            '<a target=\"_blank\" href=https://colab.research.google.com/notebooks/data_table.ipynb>data table notebook</a>'\n",
              "            + ' to learn more about interactive tables.';\n",
              "          element.innerHTML = '';\n",
              "          dataTable['output_type'] = 'display_data';\n",
              "          await google.colab.output.renderOutput(dataTable, element);\n",
              "          const docLink = document.createElement('div');\n",
              "          docLink.innerHTML = docLinkHtml;\n",
              "          element.appendChild(docLink);\n",
              "        }\n",
              "      </script>\n",
              "    </div>\n",
              "  </div>\n",
              "  "
            ]
          },
          "metadata": {},
          "execution_count": 243
        }
      ]
    },
    {
      "cell_type": "code",
      "source": [
        "train_targets=train_df1[target_cols]\n",
        "train_targets.head(5)"
      ],
      "metadata": {
        "colab": {
          "base_uri": "https://localhost:8080/",
          "height": 206
        },
        "id": "cbwzxX8a3bjv",
        "outputId": "6e101826-8155-4cae-9c1d-63a347bdd8c2"
      },
      "execution_count": 244,
      "outputs": [
        {
          "output_type": "execute_result",
          "data": {
            "text/plain": [
              "        rent\n",
              "10087   8500\n",
              "14619  25000\n",
              "5368   21500\n",
              "14832  22500\n",
              "12448   8000"
            ],
            "text/html": [
              "\n",
              "  <div id=\"df-779764df-330a-4726-8b90-c9456abb656e\">\n",
              "    <div class=\"colab-df-container\">\n",
              "      <div>\n",
              "<style scoped>\n",
              "    .dataframe tbody tr th:only-of-type {\n",
              "        vertical-align: middle;\n",
              "    }\n",
              "\n",
              "    .dataframe tbody tr th {\n",
              "        vertical-align: top;\n",
              "    }\n",
              "\n",
              "    .dataframe thead th {\n",
              "        text-align: right;\n",
              "    }\n",
              "</style>\n",
              "<table border=\"1\" class=\"dataframe\">\n",
              "  <thead>\n",
              "    <tr style=\"text-align: right;\">\n",
              "      <th></th>\n",
              "      <th>rent</th>\n",
              "    </tr>\n",
              "  </thead>\n",
              "  <tbody>\n",
              "    <tr>\n",
              "      <th>10087</th>\n",
              "      <td>8500</td>\n",
              "    </tr>\n",
              "    <tr>\n",
              "      <th>14619</th>\n",
              "      <td>25000</td>\n",
              "    </tr>\n",
              "    <tr>\n",
              "      <th>5368</th>\n",
              "      <td>21500</td>\n",
              "    </tr>\n",
              "    <tr>\n",
              "      <th>14832</th>\n",
              "      <td>22500</td>\n",
              "    </tr>\n",
              "    <tr>\n",
              "      <th>12448</th>\n",
              "      <td>8000</td>\n",
              "    </tr>\n",
              "  </tbody>\n",
              "</table>\n",
              "</div>\n",
              "      <button class=\"colab-df-convert\" onclick=\"convertToInteractive('df-779764df-330a-4726-8b90-c9456abb656e')\"\n",
              "              title=\"Convert this dataframe to an interactive table.\"\n",
              "              style=\"display:none;\">\n",
              "        \n",
              "  <svg xmlns=\"http://www.w3.org/2000/svg\" height=\"24px\"viewBox=\"0 0 24 24\"\n",
              "       width=\"24px\">\n",
              "    <path d=\"M0 0h24v24H0V0z\" fill=\"none\"/>\n",
              "    <path d=\"M18.56 5.44l.94 2.06.94-2.06 2.06-.94-2.06-.94-.94-2.06-.94 2.06-2.06.94zm-11 1L8.5 8.5l.94-2.06 2.06-.94-2.06-.94L8.5 2.5l-.94 2.06-2.06.94zm10 10l.94 2.06.94-2.06 2.06-.94-2.06-.94-.94-2.06-.94 2.06-2.06.94z\"/><path d=\"M17.41 7.96l-1.37-1.37c-.4-.4-.92-.59-1.43-.59-.52 0-1.04.2-1.43.59L10.3 9.45l-7.72 7.72c-.78.78-.78 2.05 0 2.83L4 21.41c.39.39.9.59 1.41.59.51 0 1.02-.2 1.41-.59l7.78-7.78 2.81-2.81c.8-.78.8-2.07 0-2.86zM5.41 20L4 18.59l7.72-7.72 1.47 1.35L5.41 20z\"/>\n",
              "  </svg>\n",
              "      </button>\n",
              "      \n",
              "  <style>\n",
              "    .colab-df-container {\n",
              "      display:flex;\n",
              "      flex-wrap:wrap;\n",
              "      gap: 12px;\n",
              "    }\n",
              "\n",
              "    .colab-df-convert {\n",
              "      background-color: #E8F0FE;\n",
              "      border: none;\n",
              "      border-radius: 50%;\n",
              "      cursor: pointer;\n",
              "      display: none;\n",
              "      fill: #1967D2;\n",
              "      height: 32px;\n",
              "      padding: 0 0 0 0;\n",
              "      width: 32px;\n",
              "    }\n",
              "\n",
              "    .colab-df-convert:hover {\n",
              "      background-color: #E2EBFA;\n",
              "      box-shadow: 0px 1px 2px rgba(60, 64, 67, 0.3), 0px 1px 3px 1px rgba(60, 64, 67, 0.15);\n",
              "      fill: #174EA6;\n",
              "    }\n",
              "\n",
              "    [theme=dark] .colab-df-convert {\n",
              "      background-color: #3B4455;\n",
              "      fill: #D2E3FC;\n",
              "    }\n",
              "\n",
              "    [theme=dark] .colab-df-convert:hover {\n",
              "      background-color: #434B5C;\n",
              "      box-shadow: 0px 1px 3px 1px rgba(0, 0, 0, 0.15);\n",
              "      filter: drop-shadow(0px 1px 2px rgba(0, 0, 0, 0.3));\n",
              "      fill: #FFFFFF;\n",
              "    }\n",
              "  </style>\n",
              "\n",
              "      <script>\n",
              "        const buttonEl =\n",
              "          document.querySelector('#df-779764df-330a-4726-8b90-c9456abb656e button.colab-df-convert');\n",
              "        buttonEl.style.display =\n",
              "          google.colab.kernel.accessAllowed ? 'block' : 'none';\n",
              "\n",
              "        async function convertToInteractive(key) {\n",
              "          const element = document.querySelector('#df-779764df-330a-4726-8b90-c9456abb656e');\n",
              "          const dataTable =\n",
              "            await google.colab.kernel.invokeFunction('convertToInteractive',\n",
              "                                                     [key], {});\n",
              "          if (!dataTable) return;\n",
              "\n",
              "          const docLinkHtml = 'Like what you see? Visit the ' +\n",
              "            '<a target=\"_blank\" href=https://colab.research.google.com/notebooks/data_table.ipynb>data table notebook</a>'\n",
              "            + ' to learn more about interactive tables.';\n",
              "          element.innerHTML = '';\n",
              "          dataTable['output_type'] = 'display_data';\n",
              "          await google.colab.output.renderOutput(dataTable, element);\n",
              "          const docLink = document.createElement('div');\n",
              "          docLink.innerHTML = docLinkHtml;\n",
              "          element.appendChild(docLink);\n",
              "        }\n",
              "      </script>\n",
              "    </div>\n",
              "  </div>\n",
              "  "
            ]
          },
          "metadata": {},
          "execution_count": 244
        }
      ]
    },
    {
      "cell_type": "code",
      "source": [
        "val_inputs1=val_df1[input_cols]\n",
        "val_inputs1.head(5)"
      ],
      "metadata": {
        "colab": {
          "base_uri": "https://localhost:8080/",
          "height": 270
        },
        "id": "_GHsDwzP3p0M",
        "outputId": "10715892-cb62-4b2f-bbc6-38a1f306186f"
      },
      "execution_count": 245,
      "outputs": [
        {
          "output_type": "execute_result",
          "data": {
            "text/plain": [
              "                                     id  type  gym  lift  swimming_pool  \\\n",
              "16330  ff8081816108a00501610915abc93a4b     2    1     1              1   \n",
              "7850   ff8081815aacc98e015aae15194752a5     2    0     0              0   \n",
              "13547  ff80818158de4fb60158dea009ce0ed2     0    0     0              0   \n",
              "5565   ff80818160204e9b0160267e7faf7a7f     2    0     0              0   \n",
              "10606  ff808181638d2a350163909b97eb7088     2    0     0              0   \n",
              "\n",
              "       negotiable  furnishing  parking  property_size  property_age  bathroom  \\\n",
              "16330           1           1        3           1505             1         2   \n",
              "7850            1           1        1            743            15         2   \n",
              "13547           0           1        1            200            10         1   \n",
              "5565            1           1        3           1000             0         2   \n",
              "10606           0           1        1            500            10         1   \n",
              "\n",
              "       facing  cup_board  floor  total_floor  water_supply  building_type  \\\n",
              "16330       7          3      3            5             1              1   \n",
              "7850        7          2      1            2             1              2   \n",
              "13547       4          1      0            3             1              3   \n",
              "5565        7          2      0            3             2              1   \n",
              "10606       0          2      1            3             2              1   \n",
              "\n",
              "       balconies  \n",
              "16330          2  \n",
              "7850           0  \n",
              "13547          1  \n",
              "5565           0  \n",
              "10606          1  "
            ],
            "text/html": [
              "\n",
              "  <div id=\"df-60e932c4-2878-47ec-9735-031a6dc0ef88\">\n",
              "    <div class=\"colab-df-container\">\n",
              "      <div>\n",
              "<style scoped>\n",
              "    .dataframe tbody tr th:only-of-type {\n",
              "        vertical-align: middle;\n",
              "    }\n",
              "\n",
              "    .dataframe tbody tr th {\n",
              "        vertical-align: top;\n",
              "    }\n",
              "\n",
              "    .dataframe thead th {\n",
              "        text-align: right;\n",
              "    }\n",
              "</style>\n",
              "<table border=\"1\" class=\"dataframe\">\n",
              "  <thead>\n",
              "    <tr style=\"text-align: right;\">\n",
              "      <th></th>\n",
              "      <th>id</th>\n",
              "      <th>type</th>\n",
              "      <th>gym</th>\n",
              "      <th>lift</th>\n",
              "      <th>swimming_pool</th>\n",
              "      <th>negotiable</th>\n",
              "      <th>furnishing</th>\n",
              "      <th>parking</th>\n",
              "      <th>property_size</th>\n",
              "      <th>property_age</th>\n",
              "      <th>bathroom</th>\n",
              "      <th>facing</th>\n",
              "      <th>cup_board</th>\n",
              "      <th>floor</th>\n",
              "      <th>total_floor</th>\n",
              "      <th>water_supply</th>\n",
              "      <th>building_type</th>\n",
              "      <th>balconies</th>\n",
              "    </tr>\n",
              "  </thead>\n",
              "  <tbody>\n",
              "    <tr>\n",
              "      <th>16330</th>\n",
              "      <td>ff8081816108a00501610915abc93a4b</td>\n",
              "      <td>2</td>\n",
              "      <td>1</td>\n",
              "      <td>1</td>\n",
              "      <td>1</td>\n",
              "      <td>1</td>\n",
              "      <td>1</td>\n",
              "      <td>3</td>\n",
              "      <td>1505</td>\n",
              "      <td>1</td>\n",
              "      <td>2</td>\n",
              "      <td>7</td>\n",
              "      <td>3</td>\n",
              "      <td>3</td>\n",
              "      <td>5</td>\n",
              "      <td>1</td>\n",
              "      <td>1</td>\n",
              "      <td>2</td>\n",
              "    </tr>\n",
              "    <tr>\n",
              "      <th>7850</th>\n",
              "      <td>ff8081815aacc98e015aae15194752a5</td>\n",
              "      <td>2</td>\n",
              "      <td>0</td>\n",
              "      <td>0</td>\n",
              "      <td>0</td>\n",
              "      <td>1</td>\n",
              "      <td>1</td>\n",
              "      <td>1</td>\n",
              "      <td>743</td>\n",
              "      <td>15</td>\n",
              "      <td>2</td>\n",
              "      <td>7</td>\n",
              "      <td>2</td>\n",
              "      <td>1</td>\n",
              "      <td>2</td>\n",
              "      <td>1</td>\n",
              "      <td>2</td>\n",
              "      <td>0</td>\n",
              "    </tr>\n",
              "    <tr>\n",
              "      <th>13547</th>\n",
              "      <td>ff80818158de4fb60158dea009ce0ed2</td>\n",
              "      <td>0</td>\n",
              "      <td>0</td>\n",
              "      <td>0</td>\n",
              "      <td>0</td>\n",
              "      <td>0</td>\n",
              "      <td>1</td>\n",
              "      <td>1</td>\n",
              "      <td>200</td>\n",
              "      <td>10</td>\n",
              "      <td>1</td>\n",
              "      <td>4</td>\n",
              "      <td>1</td>\n",
              "      <td>0</td>\n",
              "      <td>3</td>\n",
              "      <td>1</td>\n",
              "      <td>3</td>\n",
              "      <td>1</td>\n",
              "    </tr>\n",
              "    <tr>\n",
              "      <th>5565</th>\n",
              "      <td>ff80818160204e9b0160267e7faf7a7f</td>\n",
              "      <td>2</td>\n",
              "      <td>0</td>\n",
              "      <td>0</td>\n",
              "      <td>0</td>\n",
              "      <td>1</td>\n",
              "      <td>1</td>\n",
              "      <td>3</td>\n",
              "      <td>1000</td>\n",
              "      <td>0</td>\n",
              "      <td>2</td>\n",
              "      <td>7</td>\n",
              "      <td>2</td>\n",
              "      <td>0</td>\n",
              "      <td>3</td>\n",
              "      <td>2</td>\n",
              "      <td>1</td>\n",
              "      <td>0</td>\n",
              "    </tr>\n",
              "    <tr>\n",
              "      <th>10606</th>\n",
              "      <td>ff808181638d2a350163909b97eb7088</td>\n",
              "      <td>2</td>\n",
              "      <td>0</td>\n",
              "      <td>0</td>\n",
              "      <td>0</td>\n",
              "      <td>0</td>\n",
              "      <td>1</td>\n",
              "      <td>1</td>\n",
              "      <td>500</td>\n",
              "      <td>10</td>\n",
              "      <td>1</td>\n",
              "      <td>0</td>\n",
              "      <td>2</td>\n",
              "      <td>1</td>\n",
              "      <td>3</td>\n",
              "      <td>2</td>\n",
              "      <td>1</td>\n",
              "      <td>1</td>\n",
              "    </tr>\n",
              "  </tbody>\n",
              "</table>\n",
              "</div>\n",
              "      <button class=\"colab-df-convert\" onclick=\"convertToInteractive('df-60e932c4-2878-47ec-9735-031a6dc0ef88')\"\n",
              "              title=\"Convert this dataframe to an interactive table.\"\n",
              "              style=\"display:none;\">\n",
              "        \n",
              "  <svg xmlns=\"http://www.w3.org/2000/svg\" height=\"24px\"viewBox=\"0 0 24 24\"\n",
              "       width=\"24px\">\n",
              "    <path d=\"M0 0h24v24H0V0z\" fill=\"none\"/>\n",
              "    <path d=\"M18.56 5.44l.94 2.06.94-2.06 2.06-.94-2.06-.94-.94-2.06-.94 2.06-2.06.94zm-11 1L8.5 8.5l.94-2.06 2.06-.94-2.06-.94L8.5 2.5l-.94 2.06-2.06.94zm10 10l.94 2.06.94-2.06 2.06-.94-2.06-.94-.94-2.06-.94 2.06-2.06.94z\"/><path d=\"M17.41 7.96l-1.37-1.37c-.4-.4-.92-.59-1.43-.59-.52 0-1.04.2-1.43.59L10.3 9.45l-7.72 7.72c-.78.78-.78 2.05 0 2.83L4 21.41c.39.39.9.59 1.41.59.51 0 1.02-.2 1.41-.59l7.78-7.78 2.81-2.81c.8-.78.8-2.07 0-2.86zM5.41 20L4 18.59l7.72-7.72 1.47 1.35L5.41 20z\"/>\n",
              "  </svg>\n",
              "      </button>\n",
              "      \n",
              "  <style>\n",
              "    .colab-df-container {\n",
              "      display:flex;\n",
              "      flex-wrap:wrap;\n",
              "      gap: 12px;\n",
              "    }\n",
              "\n",
              "    .colab-df-convert {\n",
              "      background-color: #E8F0FE;\n",
              "      border: none;\n",
              "      border-radius: 50%;\n",
              "      cursor: pointer;\n",
              "      display: none;\n",
              "      fill: #1967D2;\n",
              "      height: 32px;\n",
              "      padding: 0 0 0 0;\n",
              "      width: 32px;\n",
              "    }\n",
              "\n",
              "    .colab-df-convert:hover {\n",
              "      background-color: #E2EBFA;\n",
              "      box-shadow: 0px 1px 2px rgba(60, 64, 67, 0.3), 0px 1px 3px 1px rgba(60, 64, 67, 0.15);\n",
              "      fill: #174EA6;\n",
              "    }\n",
              "\n",
              "    [theme=dark] .colab-df-convert {\n",
              "      background-color: #3B4455;\n",
              "      fill: #D2E3FC;\n",
              "    }\n",
              "\n",
              "    [theme=dark] .colab-df-convert:hover {\n",
              "      background-color: #434B5C;\n",
              "      box-shadow: 0px 1px 3px 1px rgba(0, 0, 0, 0.15);\n",
              "      filter: drop-shadow(0px 1px 2px rgba(0, 0, 0, 0.3));\n",
              "      fill: #FFFFFF;\n",
              "    }\n",
              "  </style>\n",
              "\n",
              "      <script>\n",
              "        const buttonEl =\n",
              "          document.querySelector('#df-60e932c4-2878-47ec-9735-031a6dc0ef88 button.colab-df-convert');\n",
              "        buttonEl.style.display =\n",
              "          google.colab.kernel.accessAllowed ? 'block' : 'none';\n",
              "\n",
              "        async function convertToInteractive(key) {\n",
              "          const element = document.querySelector('#df-60e932c4-2878-47ec-9735-031a6dc0ef88');\n",
              "          const dataTable =\n",
              "            await google.colab.kernel.invokeFunction('convertToInteractive',\n",
              "                                                     [key], {});\n",
              "          if (!dataTable) return;\n",
              "\n",
              "          const docLinkHtml = 'Like what you see? Visit the ' +\n",
              "            '<a target=\"_blank\" href=https://colab.research.google.com/notebooks/data_table.ipynb>data table notebook</a>'\n",
              "            + ' to learn more about interactive tables.';\n",
              "          element.innerHTML = '';\n",
              "          dataTable['output_type'] = 'display_data';\n",
              "          await google.colab.output.renderOutput(dataTable, element);\n",
              "          const docLink = document.createElement('div');\n",
              "          docLink.innerHTML = docLinkHtml;\n",
              "          element.appendChild(docLink);\n",
              "        }\n",
              "      </script>\n",
              "    </div>\n",
              "  </div>\n",
              "  "
            ]
          },
          "metadata": {},
          "execution_count": 245
        }
      ]
    },
    {
      "cell_type": "code",
      "source": [
        "val_targets=val_df1[target_cols]\n",
        "val_targets.head(5)"
      ],
      "metadata": {
        "colab": {
          "base_uri": "https://localhost:8080/",
          "height": 206
        },
        "id": "OzaboMCj3vIA",
        "outputId": "af1e518f-d767-43fc-dc25-84240c720be5"
      },
      "execution_count": 246,
      "outputs": [
        {
          "output_type": "execute_result",
          "data": {
            "text/plain": [
              "        rent\n",
              "16330  22000\n",
              "7850   22000\n",
              "13547   8250\n",
              "5565   20000\n",
              "10606  12500"
            ],
            "text/html": [
              "\n",
              "  <div id=\"df-a42e8207-16fb-4b6d-95ba-7a0c9d4fa988\">\n",
              "    <div class=\"colab-df-container\">\n",
              "      <div>\n",
              "<style scoped>\n",
              "    .dataframe tbody tr th:only-of-type {\n",
              "        vertical-align: middle;\n",
              "    }\n",
              "\n",
              "    .dataframe tbody tr th {\n",
              "        vertical-align: top;\n",
              "    }\n",
              "\n",
              "    .dataframe thead th {\n",
              "        text-align: right;\n",
              "    }\n",
              "</style>\n",
              "<table border=\"1\" class=\"dataframe\">\n",
              "  <thead>\n",
              "    <tr style=\"text-align: right;\">\n",
              "      <th></th>\n",
              "      <th>rent</th>\n",
              "    </tr>\n",
              "  </thead>\n",
              "  <tbody>\n",
              "    <tr>\n",
              "      <th>16330</th>\n",
              "      <td>22000</td>\n",
              "    </tr>\n",
              "    <tr>\n",
              "      <th>7850</th>\n",
              "      <td>22000</td>\n",
              "    </tr>\n",
              "    <tr>\n",
              "      <th>13547</th>\n",
              "      <td>8250</td>\n",
              "    </tr>\n",
              "    <tr>\n",
              "      <th>5565</th>\n",
              "      <td>20000</td>\n",
              "    </tr>\n",
              "    <tr>\n",
              "      <th>10606</th>\n",
              "      <td>12500</td>\n",
              "    </tr>\n",
              "  </tbody>\n",
              "</table>\n",
              "</div>\n",
              "      <button class=\"colab-df-convert\" onclick=\"convertToInteractive('df-a42e8207-16fb-4b6d-95ba-7a0c9d4fa988')\"\n",
              "              title=\"Convert this dataframe to an interactive table.\"\n",
              "              style=\"display:none;\">\n",
              "        \n",
              "  <svg xmlns=\"http://www.w3.org/2000/svg\" height=\"24px\"viewBox=\"0 0 24 24\"\n",
              "       width=\"24px\">\n",
              "    <path d=\"M0 0h24v24H0V0z\" fill=\"none\"/>\n",
              "    <path d=\"M18.56 5.44l.94 2.06.94-2.06 2.06-.94-2.06-.94-.94-2.06-.94 2.06-2.06.94zm-11 1L8.5 8.5l.94-2.06 2.06-.94-2.06-.94L8.5 2.5l-.94 2.06-2.06.94zm10 10l.94 2.06.94-2.06 2.06-.94-2.06-.94-.94-2.06-.94 2.06-2.06.94z\"/><path d=\"M17.41 7.96l-1.37-1.37c-.4-.4-.92-.59-1.43-.59-.52 0-1.04.2-1.43.59L10.3 9.45l-7.72 7.72c-.78.78-.78 2.05 0 2.83L4 21.41c.39.39.9.59 1.41.59.51 0 1.02-.2 1.41-.59l7.78-7.78 2.81-2.81c.8-.78.8-2.07 0-2.86zM5.41 20L4 18.59l7.72-7.72 1.47 1.35L5.41 20z\"/>\n",
              "  </svg>\n",
              "      </button>\n",
              "      \n",
              "  <style>\n",
              "    .colab-df-container {\n",
              "      display:flex;\n",
              "      flex-wrap:wrap;\n",
              "      gap: 12px;\n",
              "    }\n",
              "\n",
              "    .colab-df-convert {\n",
              "      background-color: #E8F0FE;\n",
              "      border: none;\n",
              "      border-radius: 50%;\n",
              "      cursor: pointer;\n",
              "      display: none;\n",
              "      fill: #1967D2;\n",
              "      height: 32px;\n",
              "      padding: 0 0 0 0;\n",
              "      width: 32px;\n",
              "    }\n",
              "\n",
              "    .colab-df-convert:hover {\n",
              "      background-color: #E2EBFA;\n",
              "      box-shadow: 0px 1px 2px rgba(60, 64, 67, 0.3), 0px 1px 3px 1px rgba(60, 64, 67, 0.15);\n",
              "      fill: #174EA6;\n",
              "    }\n",
              "\n",
              "    [theme=dark] .colab-df-convert {\n",
              "      background-color: #3B4455;\n",
              "      fill: #D2E3FC;\n",
              "    }\n",
              "\n",
              "    [theme=dark] .colab-df-convert:hover {\n",
              "      background-color: #434B5C;\n",
              "      box-shadow: 0px 1px 3px 1px rgba(0, 0, 0, 0.15);\n",
              "      filter: drop-shadow(0px 1px 2px rgba(0, 0, 0, 0.3));\n",
              "      fill: #FFFFFF;\n",
              "    }\n",
              "  </style>\n",
              "\n",
              "      <script>\n",
              "        const buttonEl =\n",
              "          document.querySelector('#df-a42e8207-16fb-4b6d-95ba-7a0c9d4fa988 button.colab-df-convert');\n",
              "        buttonEl.style.display =\n",
              "          google.colab.kernel.accessAllowed ? 'block' : 'none';\n",
              "\n",
              "        async function convertToInteractive(key) {\n",
              "          const element = document.querySelector('#df-a42e8207-16fb-4b6d-95ba-7a0c9d4fa988');\n",
              "          const dataTable =\n",
              "            await google.colab.kernel.invokeFunction('convertToInteractive',\n",
              "                                                     [key], {});\n",
              "          if (!dataTable) return;\n",
              "\n",
              "          const docLinkHtml = 'Like what you see? Visit the ' +\n",
              "            '<a target=\"_blank\" href=https://colab.research.google.com/notebooks/data_table.ipynb>data table notebook</a>'\n",
              "            + ' to learn more about interactive tables.';\n",
              "          element.innerHTML = '';\n",
              "          dataTable['output_type'] = 'display_data';\n",
              "          await google.colab.output.renderOutput(dataTable, element);\n",
              "          const docLink = document.createElement('div');\n",
              "          docLink.innerHTML = docLinkHtml;\n",
              "          element.appendChild(docLink);\n",
              "        }\n",
              "      </script>\n",
              "    </div>\n",
              "  </div>\n",
              "  "
            ]
          },
          "metadata": {},
          "execution_count": 246
        }
      ]
    },
    {
      "cell_type": "markdown",
      "source": [
        "# Trying out different models for the first set of features"
      ],
      "metadata": {
        "id": "IXwy5uiEOdtR"
      }
    },
    {
      "cell_type": "markdown",
      "source": [
        "## Dummy Regressor"
      ],
      "metadata": {
        "id": "sTPgKFawq82U"
      }
    },
    {
      "cell_type": "code",
      "source": [
        "from sklearn.dummy import DummyRegressor"
      ],
      "metadata": {
        "id": "lIMaLvH8CxFq"
      },
      "execution_count": 247,
      "outputs": []
    },
    {
      "cell_type": "code",
      "source": [
        "dummy_regr = DummyRegressor(strategy=\"mean\")"
      ],
      "metadata": {
        "id": "nTANsOseCjaM"
      },
      "execution_count": 248,
      "outputs": []
    },
    {
      "cell_type": "code",
      "source": [
        "dummy_regr.fit(train_inputs1, train_targets)"
      ],
      "metadata": {
        "colab": {
          "base_uri": "https://localhost:8080/"
        },
        "id": "DG6IsPdqC-3o",
        "outputId": "7bdcfcb9-ecff-484c-c343-f4646a813947"
      },
      "execution_count": 249,
      "outputs": [
        {
          "output_type": "execute_result",
          "data": {
            "text/plain": [
              "DummyRegressor()"
            ]
          },
          "metadata": {},
          "execution_count": 249
        }
      ]
    },
    {
      "cell_type": "code",
      "source": [
        "train_preds_dummy=dummy_regr.predict(val_inputs1)"
      ],
      "metadata": {
        "id": "SHRDsQNxDFPr"
      },
      "execution_count": 250,
      "outputs": []
    },
    {
      "cell_type": "code",
      "source": [
        "from sklearn.metrics import mean_squared_error"
      ],
      "metadata": {
        "id": "j3Gky2cLCtCR"
      },
      "execution_count": 251,
      "outputs": []
    },
    {
      "cell_type": "code",
      "source": [
        "from sklearn.metrics import mean_absolute_error"
      ],
      "metadata": {
        "id": "LGbQSCq2CvP_"
      },
      "execution_count": 252,
      "outputs": []
    },
    {
      "cell_type": "code",
      "source": [
        "train_rmse = mean_squared_error(val_targets, train_preds_dummy, squared=False)\n",
        "train_rmse"
      ],
      "metadata": {
        "colab": {
          "base_uri": "https://localhost:8080/"
        },
        "id": "NvyOqvgBCvKm",
        "outputId": "a5f47032-3c3c-4fb9-f7ab-78bf075da382"
      },
      "execution_count": 253,
      "outputs": [
        {
          "output_type": "execute_result",
          "data": {
            "text/plain": [
              "8527.347208103169"
            ]
          },
          "metadata": {},
          "execution_count": 253
        }
      ]
    },
    {
      "cell_type": "code",
      "source": [
        "### the rmse for the baseline model is 8527.347"
      ],
      "metadata": {
        "id": "Ok_BaO-DDXHi"
      },
      "execution_count": 254,
      "outputs": []
    },
    {
      "cell_type": "markdown",
      "source": [
        "## Linear Regressor"
      ],
      "metadata": {
        "id": "zPrfX8qwq_1V"
      }
    },
    {
      "cell_type": "code",
      "source": [
        "from sklearn.linear_model import LinearRegression"
      ],
      "metadata": {
        "id": "X-55RzgRDqaT"
      },
      "execution_count": 255,
      "outputs": []
    },
    {
      "cell_type": "code",
      "source": [
        "linear_model=LinearRegression()"
      ],
      "metadata": {
        "id": "nBgDRhC3Dv0n"
      },
      "execution_count": 256,
      "outputs": []
    },
    {
      "cell_type": "code",
      "source": [
        "train_cols=[\n",
        " 'type',\n",
        " 'gym',\n",
        " 'lift',\n",
        " 'swimming_pool',\n",
        " 'negotiable',\n",
        " 'furnishing',\n",
        " 'parking',\n",
        " 'property_size',\n",
        " 'property_age',\n",
        " 'bathroom',\n",
        " 'facing',\n",
        " 'cup_board',\n",
        " 'floor',\n",
        " 'total_floor',\n",
        " 'water_supply',\n",
        " 'building_type',\n",
        " 'balconies',\n",
        " ]"
      ],
      "metadata": {
        "id": "xoWSvrvgEA5y"
      },
      "execution_count": 257,
      "outputs": []
    },
    {
      "cell_type": "code",
      "source": [
        "# from sklearn import preprocessing"
      ],
      "metadata": {
        "id": "85Tn9byAEecO"
      },
      "execution_count": 258,
      "outputs": []
    },
    {
      "cell_type": "code",
      "source": [
        "# label_encoder = preprocessing.LabelEncoder()\n"
      ],
      "metadata": {
        "id": "5qawMRfZEfTL"
      },
      "execution_count": 259,
      "outputs": []
    },
    {
      "cell_type": "code",
      "source": [
        "# train_inputs1['type']= label_encoder.fit_transform(train_inputs1['type'])\n",
        "# val_inputs1['type']= label_encoder.fit_transform(val_inputs1['type'])\n",
        "\n",
        "# train_inputs1['parking']= label_encoder.fit_transform(train_inputs1['parking'])\n",
        "# val_inputs1['parking']= label_encoder.fit_transform(val_inputs1['parking'])\n",
        "\n",
        "# train_inputs1['furnishing']= label_encoder.fit_transform(train_inputs1['furnishing'])\n",
        "# val_inputs1['furnishing']= label_encoder.fit_transform(val_inputs1['furnishing'])\n",
        "\n",
        "# train_inputs1['facing']= label_encoder.fit_transform(train_inputs1['facing'])\n",
        "# # val_inputs1['facing']= label_encoder.fit_transform(val_inputs1['facing'])\n",
        "\n",
        "# train_inputs1['water_supply']= label_encoder.fit_transform(train_inputs1['water_supply'])\n",
        "# val_inputs1['water_supply']= label_encoder.fit_transform(val_inputs1['water_supply'])\n",
        "\n",
        "# train_inputs1['building_type']= label_encoder.fit_transform(train_inputs1['building_type'])\n",
        "# val_inputs1['building_type']= label_encoder.fit_transform(val_inputs1['building_type'])"
      ],
      "metadata": {
        "id": "d-c9MjFFEjDh"
      },
      "execution_count": 260,
      "outputs": []
    },
    {
      "cell_type": "code",
      "source": [
        "linear_model.fit(train_inputs1[train_cols],train_targets)"
      ],
      "metadata": {
        "colab": {
          "base_uri": "https://localhost:8080/"
        },
        "id": "WZrbc4kzDwxs",
        "outputId": "c32b35a7-40c5-4db5-8a2c-07603f3a892b"
      },
      "execution_count": 266,
      "outputs": [
        {
          "output_type": "execute_result",
          "data": {
            "text/plain": [
              "LinearRegression()"
            ]
          },
          "metadata": {},
          "execution_count": 266
        }
      ]
    },
    {
      "cell_type": "code",
      "source": [
        "linear_preds=linear_model.predict(val_inputs1[train_cols])"
      ],
      "metadata": {
        "id": "dR56JdSLFri5"
      },
      "execution_count": 267,
      "outputs": []
    },
    {
      "cell_type": "code",
      "source": [
        "linear_rmse = mean_squared_error(val_targets, linear_preds, squared=False)\n",
        "linear_rmse"
      ],
      "metadata": {
        "colab": {
          "base_uri": "https://localhost:8080/"
        },
        "id": "wMugVVZvGsR5",
        "outputId": "c1d8bc8f-d78b-4f47-b66d-b07b7a36cf16"
      },
      "execution_count": 268,
      "outputs": [
        {
          "output_type": "execute_result",
          "data": {
            "text/plain": [
              "6806.841187362279"
            ]
          },
          "metadata": {},
          "execution_count": 268
        }
      ]
    },
    {
      "cell_type": "code",
      "source": [
        "linear_mae=mean_absolute_error(val_targets,linear_preds)\n",
        "linear_mae"
      ],
      "metadata": {
        "colab": {
          "base_uri": "https://localhost:8080/"
        },
        "id": "TSxAa6qdVR8V",
        "outputId": "61e42e68-4342-4dd6-a3d6-7f9193230176"
      },
      "execution_count": 269,
      "outputs": [
        {
          "output_type": "execute_result",
          "data": {
            "text/plain": [
              "3740.897177043131"
            ]
          },
          "metadata": {},
          "execution_count": 269
        }
      ]
    },
    {
      "cell_type": "code",
      "source": [
        "from sklearn.linear_model import Ridge"
      ],
      "metadata": {
        "id": "RjQqReW3VsK3"
      },
      "execution_count": 270,
      "outputs": []
    },
    {
      "cell_type": "code",
      "source": [
        "ridge_model=Ridge(random_state=42,alpha=0.9)"
      ],
      "metadata": {
        "id": "-bCKi7B0V3dj"
      },
      "execution_count": 271,
      "outputs": []
    },
    {
      "cell_type": "markdown",
      "source": [
        "## RIdgre Regression"
      ],
      "metadata": {
        "id": "XgJC95TcrUcG"
      }
    },
    {
      "cell_type": "code",
      "source": [
        "%%time\n",
        "ridge_model.fit(train_inputs1[train_cols],train_targets)"
      ],
      "metadata": {
        "colab": {
          "base_uri": "https://localhost:8080/"
        },
        "id": "Q7Ya2kl3V7AJ",
        "outputId": "c678dd15-0393-4839-8880-5af56d3fae9e"
      },
      "execution_count": 272,
      "outputs": [
        {
          "output_type": "stream",
          "name": "stdout",
          "text": [
            "CPU times: user 8.72 ms, sys: 6.28 ms, total: 15 ms\n",
            "Wall time: 8.72 ms\n"
          ]
        },
        {
          "output_type": "execute_result",
          "data": {
            "text/plain": [
              "Ridge(alpha=0.9, random_state=42)"
            ]
          },
          "metadata": {},
          "execution_count": 272
        }
      ]
    },
    {
      "cell_type": "code",
      "source": [
        "ridge_preds=ridge_model.predict(val_inputs1[train_cols])"
      ],
      "metadata": {
        "id": "Ti9dQTc3WGaH"
      },
      "execution_count": 273,
      "outputs": []
    },
    {
      "cell_type": "code",
      "source": [
        "ridge_rmse = mean_squared_error(val_targets, ridge_preds, squared=False)\n",
        "ridge_rmse"
      ],
      "metadata": {
        "colab": {
          "base_uri": "https://localhost:8080/"
        },
        "id": "9PuVRSjlWNC3",
        "outputId": "d4443d07-68f7-4cf6-8bd3-cdb3f7a44d36"
      },
      "execution_count": 274,
      "outputs": [
        {
          "output_type": "execute_result",
          "data": {
            "text/plain": [
              "6807.222393040564"
            ]
          },
          "metadata": {},
          "execution_count": 274
        }
      ]
    },
    {
      "cell_type": "code",
      "source": [
        "ridge_mae=mean_absolute_error(val_targets,ridge_preds)\n",
        "ridge_mae"
      ],
      "metadata": {
        "colab": {
          "base_uri": "https://localhost:8080/"
        },
        "id": "UR8Q-StGZOze",
        "outputId": "4960861f-c986-426d-8451-fb57b5a6cec1"
      },
      "execution_count": 275,
      "outputs": [
        {
          "output_type": "execute_result",
          "data": {
            "text/plain": [
              "3740.873823803578"
            ]
          },
          "metadata": {},
          "execution_count": 275
        }
      ]
    },
    {
      "cell_type": "markdown",
      "source": [
        "## Random Forest Regressor"
      ],
      "metadata": {
        "id": "MZBWPhGTrXMK"
      }
    },
    {
      "cell_type": "code",
      "source": [
        "from sklearn.ensemble import RandomForestRegressor"
      ],
      "metadata": {
        "id": "PZc_h9lPWU1V"
      },
      "execution_count": 276,
      "outputs": []
    },
    {
      "cell_type": "code",
      "source": [
        "forest = RandomForestRegressor(max_depth=12, random_state=44)"
      ],
      "metadata": {
        "id": "53VtzIB4Zph_"
      },
      "execution_count": 277,
      "outputs": []
    },
    {
      "cell_type": "code",
      "source": [
        "forest.fit(train_inputs1[train_cols],train_targets)"
      ],
      "metadata": {
        "colab": {
          "base_uri": "https://localhost:8080/"
        },
        "id": "w4l-_UH8Zvh6",
        "outputId": "82cafa7c-ae25-4d76-e00f-1c7788202502"
      },
      "execution_count": 278,
      "outputs": [
        {
          "output_type": "stream",
          "name": "stderr",
          "text": [
            "/usr/local/lib/python3.7/dist-packages/ipykernel_launcher.py:1: DataConversionWarning: A column-vector y was passed when a 1d array was expected. Please change the shape of y to (n_samples,), for example using ravel().\n",
            "  \"\"\"Entry point for launching an IPython kernel.\n"
          ]
        },
        {
          "output_type": "execute_result",
          "data": {
            "text/plain": [
              "RandomForestRegressor(max_depth=12, random_state=44)"
            ]
          },
          "metadata": {},
          "execution_count": 278
        }
      ]
    },
    {
      "cell_type": "code",
      "source": [
        "forest_pred=forest.predict(val_inputs1[train_cols])"
      ],
      "metadata": {
        "id": "eM7b4u_EZ9Iw"
      },
      "execution_count": 279,
      "outputs": []
    },
    {
      "cell_type": "code",
      "source": [
        "forest_rmse = mean_squared_error(val_targets, forest_pred, squared=False)\n",
        "forest_rmse"
      ],
      "metadata": {
        "colab": {
          "base_uri": "https://localhost:8080/"
        },
        "id": "HWQYVqnEaG7R",
        "outputId": "f7cdeeb2-6755-4b44-e540-f56d3d996d38"
      },
      "execution_count": 280,
      "outputs": [
        {
          "output_type": "execute_result",
          "data": {
            "text/plain": [
              "4848.292858057139"
            ]
          },
          "metadata": {},
          "execution_count": 280
        }
      ]
    },
    {
      "cell_type": "code",
      "source": [
        "forest_mae=mean_absolute_error(val_targets, forest_pred)\n",
        "forest_mae"
      ],
      "metadata": {
        "colab": {
          "base_uri": "https://localhost:8080/"
        },
        "id": "nxeSJJz0aET8",
        "outputId": "406da579-6018-407e-b7c1-f7f7b4d94a79"
      },
      "execution_count": 281,
      "outputs": [
        {
          "output_type": "execute_result",
          "data": {
            "text/plain": [
              "3504.6396023117923"
            ]
          },
          "metadata": {},
          "execution_count": 281
        }
      ]
    },
    {
      "cell_type": "code",
      "source": [
        "from sklearn.metrics import r2_score"
      ],
      "metadata": {
        "id": "AMGE07E_pt1O"
      },
      "execution_count": 282,
      "outputs": []
    },
    {
      "cell_type": "code",
      "source": [
        "r2_score(val_targets, forest_pred)"
      ],
      "metadata": {
        "colab": {
          "base_uri": "https://localhost:8080/"
        },
        "id": "JDKBcBh2puuT",
        "outputId": "6d0cc937-bd44-4fbb-f03d-20b0c790ae45"
      },
      "execution_count": 283,
      "outputs": [
        {
          "output_type": "execute_result",
          "data": {
            "text/plain": [
              "0.6761897490090827"
            ]
          },
          "metadata": {},
          "execution_count": 283
        }
      ]
    },
    {
      "cell_type": "markdown",
      "source": [
        "# Second Model"
      ],
      "metadata": {
        "id": "ByoaisVUOs2F"
      }
    },
    {
      "cell_type": "markdown",
      "source": [
        "This model uses distance of the house from Electronic city as a metric"
      ],
      "metadata": {
        "id": "02vS9iL_rcdj"
      }
    },
    {
      "cell_type": "markdown",
      "source": [
        "## Function to calculate distance between two places given their lat long coordinates"
      ],
      "metadata": {
        "id": "BoiQx6sMOmh1"
      }
    },
    {
      "cell_type": "code",
      "source": [
        "from math import radians\n",
        "from math import sin,cos\n",
        "from math import asin\n",
        "def calculate_spherical_distance(lat1, lon1, lat2, lon2, r=6371):\n",
        "    # Convert degrees to radians\n",
        "    coordinates = lat1, lon1, lat2, lon2\n",
        "    # radians(c) is same as c*pi/180\n",
        "    phi1, lambda1, phi2, lambda2 = [\n",
        "        radians(c) for c in coordinates\n",
        "    ]  \n",
        "    \n",
        "    # Apply the haversine formula\n",
        "    a = (np.square(sin((phi2-phi1)/2)) + cos(phi1) * cos(phi2) * \n",
        "         np.square(sin((lambda2-lambda1)/2)))\n",
        "    d = 2*r*asin(np.sqrt(a))\n",
        "    return d"
      ],
      "metadata": {
        "id": "HBD-cIkC3ZuC"
      },
      "execution_count": 284,
      "outputs": []
    },
    {
      "cell_type": "code",
      "source": [
        "need_cols2=['id',\n",
        " 'type',\n",
        " 'latitude',\n",
        " 'longitude',\n",
        " 'gym',\n",
        " 'lift',\n",
        " 'swimming_pool',\n",
        " 'negotiable',\n",
        " 'furnishing',\n",
        " 'parking',\n",
        " 'property_size',\n",
        " 'property_age',\n",
        " 'bathroom',\n",
        " 'facing',\n",
        " 'cup_board',\n",
        " 'floor',\n",
        " 'total_floor',\n",
        " 'water_supply',\n",
        " 'building_type',\n",
        " 'balconies',\n",
        " 'rent']\n",
        "\n",
        " ## this is the set of columns we will use for the second model\n"
      ],
      "metadata": {
        "id": "P0GG_E9o4VUp"
      },
      "execution_count": 285,
      "outputs": []
    },
    {
      "cell_type": "code",
      "source": [
        "df2=pd.read_csv(train_dir, usecols=need_cols2)"
      ],
      "metadata": {
        "id": "WN6h5YTY4mYL"
      },
      "execution_count": 286,
      "outputs": []
    },
    {
      "cell_type": "code",
      "source": [
        "df2.head()"
      ],
      "metadata": {
        "colab": {
          "base_uri": "https://localhost:8080/",
          "height": 300
        },
        "id": "MKrMu1Po41rI",
        "outputId": "154f7fa8-40b2-45ef-b3bf-c2177f9c823b"
      },
      "execution_count": 287,
      "outputs": [
        {
          "output_type": "execute_result",
          "data": {
            "text/plain": [
              "                                 id  type   latitude  longitude  gym  lift  \\\n",
              "0  ff8081815733a243015733b2876600a6  BHK2  12.934471  77.634471    1     1   \n",
              "1  ff8081815ee25e15015ee50004da2acd  BHK2  12.929557  77.672280    0     1   \n",
              "2  ff80818163f29c9e0163f46770b873e7  BHK3  12.982870  80.262012    0     1   \n",
              "3  ff80818164b68a700164b74b1b247a1d  BHK1  12.955991  77.531634    0     0   \n",
              "4  ff80818163b1faf00163b4b9b8a163b1  BHK3  12.963903  77.649446    0     0   \n",
              "\n",
              "   swimming_pool  negotiable      furnishing      parking  ...  property_age  \\\n",
              "0              1           0  SEMI_FURNISHED         BOTH  ...            25   \n",
              "1              0           1  SEMI_FURNISHED         BOTH  ...             4   \n",
              "2              0           0  SEMI_FURNISHED         BOTH  ...             6   \n",
              "3              0           1  SEMI_FURNISHED  TWO_WHEELER  ...             3   \n",
              "4              0           1  SEMI_FURNISHED         BOTH  ...            15   \n",
              "\n",
              "   bathroom  facing cup_board  floor  total_floor  water_supply building_type  \\\n",
              "0         2       E         2      6           12     CORP_BORE            AP   \n",
              "1         2      NE         2      3            4   CORPORATION            AP   \n",
              "2         3       E         3      1            5     CORP_BORE            AP   \n",
              "3         1       E         1      1            2   CORPORATION            IH   \n",
              "4         3       E         4      0            0   CORPORATION            IH   \n",
              "\n",
              "  balconies   rent  \n",
              "0         2  40000  \n",
              "1         2  22000  \n",
              "2         3  28000  \n",
              "3         0   8000  \n",
              "4         1  45000  \n",
              "\n",
              "[5 rows x 21 columns]"
            ],
            "text/html": [
              "\n",
              "  <div id=\"df-02019a70-4f92-4239-adc0-b31eef69fc12\">\n",
              "    <div class=\"colab-df-container\">\n",
              "      <div>\n",
              "<style scoped>\n",
              "    .dataframe tbody tr th:only-of-type {\n",
              "        vertical-align: middle;\n",
              "    }\n",
              "\n",
              "    .dataframe tbody tr th {\n",
              "        vertical-align: top;\n",
              "    }\n",
              "\n",
              "    .dataframe thead th {\n",
              "        text-align: right;\n",
              "    }\n",
              "</style>\n",
              "<table border=\"1\" class=\"dataframe\">\n",
              "  <thead>\n",
              "    <tr style=\"text-align: right;\">\n",
              "      <th></th>\n",
              "      <th>id</th>\n",
              "      <th>type</th>\n",
              "      <th>latitude</th>\n",
              "      <th>longitude</th>\n",
              "      <th>gym</th>\n",
              "      <th>lift</th>\n",
              "      <th>swimming_pool</th>\n",
              "      <th>negotiable</th>\n",
              "      <th>furnishing</th>\n",
              "      <th>parking</th>\n",
              "      <th>...</th>\n",
              "      <th>property_age</th>\n",
              "      <th>bathroom</th>\n",
              "      <th>facing</th>\n",
              "      <th>cup_board</th>\n",
              "      <th>floor</th>\n",
              "      <th>total_floor</th>\n",
              "      <th>water_supply</th>\n",
              "      <th>building_type</th>\n",
              "      <th>balconies</th>\n",
              "      <th>rent</th>\n",
              "    </tr>\n",
              "  </thead>\n",
              "  <tbody>\n",
              "    <tr>\n",
              "      <th>0</th>\n",
              "      <td>ff8081815733a243015733b2876600a6</td>\n",
              "      <td>BHK2</td>\n",
              "      <td>12.934471</td>\n",
              "      <td>77.634471</td>\n",
              "      <td>1</td>\n",
              "      <td>1</td>\n",
              "      <td>1</td>\n",
              "      <td>0</td>\n",
              "      <td>SEMI_FURNISHED</td>\n",
              "      <td>BOTH</td>\n",
              "      <td>...</td>\n",
              "      <td>25</td>\n",
              "      <td>2</td>\n",
              "      <td>E</td>\n",
              "      <td>2</td>\n",
              "      <td>6</td>\n",
              "      <td>12</td>\n",
              "      <td>CORP_BORE</td>\n",
              "      <td>AP</td>\n",
              "      <td>2</td>\n",
              "      <td>40000</td>\n",
              "    </tr>\n",
              "    <tr>\n",
              "      <th>1</th>\n",
              "      <td>ff8081815ee25e15015ee50004da2acd</td>\n",
              "      <td>BHK2</td>\n",
              "      <td>12.929557</td>\n",
              "      <td>77.672280</td>\n",
              "      <td>0</td>\n",
              "      <td>1</td>\n",
              "      <td>0</td>\n",
              "      <td>1</td>\n",
              "      <td>SEMI_FURNISHED</td>\n",
              "      <td>BOTH</td>\n",
              "      <td>...</td>\n",
              "      <td>4</td>\n",
              "      <td>2</td>\n",
              "      <td>NE</td>\n",
              "      <td>2</td>\n",
              "      <td>3</td>\n",
              "      <td>4</td>\n",
              "      <td>CORPORATION</td>\n",
              "      <td>AP</td>\n",
              "      <td>2</td>\n",
              "      <td>22000</td>\n",
              "    </tr>\n",
              "    <tr>\n",
              "      <th>2</th>\n",
              "      <td>ff80818163f29c9e0163f46770b873e7</td>\n",
              "      <td>BHK3</td>\n",
              "      <td>12.982870</td>\n",
              "      <td>80.262012</td>\n",
              "      <td>0</td>\n",
              "      <td>1</td>\n",
              "      <td>0</td>\n",
              "      <td>0</td>\n",
              "      <td>SEMI_FURNISHED</td>\n",
              "      <td>BOTH</td>\n",
              "      <td>...</td>\n",
              "      <td>6</td>\n",
              "      <td>3</td>\n",
              "      <td>E</td>\n",
              "      <td>3</td>\n",
              "      <td>1</td>\n",
              "      <td>5</td>\n",
              "      <td>CORP_BORE</td>\n",
              "      <td>AP</td>\n",
              "      <td>3</td>\n",
              "      <td>28000</td>\n",
              "    </tr>\n",
              "    <tr>\n",
              "      <th>3</th>\n",
              "      <td>ff80818164b68a700164b74b1b247a1d</td>\n",
              "      <td>BHK1</td>\n",
              "      <td>12.955991</td>\n",
              "      <td>77.531634</td>\n",
              "      <td>0</td>\n",
              "      <td>0</td>\n",
              "      <td>0</td>\n",
              "      <td>1</td>\n",
              "      <td>SEMI_FURNISHED</td>\n",
              "      <td>TWO_WHEELER</td>\n",
              "      <td>...</td>\n",
              "      <td>3</td>\n",
              "      <td>1</td>\n",
              "      <td>E</td>\n",
              "      <td>1</td>\n",
              "      <td>1</td>\n",
              "      <td>2</td>\n",
              "      <td>CORPORATION</td>\n",
              "      <td>IH</td>\n",
              "      <td>0</td>\n",
              "      <td>8000</td>\n",
              "    </tr>\n",
              "    <tr>\n",
              "      <th>4</th>\n",
              "      <td>ff80818163b1faf00163b4b9b8a163b1</td>\n",
              "      <td>BHK3</td>\n",
              "      <td>12.963903</td>\n",
              "      <td>77.649446</td>\n",
              "      <td>0</td>\n",
              "      <td>0</td>\n",
              "      <td>0</td>\n",
              "      <td>1</td>\n",
              "      <td>SEMI_FURNISHED</td>\n",
              "      <td>BOTH</td>\n",
              "      <td>...</td>\n",
              "      <td>15</td>\n",
              "      <td>3</td>\n",
              "      <td>E</td>\n",
              "      <td>4</td>\n",
              "      <td>0</td>\n",
              "      <td>0</td>\n",
              "      <td>CORPORATION</td>\n",
              "      <td>IH</td>\n",
              "      <td>1</td>\n",
              "      <td>45000</td>\n",
              "    </tr>\n",
              "  </tbody>\n",
              "</table>\n",
              "<p>5 rows × 21 columns</p>\n",
              "</div>\n",
              "      <button class=\"colab-df-convert\" onclick=\"convertToInteractive('df-02019a70-4f92-4239-adc0-b31eef69fc12')\"\n",
              "              title=\"Convert this dataframe to an interactive table.\"\n",
              "              style=\"display:none;\">\n",
              "        \n",
              "  <svg xmlns=\"http://www.w3.org/2000/svg\" height=\"24px\"viewBox=\"0 0 24 24\"\n",
              "       width=\"24px\">\n",
              "    <path d=\"M0 0h24v24H0V0z\" fill=\"none\"/>\n",
              "    <path d=\"M18.56 5.44l.94 2.06.94-2.06 2.06-.94-2.06-.94-.94-2.06-.94 2.06-2.06.94zm-11 1L8.5 8.5l.94-2.06 2.06-.94-2.06-.94L8.5 2.5l-.94 2.06-2.06.94zm10 10l.94 2.06.94-2.06 2.06-.94-2.06-.94-.94-2.06-.94 2.06-2.06.94z\"/><path d=\"M17.41 7.96l-1.37-1.37c-.4-.4-.92-.59-1.43-.59-.52 0-1.04.2-1.43.59L10.3 9.45l-7.72 7.72c-.78.78-.78 2.05 0 2.83L4 21.41c.39.39.9.59 1.41.59.51 0 1.02-.2 1.41-.59l7.78-7.78 2.81-2.81c.8-.78.8-2.07 0-2.86zM5.41 20L4 18.59l7.72-7.72 1.47 1.35L5.41 20z\"/>\n",
              "  </svg>\n",
              "      </button>\n",
              "      \n",
              "  <style>\n",
              "    .colab-df-container {\n",
              "      display:flex;\n",
              "      flex-wrap:wrap;\n",
              "      gap: 12px;\n",
              "    }\n",
              "\n",
              "    .colab-df-convert {\n",
              "      background-color: #E8F0FE;\n",
              "      border: none;\n",
              "      border-radius: 50%;\n",
              "      cursor: pointer;\n",
              "      display: none;\n",
              "      fill: #1967D2;\n",
              "      height: 32px;\n",
              "      padding: 0 0 0 0;\n",
              "      width: 32px;\n",
              "    }\n",
              "\n",
              "    .colab-df-convert:hover {\n",
              "      background-color: #E2EBFA;\n",
              "      box-shadow: 0px 1px 2px rgba(60, 64, 67, 0.3), 0px 1px 3px 1px rgba(60, 64, 67, 0.15);\n",
              "      fill: #174EA6;\n",
              "    }\n",
              "\n",
              "    [theme=dark] .colab-df-convert {\n",
              "      background-color: #3B4455;\n",
              "      fill: #D2E3FC;\n",
              "    }\n",
              "\n",
              "    [theme=dark] .colab-df-convert:hover {\n",
              "      background-color: #434B5C;\n",
              "      box-shadow: 0px 1px 3px 1px rgba(0, 0, 0, 0.15);\n",
              "      filter: drop-shadow(0px 1px 2px rgba(0, 0, 0, 0.3));\n",
              "      fill: #FFFFFF;\n",
              "    }\n",
              "  </style>\n",
              "\n",
              "      <script>\n",
              "        const buttonEl =\n",
              "          document.querySelector('#df-02019a70-4f92-4239-adc0-b31eef69fc12 button.colab-df-convert');\n",
              "        buttonEl.style.display =\n",
              "          google.colab.kernel.accessAllowed ? 'block' : 'none';\n",
              "\n",
              "        async function convertToInteractive(key) {\n",
              "          const element = document.querySelector('#df-02019a70-4f92-4239-adc0-b31eef69fc12');\n",
              "          const dataTable =\n",
              "            await google.colab.kernel.invokeFunction('convertToInteractive',\n",
              "                                                     [key], {});\n",
              "          if (!dataTable) return;\n",
              "\n",
              "          const docLinkHtml = 'Like what you see? Visit the ' +\n",
              "            '<a target=\"_blank\" href=https://colab.research.google.com/notebooks/data_table.ipynb>data table notebook</a>'\n",
              "            + ' to learn more about interactive tables.';\n",
              "          element.innerHTML = '';\n",
              "          dataTable['output_type'] = 'display_data';\n",
              "          await google.colab.output.renderOutput(dataTable, element);\n",
              "          const docLink = document.createElement('div');\n",
              "          docLink.innerHTML = docLinkHtml;\n",
              "          element.appendChild(docLink);\n",
              "        }\n",
              "      </script>\n",
              "    </div>\n",
              "  </div>\n",
              "  "
            ]
          },
          "metadata": {},
          "execution_count": 287
        }
      ]
    },
    {
      "cell_type": "markdown",
      "source": [
        "## Removing Outliers"
      ],
      "metadata": {
        "id": "0LAhXvIrrtKu"
      }
    },
    {
      "cell_type": "code",
      "source": [
        "df2=df2[df2[\"bathroom\"] < 10]\n",
        "df2=df2[df2[\"cup_board\"]<20]\n",
        "df2=df2[df2[\"balconies\"]<5]"
      ],
      "metadata": {
        "id": "BS18TBFH43i2"
      },
      "execution_count": 288,
      "outputs": []
    },
    {
      "cell_type": "code",
      "source": [
        "df2.info()"
      ],
      "metadata": {
        "colab": {
          "base_uri": "https://localhost:8080/"
        },
        "id": "TC9EU5wd5CM4",
        "outputId": "443decc0-dc17-47f5-f747-80bf27ebebbf"
      },
      "execution_count": 289,
      "outputs": [
        {
          "output_type": "stream",
          "name": "stdout",
          "text": [
            "<class 'pandas.core.frame.DataFrame'>\n",
            "Int64Index: 20445 entries, 0 to 20499\n",
            "Data columns (total 21 columns):\n",
            " #   Column         Non-Null Count  Dtype  \n",
            "---  ------         --------------  -----  \n",
            " 0   id             20445 non-null  object \n",
            " 1   type           20445 non-null  object \n",
            " 2   latitude       20445 non-null  float64\n",
            " 3   longitude      20445 non-null  float64\n",
            " 4   gym            20445 non-null  int64  \n",
            " 5   lift           20445 non-null  int64  \n",
            " 6   swimming_pool  20445 non-null  int64  \n",
            " 7   negotiable     20445 non-null  int64  \n",
            " 8   furnishing     20445 non-null  object \n",
            " 9   parking        20445 non-null  object \n",
            " 10  property_size  20445 non-null  int64  \n",
            " 11  property_age   20445 non-null  int64  \n",
            " 12  bathroom       20445 non-null  int64  \n",
            " 13  facing         20445 non-null  object \n",
            " 14  cup_board      20445 non-null  int64  \n",
            " 15  floor          20445 non-null  int64  \n",
            " 16  total_floor    20445 non-null  int64  \n",
            " 17  water_supply   20445 non-null  object \n",
            " 18  building_type  20445 non-null  object \n",
            " 19  balconies      20445 non-null  int64  \n",
            " 20  rent           20445 non-null  int64  \n",
            "dtypes: float64(2), int64(12), object(7)\n",
            "memory usage: 3.4+ MB\n"
          ]
        }
      ]
    },
    {
      "cell_type": "markdown",
      "source": [
        "# Encoding the categorical fields"
      ],
      "metadata": {
        "id": "zRtufDR7OygD"
      }
    },
    {
      "cell_type": "code",
      "source": [
        "for ind in df2.index:\n",
        "  df2['furnishing'][ind]=furnish_dict[df2['furnishing'][ind]]"
      ],
      "metadata": {
        "colab": {
          "base_uri": "https://localhost:8080/"
        },
        "id": "gP_Ozso06gXf",
        "outputId": "cba17e0c-312a-43ee-da56-7ea8449d4ba2"
      },
      "execution_count": 290,
      "outputs": [
        {
          "output_type": "stream",
          "name": "stderr",
          "text": [
            "/usr/local/lib/python3.7/dist-packages/ipykernel_launcher.py:2: SettingWithCopyWarning: \n",
            "A value is trying to be set on a copy of a slice from a DataFrame\n",
            "\n",
            "See the caveats in the documentation: https://pandas.pydata.org/pandas-docs/stable/user_guide/indexing.html#returning-a-view-versus-a-copy\n",
            "  \n"
          ]
        }
      ]
    },
    {
      "cell_type": "code",
      "source": [
        "for ind in df2.index:\n",
        "  df2['water_supply'][ind]=water_dict[df2['water_supply'][ind]]"
      ],
      "metadata": {
        "colab": {
          "base_uri": "https://localhost:8080/"
        },
        "id": "LuA-9Far69Of",
        "outputId": "b2a41f09-b721-4af5-f9e9-bcc16a6837bb"
      },
      "execution_count": 291,
      "outputs": [
        {
          "output_type": "stream",
          "name": "stderr",
          "text": [
            "/usr/local/lib/python3.7/dist-packages/ipykernel_launcher.py:2: SettingWithCopyWarning: \n",
            "A value is trying to be set on a copy of a slice from a DataFrame\n",
            "\n",
            "See the caveats in the documentation: https://pandas.pydata.org/pandas-docs/stable/user_guide/indexing.html#returning-a-view-versus-a-copy\n",
            "  \n"
          ]
        }
      ]
    },
    {
      "cell_type": "code",
      "source": [
        "for ind in df2.index:\n",
        "  df2['parking'][ind]=park_dict[df2['parking'][ind]]"
      ],
      "metadata": {
        "colab": {
          "base_uri": "https://localhost:8080/"
        },
        "id": "46OSL1WV7Iv7",
        "outputId": "55cc94f2-6db7-4399-f211-5c10d19b992b"
      },
      "execution_count": 292,
      "outputs": [
        {
          "output_type": "stream",
          "name": "stderr",
          "text": [
            "/usr/local/lib/python3.7/dist-packages/ipykernel_launcher.py:2: SettingWithCopyWarning: \n",
            "A value is trying to be set on a copy of a slice from a DataFrame\n",
            "\n",
            "See the caveats in the documentation: https://pandas.pydata.org/pandas-docs/stable/user_guide/indexing.html#returning-a-view-versus-a-copy\n",
            "  \n"
          ]
        }
      ]
    },
    {
      "cell_type": "code",
      "source": [
        "for ind in df2.index:\n",
        "  df2['facing'][ind]=face_dict[df2['facing'][ind]]"
      ],
      "metadata": {
        "colab": {
          "base_uri": "https://localhost:8080/"
        },
        "id": "vlKS93r_7QAX",
        "outputId": "116950f7-70a5-4df2-f18d-f659d50b6cd0"
      },
      "execution_count": 293,
      "outputs": [
        {
          "output_type": "stream",
          "name": "stderr",
          "text": [
            "/usr/local/lib/python3.7/dist-packages/ipykernel_launcher.py:2: SettingWithCopyWarning: \n",
            "A value is trying to be set on a copy of a slice from a DataFrame\n",
            "\n",
            "See the caveats in the documentation: https://pandas.pydata.org/pandas-docs/stable/user_guide/indexing.html#returning-a-view-versus-a-copy\n",
            "  \n"
          ]
        }
      ]
    },
    {
      "cell_type": "code",
      "source": [
        "for ind in df2.index:\n",
        "  df2['type'][ind]=type_dict[df2['type'][ind]]"
      ],
      "metadata": {
        "colab": {
          "base_uri": "https://localhost:8080/"
        },
        "id": "-HVEKK0N7wV7",
        "outputId": "8b13ce47-4477-4ee8-e133-120ff71433d7"
      },
      "execution_count": 294,
      "outputs": [
        {
          "output_type": "stream",
          "name": "stderr",
          "text": [
            "/usr/local/lib/python3.7/dist-packages/ipykernel_launcher.py:2: SettingWithCopyWarning: \n",
            "A value is trying to be set on a copy of a slice from a DataFrame\n",
            "\n",
            "See the caveats in the documentation: https://pandas.pydata.org/pandas-docs/stable/user_guide/indexing.html#returning-a-view-versus-a-copy\n",
            "  \n"
          ]
        }
      ]
    },
    {
      "cell_type": "code",
      "source": [
        "for ind in df2.index:\n",
        "  df2['building_type'][ind]=build_dict[df2['building_type'][ind]]"
      ],
      "metadata": {
        "colab": {
          "base_uri": "https://localhost:8080/"
        },
        "id": "ZgfLKcI1750Y",
        "outputId": "7a178a6e-936e-45c0-87b6-17e78249a022"
      },
      "execution_count": 295,
      "outputs": [
        {
          "output_type": "stream",
          "name": "stderr",
          "text": [
            "/usr/local/lib/python3.7/dist-packages/ipykernel_launcher.py:2: SettingWithCopyWarning: \n",
            "A value is trying to be set on a copy of a slice from a DataFrame\n",
            "\n",
            "See the caveats in the documentation: https://pandas.pydata.org/pandas-docs/stable/user_guide/indexing.html#returning-a-view-versus-a-copy\n",
            "  \n"
          ]
        }
      ]
    },
    {
      "cell_type": "code",
      "source": [
        "df2.head()"
      ],
      "metadata": {
        "colab": {
          "base_uri": "https://localhost:8080/",
          "height": 300
        },
        "id": "KAtXRoAX7XUI",
        "outputId": "27ea2660-d01c-4f6a-b92e-1fb287032440"
      },
      "execution_count": 296,
      "outputs": [
        {
          "output_type": "execute_result",
          "data": {
            "text/plain": [
              "                                 id type   latitude  longitude  gym  lift  \\\n",
              "0  ff8081815733a243015733b2876600a6    2  12.934471  77.634471    1     1   \n",
              "1  ff8081815ee25e15015ee50004da2acd    2  12.929557  77.672280    0     1   \n",
              "2  ff80818163f29c9e0163f46770b873e7    2  12.982870  80.262012    0     1   \n",
              "3  ff80818164b68a700164b74b1b247a1d    1  12.955991  77.531634    0     0   \n",
              "4  ff80818163b1faf00163b4b9b8a163b1    2  12.963903  77.649446    0     0   \n",
              "\n",
              "   swimming_pool  negotiable furnishing parking  ...  property_age  bathroom  \\\n",
              "0              1           0          1       3  ...            25         2   \n",
              "1              0           1          1       3  ...             4         2   \n",
              "2              0           0          1       3  ...             6         3   \n",
              "3              0           1          1       1  ...             3         1   \n",
              "4              0           1          1       3  ...            15         3   \n",
              "\n",
              "   facing cup_board  floor  total_floor  water_supply building_type balconies  \\\n",
              "0       6         2      6           12             2             1         2   \n",
              "1       5         2      3            4             1             1         2   \n",
              "2       6         3      1            5             2             1         3   \n",
              "3       6         1      1            2             1             3         0   \n",
              "4       6         4      0            0             1             3         1   \n",
              "\n",
              "    rent  \n",
              "0  40000  \n",
              "1  22000  \n",
              "2  28000  \n",
              "3   8000  \n",
              "4  45000  \n",
              "\n",
              "[5 rows x 21 columns]"
            ],
            "text/html": [
              "\n",
              "  <div id=\"df-d4b76620-2d50-483f-8c40-0656572340b5\">\n",
              "    <div class=\"colab-df-container\">\n",
              "      <div>\n",
              "<style scoped>\n",
              "    .dataframe tbody tr th:only-of-type {\n",
              "        vertical-align: middle;\n",
              "    }\n",
              "\n",
              "    .dataframe tbody tr th {\n",
              "        vertical-align: top;\n",
              "    }\n",
              "\n",
              "    .dataframe thead th {\n",
              "        text-align: right;\n",
              "    }\n",
              "</style>\n",
              "<table border=\"1\" class=\"dataframe\">\n",
              "  <thead>\n",
              "    <tr style=\"text-align: right;\">\n",
              "      <th></th>\n",
              "      <th>id</th>\n",
              "      <th>type</th>\n",
              "      <th>latitude</th>\n",
              "      <th>longitude</th>\n",
              "      <th>gym</th>\n",
              "      <th>lift</th>\n",
              "      <th>swimming_pool</th>\n",
              "      <th>negotiable</th>\n",
              "      <th>furnishing</th>\n",
              "      <th>parking</th>\n",
              "      <th>...</th>\n",
              "      <th>property_age</th>\n",
              "      <th>bathroom</th>\n",
              "      <th>facing</th>\n",
              "      <th>cup_board</th>\n",
              "      <th>floor</th>\n",
              "      <th>total_floor</th>\n",
              "      <th>water_supply</th>\n",
              "      <th>building_type</th>\n",
              "      <th>balconies</th>\n",
              "      <th>rent</th>\n",
              "    </tr>\n",
              "  </thead>\n",
              "  <tbody>\n",
              "    <tr>\n",
              "      <th>0</th>\n",
              "      <td>ff8081815733a243015733b2876600a6</td>\n",
              "      <td>2</td>\n",
              "      <td>12.934471</td>\n",
              "      <td>77.634471</td>\n",
              "      <td>1</td>\n",
              "      <td>1</td>\n",
              "      <td>1</td>\n",
              "      <td>0</td>\n",
              "      <td>1</td>\n",
              "      <td>3</td>\n",
              "      <td>...</td>\n",
              "      <td>25</td>\n",
              "      <td>2</td>\n",
              "      <td>6</td>\n",
              "      <td>2</td>\n",
              "      <td>6</td>\n",
              "      <td>12</td>\n",
              "      <td>2</td>\n",
              "      <td>1</td>\n",
              "      <td>2</td>\n",
              "      <td>40000</td>\n",
              "    </tr>\n",
              "    <tr>\n",
              "      <th>1</th>\n",
              "      <td>ff8081815ee25e15015ee50004da2acd</td>\n",
              "      <td>2</td>\n",
              "      <td>12.929557</td>\n",
              "      <td>77.672280</td>\n",
              "      <td>0</td>\n",
              "      <td>1</td>\n",
              "      <td>0</td>\n",
              "      <td>1</td>\n",
              "      <td>1</td>\n",
              "      <td>3</td>\n",
              "      <td>...</td>\n",
              "      <td>4</td>\n",
              "      <td>2</td>\n",
              "      <td>5</td>\n",
              "      <td>2</td>\n",
              "      <td>3</td>\n",
              "      <td>4</td>\n",
              "      <td>1</td>\n",
              "      <td>1</td>\n",
              "      <td>2</td>\n",
              "      <td>22000</td>\n",
              "    </tr>\n",
              "    <tr>\n",
              "      <th>2</th>\n",
              "      <td>ff80818163f29c9e0163f46770b873e7</td>\n",
              "      <td>2</td>\n",
              "      <td>12.982870</td>\n",
              "      <td>80.262012</td>\n",
              "      <td>0</td>\n",
              "      <td>1</td>\n",
              "      <td>0</td>\n",
              "      <td>0</td>\n",
              "      <td>1</td>\n",
              "      <td>3</td>\n",
              "      <td>...</td>\n",
              "      <td>6</td>\n",
              "      <td>3</td>\n",
              "      <td>6</td>\n",
              "      <td>3</td>\n",
              "      <td>1</td>\n",
              "      <td>5</td>\n",
              "      <td>2</td>\n",
              "      <td>1</td>\n",
              "      <td>3</td>\n",
              "      <td>28000</td>\n",
              "    </tr>\n",
              "    <tr>\n",
              "      <th>3</th>\n",
              "      <td>ff80818164b68a700164b74b1b247a1d</td>\n",
              "      <td>1</td>\n",
              "      <td>12.955991</td>\n",
              "      <td>77.531634</td>\n",
              "      <td>0</td>\n",
              "      <td>0</td>\n",
              "      <td>0</td>\n",
              "      <td>1</td>\n",
              "      <td>1</td>\n",
              "      <td>1</td>\n",
              "      <td>...</td>\n",
              "      <td>3</td>\n",
              "      <td>1</td>\n",
              "      <td>6</td>\n",
              "      <td>1</td>\n",
              "      <td>1</td>\n",
              "      <td>2</td>\n",
              "      <td>1</td>\n",
              "      <td>3</td>\n",
              "      <td>0</td>\n",
              "      <td>8000</td>\n",
              "    </tr>\n",
              "    <tr>\n",
              "      <th>4</th>\n",
              "      <td>ff80818163b1faf00163b4b9b8a163b1</td>\n",
              "      <td>2</td>\n",
              "      <td>12.963903</td>\n",
              "      <td>77.649446</td>\n",
              "      <td>0</td>\n",
              "      <td>0</td>\n",
              "      <td>0</td>\n",
              "      <td>1</td>\n",
              "      <td>1</td>\n",
              "      <td>3</td>\n",
              "      <td>...</td>\n",
              "      <td>15</td>\n",
              "      <td>3</td>\n",
              "      <td>6</td>\n",
              "      <td>4</td>\n",
              "      <td>0</td>\n",
              "      <td>0</td>\n",
              "      <td>1</td>\n",
              "      <td>3</td>\n",
              "      <td>1</td>\n",
              "      <td>45000</td>\n",
              "    </tr>\n",
              "  </tbody>\n",
              "</table>\n",
              "<p>5 rows × 21 columns</p>\n",
              "</div>\n",
              "      <button class=\"colab-df-convert\" onclick=\"convertToInteractive('df-d4b76620-2d50-483f-8c40-0656572340b5')\"\n",
              "              title=\"Convert this dataframe to an interactive table.\"\n",
              "              style=\"display:none;\">\n",
              "        \n",
              "  <svg xmlns=\"http://www.w3.org/2000/svg\" height=\"24px\"viewBox=\"0 0 24 24\"\n",
              "       width=\"24px\">\n",
              "    <path d=\"M0 0h24v24H0V0z\" fill=\"none\"/>\n",
              "    <path d=\"M18.56 5.44l.94 2.06.94-2.06 2.06-.94-2.06-.94-.94-2.06-.94 2.06-2.06.94zm-11 1L8.5 8.5l.94-2.06 2.06-.94-2.06-.94L8.5 2.5l-.94 2.06-2.06.94zm10 10l.94 2.06.94-2.06 2.06-.94-2.06-.94-.94-2.06-.94 2.06-2.06.94z\"/><path d=\"M17.41 7.96l-1.37-1.37c-.4-.4-.92-.59-1.43-.59-.52 0-1.04.2-1.43.59L10.3 9.45l-7.72 7.72c-.78.78-.78 2.05 0 2.83L4 21.41c.39.39.9.59 1.41.59.51 0 1.02-.2 1.41-.59l7.78-7.78 2.81-2.81c.8-.78.8-2.07 0-2.86zM5.41 20L4 18.59l7.72-7.72 1.47 1.35L5.41 20z\"/>\n",
              "  </svg>\n",
              "      </button>\n",
              "      \n",
              "  <style>\n",
              "    .colab-df-container {\n",
              "      display:flex;\n",
              "      flex-wrap:wrap;\n",
              "      gap: 12px;\n",
              "    }\n",
              "\n",
              "    .colab-df-convert {\n",
              "      background-color: #E8F0FE;\n",
              "      border: none;\n",
              "      border-radius: 50%;\n",
              "      cursor: pointer;\n",
              "      display: none;\n",
              "      fill: #1967D2;\n",
              "      height: 32px;\n",
              "      padding: 0 0 0 0;\n",
              "      width: 32px;\n",
              "    }\n",
              "\n",
              "    .colab-df-convert:hover {\n",
              "      background-color: #E2EBFA;\n",
              "      box-shadow: 0px 1px 2px rgba(60, 64, 67, 0.3), 0px 1px 3px 1px rgba(60, 64, 67, 0.15);\n",
              "      fill: #174EA6;\n",
              "    }\n",
              "\n",
              "    [theme=dark] .colab-df-convert {\n",
              "      background-color: #3B4455;\n",
              "      fill: #D2E3FC;\n",
              "    }\n",
              "\n",
              "    [theme=dark] .colab-df-convert:hover {\n",
              "      background-color: #434B5C;\n",
              "      box-shadow: 0px 1px 3px 1px rgba(0, 0, 0, 0.15);\n",
              "      filter: drop-shadow(0px 1px 2px rgba(0, 0, 0, 0.3));\n",
              "      fill: #FFFFFF;\n",
              "    }\n",
              "  </style>\n",
              "\n",
              "      <script>\n",
              "        const buttonEl =\n",
              "          document.querySelector('#df-d4b76620-2d50-483f-8c40-0656572340b5 button.colab-df-convert');\n",
              "        buttonEl.style.display =\n",
              "          google.colab.kernel.accessAllowed ? 'block' : 'none';\n",
              "\n",
              "        async function convertToInteractive(key) {\n",
              "          const element = document.querySelector('#df-d4b76620-2d50-483f-8c40-0656572340b5');\n",
              "          const dataTable =\n",
              "            await google.colab.kernel.invokeFunction('convertToInteractive',\n",
              "                                                     [key], {});\n",
              "          if (!dataTable) return;\n",
              "\n",
              "          const docLinkHtml = 'Like what you see? Visit the ' +\n",
              "            '<a target=\"_blank\" href=https://colab.research.google.com/notebooks/data_table.ipynb>data table notebook</a>'\n",
              "            + ' to learn more about interactive tables.';\n",
              "          element.innerHTML = '';\n",
              "          dataTable['output_type'] = 'display_data';\n",
              "          await google.colab.output.renderOutput(dataTable, element);\n",
              "          const docLink = document.createElement('div');\n",
              "          docLink.innerHTML = docLinkHtml;\n",
              "          element.appendChild(docLink);\n",
              "        }\n",
              "      </script>\n",
              "    </div>\n",
              "  </div>\n",
              "  "
            ]
          },
          "metadata": {},
          "execution_count": 296
        }
      ]
    },
    {
      "cell_type": "markdown",
      "source": [
        "# Adding the new feature"
      ],
      "metadata": {
        "id": "yRkCFX-VO5C4"
      }
    },
    {
      "cell_type": "code",
      "source": [
        "ec_lat=12.8452\n",
        "ec_long=77.6602\n",
        "\n",
        "## this is the lat long coordinates of Electronic City in Bangalore"
      ],
      "metadata": {
        "id": "apzGduiJ7ilI"
      },
      "execution_count": 297,
      "outputs": []
    },
    {
      "cell_type": "code",
      "source": [
        "df2[\"ecity\"]=0"
      ],
      "metadata": {
        "id": "UzL7mKX08Tqv"
      },
      "execution_count": 298,
      "outputs": []
    },
    {
      "cell_type": "code",
      "source": [
        "df2.head()"
      ],
      "metadata": {
        "colab": {
          "base_uri": "https://localhost:8080/",
          "height": 300
        },
        "id": "QD2Gbybw89Ml",
        "outputId": "133548e4-d8fe-4cfd-8b94-e3e7f1b92c80"
      },
      "execution_count": 299,
      "outputs": [
        {
          "output_type": "execute_result",
          "data": {
            "text/plain": [
              "                                 id type   latitude  longitude  gym  lift  \\\n",
              "0  ff8081815733a243015733b2876600a6    2  12.934471  77.634471    1     1   \n",
              "1  ff8081815ee25e15015ee50004da2acd    2  12.929557  77.672280    0     1   \n",
              "2  ff80818163f29c9e0163f46770b873e7    2  12.982870  80.262012    0     1   \n",
              "3  ff80818164b68a700164b74b1b247a1d    1  12.955991  77.531634    0     0   \n",
              "4  ff80818163b1faf00163b4b9b8a163b1    2  12.963903  77.649446    0     0   \n",
              "\n",
              "   swimming_pool  negotiable furnishing parking  ...  bathroom  facing  \\\n",
              "0              1           0          1       3  ...         2       6   \n",
              "1              0           1          1       3  ...         2       5   \n",
              "2              0           0          1       3  ...         3       6   \n",
              "3              0           1          1       1  ...         1       6   \n",
              "4              0           1          1       3  ...         3       6   \n",
              "\n",
              "   cup_board floor  total_floor  water_supply  building_type balconies   rent  \\\n",
              "0          2     6           12             2              1         2  40000   \n",
              "1          2     3            4             1              1         2  22000   \n",
              "2          3     1            5             2              1         3  28000   \n",
              "3          1     1            2             1              3         0   8000   \n",
              "4          4     0            0             1              3         1  45000   \n",
              "\n",
              "   ecity  \n",
              "0      0  \n",
              "1      0  \n",
              "2      0  \n",
              "3      0  \n",
              "4      0  \n",
              "\n",
              "[5 rows x 22 columns]"
            ],
            "text/html": [
              "\n",
              "  <div id=\"df-f18b944d-8ba3-43ec-91f4-97927b9284fd\">\n",
              "    <div class=\"colab-df-container\">\n",
              "      <div>\n",
              "<style scoped>\n",
              "    .dataframe tbody tr th:only-of-type {\n",
              "        vertical-align: middle;\n",
              "    }\n",
              "\n",
              "    .dataframe tbody tr th {\n",
              "        vertical-align: top;\n",
              "    }\n",
              "\n",
              "    .dataframe thead th {\n",
              "        text-align: right;\n",
              "    }\n",
              "</style>\n",
              "<table border=\"1\" class=\"dataframe\">\n",
              "  <thead>\n",
              "    <tr style=\"text-align: right;\">\n",
              "      <th></th>\n",
              "      <th>id</th>\n",
              "      <th>type</th>\n",
              "      <th>latitude</th>\n",
              "      <th>longitude</th>\n",
              "      <th>gym</th>\n",
              "      <th>lift</th>\n",
              "      <th>swimming_pool</th>\n",
              "      <th>negotiable</th>\n",
              "      <th>furnishing</th>\n",
              "      <th>parking</th>\n",
              "      <th>...</th>\n",
              "      <th>bathroom</th>\n",
              "      <th>facing</th>\n",
              "      <th>cup_board</th>\n",
              "      <th>floor</th>\n",
              "      <th>total_floor</th>\n",
              "      <th>water_supply</th>\n",
              "      <th>building_type</th>\n",
              "      <th>balconies</th>\n",
              "      <th>rent</th>\n",
              "      <th>ecity</th>\n",
              "    </tr>\n",
              "  </thead>\n",
              "  <tbody>\n",
              "    <tr>\n",
              "      <th>0</th>\n",
              "      <td>ff8081815733a243015733b2876600a6</td>\n",
              "      <td>2</td>\n",
              "      <td>12.934471</td>\n",
              "      <td>77.634471</td>\n",
              "      <td>1</td>\n",
              "      <td>1</td>\n",
              "      <td>1</td>\n",
              "      <td>0</td>\n",
              "      <td>1</td>\n",
              "      <td>3</td>\n",
              "      <td>...</td>\n",
              "      <td>2</td>\n",
              "      <td>6</td>\n",
              "      <td>2</td>\n",
              "      <td>6</td>\n",
              "      <td>12</td>\n",
              "      <td>2</td>\n",
              "      <td>1</td>\n",
              "      <td>2</td>\n",
              "      <td>40000</td>\n",
              "      <td>0</td>\n",
              "    </tr>\n",
              "    <tr>\n",
              "      <th>1</th>\n",
              "      <td>ff8081815ee25e15015ee50004da2acd</td>\n",
              "      <td>2</td>\n",
              "      <td>12.929557</td>\n",
              "      <td>77.672280</td>\n",
              "      <td>0</td>\n",
              "      <td>1</td>\n",
              "      <td>0</td>\n",
              "      <td>1</td>\n",
              "      <td>1</td>\n",
              "      <td>3</td>\n",
              "      <td>...</td>\n",
              "      <td>2</td>\n",
              "      <td>5</td>\n",
              "      <td>2</td>\n",
              "      <td>3</td>\n",
              "      <td>4</td>\n",
              "      <td>1</td>\n",
              "      <td>1</td>\n",
              "      <td>2</td>\n",
              "      <td>22000</td>\n",
              "      <td>0</td>\n",
              "    </tr>\n",
              "    <tr>\n",
              "      <th>2</th>\n",
              "      <td>ff80818163f29c9e0163f46770b873e7</td>\n",
              "      <td>2</td>\n",
              "      <td>12.982870</td>\n",
              "      <td>80.262012</td>\n",
              "      <td>0</td>\n",
              "      <td>1</td>\n",
              "      <td>0</td>\n",
              "      <td>0</td>\n",
              "      <td>1</td>\n",
              "      <td>3</td>\n",
              "      <td>...</td>\n",
              "      <td>3</td>\n",
              "      <td>6</td>\n",
              "      <td>3</td>\n",
              "      <td>1</td>\n",
              "      <td>5</td>\n",
              "      <td>2</td>\n",
              "      <td>1</td>\n",
              "      <td>3</td>\n",
              "      <td>28000</td>\n",
              "      <td>0</td>\n",
              "    </tr>\n",
              "    <tr>\n",
              "      <th>3</th>\n",
              "      <td>ff80818164b68a700164b74b1b247a1d</td>\n",
              "      <td>1</td>\n",
              "      <td>12.955991</td>\n",
              "      <td>77.531634</td>\n",
              "      <td>0</td>\n",
              "      <td>0</td>\n",
              "      <td>0</td>\n",
              "      <td>1</td>\n",
              "      <td>1</td>\n",
              "      <td>1</td>\n",
              "      <td>...</td>\n",
              "      <td>1</td>\n",
              "      <td>6</td>\n",
              "      <td>1</td>\n",
              "      <td>1</td>\n",
              "      <td>2</td>\n",
              "      <td>1</td>\n",
              "      <td>3</td>\n",
              "      <td>0</td>\n",
              "      <td>8000</td>\n",
              "      <td>0</td>\n",
              "    </tr>\n",
              "    <tr>\n",
              "      <th>4</th>\n",
              "      <td>ff80818163b1faf00163b4b9b8a163b1</td>\n",
              "      <td>2</td>\n",
              "      <td>12.963903</td>\n",
              "      <td>77.649446</td>\n",
              "      <td>0</td>\n",
              "      <td>0</td>\n",
              "      <td>0</td>\n",
              "      <td>1</td>\n",
              "      <td>1</td>\n",
              "      <td>3</td>\n",
              "      <td>...</td>\n",
              "      <td>3</td>\n",
              "      <td>6</td>\n",
              "      <td>4</td>\n",
              "      <td>0</td>\n",
              "      <td>0</td>\n",
              "      <td>1</td>\n",
              "      <td>3</td>\n",
              "      <td>1</td>\n",
              "      <td>45000</td>\n",
              "      <td>0</td>\n",
              "    </tr>\n",
              "  </tbody>\n",
              "</table>\n",
              "<p>5 rows × 22 columns</p>\n",
              "</div>\n",
              "      <button class=\"colab-df-convert\" onclick=\"convertToInteractive('df-f18b944d-8ba3-43ec-91f4-97927b9284fd')\"\n",
              "              title=\"Convert this dataframe to an interactive table.\"\n",
              "              style=\"display:none;\">\n",
              "        \n",
              "  <svg xmlns=\"http://www.w3.org/2000/svg\" height=\"24px\"viewBox=\"0 0 24 24\"\n",
              "       width=\"24px\">\n",
              "    <path d=\"M0 0h24v24H0V0z\" fill=\"none\"/>\n",
              "    <path d=\"M18.56 5.44l.94 2.06.94-2.06 2.06-.94-2.06-.94-.94-2.06-.94 2.06-2.06.94zm-11 1L8.5 8.5l.94-2.06 2.06-.94-2.06-.94L8.5 2.5l-.94 2.06-2.06.94zm10 10l.94 2.06.94-2.06 2.06-.94-2.06-.94-.94-2.06-.94 2.06-2.06.94z\"/><path d=\"M17.41 7.96l-1.37-1.37c-.4-.4-.92-.59-1.43-.59-.52 0-1.04.2-1.43.59L10.3 9.45l-7.72 7.72c-.78.78-.78 2.05 0 2.83L4 21.41c.39.39.9.59 1.41.59.51 0 1.02-.2 1.41-.59l7.78-7.78 2.81-2.81c.8-.78.8-2.07 0-2.86zM5.41 20L4 18.59l7.72-7.72 1.47 1.35L5.41 20z\"/>\n",
              "  </svg>\n",
              "      </button>\n",
              "      \n",
              "  <style>\n",
              "    .colab-df-container {\n",
              "      display:flex;\n",
              "      flex-wrap:wrap;\n",
              "      gap: 12px;\n",
              "    }\n",
              "\n",
              "    .colab-df-convert {\n",
              "      background-color: #E8F0FE;\n",
              "      border: none;\n",
              "      border-radius: 50%;\n",
              "      cursor: pointer;\n",
              "      display: none;\n",
              "      fill: #1967D2;\n",
              "      height: 32px;\n",
              "      padding: 0 0 0 0;\n",
              "      width: 32px;\n",
              "    }\n",
              "\n",
              "    .colab-df-convert:hover {\n",
              "      background-color: #E2EBFA;\n",
              "      box-shadow: 0px 1px 2px rgba(60, 64, 67, 0.3), 0px 1px 3px 1px rgba(60, 64, 67, 0.15);\n",
              "      fill: #174EA6;\n",
              "    }\n",
              "\n",
              "    [theme=dark] .colab-df-convert {\n",
              "      background-color: #3B4455;\n",
              "      fill: #D2E3FC;\n",
              "    }\n",
              "\n",
              "    [theme=dark] .colab-df-convert:hover {\n",
              "      background-color: #434B5C;\n",
              "      box-shadow: 0px 1px 3px 1px rgba(0, 0, 0, 0.15);\n",
              "      filter: drop-shadow(0px 1px 2px rgba(0, 0, 0, 0.3));\n",
              "      fill: #FFFFFF;\n",
              "    }\n",
              "  </style>\n",
              "\n",
              "      <script>\n",
              "        const buttonEl =\n",
              "          document.querySelector('#df-f18b944d-8ba3-43ec-91f4-97927b9284fd button.colab-df-convert');\n",
              "        buttonEl.style.display =\n",
              "          google.colab.kernel.accessAllowed ? 'block' : 'none';\n",
              "\n",
              "        async function convertToInteractive(key) {\n",
              "          const element = document.querySelector('#df-f18b944d-8ba3-43ec-91f4-97927b9284fd');\n",
              "          const dataTable =\n",
              "            await google.colab.kernel.invokeFunction('convertToInteractive',\n",
              "                                                     [key], {});\n",
              "          if (!dataTable) return;\n",
              "\n",
              "          const docLinkHtml = 'Like what you see? Visit the ' +\n",
              "            '<a target=\"_blank\" href=https://colab.research.google.com/notebooks/data_table.ipynb>data table notebook</a>'\n",
              "            + ' to learn more about interactive tables.';\n",
              "          element.innerHTML = '';\n",
              "          dataTable['output_type'] = 'display_data';\n",
              "          await google.colab.output.renderOutput(dataTable, element);\n",
              "          const docLink = document.createElement('div');\n",
              "          docLink.innerHTML = docLinkHtml;\n",
              "          element.appendChild(docLink);\n",
              "        }\n",
              "      </script>\n",
              "    </div>\n",
              "  </div>\n",
              "  "
            ]
          },
          "metadata": {},
          "execution_count": 299
        }
      ]
    },
    {
      "cell_type": "code",
      "source": [
        "for ind in df2.index:\n",
        "  df2['ecity'][ind]=calculate_spherical_distance(ec_lat,ec_long,df2[\"latitude\"][ind], df2[\"longitude\"][ind])\n",
        "\n",
        "## computing and storing the distance"
      ],
      "metadata": {
        "colab": {
          "base_uri": "https://localhost:8080/"
        },
        "id": "e2VdCBEc8_6k",
        "outputId": "01a551bb-2a74-477d-c71b-84266a6feafe"
      },
      "execution_count": 300,
      "outputs": [
        {
          "output_type": "stream",
          "name": "stderr",
          "text": [
            "/usr/local/lib/python3.7/dist-packages/ipykernel_launcher.py:2: SettingWithCopyWarning: \n",
            "A value is trying to be set on a copy of a slice from a DataFrame\n",
            "\n",
            "See the caveats in the documentation: https://pandas.pydata.org/pandas-docs/stable/user_guide/indexing.html#returning-a-view-versus-a-copy\n",
            "  \n"
          ]
        }
      ]
    },
    {
      "cell_type": "code",
      "source": [
        "df2.head()"
      ],
      "metadata": {
        "colab": {
          "base_uri": "https://localhost:8080/",
          "height": 300
        },
        "id": "iX7u2skf9Y9c",
        "outputId": "eebc6cea-66d0-4faa-a47f-f1bebbb658fc"
      },
      "execution_count": 301,
      "outputs": [
        {
          "output_type": "execute_result",
          "data": {
            "text/plain": [
              "                                 id type   latitude  longitude  gym  lift  \\\n",
              "0  ff8081815733a243015733b2876600a6    2  12.934471  77.634471    1     1   \n",
              "1  ff8081815ee25e15015ee50004da2acd    2  12.929557  77.672280    0     1   \n",
              "2  ff80818163f29c9e0163f46770b873e7    2  12.982870  80.262012    0     1   \n",
              "3  ff80818164b68a700164b74b1b247a1d    1  12.955991  77.531634    0     0   \n",
              "4  ff80818163b1faf00163b4b9b8a163b1    2  12.963903  77.649446    0     0   \n",
              "\n",
              "   swimming_pool  negotiable furnishing parking  ...  bathroom  facing  \\\n",
              "0              1           0          1       3  ...         2       6   \n",
              "1              0           1          1       3  ...         2       5   \n",
              "2              0           0          1       3  ...         3       6   \n",
              "3              0           1          1       1  ...         1       6   \n",
              "4              0           1          1       3  ...         3       6   \n",
              "\n",
              "   cup_board floor  total_floor  water_supply  building_type balconies   rent  \\\n",
              "0          2     6           12             2              1         2  40000   \n",
              "1          2     3            4             1              1         2  22000   \n",
              "2          3     1            5             2              1         3  28000   \n",
              "3          1     1            2             1              3         0   8000   \n",
              "4          4     0            0             1              3         1  45000   \n",
              "\n",
              "   ecity  \n",
              "0     10  \n",
              "1      9  \n",
              "2    282  \n",
              "3     18  \n",
              "4     13  \n",
              "\n",
              "[5 rows x 22 columns]"
            ],
            "text/html": [
              "\n",
              "  <div id=\"df-07536b37-d564-4d9c-adca-769410438157\">\n",
              "    <div class=\"colab-df-container\">\n",
              "      <div>\n",
              "<style scoped>\n",
              "    .dataframe tbody tr th:only-of-type {\n",
              "        vertical-align: middle;\n",
              "    }\n",
              "\n",
              "    .dataframe tbody tr th {\n",
              "        vertical-align: top;\n",
              "    }\n",
              "\n",
              "    .dataframe thead th {\n",
              "        text-align: right;\n",
              "    }\n",
              "</style>\n",
              "<table border=\"1\" class=\"dataframe\">\n",
              "  <thead>\n",
              "    <tr style=\"text-align: right;\">\n",
              "      <th></th>\n",
              "      <th>id</th>\n",
              "      <th>type</th>\n",
              "      <th>latitude</th>\n",
              "      <th>longitude</th>\n",
              "      <th>gym</th>\n",
              "      <th>lift</th>\n",
              "      <th>swimming_pool</th>\n",
              "      <th>negotiable</th>\n",
              "      <th>furnishing</th>\n",
              "      <th>parking</th>\n",
              "      <th>...</th>\n",
              "      <th>bathroom</th>\n",
              "      <th>facing</th>\n",
              "      <th>cup_board</th>\n",
              "      <th>floor</th>\n",
              "      <th>total_floor</th>\n",
              "      <th>water_supply</th>\n",
              "      <th>building_type</th>\n",
              "      <th>balconies</th>\n",
              "      <th>rent</th>\n",
              "      <th>ecity</th>\n",
              "    </tr>\n",
              "  </thead>\n",
              "  <tbody>\n",
              "    <tr>\n",
              "      <th>0</th>\n",
              "      <td>ff8081815733a243015733b2876600a6</td>\n",
              "      <td>2</td>\n",
              "      <td>12.934471</td>\n",
              "      <td>77.634471</td>\n",
              "      <td>1</td>\n",
              "      <td>1</td>\n",
              "      <td>1</td>\n",
              "      <td>0</td>\n",
              "      <td>1</td>\n",
              "      <td>3</td>\n",
              "      <td>...</td>\n",
              "      <td>2</td>\n",
              "      <td>6</td>\n",
              "      <td>2</td>\n",
              "      <td>6</td>\n",
              "      <td>12</td>\n",
              "      <td>2</td>\n",
              "      <td>1</td>\n",
              "      <td>2</td>\n",
              "      <td>40000</td>\n",
              "      <td>10</td>\n",
              "    </tr>\n",
              "    <tr>\n",
              "      <th>1</th>\n",
              "      <td>ff8081815ee25e15015ee50004da2acd</td>\n",
              "      <td>2</td>\n",
              "      <td>12.929557</td>\n",
              "      <td>77.672280</td>\n",
              "      <td>0</td>\n",
              "      <td>1</td>\n",
              "      <td>0</td>\n",
              "      <td>1</td>\n",
              "      <td>1</td>\n",
              "      <td>3</td>\n",
              "      <td>...</td>\n",
              "      <td>2</td>\n",
              "      <td>5</td>\n",
              "      <td>2</td>\n",
              "      <td>3</td>\n",
              "      <td>4</td>\n",
              "      <td>1</td>\n",
              "      <td>1</td>\n",
              "      <td>2</td>\n",
              "      <td>22000</td>\n",
              "      <td>9</td>\n",
              "    </tr>\n",
              "    <tr>\n",
              "      <th>2</th>\n",
              "      <td>ff80818163f29c9e0163f46770b873e7</td>\n",
              "      <td>2</td>\n",
              "      <td>12.982870</td>\n",
              "      <td>80.262012</td>\n",
              "      <td>0</td>\n",
              "      <td>1</td>\n",
              "      <td>0</td>\n",
              "      <td>0</td>\n",
              "      <td>1</td>\n",
              "      <td>3</td>\n",
              "      <td>...</td>\n",
              "      <td>3</td>\n",
              "      <td>6</td>\n",
              "      <td>3</td>\n",
              "      <td>1</td>\n",
              "      <td>5</td>\n",
              "      <td>2</td>\n",
              "      <td>1</td>\n",
              "      <td>3</td>\n",
              "      <td>28000</td>\n",
              "      <td>282</td>\n",
              "    </tr>\n",
              "    <tr>\n",
              "      <th>3</th>\n",
              "      <td>ff80818164b68a700164b74b1b247a1d</td>\n",
              "      <td>1</td>\n",
              "      <td>12.955991</td>\n",
              "      <td>77.531634</td>\n",
              "      <td>0</td>\n",
              "      <td>0</td>\n",
              "      <td>0</td>\n",
              "      <td>1</td>\n",
              "      <td>1</td>\n",
              "      <td>1</td>\n",
              "      <td>...</td>\n",
              "      <td>1</td>\n",
              "      <td>6</td>\n",
              "      <td>1</td>\n",
              "      <td>1</td>\n",
              "      <td>2</td>\n",
              "      <td>1</td>\n",
              "      <td>3</td>\n",
              "      <td>0</td>\n",
              "      <td>8000</td>\n",
              "      <td>18</td>\n",
              "    </tr>\n",
              "    <tr>\n",
              "      <th>4</th>\n",
              "      <td>ff80818163b1faf00163b4b9b8a163b1</td>\n",
              "      <td>2</td>\n",
              "      <td>12.963903</td>\n",
              "      <td>77.649446</td>\n",
              "      <td>0</td>\n",
              "      <td>0</td>\n",
              "      <td>0</td>\n",
              "      <td>1</td>\n",
              "      <td>1</td>\n",
              "      <td>3</td>\n",
              "      <td>...</td>\n",
              "      <td>3</td>\n",
              "      <td>6</td>\n",
              "      <td>4</td>\n",
              "      <td>0</td>\n",
              "      <td>0</td>\n",
              "      <td>1</td>\n",
              "      <td>3</td>\n",
              "      <td>1</td>\n",
              "      <td>45000</td>\n",
              "      <td>13</td>\n",
              "    </tr>\n",
              "  </tbody>\n",
              "</table>\n",
              "<p>5 rows × 22 columns</p>\n",
              "</div>\n",
              "      <button class=\"colab-df-convert\" onclick=\"convertToInteractive('df-07536b37-d564-4d9c-adca-769410438157')\"\n",
              "              title=\"Convert this dataframe to an interactive table.\"\n",
              "              style=\"display:none;\">\n",
              "        \n",
              "  <svg xmlns=\"http://www.w3.org/2000/svg\" height=\"24px\"viewBox=\"0 0 24 24\"\n",
              "       width=\"24px\">\n",
              "    <path d=\"M0 0h24v24H0V0z\" fill=\"none\"/>\n",
              "    <path d=\"M18.56 5.44l.94 2.06.94-2.06 2.06-.94-2.06-.94-.94-2.06-.94 2.06-2.06.94zm-11 1L8.5 8.5l.94-2.06 2.06-.94-2.06-.94L8.5 2.5l-.94 2.06-2.06.94zm10 10l.94 2.06.94-2.06 2.06-.94-2.06-.94-.94-2.06-.94 2.06-2.06.94z\"/><path d=\"M17.41 7.96l-1.37-1.37c-.4-.4-.92-.59-1.43-.59-.52 0-1.04.2-1.43.59L10.3 9.45l-7.72 7.72c-.78.78-.78 2.05 0 2.83L4 21.41c.39.39.9.59 1.41.59.51 0 1.02-.2 1.41-.59l7.78-7.78 2.81-2.81c.8-.78.8-2.07 0-2.86zM5.41 20L4 18.59l7.72-7.72 1.47 1.35L5.41 20z\"/>\n",
              "  </svg>\n",
              "      </button>\n",
              "      \n",
              "  <style>\n",
              "    .colab-df-container {\n",
              "      display:flex;\n",
              "      flex-wrap:wrap;\n",
              "      gap: 12px;\n",
              "    }\n",
              "\n",
              "    .colab-df-convert {\n",
              "      background-color: #E8F0FE;\n",
              "      border: none;\n",
              "      border-radius: 50%;\n",
              "      cursor: pointer;\n",
              "      display: none;\n",
              "      fill: #1967D2;\n",
              "      height: 32px;\n",
              "      padding: 0 0 0 0;\n",
              "      width: 32px;\n",
              "    }\n",
              "\n",
              "    .colab-df-convert:hover {\n",
              "      background-color: #E2EBFA;\n",
              "      box-shadow: 0px 1px 2px rgba(60, 64, 67, 0.3), 0px 1px 3px 1px rgba(60, 64, 67, 0.15);\n",
              "      fill: #174EA6;\n",
              "    }\n",
              "\n",
              "    [theme=dark] .colab-df-convert {\n",
              "      background-color: #3B4455;\n",
              "      fill: #D2E3FC;\n",
              "    }\n",
              "\n",
              "    [theme=dark] .colab-df-convert:hover {\n",
              "      background-color: #434B5C;\n",
              "      box-shadow: 0px 1px 3px 1px rgba(0, 0, 0, 0.15);\n",
              "      filter: drop-shadow(0px 1px 2px rgba(0, 0, 0, 0.3));\n",
              "      fill: #FFFFFF;\n",
              "    }\n",
              "  </style>\n",
              "\n",
              "      <script>\n",
              "        const buttonEl =\n",
              "          document.querySelector('#df-07536b37-d564-4d9c-adca-769410438157 button.colab-df-convert');\n",
              "        buttonEl.style.display =\n",
              "          google.colab.kernel.accessAllowed ? 'block' : 'none';\n",
              "\n",
              "        async function convertToInteractive(key) {\n",
              "          const element = document.querySelector('#df-07536b37-d564-4d9c-adca-769410438157');\n",
              "          const dataTable =\n",
              "            await google.colab.kernel.invokeFunction('convertToInteractive',\n",
              "                                                     [key], {});\n",
              "          if (!dataTable) return;\n",
              "\n",
              "          const docLinkHtml = 'Like what you see? Visit the ' +\n",
              "            '<a target=\"_blank\" href=https://colab.research.google.com/notebooks/data_table.ipynb>data table notebook</a>'\n",
              "            + ' to learn more about interactive tables.';\n",
              "          element.innerHTML = '';\n",
              "          dataTable['output_type'] = 'display_data';\n",
              "          await google.colab.output.renderOutput(dataTable, element);\n",
              "          const docLink = document.createElement('div');\n",
              "          docLink.innerHTML = docLinkHtml;\n",
              "          element.appendChild(docLink);\n",
              "        }\n",
              "      </script>\n",
              "    </div>\n",
              "  </div>\n",
              "  "
            ]
          },
          "metadata": {},
          "execution_count": 301
        }
      ]
    },
    {
      "cell_type": "code",
      "source": [
        "df2.to_csv('processed2.csv')\n",
        "files.download('processed2.csv')\n",
        "\n",
        "# saving the new dataframe after feature engineering"
      ],
      "metadata": {
        "colab": {
          "base_uri": "https://localhost:8080/",
          "height": 17
        },
        "id": "UtfS35Tv9grj",
        "outputId": "863265ce-375b-4361-bac7-29e905523246"
      },
      "execution_count": 302,
      "outputs": [
        {
          "output_type": "display_data",
          "data": {
            "text/plain": [
              "<IPython.core.display.Javascript object>"
            ],
            "application/javascript": [
              "\n",
              "    async function download(id, filename, size) {\n",
              "      if (!google.colab.kernel.accessAllowed) {\n",
              "        return;\n",
              "      }\n",
              "      const div = document.createElement('div');\n",
              "      const label = document.createElement('label');\n",
              "      label.textContent = `Downloading \"${filename}\": `;\n",
              "      div.appendChild(label);\n",
              "      const progress = document.createElement('progress');\n",
              "      progress.max = size;\n",
              "      div.appendChild(progress);\n",
              "      document.body.appendChild(div);\n",
              "\n",
              "      const buffers = [];\n",
              "      let downloaded = 0;\n",
              "\n",
              "      const channel = await google.colab.kernel.comms.open(id);\n",
              "      // Send a message to notify the kernel that we're ready.\n",
              "      channel.send({})\n",
              "\n",
              "      for await (const message of channel.messages) {\n",
              "        // Send a message to notify the kernel that we're ready.\n",
              "        channel.send({})\n",
              "        if (message.buffers) {\n",
              "          for (const buffer of message.buffers) {\n",
              "            buffers.push(buffer);\n",
              "            downloaded += buffer.byteLength;\n",
              "            progress.value = downloaded;\n",
              "          }\n",
              "        }\n",
              "      }\n",
              "      const blob = new Blob(buffers, {type: 'application/binary'});\n",
              "      const a = document.createElement('a');\n",
              "      a.href = window.URL.createObjectURL(blob);\n",
              "      a.download = filename;\n",
              "      div.appendChild(a);\n",
              "      a.click();\n",
              "      div.remove();\n",
              "    }\n",
              "  "
            ]
          },
          "metadata": {}
        },
        {
          "output_type": "display_data",
          "data": {
            "text/plain": [
              "<IPython.core.display.Javascript object>"
            ],
            "application/javascript": [
              "download(\"download_2294c831-b934-49bf-82ae-6ef37efeb0b3\", \"processed2.csv\", 2195465)"
            ]
          },
          "metadata": {}
        }
      ]
    },
    {
      "cell_type": "markdown",
      "source": [
        "## Splitting the dataset into training and validation dataset"
      ],
      "metadata": {
        "id": "VklbbQivsD3M"
      }
    },
    {
      "cell_type": "code",
      "source": [
        "train2,val2= train_test_split(df2,test_size=0.2,random_state=42)"
      ],
      "metadata": {
        "id": "BxgLF-is9n7t"
      },
      "execution_count": 303,
      "outputs": []
    },
    {
      "cell_type": "code",
      "source": [
        "train2=train2.dropna()\n",
        "val2=val2.dropna()"
      ],
      "metadata": {
        "id": "iMxaZppf9xfU"
      },
      "execution_count": 304,
      "outputs": []
    },
    {
      "cell_type": "code",
      "source": [
        "train2.head()"
      ],
      "metadata": {
        "colab": {
          "base_uri": "https://localhost:8080/",
          "height": 300
        },
        "id": "0Ho0cE6t-QGX",
        "outputId": "6d2b514c-2750-4b8a-cb73-21c18c19f977"
      },
      "execution_count": 305,
      "outputs": [
        {
          "output_type": "execute_result",
          "data": {
            "text/plain": [
              "                                     id type   latitude  longitude  gym  lift  \\\n",
              "10087  ff8081815239c00501523afa9bd91094    1  12.945062  77.680330    0     0   \n",
              "14619  ff8081815c022dd3015c053bf6886366    2  12.938255  77.726365    0     0   \n",
              "5368   ff8081814fdb74dc014fde80bf640994    2  12.906489  77.691041    0     0   \n",
              "14832  ff80818162a582350162a8b4a5880000    2  12.964146  77.708150    1     1   \n",
              "12448  ff80818157bd3a640157bd5fa534033e    0  12.923776  77.649667    0     0   \n",
              "\n",
              "       swimming_pool  negotiable furnishing parking  ...  bathroom  facing  \\\n",
              "10087              0           0          0       1  ...         1       6   \n",
              "14619              0           1          1       3  ...         2       6   \n",
              "5368               0           1          1       3  ...         2       6   \n",
              "14832              0           0          1       2  ...         2       4   \n",
              "12448              0           0          1       1  ...         1       6   \n",
              "\n",
              "       cup_board floor  total_floor  water_supply  building_type balconies  \\\n",
              "10087          0     1            3             1              2         0   \n",
              "14619          2     0           13             1              1         2   \n",
              "5368           4     3            3             0              1         1   \n",
              "14832          2     2            4             2              1         0   \n",
              "12448          1     0            3             1              3         0   \n",
              "\n",
              "        rent  ecity  \n",
              "10087   8500     11  \n",
              "14619  25000     12  \n",
              "5368   21500      7  \n",
              "14832  22500     14  \n",
              "12448   8000      8  \n",
              "\n",
              "[5 rows x 22 columns]"
            ],
            "text/html": [
              "\n",
              "  <div id=\"df-07fbb0ed-e02c-407d-83e3-5a5990e997ec\">\n",
              "    <div class=\"colab-df-container\">\n",
              "      <div>\n",
              "<style scoped>\n",
              "    .dataframe tbody tr th:only-of-type {\n",
              "        vertical-align: middle;\n",
              "    }\n",
              "\n",
              "    .dataframe tbody tr th {\n",
              "        vertical-align: top;\n",
              "    }\n",
              "\n",
              "    .dataframe thead th {\n",
              "        text-align: right;\n",
              "    }\n",
              "</style>\n",
              "<table border=\"1\" class=\"dataframe\">\n",
              "  <thead>\n",
              "    <tr style=\"text-align: right;\">\n",
              "      <th></th>\n",
              "      <th>id</th>\n",
              "      <th>type</th>\n",
              "      <th>latitude</th>\n",
              "      <th>longitude</th>\n",
              "      <th>gym</th>\n",
              "      <th>lift</th>\n",
              "      <th>swimming_pool</th>\n",
              "      <th>negotiable</th>\n",
              "      <th>furnishing</th>\n",
              "      <th>parking</th>\n",
              "      <th>...</th>\n",
              "      <th>bathroom</th>\n",
              "      <th>facing</th>\n",
              "      <th>cup_board</th>\n",
              "      <th>floor</th>\n",
              "      <th>total_floor</th>\n",
              "      <th>water_supply</th>\n",
              "      <th>building_type</th>\n",
              "      <th>balconies</th>\n",
              "      <th>rent</th>\n",
              "      <th>ecity</th>\n",
              "    </tr>\n",
              "  </thead>\n",
              "  <tbody>\n",
              "    <tr>\n",
              "      <th>10087</th>\n",
              "      <td>ff8081815239c00501523afa9bd91094</td>\n",
              "      <td>1</td>\n",
              "      <td>12.945062</td>\n",
              "      <td>77.680330</td>\n",
              "      <td>0</td>\n",
              "      <td>0</td>\n",
              "      <td>0</td>\n",
              "      <td>0</td>\n",
              "      <td>0</td>\n",
              "      <td>1</td>\n",
              "      <td>...</td>\n",
              "      <td>1</td>\n",
              "      <td>6</td>\n",
              "      <td>0</td>\n",
              "      <td>1</td>\n",
              "      <td>3</td>\n",
              "      <td>1</td>\n",
              "      <td>2</td>\n",
              "      <td>0</td>\n",
              "      <td>8500</td>\n",
              "      <td>11</td>\n",
              "    </tr>\n",
              "    <tr>\n",
              "      <th>14619</th>\n",
              "      <td>ff8081815c022dd3015c053bf6886366</td>\n",
              "      <td>2</td>\n",
              "      <td>12.938255</td>\n",
              "      <td>77.726365</td>\n",
              "      <td>0</td>\n",
              "      <td>0</td>\n",
              "      <td>0</td>\n",
              "      <td>1</td>\n",
              "      <td>1</td>\n",
              "      <td>3</td>\n",
              "      <td>...</td>\n",
              "      <td>2</td>\n",
              "      <td>6</td>\n",
              "      <td>2</td>\n",
              "      <td>0</td>\n",
              "      <td>13</td>\n",
              "      <td>1</td>\n",
              "      <td>1</td>\n",
              "      <td>2</td>\n",
              "      <td>25000</td>\n",
              "      <td>12</td>\n",
              "    </tr>\n",
              "    <tr>\n",
              "      <th>5368</th>\n",
              "      <td>ff8081814fdb74dc014fde80bf640994</td>\n",
              "      <td>2</td>\n",
              "      <td>12.906489</td>\n",
              "      <td>77.691041</td>\n",
              "      <td>0</td>\n",
              "      <td>0</td>\n",
              "      <td>0</td>\n",
              "      <td>1</td>\n",
              "      <td>1</td>\n",
              "      <td>3</td>\n",
              "      <td>...</td>\n",
              "      <td>2</td>\n",
              "      <td>6</td>\n",
              "      <td>4</td>\n",
              "      <td>3</td>\n",
              "      <td>3</td>\n",
              "      <td>0</td>\n",
              "      <td>1</td>\n",
              "      <td>1</td>\n",
              "      <td>21500</td>\n",
              "      <td>7</td>\n",
              "    </tr>\n",
              "    <tr>\n",
              "      <th>14832</th>\n",
              "      <td>ff80818162a582350162a8b4a5880000</td>\n",
              "      <td>2</td>\n",
              "      <td>12.964146</td>\n",
              "      <td>77.708150</td>\n",
              "      <td>1</td>\n",
              "      <td>1</td>\n",
              "      <td>0</td>\n",
              "      <td>0</td>\n",
              "      <td>1</td>\n",
              "      <td>2</td>\n",
              "      <td>...</td>\n",
              "      <td>2</td>\n",
              "      <td>4</td>\n",
              "      <td>2</td>\n",
              "      <td>2</td>\n",
              "      <td>4</td>\n",
              "      <td>2</td>\n",
              "      <td>1</td>\n",
              "      <td>0</td>\n",
              "      <td>22500</td>\n",
              "      <td>14</td>\n",
              "    </tr>\n",
              "    <tr>\n",
              "      <th>12448</th>\n",
              "      <td>ff80818157bd3a640157bd5fa534033e</td>\n",
              "      <td>0</td>\n",
              "      <td>12.923776</td>\n",
              "      <td>77.649667</td>\n",
              "      <td>0</td>\n",
              "      <td>0</td>\n",
              "      <td>0</td>\n",
              "      <td>0</td>\n",
              "      <td>1</td>\n",
              "      <td>1</td>\n",
              "      <td>...</td>\n",
              "      <td>1</td>\n",
              "      <td>6</td>\n",
              "      <td>1</td>\n",
              "      <td>0</td>\n",
              "      <td>3</td>\n",
              "      <td>1</td>\n",
              "      <td>3</td>\n",
              "      <td>0</td>\n",
              "      <td>8000</td>\n",
              "      <td>8</td>\n",
              "    </tr>\n",
              "  </tbody>\n",
              "</table>\n",
              "<p>5 rows × 22 columns</p>\n",
              "</div>\n",
              "      <button class=\"colab-df-convert\" onclick=\"convertToInteractive('df-07fbb0ed-e02c-407d-83e3-5a5990e997ec')\"\n",
              "              title=\"Convert this dataframe to an interactive table.\"\n",
              "              style=\"display:none;\">\n",
              "        \n",
              "  <svg xmlns=\"http://www.w3.org/2000/svg\" height=\"24px\"viewBox=\"0 0 24 24\"\n",
              "       width=\"24px\">\n",
              "    <path d=\"M0 0h24v24H0V0z\" fill=\"none\"/>\n",
              "    <path d=\"M18.56 5.44l.94 2.06.94-2.06 2.06-.94-2.06-.94-.94-2.06-.94 2.06-2.06.94zm-11 1L8.5 8.5l.94-2.06 2.06-.94-2.06-.94L8.5 2.5l-.94 2.06-2.06.94zm10 10l.94 2.06.94-2.06 2.06-.94-2.06-.94-.94-2.06-.94 2.06-2.06.94z\"/><path d=\"M17.41 7.96l-1.37-1.37c-.4-.4-.92-.59-1.43-.59-.52 0-1.04.2-1.43.59L10.3 9.45l-7.72 7.72c-.78.78-.78 2.05 0 2.83L4 21.41c.39.39.9.59 1.41.59.51 0 1.02-.2 1.41-.59l7.78-7.78 2.81-2.81c.8-.78.8-2.07 0-2.86zM5.41 20L4 18.59l7.72-7.72 1.47 1.35L5.41 20z\"/>\n",
              "  </svg>\n",
              "      </button>\n",
              "      \n",
              "  <style>\n",
              "    .colab-df-container {\n",
              "      display:flex;\n",
              "      flex-wrap:wrap;\n",
              "      gap: 12px;\n",
              "    }\n",
              "\n",
              "    .colab-df-convert {\n",
              "      background-color: #E8F0FE;\n",
              "      border: none;\n",
              "      border-radius: 50%;\n",
              "      cursor: pointer;\n",
              "      display: none;\n",
              "      fill: #1967D2;\n",
              "      height: 32px;\n",
              "      padding: 0 0 0 0;\n",
              "      width: 32px;\n",
              "    }\n",
              "\n",
              "    .colab-df-convert:hover {\n",
              "      background-color: #E2EBFA;\n",
              "      box-shadow: 0px 1px 2px rgba(60, 64, 67, 0.3), 0px 1px 3px 1px rgba(60, 64, 67, 0.15);\n",
              "      fill: #174EA6;\n",
              "    }\n",
              "\n",
              "    [theme=dark] .colab-df-convert {\n",
              "      background-color: #3B4455;\n",
              "      fill: #D2E3FC;\n",
              "    }\n",
              "\n",
              "    [theme=dark] .colab-df-convert:hover {\n",
              "      background-color: #434B5C;\n",
              "      box-shadow: 0px 1px 3px 1px rgba(0, 0, 0, 0.15);\n",
              "      filter: drop-shadow(0px 1px 2px rgba(0, 0, 0, 0.3));\n",
              "      fill: #FFFFFF;\n",
              "    }\n",
              "  </style>\n",
              "\n",
              "      <script>\n",
              "        const buttonEl =\n",
              "          document.querySelector('#df-07fbb0ed-e02c-407d-83e3-5a5990e997ec button.colab-df-convert');\n",
              "        buttonEl.style.display =\n",
              "          google.colab.kernel.accessAllowed ? 'block' : 'none';\n",
              "\n",
              "        async function convertToInteractive(key) {\n",
              "          const element = document.querySelector('#df-07fbb0ed-e02c-407d-83e3-5a5990e997ec');\n",
              "          const dataTable =\n",
              "            await google.colab.kernel.invokeFunction('convertToInteractive',\n",
              "                                                     [key], {});\n",
              "          if (!dataTable) return;\n",
              "\n",
              "          const docLinkHtml = 'Like what you see? Visit the ' +\n",
              "            '<a target=\"_blank\" href=https://colab.research.google.com/notebooks/data_table.ipynb>data table notebook</a>'\n",
              "            + ' to learn more about interactive tables.';\n",
              "          element.innerHTML = '';\n",
              "          dataTable['output_type'] = 'display_data';\n",
              "          await google.colab.output.renderOutput(dataTable, element);\n",
              "          const docLink = document.createElement('div');\n",
              "          docLink.innerHTML = docLinkHtml;\n",
              "          element.appendChild(docLink);\n",
              "        }\n",
              "      </script>\n",
              "    </div>\n",
              "  </div>\n",
              "  "
            ]
          },
          "metadata": {},
          "execution_count": 305
        }
      ]
    },
    {
      "cell_type": "code",
      "source": [
        "input_cols2=['id',\n",
        " 'type',\n",
        " 'gym',\n",
        " 'lift',\n",
        " 'swimming_pool',\n",
        " 'negotiable',\n",
        " 'furnishing',\n",
        " 'parking',\n",
        " 'property_size',\n",
        " 'property_age',\n",
        " 'bathroom',\n",
        " 'facing',\n",
        " 'cup_board',\n",
        " 'floor',\n",
        " 'total_floor',\n",
        " 'water_supply',\n",
        " 'building_type',\n",
        " 'balconies',\n",
        " 'ecity']"
      ],
      "metadata": {
        "id": "VKYXLNU094et"
      },
      "execution_count": 306,
      "outputs": []
    },
    {
      "cell_type": "code",
      "source": [
        "target_cols=['rent']"
      ],
      "metadata": {
        "id": "VP2fXlt6-DBh"
      },
      "execution_count": 307,
      "outputs": []
    },
    {
      "cell_type": "code",
      "source": [
        "train_inputs2=train2[input_cols2]\n",
        "train_inputs2.head(5)"
      ],
      "metadata": {
        "colab": {
          "base_uri": "https://localhost:8080/",
          "height": 270
        },
        "id": "WUdAhIuy-GrE",
        "outputId": "90454373-c693-4704-f911-02268fc023d2"
      },
      "execution_count": 308,
      "outputs": [
        {
          "output_type": "execute_result",
          "data": {
            "text/plain": [
              "                                     id type  gym  lift  swimming_pool  \\\n",
              "10087  ff8081815239c00501523afa9bd91094    1    0     0              0   \n",
              "14619  ff8081815c022dd3015c053bf6886366    2    0     0              0   \n",
              "5368   ff8081814fdb74dc014fde80bf640994    2    0     0              0   \n",
              "14832  ff80818162a582350162a8b4a5880000    2    1     1              0   \n",
              "12448  ff80818157bd3a640157bd5fa534033e    0    0     0              0   \n",
              "\n",
              "       negotiable furnishing parking  property_size  property_age  bathroom  \\\n",
              "10087           0          0       1            600             1         1   \n",
              "14619           1          1       3           1000             0         2   \n",
              "5368            1          1       3           1055             1         2   \n",
              "14832           0          1       2           1200             9         2   \n",
              "12448           0          1       1            230             3         1   \n",
              "\n",
              "      facing  cup_board  floor  total_floor water_supply building_type  \\\n",
              "10087      6          0      1            3            1             2   \n",
              "14619      6          2      0           13            1             1   \n",
              "5368       6          4      3            3            0             1   \n",
              "14832      4          2      2            4            2             1   \n",
              "12448      6          1      0            3            1             3   \n",
              "\n",
              "       balconies  ecity  \n",
              "10087          0     11  \n",
              "14619          2     12  \n",
              "5368           1      7  \n",
              "14832          0     14  \n",
              "12448          0      8  "
            ],
            "text/html": [
              "\n",
              "  <div id=\"df-9a2dbd38-0345-456a-b70a-442af63aa224\">\n",
              "    <div class=\"colab-df-container\">\n",
              "      <div>\n",
              "<style scoped>\n",
              "    .dataframe tbody tr th:only-of-type {\n",
              "        vertical-align: middle;\n",
              "    }\n",
              "\n",
              "    .dataframe tbody tr th {\n",
              "        vertical-align: top;\n",
              "    }\n",
              "\n",
              "    .dataframe thead th {\n",
              "        text-align: right;\n",
              "    }\n",
              "</style>\n",
              "<table border=\"1\" class=\"dataframe\">\n",
              "  <thead>\n",
              "    <tr style=\"text-align: right;\">\n",
              "      <th></th>\n",
              "      <th>id</th>\n",
              "      <th>type</th>\n",
              "      <th>gym</th>\n",
              "      <th>lift</th>\n",
              "      <th>swimming_pool</th>\n",
              "      <th>negotiable</th>\n",
              "      <th>furnishing</th>\n",
              "      <th>parking</th>\n",
              "      <th>property_size</th>\n",
              "      <th>property_age</th>\n",
              "      <th>bathroom</th>\n",
              "      <th>facing</th>\n",
              "      <th>cup_board</th>\n",
              "      <th>floor</th>\n",
              "      <th>total_floor</th>\n",
              "      <th>water_supply</th>\n",
              "      <th>building_type</th>\n",
              "      <th>balconies</th>\n",
              "      <th>ecity</th>\n",
              "    </tr>\n",
              "  </thead>\n",
              "  <tbody>\n",
              "    <tr>\n",
              "      <th>10087</th>\n",
              "      <td>ff8081815239c00501523afa9bd91094</td>\n",
              "      <td>1</td>\n",
              "      <td>0</td>\n",
              "      <td>0</td>\n",
              "      <td>0</td>\n",
              "      <td>0</td>\n",
              "      <td>0</td>\n",
              "      <td>1</td>\n",
              "      <td>600</td>\n",
              "      <td>1</td>\n",
              "      <td>1</td>\n",
              "      <td>6</td>\n",
              "      <td>0</td>\n",
              "      <td>1</td>\n",
              "      <td>3</td>\n",
              "      <td>1</td>\n",
              "      <td>2</td>\n",
              "      <td>0</td>\n",
              "      <td>11</td>\n",
              "    </tr>\n",
              "    <tr>\n",
              "      <th>14619</th>\n",
              "      <td>ff8081815c022dd3015c053bf6886366</td>\n",
              "      <td>2</td>\n",
              "      <td>0</td>\n",
              "      <td>0</td>\n",
              "      <td>0</td>\n",
              "      <td>1</td>\n",
              "      <td>1</td>\n",
              "      <td>3</td>\n",
              "      <td>1000</td>\n",
              "      <td>0</td>\n",
              "      <td>2</td>\n",
              "      <td>6</td>\n",
              "      <td>2</td>\n",
              "      <td>0</td>\n",
              "      <td>13</td>\n",
              "      <td>1</td>\n",
              "      <td>1</td>\n",
              "      <td>2</td>\n",
              "      <td>12</td>\n",
              "    </tr>\n",
              "    <tr>\n",
              "      <th>5368</th>\n",
              "      <td>ff8081814fdb74dc014fde80bf640994</td>\n",
              "      <td>2</td>\n",
              "      <td>0</td>\n",
              "      <td>0</td>\n",
              "      <td>0</td>\n",
              "      <td>1</td>\n",
              "      <td>1</td>\n",
              "      <td>3</td>\n",
              "      <td>1055</td>\n",
              "      <td>1</td>\n",
              "      <td>2</td>\n",
              "      <td>6</td>\n",
              "      <td>4</td>\n",
              "      <td>3</td>\n",
              "      <td>3</td>\n",
              "      <td>0</td>\n",
              "      <td>1</td>\n",
              "      <td>1</td>\n",
              "      <td>7</td>\n",
              "    </tr>\n",
              "    <tr>\n",
              "      <th>14832</th>\n",
              "      <td>ff80818162a582350162a8b4a5880000</td>\n",
              "      <td>2</td>\n",
              "      <td>1</td>\n",
              "      <td>1</td>\n",
              "      <td>0</td>\n",
              "      <td>0</td>\n",
              "      <td>1</td>\n",
              "      <td>2</td>\n",
              "      <td>1200</td>\n",
              "      <td>9</td>\n",
              "      <td>2</td>\n",
              "      <td>4</td>\n",
              "      <td>2</td>\n",
              "      <td>2</td>\n",
              "      <td>4</td>\n",
              "      <td>2</td>\n",
              "      <td>1</td>\n",
              "      <td>0</td>\n",
              "      <td>14</td>\n",
              "    </tr>\n",
              "    <tr>\n",
              "      <th>12448</th>\n",
              "      <td>ff80818157bd3a640157bd5fa534033e</td>\n",
              "      <td>0</td>\n",
              "      <td>0</td>\n",
              "      <td>0</td>\n",
              "      <td>0</td>\n",
              "      <td>0</td>\n",
              "      <td>1</td>\n",
              "      <td>1</td>\n",
              "      <td>230</td>\n",
              "      <td>3</td>\n",
              "      <td>1</td>\n",
              "      <td>6</td>\n",
              "      <td>1</td>\n",
              "      <td>0</td>\n",
              "      <td>3</td>\n",
              "      <td>1</td>\n",
              "      <td>3</td>\n",
              "      <td>0</td>\n",
              "      <td>8</td>\n",
              "    </tr>\n",
              "  </tbody>\n",
              "</table>\n",
              "</div>\n",
              "      <button class=\"colab-df-convert\" onclick=\"convertToInteractive('df-9a2dbd38-0345-456a-b70a-442af63aa224')\"\n",
              "              title=\"Convert this dataframe to an interactive table.\"\n",
              "              style=\"display:none;\">\n",
              "        \n",
              "  <svg xmlns=\"http://www.w3.org/2000/svg\" height=\"24px\"viewBox=\"0 0 24 24\"\n",
              "       width=\"24px\">\n",
              "    <path d=\"M0 0h24v24H0V0z\" fill=\"none\"/>\n",
              "    <path d=\"M18.56 5.44l.94 2.06.94-2.06 2.06-.94-2.06-.94-.94-2.06-.94 2.06-2.06.94zm-11 1L8.5 8.5l.94-2.06 2.06-.94-2.06-.94L8.5 2.5l-.94 2.06-2.06.94zm10 10l.94 2.06.94-2.06 2.06-.94-2.06-.94-.94-2.06-.94 2.06-2.06.94z\"/><path d=\"M17.41 7.96l-1.37-1.37c-.4-.4-.92-.59-1.43-.59-.52 0-1.04.2-1.43.59L10.3 9.45l-7.72 7.72c-.78.78-.78 2.05 0 2.83L4 21.41c.39.39.9.59 1.41.59.51 0 1.02-.2 1.41-.59l7.78-7.78 2.81-2.81c.8-.78.8-2.07 0-2.86zM5.41 20L4 18.59l7.72-7.72 1.47 1.35L5.41 20z\"/>\n",
              "  </svg>\n",
              "      </button>\n",
              "      \n",
              "  <style>\n",
              "    .colab-df-container {\n",
              "      display:flex;\n",
              "      flex-wrap:wrap;\n",
              "      gap: 12px;\n",
              "    }\n",
              "\n",
              "    .colab-df-convert {\n",
              "      background-color: #E8F0FE;\n",
              "      border: none;\n",
              "      border-radius: 50%;\n",
              "      cursor: pointer;\n",
              "      display: none;\n",
              "      fill: #1967D2;\n",
              "      height: 32px;\n",
              "      padding: 0 0 0 0;\n",
              "      width: 32px;\n",
              "    }\n",
              "\n",
              "    .colab-df-convert:hover {\n",
              "      background-color: #E2EBFA;\n",
              "      box-shadow: 0px 1px 2px rgba(60, 64, 67, 0.3), 0px 1px 3px 1px rgba(60, 64, 67, 0.15);\n",
              "      fill: #174EA6;\n",
              "    }\n",
              "\n",
              "    [theme=dark] .colab-df-convert {\n",
              "      background-color: #3B4455;\n",
              "      fill: #D2E3FC;\n",
              "    }\n",
              "\n",
              "    [theme=dark] .colab-df-convert:hover {\n",
              "      background-color: #434B5C;\n",
              "      box-shadow: 0px 1px 3px 1px rgba(0, 0, 0, 0.15);\n",
              "      filter: drop-shadow(0px 1px 2px rgba(0, 0, 0, 0.3));\n",
              "      fill: #FFFFFF;\n",
              "    }\n",
              "  </style>\n",
              "\n",
              "      <script>\n",
              "        const buttonEl =\n",
              "          document.querySelector('#df-9a2dbd38-0345-456a-b70a-442af63aa224 button.colab-df-convert');\n",
              "        buttonEl.style.display =\n",
              "          google.colab.kernel.accessAllowed ? 'block' : 'none';\n",
              "\n",
              "        async function convertToInteractive(key) {\n",
              "          const element = document.querySelector('#df-9a2dbd38-0345-456a-b70a-442af63aa224');\n",
              "          const dataTable =\n",
              "            await google.colab.kernel.invokeFunction('convertToInteractive',\n",
              "                                                     [key], {});\n",
              "          if (!dataTable) return;\n",
              "\n",
              "          const docLinkHtml = 'Like what you see? Visit the ' +\n",
              "            '<a target=\"_blank\" href=https://colab.research.google.com/notebooks/data_table.ipynb>data table notebook</a>'\n",
              "            + ' to learn more about interactive tables.';\n",
              "          element.innerHTML = '';\n",
              "          dataTable['output_type'] = 'display_data';\n",
              "          await google.colab.output.renderOutput(dataTable, element);\n",
              "          const docLink = document.createElement('div');\n",
              "          docLink.innerHTML = docLinkHtml;\n",
              "          element.appendChild(docLink);\n",
              "        }\n",
              "      </script>\n",
              "    </div>\n",
              "  </div>\n",
              "  "
            ]
          },
          "metadata": {},
          "execution_count": 308
        }
      ]
    },
    {
      "cell_type": "code",
      "source": [
        "train_outputs2=train2[target_cols]\n",
        "train_outputs2.head(5)"
      ],
      "metadata": {
        "colab": {
          "base_uri": "https://localhost:8080/",
          "height": 206
        },
        "id": "QdjeWfvY-tLL",
        "outputId": "1267f72a-5d90-46f6-fb31-dd3d9499104b"
      },
      "execution_count": 309,
      "outputs": [
        {
          "output_type": "execute_result",
          "data": {
            "text/plain": [
              "        rent\n",
              "10087   8500\n",
              "14619  25000\n",
              "5368   21500\n",
              "14832  22500\n",
              "12448   8000"
            ],
            "text/html": [
              "\n",
              "  <div id=\"df-ed87c3d5-8a01-43da-87ce-d414ce36efa6\">\n",
              "    <div class=\"colab-df-container\">\n",
              "      <div>\n",
              "<style scoped>\n",
              "    .dataframe tbody tr th:only-of-type {\n",
              "        vertical-align: middle;\n",
              "    }\n",
              "\n",
              "    .dataframe tbody tr th {\n",
              "        vertical-align: top;\n",
              "    }\n",
              "\n",
              "    .dataframe thead th {\n",
              "        text-align: right;\n",
              "    }\n",
              "</style>\n",
              "<table border=\"1\" class=\"dataframe\">\n",
              "  <thead>\n",
              "    <tr style=\"text-align: right;\">\n",
              "      <th></th>\n",
              "      <th>rent</th>\n",
              "    </tr>\n",
              "  </thead>\n",
              "  <tbody>\n",
              "    <tr>\n",
              "      <th>10087</th>\n",
              "      <td>8500</td>\n",
              "    </tr>\n",
              "    <tr>\n",
              "      <th>14619</th>\n",
              "      <td>25000</td>\n",
              "    </tr>\n",
              "    <tr>\n",
              "      <th>5368</th>\n",
              "      <td>21500</td>\n",
              "    </tr>\n",
              "    <tr>\n",
              "      <th>14832</th>\n",
              "      <td>22500</td>\n",
              "    </tr>\n",
              "    <tr>\n",
              "      <th>12448</th>\n",
              "      <td>8000</td>\n",
              "    </tr>\n",
              "  </tbody>\n",
              "</table>\n",
              "</div>\n",
              "      <button class=\"colab-df-convert\" onclick=\"convertToInteractive('df-ed87c3d5-8a01-43da-87ce-d414ce36efa6')\"\n",
              "              title=\"Convert this dataframe to an interactive table.\"\n",
              "              style=\"display:none;\">\n",
              "        \n",
              "  <svg xmlns=\"http://www.w3.org/2000/svg\" height=\"24px\"viewBox=\"0 0 24 24\"\n",
              "       width=\"24px\">\n",
              "    <path d=\"M0 0h24v24H0V0z\" fill=\"none\"/>\n",
              "    <path d=\"M18.56 5.44l.94 2.06.94-2.06 2.06-.94-2.06-.94-.94-2.06-.94 2.06-2.06.94zm-11 1L8.5 8.5l.94-2.06 2.06-.94-2.06-.94L8.5 2.5l-.94 2.06-2.06.94zm10 10l.94 2.06.94-2.06 2.06-.94-2.06-.94-.94-2.06-.94 2.06-2.06.94z\"/><path d=\"M17.41 7.96l-1.37-1.37c-.4-.4-.92-.59-1.43-.59-.52 0-1.04.2-1.43.59L10.3 9.45l-7.72 7.72c-.78.78-.78 2.05 0 2.83L4 21.41c.39.39.9.59 1.41.59.51 0 1.02-.2 1.41-.59l7.78-7.78 2.81-2.81c.8-.78.8-2.07 0-2.86zM5.41 20L4 18.59l7.72-7.72 1.47 1.35L5.41 20z\"/>\n",
              "  </svg>\n",
              "      </button>\n",
              "      \n",
              "  <style>\n",
              "    .colab-df-container {\n",
              "      display:flex;\n",
              "      flex-wrap:wrap;\n",
              "      gap: 12px;\n",
              "    }\n",
              "\n",
              "    .colab-df-convert {\n",
              "      background-color: #E8F0FE;\n",
              "      border: none;\n",
              "      border-radius: 50%;\n",
              "      cursor: pointer;\n",
              "      display: none;\n",
              "      fill: #1967D2;\n",
              "      height: 32px;\n",
              "      padding: 0 0 0 0;\n",
              "      width: 32px;\n",
              "    }\n",
              "\n",
              "    .colab-df-convert:hover {\n",
              "      background-color: #E2EBFA;\n",
              "      box-shadow: 0px 1px 2px rgba(60, 64, 67, 0.3), 0px 1px 3px 1px rgba(60, 64, 67, 0.15);\n",
              "      fill: #174EA6;\n",
              "    }\n",
              "\n",
              "    [theme=dark] .colab-df-convert {\n",
              "      background-color: #3B4455;\n",
              "      fill: #D2E3FC;\n",
              "    }\n",
              "\n",
              "    [theme=dark] .colab-df-convert:hover {\n",
              "      background-color: #434B5C;\n",
              "      box-shadow: 0px 1px 3px 1px rgba(0, 0, 0, 0.15);\n",
              "      filter: drop-shadow(0px 1px 2px rgba(0, 0, 0, 0.3));\n",
              "      fill: #FFFFFF;\n",
              "    }\n",
              "  </style>\n",
              "\n",
              "      <script>\n",
              "        const buttonEl =\n",
              "          document.querySelector('#df-ed87c3d5-8a01-43da-87ce-d414ce36efa6 button.colab-df-convert');\n",
              "        buttonEl.style.display =\n",
              "          google.colab.kernel.accessAllowed ? 'block' : 'none';\n",
              "\n",
              "        async function convertToInteractive(key) {\n",
              "          const element = document.querySelector('#df-ed87c3d5-8a01-43da-87ce-d414ce36efa6');\n",
              "          const dataTable =\n",
              "            await google.colab.kernel.invokeFunction('convertToInteractive',\n",
              "                                                     [key], {});\n",
              "          if (!dataTable) return;\n",
              "\n",
              "          const docLinkHtml = 'Like what you see? Visit the ' +\n",
              "            '<a target=\"_blank\" href=https://colab.research.google.com/notebooks/data_table.ipynb>data table notebook</a>'\n",
              "            + ' to learn more about interactive tables.';\n",
              "          element.innerHTML = '';\n",
              "          dataTable['output_type'] = 'display_data';\n",
              "          await google.colab.output.renderOutput(dataTable, element);\n",
              "          const docLink = document.createElement('div');\n",
              "          docLink.innerHTML = docLinkHtml;\n",
              "          element.appendChild(docLink);\n",
              "        }\n",
              "      </script>\n",
              "    </div>\n",
              "  </div>\n",
              "  "
            ]
          },
          "metadata": {},
          "execution_count": 309
        }
      ]
    },
    {
      "cell_type": "code",
      "source": [
        "val_inputs2=val2[input_cols2]\n",
        "val_inputs2.head(5)"
      ],
      "metadata": {
        "colab": {
          "base_uri": "https://localhost:8080/",
          "height": 270
        },
        "id": "j5ImhAf1_kz0",
        "outputId": "3f57b378-8cc7-4b30-ec1b-9c3e77bda9a4"
      },
      "execution_count": 310,
      "outputs": [
        {
          "output_type": "execute_result",
          "data": {
            "text/plain": [
              "                                     id type  gym  lift  swimming_pool  \\\n",
              "16330  ff8081816108a00501610915abc93a4b    2    1     1              1   \n",
              "7850   ff8081815aacc98e015aae15194752a5    2    0     0              0   \n",
              "13547  ff80818158de4fb60158dea009ce0ed2    0    0     0              0   \n",
              "5565   ff80818160204e9b0160267e7faf7a7f    2    0     0              0   \n",
              "10606  ff808181638d2a350163909b97eb7088    2    0     0              0   \n",
              "\n",
              "       negotiable furnishing parking  property_size  property_age  bathroom  \\\n",
              "16330           1          1       3           1505             1         2   \n",
              "7850            1          1       1            743            15         2   \n",
              "13547           0          1       1            200            10         1   \n",
              "5565            1          1       3           1000             0         2   \n",
              "10606           0          1       1            500            10         1   \n",
              "\n",
              "      facing  cup_board  floor  total_floor water_supply building_type  \\\n",
              "16330      7          3      3            5            1             1   \n",
              "7850       7          2      1            2            1             2   \n",
              "13547      4          1      0            3            1             3   \n",
              "5565       7          2      0            3            2             1   \n",
              "10606      0          2      1            3            2             1   \n",
              "\n",
              "       balconies  ecity  \n",
              "16330          2     15  \n",
              "7850           0      9  \n",
              "13547          1     10  \n",
              "5565           0     12  \n",
              "10606          1      8  "
            ],
            "text/html": [
              "\n",
              "  <div id=\"df-21a62b61-3fdb-4b93-81f9-6d832f1de997\">\n",
              "    <div class=\"colab-df-container\">\n",
              "      <div>\n",
              "<style scoped>\n",
              "    .dataframe tbody tr th:only-of-type {\n",
              "        vertical-align: middle;\n",
              "    }\n",
              "\n",
              "    .dataframe tbody tr th {\n",
              "        vertical-align: top;\n",
              "    }\n",
              "\n",
              "    .dataframe thead th {\n",
              "        text-align: right;\n",
              "    }\n",
              "</style>\n",
              "<table border=\"1\" class=\"dataframe\">\n",
              "  <thead>\n",
              "    <tr style=\"text-align: right;\">\n",
              "      <th></th>\n",
              "      <th>id</th>\n",
              "      <th>type</th>\n",
              "      <th>gym</th>\n",
              "      <th>lift</th>\n",
              "      <th>swimming_pool</th>\n",
              "      <th>negotiable</th>\n",
              "      <th>furnishing</th>\n",
              "      <th>parking</th>\n",
              "      <th>property_size</th>\n",
              "      <th>property_age</th>\n",
              "      <th>bathroom</th>\n",
              "      <th>facing</th>\n",
              "      <th>cup_board</th>\n",
              "      <th>floor</th>\n",
              "      <th>total_floor</th>\n",
              "      <th>water_supply</th>\n",
              "      <th>building_type</th>\n",
              "      <th>balconies</th>\n",
              "      <th>ecity</th>\n",
              "    </tr>\n",
              "  </thead>\n",
              "  <tbody>\n",
              "    <tr>\n",
              "      <th>16330</th>\n",
              "      <td>ff8081816108a00501610915abc93a4b</td>\n",
              "      <td>2</td>\n",
              "      <td>1</td>\n",
              "      <td>1</td>\n",
              "      <td>1</td>\n",
              "      <td>1</td>\n",
              "      <td>1</td>\n",
              "      <td>3</td>\n",
              "      <td>1505</td>\n",
              "      <td>1</td>\n",
              "      <td>2</td>\n",
              "      <td>7</td>\n",
              "      <td>3</td>\n",
              "      <td>3</td>\n",
              "      <td>5</td>\n",
              "      <td>1</td>\n",
              "      <td>1</td>\n",
              "      <td>2</td>\n",
              "      <td>15</td>\n",
              "    </tr>\n",
              "    <tr>\n",
              "      <th>7850</th>\n",
              "      <td>ff8081815aacc98e015aae15194752a5</td>\n",
              "      <td>2</td>\n",
              "      <td>0</td>\n",
              "      <td>0</td>\n",
              "      <td>0</td>\n",
              "      <td>1</td>\n",
              "      <td>1</td>\n",
              "      <td>1</td>\n",
              "      <td>743</td>\n",
              "      <td>15</td>\n",
              "      <td>2</td>\n",
              "      <td>7</td>\n",
              "      <td>2</td>\n",
              "      <td>1</td>\n",
              "      <td>2</td>\n",
              "      <td>1</td>\n",
              "      <td>2</td>\n",
              "      <td>0</td>\n",
              "      <td>9</td>\n",
              "    </tr>\n",
              "    <tr>\n",
              "      <th>13547</th>\n",
              "      <td>ff80818158de4fb60158dea009ce0ed2</td>\n",
              "      <td>0</td>\n",
              "      <td>0</td>\n",
              "      <td>0</td>\n",
              "      <td>0</td>\n",
              "      <td>0</td>\n",
              "      <td>1</td>\n",
              "      <td>1</td>\n",
              "      <td>200</td>\n",
              "      <td>10</td>\n",
              "      <td>1</td>\n",
              "      <td>4</td>\n",
              "      <td>1</td>\n",
              "      <td>0</td>\n",
              "      <td>3</td>\n",
              "      <td>1</td>\n",
              "      <td>3</td>\n",
              "      <td>1</td>\n",
              "      <td>10</td>\n",
              "    </tr>\n",
              "    <tr>\n",
              "      <th>5565</th>\n",
              "      <td>ff80818160204e9b0160267e7faf7a7f</td>\n",
              "      <td>2</td>\n",
              "      <td>0</td>\n",
              "      <td>0</td>\n",
              "      <td>0</td>\n",
              "      <td>1</td>\n",
              "      <td>1</td>\n",
              "      <td>3</td>\n",
              "      <td>1000</td>\n",
              "      <td>0</td>\n",
              "      <td>2</td>\n",
              "      <td>7</td>\n",
              "      <td>2</td>\n",
              "      <td>0</td>\n",
              "      <td>3</td>\n",
              "      <td>2</td>\n",
              "      <td>1</td>\n",
              "      <td>0</td>\n",
              "      <td>12</td>\n",
              "    </tr>\n",
              "    <tr>\n",
              "      <th>10606</th>\n",
              "      <td>ff808181638d2a350163909b97eb7088</td>\n",
              "      <td>2</td>\n",
              "      <td>0</td>\n",
              "      <td>0</td>\n",
              "      <td>0</td>\n",
              "      <td>0</td>\n",
              "      <td>1</td>\n",
              "      <td>1</td>\n",
              "      <td>500</td>\n",
              "      <td>10</td>\n",
              "      <td>1</td>\n",
              "      <td>0</td>\n",
              "      <td>2</td>\n",
              "      <td>1</td>\n",
              "      <td>3</td>\n",
              "      <td>2</td>\n",
              "      <td>1</td>\n",
              "      <td>1</td>\n",
              "      <td>8</td>\n",
              "    </tr>\n",
              "  </tbody>\n",
              "</table>\n",
              "</div>\n",
              "      <button class=\"colab-df-convert\" onclick=\"convertToInteractive('df-21a62b61-3fdb-4b93-81f9-6d832f1de997')\"\n",
              "              title=\"Convert this dataframe to an interactive table.\"\n",
              "              style=\"display:none;\">\n",
              "        \n",
              "  <svg xmlns=\"http://www.w3.org/2000/svg\" height=\"24px\"viewBox=\"0 0 24 24\"\n",
              "       width=\"24px\">\n",
              "    <path d=\"M0 0h24v24H0V0z\" fill=\"none\"/>\n",
              "    <path d=\"M18.56 5.44l.94 2.06.94-2.06 2.06-.94-2.06-.94-.94-2.06-.94 2.06-2.06.94zm-11 1L8.5 8.5l.94-2.06 2.06-.94-2.06-.94L8.5 2.5l-.94 2.06-2.06.94zm10 10l.94 2.06.94-2.06 2.06-.94-2.06-.94-.94-2.06-.94 2.06-2.06.94z\"/><path d=\"M17.41 7.96l-1.37-1.37c-.4-.4-.92-.59-1.43-.59-.52 0-1.04.2-1.43.59L10.3 9.45l-7.72 7.72c-.78.78-.78 2.05 0 2.83L4 21.41c.39.39.9.59 1.41.59.51 0 1.02-.2 1.41-.59l7.78-7.78 2.81-2.81c.8-.78.8-2.07 0-2.86zM5.41 20L4 18.59l7.72-7.72 1.47 1.35L5.41 20z\"/>\n",
              "  </svg>\n",
              "      </button>\n",
              "      \n",
              "  <style>\n",
              "    .colab-df-container {\n",
              "      display:flex;\n",
              "      flex-wrap:wrap;\n",
              "      gap: 12px;\n",
              "    }\n",
              "\n",
              "    .colab-df-convert {\n",
              "      background-color: #E8F0FE;\n",
              "      border: none;\n",
              "      border-radius: 50%;\n",
              "      cursor: pointer;\n",
              "      display: none;\n",
              "      fill: #1967D2;\n",
              "      height: 32px;\n",
              "      padding: 0 0 0 0;\n",
              "      width: 32px;\n",
              "    }\n",
              "\n",
              "    .colab-df-convert:hover {\n",
              "      background-color: #E2EBFA;\n",
              "      box-shadow: 0px 1px 2px rgba(60, 64, 67, 0.3), 0px 1px 3px 1px rgba(60, 64, 67, 0.15);\n",
              "      fill: #174EA6;\n",
              "    }\n",
              "\n",
              "    [theme=dark] .colab-df-convert {\n",
              "      background-color: #3B4455;\n",
              "      fill: #D2E3FC;\n",
              "    }\n",
              "\n",
              "    [theme=dark] .colab-df-convert:hover {\n",
              "      background-color: #434B5C;\n",
              "      box-shadow: 0px 1px 3px 1px rgba(0, 0, 0, 0.15);\n",
              "      filter: drop-shadow(0px 1px 2px rgba(0, 0, 0, 0.3));\n",
              "      fill: #FFFFFF;\n",
              "    }\n",
              "  </style>\n",
              "\n",
              "      <script>\n",
              "        const buttonEl =\n",
              "          document.querySelector('#df-21a62b61-3fdb-4b93-81f9-6d832f1de997 button.colab-df-convert');\n",
              "        buttonEl.style.display =\n",
              "          google.colab.kernel.accessAllowed ? 'block' : 'none';\n",
              "\n",
              "        async function convertToInteractive(key) {\n",
              "          const element = document.querySelector('#df-21a62b61-3fdb-4b93-81f9-6d832f1de997');\n",
              "          const dataTable =\n",
              "            await google.colab.kernel.invokeFunction('convertToInteractive',\n",
              "                                                     [key], {});\n",
              "          if (!dataTable) return;\n",
              "\n",
              "          const docLinkHtml = 'Like what you see? Visit the ' +\n",
              "            '<a target=\"_blank\" href=https://colab.research.google.com/notebooks/data_table.ipynb>data table notebook</a>'\n",
              "            + ' to learn more about interactive tables.';\n",
              "          element.innerHTML = '';\n",
              "          dataTable['output_type'] = 'display_data';\n",
              "          await google.colab.output.renderOutput(dataTable, element);\n",
              "          const docLink = document.createElement('div');\n",
              "          docLink.innerHTML = docLinkHtml;\n",
              "          element.appendChild(docLink);\n",
              "        }\n",
              "      </script>\n",
              "    </div>\n",
              "  </div>\n",
              "  "
            ]
          },
          "metadata": {},
          "execution_count": 310
        }
      ]
    },
    {
      "cell_type": "code",
      "source": [
        "val_outputs2=val2[target_cols]\n",
        "val_outputs2.head(5)"
      ],
      "metadata": {
        "colab": {
          "base_uri": "https://localhost:8080/",
          "height": 206
        },
        "id": "N7tfGML0_vpA",
        "outputId": "0a7823f5-2809-4187-bbd3-7aebd19937b0"
      },
      "execution_count": 311,
      "outputs": [
        {
          "output_type": "execute_result",
          "data": {
            "text/plain": [
              "        rent\n",
              "16330  22000\n",
              "7850   22000\n",
              "13547   8250\n",
              "5565   20000\n",
              "10606  12500"
            ],
            "text/html": [
              "\n",
              "  <div id=\"df-756b09e7-e797-4803-965b-cc5690873621\">\n",
              "    <div class=\"colab-df-container\">\n",
              "      <div>\n",
              "<style scoped>\n",
              "    .dataframe tbody tr th:only-of-type {\n",
              "        vertical-align: middle;\n",
              "    }\n",
              "\n",
              "    .dataframe tbody tr th {\n",
              "        vertical-align: top;\n",
              "    }\n",
              "\n",
              "    .dataframe thead th {\n",
              "        text-align: right;\n",
              "    }\n",
              "</style>\n",
              "<table border=\"1\" class=\"dataframe\">\n",
              "  <thead>\n",
              "    <tr style=\"text-align: right;\">\n",
              "      <th></th>\n",
              "      <th>rent</th>\n",
              "    </tr>\n",
              "  </thead>\n",
              "  <tbody>\n",
              "    <tr>\n",
              "      <th>16330</th>\n",
              "      <td>22000</td>\n",
              "    </tr>\n",
              "    <tr>\n",
              "      <th>7850</th>\n",
              "      <td>22000</td>\n",
              "    </tr>\n",
              "    <tr>\n",
              "      <th>13547</th>\n",
              "      <td>8250</td>\n",
              "    </tr>\n",
              "    <tr>\n",
              "      <th>5565</th>\n",
              "      <td>20000</td>\n",
              "    </tr>\n",
              "    <tr>\n",
              "      <th>10606</th>\n",
              "      <td>12500</td>\n",
              "    </tr>\n",
              "  </tbody>\n",
              "</table>\n",
              "</div>\n",
              "      <button class=\"colab-df-convert\" onclick=\"convertToInteractive('df-756b09e7-e797-4803-965b-cc5690873621')\"\n",
              "              title=\"Convert this dataframe to an interactive table.\"\n",
              "              style=\"display:none;\">\n",
              "        \n",
              "  <svg xmlns=\"http://www.w3.org/2000/svg\" height=\"24px\"viewBox=\"0 0 24 24\"\n",
              "       width=\"24px\">\n",
              "    <path d=\"M0 0h24v24H0V0z\" fill=\"none\"/>\n",
              "    <path d=\"M18.56 5.44l.94 2.06.94-2.06 2.06-.94-2.06-.94-.94-2.06-.94 2.06-2.06.94zm-11 1L8.5 8.5l.94-2.06 2.06-.94-2.06-.94L8.5 2.5l-.94 2.06-2.06.94zm10 10l.94 2.06.94-2.06 2.06-.94-2.06-.94-.94-2.06-.94 2.06-2.06.94z\"/><path d=\"M17.41 7.96l-1.37-1.37c-.4-.4-.92-.59-1.43-.59-.52 0-1.04.2-1.43.59L10.3 9.45l-7.72 7.72c-.78.78-.78 2.05 0 2.83L4 21.41c.39.39.9.59 1.41.59.51 0 1.02-.2 1.41-.59l7.78-7.78 2.81-2.81c.8-.78.8-2.07 0-2.86zM5.41 20L4 18.59l7.72-7.72 1.47 1.35L5.41 20z\"/>\n",
              "  </svg>\n",
              "      </button>\n",
              "      \n",
              "  <style>\n",
              "    .colab-df-container {\n",
              "      display:flex;\n",
              "      flex-wrap:wrap;\n",
              "      gap: 12px;\n",
              "    }\n",
              "\n",
              "    .colab-df-convert {\n",
              "      background-color: #E8F0FE;\n",
              "      border: none;\n",
              "      border-radius: 50%;\n",
              "      cursor: pointer;\n",
              "      display: none;\n",
              "      fill: #1967D2;\n",
              "      height: 32px;\n",
              "      padding: 0 0 0 0;\n",
              "      width: 32px;\n",
              "    }\n",
              "\n",
              "    .colab-df-convert:hover {\n",
              "      background-color: #E2EBFA;\n",
              "      box-shadow: 0px 1px 2px rgba(60, 64, 67, 0.3), 0px 1px 3px 1px rgba(60, 64, 67, 0.15);\n",
              "      fill: #174EA6;\n",
              "    }\n",
              "\n",
              "    [theme=dark] .colab-df-convert {\n",
              "      background-color: #3B4455;\n",
              "      fill: #D2E3FC;\n",
              "    }\n",
              "\n",
              "    [theme=dark] .colab-df-convert:hover {\n",
              "      background-color: #434B5C;\n",
              "      box-shadow: 0px 1px 3px 1px rgba(0, 0, 0, 0.15);\n",
              "      filter: drop-shadow(0px 1px 2px rgba(0, 0, 0, 0.3));\n",
              "      fill: #FFFFFF;\n",
              "    }\n",
              "  </style>\n",
              "\n",
              "      <script>\n",
              "        const buttonEl =\n",
              "          document.querySelector('#df-756b09e7-e797-4803-965b-cc5690873621 button.colab-df-convert');\n",
              "        buttonEl.style.display =\n",
              "          google.colab.kernel.accessAllowed ? 'block' : 'none';\n",
              "\n",
              "        async function convertToInteractive(key) {\n",
              "          const element = document.querySelector('#df-756b09e7-e797-4803-965b-cc5690873621');\n",
              "          const dataTable =\n",
              "            await google.colab.kernel.invokeFunction('convertToInteractive',\n",
              "                                                     [key], {});\n",
              "          if (!dataTable) return;\n",
              "\n",
              "          const docLinkHtml = 'Like what you see? Visit the ' +\n",
              "            '<a target=\"_blank\" href=https://colab.research.google.com/notebooks/data_table.ipynb>data table notebook</a>'\n",
              "            + ' to learn more about interactive tables.';\n",
              "          element.innerHTML = '';\n",
              "          dataTable['output_type'] = 'display_data';\n",
              "          await google.colab.output.renderOutput(dataTable, element);\n",
              "          const docLink = document.createElement('div');\n",
              "          docLink.innerHTML = docLinkHtml;\n",
              "          element.appendChild(docLink);\n",
              "        }\n",
              "      </script>\n",
              "    </div>\n",
              "  </div>\n",
              "  "
            ]
          },
          "metadata": {},
          "execution_count": 311
        }
      ]
    },
    {
      "cell_type": "markdown",
      "source": [
        "## Trying out different models"
      ],
      "metadata": {
        "id": "Gs4-mwyrsNef"
      }
    },
    {
      "cell_type": "markdown",
      "source": [
        "## Linear Regressor"
      ],
      "metadata": {
        "id": "m6n8vUeusTkH"
      }
    },
    {
      "cell_type": "code",
      "source": [
        "linear_model2=LinearRegression()"
      ],
      "metadata": {
        "id": "Ra9jJvKj_3d2"
      },
      "execution_count": 312,
      "outputs": []
    },
    {
      "cell_type": "code",
      "source": [
        "train_cols2=[\n",
        " 'type',\n",
        " 'gym',\n",
        " 'lift',\n",
        " 'swimming_pool',\n",
        " 'negotiable',\n",
        " 'furnishing',\n",
        " 'parking',\n",
        " 'property_size',\n",
        " 'property_age',\n",
        " 'bathroom',\n",
        " 'facing',\n",
        " 'cup_board',\n",
        " 'floor',\n",
        " 'total_floor',\n",
        " 'water_supply',\n",
        " 'building_type',\n",
        " 'balconies',\n",
        " 'ecity']"
      ],
      "metadata": {
        "id": "qJTNiYDxAIKk"
      },
      "execution_count": 313,
      "outputs": []
    },
    {
      "cell_type": "code",
      "source": [
        "linear_model2.fit(train_inputs2[train_cols2],train_outputs2)"
      ],
      "metadata": {
        "colab": {
          "base_uri": "https://localhost:8080/"
        },
        "id": "qSXOOVfV_7Pu",
        "outputId": "e720debc-8db0-43e7-9fc1-20b8c6842d61"
      },
      "execution_count": 314,
      "outputs": [
        {
          "output_type": "execute_result",
          "data": {
            "text/plain": [
              "LinearRegression()"
            ]
          },
          "metadata": {},
          "execution_count": 314
        }
      ]
    },
    {
      "cell_type": "code",
      "source": [
        "linear_preds2=linear_model2.predict(val_inputs2[train_cols2])"
      ],
      "metadata": {
        "id": "7qU3-PrQAOe7"
      },
      "execution_count": 315,
      "outputs": []
    },
    {
      "cell_type": "code",
      "source": [
        "linear_rmse2 = mean_squared_error(val_outputs2, linear_preds2, squared=False)\n",
        "linear_rmse2"
      ],
      "metadata": {
        "colab": {
          "base_uri": "https://localhost:8080/"
        },
        "id": "XjExRkDcAY-I",
        "outputId": "307efb34-518a-4c17-f80f-054a6f806c84"
      },
      "execution_count": 316,
      "outputs": [
        {
          "output_type": "execute_result",
          "data": {
            "text/plain": [
              "6779.931562505886"
            ]
          },
          "metadata": {},
          "execution_count": 316
        }
      ]
    },
    {
      "cell_type": "code",
      "source": [
        "linear_mae2=mean_absolute_error(val_outputs2, linear_preds2)\n",
        "linear_mae2"
      ],
      "metadata": {
        "colab": {
          "base_uri": "https://localhost:8080/"
        },
        "id": "-EJUy-dyAh4N",
        "outputId": "dc16daf7-e1f6-49c2-f7cd-acd5f934668f"
      },
      "execution_count": 317,
      "outputs": [
        {
          "output_type": "execute_result",
          "data": {
            "text/plain": [
              "3707.5593510183708"
            ]
          },
          "metadata": {},
          "execution_count": 317
        }
      ]
    },
    {
      "cell_type": "markdown",
      "source": [
        "## Random Forest Regressor"
      ],
      "metadata": {
        "id": "sr7_syJTsaBh"
      }
    },
    {
      "cell_type": "code",
      "source": [
        "forest2 = RandomForestRegressor(max_depth=12, random_state=44)"
      ],
      "metadata": {
        "id": "w4b-GulhAnMy"
      },
      "execution_count": 318,
      "outputs": []
    },
    {
      "cell_type": "code",
      "source": [
        "forest2.fit(train_inputs2[train_cols2],train_outputs2)"
      ],
      "metadata": {
        "colab": {
          "base_uri": "https://localhost:8080/"
        },
        "id": "9C3pXJfFAsm_",
        "outputId": "4435f257-e79b-4516-b048-9bafbf6c5215"
      },
      "execution_count": 319,
      "outputs": [
        {
          "output_type": "stream",
          "name": "stderr",
          "text": [
            "/usr/local/lib/python3.7/dist-packages/ipykernel_launcher.py:1: DataConversionWarning: A column-vector y was passed when a 1d array was expected. Please change the shape of y to (n_samples,), for example using ravel().\n",
            "  \"\"\"Entry point for launching an IPython kernel.\n"
          ]
        },
        {
          "output_type": "execute_result",
          "data": {
            "text/plain": [
              "RandomForestRegressor(max_depth=12, random_state=44)"
            ]
          },
          "metadata": {},
          "execution_count": 319
        }
      ]
    },
    {
      "cell_type": "code",
      "source": [
        "forest_pred2=forest2.predict(val_inputs2[train_cols2])"
      ],
      "metadata": {
        "id": "faXG6EeCAzCg"
      },
      "execution_count": 320,
      "outputs": []
    },
    {
      "cell_type": "markdown",
      "source": [
        "# Final Model Metrics"
      ],
      "metadata": {
        "id": "Wz9uXmbPPH8B"
      }
    },
    {
      "cell_type": "code",
      "source": [
        "forest_rmse2 = mean_squared_error(val_outputs2, forest_pred2, squared=False)\n",
        "forest_rmse2"
      ],
      "metadata": {
        "colab": {
          "base_uri": "https://localhost:8080/"
        },
        "id": "KP7yVrILA6kF",
        "outputId": "96981214-aefa-49a3-b093-541e84370ba1"
      },
      "execution_count": 321,
      "outputs": [
        {
          "output_type": "execute_result",
          "data": {
            "text/plain": [
              "4627.622946971815"
            ]
          },
          "metadata": {},
          "execution_count": 321
        }
      ]
    },
    {
      "cell_type": "code",
      "source": [
        "forest_mae2=mean_absolute_error(val_outputs2, forest_pred2)\n",
        "forest_mae2"
      ],
      "metadata": {
        "colab": {
          "base_uri": "https://localhost:8080/"
        },
        "id": "quaNXnR0BIAx",
        "outputId": "34bc9f73-1a86-47e5-e1f8-67f8ecf616df"
      },
      "execution_count": 322,
      "outputs": [
        {
          "output_type": "execute_result",
          "data": {
            "text/plain": [
              "3303.247699952211"
            ]
          },
          "metadata": {},
          "execution_count": 322
        }
      ]
    },
    {
      "cell_type": "code",
      "source": [
        "r2_score(val_outputs2, forest_pred2)"
      ],
      "metadata": {
        "colab": {
          "base_uri": "https://localhost:8080/"
        },
        "id": "lKViY2uuBOX6",
        "outputId": "ae42354e-29da-4a97-d680-b0336569c080"
      },
      "execution_count": 323,
      "outputs": [
        {
          "output_type": "execute_result",
          "data": {
            "text/plain": [
              "0.7049953682716847"
            ]
          },
          "metadata": {},
          "execution_count": 323
        }
      ]
    },
    {
      "cell_type": "markdown",
      "source": [
        "# Saving the model"
      ],
      "metadata": {
        "id": "8f-9rzOvPKtx"
      }
    },
    {
      "cell_type": "code",
      "source": [
        "import joblib\n",
        "joblib.dump(forest2, 'model1.h5')\n",
        "  "
      ],
      "metadata": {
        "colab": {
          "base_uri": "https://localhost:8080/"
        },
        "id": "8nY5S3bmGQYY",
        "outputId": "713d4d0e-605e-45e0-d876-6deb70b08be7"
      },
      "execution_count": 324,
      "outputs": [
        {
          "output_type": "execute_result",
          "data": {
            "text/plain": [
              "['model1.h5']"
            ]
          },
          "metadata": {},
          "execution_count": 324
        }
      ]
    },
    {
      "cell_type": "markdown",
      "source": [
        "# Making predictions on the test set given to us"
      ],
      "metadata": {
        "id": "yVylxkKBPM5P"
      }
    },
    {
      "cell_type": "code",
      "source": [
        "test_dir='/content/test.csv'"
      ],
      "metadata": {
        "id": "RYzQY0ULINvn"
      },
      "execution_count": 346,
      "outputs": []
    },
    {
      "cell_type": "code",
      "source": [
        "need_cols3=['id',\n",
        " 'type',\n",
        " 'latitude',\n",
        " 'longitude',\n",
        " 'gym',\n",
        " 'lift',\n",
        " 'swimming_pool',\n",
        " 'negotiable',\n",
        " 'furnishing',\n",
        " 'parking',\n",
        " 'property_size',\n",
        " 'property_age',\n",
        " 'bathroom',\n",
        " 'facing',\n",
        " 'cup_board',\n",
        " 'floor',\n",
        " 'total_floor',\n",
        " 'water_supply',\n",
        " 'building_type',\n",
        " 'balconies']"
      ],
      "metadata": {
        "id": "5Nx-L66MtJ0j"
      },
      "execution_count": 349,
      "outputs": []
    },
    {
      "cell_type": "code",
      "source": [
        "test_df=pd.read_csv(test_dir,usecols=need_cols3)"
      ],
      "metadata": {
        "id": "K4_06ojTHvR2"
      },
      "execution_count": 352,
      "outputs": []
    },
    {
      "cell_type": "code",
      "source": [
        "test_df.head()"
      ],
      "metadata": {
        "colab": {
          "base_uri": "https://localhost:8080/",
          "height": 270
        },
        "id": "fa8jwkt5IM6U",
        "outputId": "f9398df6-cd1d-40ab-da1b-1a9ec164a4a9"
      },
      "execution_count": 353,
      "outputs": [
        {
          "output_type": "execute_result",
          "data": {
            "text/plain": [
              "                                 id  type   latitude  longitude  gym  lift  \\\n",
              "0  ff8081815df539bc015df947ce976cca  BHK2  12.941603  77.568156    0     1   \n",
              "1  ff80818157288e9301572c05651853a6  BHK2  12.998803  77.561887    0     0   \n",
              "2  ff8081815f1afc58015f1b831fde166e  BHK1  12.966467  77.661063    0     0   \n",
              "3  ff8081816035b31901603f7922c046e0  BHK1  12.941533  77.592606    0     0   \n",
              "4  ff8081815c3582f5015c38fc31aa73a4  BHK3  12.971083  77.751625    1     1   \n",
              "\n",
              "   swimming_pool  negotiable      furnishing      parking  property_size  \\\n",
              "0              0           0  SEMI_FURNISHED         BOTH           1300   \n",
              "1              0           1  SEMI_FURNISHED  TWO_WHEELER            600   \n",
              "2              0           1  SEMI_FURNISHED  TWO_WHEELER            600   \n",
              "3              0           0   NOT_FURNISHED  TWO_WHEELER            500   \n",
              "4              1           1  SEMI_FURNISHED         BOTH           1400   \n",
              "\n",
              "   property_age  bathroom facing  cup_board  floor  total_floor water_supply  \\\n",
              "0             1         2      N          2      3            3    CORP_BORE   \n",
              "1             7         1      S          2      0            3  CORPORATION   \n",
              "2            10         1      S          1      0            1  CORPORATION   \n",
              "3             8         1      E          0      2            2    CORP_BORE   \n",
              "4             0         3      E          3      3            4     BOREWELL   \n",
              "\n",
              "  building_type  balconies  \n",
              "0            AP          1  \n",
              "1            IF          0  \n",
              "2            IF          0  \n",
              "3            IF          0  \n",
              "4            AP          1  "
            ],
            "text/html": [
              "\n",
              "  <div id=\"df-896ab6f7-06b5-4a87-8081-52e9a3d599aa\">\n",
              "    <div class=\"colab-df-container\">\n",
              "      <div>\n",
              "<style scoped>\n",
              "    .dataframe tbody tr th:only-of-type {\n",
              "        vertical-align: middle;\n",
              "    }\n",
              "\n",
              "    .dataframe tbody tr th {\n",
              "        vertical-align: top;\n",
              "    }\n",
              "\n",
              "    .dataframe thead th {\n",
              "        text-align: right;\n",
              "    }\n",
              "</style>\n",
              "<table border=\"1\" class=\"dataframe\">\n",
              "  <thead>\n",
              "    <tr style=\"text-align: right;\">\n",
              "      <th></th>\n",
              "      <th>id</th>\n",
              "      <th>type</th>\n",
              "      <th>latitude</th>\n",
              "      <th>longitude</th>\n",
              "      <th>gym</th>\n",
              "      <th>lift</th>\n",
              "      <th>swimming_pool</th>\n",
              "      <th>negotiable</th>\n",
              "      <th>furnishing</th>\n",
              "      <th>parking</th>\n",
              "      <th>property_size</th>\n",
              "      <th>property_age</th>\n",
              "      <th>bathroom</th>\n",
              "      <th>facing</th>\n",
              "      <th>cup_board</th>\n",
              "      <th>floor</th>\n",
              "      <th>total_floor</th>\n",
              "      <th>water_supply</th>\n",
              "      <th>building_type</th>\n",
              "      <th>balconies</th>\n",
              "    </tr>\n",
              "  </thead>\n",
              "  <tbody>\n",
              "    <tr>\n",
              "      <th>0</th>\n",
              "      <td>ff8081815df539bc015df947ce976cca</td>\n",
              "      <td>BHK2</td>\n",
              "      <td>12.941603</td>\n",
              "      <td>77.568156</td>\n",
              "      <td>0</td>\n",
              "      <td>1</td>\n",
              "      <td>0</td>\n",
              "      <td>0</td>\n",
              "      <td>SEMI_FURNISHED</td>\n",
              "      <td>BOTH</td>\n",
              "      <td>1300</td>\n",
              "      <td>1</td>\n",
              "      <td>2</td>\n",
              "      <td>N</td>\n",
              "      <td>2</td>\n",
              "      <td>3</td>\n",
              "      <td>3</td>\n",
              "      <td>CORP_BORE</td>\n",
              "      <td>AP</td>\n",
              "      <td>1</td>\n",
              "    </tr>\n",
              "    <tr>\n",
              "      <th>1</th>\n",
              "      <td>ff80818157288e9301572c05651853a6</td>\n",
              "      <td>BHK2</td>\n",
              "      <td>12.998803</td>\n",
              "      <td>77.561887</td>\n",
              "      <td>0</td>\n",
              "      <td>0</td>\n",
              "      <td>0</td>\n",
              "      <td>1</td>\n",
              "      <td>SEMI_FURNISHED</td>\n",
              "      <td>TWO_WHEELER</td>\n",
              "      <td>600</td>\n",
              "      <td>7</td>\n",
              "      <td>1</td>\n",
              "      <td>S</td>\n",
              "      <td>2</td>\n",
              "      <td>0</td>\n",
              "      <td>3</td>\n",
              "      <td>CORPORATION</td>\n",
              "      <td>IF</td>\n",
              "      <td>0</td>\n",
              "    </tr>\n",
              "    <tr>\n",
              "      <th>2</th>\n",
              "      <td>ff8081815f1afc58015f1b831fde166e</td>\n",
              "      <td>BHK1</td>\n",
              "      <td>12.966467</td>\n",
              "      <td>77.661063</td>\n",
              "      <td>0</td>\n",
              "      <td>0</td>\n",
              "      <td>0</td>\n",
              "      <td>1</td>\n",
              "      <td>SEMI_FURNISHED</td>\n",
              "      <td>TWO_WHEELER</td>\n",
              "      <td>600</td>\n",
              "      <td>10</td>\n",
              "      <td>1</td>\n",
              "      <td>S</td>\n",
              "      <td>1</td>\n",
              "      <td>0</td>\n",
              "      <td>1</td>\n",
              "      <td>CORPORATION</td>\n",
              "      <td>IF</td>\n",
              "      <td>0</td>\n",
              "    </tr>\n",
              "    <tr>\n",
              "      <th>3</th>\n",
              "      <td>ff8081816035b31901603f7922c046e0</td>\n",
              "      <td>BHK1</td>\n",
              "      <td>12.941533</td>\n",
              "      <td>77.592606</td>\n",
              "      <td>0</td>\n",
              "      <td>0</td>\n",
              "      <td>0</td>\n",
              "      <td>0</td>\n",
              "      <td>NOT_FURNISHED</td>\n",
              "      <td>TWO_WHEELER</td>\n",
              "      <td>500</td>\n",
              "      <td>8</td>\n",
              "      <td>1</td>\n",
              "      <td>E</td>\n",
              "      <td>0</td>\n",
              "      <td>2</td>\n",
              "      <td>2</td>\n",
              "      <td>CORP_BORE</td>\n",
              "      <td>IF</td>\n",
              "      <td>0</td>\n",
              "    </tr>\n",
              "    <tr>\n",
              "      <th>4</th>\n",
              "      <td>ff8081815c3582f5015c38fc31aa73a4</td>\n",
              "      <td>BHK3</td>\n",
              "      <td>12.971083</td>\n",
              "      <td>77.751625</td>\n",
              "      <td>1</td>\n",
              "      <td>1</td>\n",
              "      <td>1</td>\n",
              "      <td>1</td>\n",
              "      <td>SEMI_FURNISHED</td>\n",
              "      <td>BOTH</td>\n",
              "      <td>1400</td>\n",
              "      <td>0</td>\n",
              "      <td>3</td>\n",
              "      <td>E</td>\n",
              "      <td>3</td>\n",
              "      <td>3</td>\n",
              "      <td>4</td>\n",
              "      <td>BOREWELL</td>\n",
              "      <td>AP</td>\n",
              "      <td>1</td>\n",
              "    </tr>\n",
              "  </tbody>\n",
              "</table>\n",
              "</div>\n",
              "      <button class=\"colab-df-convert\" onclick=\"convertToInteractive('df-896ab6f7-06b5-4a87-8081-52e9a3d599aa')\"\n",
              "              title=\"Convert this dataframe to an interactive table.\"\n",
              "              style=\"display:none;\">\n",
              "        \n",
              "  <svg xmlns=\"http://www.w3.org/2000/svg\" height=\"24px\"viewBox=\"0 0 24 24\"\n",
              "       width=\"24px\">\n",
              "    <path d=\"M0 0h24v24H0V0z\" fill=\"none\"/>\n",
              "    <path d=\"M18.56 5.44l.94 2.06.94-2.06 2.06-.94-2.06-.94-.94-2.06-.94 2.06-2.06.94zm-11 1L8.5 8.5l.94-2.06 2.06-.94-2.06-.94L8.5 2.5l-.94 2.06-2.06.94zm10 10l.94 2.06.94-2.06 2.06-.94-2.06-.94-.94-2.06-.94 2.06-2.06.94z\"/><path d=\"M17.41 7.96l-1.37-1.37c-.4-.4-.92-.59-1.43-.59-.52 0-1.04.2-1.43.59L10.3 9.45l-7.72 7.72c-.78.78-.78 2.05 0 2.83L4 21.41c.39.39.9.59 1.41.59.51 0 1.02-.2 1.41-.59l7.78-7.78 2.81-2.81c.8-.78.8-2.07 0-2.86zM5.41 20L4 18.59l7.72-7.72 1.47 1.35L5.41 20z\"/>\n",
              "  </svg>\n",
              "      </button>\n",
              "      \n",
              "  <style>\n",
              "    .colab-df-container {\n",
              "      display:flex;\n",
              "      flex-wrap:wrap;\n",
              "      gap: 12px;\n",
              "    }\n",
              "\n",
              "    .colab-df-convert {\n",
              "      background-color: #E8F0FE;\n",
              "      border: none;\n",
              "      border-radius: 50%;\n",
              "      cursor: pointer;\n",
              "      display: none;\n",
              "      fill: #1967D2;\n",
              "      height: 32px;\n",
              "      padding: 0 0 0 0;\n",
              "      width: 32px;\n",
              "    }\n",
              "\n",
              "    .colab-df-convert:hover {\n",
              "      background-color: #E2EBFA;\n",
              "      box-shadow: 0px 1px 2px rgba(60, 64, 67, 0.3), 0px 1px 3px 1px rgba(60, 64, 67, 0.15);\n",
              "      fill: #174EA6;\n",
              "    }\n",
              "\n",
              "    [theme=dark] .colab-df-convert {\n",
              "      background-color: #3B4455;\n",
              "      fill: #D2E3FC;\n",
              "    }\n",
              "\n",
              "    [theme=dark] .colab-df-convert:hover {\n",
              "      background-color: #434B5C;\n",
              "      box-shadow: 0px 1px 3px 1px rgba(0, 0, 0, 0.15);\n",
              "      filter: drop-shadow(0px 1px 2px rgba(0, 0, 0, 0.3));\n",
              "      fill: #FFFFFF;\n",
              "    }\n",
              "  </style>\n",
              "\n",
              "      <script>\n",
              "        const buttonEl =\n",
              "          document.querySelector('#df-896ab6f7-06b5-4a87-8081-52e9a3d599aa button.colab-df-convert');\n",
              "        buttonEl.style.display =\n",
              "          google.colab.kernel.accessAllowed ? 'block' : 'none';\n",
              "\n",
              "        async function convertToInteractive(key) {\n",
              "          const element = document.querySelector('#df-896ab6f7-06b5-4a87-8081-52e9a3d599aa');\n",
              "          const dataTable =\n",
              "            await google.colab.kernel.invokeFunction('convertToInteractive',\n",
              "                                                     [key], {});\n",
              "          if (!dataTable) return;\n",
              "\n",
              "          const docLinkHtml = 'Like what you see? Visit the ' +\n",
              "            '<a target=\"_blank\" href=https://colab.research.google.com/notebooks/data_table.ipynb>data table notebook</a>'\n",
              "            + ' to learn more about interactive tables.';\n",
              "          element.innerHTML = '';\n",
              "          dataTable['output_type'] = 'display_data';\n",
              "          await google.colab.output.renderOutput(dataTable, element);\n",
              "          const docLink = document.createElement('div');\n",
              "          docLink.innerHTML = docLinkHtml;\n",
              "          element.appendChild(docLink);\n",
              "        }\n",
              "      </script>\n",
              "    </div>\n",
              "  </div>\n",
              "  "
            ]
          },
          "metadata": {},
          "execution_count": 353
        }
      ]
    },
    {
      "cell_type": "markdown",
      "source": [
        "## Encoding the fields"
      ],
      "metadata": {
        "id": "NC5Bs8sRsldj"
      }
    },
    {
      "cell_type": "code",
      "source": [
        "for ind in test_df.index:\n",
        "  test_df['furnishing'][ind]=furnish_dict[test_df['furnishing'][ind]]"
      ],
      "metadata": {
        "colab": {
          "base_uri": "https://localhost:8080/"
        },
        "id": "VGgxPRV2JUvm",
        "outputId": "c0104178-b1a6-4b20-d1cd-bc0783fc37d1"
      },
      "execution_count": 354,
      "outputs": [
        {
          "output_type": "stream",
          "name": "stderr",
          "text": [
            "/usr/local/lib/python3.7/dist-packages/ipykernel_launcher.py:2: SettingWithCopyWarning: \n",
            "A value is trying to be set on a copy of a slice from a DataFrame\n",
            "\n",
            "See the caveats in the documentation: https://pandas.pydata.org/pandas-docs/stable/user_guide/indexing.html#returning-a-view-versus-a-copy\n",
            "  \n"
          ]
        }
      ]
    },
    {
      "cell_type": "code",
      "source": [
        "for ind in test_df.index:\n",
        "  test_df['water_supply'][ind]=water_dict[test_df['water_supply'][ind]]"
      ],
      "metadata": {
        "colab": {
          "base_uri": "https://localhost:8080/"
        },
        "id": "smKU-0xMJbzC",
        "outputId": "49b99fa3-f3e0-426f-b968-7e3d6fd3fc26"
      },
      "execution_count": 355,
      "outputs": [
        {
          "output_type": "stream",
          "name": "stderr",
          "text": [
            "/usr/local/lib/python3.7/dist-packages/ipykernel_launcher.py:2: SettingWithCopyWarning: \n",
            "A value is trying to be set on a copy of a slice from a DataFrame\n",
            "\n",
            "See the caveats in the documentation: https://pandas.pydata.org/pandas-docs/stable/user_guide/indexing.html#returning-a-view-versus-a-copy\n",
            "  \n"
          ]
        }
      ]
    },
    {
      "cell_type": "code",
      "source": [
        "for ind in test_df.index:\n",
        "  test_df['parking'][ind]=park_dict[test_df['parking'][ind]]"
      ],
      "metadata": {
        "colab": {
          "base_uri": "https://localhost:8080/"
        },
        "id": "uqEZJttgJiYP",
        "outputId": "b4965b95-a4ef-4550-a266-3928edbcfb0c"
      },
      "execution_count": 356,
      "outputs": [
        {
          "output_type": "stream",
          "name": "stderr",
          "text": [
            "/usr/local/lib/python3.7/dist-packages/ipykernel_launcher.py:2: SettingWithCopyWarning: \n",
            "A value is trying to be set on a copy of a slice from a DataFrame\n",
            "\n",
            "See the caveats in the documentation: https://pandas.pydata.org/pandas-docs/stable/user_guide/indexing.html#returning-a-view-versus-a-copy\n",
            "  \n"
          ]
        }
      ]
    },
    {
      "cell_type": "code",
      "source": [
        "for ind in test_df.index:\n",
        "  test_df['facing'][ind]=face_dict[test_df['facing'][ind]]"
      ],
      "metadata": {
        "colab": {
          "base_uri": "https://localhost:8080/"
        },
        "id": "RIOEcdDmJt2P",
        "outputId": "e444ecdd-ef92-4501-d56f-be04a4526b6d"
      },
      "execution_count": 357,
      "outputs": [
        {
          "output_type": "stream",
          "name": "stderr",
          "text": [
            "/usr/local/lib/python3.7/dist-packages/ipykernel_launcher.py:2: SettingWithCopyWarning: \n",
            "A value is trying to be set on a copy of a slice from a DataFrame\n",
            "\n",
            "See the caveats in the documentation: https://pandas.pydata.org/pandas-docs/stable/user_guide/indexing.html#returning-a-view-versus-a-copy\n",
            "  \n"
          ]
        }
      ]
    },
    {
      "cell_type": "code",
      "source": [
        "for ind in test_df.index:\n",
        "  test_df['type'][ind]=type_dict[test_df['type'][ind]]"
      ],
      "metadata": {
        "colab": {
          "base_uri": "https://localhost:8080/"
        },
        "id": "RfZWC9j6Jyvb",
        "outputId": "6193f159-b87b-49ce-f88f-88db60810a8e"
      },
      "execution_count": 358,
      "outputs": [
        {
          "output_type": "stream",
          "name": "stderr",
          "text": [
            "/usr/local/lib/python3.7/dist-packages/ipykernel_launcher.py:2: SettingWithCopyWarning: \n",
            "A value is trying to be set on a copy of a slice from a DataFrame\n",
            "\n",
            "See the caveats in the documentation: https://pandas.pydata.org/pandas-docs/stable/user_guide/indexing.html#returning-a-view-versus-a-copy\n",
            "  \n"
          ]
        }
      ]
    },
    {
      "cell_type": "code",
      "source": [
        "for ind in test_df.index:\n",
        "  test_df['building_type'][ind]=build_dict[test_df['building_type'][ind]]"
      ],
      "metadata": {
        "colab": {
          "base_uri": "https://localhost:8080/"
        },
        "id": "XWQLSXsiJ6Kt",
        "outputId": "61fa67da-8ff4-4bc0-f75f-2a94a82393aa"
      },
      "execution_count": 359,
      "outputs": [
        {
          "output_type": "stream",
          "name": "stderr",
          "text": [
            "/usr/local/lib/python3.7/dist-packages/ipykernel_launcher.py:2: SettingWithCopyWarning: \n",
            "A value is trying to be set on a copy of a slice from a DataFrame\n",
            "\n",
            "See the caveats in the documentation: https://pandas.pydata.org/pandas-docs/stable/user_guide/indexing.html#returning-a-view-versus-a-copy\n",
            "  \n"
          ]
        }
      ]
    },
    {
      "cell_type": "code",
      "source": [
        "test_df.head()"
      ],
      "metadata": {
        "colab": {
          "base_uri": "https://localhost:8080/",
          "height": 270
        },
        "id": "IToeobcMKAf3",
        "outputId": "46286d99-40b6-43ca-f237-2a62a1de1e78"
      },
      "execution_count": 360,
      "outputs": [
        {
          "output_type": "execute_result",
          "data": {
            "text/plain": [
              "                                 id type   latitude  longitude  gym  lift  \\\n",
              "0  ff8081815df539bc015df947ce976cca    2  12.941603  77.568156    0     1   \n",
              "1  ff80818157288e9301572c05651853a6    2  12.998803  77.561887    0     0   \n",
              "2  ff8081815f1afc58015f1b831fde166e    1  12.966467  77.661063    0     0   \n",
              "3  ff8081816035b31901603f7922c046e0    1  12.941533  77.592606    0     0   \n",
              "4  ff8081815c3582f5015c38fc31aa73a4    2  12.971083  77.751625    1     1   \n",
              "\n",
              "   swimming_pool  negotiable furnishing parking  property_size  property_age  \\\n",
              "0              0           0          1       3           1300             1   \n",
              "1              0           1          1       1            600             7   \n",
              "2              0           1          1       1            600            10   \n",
              "3              0           0          0       1            500             8   \n",
              "4              1           1          1       3           1400             0   \n",
              "\n",
              "   bathroom facing  cup_board  floor  total_floor water_supply building_type  \\\n",
              "0         2      7          2      3            3            2             1   \n",
              "1         1      0          2      0            3            1             2   \n",
              "2         1      0          1      0            1            1             2   \n",
              "3         1      6          0      2            2            2             2   \n",
              "4         3      6          3      3            4            0             1   \n",
              "\n",
              "   balconies  \n",
              "0          1  \n",
              "1          0  \n",
              "2          0  \n",
              "3          0  \n",
              "4          1  "
            ],
            "text/html": [
              "\n",
              "  <div id=\"df-e5592401-1533-43ff-b151-b9c599dea7b0\">\n",
              "    <div class=\"colab-df-container\">\n",
              "      <div>\n",
              "<style scoped>\n",
              "    .dataframe tbody tr th:only-of-type {\n",
              "        vertical-align: middle;\n",
              "    }\n",
              "\n",
              "    .dataframe tbody tr th {\n",
              "        vertical-align: top;\n",
              "    }\n",
              "\n",
              "    .dataframe thead th {\n",
              "        text-align: right;\n",
              "    }\n",
              "</style>\n",
              "<table border=\"1\" class=\"dataframe\">\n",
              "  <thead>\n",
              "    <tr style=\"text-align: right;\">\n",
              "      <th></th>\n",
              "      <th>id</th>\n",
              "      <th>type</th>\n",
              "      <th>latitude</th>\n",
              "      <th>longitude</th>\n",
              "      <th>gym</th>\n",
              "      <th>lift</th>\n",
              "      <th>swimming_pool</th>\n",
              "      <th>negotiable</th>\n",
              "      <th>furnishing</th>\n",
              "      <th>parking</th>\n",
              "      <th>property_size</th>\n",
              "      <th>property_age</th>\n",
              "      <th>bathroom</th>\n",
              "      <th>facing</th>\n",
              "      <th>cup_board</th>\n",
              "      <th>floor</th>\n",
              "      <th>total_floor</th>\n",
              "      <th>water_supply</th>\n",
              "      <th>building_type</th>\n",
              "      <th>balconies</th>\n",
              "    </tr>\n",
              "  </thead>\n",
              "  <tbody>\n",
              "    <tr>\n",
              "      <th>0</th>\n",
              "      <td>ff8081815df539bc015df947ce976cca</td>\n",
              "      <td>2</td>\n",
              "      <td>12.941603</td>\n",
              "      <td>77.568156</td>\n",
              "      <td>0</td>\n",
              "      <td>1</td>\n",
              "      <td>0</td>\n",
              "      <td>0</td>\n",
              "      <td>1</td>\n",
              "      <td>3</td>\n",
              "      <td>1300</td>\n",
              "      <td>1</td>\n",
              "      <td>2</td>\n",
              "      <td>7</td>\n",
              "      <td>2</td>\n",
              "      <td>3</td>\n",
              "      <td>3</td>\n",
              "      <td>2</td>\n",
              "      <td>1</td>\n",
              "      <td>1</td>\n",
              "    </tr>\n",
              "    <tr>\n",
              "      <th>1</th>\n",
              "      <td>ff80818157288e9301572c05651853a6</td>\n",
              "      <td>2</td>\n",
              "      <td>12.998803</td>\n",
              "      <td>77.561887</td>\n",
              "      <td>0</td>\n",
              "      <td>0</td>\n",
              "      <td>0</td>\n",
              "      <td>1</td>\n",
              "      <td>1</td>\n",
              "      <td>1</td>\n",
              "      <td>600</td>\n",
              "      <td>7</td>\n",
              "      <td>1</td>\n",
              "      <td>0</td>\n",
              "      <td>2</td>\n",
              "      <td>0</td>\n",
              "      <td>3</td>\n",
              "      <td>1</td>\n",
              "      <td>2</td>\n",
              "      <td>0</td>\n",
              "    </tr>\n",
              "    <tr>\n",
              "      <th>2</th>\n",
              "      <td>ff8081815f1afc58015f1b831fde166e</td>\n",
              "      <td>1</td>\n",
              "      <td>12.966467</td>\n",
              "      <td>77.661063</td>\n",
              "      <td>0</td>\n",
              "      <td>0</td>\n",
              "      <td>0</td>\n",
              "      <td>1</td>\n",
              "      <td>1</td>\n",
              "      <td>1</td>\n",
              "      <td>600</td>\n",
              "      <td>10</td>\n",
              "      <td>1</td>\n",
              "      <td>0</td>\n",
              "      <td>1</td>\n",
              "      <td>0</td>\n",
              "      <td>1</td>\n",
              "      <td>1</td>\n",
              "      <td>2</td>\n",
              "      <td>0</td>\n",
              "    </tr>\n",
              "    <tr>\n",
              "      <th>3</th>\n",
              "      <td>ff8081816035b31901603f7922c046e0</td>\n",
              "      <td>1</td>\n",
              "      <td>12.941533</td>\n",
              "      <td>77.592606</td>\n",
              "      <td>0</td>\n",
              "      <td>0</td>\n",
              "      <td>0</td>\n",
              "      <td>0</td>\n",
              "      <td>0</td>\n",
              "      <td>1</td>\n",
              "      <td>500</td>\n",
              "      <td>8</td>\n",
              "      <td>1</td>\n",
              "      <td>6</td>\n",
              "      <td>0</td>\n",
              "      <td>2</td>\n",
              "      <td>2</td>\n",
              "      <td>2</td>\n",
              "      <td>2</td>\n",
              "      <td>0</td>\n",
              "    </tr>\n",
              "    <tr>\n",
              "      <th>4</th>\n",
              "      <td>ff8081815c3582f5015c38fc31aa73a4</td>\n",
              "      <td>2</td>\n",
              "      <td>12.971083</td>\n",
              "      <td>77.751625</td>\n",
              "      <td>1</td>\n",
              "      <td>1</td>\n",
              "      <td>1</td>\n",
              "      <td>1</td>\n",
              "      <td>1</td>\n",
              "      <td>3</td>\n",
              "      <td>1400</td>\n",
              "      <td>0</td>\n",
              "      <td>3</td>\n",
              "      <td>6</td>\n",
              "      <td>3</td>\n",
              "      <td>3</td>\n",
              "      <td>4</td>\n",
              "      <td>0</td>\n",
              "      <td>1</td>\n",
              "      <td>1</td>\n",
              "    </tr>\n",
              "  </tbody>\n",
              "</table>\n",
              "</div>\n",
              "      <button class=\"colab-df-convert\" onclick=\"convertToInteractive('df-e5592401-1533-43ff-b151-b9c599dea7b0')\"\n",
              "              title=\"Convert this dataframe to an interactive table.\"\n",
              "              style=\"display:none;\">\n",
              "        \n",
              "  <svg xmlns=\"http://www.w3.org/2000/svg\" height=\"24px\"viewBox=\"0 0 24 24\"\n",
              "       width=\"24px\">\n",
              "    <path d=\"M0 0h24v24H0V0z\" fill=\"none\"/>\n",
              "    <path d=\"M18.56 5.44l.94 2.06.94-2.06 2.06-.94-2.06-.94-.94-2.06-.94 2.06-2.06.94zm-11 1L8.5 8.5l.94-2.06 2.06-.94-2.06-.94L8.5 2.5l-.94 2.06-2.06.94zm10 10l.94 2.06.94-2.06 2.06-.94-2.06-.94-.94-2.06-.94 2.06-2.06.94z\"/><path d=\"M17.41 7.96l-1.37-1.37c-.4-.4-.92-.59-1.43-.59-.52 0-1.04.2-1.43.59L10.3 9.45l-7.72 7.72c-.78.78-.78 2.05 0 2.83L4 21.41c.39.39.9.59 1.41.59.51 0 1.02-.2 1.41-.59l7.78-7.78 2.81-2.81c.8-.78.8-2.07 0-2.86zM5.41 20L4 18.59l7.72-7.72 1.47 1.35L5.41 20z\"/>\n",
              "  </svg>\n",
              "      </button>\n",
              "      \n",
              "  <style>\n",
              "    .colab-df-container {\n",
              "      display:flex;\n",
              "      flex-wrap:wrap;\n",
              "      gap: 12px;\n",
              "    }\n",
              "\n",
              "    .colab-df-convert {\n",
              "      background-color: #E8F0FE;\n",
              "      border: none;\n",
              "      border-radius: 50%;\n",
              "      cursor: pointer;\n",
              "      display: none;\n",
              "      fill: #1967D2;\n",
              "      height: 32px;\n",
              "      padding: 0 0 0 0;\n",
              "      width: 32px;\n",
              "    }\n",
              "\n",
              "    .colab-df-convert:hover {\n",
              "      background-color: #E2EBFA;\n",
              "      box-shadow: 0px 1px 2px rgba(60, 64, 67, 0.3), 0px 1px 3px 1px rgba(60, 64, 67, 0.15);\n",
              "      fill: #174EA6;\n",
              "    }\n",
              "\n",
              "    [theme=dark] .colab-df-convert {\n",
              "      background-color: #3B4455;\n",
              "      fill: #D2E3FC;\n",
              "    }\n",
              "\n",
              "    [theme=dark] .colab-df-convert:hover {\n",
              "      background-color: #434B5C;\n",
              "      box-shadow: 0px 1px 3px 1px rgba(0, 0, 0, 0.15);\n",
              "      filter: drop-shadow(0px 1px 2px rgba(0, 0, 0, 0.3));\n",
              "      fill: #FFFFFF;\n",
              "    }\n",
              "  </style>\n",
              "\n",
              "      <script>\n",
              "        const buttonEl =\n",
              "          document.querySelector('#df-e5592401-1533-43ff-b151-b9c599dea7b0 button.colab-df-convert');\n",
              "        buttonEl.style.display =\n",
              "          google.colab.kernel.accessAllowed ? 'block' : 'none';\n",
              "\n",
              "        async function convertToInteractive(key) {\n",
              "          const element = document.querySelector('#df-e5592401-1533-43ff-b151-b9c599dea7b0');\n",
              "          const dataTable =\n",
              "            await google.colab.kernel.invokeFunction('convertToInteractive',\n",
              "                                                     [key], {});\n",
              "          if (!dataTable) return;\n",
              "\n",
              "          const docLinkHtml = 'Like what you see? Visit the ' +\n",
              "            '<a target=\"_blank\" href=https://colab.research.google.com/notebooks/data_table.ipynb>data table notebook</a>'\n",
              "            + ' to learn more about interactive tables.';\n",
              "          element.innerHTML = '';\n",
              "          dataTable['output_type'] = 'display_data';\n",
              "          await google.colab.output.renderOutput(dataTable, element);\n",
              "          const docLink = document.createElement('div');\n",
              "          docLink.innerHTML = docLinkHtml;\n",
              "          element.appendChild(docLink);\n",
              "        }\n",
              "      </script>\n",
              "    </div>\n",
              "  </div>\n",
              "  "
            ]
          },
          "metadata": {},
          "execution_count": 360
        }
      ]
    },
    {
      "cell_type": "code",
      "source": [
        "test_df.info()"
      ],
      "metadata": {
        "colab": {
          "base_uri": "https://localhost:8080/"
        },
        "id": "5oXbjimNKFMb",
        "outputId": "5c60ff41-47a6-4013-f989-dd6f441aa84e"
      },
      "execution_count": 361,
      "outputs": [
        {
          "output_type": "stream",
          "name": "stdout",
          "text": [
            "<class 'pandas.core.frame.DataFrame'>\n",
            "RangeIndex: 4500 entries, 0 to 4499\n",
            "Data columns (total 20 columns):\n",
            " #   Column         Non-Null Count  Dtype  \n",
            "---  ------         --------------  -----  \n",
            " 0   id             4500 non-null   object \n",
            " 1   type           4500 non-null   object \n",
            " 2   latitude       4500 non-null   float64\n",
            " 3   longitude      4500 non-null   float64\n",
            " 4   gym            4500 non-null   int64  \n",
            " 5   lift           4500 non-null   int64  \n",
            " 6   swimming_pool  4500 non-null   int64  \n",
            " 7   negotiable     4500 non-null   int64  \n",
            " 8   furnishing     4500 non-null   object \n",
            " 9   parking        4500 non-null   object \n",
            " 10  property_size  4500 non-null   int64  \n",
            " 11  property_age   4500 non-null   int64  \n",
            " 12  bathroom       4500 non-null   int64  \n",
            " 13  facing         4500 non-null   object \n",
            " 14  cup_board      4500 non-null   int64  \n",
            " 15  floor          4500 non-null   int64  \n",
            " 16  total_floor    4500 non-null   int64  \n",
            " 17  water_supply   4500 non-null   object \n",
            " 18  building_type  4500 non-null   object \n",
            " 19  balconies      4500 non-null   int64  \n",
            "dtypes: float64(2), int64(11), object(7)\n",
            "memory usage: 703.2+ KB\n"
          ]
        }
      ]
    },
    {
      "cell_type": "markdown",
      "source": [
        "## Adding the new feature to the dataframe"
      ],
      "metadata": {
        "id": "Ie0-XAxVsqTM"
      }
    },
    {
      "cell_type": "code",
      "source": [
        "test_df[\"ecity\"]=0"
      ],
      "metadata": {
        "id": "aQkn21DeKxh9"
      },
      "execution_count": 362,
      "outputs": []
    },
    {
      "cell_type": "code",
      "source": [
        "for ind in test_df.index:\n",
        "  test_df['ecity'][ind]=calculate_spherical_distance(ec_lat,ec_long,test_df[\"latitude\"][ind], test_df[\"longitude\"][ind])"
      ],
      "metadata": {
        "colab": {
          "base_uri": "https://localhost:8080/"
        },
        "id": "oHtYDdFTK4Vp",
        "outputId": "3c6bbb8f-dd04-41f3-edb9-08342e5e322c"
      },
      "execution_count": 363,
      "outputs": [
        {
          "output_type": "stream",
          "name": "stderr",
          "text": [
            "/usr/local/lib/python3.7/dist-packages/ipykernel_launcher.py:2: SettingWithCopyWarning: \n",
            "A value is trying to be set on a copy of a slice from a DataFrame\n",
            "\n",
            "See the caveats in the documentation: https://pandas.pydata.org/pandas-docs/stable/user_guide/indexing.html#returning-a-view-versus-a-copy\n",
            "  \n"
          ]
        }
      ]
    },
    {
      "cell_type": "markdown",
      "source": [
        "## Predicting the values using the random forest regressor we built"
      ],
      "metadata": {
        "id": "1uC6U0Yvst4B"
      }
    },
    {
      "cell_type": "code",
      "source": [
        "forest_pred_test=forest2.predict(test_df[train_cols2])"
      ],
      "metadata": {
        "id": "i79jmdiNLFNQ"
      },
      "execution_count": 364,
      "outputs": []
    },
    {
      "cell_type": "code",
      "source": [
        "ans_df = test_df.assign(rent=forest_pred_test)"
      ],
      "metadata": {
        "id": "pH80qyV2LNeN"
      },
      "execution_count": 365,
      "outputs": []
    },
    {
      "cell_type": "code",
      "source": [
        "ans_df.head()"
      ],
      "metadata": {
        "colab": {
          "base_uri": "https://localhost:8080/",
          "height": 300
        },
        "id": "IVdCgpe7LgTu",
        "outputId": "e5358341-b27d-4f6d-c91b-46a4758db701"
      },
      "execution_count": 366,
      "outputs": [
        {
          "output_type": "execute_result",
          "data": {
            "text/plain": [
              "                                 id type   latitude  longitude  gym  lift  \\\n",
              "0  ff8081815df539bc015df947ce976cca    2  12.941603  77.568156    0     1   \n",
              "1  ff80818157288e9301572c05651853a6    2  12.998803  77.561887    0     0   \n",
              "2  ff8081815f1afc58015f1b831fde166e    1  12.966467  77.661063    0     0   \n",
              "3  ff8081816035b31901603f7922c046e0    1  12.941533  77.592606    0     0   \n",
              "4  ff8081815c3582f5015c38fc31aa73a4    2  12.971083  77.751625    1     1   \n",
              "\n",
              "   swimming_pool  negotiable furnishing parking  ...  bathroom  facing  \\\n",
              "0              0           0          1       3  ...         2       7   \n",
              "1              0           1          1       1  ...         1       0   \n",
              "2              0           1          1       1  ...         1       0   \n",
              "3              0           0          0       1  ...         1       6   \n",
              "4              1           1          1       3  ...         3       6   \n",
              "\n",
              "   cup_board floor  total_floor  water_supply  building_type balconies ecity  \\\n",
              "0          2     3            3             2              1         1    14   \n",
              "1          2     0            3             1              2         0    20   \n",
              "2          1     0            1             1              2         0    13   \n",
              "3          0     2            2             2              2         0    12   \n",
              "4          3     3            4             0              1         1    17   \n",
              "\n",
              "           rent  \n",
              "0  20492.000288  \n",
              "1  11249.886520  \n",
              "2  10952.229446  \n",
              "3   9864.506626  \n",
              "4  24310.481053  \n",
              "\n",
              "[5 rows x 22 columns]"
            ],
            "text/html": [
              "\n",
              "  <div id=\"df-275374ab-9a96-4db0-9aec-8ce85e2ca563\">\n",
              "    <div class=\"colab-df-container\">\n",
              "      <div>\n",
              "<style scoped>\n",
              "    .dataframe tbody tr th:only-of-type {\n",
              "        vertical-align: middle;\n",
              "    }\n",
              "\n",
              "    .dataframe tbody tr th {\n",
              "        vertical-align: top;\n",
              "    }\n",
              "\n",
              "    .dataframe thead th {\n",
              "        text-align: right;\n",
              "    }\n",
              "</style>\n",
              "<table border=\"1\" class=\"dataframe\">\n",
              "  <thead>\n",
              "    <tr style=\"text-align: right;\">\n",
              "      <th></th>\n",
              "      <th>id</th>\n",
              "      <th>type</th>\n",
              "      <th>latitude</th>\n",
              "      <th>longitude</th>\n",
              "      <th>gym</th>\n",
              "      <th>lift</th>\n",
              "      <th>swimming_pool</th>\n",
              "      <th>negotiable</th>\n",
              "      <th>furnishing</th>\n",
              "      <th>parking</th>\n",
              "      <th>...</th>\n",
              "      <th>bathroom</th>\n",
              "      <th>facing</th>\n",
              "      <th>cup_board</th>\n",
              "      <th>floor</th>\n",
              "      <th>total_floor</th>\n",
              "      <th>water_supply</th>\n",
              "      <th>building_type</th>\n",
              "      <th>balconies</th>\n",
              "      <th>ecity</th>\n",
              "      <th>rent</th>\n",
              "    </tr>\n",
              "  </thead>\n",
              "  <tbody>\n",
              "    <tr>\n",
              "      <th>0</th>\n",
              "      <td>ff8081815df539bc015df947ce976cca</td>\n",
              "      <td>2</td>\n",
              "      <td>12.941603</td>\n",
              "      <td>77.568156</td>\n",
              "      <td>0</td>\n",
              "      <td>1</td>\n",
              "      <td>0</td>\n",
              "      <td>0</td>\n",
              "      <td>1</td>\n",
              "      <td>3</td>\n",
              "      <td>...</td>\n",
              "      <td>2</td>\n",
              "      <td>7</td>\n",
              "      <td>2</td>\n",
              "      <td>3</td>\n",
              "      <td>3</td>\n",
              "      <td>2</td>\n",
              "      <td>1</td>\n",
              "      <td>1</td>\n",
              "      <td>14</td>\n",
              "      <td>20492.000288</td>\n",
              "    </tr>\n",
              "    <tr>\n",
              "      <th>1</th>\n",
              "      <td>ff80818157288e9301572c05651853a6</td>\n",
              "      <td>2</td>\n",
              "      <td>12.998803</td>\n",
              "      <td>77.561887</td>\n",
              "      <td>0</td>\n",
              "      <td>0</td>\n",
              "      <td>0</td>\n",
              "      <td>1</td>\n",
              "      <td>1</td>\n",
              "      <td>1</td>\n",
              "      <td>...</td>\n",
              "      <td>1</td>\n",
              "      <td>0</td>\n",
              "      <td>2</td>\n",
              "      <td>0</td>\n",
              "      <td>3</td>\n",
              "      <td>1</td>\n",
              "      <td>2</td>\n",
              "      <td>0</td>\n",
              "      <td>20</td>\n",
              "      <td>11249.886520</td>\n",
              "    </tr>\n",
              "    <tr>\n",
              "      <th>2</th>\n",
              "      <td>ff8081815f1afc58015f1b831fde166e</td>\n",
              "      <td>1</td>\n",
              "      <td>12.966467</td>\n",
              "      <td>77.661063</td>\n",
              "      <td>0</td>\n",
              "      <td>0</td>\n",
              "      <td>0</td>\n",
              "      <td>1</td>\n",
              "      <td>1</td>\n",
              "      <td>1</td>\n",
              "      <td>...</td>\n",
              "      <td>1</td>\n",
              "      <td>0</td>\n",
              "      <td>1</td>\n",
              "      <td>0</td>\n",
              "      <td>1</td>\n",
              "      <td>1</td>\n",
              "      <td>2</td>\n",
              "      <td>0</td>\n",
              "      <td>13</td>\n",
              "      <td>10952.229446</td>\n",
              "    </tr>\n",
              "    <tr>\n",
              "      <th>3</th>\n",
              "      <td>ff8081816035b31901603f7922c046e0</td>\n",
              "      <td>1</td>\n",
              "      <td>12.941533</td>\n",
              "      <td>77.592606</td>\n",
              "      <td>0</td>\n",
              "      <td>0</td>\n",
              "      <td>0</td>\n",
              "      <td>0</td>\n",
              "      <td>0</td>\n",
              "      <td>1</td>\n",
              "      <td>...</td>\n",
              "      <td>1</td>\n",
              "      <td>6</td>\n",
              "      <td>0</td>\n",
              "      <td>2</td>\n",
              "      <td>2</td>\n",
              "      <td>2</td>\n",
              "      <td>2</td>\n",
              "      <td>0</td>\n",
              "      <td>12</td>\n",
              "      <td>9864.506626</td>\n",
              "    </tr>\n",
              "    <tr>\n",
              "      <th>4</th>\n",
              "      <td>ff8081815c3582f5015c38fc31aa73a4</td>\n",
              "      <td>2</td>\n",
              "      <td>12.971083</td>\n",
              "      <td>77.751625</td>\n",
              "      <td>1</td>\n",
              "      <td>1</td>\n",
              "      <td>1</td>\n",
              "      <td>1</td>\n",
              "      <td>1</td>\n",
              "      <td>3</td>\n",
              "      <td>...</td>\n",
              "      <td>3</td>\n",
              "      <td>6</td>\n",
              "      <td>3</td>\n",
              "      <td>3</td>\n",
              "      <td>4</td>\n",
              "      <td>0</td>\n",
              "      <td>1</td>\n",
              "      <td>1</td>\n",
              "      <td>17</td>\n",
              "      <td>24310.481053</td>\n",
              "    </tr>\n",
              "  </tbody>\n",
              "</table>\n",
              "<p>5 rows × 22 columns</p>\n",
              "</div>\n",
              "      <button class=\"colab-df-convert\" onclick=\"convertToInteractive('df-275374ab-9a96-4db0-9aec-8ce85e2ca563')\"\n",
              "              title=\"Convert this dataframe to an interactive table.\"\n",
              "              style=\"display:none;\">\n",
              "        \n",
              "  <svg xmlns=\"http://www.w3.org/2000/svg\" height=\"24px\"viewBox=\"0 0 24 24\"\n",
              "       width=\"24px\">\n",
              "    <path d=\"M0 0h24v24H0V0z\" fill=\"none\"/>\n",
              "    <path d=\"M18.56 5.44l.94 2.06.94-2.06 2.06-.94-2.06-.94-.94-2.06-.94 2.06-2.06.94zm-11 1L8.5 8.5l.94-2.06 2.06-.94-2.06-.94L8.5 2.5l-.94 2.06-2.06.94zm10 10l.94 2.06.94-2.06 2.06-.94-2.06-.94-.94-2.06-.94 2.06-2.06.94z\"/><path d=\"M17.41 7.96l-1.37-1.37c-.4-.4-.92-.59-1.43-.59-.52 0-1.04.2-1.43.59L10.3 9.45l-7.72 7.72c-.78.78-.78 2.05 0 2.83L4 21.41c.39.39.9.59 1.41.59.51 0 1.02-.2 1.41-.59l7.78-7.78 2.81-2.81c.8-.78.8-2.07 0-2.86zM5.41 20L4 18.59l7.72-7.72 1.47 1.35L5.41 20z\"/>\n",
              "  </svg>\n",
              "      </button>\n",
              "      \n",
              "  <style>\n",
              "    .colab-df-container {\n",
              "      display:flex;\n",
              "      flex-wrap:wrap;\n",
              "      gap: 12px;\n",
              "    }\n",
              "\n",
              "    .colab-df-convert {\n",
              "      background-color: #E8F0FE;\n",
              "      border: none;\n",
              "      border-radius: 50%;\n",
              "      cursor: pointer;\n",
              "      display: none;\n",
              "      fill: #1967D2;\n",
              "      height: 32px;\n",
              "      padding: 0 0 0 0;\n",
              "      width: 32px;\n",
              "    }\n",
              "\n",
              "    .colab-df-convert:hover {\n",
              "      background-color: #E2EBFA;\n",
              "      box-shadow: 0px 1px 2px rgba(60, 64, 67, 0.3), 0px 1px 3px 1px rgba(60, 64, 67, 0.15);\n",
              "      fill: #174EA6;\n",
              "    }\n",
              "\n",
              "    [theme=dark] .colab-df-convert {\n",
              "      background-color: #3B4455;\n",
              "      fill: #D2E3FC;\n",
              "    }\n",
              "\n",
              "    [theme=dark] .colab-df-convert:hover {\n",
              "      background-color: #434B5C;\n",
              "      box-shadow: 0px 1px 3px 1px rgba(0, 0, 0, 0.15);\n",
              "      filter: drop-shadow(0px 1px 2px rgba(0, 0, 0, 0.3));\n",
              "      fill: #FFFFFF;\n",
              "    }\n",
              "  </style>\n",
              "\n",
              "      <script>\n",
              "        const buttonEl =\n",
              "          document.querySelector('#df-275374ab-9a96-4db0-9aec-8ce85e2ca563 button.colab-df-convert');\n",
              "        buttonEl.style.display =\n",
              "          google.colab.kernel.accessAllowed ? 'block' : 'none';\n",
              "\n",
              "        async function convertToInteractive(key) {\n",
              "          const element = document.querySelector('#df-275374ab-9a96-4db0-9aec-8ce85e2ca563');\n",
              "          const dataTable =\n",
              "            await google.colab.kernel.invokeFunction('convertToInteractive',\n",
              "                                                     [key], {});\n",
              "          if (!dataTable) return;\n",
              "\n",
              "          const docLinkHtml = 'Like what you see? Visit the ' +\n",
              "            '<a target=\"_blank\" href=https://colab.research.google.com/notebooks/data_table.ipynb>data table notebook</a>'\n",
              "            + ' to learn more about interactive tables.';\n",
              "          element.innerHTML = '';\n",
              "          dataTable['output_type'] = 'display_data';\n",
              "          await google.colab.output.renderOutput(dataTable, element);\n",
              "          const docLink = document.createElement('div');\n",
              "          docLink.innerHTML = docLinkHtml;\n",
              "          element.appendChild(docLink);\n",
              "        }\n",
              "      </script>\n",
              "    </div>\n",
              "  </div>\n",
              "  "
            ]
          },
          "metadata": {},
          "execution_count": 366
        }
      ]
    },
    {
      "cell_type": "markdown",
      "source": [
        "# Final Submission"
      ],
      "metadata": {
        "id": "7ByV0YZ-PUd2"
      }
    },
    {
      "cell_type": "markdown",
      "source": [
        "### The final CSV will have just the ID of the house and the rent prediction"
      ],
      "metadata": {
        "id": "9s-2Uof9s0ZB"
      }
    },
    {
      "cell_type": "code",
      "source": [
        "ans=ans_df[['id','rent']]"
      ],
      "metadata": {
        "id": "CjGupRyWMw0o"
      },
      "execution_count": 367,
      "outputs": []
    },
    {
      "cell_type": "code",
      "source": [
        "ans.head()"
      ],
      "metadata": {
        "colab": {
          "base_uri": "https://localhost:8080/",
          "height": 206
        },
        "id": "HEjg4JbRNBzc",
        "outputId": "126b590e-1e7d-4aed-e580-e998d31cfb80"
      },
      "execution_count": 368,
      "outputs": [
        {
          "output_type": "execute_result",
          "data": {
            "text/plain": [
              "                                 id          rent\n",
              "0  ff8081815df539bc015df947ce976cca  20492.000288\n",
              "1  ff80818157288e9301572c05651853a6  11249.886520\n",
              "2  ff8081815f1afc58015f1b831fde166e  10952.229446\n",
              "3  ff8081816035b31901603f7922c046e0   9864.506626\n",
              "4  ff8081815c3582f5015c38fc31aa73a4  24310.481053"
            ],
            "text/html": [
              "\n",
              "  <div id=\"df-522fa8f0-2b34-46da-899d-ae27fe5c6708\">\n",
              "    <div class=\"colab-df-container\">\n",
              "      <div>\n",
              "<style scoped>\n",
              "    .dataframe tbody tr th:only-of-type {\n",
              "        vertical-align: middle;\n",
              "    }\n",
              "\n",
              "    .dataframe tbody tr th {\n",
              "        vertical-align: top;\n",
              "    }\n",
              "\n",
              "    .dataframe thead th {\n",
              "        text-align: right;\n",
              "    }\n",
              "</style>\n",
              "<table border=\"1\" class=\"dataframe\">\n",
              "  <thead>\n",
              "    <tr style=\"text-align: right;\">\n",
              "      <th></th>\n",
              "      <th>id</th>\n",
              "      <th>rent</th>\n",
              "    </tr>\n",
              "  </thead>\n",
              "  <tbody>\n",
              "    <tr>\n",
              "      <th>0</th>\n",
              "      <td>ff8081815df539bc015df947ce976cca</td>\n",
              "      <td>20492.000288</td>\n",
              "    </tr>\n",
              "    <tr>\n",
              "      <th>1</th>\n",
              "      <td>ff80818157288e9301572c05651853a6</td>\n",
              "      <td>11249.886520</td>\n",
              "    </tr>\n",
              "    <tr>\n",
              "      <th>2</th>\n",
              "      <td>ff8081815f1afc58015f1b831fde166e</td>\n",
              "      <td>10952.229446</td>\n",
              "    </tr>\n",
              "    <tr>\n",
              "      <th>3</th>\n",
              "      <td>ff8081816035b31901603f7922c046e0</td>\n",
              "      <td>9864.506626</td>\n",
              "    </tr>\n",
              "    <tr>\n",
              "      <th>4</th>\n",
              "      <td>ff8081815c3582f5015c38fc31aa73a4</td>\n",
              "      <td>24310.481053</td>\n",
              "    </tr>\n",
              "  </tbody>\n",
              "</table>\n",
              "</div>\n",
              "      <button class=\"colab-df-convert\" onclick=\"convertToInteractive('df-522fa8f0-2b34-46da-899d-ae27fe5c6708')\"\n",
              "              title=\"Convert this dataframe to an interactive table.\"\n",
              "              style=\"display:none;\">\n",
              "        \n",
              "  <svg xmlns=\"http://www.w3.org/2000/svg\" height=\"24px\"viewBox=\"0 0 24 24\"\n",
              "       width=\"24px\">\n",
              "    <path d=\"M0 0h24v24H0V0z\" fill=\"none\"/>\n",
              "    <path d=\"M18.56 5.44l.94 2.06.94-2.06 2.06-.94-2.06-.94-.94-2.06-.94 2.06-2.06.94zm-11 1L8.5 8.5l.94-2.06 2.06-.94-2.06-.94L8.5 2.5l-.94 2.06-2.06.94zm10 10l.94 2.06.94-2.06 2.06-.94-2.06-.94-.94-2.06-.94 2.06-2.06.94z\"/><path d=\"M17.41 7.96l-1.37-1.37c-.4-.4-.92-.59-1.43-.59-.52 0-1.04.2-1.43.59L10.3 9.45l-7.72 7.72c-.78.78-.78 2.05 0 2.83L4 21.41c.39.39.9.59 1.41.59.51 0 1.02-.2 1.41-.59l7.78-7.78 2.81-2.81c.8-.78.8-2.07 0-2.86zM5.41 20L4 18.59l7.72-7.72 1.47 1.35L5.41 20z\"/>\n",
              "  </svg>\n",
              "      </button>\n",
              "      \n",
              "  <style>\n",
              "    .colab-df-container {\n",
              "      display:flex;\n",
              "      flex-wrap:wrap;\n",
              "      gap: 12px;\n",
              "    }\n",
              "\n",
              "    .colab-df-convert {\n",
              "      background-color: #E8F0FE;\n",
              "      border: none;\n",
              "      border-radius: 50%;\n",
              "      cursor: pointer;\n",
              "      display: none;\n",
              "      fill: #1967D2;\n",
              "      height: 32px;\n",
              "      padding: 0 0 0 0;\n",
              "      width: 32px;\n",
              "    }\n",
              "\n",
              "    .colab-df-convert:hover {\n",
              "      background-color: #E2EBFA;\n",
              "      box-shadow: 0px 1px 2px rgba(60, 64, 67, 0.3), 0px 1px 3px 1px rgba(60, 64, 67, 0.15);\n",
              "      fill: #174EA6;\n",
              "    }\n",
              "\n",
              "    [theme=dark] .colab-df-convert {\n",
              "      background-color: #3B4455;\n",
              "      fill: #D2E3FC;\n",
              "    }\n",
              "\n",
              "    [theme=dark] .colab-df-convert:hover {\n",
              "      background-color: #434B5C;\n",
              "      box-shadow: 0px 1px 3px 1px rgba(0, 0, 0, 0.15);\n",
              "      filter: drop-shadow(0px 1px 2px rgba(0, 0, 0, 0.3));\n",
              "      fill: #FFFFFF;\n",
              "    }\n",
              "  </style>\n",
              "\n",
              "      <script>\n",
              "        const buttonEl =\n",
              "          document.querySelector('#df-522fa8f0-2b34-46da-899d-ae27fe5c6708 button.colab-df-convert');\n",
              "        buttonEl.style.display =\n",
              "          google.colab.kernel.accessAllowed ? 'block' : 'none';\n",
              "\n",
              "        async function convertToInteractive(key) {\n",
              "          const element = document.querySelector('#df-522fa8f0-2b34-46da-899d-ae27fe5c6708');\n",
              "          const dataTable =\n",
              "            await google.colab.kernel.invokeFunction('convertToInteractive',\n",
              "                                                     [key], {});\n",
              "          if (!dataTable) return;\n",
              "\n",
              "          const docLinkHtml = 'Like what you see? Visit the ' +\n",
              "            '<a target=\"_blank\" href=https://colab.research.google.com/notebooks/data_table.ipynb>data table notebook</a>'\n",
              "            + ' to learn more about interactive tables.';\n",
              "          element.innerHTML = '';\n",
              "          dataTable['output_type'] = 'display_data';\n",
              "          await google.colab.output.renderOutput(dataTable, element);\n",
              "          const docLink = document.createElement('div');\n",
              "          docLink.innerHTML = docLinkHtml;\n",
              "          element.appendChild(docLink);\n",
              "        }\n",
              "      </script>\n",
              "    </div>\n",
              "  </div>\n",
              "  "
            ]
          },
          "metadata": {},
          "execution_count": 368
        }
      ]
    },
    {
      "cell_type": "code",
      "source": [
        "ans.info()"
      ],
      "metadata": {
        "colab": {
          "base_uri": "https://localhost:8080/"
        },
        "id": "jl78lcqBNEXK",
        "outputId": "6d587f5b-be5a-4480-cff9-060008380119"
      },
      "execution_count": 369,
      "outputs": [
        {
          "output_type": "stream",
          "name": "stdout",
          "text": [
            "<class 'pandas.core.frame.DataFrame'>\n",
            "RangeIndex: 4500 entries, 0 to 4499\n",
            "Data columns (total 2 columns):\n",
            " #   Column  Non-Null Count  Dtype  \n",
            "---  ------  --------------  -----  \n",
            " 0   id      4500 non-null   object \n",
            " 1   rent    4500 non-null   float64\n",
            "dtypes: float64(1), object(1)\n",
            "memory usage: 70.4+ KB\n"
          ]
        }
      ]
    },
    {
      "cell_type": "code",
      "source": [
        "from google.colab import files\n",
        "ans.to_csv('final_ans.csv')\n",
        "files.download('final_ans.csv')"
      ],
      "metadata": {
        "colab": {
          "base_uri": "https://localhost:8080/",
          "height": 17
        },
        "id": "x03mSxyTLj_o",
        "outputId": "0cda87b0-fe8a-4cb0-c147-0949d188c890"
      },
      "execution_count": 371,
      "outputs": [
        {
          "output_type": "display_data",
          "data": {
            "text/plain": [
              "<IPython.core.display.Javascript object>"
            ],
            "application/javascript": [
              "\n",
              "    async function download(id, filename, size) {\n",
              "      if (!google.colab.kernel.accessAllowed) {\n",
              "        return;\n",
              "      }\n",
              "      const div = document.createElement('div');\n",
              "      const label = document.createElement('label');\n",
              "      label.textContent = `Downloading \"${filename}\": `;\n",
              "      div.appendChild(label);\n",
              "      const progress = document.createElement('progress');\n",
              "      progress.max = size;\n",
              "      div.appendChild(progress);\n",
              "      document.body.appendChild(div);\n",
              "\n",
              "      const buffers = [];\n",
              "      let downloaded = 0;\n",
              "\n",
              "      const channel = await google.colab.kernel.comms.open(id);\n",
              "      // Send a message to notify the kernel that we're ready.\n",
              "      channel.send({})\n",
              "\n",
              "      for await (const message of channel.messages) {\n",
              "        // Send a message to notify the kernel that we're ready.\n",
              "        channel.send({})\n",
              "        if (message.buffers) {\n",
              "          for (const buffer of message.buffers) {\n",
              "            buffers.push(buffer);\n",
              "            downloaded += buffer.byteLength;\n",
              "            progress.value = downloaded;\n",
              "          }\n",
              "        }\n",
              "      }\n",
              "      const blob = new Blob(buffers, {type: 'application/binary'});\n",
              "      const a = document.createElement('a');\n",
              "      a.href = window.URL.createObjectURL(blob);\n",
              "      a.download = filename;\n",
              "      div.appendChild(a);\n",
              "      a.click();\n",
              "      div.remove();\n",
              "    }\n",
              "  "
            ]
          },
          "metadata": {}
        },
        {
          "output_type": "display_data",
          "data": {
            "text/plain": [
              "<IPython.core.display.Javascript object>"
            ],
            "application/javascript": [
              "download(\"download_3855b9d3-38b2-4384-ac30-e5a6b30249a2\", \"final_ans.csv\", 253692)"
            ]
          },
          "metadata": {}
        }
      ]
    }
  ]
}