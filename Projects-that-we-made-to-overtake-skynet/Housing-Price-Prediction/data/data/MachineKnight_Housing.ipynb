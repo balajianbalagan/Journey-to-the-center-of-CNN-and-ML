{
  "nbformat": 4,
  "nbformat_minor": 0,
  "metadata": {
    "colab": {
      "provenance": [],
      "collapsed_sections": []
    },
    "kernelspec": {
      "name": "python3",
      "display_name": "Python 3"
    },
    "language_info": {
      "name": "python"
    },
    "gpuClass": "standard"
  },
  "cells": [
    {
      "cell_type": "code",
      "source": [
        "!pip install opendatasets"
      ],
      "metadata": {
        "colab": {
          "base_uri": "https://localhost:8080/"
        },
        "id": "ruxoz94Mi-iH",
        "outputId": "eb75edbc-8737-450e-e33e-c156de4a61ff"
      },
      "execution_count": 48,
      "outputs": [
        {
          "output_type": "stream",
          "name": "stdout",
          "text": [
            "Looking in indexes: https://pypi.org/simple, https://us-python.pkg.dev/colab-wheels/public/simple/\n",
            "Requirement already satisfied: opendatasets in /usr/local/lib/python3.7/dist-packages (0.1.22)\n",
            "Requirement already satisfied: tqdm in /usr/local/lib/python3.7/dist-packages (from opendatasets) (4.64.0)\n",
            "Requirement already satisfied: click in /usr/local/lib/python3.7/dist-packages (from opendatasets) (7.1.2)\n",
            "Requirement already satisfied: kaggle in /usr/local/lib/python3.7/dist-packages (from opendatasets) (1.5.12)\n",
            "Requirement already satisfied: python-dateutil in /usr/local/lib/python3.7/dist-packages (from kaggle->opendatasets) (2.8.2)\n",
            "Requirement already satisfied: certifi in /usr/local/lib/python3.7/dist-packages (from kaggle->opendatasets) (2022.6.15)\n",
            "Requirement already satisfied: six>=1.10 in /usr/local/lib/python3.7/dist-packages (from kaggle->opendatasets) (1.15.0)\n",
            "Requirement already satisfied: urllib3 in /usr/local/lib/python3.7/dist-packages (from kaggle->opendatasets) (1.24.3)\n",
            "Requirement already satisfied: requests in /usr/local/lib/python3.7/dist-packages (from kaggle->opendatasets) (2.23.0)\n",
            "Requirement already satisfied: python-slugify in /usr/local/lib/python3.7/dist-packages (from kaggle->opendatasets) (6.1.2)\n",
            "Requirement already satisfied: text-unidecode>=1.3 in /usr/local/lib/python3.7/dist-packages (from python-slugify->kaggle->opendatasets) (1.3)\n",
            "Requirement already satisfied: chardet<4,>=3.0.2 in /usr/local/lib/python3.7/dist-packages (from requests->kaggle->opendatasets) (3.0.4)\n",
            "Requirement already satisfied: idna<3,>=2.5 in /usr/local/lib/python3.7/dist-packages (from requests->kaggle->opendatasets) (2.10)\n"
          ]
        }
      ]
    },
    {
      "cell_type": "code",
      "execution_count": 49,
      "metadata": {
        "id": "-_eZ6PXXirKc"
      },
      "outputs": [],
      "source": [
        "import opendatasets as od"
      ]
    },
    {
      "cell_type": "code",
      "source": [
        "train_dir='/content/train.csv'"
      ],
      "metadata": {
        "id": "QvHmYohQjQIE"
      },
      "execution_count": 50,
      "outputs": []
    },
    {
      "cell_type": "code",
      "source": [
        "!ls -lh {train_dir}"
      ],
      "metadata": {
        "colab": {
          "base_uri": "https://localhost:8080/"
        },
        "id": "P9bX1drFk6GN",
        "outputId": "21a950ba-60e6-4033-b0d8-66eda6083c58"
      },
      "execution_count": 51,
      "outputs": [
        {
          "output_type": "stream",
          "name": "stdout",
          "text": [
            "-rw-r--r-- 1 root root 8.8M Sep  4 02:00 /content/train.csv\n"
          ]
        }
      ]
    },
    {
      "cell_type": "code",
      "source": [
        "!wc -l {train_dir}"
      ],
      "metadata": {
        "colab": {
          "base_uri": "https://localhost:8080/"
        },
        "id": "wbiiWz6Jk_Nv",
        "outputId": "e2ade8f0-e45a-4c38-da2f-a27f846d54ea"
      },
      "execution_count": 52,
      "outputs": [
        {
          "output_type": "stream",
          "name": "stdout",
          "text": [
            "20501 /content/train.csv\n"
          ]
        }
      ]
    },
    {
      "cell_type": "code",
      "source": [
        "!head {train_dir}"
      ],
      "metadata": {
        "colab": {
          "base_uri": "https://localhost:8080/"
        },
        "id": "YWY_U5xWlL-s",
        "outputId": "81d2f5e9-4e20-40ef-ac6d-7cc4786f34fe"
      },
      "execution_count": 53,
      "outputs": [
        {
          "output_type": "stream",
          "name": "stdout",
          "text": [
            "id,type,locality,activation_date,latitude,longitude,lease_type,gym,lift,swimming_pool,negotiable,furnishing,parking,property_size,property_age,bathroom,facing,cup_board,floor,total_floor,amenities,water_supply,building_type,balconies,rent\r\n",
            "ff8081815733a243015733b2876600a6,BHK2,\"Cauvery Colony,Koramangala\",21-04-2018 14:44,12.9344709,77.634471,FAMILY,1,1,1,0,SEMI_FURNISHED,BOTH,1250,25,2,E,2,6,12,\"{\"\"LIFT\"\":true,\"\"GYM\"\":true,\"\"INTERNET\"\":true,\"\"AC\"\":false,\"\"CLUB\"\":true,\"\"INTERCOM\"\":true,\"\"POOL\"\":true,\"\"CPA\"\":true,\"\"FS\"\":true,\"\"SERVANT\"\":false,\"\"SECURITY\"\":true,\"\"SC\"\":true,\"\"GP\"\":true,\"\"PARK\"\":false,\"\"RWH\"\":true,\"\"STP\"\":true,\"\"HK\"\":false,\"\"PB\"\":true,\"\"VP\"\":true}\",CORP_BORE,AP,2,40000\r\n",
            "ff8081815ee25e15015ee50004da2acd,BHK2,Bellandur,09-10-2017 12:48,12.92955671,77.6722797,ANYONE,0,1,0,1,SEMI_FURNISHED,BOTH,1400,4,2,NE,2,3,4,\"{\"\"LIFT\"\":true,\"\"GYM\"\":false,\"\"INTERNET\"\":false,\"\"AC\"\":false,\"\"CLUB\"\":false,\"\"INTERCOM\"\":false,\"\"POOL\"\":false,\"\"CPA\"\":false,\"\"FS\"\":false,\"\"SERVANT\"\":false,\"\"SECURITY\"\":true,\"\"SC\"\":true,\"\"GP\"\":false,\"\"PARK\"\":true,\"\"RWH\"\":true,\"\"STP\"\":true,\"\"HK\"\":false,\"\"PB\"\":true,\"\"VP\"\":true}\",CORPORATION,AP,2,22000\r\n",
            "ff80818163f29c9e0163f46770b873e7,BHK3,Thiruvanmiyur,12-06-2018 22:02,12.98287026,80.26201214,FAMILY,0,1,0,0,SEMI_FURNISHED,BOTH,1350,6,3,E,3,1,5,\"{\"\"LIFT\"\":true,\"\"GYM\"\":false,\"\"INTERNET\"\":false,\"\"AC\"\":false,\"\"CLUB\"\":false,\"\"INTERCOM\"\":false,\"\"POOL\"\":false,\"\"CPA\"\":true,\"\"FS\"\":false,\"\"SERVANT\"\":false,\"\"SECURITY\"\":false,\"\"SC\"\":true,\"\"GP\"\":false,\"\"PARK\"\":true,\"\"RWH\"\":false,\"\"STP\"\":false,\"\"HK\"\":false,\"\"PB\"\":true,\"\"VP\"\":true}\",CORP_BORE,AP,3,28000\r\n",
            "ff80818164b68a700164b74b1b247a1d,BHK1,Attiguppe,20-07-2018 16:22,12.95599061,77.53163369,FAMILY,0,0,0,1,SEMI_FURNISHED,TWO_WHEELER,600,3,1,E,1,1,2,\"{\"\"LIFT\"\":false,\"\"GYM\"\":false,\"\"INTERNET\"\":false,\"\"AC\"\":false,\"\"CLUB\"\":false,\"\"INTERCOM\"\":false,\"\"POOL\"\":false,\"\"CPA\"\":false,\"\"FS\"\":false,\"\"SERVANT\"\":false,\"\"SECURITY\"\":false,\"\"SC\"\":false,\"\"GP\"\":false,\"\"PARK\"\":false,\"\"RWH\"\":false,\"\"STP\"\":false,\"\"HK\"\":false,\"\"PB\"\":false,\"\"VP\"\":false}\",CORPORATION,IH,0,8000\r\n",
            "ff80818163b1faf00163b4b9b8a163b1,BHK3,Kodihalli,31-05-2018 17:41,12.96390329,77.64944586,FAMILY,0,0,0,1,SEMI_FURNISHED,BOTH,1500,15,3,E,4,0,0,\"{\"\"LIFT\"\":false,\"\"GYM\"\":false,\"\"INTERNET\"\":false,\"\"AC\"\":false,\"\"CLUB\"\":false,\"\"INTERCOM\"\":false,\"\"POOL\"\":false,\"\"CPA\"\":true,\"\"FS\"\":false,\"\"SERVANT\"\":false,\"\"SECURITY\"\":false,\"\"SC\"\":false,\"\"GP\"\":false,\"\"PARK\"\":true,\"\"RWH\"\":false,\"\"STP\"\":false,\"\"HK\"\":false,\"\"PB\"\":false,\"\"VP\"\":true}\",CORPORATION,IH,1,45000\r\n",
            "ff8081815f48e4aa015f4dd1a9c6696b,BHK1,\"Seetharampalya,Hoodi\",24-10-2017 18:29,12.9861959,77.7183141,FAMILY,1,1,1,1,SEMI_FURNISHED,BOTH,1080,0,2,E,1,3,5,\"{\"\"LIFT\"\":true,\"\"GYM\"\":true,\"\"INTERNET\"\":false,\"\"AC\"\":false,\"\"CLUB\"\":true,\"\"INTERCOM\"\":false,\"\"POOL\"\":true,\"\"CPA\"\":true,\"\"FS\"\":true,\"\"SERVANT\"\":false,\"\"SECURITY\"\":true,\"\"SC\"\":false,\"\"GP\"\":false,\"\"PARK\"\":false,\"\"RWH\"\":false,\"\"STP\"\":false,\"\"HK\"\":false,\"\"PB\"\":true,\"\"VP\"\":false}\",CORP_BORE,AP,2,18000\r\n",
            "ff808181647d728001647e3cd0ed458d,BHK3,\"Narayanappa Garden,Whitefield\",12-07-2018 20:29,12.9671442,77.7506621,ANYONE,1,1,1,1,FULLY_FURNISHED,BOTH,1895,5,3,NE,5,3,9,\"{\"\"LIFT\"\":true,\"\"GYM\"\":true,\"\"INTERNET\"\":true,\"\"AC\"\":true,\"\"CLUB\"\":true,\"\"INTERCOM\"\":true,\"\"POOL\"\":true,\"\"CPA\"\":true,\"\"FS\"\":true,\"\"SERVANT\"\":true,\"\"SECURITY\"\":true,\"\"SC\"\":true,\"\"GP\"\":false,\"\"PARK\"\":true,\"\"RWH\"\":true,\"\"STP\"\":true,\"\"HK\"\":true,\"\"PB\"\":true,\"\"VP\"\":true}\",CORPORATION,AP,3,32000\r\n",
            "ff80818164e9cd1b0164ea07d09114b7,BHK2,HSR Layout 5th Sector,30-07-2018 16:01,12.91741383,77.63176379,ANYONE,0,0,0,1,SEMI_FURNISHED,BOTH,1000,10,2,S,2,0,2,\"{\"\"LIFT\"\":false,\"\"GYM\"\":false,\"\"INTERNET\"\":false,\"\"AC\"\":false,\"\"CLUB\"\":false,\"\"INTERCOM\"\":false,\"\"POOL\"\":false,\"\"CPA\"\":false,\"\"FS\"\":false,\"\"SERVANT\"\":false,\"\"SECURITY\"\":false,\"\"SC\"\":true,\"\"GP\"\":false,\"\"PARK\"\":false,\"\"RWH\"\":false,\"\"STP\"\":false,\"\"HK\"\":false,\"\"PB\"\":true,\"\"VP\"\":true}\",CORP_BORE,IH,0,22000\r\n",
            "ff808181624e0deb01624e6b3426131c,BHK2,Banashankari,26-03-2018 14:11,12.92330118,77.55632407,ANYONE,0,0,0,0,SEMI_FURNISHED,NONE,900,10,2,S,2,0,1,\"{\"\"LIFT\"\":false,\"\"GYM\"\":false,\"\"INTERNET\"\":true,\"\"AC\"\":false,\"\"CLUB\"\":false,\"\"INTERCOM\"\":false,\"\"POOL\"\":false,\"\"CPA\"\":false,\"\"FS\"\":false,\"\"SERVANT\"\":false,\"\"SECURITY\"\":true,\"\"SC\"\":true,\"\"GP\"\":false,\"\"PARK\"\":true,\"\"RWH\"\":false,\"\"STP\"\":false,\"\"HK\"\":false,\"\"PB\"\":false,\"\"VP\"\":false}\",CORPORATION,IH,0,10000\r\n"
          ]
        }
      ]
    },
    {
      "cell_type": "code",
      "source": [
        "s='id,type,locality,activation_date,latitude,longitude,lease_type,gym,lift,swimming_pool,negotiable,furnishing,parking,property_size,property_age,bathroom,facing,cup_board,floor,total_floor,amenities,water_supply,building_type,balconies,rent'\n",
        "cols=[]\n",
        "cols=s.split(',')\n",
        "cols"
      ],
      "metadata": {
        "colab": {
          "base_uri": "https://localhost:8080/"
        },
        "id": "5g-e444JlQjN",
        "outputId": "969b0be3-42ba-4e92-a426-4f4716ce3e9a"
      },
      "execution_count": 54,
      "outputs": [
        {
          "output_type": "execute_result",
          "data": {
            "text/plain": [
              "['id',\n",
              " 'type',\n",
              " 'locality',\n",
              " 'activation_date',\n",
              " 'latitude',\n",
              " 'longitude',\n",
              " 'lease_type',\n",
              " 'gym',\n",
              " 'lift',\n",
              " 'swimming_pool',\n",
              " 'negotiable',\n",
              " 'furnishing',\n",
              " 'parking',\n",
              " 'property_size',\n",
              " 'property_age',\n",
              " 'bathroom',\n",
              " 'facing',\n",
              " 'cup_board',\n",
              " 'floor',\n",
              " 'total_floor',\n",
              " 'amenities',\n",
              " 'water_supply',\n",
              " 'building_type',\n",
              " 'balconies',\n",
              " 'rent']"
            ]
          },
          "metadata": {},
          "execution_count": 54
        }
      ]
    },
    {
      "cell_type": "code",
      "source": [
        "len(cols)"
      ],
      "metadata": {
        "colab": {
          "base_uri": "https://localhost:8080/"
        },
        "id": "oMQTqd_tlbXo",
        "outputId": "975c9f0e-bc69-475c-84b3-f914227831ae"
      },
      "execution_count": 55,
      "outputs": [
        {
          "output_type": "execute_result",
          "data": {
            "text/plain": [
              "25"
            ]
          },
          "metadata": {},
          "execution_count": 55
        }
      ]
    },
    {
      "cell_type": "code",
      "source": [],
      "metadata": {
        "id": "2N46x53fmEdw"
      },
      "execution_count": 55,
      "outputs": []
    },
    {
      "cell_type": "code",
      "source": [
        "import pandas as pd"
      ],
      "metadata": {
        "id": "LT4xQ7otlETf"
      },
      "execution_count": 56,
      "outputs": []
    },
    {
      "cell_type": "code",
      "source": [
        "df=pd.read_csv(train_dir, usecols=cols)"
      ],
      "metadata": {
        "id": "eKqbBCJkmSI0"
      },
      "execution_count": 57,
      "outputs": []
    },
    {
      "cell_type": "code",
      "source": [
        "df.head(20)"
      ],
      "metadata": {
        "colab": {
          "base_uri": "https://localhost:8080/",
          "height": 891
        },
        "id": "OdMX5DIDmnau",
        "outputId": "a05074b2-a0e7-472f-ce35-63c06b2c4e81"
      },
      "execution_count": 58,
      "outputs": [
        {
          "output_type": "execute_result",
          "data": {
            "text/plain": [
              "                                  id  type  \\\n",
              "0   ff8081815733a243015733b2876600a6  BHK2   \n",
              "1   ff8081815ee25e15015ee50004da2acd  BHK2   \n",
              "2   ff80818163f29c9e0163f46770b873e7  BHK3   \n",
              "3   ff80818164b68a700164b74b1b247a1d  BHK1   \n",
              "4   ff80818163b1faf00163b4b9b8a163b1  BHK3   \n",
              "5   ff8081815f48e4aa015f4dd1a9c6696b  BHK1   \n",
              "6   ff808181647d728001647e3cd0ed458d  BHK3   \n",
              "7   ff80818164e9cd1b0164ea07d09114b7  BHK2   \n",
              "8   ff808181624e0deb01624e6b3426131c  BHK2   \n",
              "9   ff808181620eb61601620f1b79a42734  BHK2   \n",
              "10  ff8081815c116660015c119a34fd0829  BHK2   \n",
              "11  ff8081815f887e60015f8b497ac62da0  BHK2   \n",
              "12  ff8081815b3ce753015b3deabfae2e70  BHK2   \n",
              "13  ff8081815efff8db015f0097a4a946bf  BHK2   \n",
              "14  ff808181645efb5c01645f8463e227fd  BHK1   \n",
              "15  ff808181620eb34b0162133b0dbe5f16  BHK2   \n",
              "16  ff8081816483b0ba01648479cec8103a  BHK3   \n",
              "17  ff8081815d851c3f015d8d3a9b3e5361  BHK3   \n",
              "18  ff8081816058ce47016058d4e68f0308  BHK2   \n",
              "19  ff80818163dffb5f0163e00d3cdd0429  BHK2   \n",
              "\n",
              "                                             locality   activation_date  \\\n",
              "0                          Cauvery Colony,Koramangala  21-04-2018 14:44   \n",
              "1                                           Bellandur  09-10-2017 12:48   \n",
              "2                                       Thiruvanmiyur  12-06-2018 22:02   \n",
              "3                                           Attiguppe  20-07-2018 16:22   \n",
              "4                                           Kodihalli  31-05-2018 17:41   \n",
              "5                                Seetharampalya,Hoodi  24-10-2017 18:29   \n",
              "6                       Narayanappa Garden,Whitefield  12-07-2018 20:29   \n",
              "7                               HSR Layout 5th Sector  30-07-2018 16:01   \n",
              "8                                        Banashankari  26-03-2018 14:11   \n",
              "9                                          Whitefield  10-03-2018 17:17   \n",
              "10                                           RR Nagar  11-07-2017 14:58   \n",
              "11                             ITPL Residential Flats  05-11-2017 16:14   \n",
              "12                              Raja Rajeshwari Nagar  27-08-2017 16:55   \n",
              "13  Prestige Shanthinikethan, Bengaluru, Karnataka...  09-10-2017 16:59   \n",
              "14                                      Murugeshpalya  05-07-2018 15:18   \n",
              "15                                     Sheshadripuram  11-03-2018 15:39   \n",
              "16                                           Cox Town  15-07-2018 17:08   \n",
              "17                                      BTM 2nd Stage  14-08-2017 12:02   \n",
              "18                                     Chikkakannalli  15-12-2017 14:53   \n",
              "19                                              agara  08-06-2018 21:28   \n",
              "\n",
              "     latitude  longitude lease_type  gym  lift  swimming_pool  ...  bathroom  \\\n",
              "0   12.934471  77.634471     FAMILY    1     1              1  ...         2   \n",
              "1   12.929557  77.672280     ANYONE    0     1              0  ...         2   \n",
              "2   12.982870  80.262012     FAMILY    0     1              0  ...         3   \n",
              "3   12.955991  77.531634     FAMILY    0     0              0  ...         1   \n",
              "4   12.963903  77.649446     FAMILY    0     0              0  ...         3   \n",
              "5   12.986196  77.718314     FAMILY    1     1              1  ...         2   \n",
              "6   12.967144  77.750662     ANYONE    1     1              1  ...         3   \n",
              "7   12.917414  77.631764     ANYONE    0     0              0  ...         2   \n",
              "8   12.923301  77.556324     ANYONE    0     0              0  ...         2   \n",
              "9   12.972697  77.751880     ANYONE    1     1              0  ...         2   \n",
              "10  12.912039  77.510950     FAMILY    0     0              0  ...         2   \n",
              "11  12.986175  77.735956     ANYONE    1     1              0  ...         2   \n",
              "12  12.925034  77.517115     ANYONE    0     1              0  ...         2   \n",
              "13  12.989002  77.727370     FAMILY    1     1              1  ...         2   \n",
              "14  12.954775  77.650037   BACHELOR    0     0              0  ...         1   \n",
              "15  12.986517  77.574781     FAMILY    0     0              0  ...         1   \n",
              "16  12.998526  77.631007     FAMILY    0     0              0  ...         2   \n",
              "17  12.908240  77.607409     ANYONE    0     0              0  ...         2   \n",
              "18  12.900570  77.707885     FAMILY    0     0              0  ...         2   \n",
              "19  12.924363  77.653267     ANYONE    0     1              0  ...         2   \n",
              "\n",
              "   facing cup_board  floor  total_floor  \\\n",
              "0       E         2      6           12   \n",
              "1      NE         2      3            4   \n",
              "2       E         3      1            5   \n",
              "3       E         1      1            2   \n",
              "4       E         4      0            0   \n",
              "5       E         1      3            5   \n",
              "6      NE         5      3            9   \n",
              "7       S         2      0            2   \n",
              "8       S         2      0            1   \n",
              "9       E         4      2            4   \n",
              "10      E         4      1            2   \n",
              "11      N         2      1            4   \n",
              "12      E         2      1            4   \n",
              "13      E         2     11           14   \n",
              "14      E         1      2            2   \n",
              "15      E         0      1            3   \n",
              "16      E         2      1            3   \n",
              "17      E         0      1            2   \n",
              "18     SE         2      4           15   \n",
              "19      E         2      0            4   \n",
              "\n",
              "                                            amenities water_supply  \\\n",
              "0   {\"LIFT\":true,\"GYM\":true,\"INTERNET\":true,\"AC\":f...    CORP_BORE   \n",
              "1   {\"LIFT\":true,\"GYM\":false,\"INTERNET\":false,\"AC\"...  CORPORATION   \n",
              "2   {\"LIFT\":true,\"GYM\":false,\"INTERNET\":false,\"AC\"...    CORP_BORE   \n",
              "3   {\"LIFT\":false,\"GYM\":false,\"INTERNET\":false,\"AC...  CORPORATION   \n",
              "4   {\"LIFT\":false,\"GYM\":false,\"INTERNET\":false,\"AC...  CORPORATION   \n",
              "5   {\"LIFT\":true,\"GYM\":true,\"INTERNET\":false,\"AC\":...    CORP_BORE   \n",
              "6   {\"LIFT\":true,\"GYM\":true,\"INTERNET\":true,\"AC\":t...  CORPORATION   \n",
              "7   {\"LIFT\":false,\"GYM\":false,\"INTERNET\":false,\"AC...    CORP_BORE   \n",
              "8   {\"LIFT\":false,\"GYM\":false,\"INTERNET\":true,\"AC\"...  CORPORATION   \n",
              "9   {\"LIFT\":true,\"GYM\":true,\"INTERNET\":true,\"AC\":f...    CORP_BORE   \n",
              "10  {\"AC\":false,\"CLUB\":false,\"CPA\":false,\"FS\":fals...  CORPORATION   \n",
              "11  {\"LIFT\":true,\"GYM\":true,\"INTERNET\":true,\"AC\":f...  CORPORATION   \n",
              "12  {\"LIFT\":true,\"GYM\":false,\"INTERNET\":true,\"AC\":...  CORPORATION   \n",
              "13  {\"LIFT\":true,\"GYM\":true,\"INTERNET\":true,\"AC\":f...    CORP_BORE   \n",
              "14  {\"LIFT\":false,\"GYM\":false,\"INTERNET\":true,\"AC\"...  CORPORATION   \n",
              "15  {\"LIFT\":false,\"GYM\":false,\"INTERNET\":true,\"AC\"...    CORP_BORE   \n",
              "16  {\"LIFT\":false,\"GYM\":false,\"INTERNET\":false,\"AC...  CORPORATION   \n",
              "17  {\"AC\":false,\"CLUB\":false,\"CPA\":false,\"FS\":fals...  CORPORATION   \n",
              "18  {\"LIFT\":true,\"GYM\":true,\"INTERNET\":true,\"AC\":f...  CORPORATION   \n",
              "19  {\"LIFT\":true,\"GYM\":false,\"INTERNET\":true,\"AC\":...  CORPORATION   \n",
              "\n",
              "    building_type  balconies   rent  \n",
              "0              AP          2  40000  \n",
              "1              AP          2  22000  \n",
              "2              AP          3  28000  \n",
              "3              IH          0   8000  \n",
              "4              IH          1  45000  \n",
              "5              AP          2  18000  \n",
              "6              AP          3  32000  \n",
              "7              IH          0  22000  \n",
              "8              IH          0  10000  \n",
              "9              AP          2  19500  \n",
              "10             IF          1  12500  \n",
              "11             AP          2  32000  \n",
              "12             AP          1  11000  \n",
              "13             AP          2  32500  \n",
              "14             IH          0  12000  \n",
              "15             IF          1  15000  \n",
              "16             IH          2  18500  \n",
              "17             IF          1  21000  \n",
              "18             AP          2  22000  \n",
              "19             AP          3  24000  \n",
              "\n",
              "[20 rows x 25 columns]"
            ],
            "text/html": [
              "\n",
              "  <div id=\"df-6c8be7a7-7361-40df-8f4d-c194439f636b\">\n",
              "    <div class=\"colab-df-container\">\n",
              "      <div>\n",
              "<style scoped>\n",
              "    .dataframe tbody tr th:only-of-type {\n",
              "        vertical-align: middle;\n",
              "    }\n",
              "\n",
              "    .dataframe tbody tr th {\n",
              "        vertical-align: top;\n",
              "    }\n",
              "\n",
              "    .dataframe thead th {\n",
              "        text-align: right;\n",
              "    }\n",
              "</style>\n",
              "<table border=\"1\" class=\"dataframe\">\n",
              "  <thead>\n",
              "    <tr style=\"text-align: right;\">\n",
              "      <th></th>\n",
              "      <th>id</th>\n",
              "      <th>type</th>\n",
              "      <th>locality</th>\n",
              "      <th>activation_date</th>\n",
              "      <th>latitude</th>\n",
              "      <th>longitude</th>\n",
              "      <th>lease_type</th>\n",
              "      <th>gym</th>\n",
              "      <th>lift</th>\n",
              "      <th>swimming_pool</th>\n",
              "      <th>...</th>\n",
              "      <th>bathroom</th>\n",
              "      <th>facing</th>\n",
              "      <th>cup_board</th>\n",
              "      <th>floor</th>\n",
              "      <th>total_floor</th>\n",
              "      <th>amenities</th>\n",
              "      <th>water_supply</th>\n",
              "      <th>building_type</th>\n",
              "      <th>balconies</th>\n",
              "      <th>rent</th>\n",
              "    </tr>\n",
              "  </thead>\n",
              "  <tbody>\n",
              "    <tr>\n",
              "      <th>0</th>\n",
              "      <td>ff8081815733a243015733b2876600a6</td>\n",
              "      <td>BHK2</td>\n",
              "      <td>Cauvery Colony,Koramangala</td>\n",
              "      <td>21-04-2018 14:44</td>\n",
              "      <td>12.934471</td>\n",
              "      <td>77.634471</td>\n",
              "      <td>FAMILY</td>\n",
              "      <td>1</td>\n",
              "      <td>1</td>\n",
              "      <td>1</td>\n",
              "      <td>...</td>\n",
              "      <td>2</td>\n",
              "      <td>E</td>\n",
              "      <td>2</td>\n",
              "      <td>6</td>\n",
              "      <td>12</td>\n",
              "      <td>{\"LIFT\":true,\"GYM\":true,\"INTERNET\":true,\"AC\":f...</td>\n",
              "      <td>CORP_BORE</td>\n",
              "      <td>AP</td>\n",
              "      <td>2</td>\n",
              "      <td>40000</td>\n",
              "    </tr>\n",
              "    <tr>\n",
              "      <th>1</th>\n",
              "      <td>ff8081815ee25e15015ee50004da2acd</td>\n",
              "      <td>BHK2</td>\n",
              "      <td>Bellandur</td>\n",
              "      <td>09-10-2017 12:48</td>\n",
              "      <td>12.929557</td>\n",
              "      <td>77.672280</td>\n",
              "      <td>ANYONE</td>\n",
              "      <td>0</td>\n",
              "      <td>1</td>\n",
              "      <td>0</td>\n",
              "      <td>...</td>\n",
              "      <td>2</td>\n",
              "      <td>NE</td>\n",
              "      <td>2</td>\n",
              "      <td>3</td>\n",
              "      <td>4</td>\n",
              "      <td>{\"LIFT\":true,\"GYM\":false,\"INTERNET\":false,\"AC\"...</td>\n",
              "      <td>CORPORATION</td>\n",
              "      <td>AP</td>\n",
              "      <td>2</td>\n",
              "      <td>22000</td>\n",
              "    </tr>\n",
              "    <tr>\n",
              "      <th>2</th>\n",
              "      <td>ff80818163f29c9e0163f46770b873e7</td>\n",
              "      <td>BHK3</td>\n",
              "      <td>Thiruvanmiyur</td>\n",
              "      <td>12-06-2018 22:02</td>\n",
              "      <td>12.982870</td>\n",
              "      <td>80.262012</td>\n",
              "      <td>FAMILY</td>\n",
              "      <td>0</td>\n",
              "      <td>1</td>\n",
              "      <td>0</td>\n",
              "      <td>...</td>\n",
              "      <td>3</td>\n",
              "      <td>E</td>\n",
              "      <td>3</td>\n",
              "      <td>1</td>\n",
              "      <td>5</td>\n",
              "      <td>{\"LIFT\":true,\"GYM\":false,\"INTERNET\":false,\"AC\"...</td>\n",
              "      <td>CORP_BORE</td>\n",
              "      <td>AP</td>\n",
              "      <td>3</td>\n",
              "      <td>28000</td>\n",
              "    </tr>\n",
              "    <tr>\n",
              "      <th>3</th>\n",
              "      <td>ff80818164b68a700164b74b1b247a1d</td>\n",
              "      <td>BHK1</td>\n",
              "      <td>Attiguppe</td>\n",
              "      <td>20-07-2018 16:22</td>\n",
              "      <td>12.955991</td>\n",
              "      <td>77.531634</td>\n",
              "      <td>FAMILY</td>\n",
              "      <td>0</td>\n",
              "      <td>0</td>\n",
              "      <td>0</td>\n",
              "      <td>...</td>\n",
              "      <td>1</td>\n",
              "      <td>E</td>\n",
              "      <td>1</td>\n",
              "      <td>1</td>\n",
              "      <td>2</td>\n",
              "      <td>{\"LIFT\":false,\"GYM\":false,\"INTERNET\":false,\"AC...</td>\n",
              "      <td>CORPORATION</td>\n",
              "      <td>IH</td>\n",
              "      <td>0</td>\n",
              "      <td>8000</td>\n",
              "    </tr>\n",
              "    <tr>\n",
              "      <th>4</th>\n",
              "      <td>ff80818163b1faf00163b4b9b8a163b1</td>\n",
              "      <td>BHK3</td>\n",
              "      <td>Kodihalli</td>\n",
              "      <td>31-05-2018 17:41</td>\n",
              "      <td>12.963903</td>\n",
              "      <td>77.649446</td>\n",
              "      <td>FAMILY</td>\n",
              "      <td>0</td>\n",
              "      <td>0</td>\n",
              "      <td>0</td>\n",
              "      <td>...</td>\n",
              "      <td>3</td>\n",
              "      <td>E</td>\n",
              "      <td>4</td>\n",
              "      <td>0</td>\n",
              "      <td>0</td>\n",
              "      <td>{\"LIFT\":false,\"GYM\":false,\"INTERNET\":false,\"AC...</td>\n",
              "      <td>CORPORATION</td>\n",
              "      <td>IH</td>\n",
              "      <td>1</td>\n",
              "      <td>45000</td>\n",
              "    </tr>\n",
              "    <tr>\n",
              "      <th>5</th>\n",
              "      <td>ff8081815f48e4aa015f4dd1a9c6696b</td>\n",
              "      <td>BHK1</td>\n",
              "      <td>Seetharampalya,Hoodi</td>\n",
              "      <td>24-10-2017 18:29</td>\n",
              "      <td>12.986196</td>\n",
              "      <td>77.718314</td>\n",
              "      <td>FAMILY</td>\n",
              "      <td>1</td>\n",
              "      <td>1</td>\n",
              "      <td>1</td>\n",
              "      <td>...</td>\n",
              "      <td>2</td>\n",
              "      <td>E</td>\n",
              "      <td>1</td>\n",
              "      <td>3</td>\n",
              "      <td>5</td>\n",
              "      <td>{\"LIFT\":true,\"GYM\":true,\"INTERNET\":false,\"AC\":...</td>\n",
              "      <td>CORP_BORE</td>\n",
              "      <td>AP</td>\n",
              "      <td>2</td>\n",
              "      <td>18000</td>\n",
              "    </tr>\n",
              "    <tr>\n",
              "      <th>6</th>\n",
              "      <td>ff808181647d728001647e3cd0ed458d</td>\n",
              "      <td>BHK3</td>\n",
              "      <td>Narayanappa Garden,Whitefield</td>\n",
              "      <td>12-07-2018 20:29</td>\n",
              "      <td>12.967144</td>\n",
              "      <td>77.750662</td>\n",
              "      <td>ANYONE</td>\n",
              "      <td>1</td>\n",
              "      <td>1</td>\n",
              "      <td>1</td>\n",
              "      <td>...</td>\n",
              "      <td>3</td>\n",
              "      <td>NE</td>\n",
              "      <td>5</td>\n",
              "      <td>3</td>\n",
              "      <td>9</td>\n",
              "      <td>{\"LIFT\":true,\"GYM\":true,\"INTERNET\":true,\"AC\":t...</td>\n",
              "      <td>CORPORATION</td>\n",
              "      <td>AP</td>\n",
              "      <td>3</td>\n",
              "      <td>32000</td>\n",
              "    </tr>\n",
              "    <tr>\n",
              "      <th>7</th>\n",
              "      <td>ff80818164e9cd1b0164ea07d09114b7</td>\n",
              "      <td>BHK2</td>\n",
              "      <td>HSR Layout 5th Sector</td>\n",
              "      <td>30-07-2018 16:01</td>\n",
              "      <td>12.917414</td>\n",
              "      <td>77.631764</td>\n",
              "      <td>ANYONE</td>\n",
              "      <td>0</td>\n",
              "      <td>0</td>\n",
              "      <td>0</td>\n",
              "      <td>...</td>\n",
              "      <td>2</td>\n",
              "      <td>S</td>\n",
              "      <td>2</td>\n",
              "      <td>0</td>\n",
              "      <td>2</td>\n",
              "      <td>{\"LIFT\":false,\"GYM\":false,\"INTERNET\":false,\"AC...</td>\n",
              "      <td>CORP_BORE</td>\n",
              "      <td>IH</td>\n",
              "      <td>0</td>\n",
              "      <td>22000</td>\n",
              "    </tr>\n",
              "    <tr>\n",
              "      <th>8</th>\n",
              "      <td>ff808181624e0deb01624e6b3426131c</td>\n",
              "      <td>BHK2</td>\n",
              "      <td>Banashankari</td>\n",
              "      <td>26-03-2018 14:11</td>\n",
              "      <td>12.923301</td>\n",
              "      <td>77.556324</td>\n",
              "      <td>ANYONE</td>\n",
              "      <td>0</td>\n",
              "      <td>0</td>\n",
              "      <td>0</td>\n",
              "      <td>...</td>\n",
              "      <td>2</td>\n",
              "      <td>S</td>\n",
              "      <td>2</td>\n",
              "      <td>0</td>\n",
              "      <td>1</td>\n",
              "      <td>{\"LIFT\":false,\"GYM\":false,\"INTERNET\":true,\"AC\"...</td>\n",
              "      <td>CORPORATION</td>\n",
              "      <td>IH</td>\n",
              "      <td>0</td>\n",
              "      <td>10000</td>\n",
              "    </tr>\n",
              "    <tr>\n",
              "      <th>9</th>\n",
              "      <td>ff808181620eb61601620f1b79a42734</td>\n",
              "      <td>BHK2</td>\n",
              "      <td>Whitefield</td>\n",
              "      <td>10-03-2018 17:17</td>\n",
              "      <td>12.972697</td>\n",
              "      <td>77.751880</td>\n",
              "      <td>ANYONE</td>\n",
              "      <td>1</td>\n",
              "      <td>1</td>\n",
              "      <td>0</td>\n",
              "      <td>...</td>\n",
              "      <td>2</td>\n",
              "      <td>E</td>\n",
              "      <td>4</td>\n",
              "      <td>2</td>\n",
              "      <td>4</td>\n",
              "      <td>{\"LIFT\":true,\"GYM\":true,\"INTERNET\":true,\"AC\":f...</td>\n",
              "      <td>CORP_BORE</td>\n",
              "      <td>AP</td>\n",
              "      <td>2</td>\n",
              "      <td>19500</td>\n",
              "    </tr>\n",
              "    <tr>\n",
              "      <th>10</th>\n",
              "      <td>ff8081815c116660015c119a34fd0829</td>\n",
              "      <td>BHK2</td>\n",
              "      <td>RR Nagar</td>\n",
              "      <td>11-07-2017 14:58</td>\n",
              "      <td>12.912039</td>\n",
              "      <td>77.510950</td>\n",
              "      <td>FAMILY</td>\n",
              "      <td>0</td>\n",
              "      <td>0</td>\n",
              "      <td>0</td>\n",
              "      <td>...</td>\n",
              "      <td>2</td>\n",
              "      <td>E</td>\n",
              "      <td>4</td>\n",
              "      <td>1</td>\n",
              "      <td>2</td>\n",
              "      <td>{\"AC\":false,\"CLUB\":false,\"CPA\":false,\"FS\":fals...</td>\n",
              "      <td>CORPORATION</td>\n",
              "      <td>IF</td>\n",
              "      <td>1</td>\n",
              "      <td>12500</td>\n",
              "    </tr>\n",
              "    <tr>\n",
              "      <th>11</th>\n",
              "      <td>ff8081815f887e60015f8b497ac62da0</td>\n",
              "      <td>BHK2</td>\n",
              "      <td>ITPL Residential Flats</td>\n",
              "      <td>05-11-2017 16:14</td>\n",
              "      <td>12.986175</td>\n",
              "      <td>77.735956</td>\n",
              "      <td>ANYONE</td>\n",
              "      <td>1</td>\n",
              "      <td>1</td>\n",
              "      <td>0</td>\n",
              "      <td>...</td>\n",
              "      <td>2</td>\n",
              "      <td>N</td>\n",
              "      <td>2</td>\n",
              "      <td>1</td>\n",
              "      <td>4</td>\n",
              "      <td>{\"LIFT\":true,\"GYM\":true,\"INTERNET\":true,\"AC\":f...</td>\n",
              "      <td>CORPORATION</td>\n",
              "      <td>AP</td>\n",
              "      <td>2</td>\n",
              "      <td>32000</td>\n",
              "    </tr>\n",
              "    <tr>\n",
              "      <th>12</th>\n",
              "      <td>ff8081815b3ce753015b3deabfae2e70</td>\n",
              "      <td>BHK2</td>\n",
              "      <td>Raja Rajeshwari Nagar</td>\n",
              "      <td>27-08-2017 16:55</td>\n",
              "      <td>12.925034</td>\n",
              "      <td>77.517115</td>\n",
              "      <td>ANYONE</td>\n",
              "      <td>0</td>\n",
              "      <td>1</td>\n",
              "      <td>0</td>\n",
              "      <td>...</td>\n",
              "      <td>2</td>\n",
              "      <td>E</td>\n",
              "      <td>2</td>\n",
              "      <td>1</td>\n",
              "      <td>4</td>\n",
              "      <td>{\"LIFT\":true,\"GYM\":false,\"INTERNET\":true,\"AC\":...</td>\n",
              "      <td>CORPORATION</td>\n",
              "      <td>AP</td>\n",
              "      <td>1</td>\n",
              "      <td>11000</td>\n",
              "    </tr>\n",
              "    <tr>\n",
              "      <th>13</th>\n",
              "      <td>ff8081815efff8db015f0097a4a946bf</td>\n",
              "      <td>BHK2</td>\n",
              "      <td>Prestige Shanthinikethan, Bengaluru, Karnataka...</td>\n",
              "      <td>09-10-2017 16:59</td>\n",
              "      <td>12.989002</td>\n",
              "      <td>77.727370</td>\n",
              "      <td>FAMILY</td>\n",
              "      <td>1</td>\n",
              "      <td>1</td>\n",
              "      <td>1</td>\n",
              "      <td>...</td>\n",
              "      <td>2</td>\n",
              "      <td>E</td>\n",
              "      <td>2</td>\n",
              "      <td>11</td>\n",
              "      <td>14</td>\n",
              "      <td>{\"LIFT\":true,\"GYM\":true,\"INTERNET\":true,\"AC\":f...</td>\n",
              "      <td>CORP_BORE</td>\n",
              "      <td>AP</td>\n",
              "      <td>2</td>\n",
              "      <td>32500</td>\n",
              "    </tr>\n",
              "    <tr>\n",
              "      <th>14</th>\n",
              "      <td>ff808181645efb5c01645f8463e227fd</td>\n",
              "      <td>BHK1</td>\n",
              "      <td>Murugeshpalya</td>\n",
              "      <td>05-07-2018 15:18</td>\n",
              "      <td>12.954775</td>\n",
              "      <td>77.650037</td>\n",
              "      <td>BACHELOR</td>\n",
              "      <td>0</td>\n",
              "      <td>0</td>\n",
              "      <td>0</td>\n",
              "      <td>...</td>\n",
              "      <td>1</td>\n",
              "      <td>E</td>\n",
              "      <td>1</td>\n",
              "      <td>2</td>\n",
              "      <td>2</td>\n",
              "      <td>{\"LIFT\":false,\"GYM\":false,\"INTERNET\":true,\"AC\"...</td>\n",
              "      <td>CORPORATION</td>\n",
              "      <td>IH</td>\n",
              "      <td>0</td>\n",
              "      <td>12000</td>\n",
              "    </tr>\n",
              "    <tr>\n",
              "      <th>15</th>\n",
              "      <td>ff808181620eb34b0162133b0dbe5f16</td>\n",
              "      <td>BHK2</td>\n",
              "      <td>Sheshadripuram</td>\n",
              "      <td>11-03-2018 15:39</td>\n",
              "      <td>12.986517</td>\n",
              "      <td>77.574781</td>\n",
              "      <td>FAMILY</td>\n",
              "      <td>0</td>\n",
              "      <td>0</td>\n",
              "      <td>0</td>\n",
              "      <td>...</td>\n",
              "      <td>1</td>\n",
              "      <td>E</td>\n",
              "      <td>0</td>\n",
              "      <td>1</td>\n",
              "      <td>3</td>\n",
              "      <td>{\"LIFT\":false,\"GYM\":false,\"INTERNET\":true,\"AC\"...</td>\n",
              "      <td>CORP_BORE</td>\n",
              "      <td>IF</td>\n",
              "      <td>1</td>\n",
              "      <td>15000</td>\n",
              "    </tr>\n",
              "    <tr>\n",
              "      <th>16</th>\n",
              "      <td>ff8081816483b0ba01648479cec8103a</td>\n",
              "      <td>BHK3</td>\n",
              "      <td>Cox Town</td>\n",
              "      <td>15-07-2018 17:08</td>\n",
              "      <td>12.998526</td>\n",
              "      <td>77.631007</td>\n",
              "      <td>FAMILY</td>\n",
              "      <td>0</td>\n",
              "      <td>0</td>\n",
              "      <td>0</td>\n",
              "      <td>...</td>\n",
              "      <td>2</td>\n",
              "      <td>E</td>\n",
              "      <td>2</td>\n",
              "      <td>1</td>\n",
              "      <td>3</td>\n",
              "      <td>{\"LIFT\":false,\"GYM\":false,\"INTERNET\":false,\"AC...</td>\n",
              "      <td>CORPORATION</td>\n",
              "      <td>IH</td>\n",
              "      <td>2</td>\n",
              "      <td>18500</td>\n",
              "    </tr>\n",
              "    <tr>\n",
              "      <th>17</th>\n",
              "      <td>ff8081815d851c3f015d8d3a9b3e5361</td>\n",
              "      <td>BHK3</td>\n",
              "      <td>BTM 2nd Stage</td>\n",
              "      <td>14-08-2017 12:02</td>\n",
              "      <td>12.908240</td>\n",
              "      <td>77.607409</td>\n",
              "      <td>ANYONE</td>\n",
              "      <td>0</td>\n",
              "      <td>0</td>\n",
              "      <td>0</td>\n",
              "      <td>...</td>\n",
              "      <td>2</td>\n",
              "      <td>E</td>\n",
              "      <td>0</td>\n",
              "      <td>1</td>\n",
              "      <td>2</td>\n",
              "      <td>{\"AC\":false,\"CLUB\":false,\"CPA\":false,\"FS\":fals...</td>\n",
              "      <td>CORPORATION</td>\n",
              "      <td>IF</td>\n",
              "      <td>1</td>\n",
              "      <td>21000</td>\n",
              "    </tr>\n",
              "    <tr>\n",
              "      <th>18</th>\n",
              "      <td>ff8081816058ce47016058d4e68f0308</td>\n",
              "      <td>BHK2</td>\n",
              "      <td>Chikkakannalli</td>\n",
              "      <td>15-12-2017 14:53</td>\n",
              "      <td>12.900570</td>\n",
              "      <td>77.707885</td>\n",
              "      <td>FAMILY</td>\n",
              "      <td>0</td>\n",
              "      <td>0</td>\n",
              "      <td>0</td>\n",
              "      <td>...</td>\n",
              "      <td>2</td>\n",
              "      <td>SE</td>\n",
              "      <td>2</td>\n",
              "      <td>4</td>\n",
              "      <td>15</td>\n",
              "      <td>{\"LIFT\":true,\"GYM\":true,\"INTERNET\":true,\"AC\":f...</td>\n",
              "      <td>CORPORATION</td>\n",
              "      <td>AP</td>\n",
              "      <td>2</td>\n",
              "      <td>22000</td>\n",
              "    </tr>\n",
              "    <tr>\n",
              "      <th>19</th>\n",
              "      <td>ff80818163dffb5f0163e00d3cdd0429</td>\n",
              "      <td>BHK2</td>\n",
              "      <td>agara</td>\n",
              "      <td>08-06-2018 21:28</td>\n",
              "      <td>12.924363</td>\n",
              "      <td>77.653267</td>\n",
              "      <td>ANYONE</td>\n",
              "      <td>0</td>\n",
              "      <td>1</td>\n",
              "      <td>0</td>\n",
              "      <td>...</td>\n",
              "      <td>2</td>\n",
              "      <td>E</td>\n",
              "      <td>2</td>\n",
              "      <td>0</td>\n",
              "      <td>4</td>\n",
              "      <td>{\"LIFT\":true,\"GYM\":false,\"INTERNET\":true,\"AC\":...</td>\n",
              "      <td>CORPORATION</td>\n",
              "      <td>AP</td>\n",
              "      <td>3</td>\n",
              "      <td>24000</td>\n",
              "    </tr>\n",
              "  </tbody>\n",
              "</table>\n",
              "<p>20 rows × 25 columns</p>\n",
              "</div>\n",
              "      <button class=\"colab-df-convert\" onclick=\"convertToInteractive('df-6c8be7a7-7361-40df-8f4d-c194439f636b')\"\n",
              "              title=\"Convert this dataframe to an interactive table.\"\n",
              "              style=\"display:none;\">\n",
              "        \n",
              "  <svg xmlns=\"http://www.w3.org/2000/svg\" height=\"24px\"viewBox=\"0 0 24 24\"\n",
              "       width=\"24px\">\n",
              "    <path d=\"M0 0h24v24H0V0z\" fill=\"none\"/>\n",
              "    <path d=\"M18.56 5.44l.94 2.06.94-2.06 2.06-.94-2.06-.94-.94-2.06-.94 2.06-2.06.94zm-11 1L8.5 8.5l.94-2.06 2.06-.94-2.06-.94L8.5 2.5l-.94 2.06-2.06.94zm10 10l.94 2.06.94-2.06 2.06-.94-2.06-.94-.94-2.06-.94 2.06-2.06.94z\"/><path d=\"M17.41 7.96l-1.37-1.37c-.4-.4-.92-.59-1.43-.59-.52 0-1.04.2-1.43.59L10.3 9.45l-7.72 7.72c-.78.78-.78 2.05 0 2.83L4 21.41c.39.39.9.59 1.41.59.51 0 1.02-.2 1.41-.59l7.78-7.78 2.81-2.81c.8-.78.8-2.07 0-2.86zM5.41 20L4 18.59l7.72-7.72 1.47 1.35L5.41 20z\"/>\n",
              "  </svg>\n",
              "      </button>\n",
              "      \n",
              "  <style>\n",
              "    .colab-df-container {\n",
              "      display:flex;\n",
              "      flex-wrap:wrap;\n",
              "      gap: 12px;\n",
              "    }\n",
              "\n",
              "    .colab-df-convert {\n",
              "      background-color: #E8F0FE;\n",
              "      border: none;\n",
              "      border-radius: 50%;\n",
              "      cursor: pointer;\n",
              "      display: none;\n",
              "      fill: #1967D2;\n",
              "      height: 32px;\n",
              "      padding: 0 0 0 0;\n",
              "      width: 32px;\n",
              "    }\n",
              "\n",
              "    .colab-df-convert:hover {\n",
              "      background-color: #E2EBFA;\n",
              "      box-shadow: 0px 1px 2px rgba(60, 64, 67, 0.3), 0px 1px 3px 1px rgba(60, 64, 67, 0.15);\n",
              "      fill: #174EA6;\n",
              "    }\n",
              "\n",
              "    [theme=dark] .colab-df-convert {\n",
              "      background-color: #3B4455;\n",
              "      fill: #D2E3FC;\n",
              "    }\n",
              "\n",
              "    [theme=dark] .colab-df-convert:hover {\n",
              "      background-color: #434B5C;\n",
              "      box-shadow: 0px 1px 3px 1px rgba(0, 0, 0, 0.15);\n",
              "      filter: drop-shadow(0px 1px 2px rgba(0, 0, 0, 0.3));\n",
              "      fill: #FFFFFF;\n",
              "    }\n",
              "  </style>\n",
              "\n",
              "      <script>\n",
              "        const buttonEl =\n",
              "          document.querySelector('#df-6c8be7a7-7361-40df-8f4d-c194439f636b button.colab-df-convert');\n",
              "        buttonEl.style.display =\n",
              "          google.colab.kernel.accessAllowed ? 'block' : 'none';\n",
              "\n",
              "        async function convertToInteractive(key) {\n",
              "          const element = document.querySelector('#df-6c8be7a7-7361-40df-8f4d-c194439f636b');\n",
              "          const dataTable =\n",
              "            await google.colab.kernel.invokeFunction('convertToInteractive',\n",
              "                                                     [key], {});\n",
              "          if (!dataTable) return;\n",
              "\n",
              "          const docLinkHtml = 'Like what you see? Visit the ' +\n",
              "            '<a target=\"_blank\" href=https://colab.research.google.com/notebooks/data_table.ipynb>data table notebook</a>'\n",
              "            + ' to learn more about interactive tables.';\n",
              "          element.innerHTML = '';\n",
              "          dataTable['output_type'] = 'display_data';\n",
              "          await google.colab.output.renderOutput(dataTable, element);\n",
              "          const docLink = document.createElement('div');\n",
              "          docLink.innerHTML = docLinkHtml;\n",
              "          element.appendChild(docLink);\n",
              "        }\n",
              "      </script>\n",
              "    </div>\n",
              "  </div>\n",
              "  "
            ]
          },
          "metadata": {},
          "execution_count": 58
        }
      ]
    },
    {
      "cell_type": "code",
      "source": [
        "amen=df['amenities'][0]"
      ],
      "metadata": {
        "id": "MbzSLPCdnI-Y"
      },
      "execution_count": 59,
      "outputs": []
    },
    {
      "cell_type": "code",
      "source": [
        "amen"
      ],
      "metadata": {
        "colab": {
          "base_uri": "https://localhost:8080/",
          "height": 53
        },
        "id": "JFGBB-mHna5L",
        "outputId": "95a96dde-cf6b-48f1-fc22-917787079b56"
      },
      "execution_count": 60,
      "outputs": [
        {
          "output_type": "execute_result",
          "data": {
            "text/plain": [
              "'{\"LIFT\":true,\"GYM\":true,\"INTERNET\":true,\"AC\":false,\"CLUB\":true,\"INTERCOM\":true,\"POOL\":true,\"CPA\":true,\"FS\":true,\"SERVANT\":false,\"SECURITY\":true,\"SC\":true,\"GP\":true,\"PARK\":false,\"RWH\":true,\"STP\":true,\"HK\":false,\"PB\":true,\"VP\":true}'"
            ],
            "application/vnd.google.colaboratory.intrinsic+json": {
              "type": "string"
            }
          },
          "metadata": {},
          "execution_count": 60
        }
      ]
    },
    {
      "cell_type": "code",
      "source": [
        "type(amen)"
      ],
      "metadata": {
        "colab": {
          "base_uri": "https://localhost:8080/"
        },
        "id": "eQBrKjR3nctX",
        "outputId": "5ecc2f1c-e162-477d-fd47-360e9b186385"
      },
      "execution_count": 61,
      "outputs": [
        {
          "output_type": "execute_result",
          "data": {
            "text/plain": [
              "str"
            ]
          },
          "metadata": {},
          "execution_count": 61
        }
      ]
    },
    {
      "cell_type": "code",
      "source": [
        "\n",
        "amen=amen.split(',')"
      ],
      "metadata": {
        "id": "-CYfxxH-ngVU"
      },
      "execution_count": 62,
      "outputs": []
    },
    {
      "cell_type": "code",
      "source": [
        "amen"
      ],
      "metadata": {
        "colab": {
          "base_uri": "https://localhost:8080/"
        },
        "id": "h32LcSpOnlyD",
        "outputId": "06b6d525-34df-412f-cc99-9fa407e79f04"
      },
      "execution_count": 63,
      "outputs": [
        {
          "output_type": "execute_result",
          "data": {
            "text/plain": [
              "['{\"LIFT\":true',\n",
              " '\"GYM\":true',\n",
              " '\"INTERNET\":true',\n",
              " '\"AC\":false',\n",
              " '\"CLUB\":true',\n",
              " '\"INTERCOM\":true',\n",
              " '\"POOL\":true',\n",
              " '\"CPA\":true',\n",
              " '\"FS\":true',\n",
              " '\"SERVANT\":false',\n",
              " '\"SECURITY\":true',\n",
              " '\"SC\":true',\n",
              " '\"GP\":true',\n",
              " '\"PARK\":false',\n",
              " '\"RWH\":true',\n",
              " '\"STP\":true',\n",
              " '\"HK\":false',\n",
              " '\"PB\":true',\n",
              " '\"VP\":true}']"
            ]
          },
          "metadata": {},
          "execution_count": 63
        }
      ]
    },
    {
      "cell_type": "code",
      "source": [
        "amen_fields=list()\n",
        "for i in amen:\n",
        "  # print(i)\n",
        "  a=(i.split(':'))\n",
        "  amen_fields.append(a[0])\n"
      ],
      "metadata": {
        "id": "IsJ92vGEn_ym"
      },
      "execution_count": 64,
      "outputs": []
    },
    {
      "cell_type": "code",
      "source": [
        "amen_fields[0]='\"LIFT\"'"
      ],
      "metadata": {
        "id": "k-vYqRUdnL6A"
      },
      "execution_count": 65,
      "outputs": []
    },
    {
      "cell_type": "code",
      "source": [
        "amen_fields"
      ],
      "metadata": {
        "colab": {
          "base_uri": "https://localhost:8080/"
        },
        "id": "sSTNTt_JpUDo",
        "outputId": "f4cb45b0-a088-4ff5-f108-734bef06b24e"
      },
      "execution_count": 66,
      "outputs": [
        {
          "output_type": "execute_result",
          "data": {
            "text/plain": [
              "['\"LIFT\"',\n",
              " '\"GYM\"',\n",
              " '\"INTERNET\"',\n",
              " '\"AC\"',\n",
              " '\"CLUB\"',\n",
              " '\"INTERCOM\"',\n",
              " '\"POOL\"',\n",
              " '\"CPA\"',\n",
              " '\"FS\"',\n",
              " '\"SERVANT\"',\n",
              " '\"SECURITY\"',\n",
              " '\"SC\"',\n",
              " '\"GP\"',\n",
              " '\"PARK\"',\n",
              " '\"RWH\"',\n",
              " '\"STP\"',\n",
              " '\"HK\"',\n",
              " '\"PB\"',\n",
              " '\"VP\"']"
            ]
          },
          "metadata": {},
          "execution_count": 66
        }
      ]
    },
    {
      "cell_type": "code",
      "source": [
        "amenities=list()\n",
        "for i in amen_fields:\n",
        "  x=i.replace('\"', \"\", 2)\n",
        "  amenities.append(x)"
      ],
      "metadata": {
        "id": "nFYugxl3rV5C"
      },
      "execution_count": 67,
      "outputs": []
    },
    {
      "cell_type": "code",
      "source": [
        "amenities"
      ],
      "metadata": {
        "colab": {
          "base_uri": "https://localhost:8080/"
        },
        "id": "tUTreZHvrt-5",
        "outputId": "5ec95b4a-9fc1-45ff-8b63-9e4e03d4f457"
      },
      "execution_count": 68,
      "outputs": [
        {
          "output_type": "execute_result",
          "data": {
            "text/plain": [
              "['LIFT',\n",
              " 'GYM',\n",
              " 'INTERNET',\n",
              " 'AC',\n",
              " 'CLUB',\n",
              " 'INTERCOM',\n",
              " 'POOL',\n",
              " 'CPA',\n",
              " 'FS',\n",
              " 'SERVANT',\n",
              " 'SECURITY',\n",
              " 'SC',\n",
              " 'GP',\n",
              " 'PARK',\n",
              " 'RWH',\n",
              " 'STP',\n",
              " 'HK',\n",
              " 'PB',\n",
              " 'VP']"
            ]
          },
          "metadata": {},
          "execution_count": 68
        }
      ]
    },
    {
      "cell_type": "code",
      "source": [
        "import numpy as np\n"
      ],
      "metadata": {
        "id": "4jSgnWnEw_ir"
      },
      "execution_count": 69,
      "outputs": []
    },
    {
      "cell_type": "code",
      "source": [
        "# print(distinct)\n",
        "x = np.array(df['building_type'].tolist())\n",
        "print(np.unique(x))"
      ],
      "metadata": {
        "colab": {
          "base_uri": "https://localhost:8080/"
        },
        "id": "taaGGMVKws9C",
        "outputId": "e2efe6a0-db83-43e2-815b-844ad4854761"
      },
      "execution_count": 70,
      "outputs": [
        {
          "output_type": "stream",
          "name": "stdout",
          "text": [
            "['AP' 'GC' 'IF' 'IH']\n"
          ]
        }
      ]
    },
    {
      "cell_type": "code",
      "source": [
        "build_dict={'IH':3,'IF':2,'AP':1,'GC':0}"
      ],
      "metadata": {
        "id": "5KFgGZbeIsM2"
      },
      "execution_count": 71,
      "outputs": []
    },
    {
      "cell_type": "code",
      "source": [
        "x = np.array(df['facing'].tolist())\n",
        "print(np.unique(x))"
      ],
      "metadata": {
        "colab": {
          "base_uri": "https://localhost:8080/"
        },
        "id": "WOZWqqNXxMbs",
        "outputId": "2cb371c6-71ad-4c81-c90f-9ec35d18ed11"
      },
      "execution_count": 72,
      "outputs": [
        {
          "output_type": "stream",
          "name": "stdout",
          "text": [
            "['E' 'N' 'NE' 'NW' 'S' 'SE' 'SW' 'W']\n"
          ]
        }
      ]
    },
    {
      "cell_type": "code",
      "source": [
        "face_dict={'N':7,'E':6,'NE':5,'W':4,'NW':3,'SE':2,'SW':1,'S':0}"
      ],
      "metadata": {
        "id": "2u5Oxf-EScoy"
      },
      "execution_count": 95,
      "outputs": []
    },
    {
      "cell_type": "code",
      "source": [
        "x = np.array(df['negotiable'].tolist())\n",
        "print(np.unique(x))"
      ],
      "metadata": {
        "colab": {
          "base_uri": "https://localhost:8080/"
        },
        "id": "yXk49i7HxPLY",
        "outputId": "bf6a68ca-7b4a-42ac-c3e1-2d5a02396865"
      },
      "execution_count": 73,
      "outputs": [
        {
          "output_type": "stream",
          "name": "stdout",
          "text": [
            "[0 1]\n"
          ]
        }
      ]
    },
    {
      "cell_type": "code",
      "source": [
        "x = np.array(df['furnishing'].tolist())\n",
        "print(np.unique(x))"
      ],
      "metadata": {
        "colab": {
          "base_uri": "https://localhost:8080/"
        },
        "id": "7lLdhbO1xbhb",
        "outputId": "a98eb546-5c5f-478c-ce3d-38b014d2cfa2"
      },
      "execution_count": 74,
      "outputs": [
        {
          "output_type": "stream",
          "name": "stdout",
          "text": [
            "['FULLY_FURNISHED' 'NOT_FURNISHED' 'SEMI_FURNISHED']\n"
          ]
        }
      ]
    },
    {
      "cell_type": "code",
      "source": [
        "furnish_dict={'FULLY_FURNISHED':2,'SEMI_FURNISHED':1,'NOT_FURNISHED':0}"
      ],
      "metadata": {
        "id": "HwuCUSmyIcX4"
      },
      "execution_count": 75,
      "outputs": []
    },
    {
      "cell_type": "code",
      "source": [
        "x = np.array(df['water_supply'].tolist())\n",
        "print(np.unique(x))"
      ],
      "metadata": {
        "colab": {
          "base_uri": "https://localhost:8080/"
        },
        "id": "0QggjzMexkTv",
        "outputId": "baab4046-867f-4f1d-ad60-63089dded211"
      },
      "execution_count": 76,
      "outputs": [
        {
          "output_type": "stream",
          "name": "stdout",
          "text": [
            "['BOREWELL' 'CORPORATION' 'CORP_BORE']\n"
          ]
        }
      ]
    },
    {
      "cell_type": "code",
      "source": [
        "water_dict={'CORP_BORE':2,'CORPORATION':1,'BOREWELL':0}"
      ],
      "metadata": {
        "id": "LPjS4PfqIRHl"
      },
      "execution_count": 77,
      "outputs": []
    },
    {
      "cell_type": "code",
      "source": [
        "x = np.array(df['type'].tolist())\n",
        "print(np.unique(x))"
      ],
      "metadata": {
        "colab": {
          "base_uri": "https://localhost:8080/"
        },
        "id": "8cb6j__k0Xw7",
        "outputId": "c94dd7b2-63f6-48eb-ad95-51ab027422cc"
      },
      "execution_count": 78,
      "outputs": [
        {
          "output_type": "stream",
          "name": "stdout",
          "text": [
            "['BHK1' 'BHK2' 'BHK3' 'BHK4' 'BHK4PLUS' 'RK1']\n"
          ]
        }
      ]
    },
    {
      "cell_type": "code",
      "source": [
        "type_dict={'BHK4PLUS':5,'BHK4':4,'BHK3':2,'BHK2':2,'BHK1':1,'RK1':0}"
      ],
      "metadata": {
        "id": "mLedLB1dIAWz"
      },
      "execution_count": 32,
      "outputs": []
    },
    {
      "cell_type": "code",
      "source": [
        "#parking furnishing facing\n"
      ],
      "metadata": {
        "colab": {
          "base_uri": "https://localhost:8080/",
          "height": 130
        },
        "id": "2i0U-wxpJD-b",
        "outputId": "215fb00e-30cb-4dec-c7fe-8a136f04507d"
      },
      "execution_count": 33,
      "outputs": [
        {
          "output_type": "error",
          "ename": "SyntaxError",
          "evalue": "ignored",
          "traceback": [
            "\u001b[0;36m  File \u001b[0;32m\"<ipython-input-33-ee95036a72d4>\"\u001b[0;36m, line \u001b[0;32m1\u001b[0m\n\u001b[0;31m    parking furnishing facing\u001b[0m\n\u001b[0m                     ^\u001b[0m\n\u001b[0;31mSyntaxError\u001b[0m\u001b[0;31m:\u001b[0m invalid syntax\n"
          ]
        }
      ]
    },
    {
      "cell_type": "code",
      "source": [
        "x = np.array(df['parking'].tolist())\n",
        "print(np.unique(x))"
      ],
      "metadata": {
        "colab": {
          "base_uri": "https://localhost:8080/"
        },
        "id": "Nhz3DQByJHVw",
        "outputId": "ec18bcfd-2be2-4ef0-c7a9-09e1fa33aae5"
      },
      "execution_count": 79,
      "outputs": [
        {
          "output_type": "stream",
          "name": "stdout",
          "text": [
            "['BOTH' 'FOUR_WHEELER' 'NONE' 'TWO_WHEELER']\n"
          ]
        }
      ]
    },
    {
      "cell_type": "code",
      "source": [
        "park_dict={'BOTH':3,'FOUR_WHEELER':2,'TWO_WHEELER':1,'NONE':0}"
      ],
      "metadata": {
        "id": "8SsRl0sqJKZ3"
      },
      "execution_count": 80,
      "outputs": []
    },
    {
      "cell_type": "code",
      "source": [
        "need_cols1=['id',\n",
        " 'type',\n",
        " 'gym',\n",
        " 'lift',\n",
        " 'swimming_pool',\n",
        " 'negotiable',\n",
        " 'furnishing',\n",
        " 'parking',\n",
        " 'property_size',\n",
        " 'property_age',\n",
        " 'bathroom',\n",
        " 'facing',\n",
        " 'cup_board',\n",
        " 'floor',\n",
        " 'total_floor',\n",
        " 'water_supply',\n",
        " 'building_type',\n",
        " 'balconies',\n",
        " 'rent']\n"
      ],
      "metadata": {
        "id": "ftfoMdvxr-Fy"
      },
      "execution_count": 81,
      "outputs": []
    },
    {
      "cell_type": "code",
      "source": [
        "df1=pd.read_csv(train_dir, usecols=need_cols1)"
      ],
      "metadata": {
        "id": "hLmKRVU2wRzh"
      },
      "execution_count": 82,
      "outputs": []
    },
    {
      "cell_type": "code",
      "source": [
        "df1.head(10)"
      ],
      "metadata": {
        "colab": {
          "base_uri": "https://localhost:8080/",
          "height": 427
        },
        "id": "Vgfby5QK0Imz",
        "outputId": "7d2a732b-ffc4-490e-cfd4-2c744a4ff4e1"
      },
      "execution_count": 83,
      "outputs": [
        {
          "output_type": "execute_result",
          "data": {
            "text/plain": [
              "                                 id  type  gym  lift  swimming_pool  \\\n",
              "0  ff8081815733a243015733b2876600a6  BHK2    1     1              1   \n",
              "1  ff8081815ee25e15015ee50004da2acd  BHK2    0     1              0   \n",
              "2  ff80818163f29c9e0163f46770b873e7  BHK3    0     1              0   \n",
              "3  ff80818164b68a700164b74b1b247a1d  BHK1    0     0              0   \n",
              "4  ff80818163b1faf00163b4b9b8a163b1  BHK3    0     0              0   \n",
              "5  ff8081815f48e4aa015f4dd1a9c6696b  BHK1    1     1              1   \n",
              "6  ff808181647d728001647e3cd0ed458d  BHK3    1     1              1   \n",
              "7  ff80818164e9cd1b0164ea07d09114b7  BHK2    0     0              0   \n",
              "8  ff808181624e0deb01624e6b3426131c  BHK2    0     0              0   \n",
              "9  ff808181620eb61601620f1b79a42734  BHK2    1     1              0   \n",
              "\n",
              "   negotiable       furnishing      parking  property_size  property_age  \\\n",
              "0           0   SEMI_FURNISHED         BOTH           1250            25   \n",
              "1           1   SEMI_FURNISHED         BOTH           1400             4   \n",
              "2           0   SEMI_FURNISHED         BOTH           1350             6   \n",
              "3           1   SEMI_FURNISHED  TWO_WHEELER            600             3   \n",
              "4           1   SEMI_FURNISHED         BOTH           1500            15   \n",
              "5           1   SEMI_FURNISHED         BOTH           1080             0   \n",
              "6           1  FULLY_FURNISHED         BOTH           1895             5   \n",
              "7           1   SEMI_FURNISHED         BOTH           1000            10   \n",
              "8           0   SEMI_FURNISHED         NONE            900            10   \n",
              "9           1   SEMI_FURNISHED         BOTH           1290             4   \n",
              "\n",
              "   bathroom facing  cup_board  floor  total_floor water_supply building_type  \\\n",
              "0         2      E          2      6           12    CORP_BORE            AP   \n",
              "1         2     NE          2      3            4  CORPORATION            AP   \n",
              "2         3      E          3      1            5    CORP_BORE            AP   \n",
              "3         1      E          1      1            2  CORPORATION            IH   \n",
              "4         3      E          4      0            0  CORPORATION            IH   \n",
              "5         2      E          1      3            5    CORP_BORE            AP   \n",
              "6         3     NE          5      3            9  CORPORATION            AP   \n",
              "7         2      S          2      0            2    CORP_BORE            IH   \n",
              "8         2      S          2      0            1  CORPORATION            IH   \n",
              "9         2      E          4      2            4    CORP_BORE            AP   \n",
              "\n",
              "   balconies   rent  \n",
              "0          2  40000  \n",
              "1          2  22000  \n",
              "2          3  28000  \n",
              "3          0   8000  \n",
              "4          1  45000  \n",
              "5          2  18000  \n",
              "6          3  32000  \n",
              "7          0  22000  \n",
              "8          0  10000  \n",
              "9          2  19500  "
            ],
            "text/html": [
              "\n",
              "  <div id=\"df-2dda7605-85ec-4c5e-b5a6-acbe93f51bac\">\n",
              "    <div class=\"colab-df-container\">\n",
              "      <div>\n",
              "<style scoped>\n",
              "    .dataframe tbody tr th:only-of-type {\n",
              "        vertical-align: middle;\n",
              "    }\n",
              "\n",
              "    .dataframe tbody tr th {\n",
              "        vertical-align: top;\n",
              "    }\n",
              "\n",
              "    .dataframe thead th {\n",
              "        text-align: right;\n",
              "    }\n",
              "</style>\n",
              "<table border=\"1\" class=\"dataframe\">\n",
              "  <thead>\n",
              "    <tr style=\"text-align: right;\">\n",
              "      <th></th>\n",
              "      <th>id</th>\n",
              "      <th>type</th>\n",
              "      <th>gym</th>\n",
              "      <th>lift</th>\n",
              "      <th>swimming_pool</th>\n",
              "      <th>negotiable</th>\n",
              "      <th>furnishing</th>\n",
              "      <th>parking</th>\n",
              "      <th>property_size</th>\n",
              "      <th>property_age</th>\n",
              "      <th>bathroom</th>\n",
              "      <th>facing</th>\n",
              "      <th>cup_board</th>\n",
              "      <th>floor</th>\n",
              "      <th>total_floor</th>\n",
              "      <th>water_supply</th>\n",
              "      <th>building_type</th>\n",
              "      <th>balconies</th>\n",
              "      <th>rent</th>\n",
              "    </tr>\n",
              "  </thead>\n",
              "  <tbody>\n",
              "    <tr>\n",
              "      <th>0</th>\n",
              "      <td>ff8081815733a243015733b2876600a6</td>\n",
              "      <td>BHK2</td>\n",
              "      <td>1</td>\n",
              "      <td>1</td>\n",
              "      <td>1</td>\n",
              "      <td>0</td>\n",
              "      <td>SEMI_FURNISHED</td>\n",
              "      <td>BOTH</td>\n",
              "      <td>1250</td>\n",
              "      <td>25</td>\n",
              "      <td>2</td>\n",
              "      <td>E</td>\n",
              "      <td>2</td>\n",
              "      <td>6</td>\n",
              "      <td>12</td>\n",
              "      <td>CORP_BORE</td>\n",
              "      <td>AP</td>\n",
              "      <td>2</td>\n",
              "      <td>40000</td>\n",
              "    </tr>\n",
              "    <tr>\n",
              "      <th>1</th>\n",
              "      <td>ff8081815ee25e15015ee50004da2acd</td>\n",
              "      <td>BHK2</td>\n",
              "      <td>0</td>\n",
              "      <td>1</td>\n",
              "      <td>0</td>\n",
              "      <td>1</td>\n",
              "      <td>SEMI_FURNISHED</td>\n",
              "      <td>BOTH</td>\n",
              "      <td>1400</td>\n",
              "      <td>4</td>\n",
              "      <td>2</td>\n",
              "      <td>NE</td>\n",
              "      <td>2</td>\n",
              "      <td>3</td>\n",
              "      <td>4</td>\n",
              "      <td>CORPORATION</td>\n",
              "      <td>AP</td>\n",
              "      <td>2</td>\n",
              "      <td>22000</td>\n",
              "    </tr>\n",
              "    <tr>\n",
              "      <th>2</th>\n",
              "      <td>ff80818163f29c9e0163f46770b873e7</td>\n",
              "      <td>BHK3</td>\n",
              "      <td>0</td>\n",
              "      <td>1</td>\n",
              "      <td>0</td>\n",
              "      <td>0</td>\n",
              "      <td>SEMI_FURNISHED</td>\n",
              "      <td>BOTH</td>\n",
              "      <td>1350</td>\n",
              "      <td>6</td>\n",
              "      <td>3</td>\n",
              "      <td>E</td>\n",
              "      <td>3</td>\n",
              "      <td>1</td>\n",
              "      <td>5</td>\n",
              "      <td>CORP_BORE</td>\n",
              "      <td>AP</td>\n",
              "      <td>3</td>\n",
              "      <td>28000</td>\n",
              "    </tr>\n",
              "    <tr>\n",
              "      <th>3</th>\n",
              "      <td>ff80818164b68a700164b74b1b247a1d</td>\n",
              "      <td>BHK1</td>\n",
              "      <td>0</td>\n",
              "      <td>0</td>\n",
              "      <td>0</td>\n",
              "      <td>1</td>\n",
              "      <td>SEMI_FURNISHED</td>\n",
              "      <td>TWO_WHEELER</td>\n",
              "      <td>600</td>\n",
              "      <td>3</td>\n",
              "      <td>1</td>\n",
              "      <td>E</td>\n",
              "      <td>1</td>\n",
              "      <td>1</td>\n",
              "      <td>2</td>\n",
              "      <td>CORPORATION</td>\n",
              "      <td>IH</td>\n",
              "      <td>0</td>\n",
              "      <td>8000</td>\n",
              "    </tr>\n",
              "    <tr>\n",
              "      <th>4</th>\n",
              "      <td>ff80818163b1faf00163b4b9b8a163b1</td>\n",
              "      <td>BHK3</td>\n",
              "      <td>0</td>\n",
              "      <td>0</td>\n",
              "      <td>0</td>\n",
              "      <td>1</td>\n",
              "      <td>SEMI_FURNISHED</td>\n",
              "      <td>BOTH</td>\n",
              "      <td>1500</td>\n",
              "      <td>15</td>\n",
              "      <td>3</td>\n",
              "      <td>E</td>\n",
              "      <td>4</td>\n",
              "      <td>0</td>\n",
              "      <td>0</td>\n",
              "      <td>CORPORATION</td>\n",
              "      <td>IH</td>\n",
              "      <td>1</td>\n",
              "      <td>45000</td>\n",
              "    </tr>\n",
              "    <tr>\n",
              "      <th>5</th>\n",
              "      <td>ff8081815f48e4aa015f4dd1a9c6696b</td>\n",
              "      <td>BHK1</td>\n",
              "      <td>1</td>\n",
              "      <td>1</td>\n",
              "      <td>1</td>\n",
              "      <td>1</td>\n",
              "      <td>SEMI_FURNISHED</td>\n",
              "      <td>BOTH</td>\n",
              "      <td>1080</td>\n",
              "      <td>0</td>\n",
              "      <td>2</td>\n",
              "      <td>E</td>\n",
              "      <td>1</td>\n",
              "      <td>3</td>\n",
              "      <td>5</td>\n",
              "      <td>CORP_BORE</td>\n",
              "      <td>AP</td>\n",
              "      <td>2</td>\n",
              "      <td>18000</td>\n",
              "    </tr>\n",
              "    <tr>\n",
              "      <th>6</th>\n",
              "      <td>ff808181647d728001647e3cd0ed458d</td>\n",
              "      <td>BHK3</td>\n",
              "      <td>1</td>\n",
              "      <td>1</td>\n",
              "      <td>1</td>\n",
              "      <td>1</td>\n",
              "      <td>FULLY_FURNISHED</td>\n",
              "      <td>BOTH</td>\n",
              "      <td>1895</td>\n",
              "      <td>5</td>\n",
              "      <td>3</td>\n",
              "      <td>NE</td>\n",
              "      <td>5</td>\n",
              "      <td>3</td>\n",
              "      <td>9</td>\n",
              "      <td>CORPORATION</td>\n",
              "      <td>AP</td>\n",
              "      <td>3</td>\n",
              "      <td>32000</td>\n",
              "    </tr>\n",
              "    <tr>\n",
              "      <th>7</th>\n",
              "      <td>ff80818164e9cd1b0164ea07d09114b7</td>\n",
              "      <td>BHK2</td>\n",
              "      <td>0</td>\n",
              "      <td>0</td>\n",
              "      <td>0</td>\n",
              "      <td>1</td>\n",
              "      <td>SEMI_FURNISHED</td>\n",
              "      <td>BOTH</td>\n",
              "      <td>1000</td>\n",
              "      <td>10</td>\n",
              "      <td>2</td>\n",
              "      <td>S</td>\n",
              "      <td>2</td>\n",
              "      <td>0</td>\n",
              "      <td>2</td>\n",
              "      <td>CORP_BORE</td>\n",
              "      <td>IH</td>\n",
              "      <td>0</td>\n",
              "      <td>22000</td>\n",
              "    </tr>\n",
              "    <tr>\n",
              "      <th>8</th>\n",
              "      <td>ff808181624e0deb01624e6b3426131c</td>\n",
              "      <td>BHK2</td>\n",
              "      <td>0</td>\n",
              "      <td>0</td>\n",
              "      <td>0</td>\n",
              "      <td>0</td>\n",
              "      <td>SEMI_FURNISHED</td>\n",
              "      <td>NONE</td>\n",
              "      <td>900</td>\n",
              "      <td>10</td>\n",
              "      <td>2</td>\n",
              "      <td>S</td>\n",
              "      <td>2</td>\n",
              "      <td>0</td>\n",
              "      <td>1</td>\n",
              "      <td>CORPORATION</td>\n",
              "      <td>IH</td>\n",
              "      <td>0</td>\n",
              "      <td>10000</td>\n",
              "    </tr>\n",
              "    <tr>\n",
              "      <th>9</th>\n",
              "      <td>ff808181620eb61601620f1b79a42734</td>\n",
              "      <td>BHK2</td>\n",
              "      <td>1</td>\n",
              "      <td>1</td>\n",
              "      <td>0</td>\n",
              "      <td>1</td>\n",
              "      <td>SEMI_FURNISHED</td>\n",
              "      <td>BOTH</td>\n",
              "      <td>1290</td>\n",
              "      <td>4</td>\n",
              "      <td>2</td>\n",
              "      <td>E</td>\n",
              "      <td>4</td>\n",
              "      <td>2</td>\n",
              "      <td>4</td>\n",
              "      <td>CORP_BORE</td>\n",
              "      <td>AP</td>\n",
              "      <td>2</td>\n",
              "      <td>19500</td>\n",
              "    </tr>\n",
              "  </tbody>\n",
              "</table>\n",
              "</div>\n",
              "      <button class=\"colab-df-convert\" onclick=\"convertToInteractive('df-2dda7605-85ec-4c5e-b5a6-acbe93f51bac')\"\n",
              "              title=\"Convert this dataframe to an interactive table.\"\n",
              "              style=\"display:none;\">\n",
              "        \n",
              "  <svg xmlns=\"http://www.w3.org/2000/svg\" height=\"24px\"viewBox=\"0 0 24 24\"\n",
              "       width=\"24px\">\n",
              "    <path d=\"M0 0h24v24H0V0z\" fill=\"none\"/>\n",
              "    <path d=\"M18.56 5.44l.94 2.06.94-2.06 2.06-.94-2.06-.94-.94-2.06-.94 2.06-2.06.94zm-11 1L8.5 8.5l.94-2.06 2.06-.94-2.06-.94L8.5 2.5l-.94 2.06-2.06.94zm10 10l.94 2.06.94-2.06 2.06-.94-2.06-.94-.94-2.06-.94 2.06-2.06.94z\"/><path d=\"M17.41 7.96l-1.37-1.37c-.4-.4-.92-.59-1.43-.59-.52 0-1.04.2-1.43.59L10.3 9.45l-7.72 7.72c-.78.78-.78 2.05 0 2.83L4 21.41c.39.39.9.59 1.41.59.51 0 1.02-.2 1.41-.59l7.78-7.78 2.81-2.81c.8-.78.8-2.07 0-2.86zM5.41 20L4 18.59l7.72-7.72 1.47 1.35L5.41 20z\"/>\n",
              "  </svg>\n",
              "      </button>\n",
              "      \n",
              "  <style>\n",
              "    .colab-df-container {\n",
              "      display:flex;\n",
              "      flex-wrap:wrap;\n",
              "      gap: 12px;\n",
              "    }\n",
              "\n",
              "    .colab-df-convert {\n",
              "      background-color: #E8F0FE;\n",
              "      border: none;\n",
              "      border-radius: 50%;\n",
              "      cursor: pointer;\n",
              "      display: none;\n",
              "      fill: #1967D2;\n",
              "      height: 32px;\n",
              "      padding: 0 0 0 0;\n",
              "      width: 32px;\n",
              "    }\n",
              "\n",
              "    .colab-df-convert:hover {\n",
              "      background-color: #E2EBFA;\n",
              "      box-shadow: 0px 1px 2px rgba(60, 64, 67, 0.3), 0px 1px 3px 1px rgba(60, 64, 67, 0.15);\n",
              "      fill: #174EA6;\n",
              "    }\n",
              "\n",
              "    [theme=dark] .colab-df-convert {\n",
              "      background-color: #3B4455;\n",
              "      fill: #D2E3FC;\n",
              "    }\n",
              "\n",
              "    [theme=dark] .colab-df-convert:hover {\n",
              "      background-color: #434B5C;\n",
              "      box-shadow: 0px 1px 3px 1px rgba(0, 0, 0, 0.15);\n",
              "      filter: drop-shadow(0px 1px 2px rgba(0, 0, 0, 0.3));\n",
              "      fill: #FFFFFF;\n",
              "    }\n",
              "  </style>\n",
              "\n",
              "      <script>\n",
              "        const buttonEl =\n",
              "          document.querySelector('#df-2dda7605-85ec-4c5e-b5a6-acbe93f51bac button.colab-df-convert');\n",
              "        buttonEl.style.display =\n",
              "          google.colab.kernel.accessAllowed ? 'block' : 'none';\n",
              "\n",
              "        async function convertToInteractive(key) {\n",
              "          const element = document.querySelector('#df-2dda7605-85ec-4c5e-b5a6-acbe93f51bac');\n",
              "          const dataTable =\n",
              "            await google.colab.kernel.invokeFunction('convertToInteractive',\n",
              "                                                     [key], {});\n",
              "          if (!dataTable) return;\n",
              "\n",
              "          const docLinkHtml = 'Like what you see? Visit the ' +\n",
              "            '<a target=\"_blank\" href=https://colab.research.google.com/notebooks/data_table.ipynb>data table notebook</a>'\n",
              "            + ' to learn more about interactive tables.';\n",
              "          element.innerHTML = '';\n",
              "          dataTable['output_type'] = 'display_data';\n",
              "          await google.colab.output.renderOutput(dataTable, element);\n",
              "          const docLink = document.createElement('div');\n",
              "          docLink.innerHTML = docLinkHtml;\n",
              "          element.appendChild(docLink);\n",
              "        }\n",
              "      </script>\n",
              "    </div>\n",
              "  </div>\n",
              "  "
            ]
          },
          "metadata": {},
          "execution_count": 83
        }
      ]
    },
    {
      "cell_type": "code",
      "source": [
        "df1.info()"
      ],
      "metadata": {
        "colab": {
          "base_uri": "https://localhost:8080/"
        },
        "id": "n6wdEFv30hvv",
        "outputId": "8a71ec92-3fd2-4d0b-801e-a0ade0ecd2c0"
      },
      "execution_count": 84,
      "outputs": [
        {
          "output_type": "stream",
          "name": "stdout",
          "text": [
            "<class 'pandas.core.frame.DataFrame'>\n",
            "RangeIndex: 20500 entries, 0 to 20499\n",
            "Data columns (total 19 columns):\n",
            " #   Column         Non-Null Count  Dtype \n",
            "---  ------         --------------  ----- \n",
            " 0   id             20500 non-null  object\n",
            " 1   type           20500 non-null  object\n",
            " 2   gym            20500 non-null  int64 \n",
            " 3   lift           20500 non-null  int64 \n",
            " 4   swimming_pool  20500 non-null  int64 \n",
            " 5   negotiable     20500 non-null  int64 \n",
            " 6   furnishing     20500 non-null  object\n",
            " 7   parking        20500 non-null  object\n",
            " 8   property_size  20500 non-null  int64 \n",
            " 9   property_age   20500 non-null  int64 \n",
            " 10  bathroom       20500 non-null  int64 \n",
            " 11  facing         20500 non-null  object\n",
            " 12  cup_board      20500 non-null  int64 \n",
            " 13  floor          20500 non-null  int64 \n",
            " 14  total_floor    20500 non-null  int64 \n",
            " 15  water_supply   20500 non-null  object\n",
            " 16  building_type  20500 non-null  object\n",
            " 17  balconies      20500 non-null  int64 \n",
            " 18  rent           20500 non-null  int64 \n",
            "dtypes: int64(12), object(7)\n",
            "memory usage: 3.0+ MB\n"
          ]
        }
      ]
    },
    {
      "cell_type": "code",
      "source": [
        "df1.describe()"
      ],
      "metadata": {
        "colab": {
          "base_uri": "https://localhost:8080/",
          "height": 364
        },
        "id": "g3BSINt10lGD",
        "outputId": "99dc94a4-0881-47bc-9523-df5089145caa"
      },
      "execution_count": 85,
      "outputs": [
        {
          "output_type": "execute_result",
          "data": {
            "text/plain": [
              "                gym          lift  swimming_pool    negotiable  property_size  \\\n",
              "count  20500.000000  20500.000000   20500.000000  20500.000000   20500.000000   \n",
              "mean       0.226732      0.361463       0.174927      0.711512    1061.829463   \n",
              "std        0.418728      0.480436       0.379914      0.453070     591.419631   \n",
              "min        0.000000      0.000000       0.000000      0.000000       1.000000   \n",
              "25%        0.000000      0.000000       0.000000      0.000000     700.000000   \n",
              "50%        0.000000      0.000000       0.000000      1.000000    1047.000000   \n",
              "75%        0.000000      1.000000       0.000000      1.000000    1281.000000   \n",
              "max        1.000000      1.000000       1.000000      1.000000   50000.000000   \n",
              "\n",
              "       property_age      bathroom     cup_board         floor   total_floor  \\\n",
              "count  20500.000000  20500.000000  20500.000000  20500.000000  20500.000000   \n",
              "mean       5.770634      1.858146      4.553512      1.873561      3.801610   \n",
              "std        6.350271      0.710822    335.416267      2.184927      3.185748   \n",
              "min       -1.000000      1.000000      0.000000      0.000000      0.000000   \n",
              "25%        1.000000      1.000000      1.000000      1.000000      2.000000   \n",
              "50%        5.000000      2.000000      2.000000      1.000000      3.000000   \n",
              "75%       10.000000      2.000000      3.000000      2.000000      4.000000   \n",
              "max      400.000000     21.000000  48026.000000     25.000000     26.000000   \n",
              "\n",
              "          balconies          rent  \n",
              "count  20500.000000  20500.000000  \n",
              "mean       1.148976  19053.602195  \n",
              "std        0.993835   8433.949300  \n",
              "min        0.000000   8000.000000  \n",
              "25%        0.000000  12500.000000  \n",
              "50%        1.000000  17500.000000  \n",
              "75%        2.000000  24000.000000  \n",
              "max       13.000000  50000.000000  "
            ],
            "text/html": [
              "\n",
              "  <div id=\"df-bdb87772-fe17-46dc-ba2e-8223cffef0e1\">\n",
              "    <div class=\"colab-df-container\">\n",
              "      <div>\n",
              "<style scoped>\n",
              "    .dataframe tbody tr th:only-of-type {\n",
              "        vertical-align: middle;\n",
              "    }\n",
              "\n",
              "    .dataframe tbody tr th {\n",
              "        vertical-align: top;\n",
              "    }\n",
              "\n",
              "    .dataframe thead th {\n",
              "        text-align: right;\n",
              "    }\n",
              "</style>\n",
              "<table border=\"1\" class=\"dataframe\">\n",
              "  <thead>\n",
              "    <tr style=\"text-align: right;\">\n",
              "      <th></th>\n",
              "      <th>gym</th>\n",
              "      <th>lift</th>\n",
              "      <th>swimming_pool</th>\n",
              "      <th>negotiable</th>\n",
              "      <th>property_size</th>\n",
              "      <th>property_age</th>\n",
              "      <th>bathroom</th>\n",
              "      <th>cup_board</th>\n",
              "      <th>floor</th>\n",
              "      <th>total_floor</th>\n",
              "      <th>balconies</th>\n",
              "      <th>rent</th>\n",
              "    </tr>\n",
              "  </thead>\n",
              "  <tbody>\n",
              "    <tr>\n",
              "      <th>count</th>\n",
              "      <td>20500.000000</td>\n",
              "      <td>20500.000000</td>\n",
              "      <td>20500.000000</td>\n",
              "      <td>20500.000000</td>\n",
              "      <td>20500.000000</td>\n",
              "      <td>20500.000000</td>\n",
              "      <td>20500.000000</td>\n",
              "      <td>20500.000000</td>\n",
              "      <td>20500.000000</td>\n",
              "      <td>20500.000000</td>\n",
              "      <td>20500.000000</td>\n",
              "      <td>20500.000000</td>\n",
              "    </tr>\n",
              "    <tr>\n",
              "      <th>mean</th>\n",
              "      <td>0.226732</td>\n",
              "      <td>0.361463</td>\n",
              "      <td>0.174927</td>\n",
              "      <td>0.711512</td>\n",
              "      <td>1061.829463</td>\n",
              "      <td>5.770634</td>\n",
              "      <td>1.858146</td>\n",
              "      <td>4.553512</td>\n",
              "      <td>1.873561</td>\n",
              "      <td>3.801610</td>\n",
              "      <td>1.148976</td>\n",
              "      <td>19053.602195</td>\n",
              "    </tr>\n",
              "    <tr>\n",
              "      <th>std</th>\n",
              "      <td>0.418728</td>\n",
              "      <td>0.480436</td>\n",
              "      <td>0.379914</td>\n",
              "      <td>0.453070</td>\n",
              "      <td>591.419631</td>\n",
              "      <td>6.350271</td>\n",
              "      <td>0.710822</td>\n",
              "      <td>335.416267</td>\n",
              "      <td>2.184927</td>\n",
              "      <td>3.185748</td>\n",
              "      <td>0.993835</td>\n",
              "      <td>8433.949300</td>\n",
              "    </tr>\n",
              "    <tr>\n",
              "      <th>min</th>\n",
              "      <td>0.000000</td>\n",
              "      <td>0.000000</td>\n",
              "      <td>0.000000</td>\n",
              "      <td>0.000000</td>\n",
              "      <td>1.000000</td>\n",
              "      <td>-1.000000</td>\n",
              "      <td>1.000000</td>\n",
              "      <td>0.000000</td>\n",
              "      <td>0.000000</td>\n",
              "      <td>0.000000</td>\n",
              "      <td>0.000000</td>\n",
              "      <td>8000.000000</td>\n",
              "    </tr>\n",
              "    <tr>\n",
              "      <th>25%</th>\n",
              "      <td>0.000000</td>\n",
              "      <td>0.000000</td>\n",
              "      <td>0.000000</td>\n",
              "      <td>0.000000</td>\n",
              "      <td>700.000000</td>\n",
              "      <td>1.000000</td>\n",
              "      <td>1.000000</td>\n",
              "      <td>1.000000</td>\n",
              "      <td>1.000000</td>\n",
              "      <td>2.000000</td>\n",
              "      <td>0.000000</td>\n",
              "      <td>12500.000000</td>\n",
              "    </tr>\n",
              "    <tr>\n",
              "      <th>50%</th>\n",
              "      <td>0.000000</td>\n",
              "      <td>0.000000</td>\n",
              "      <td>0.000000</td>\n",
              "      <td>1.000000</td>\n",
              "      <td>1047.000000</td>\n",
              "      <td>5.000000</td>\n",
              "      <td>2.000000</td>\n",
              "      <td>2.000000</td>\n",
              "      <td>1.000000</td>\n",
              "      <td>3.000000</td>\n",
              "      <td>1.000000</td>\n",
              "      <td>17500.000000</td>\n",
              "    </tr>\n",
              "    <tr>\n",
              "      <th>75%</th>\n",
              "      <td>0.000000</td>\n",
              "      <td>1.000000</td>\n",
              "      <td>0.000000</td>\n",
              "      <td>1.000000</td>\n",
              "      <td>1281.000000</td>\n",
              "      <td>10.000000</td>\n",
              "      <td>2.000000</td>\n",
              "      <td>3.000000</td>\n",
              "      <td>2.000000</td>\n",
              "      <td>4.000000</td>\n",
              "      <td>2.000000</td>\n",
              "      <td>24000.000000</td>\n",
              "    </tr>\n",
              "    <tr>\n",
              "      <th>max</th>\n",
              "      <td>1.000000</td>\n",
              "      <td>1.000000</td>\n",
              "      <td>1.000000</td>\n",
              "      <td>1.000000</td>\n",
              "      <td>50000.000000</td>\n",
              "      <td>400.000000</td>\n",
              "      <td>21.000000</td>\n",
              "      <td>48026.000000</td>\n",
              "      <td>25.000000</td>\n",
              "      <td>26.000000</td>\n",
              "      <td>13.000000</td>\n",
              "      <td>50000.000000</td>\n",
              "    </tr>\n",
              "  </tbody>\n",
              "</table>\n",
              "</div>\n",
              "      <button class=\"colab-df-convert\" onclick=\"convertToInteractive('df-bdb87772-fe17-46dc-ba2e-8223cffef0e1')\"\n",
              "              title=\"Convert this dataframe to an interactive table.\"\n",
              "              style=\"display:none;\">\n",
              "        \n",
              "  <svg xmlns=\"http://www.w3.org/2000/svg\" height=\"24px\"viewBox=\"0 0 24 24\"\n",
              "       width=\"24px\">\n",
              "    <path d=\"M0 0h24v24H0V0z\" fill=\"none\"/>\n",
              "    <path d=\"M18.56 5.44l.94 2.06.94-2.06 2.06-.94-2.06-.94-.94-2.06-.94 2.06-2.06.94zm-11 1L8.5 8.5l.94-2.06 2.06-.94-2.06-.94L8.5 2.5l-.94 2.06-2.06.94zm10 10l.94 2.06.94-2.06 2.06-.94-2.06-.94-.94-2.06-.94 2.06-2.06.94z\"/><path d=\"M17.41 7.96l-1.37-1.37c-.4-.4-.92-.59-1.43-.59-.52 0-1.04.2-1.43.59L10.3 9.45l-7.72 7.72c-.78.78-.78 2.05 0 2.83L4 21.41c.39.39.9.59 1.41.59.51 0 1.02-.2 1.41-.59l7.78-7.78 2.81-2.81c.8-.78.8-2.07 0-2.86zM5.41 20L4 18.59l7.72-7.72 1.47 1.35L5.41 20z\"/>\n",
              "  </svg>\n",
              "      </button>\n",
              "      \n",
              "  <style>\n",
              "    .colab-df-container {\n",
              "      display:flex;\n",
              "      flex-wrap:wrap;\n",
              "      gap: 12px;\n",
              "    }\n",
              "\n",
              "    .colab-df-convert {\n",
              "      background-color: #E8F0FE;\n",
              "      border: none;\n",
              "      border-radius: 50%;\n",
              "      cursor: pointer;\n",
              "      display: none;\n",
              "      fill: #1967D2;\n",
              "      height: 32px;\n",
              "      padding: 0 0 0 0;\n",
              "      width: 32px;\n",
              "    }\n",
              "\n",
              "    .colab-df-convert:hover {\n",
              "      background-color: #E2EBFA;\n",
              "      box-shadow: 0px 1px 2px rgba(60, 64, 67, 0.3), 0px 1px 3px 1px rgba(60, 64, 67, 0.15);\n",
              "      fill: #174EA6;\n",
              "    }\n",
              "\n",
              "    [theme=dark] .colab-df-convert {\n",
              "      background-color: #3B4455;\n",
              "      fill: #D2E3FC;\n",
              "    }\n",
              "\n",
              "    [theme=dark] .colab-df-convert:hover {\n",
              "      background-color: #434B5C;\n",
              "      box-shadow: 0px 1px 3px 1px rgba(0, 0, 0, 0.15);\n",
              "      filter: drop-shadow(0px 1px 2px rgba(0, 0, 0, 0.3));\n",
              "      fill: #FFFFFF;\n",
              "    }\n",
              "  </style>\n",
              "\n",
              "      <script>\n",
              "        const buttonEl =\n",
              "          document.querySelector('#df-bdb87772-fe17-46dc-ba2e-8223cffef0e1 button.colab-df-convert');\n",
              "        buttonEl.style.display =\n",
              "          google.colab.kernel.accessAllowed ? 'block' : 'none';\n",
              "\n",
              "        async function convertToInteractive(key) {\n",
              "          const element = document.querySelector('#df-bdb87772-fe17-46dc-ba2e-8223cffef0e1');\n",
              "          const dataTable =\n",
              "            await google.colab.kernel.invokeFunction('convertToInteractive',\n",
              "                                                     [key], {});\n",
              "          if (!dataTable) return;\n",
              "\n",
              "          const docLinkHtml = 'Like what you see? Visit the ' +\n",
              "            '<a target=\"_blank\" href=https://colab.research.google.com/notebooks/data_table.ipynb>data table notebook</a>'\n",
              "            + ' to learn more about interactive tables.';\n",
              "          element.innerHTML = '';\n",
              "          dataTable['output_type'] = 'display_data';\n",
              "          await google.colab.output.renderOutput(dataTable, element);\n",
              "          const docLink = document.createElement('div');\n",
              "          docLink.innerHTML = docLinkHtml;\n",
              "          element.appendChild(docLink);\n",
              "        }\n",
              "      </script>\n",
              "    </div>\n",
              "  </div>\n",
              "  "
            ]
          },
          "metadata": {},
          "execution_count": 85
        }
      ]
    },
    {
      "cell_type": "markdown",
      "source": [
        "# a few anomalies to note: \n",
        "there are a few houses with 21 bathrooms\n",
        "\n",
        "cupboard column has value 48026\n",
        "\n",
        "there are houses with 13 balconies\n",
        "\n",
        "\n",
        "\n",
        "# all of these anomalies must be taken care of during model building and website building\n"
      ],
      "metadata": {
        "id": "H9v7FVwa1V-8"
      }
    },
    {
      "cell_type": "code",
      "source": [
        "df1=df1[df1[\"bathroom\"] < 10]\n",
        "df1=df1[df1[\"cup_board\"]<20]\n",
        "df1=df1[df1[\"balconies\"]<5]"
      ],
      "metadata": {
        "id": "2leNKuRO1_Yw"
      },
      "execution_count": 86,
      "outputs": []
    },
    {
      "cell_type": "code",
      "source": [
        "for ind in df1.index:\n",
        "    # print(df['Name'][ind], df['Stream'][ind])\n",
        "    df1['building_type'][ind]=build_dict[df1['building_type'][ind]]\n",
        "\n",
        "\n"
      ],
      "metadata": {
        "colab": {
          "base_uri": "https://localhost:8080/"
        },
        "id": "85EHsxgiOyEb",
        "outputId": "b352f0d3-f2cc-4150-ad5a-5f8de6dc88f1"
      },
      "execution_count": 87,
      "outputs": [
        {
          "output_type": "stream",
          "name": "stderr",
          "text": [
            "/usr/local/lib/python3.7/dist-packages/ipykernel_launcher.py:3: SettingWithCopyWarning: \n",
            "A value is trying to be set on a copy of a slice from a DataFrame\n",
            "\n",
            "See the caveats in the documentation: https://pandas.pydata.org/pandas-docs/stable/user_guide/indexing.html#returning-a-view-versus-a-copy\n",
            "  This is separate from the ipykernel package so we can avoid doing imports until\n"
          ]
        }
      ]
    },
    {
      "cell_type": "code",
      "source": [
        "type_dict"
      ],
      "metadata": {
        "colab": {
          "base_uri": "https://localhost:8080/"
        },
        "id": "VgDgaVkfRotP",
        "outputId": "14481bd2-4032-49f4-ef59-0b69d3fccadf"
      },
      "execution_count": 88,
      "outputs": [
        {
          "output_type": "execute_result",
          "data": {
            "text/plain": [
              "{'BHK4PLUS': 5, 'BHK4': 4, 'BHK3': 2, 'BHK2': 2, 'BHK1': 1, 'RK1': 0}"
            ]
          },
          "metadata": {},
          "execution_count": 88
        }
      ]
    },
    {
      "cell_type": "code",
      "source": [
        "%%time\n",
        "for ind in df1.index:\n",
        "    # print(df['Name'][ind], df['Stream'][ind])\n",
        "    # df1['building_type'][ind]=build_dict[df1['building_type'][ind]]\n",
        "    # df1['furnishing'][ind]=furnish_dict[df1['furnishing'][ind]]\n",
        "    # df1['water_supply'][ind]=water_dict[df1['water_supply'][ind]]\n",
        "    df1['type'][ind]=type_dict[df1['type'][ind]]\n",
        "    # df1['parking'][ind]=park_dict[df1['parking'][ind]]\n",
        "\n"
      ],
      "metadata": {
        "colab": {
          "base_uri": "https://localhost:8080/"
        },
        "id": "pqmr4MCkQGtb",
        "outputId": "fb1599e6-fcb8-43ac-9eb7-ece01fdf1aca"
      },
      "execution_count": 89,
      "outputs": [
        {
          "output_type": "stream",
          "name": "stderr",
          "text": [
            "/usr/local/lib/python3.7/dist-packages/ipykernel_launcher.py:6: SettingWithCopyWarning: \n",
            "A value is trying to be set on a copy of a slice from a DataFrame\n",
            "\n",
            "See the caveats in the documentation: https://pandas.pydata.org/pandas-docs/stable/user_guide/indexing.html#returning-a-view-versus-a-copy\n",
            "  \n"
          ]
        },
        {
          "output_type": "stream",
          "name": "stdout",
          "text": [
            "CPU times: user 8.85 s, sys: 588 ms, total: 9.44 s\n",
            "Wall time: 8.48 s\n"
          ]
        }
      ]
    },
    {
      "cell_type": "code",
      "source": [
        "furnish_dict"
      ],
      "metadata": {
        "colab": {
          "base_uri": "https://localhost:8080/"
        },
        "id": "Ee8a-Pq6Ryr1",
        "outputId": "56e106b9-7a09-4bc9-afbb-6be982f7d870"
      },
      "execution_count": 90,
      "outputs": [
        {
          "output_type": "execute_result",
          "data": {
            "text/plain": [
              "{'FULLY_FURNISHED': 2, 'SEMI_FURNISHED': 1, 'NOT_FURNISHED': 0}"
            ]
          },
          "metadata": {},
          "execution_count": 90
        }
      ]
    },
    {
      "cell_type": "code",
      "source": [
        "%%time\n",
        "for ind in df1.index:\n",
        "    df1['furnishing'][ind]=furnish_dict[df1['furnishing'][ind]]\n",
        "    # df1['water_supply'][ind]=water_dict[df1['water_supply'][ind]]\n",
        "    # df1['parking'][ind]=park_dict[df1['parking'][ind]]"
      ],
      "metadata": {
        "colab": {
          "base_uri": "https://localhost:8080/"
        },
        "id": "O_GkBUBdRuF5",
        "outputId": "b5b153ab-02a8-4383-ff59-27a05568b7b8"
      },
      "execution_count": 91,
      "outputs": [
        {
          "output_type": "stream",
          "name": "stderr",
          "text": [
            "/usr/local/lib/python3.7/dist-packages/ipykernel_launcher.py:2: SettingWithCopyWarning: \n",
            "A value is trying to be set on a copy of a slice from a DataFrame\n",
            "\n",
            "See the caveats in the documentation: https://pandas.pydata.org/pandas-docs/stable/user_guide/indexing.html#returning-a-view-versus-a-copy\n",
            "  \n"
          ]
        },
        {
          "output_type": "stream",
          "name": "stdout",
          "text": [
            "CPU times: user 9.63 s, sys: 813 ms, total: 10.4 s\n",
            "Wall time: 9.13 s\n"
          ]
        }
      ]
    },
    {
      "cell_type": "code",
      "source": [
        "%%time\n",
        "for ind in df1.index:\n",
        "    df1['water_supply'][ind]=water_dict[df1['water_supply'][ind]]\n",
        "    # df1['parking'][ind]=park_dict[df1['parking'][ind]]"
      ],
      "metadata": {
        "colab": {
          "base_uri": "https://localhost:8080/"
        },
        "id": "WiRagSMIR4B-",
        "outputId": "9e661677-8a90-4139-c270-a7051e961dc2"
      },
      "execution_count": 92,
      "outputs": [
        {
          "output_type": "stream",
          "name": "stderr",
          "text": [
            "/usr/local/lib/python3.7/dist-packages/ipykernel_launcher.py:2: SettingWithCopyWarning: \n",
            "A value is trying to be set on a copy of a slice from a DataFrame\n",
            "\n",
            "See the caveats in the documentation: https://pandas.pydata.org/pandas-docs/stable/user_guide/indexing.html#returning-a-view-versus-a-copy\n",
            "  \n"
          ]
        },
        {
          "output_type": "stream",
          "name": "stdout",
          "text": [
            "CPU times: user 10 s, sys: 295 ms, total: 10.3 s\n",
            "Wall time: 11.5 s\n"
          ]
        }
      ]
    },
    {
      "cell_type": "code",
      "source": [
        "%%time\n",
        "for ind in df1.index:\n",
        "    df1['parking'][ind]=park_dict[df1['parking'][ind]]"
      ],
      "metadata": {
        "colab": {
          "base_uri": "https://localhost:8080/"
        },
        "id": "Yzm8EP8pR8UA",
        "outputId": "a113ef38-ed36-4cd3-8bce-a11d63392b32"
      },
      "execution_count": 93,
      "outputs": [
        {
          "output_type": "stream",
          "name": "stderr",
          "text": [
            "/usr/local/lib/python3.7/dist-packages/ipykernel_launcher.py:2: SettingWithCopyWarning: \n",
            "A value is trying to be set on a copy of a slice from a DataFrame\n",
            "\n",
            "See the caveats in the documentation: https://pandas.pydata.org/pandas-docs/stable/user_guide/indexing.html#returning-a-view-versus-a-copy\n",
            "  \n"
          ]
        },
        {
          "output_type": "stream",
          "name": "stdout",
          "text": [
            "CPU times: user 9.24 s, sys: 764 ms, total: 10 s\n",
            "Wall time: 8.76 s\n"
          ]
        }
      ]
    },
    {
      "cell_type": "code",
      "source": [
        "face_dict"
      ],
      "metadata": {
        "colab": {
          "base_uri": "https://localhost:8080/"
        },
        "id": "CrWLolfNTQcY",
        "outputId": "4e7bcc79-40aa-4b80-c47d-1acd17e8233b"
      },
      "execution_count": 96,
      "outputs": [
        {
          "output_type": "execute_result",
          "data": {
            "text/plain": [
              "{'N': 7, 'E': 6, 'NE': 5, 'W': 4, 'NW': 3, 'SE': 2, 'SW': 1, 'S': 0}"
            ]
          },
          "metadata": {},
          "execution_count": 96
        }
      ]
    },
    {
      "cell_type": "code",
      "source": [
        "for ind in df1.index:\n",
        "    df1['facing'][ind]=face_dict[df1['facing'][ind]]"
      ],
      "metadata": {
        "colab": {
          "base_uri": "https://localhost:8080/"
        },
        "id": "XMPIaDXXTSOK",
        "outputId": "3354385a-a2a8-47b5-9849-6e0c0cfd267c"
      },
      "execution_count": 97,
      "outputs": [
        {
          "output_type": "stream",
          "name": "stderr",
          "text": [
            "/usr/local/lib/python3.7/dist-packages/ipykernel_launcher.py:2: SettingWithCopyWarning: \n",
            "A value is trying to be set on a copy of a slice from a DataFrame\n",
            "\n",
            "See the caveats in the documentation: https://pandas.pydata.org/pandas-docs/stable/user_guide/indexing.html#returning-a-view-versus-a-copy\n",
            "  \n"
          ]
        }
      ]
    },
    {
      "cell_type": "code",
      "source": [
        "df1.head()"
      ],
      "metadata": {
        "colab": {
          "base_uri": "https://localhost:8080/",
          "height": 270
        },
        "id": "eyf1HG1DQDAB",
        "outputId": "acfd6fda-9e97-442b-b1aa-59271b5dc220"
      },
      "execution_count": 98,
      "outputs": [
        {
          "output_type": "execute_result",
          "data": {
            "text/plain": [
              "                                 id type  gym  lift  swimming_pool  \\\n",
              "0  ff8081815733a243015733b2876600a6    2    1     1              1   \n",
              "1  ff8081815ee25e15015ee50004da2acd    2    0     1              0   \n",
              "2  ff80818163f29c9e0163f46770b873e7    2    0     1              0   \n",
              "3  ff80818164b68a700164b74b1b247a1d    1    0     0              0   \n",
              "4  ff80818163b1faf00163b4b9b8a163b1    2    0     0              0   \n",
              "\n",
              "   negotiable furnishing parking  property_size  property_age  bathroom  \\\n",
              "0           0          1       3           1250            25         2   \n",
              "1           1          1       3           1400             4         2   \n",
              "2           0          1       3           1350             6         3   \n",
              "3           1          1       1            600             3         1   \n",
              "4           1          1       3           1500            15         3   \n",
              "\n",
              "  facing  cup_board  floor  total_floor water_supply building_type  balconies  \\\n",
              "0      6          2      6           12            2             1          2   \n",
              "1      5          2      3            4            1             1          2   \n",
              "2      6          3      1            5            2             1          3   \n",
              "3      6          1      1            2            1             3          0   \n",
              "4      6          4      0            0            1             3          1   \n",
              "\n",
              "    rent  \n",
              "0  40000  \n",
              "1  22000  \n",
              "2  28000  \n",
              "3   8000  \n",
              "4  45000  "
            ],
            "text/html": [
              "\n",
              "  <div id=\"df-33910b72-d585-4c01-816e-e7e7a54f2b41\">\n",
              "    <div class=\"colab-df-container\">\n",
              "      <div>\n",
              "<style scoped>\n",
              "    .dataframe tbody tr th:only-of-type {\n",
              "        vertical-align: middle;\n",
              "    }\n",
              "\n",
              "    .dataframe tbody tr th {\n",
              "        vertical-align: top;\n",
              "    }\n",
              "\n",
              "    .dataframe thead th {\n",
              "        text-align: right;\n",
              "    }\n",
              "</style>\n",
              "<table border=\"1\" class=\"dataframe\">\n",
              "  <thead>\n",
              "    <tr style=\"text-align: right;\">\n",
              "      <th></th>\n",
              "      <th>id</th>\n",
              "      <th>type</th>\n",
              "      <th>gym</th>\n",
              "      <th>lift</th>\n",
              "      <th>swimming_pool</th>\n",
              "      <th>negotiable</th>\n",
              "      <th>furnishing</th>\n",
              "      <th>parking</th>\n",
              "      <th>property_size</th>\n",
              "      <th>property_age</th>\n",
              "      <th>bathroom</th>\n",
              "      <th>facing</th>\n",
              "      <th>cup_board</th>\n",
              "      <th>floor</th>\n",
              "      <th>total_floor</th>\n",
              "      <th>water_supply</th>\n",
              "      <th>building_type</th>\n",
              "      <th>balconies</th>\n",
              "      <th>rent</th>\n",
              "    </tr>\n",
              "  </thead>\n",
              "  <tbody>\n",
              "    <tr>\n",
              "      <th>0</th>\n",
              "      <td>ff8081815733a243015733b2876600a6</td>\n",
              "      <td>2</td>\n",
              "      <td>1</td>\n",
              "      <td>1</td>\n",
              "      <td>1</td>\n",
              "      <td>0</td>\n",
              "      <td>1</td>\n",
              "      <td>3</td>\n",
              "      <td>1250</td>\n",
              "      <td>25</td>\n",
              "      <td>2</td>\n",
              "      <td>6</td>\n",
              "      <td>2</td>\n",
              "      <td>6</td>\n",
              "      <td>12</td>\n",
              "      <td>2</td>\n",
              "      <td>1</td>\n",
              "      <td>2</td>\n",
              "      <td>40000</td>\n",
              "    </tr>\n",
              "    <tr>\n",
              "      <th>1</th>\n",
              "      <td>ff8081815ee25e15015ee50004da2acd</td>\n",
              "      <td>2</td>\n",
              "      <td>0</td>\n",
              "      <td>1</td>\n",
              "      <td>0</td>\n",
              "      <td>1</td>\n",
              "      <td>1</td>\n",
              "      <td>3</td>\n",
              "      <td>1400</td>\n",
              "      <td>4</td>\n",
              "      <td>2</td>\n",
              "      <td>5</td>\n",
              "      <td>2</td>\n",
              "      <td>3</td>\n",
              "      <td>4</td>\n",
              "      <td>1</td>\n",
              "      <td>1</td>\n",
              "      <td>2</td>\n",
              "      <td>22000</td>\n",
              "    </tr>\n",
              "    <tr>\n",
              "      <th>2</th>\n",
              "      <td>ff80818163f29c9e0163f46770b873e7</td>\n",
              "      <td>2</td>\n",
              "      <td>0</td>\n",
              "      <td>1</td>\n",
              "      <td>0</td>\n",
              "      <td>0</td>\n",
              "      <td>1</td>\n",
              "      <td>3</td>\n",
              "      <td>1350</td>\n",
              "      <td>6</td>\n",
              "      <td>3</td>\n",
              "      <td>6</td>\n",
              "      <td>3</td>\n",
              "      <td>1</td>\n",
              "      <td>5</td>\n",
              "      <td>2</td>\n",
              "      <td>1</td>\n",
              "      <td>3</td>\n",
              "      <td>28000</td>\n",
              "    </tr>\n",
              "    <tr>\n",
              "      <th>3</th>\n",
              "      <td>ff80818164b68a700164b74b1b247a1d</td>\n",
              "      <td>1</td>\n",
              "      <td>0</td>\n",
              "      <td>0</td>\n",
              "      <td>0</td>\n",
              "      <td>1</td>\n",
              "      <td>1</td>\n",
              "      <td>1</td>\n",
              "      <td>600</td>\n",
              "      <td>3</td>\n",
              "      <td>1</td>\n",
              "      <td>6</td>\n",
              "      <td>1</td>\n",
              "      <td>1</td>\n",
              "      <td>2</td>\n",
              "      <td>1</td>\n",
              "      <td>3</td>\n",
              "      <td>0</td>\n",
              "      <td>8000</td>\n",
              "    </tr>\n",
              "    <tr>\n",
              "      <th>4</th>\n",
              "      <td>ff80818163b1faf00163b4b9b8a163b1</td>\n",
              "      <td>2</td>\n",
              "      <td>0</td>\n",
              "      <td>0</td>\n",
              "      <td>0</td>\n",
              "      <td>1</td>\n",
              "      <td>1</td>\n",
              "      <td>3</td>\n",
              "      <td>1500</td>\n",
              "      <td>15</td>\n",
              "      <td>3</td>\n",
              "      <td>6</td>\n",
              "      <td>4</td>\n",
              "      <td>0</td>\n",
              "      <td>0</td>\n",
              "      <td>1</td>\n",
              "      <td>3</td>\n",
              "      <td>1</td>\n",
              "      <td>45000</td>\n",
              "    </tr>\n",
              "  </tbody>\n",
              "</table>\n",
              "</div>\n",
              "      <button class=\"colab-df-convert\" onclick=\"convertToInteractive('df-33910b72-d585-4c01-816e-e7e7a54f2b41')\"\n",
              "              title=\"Convert this dataframe to an interactive table.\"\n",
              "              style=\"display:none;\">\n",
              "        \n",
              "  <svg xmlns=\"http://www.w3.org/2000/svg\" height=\"24px\"viewBox=\"0 0 24 24\"\n",
              "       width=\"24px\">\n",
              "    <path d=\"M0 0h24v24H0V0z\" fill=\"none\"/>\n",
              "    <path d=\"M18.56 5.44l.94 2.06.94-2.06 2.06-.94-2.06-.94-.94-2.06-.94 2.06-2.06.94zm-11 1L8.5 8.5l.94-2.06 2.06-.94-2.06-.94L8.5 2.5l-.94 2.06-2.06.94zm10 10l.94 2.06.94-2.06 2.06-.94-2.06-.94-.94-2.06-.94 2.06-2.06.94z\"/><path d=\"M17.41 7.96l-1.37-1.37c-.4-.4-.92-.59-1.43-.59-.52 0-1.04.2-1.43.59L10.3 9.45l-7.72 7.72c-.78.78-.78 2.05 0 2.83L4 21.41c.39.39.9.59 1.41.59.51 0 1.02-.2 1.41-.59l7.78-7.78 2.81-2.81c.8-.78.8-2.07 0-2.86zM5.41 20L4 18.59l7.72-7.72 1.47 1.35L5.41 20z\"/>\n",
              "  </svg>\n",
              "      </button>\n",
              "      \n",
              "  <style>\n",
              "    .colab-df-container {\n",
              "      display:flex;\n",
              "      flex-wrap:wrap;\n",
              "      gap: 12px;\n",
              "    }\n",
              "\n",
              "    .colab-df-convert {\n",
              "      background-color: #E8F0FE;\n",
              "      border: none;\n",
              "      border-radius: 50%;\n",
              "      cursor: pointer;\n",
              "      display: none;\n",
              "      fill: #1967D2;\n",
              "      height: 32px;\n",
              "      padding: 0 0 0 0;\n",
              "      width: 32px;\n",
              "    }\n",
              "\n",
              "    .colab-df-convert:hover {\n",
              "      background-color: #E2EBFA;\n",
              "      box-shadow: 0px 1px 2px rgba(60, 64, 67, 0.3), 0px 1px 3px 1px rgba(60, 64, 67, 0.15);\n",
              "      fill: #174EA6;\n",
              "    }\n",
              "\n",
              "    [theme=dark] .colab-df-convert {\n",
              "      background-color: #3B4455;\n",
              "      fill: #D2E3FC;\n",
              "    }\n",
              "\n",
              "    [theme=dark] .colab-df-convert:hover {\n",
              "      background-color: #434B5C;\n",
              "      box-shadow: 0px 1px 3px 1px rgba(0, 0, 0, 0.15);\n",
              "      filter: drop-shadow(0px 1px 2px rgba(0, 0, 0, 0.3));\n",
              "      fill: #FFFFFF;\n",
              "    }\n",
              "  </style>\n",
              "\n",
              "      <script>\n",
              "        const buttonEl =\n",
              "          document.querySelector('#df-33910b72-d585-4c01-816e-e7e7a54f2b41 button.colab-df-convert');\n",
              "        buttonEl.style.display =\n",
              "          google.colab.kernel.accessAllowed ? 'block' : 'none';\n",
              "\n",
              "        async function convertToInteractive(key) {\n",
              "          const element = document.querySelector('#df-33910b72-d585-4c01-816e-e7e7a54f2b41');\n",
              "          const dataTable =\n",
              "            await google.colab.kernel.invokeFunction('convertToInteractive',\n",
              "                                                     [key], {});\n",
              "          if (!dataTable) return;\n",
              "\n",
              "          const docLinkHtml = 'Like what you see? Visit the ' +\n",
              "            '<a target=\"_blank\" href=https://colab.research.google.com/notebooks/data_table.ipynb>data table notebook</a>'\n",
              "            + ' to learn more about interactive tables.';\n",
              "          element.innerHTML = '';\n",
              "          dataTable['output_type'] = 'display_data';\n",
              "          await google.colab.output.renderOutput(dataTable, element);\n",
              "          const docLink = document.createElement('div');\n",
              "          docLink.innerHTML = docLinkHtml;\n",
              "          element.appendChild(docLink);\n",
              "        }\n",
              "      </script>\n",
              "    </div>\n",
              "  </div>\n",
              "  "
            ]
          },
          "metadata": {},
          "execution_count": 98
        }
      ]
    },
    {
      "cell_type": "code",
      "source": [
        "df1.info()"
      ],
      "metadata": {
        "colab": {
          "base_uri": "https://localhost:8080/"
        },
        "id": "gNLJgInOTfft",
        "outputId": "9848d2b9-bf6b-4123-f594-b8279996ca9e"
      },
      "execution_count": 99,
      "outputs": [
        {
          "output_type": "stream",
          "name": "stdout",
          "text": [
            "<class 'pandas.core.frame.DataFrame'>\n",
            "Int64Index: 20445 entries, 0 to 20499\n",
            "Data columns (total 19 columns):\n",
            " #   Column         Non-Null Count  Dtype \n",
            "---  ------         --------------  ----- \n",
            " 0   id             20445 non-null  object\n",
            " 1   type           20445 non-null  object\n",
            " 2   gym            20445 non-null  int64 \n",
            " 3   lift           20445 non-null  int64 \n",
            " 4   swimming_pool  20445 non-null  int64 \n",
            " 5   negotiable     20445 non-null  int64 \n",
            " 6   furnishing     20445 non-null  object\n",
            " 7   parking        20445 non-null  object\n",
            " 8   property_size  20445 non-null  int64 \n",
            " 9   property_age   20445 non-null  int64 \n",
            " 10  bathroom       20445 non-null  int64 \n",
            " 11  facing         20445 non-null  object\n",
            " 12  cup_board      20445 non-null  int64 \n",
            " 13  floor          20445 non-null  int64 \n",
            " 14  total_floor    20445 non-null  int64 \n",
            " 15  water_supply   20445 non-null  object\n",
            " 16  building_type  20445 non-null  object\n",
            " 17  balconies      20445 non-null  int64 \n",
            " 18  rent           20445 non-null  int64 \n",
            "dtypes: int64(12), object(7)\n",
            "memory usage: 3.6+ MB\n"
          ]
        }
      ]
    },
    {
      "cell_type": "code",
      "source": [
        "df1['type'] = pd.to_numeric(df1['type'])\n",
        "df1['furnishing'] = pd.to_numeric(df1['furnishing'])\n",
        "df1['parking'] = pd.to_numeric(df1['parking'])\n",
        "df1['facing'] = pd.to_numeric(df1['facing'])\n",
        "df1['water_supply'] = pd.to_numeric(df1['water_supply'])\n",
        "df1['building_type'] = pd.to_numeric(df1['building_type'])\n",
        "\n",
        "\n",
        "\n",
        "\n"
      ],
      "metadata": {
        "id": "bELXV4AvT1nx"
      },
      "execution_count": 100,
      "outputs": []
    },
    {
      "cell_type": "code",
      "source": [
        "df1.info()"
      ],
      "metadata": {
        "colab": {
          "base_uri": "https://localhost:8080/"
        },
        "id": "mwFI4JCqUQoO",
        "outputId": "c76a3038-bf3d-4217-9df8-93862fde5800"
      },
      "execution_count": 101,
      "outputs": [
        {
          "output_type": "stream",
          "name": "stdout",
          "text": [
            "<class 'pandas.core.frame.DataFrame'>\n",
            "Int64Index: 20445 entries, 0 to 20499\n",
            "Data columns (total 19 columns):\n",
            " #   Column         Non-Null Count  Dtype \n",
            "---  ------         --------------  ----- \n",
            " 0   id             20445 non-null  object\n",
            " 1   type           20445 non-null  int64 \n",
            " 2   gym            20445 non-null  int64 \n",
            " 3   lift           20445 non-null  int64 \n",
            " 4   swimming_pool  20445 non-null  int64 \n",
            " 5   negotiable     20445 non-null  int64 \n",
            " 6   furnishing     20445 non-null  int64 \n",
            " 7   parking        20445 non-null  int64 \n",
            " 8   property_size  20445 non-null  int64 \n",
            " 9   property_age   20445 non-null  int64 \n",
            " 10  bathroom       20445 non-null  int64 \n",
            " 11  facing         20445 non-null  int64 \n",
            " 12  cup_board      20445 non-null  int64 \n",
            " 13  floor          20445 non-null  int64 \n",
            " 14  total_floor    20445 non-null  int64 \n",
            " 15  water_supply   20445 non-null  int64 \n",
            " 16  building_type  20445 non-null  int64 \n",
            " 17  balconies      20445 non-null  int64 \n",
            " 18  rent           20445 non-null  int64 \n",
            "dtypes: int64(18), object(1)\n",
            "memory usage: 3.6+ MB\n"
          ]
        }
      ]
    },
    {
      "cell_type": "code",
      "source": [
        "# df1.to_csv('processeddf.csv')\n",
        "\n",
        "from google.colab import files\n",
        "\n",
        "df1.to_csv('processeddf.csv')\n",
        "files.download('processeddf.csv')"
      ],
      "metadata": {
        "colab": {
          "base_uri": "https://localhost:8080/",
          "height": 17
        },
        "id": "1YP_iTbIUVId",
        "outputId": "242c5e68-a32c-4fbd-f961-3612d4d0ed51"
      },
      "execution_count": 104,
      "outputs": [
        {
          "output_type": "display_data",
          "data": {
            "text/plain": [
              "<IPython.core.display.Javascript object>"
            ],
            "application/javascript": [
              "\n",
              "    async function download(id, filename, size) {\n",
              "      if (!google.colab.kernel.accessAllowed) {\n",
              "        return;\n",
              "      }\n",
              "      const div = document.createElement('div');\n",
              "      const label = document.createElement('label');\n",
              "      label.textContent = `Downloading \"${filename}\": `;\n",
              "      div.appendChild(label);\n",
              "      const progress = document.createElement('progress');\n",
              "      progress.max = size;\n",
              "      div.appendChild(progress);\n",
              "      document.body.appendChild(div);\n",
              "\n",
              "      const buffers = [];\n",
              "      let downloaded = 0;\n",
              "\n",
              "      const channel = await google.colab.kernel.comms.open(id);\n",
              "      // Send a message to notify the kernel that we're ready.\n",
              "      channel.send({})\n",
              "\n",
              "      for await (const message of channel.messages) {\n",
              "        // Send a message to notify the kernel that we're ready.\n",
              "        channel.send({})\n",
              "        if (message.buffers) {\n",
              "          for (const buffer of message.buffers) {\n",
              "            buffers.push(buffer);\n",
              "            downloaded += buffer.byteLength;\n",
              "            progress.value = downloaded;\n",
              "          }\n",
              "        }\n",
              "      }\n",
              "      const blob = new Blob(buffers, {type: 'application/binary'});\n",
              "      const a = document.createElement('a');\n",
              "      a.href = window.URL.createObjectURL(blob);\n",
              "      a.download = filename;\n",
              "      div.appendChild(a);\n",
              "      a.click();\n",
              "      div.remove();\n",
              "    }\n",
              "  "
            ]
          },
          "metadata": {}
        },
        {
          "output_type": "display_data",
          "data": {
            "text/plain": [
              "<IPython.core.display.Javascript object>"
            ],
            "application/javascript": [
              "download(\"download_8e3d2318-8ae9-4b81-b46b-2b5b73824696\", \"processeddf.csv\", 1662017)"
            ]
          },
          "metadata": {}
        }
      ]
    },
    {
      "cell_type": "code",
      "source": [
        "from sklearn.model_selection import train_test_split"
      ],
      "metadata": {
        "id": "2Kn_RIy80qiB"
      },
      "execution_count": 102,
      "outputs": []
    },
    {
      "cell_type": "code",
      "source": [
        "train_df1,val_df1= train_test_split(df1,test_size=0.2,random_state=42)"
      ],
      "metadata": {
        "id": "4qiWc_un0v3E"
      },
      "execution_count": 95,
      "outputs": []
    },
    {
      "cell_type": "code",
      "source": [
        "len(train_df1)"
      ],
      "metadata": {
        "colab": {
          "base_uri": "https://localhost:8080/"
        },
        "id": "U22kXPJL0zQy",
        "outputId": "2198bbb9-bddf-483a-f52d-4cbaa9f6bf46"
      },
      "execution_count": 96,
      "outputs": [
        {
          "output_type": "execute_result",
          "data": {
            "text/plain": [
              "16356"
            ]
          },
          "metadata": {},
          "execution_count": 96
        }
      ]
    },
    {
      "cell_type": "code",
      "source": [
        "len(val_df1)"
      ],
      "metadata": {
        "colab": {
          "base_uri": "https://localhost:8080/"
        },
        "id": "nSl-HBIF04ys",
        "outputId": "d18930ec-2727-4de4-efa7-a0ba1f0a46b4"
      },
      "execution_count": 97,
      "outputs": [
        {
          "output_type": "execute_result",
          "data": {
            "text/plain": [
              "4089"
            ]
          },
          "metadata": {},
          "execution_count": 97
        }
      ]
    },
    {
      "cell_type": "code",
      "source": [
        "train_df1=train_df1.dropna()\n",
        "val_df1=val_df1.dropna()"
      ],
      "metadata": {
        "id": "s4ExnKBY06NF"
      },
      "execution_count": 98,
      "outputs": []
    },
    {
      "cell_type": "code",
      "source": [
        "print(len(train_df1))\n",
        "print(len(val_df1))"
      ],
      "metadata": {
        "colab": {
          "base_uri": "https://localhost:8080/"
        },
        "id": "TAGkXTlZ1FPM",
        "outputId": "ef02930d-2c72-43f4-b089-3be2107c9b1a"
      },
      "execution_count": 99,
      "outputs": [
        {
          "output_type": "stream",
          "name": "stdout",
          "text": [
            "16356\n",
            "4089\n"
          ]
        }
      ]
    },
    {
      "cell_type": "code",
      "source": [
        "train_df1.head(5)"
      ],
      "metadata": {
        "colab": {
          "base_uri": "https://localhost:8080/",
          "height": 270
        },
        "id": "_y7uowPB1KLJ",
        "outputId": "7fe67c03-84fb-48b4-85e8-b7b2b6a8894c"
      },
      "execution_count": 101,
      "outputs": [
        {
          "output_type": "execute_result",
          "data": {
            "text/plain": [
              "                                     id  type  gym  lift  swimming_pool  \\\n",
              "10087  ff8081815239c00501523afa9bd91094  BHK1    0     0              0   \n",
              "14619  ff8081815c022dd3015c053bf6886366  BHK2    0     0              0   \n",
              "5368   ff8081814fdb74dc014fde80bf640994  BHK2    0     0              0   \n",
              "14832  ff80818162a582350162a8b4a5880000  BHK2    1     1              0   \n",
              "12448  ff80818157bd3a640157bd5fa534033e   RK1    0     0              0   \n",
              "\n",
              "       negotiable      furnishing       parking  property_size  property_age  \\\n",
              "10087           0   NOT_FURNISHED   TWO_WHEELER            600             1   \n",
              "14619           1  SEMI_FURNISHED          BOTH           1000             0   \n",
              "5368            1  SEMI_FURNISHED          BOTH           1055             1   \n",
              "14832           0  SEMI_FURNISHED  FOUR_WHEELER           1200             9   \n",
              "12448           0  SEMI_FURNISHED   TWO_WHEELER            230             3   \n",
              "\n",
              "       bathroom facing  cup_board  floor  total_floor water_supply  \\\n",
              "10087         1      E          0      1            3  CORPORATION   \n",
              "14619         2      E          2      0           13  CORPORATION   \n",
              "5368          2      E          4      3            3     BOREWELL   \n",
              "14832         2      W          2      2            4    CORP_BORE   \n",
              "12448         1      E          1      0            3  CORPORATION   \n",
              "\n",
              "      building_type  balconies   rent  \n",
              "10087            IF          0   8500  \n",
              "14619            AP          2  25000  \n",
              "5368             AP          1  21500  \n",
              "14832            AP          0  22500  \n",
              "12448            IH          0   8000  "
            ],
            "text/html": [
              "\n",
              "  <div id=\"df-a763b05a-4e84-487c-980e-56a9b117ab7d\">\n",
              "    <div class=\"colab-df-container\">\n",
              "      <div>\n",
              "<style scoped>\n",
              "    .dataframe tbody tr th:only-of-type {\n",
              "        vertical-align: middle;\n",
              "    }\n",
              "\n",
              "    .dataframe tbody tr th {\n",
              "        vertical-align: top;\n",
              "    }\n",
              "\n",
              "    .dataframe thead th {\n",
              "        text-align: right;\n",
              "    }\n",
              "</style>\n",
              "<table border=\"1\" class=\"dataframe\">\n",
              "  <thead>\n",
              "    <tr style=\"text-align: right;\">\n",
              "      <th></th>\n",
              "      <th>id</th>\n",
              "      <th>type</th>\n",
              "      <th>gym</th>\n",
              "      <th>lift</th>\n",
              "      <th>swimming_pool</th>\n",
              "      <th>negotiable</th>\n",
              "      <th>furnishing</th>\n",
              "      <th>parking</th>\n",
              "      <th>property_size</th>\n",
              "      <th>property_age</th>\n",
              "      <th>bathroom</th>\n",
              "      <th>facing</th>\n",
              "      <th>cup_board</th>\n",
              "      <th>floor</th>\n",
              "      <th>total_floor</th>\n",
              "      <th>water_supply</th>\n",
              "      <th>building_type</th>\n",
              "      <th>balconies</th>\n",
              "      <th>rent</th>\n",
              "    </tr>\n",
              "  </thead>\n",
              "  <tbody>\n",
              "    <tr>\n",
              "      <th>10087</th>\n",
              "      <td>ff8081815239c00501523afa9bd91094</td>\n",
              "      <td>BHK1</td>\n",
              "      <td>0</td>\n",
              "      <td>0</td>\n",
              "      <td>0</td>\n",
              "      <td>0</td>\n",
              "      <td>NOT_FURNISHED</td>\n",
              "      <td>TWO_WHEELER</td>\n",
              "      <td>600</td>\n",
              "      <td>1</td>\n",
              "      <td>1</td>\n",
              "      <td>E</td>\n",
              "      <td>0</td>\n",
              "      <td>1</td>\n",
              "      <td>3</td>\n",
              "      <td>CORPORATION</td>\n",
              "      <td>IF</td>\n",
              "      <td>0</td>\n",
              "      <td>8500</td>\n",
              "    </tr>\n",
              "    <tr>\n",
              "      <th>14619</th>\n",
              "      <td>ff8081815c022dd3015c053bf6886366</td>\n",
              "      <td>BHK2</td>\n",
              "      <td>0</td>\n",
              "      <td>0</td>\n",
              "      <td>0</td>\n",
              "      <td>1</td>\n",
              "      <td>SEMI_FURNISHED</td>\n",
              "      <td>BOTH</td>\n",
              "      <td>1000</td>\n",
              "      <td>0</td>\n",
              "      <td>2</td>\n",
              "      <td>E</td>\n",
              "      <td>2</td>\n",
              "      <td>0</td>\n",
              "      <td>13</td>\n",
              "      <td>CORPORATION</td>\n",
              "      <td>AP</td>\n",
              "      <td>2</td>\n",
              "      <td>25000</td>\n",
              "    </tr>\n",
              "    <tr>\n",
              "      <th>5368</th>\n",
              "      <td>ff8081814fdb74dc014fde80bf640994</td>\n",
              "      <td>BHK2</td>\n",
              "      <td>0</td>\n",
              "      <td>0</td>\n",
              "      <td>0</td>\n",
              "      <td>1</td>\n",
              "      <td>SEMI_FURNISHED</td>\n",
              "      <td>BOTH</td>\n",
              "      <td>1055</td>\n",
              "      <td>1</td>\n",
              "      <td>2</td>\n",
              "      <td>E</td>\n",
              "      <td>4</td>\n",
              "      <td>3</td>\n",
              "      <td>3</td>\n",
              "      <td>BOREWELL</td>\n",
              "      <td>AP</td>\n",
              "      <td>1</td>\n",
              "      <td>21500</td>\n",
              "    </tr>\n",
              "    <tr>\n",
              "      <th>14832</th>\n",
              "      <td>ff80818162a582350162a8b4a5880000</td>\n",
              "      <td>BHK2</td>\n",
              "      <td>1</td>\n",
              "      <td>1</td>\n",
              "      <td>0</td>\n",
              "      <td>0</td>\n",
              "      <td>SEMI_FURNISHED</td>\n",
              "      <td>FOUR_WHEELER</td>\n",
              "      <td>1200</td>\n",
              "      <td>9</td>\n",
              "      <td>2</td>\n",
              "      <td>W</td>\n",
              "      <td>2</td>\n",
              "      <td>2</td>\n",
              "      <td>4</td>\n",
              "      <td>CORP_BORE</td>\n",
              "      <td>AP</td>\n",
              "      <td>0</td>\n",
              "      <td>22500</td>\n",
              "    </tr>\n",
              "    <tr>\n",
              "      <th>12448</th>\n",
              "      <td>ff80818157bd3a640157bd5fa534033e</td>\n",
              "      <td>RK1</td>\n",
              "      <td>0</td>\n",
              "      <td>0</td>\n",
              "      <td>0</td>\n",
              "      <td>0</td>\n",
              "      <td>SEMI_FURNISHED</td>\n",
              "      <td>TWO_WHEELER</td>\n",
              "      <td>230</td>\n",
              "      <td>3</td>\n",
              "      <td>1</td>\n",
              "      <td>E</td>\n",
              "      <td>1</td>\n",
              "      <td>0</td>\n",
              "      <td>3</td>\n",
              "      <td>CORPORATION</td>\n",
              "      <td>IH</td>\n",
              "      <td>0</td>\n",
              "      <td>8000</td>\n",
              "    </tr>\n",
              "  </tbody>\n",
              "</table>\n",
              "</div>\n",
              "      <button class=\"colab-df-convert\" onclick=\"convertToInteractive('df-a763b05a-4e84-487c-980e-56a9b117ab7d')\"\n",
              "              title=\"Convert this dataframe to an interactive table.\"\n",
              "              style=\"display:none;\">\n",
              "        \n",
              "  <svg xmlns=\"http://www.w3.org/2000/svg\" height=\"24px\"viewBox=\"0 0 24 24\"\n",
              "       width=\"24px\">\n",
              "    <path d=\"M0 0h24v24H0V0z\" fill=\"none\"/>\n",
              "    <path d=\"M18.56 5.44l.94 2.06.94-2.06 2.06-.94-2.06-.94-.94-2.06-.94 2.06-2.06.94zm-11 1L8.5 8.5l.94-2.06 2.06-.94-2.06-.94L8.5 2.5l-.94 2.06-2.06.94zm10 10l.94 2.06.94-2.06 2.06-.94-2.06-.94-.94-2.06-.94 2.06-2.06.94z\"/><path d=\"M17.41 7.96l-1.37-1.37c-.4-.4-.92-.59-1.43-.59-.52 0-1.04.2-1.43.59L10.3 9.45l-7.72 7.72c-.78.78-.78 2.05 0 2.83L4 21.41c.39.39.9.59 1.41.59.51 0 1.02-.2 1.41-.59l7.78-7.78 2.81-2.81c.8-.78.8-2.07 0-2.86zM5.41 20L4 18.59l7.72-7.72 1.47 1.35L5.41 20z\"/>\n",
              "  </svg>\n",
              "      </button>\n",
              "      \n",
              "  <style>\n",
              "    .colab-df-container {\n",
              "      display:flex;\n",
              "      flex-wrap:wrap;\n",
              "      gap: 12px;\n",
              "    }\n",
              "\n",
              "    .colab-df-convert {\n",
              "      background-color: #E8F0FE;\n",
              "      border: none;\n",
              "      border-radius: 50%;\n",
              "      cursor: pointer;\n",
              "      display: none;\n",
              "      fill: #1967D2;\n",
              "      height: 32px;\n",
              "      padding: 0 0 0 0;\n",
              "      width: 32px;\n",
              "    }\n",
              "\n",
              "    .colab-df-convert:hover {\n",
              "      background-color: #E2EBFA;\n",
              "      box-shadow: 0px 1px 2px rgba(60, 64, 67, 0.3), 0px 1px 3px 1px rgba(60, 64, 67, 0.15);\n",
              "      fill: #174EA6;\n",
              "    }\n",
              "\n",
              "    [theme=dark] .colab-df-convert {\n",
              "      background-color: #3B4455;\n",
              "      fill: #D2E3FC;\n",
              "    }\n",
              "\n",
              "    [theme=dark] .colab-df-convert:hover {\n",
              "      background-color: #434B5C;\n",
              "      box-shadow: 0px 1px 3px 1px rgba(0, 0, 0, 0.15);\n",
              "      filter: drop-shadow(0px 1px 2px rgba(0, 0, 0, 0.3));\n",
              "      fill: #FFFFFF;\n",
              "    }\n",
              "  </style>\n",
              "\n",
              "      <script>\n",
              "        const buttonEl =\n",
              "          document.querySelector('#df-a763b05a-4e84-487c-980e-56a9b117ab7d button.colab-df-convert');\n",
              "        buttonEl.style.display =\n",
              "          google.colab.kernel.accessAllowed ? 'block' : 'none';\n",
              "\n",
              "        async function convertToInteractive(key) {\n",
              "          const element = document.querySelector('#df-a763b05a-4e84-487c-980e-56a9b117ab7d');\n",
              "          const dataTable =\n",
              "            await google.colab.kernel.invokeFunction('convertToInteractive',\n",
              "                                                     [key], {});\n",
              "          if (!dataTable) return;\n",
              "\n",
              "          const docLinkHtml = 'Like what you see? Visit the ' +\n",
              "            '<a target=\"_blank\" href=https://colab.research.google.com/notebooks/data_table.ipynb>data table notebook</a>'\n",
              "            + ' to learn more about interactive tables.';\n",
              "          element.innerHTML = '';\n",
              "          dataTable['output_type'] = 'display_data';\n",
              "          await google.colab.output.renderOutput(dataTable, element);\n",
              "          const docLink = document.createElement('div');\n",
              "          docLink.innerHTML = docLinkHtml;\n",
              "          element.appendChild(docLink);\n",
              "        }\n",
              "      </script>\n",
              "    </div>\n",
              "  </div>\n",
              "  "
            ]
          },
          "metadata": {},
          "execution_count": 101
        }
      ]
    },
    {
      "cell_type": "code",
      "source": [
        "val_df1.head(5)"
      ],
      "metadata": {
        "colab": {
          "base_uri": "https://localhost:8080/",
          "height": 270
        },
        "id": "b3V8Iqbm22st",
        "outputId": "fc6453ad-a652-4cc5-b9a2-2c7d22975a70"
      },
      "execution_count": 103,
      "outputs": [
        {
          "output_type": "execute_result",
          "data": {
            "text/plain": [
              "                                     id  type  gym  lift  swimming_pool  \\\n",
              "16330  ff8081816108a00501610915abc93a4b  BHK3    1     1              1   \n",
              "7850   ff8081815aacc98e015aae15194752a5  BHK2    0     0              0   \n",
              "13547  ff80818158de4fb60158dea009ce0ed2   RK1    0     0              0   \n",
              "5565   ff80818160204e9b0160267e7faf7a7f  BHK2    0     0              0   \n",
              "10606  ff808181638d2a350163909b97eb7088  BHK2    0     0              0   \n",
              "\n",
              "       negotiable      furnishing      parking  property_size  property_age  \\\n",
              "16330           1  SEMI_FURNISHED         BOTH           1505             1   \n",
              "7850            1  SEMI_FURNISHED  TWO_WHEELER            743            15   \n",
              "13547           0  SEMI_FURNISHED  TWO_WHEELER            200            10   \n",
              "5565            1  SEMI_FURNISHED         BOTH           1000             0   \n",
              "10606           0  SEMI_FURNISHED  TWO_WHEELER            500            10   \n",
              "\n",
              "       bathroom facing  cup_board  floor  total_floor water_supply  \\\n",
              "16330         2      N          3      3            5  CORPORATION   \n",
              "7850          2      N          2      1            2  CORPORATION   \n",
              "13547         1      W          1      0            3  CORPORATION   \n",
              "5565          2      N          2      0            3    CORP_BORE   \n",
              "10606         1      S          2      1            3    CORP_BORE   \n",
              "\n",
              "      building_type  balconies   rent  \n",
              "16330            AP          2  22000  \n",
              "7850             IF          0  22000  \n",
              "13547            IH          1   8250  \n",
              "5565             AP          0  20000  \n",
              "10606            AP          1  12500  "
            ],
            "text/html": [
              "\n",
              "  <div id=\"df-7a6c693a-1ca3-4ff7-8251-9fe3ee185db9\">\n",
              "    <div class=\"colab-df-container\">\n",
              "      <div>\n",
              "<style scoped>\n",
              "    .dataframe tbody tr th:only-of-type {\n",
              "        vertical-align: middle;\n",
              "    }\n",
              "\n",
              "    .dataframe tbody tr th {\n",
              "        vertical-align: top;\n",
              "    }\n",
              "\n",
              "    .dataframe thead th {\n",
              "        text-align: right;\n",
              "    }\n",
              "</style>\n",
              "<table border=\"1\" class=\"dataframe\">\n",
              "  <thead>\n",
              "    <tr style=\"text-align: right;\">\n",
              "      <th></th>\n",
              "      <th>id</th>\n",
              "      <th>type</th>\n",
              "      <th>gym</th>\n",
              "      <th>lift</th>\n",
              "      <th>swimming_pool</th>\n",
              "      <th>negotiable</th>\n",
              "      <th>furnishing</th>\n",
              "      <th>parking</th>\n",
              "      <th>property_size</th>\n",
              "      <th>property_age</th>\n",
              "      <th>bathroom</th>\n",
              "      <th>facing</th>\n",
              "      <th>cup_board</th>\n",
              "      <th>floor</th>\n",
              "      <th>total_floor</th>\n",
              "      <th>water_supply</th>\n",
              "      <th>building_type</th>\n",
              "      <th>balconies</th>\n",
              "      <th>rent</th>\n",
              "    </tr>\n",
              "  </thead>\n",
              "  <tbody>\n",
              "    <tr>\n",
              "      <th>16330</th>\n",
              "      <td>ff8081816108a00501610915abc93a4b</td>\n",
              "      <td>BHK3</td>\n",
              "      <td>1</td>\n",
              "      <td>1</td>\n",
              "      <td>1</td>\n",
              "      <td>1</td>\n",
              "      <td>SEMI_FURNISHED</td>\n",
              "      <td>BOTH</td>\n",
              "      <td>1505</td>\n",
              "      <td>1</td>\n",
              "      <td>2</td>\n",
              "      <td>N</td>\n",
              "      <td>3</td>\n",
              "      <td>3</td>\n",
              "      <td>5</td>\n",
              "      <td>CORPORATION</td>\n",
              "      <td>AP</td>\n",
              "      <td>2</td>\n",
              "      <td>22000</td>\n",
              "    </tr>\n",
              "    <tr>\n",
              "      <th>7850</th>\n",
              "      <td>ff8081815aacc98e015aae15194752a5</td>\n",
              "      <td>BHK2</td>\n",
              "      <td>0</td>\n",
              "      <td>0</td>\n",
              "      <td>0</td>\n",
              "      <td>1</td>\n",
              "      <td>SEMI_FURNISHED</td>\n",
              "      <td>TWO_WHEELER</td>\n",
              "      <td>743</td>\n",
              "      <td>15</td>\n",
              "      <td>2</td>\n",
              "      <td>N</td>\n",
              "      <td>2</td>\n",
              "      <td>1</td>\n",
              "      <td>2</td>\n",
              "      <td>CORPORATION</td>\n",
              "      <td>IF</td>\n",
              "      <td>0</td>\n",
              "      <td>22000</td>\n",
              "    </tr>\n",
              "    <tr>\n",
              "      <th>13547</th>\n",
              "      <td>ff80818158de4fb60158dea009ce0ed2</td>\n",
              "      <td>RK1</td>\n",
              "      <td>0</td>\n",
              "      <td>0</td>\n",
              "      <td>0</td>\n",
              "      <td>0</td>\n",
              "      <td>SEMI_FURNISHED</td>\n",
              "      <td>TWO_WHEELER</td>\n",
              "      <td>200</td>\n",
              "      <td>10</td>\n",
              "      <td>1</td>\n",
              "      <td>W</td>\n",
              "      <td>1</td>\n",
              "      <td>0</td>\n",
              "      <td>3</td>\n",
              "      <td>CORPORATION</td>\n",
              "      <td>IH</td>\n",
              "      <td>1</td>\n",
              "      <td>8250</td>\n",
              "    </tr>\n",
              "    <tr>\n",
              "      <th>5565</th>\n",
              "      <td>ff80818160204e9b0160267e7faf7a7f</td>\n",
              "      <td>BHK2</td>\n",
              "      <td>0</td>\n",
              "      <td>0</td>\n",
              "      <td>0</td>\n",
              "      <td>1</td>\n",
              "      <td>SEMI_FURNISHED</td>\n",
              "      <td>BOTH</td>\n",
              "      <td>1000</td>\n",
              "      <td>0</td>\n",
              "      <td>2</td>\n",
              "      <td>N</td>\n",
              "      <td>2</td>\n",
              "      <td>0</td>\n",
              "      <td>3</td>\n",
              "      <td>CORP_BORE</td>\n",
              "      <td>AP</td>\n",
              "      <td>0</td>\n",
              "      <td>20000</td>\n",
              "    </tr>\n",
              "    <tr>\n",
              "      <th>10606</th>\n",
              "      <td>ff808181638d2a350163909b97eb7088</td>\n",
              "      <td>BHK2</td>\n",
              "      <td>0</td>\n",
              "      <td>0</td>\n",
              "      <td>0</td>\n",
              "      <td>0</td>\n",
              "      <td>SEMI_FURNISHED</td>\n",
              "      <td>TWO_WHEELER</td>\n",
              "      <td>500</td>\n",
              "      <td>10</td>\n",
              "      <td>1</td>\n",
              "      <td>S</td>\n",
              "      <td>2</td>\n",
              "      <td>1</td>\n",
              "      <td>3</td>\n",
              "      <td>CORP_BORE</td>\n",
              "      <td>AP</td>\n",
              "      <td>1</td>\n",
              "      <td>12500</td>\n",
              "    </tr>\n",
              "  </tbody>\n",
              "</table>\n",
              "</div>\n",
              "      <button class=\"colab-df-convert\" onclick=\"convertToInteractive('df-7a6c693a-1ca3-4ff7-8251-9fe3ee185db9')\"\n",
              "              title=\"Convert this dataframe to an interactive table.\"\n",
              "              style=\"display:none;\">\n",
              "        \n",
              "  <svg xmlns=\"http://www.w3.org/2000/svg\" height=\"24px\"viewBox=\"0 0 24 24\"\n",
              "       width=\"24px\">\n",
              "    <path d=\"M0 0h24v24H0V0z\" fill=\"none\"/>\n",
              "    <path d=\"M18.56 5.44l.94 2.06.94-2.06 2.06-.94-2.06-.94-.94-2.06-.94 2.06-2.06.94zm-11 1L8.5 8.5l.94-2.06 2.06-.94-2.06-.94L8.5 2.5l-.94 2.06-2.06.94zm10 10l.94 2.06.94-2.06 2.06-.94-2.06-.94-.94-2.06-.94 2.06-2.06.94z\"/><path d=\"M17.41 7.96l-1.37-1.37c-.4-.4-.92-.59-1.43-.59-.52 0-1.04.2-1.43.59L10.3 9.45l-7.72 7.72c-.78.78-.78 2.05 0 2.83L4 21.41c.39.39.9.59 1.41.59.51 0 1.02-.2 1.41-.59l7.78-7.78 2.81-2.81c.8-.78.8-2.07 0-2.86zM5.41 20L4 18.59l7.72-7.72 1.47 1.35L5.41 20z\"/>\n",
              "  </svg>\n",
              "      </button>\n",
              "      \n",
              "  <style>\n",
              "    .colab-df-container {\n",
              "      display:flex;\n",
              "      flex-wrap:wrap;\n",
              "      gap: 12px;\n",
              "    }\n",
              "\n",
              "    .colab-df-convert {\n",
              "      background-color: #E8F0FE;\n",
              "      border: none;\n",
              "      border-radius: 50%;\n",
              "      cursor: pointer;\n",
              "      display: none;\n",
              "      fill: #1967D2;\n",
              "      height: 32px;\n",
              "      padding: 0 0 0 0;\n",
              "      width: 32px;\n",
              "    }\n",
              "\n",
              "    .colab-df-convert:hover {\n",
              "      background-color: #E2EBFA;\n",
              "      box-shadow: 0px 1px 2px rgba(60, 64, 67, 0.3), 0px 1px 3px 1px rgba(60, 64, 67, 0.15);\n",
              "      fill: #174EA6;\n",
              "    }\n",
              "\n",
              "    [theme=dark] .colab-df-convert {\n",
              "      background-color: #3B4455;\n",
              "      fill: #D2E3FC;\n",
              "    }\n",
              "\n",
              "    [theme=dark] .colab-df-convert:hover {\n",
              "      background-color: #434B5C;\n",
              "      box-shadow: 0px 1px 3px 1px rgba(0, 0, 0, 0.15);\n",
              "      filter: drop-shadow(0px 1px 2px rgba(0, 0, 0, 0.3));\n",
              "      fill: #FFFFFF;\n",
              "    }\n",
              "  </style>\n",
              "\n",
              "      <script>\n",
              "        const buttonEl =\n",
              "          document.querySelector('#df-7a6c693a-1ca3-4ff7-8251-9fe3ee185db9 button.colab-df-convert');\n",
              "        buttonEl.style.display =\n",
              "          google.colab.kernel.accessAllowed ? 'block' : 'none';\n",
              "\n",
              "        async function convertToInteractive(key) {\n",
              "          const element = document.querySelector('#df-7a6c693a-1ca3-4ff7-8251-9fe3ee185db9');\n",
              "          const dataTable =\n",
              "            await google.colab.kernel.invokeFunction('convertToInteractive',\n",
              "                                                     [key], {});\n",
              "          if (!dataTable) return;\n",
              "\n",
              "          const docLinkHtml = 'Like what you see? Visit the ' +\n",
              "            '<a target=\"_blank\" href=https://colab.research.google.com/notebooks/data_table.ipynb>data table notebook</a>'\n",
              "            + ' to learn more about interactive tables.';\n",
              "          element.innerHTML = '';\n",
              "          dataTable['output_type'] = 'display_data';\n",
              "          await google.colab.output.renderOutput(dataTable, element);\n",
              "          const docLink = document.createElement('div');\n",
              "          docLink.innerHTML = docLinkHtml;\n",
              "          element.appendChild(docLink);\n",
              "        }\n",
              "      </script>\n",
              "    </div>\n",
              "  </div>\n",
              "  "
            ]
          },
          "metadata": {},
          "execution_count": 103
        }
      ]
    },
    {
      "cell_type": "code",
      "source": [
        "input_cols=['id',\n",
        " 'type',\n",
        " 'gym',\n",
        " 'lift',\n",
        " 'swimming_pool',\n",
        " 'negotiable',\n",
        " 'furnishing',\n",
        " 'parking',\n",
        " 'property_size',\n",
        " 'property_age',\n",
        " 'bathroom',\n",
        " 'facing',\n",
        " 'cup_board',\n",
        " 'floor',\n",
        " 'total_floor',\n",
        " 'water_supply',\n",
        " 'building_type',\n",
        " 'balconies',\n",
        " ]"
      ],
      "metadata": {
        "id": "ieQElgur27K6"
      },
      "execution_count": 104,
      "outputs": []
    },
    {
      "cell_type": "code",
      "source": [
        "target_cols=['rent']"
      ],
      "metadata": {
        "id": "e9Eu_06c3J55"
      },
      "execution_count": 105,
      "outputs": []
    },
    {
      "cell_type": "code",
      "source": [
        "train_inputs1=train_df1[input_cols]\n",
        "train_inputs1.head(5)"
      ],
      "metadata": {
        "colab": {
          "base_uri": "https://localhost:8080/",
          "height": 270
        },
        "id": "WIbYBCZt3MAp",
        "outputId": "25e419f0-ba53-436c-f49a-08d57e5d290d"
      },
      "execution_count": 108,
      "outputs": [
        {
          "output_type": "execute_result",
          "data": {
            "text/plain": [
              "                                     id  type  gym  lift  swimming_pool  \\\n",
              "10087  ff8081815239c00501523afa9bd91094  BHK1    0     0              0   \n",
              "14619  ff8081815c022dd3015c053bf6886366  BHK2    0     0              0   \n",
              "5368   ff8081814fdb74dc014fde80bf640994  BHK2    0     0              0   \n",
              "14832  ff80818162a582350162a8b4a5880000  BHK2    1     1              0   \n",
              "12448  ff80818157bd3a640157bd5fa534033e   RK1    0     0              0   \n",
              "\n",
              "       negotiable      furnishing       parking  property_size  property_age  \\\n",
              "10087           0   NOT_FURNISHED   TWO_WHEELER            600             1   \n",
              "14619           1  SEMI_FURNISHED          BOTH           1000             0   \n",
              "5368            1  SEMI_FURNISHED          BOTH           1055             1   \n",
              "14832           0  SEMI_FURNISHED  FOUR_WHEELER           1200             9   \n",
              "12448           0  SEMI_FURNISHED   TWO_WHEELER            230             3   \n",
              "\n",
              "       bathroom facing  cup_board  floor  total_floor water_supply  \\\n",
              "10087         1      E          0      1            3  CORPORATION   \n",
              "14619         2      E          2      0           13  CORPORATION   \n",
              "5368          2      E          4      3            3     BOREWELL   \n",
              "14832         2      W          2      2            4    CORP_BORE   \n",
              "12448         1      E          1      0            3  CORPORATION   \n",
              "\n",
              "      building_type  balconies  \n",
              "10087            IF          0  \n",
              "14619            AP          2  \n",
              "5368             AP          1  \n",
              "14832            AP          0  \n",
              "12448            IH          0  "
            ],
            "text/html": [
              "\n",
              "  <div id=\"df-38b97770-bff3-4bd3-9a6a-efad57abd94d\">\n",
              "    <div class=\"colab-df-container\">\n",
              "      <div>\n",
              "<style scoped>\n",
              "    .dataframe tbody tr th:only-of-type {\n",
              "        vertical-align: middle;\n",
              "    }\n",
              "\n",
              "    .dataframe tbody tr th {\n",
              "        vertical-align: top;\n",
              "    }\n",
              "\n",
              "    .dataframe thead th {\n",
              "        text-align: right;\n",
              "    }\n",
              "</style>\n",
              "<table border=\"1\" class=\"dataframe\">\n",
              "  <thead>\n",
              "    <tr style=\"text-align: right;\">\n",
              "      <th></th>\n",
              "      <th>id</th>\n",
              "      <th>type</th>\n",
              "      <th>gym</th>\n",
              "      <th>lift</th>\n",
              "      <th>swimming_pool</th>\n",
              "      <th>negotiable</th>\n",
              "      <th>furnishing</th>\n",
              "      <th>parking</th>\n",
              "      <th>property_size</th>\n",
              "      <th>property_age</th>\n",
              "      <th>bathroom</th>\n",
              "      <th>facing</th>\n",
              "      <th>cup_board</th>\n",
              "      <th>floor</th>\n",
              "      <th>total_floor</th>\n",
              "      <th>water_supply</th>\n",
              "      <th>building_type</th>\n",
              "      <th>balconies</th>\n",
              "    </tr>\n",
              "  </thead>\n",
              "  <tbody>\n",
              "    <tr>\n",
              "      <th>10087</th>\n",
              "      <td>ff8081815239c00501523afa9bd91094</td>\n",
              "      <td>BHK1</td>\n",
              "      <td>0</td>\n",
              "      <td>0</td>\n",
              "      <td>0</td>\n",
              "      <td>0</td>\n",
              "      <td>NOT_FURNISHED</td>\n",
              "      <td>TWO_WHEELER</td>\n",
              "      <td>600</td>\n",
              "      <td>1</td>\n",
              "      <td>1</td>\n",
              "      <td>E</td>\n",
              "      <td>0</td>\n",
              "      <td>1</td>\n",
              "      <td>3</td>\n",
              "      <td>CORPORATION</td>\n",
              "      <td>IF</td>\n",
              "      <td>0</td>\n",
              "    </tr>\n",
              "    <tr>\n",
              "      <th>14619</th>\n",
              "      <td>ff8081815c022dd3015c053bf6886366</td>\n",
              "      <td>BHK2</td>\n",
              "      <td>0</td>\n",
              "      <td>0</td>\n",
              "      <td>0</td>\n",
              "      <td>1</td>\n",
              "      <td>SEMI_FURNISHED</td>\n",
              "      <td>BOTH</td>\n",
              "      <td>1000</td>\n",
              "      <td>0</td>\n",
              "      <td>2</td>\n",
              "      <td>E</td>\n",
              "      <td>2</td>\n",
              "      <td>0</td>\n",
              "      <td>13</td>\n",
              "      <td>CORPORATION</td>\n",
              "      <td>AP</td>\n",
              "      <td>2</td>\n",
              "    </tr>\n",
              "    <tr>\n",
              "      <th>5368</th>\n",
              "      <td>ff8081814fdb74dc014fde80bf640994</td>\n",
              "      <td>BHK2</td>\n",
              "      <td>0</td>\n",
              "      <td>0</td>\n",
              "      <td>0</td>\n",
              "      <td>1</td>\n",
              "      <td>SEMI_FURNISHED</td>\n",
              "      <td>BOTH</td>\n",
              "      <td>1055</td>\n",
              "      <td>1</td>\n",
              "      <td>2</td>\n",
              "      <td>E</td>\n",
              "      <td>4</td>\n",
              "      <td>3</td>\n",
              "      <td>3</td>\n",
              "      <td>BOREWELL</td>\n",
              "      <td>AP</td>\n",
              "      <td>1</td>\n",
              "    </tr>\n",
              "    <tr>\n",
              "      <th>14832</th>\n",
              "      <td>ff80818162a582350162a8b4a5880000</td>\n",
              "      <td>BHK2</td>\n",
              "      <td>1</td>\n",
              "      <td>1</td>\n",
              "      <td>0</td>\n",
              "      <td>0</td>\n",
              "      <td>SEMI_FURNISHED</td>\n",
              "      <td>FOUR_WHEELER</td>\n",
              "      <td>1200</td>\n",
              "      <td>9</td>\n",
              "      <td>2</td>\n",
              "      <td>W</td>\n",
              "      <td>2</td>\n",
              "      <td>2</td>\n",
              "      <td>4</td>\n",
              "      <td>CORP_BORE</td>\n",
              "      <td>AP</td>\n",
              "      <td>0</td>\n",
              "    </tr>\n",
              "    <tr>\n",
              "      <th>12448</th>\n",
              "      <td>ff80818157bd3a640157bd5fa534033e</td>\n",
              "      <td>RK1</td>\n",
              "      <td>0</td>\n",
              "      <td>0</td>\n",
              "      <td>0</td>\n",
              "      <td>0</td>\n",
              "      <td>SEMI_FURNISHED</td>\n",
              "      <td>TWO_WHEELER</td>\n",
              "      <td>230</td>\n",
              "      <td>3</td>\n",
              "      <td>1</td>\n",
              "      <td>E</td>\n",
              "      <td>1</td>\n",
              "      <td>0</td>\n",
              "      <td>3</td>\n",
              "      <td>CORPORATION</td>\n",
              "      <td>IH</td>\n",
              "      <td>0</td>\n",
              "    </tr>\n",
              "  </tbody>\n",
              "</table>\n",
              "</div>\n",
              "      <button class=\"colab-df-convert\" onclick=\"convertToInteractive('df-38b97770-bff3-4bd3-9a6a-efad57abd94d')\"\n",
              "              title=\"Convert this dataframe to an interactive table.\"\n",
              "              style=\"display:none;\">\n",
              "        \n",
              "  <svg xmlns=\"http://www.w3.org/2000/svg\" height=\"24px\"viewBox=\"0 0 24 24\"\n",
              "       width=\"24px\">\n",
              "    <path d=\"M0 0h24v24H0V0z\" fill=\"none\"/>\n",
              "    <path d=\"M18.56 5.44l.94 2.06.94-2.06 2.06-.94-2.06-.94-.94-2.06-.94 2.06-2.06.94zm-11 1L8.5 8.5l.94-2.06 2.06-.94-2.06-.94L8.5 2.5l-.94 2.06-2.06.94zm10 10l.94 2.06.94-2.06 2.06-.94-2.06-.94-.94-2.06-.94 2.06-2.06.94z\"/><path d=\"M17.41 7.96l-1.37-1.37c-.4-.4-.92-.59-1.43-.59-.52 0-1.04.2-1.43.59L10.3 9.45l-7.72 7.72c-.78.78-.78 2.05 0 2.83L4 21.41c.39.39.9.59 1.41.59.51 0 1.02-.2 1.41-.59l7.78-7.78 2.81-2.81c.8-.78.8-2.07 0-2.86zM5.41 20L4 18.59l7.72-7.72 1.47 1.35L5.41 20z\"/>\n",
              "  </svg>\n",
              "      </button>\n",
              "      \n",
              "  <style>\n",
              "    .colab-df-container {\n",
              "      display:flex;\n",
              "      flex-wrap:wrap;\n",
              "      gap: 12px;\n",
              "    }\n",
              "\n",
              "    .colab-df-convert {\n",
              "      background-color: #E8F0FE;\n",
              "      border: none;\n",
              "      border-radius: 50%;\n",
              "      cursor: pointer;\n",
              "      display: none;\n",
              "      fill: #1967D2;\n",
              "      height: 32px;\n",
              "      padding: 0 0 0 0;\n",
              "      width: 32px;\n",
              "    }\n",
              "\n",
              "    .colab-df-convert:hover {\n",
              "      background-color: #E2EBFA;\n",
              "      box-shadow: 0px 1px 2px rgba(60, 64, 67, 0.3), 0px 1px 3px 1px rgba(60, 64, 67, 0.15);\n",
              "      fill: #174EA6;\n",
              "    }\n",
              "\n",
              "    [theme=dark] .colab-df-convert {\n",
              "      background-color: #3B4455;\n",
              "      fill: #D2E3FC;\n",
              "    }\n",
              "\n",
              "    [theme=dark] .colab-df-convert:hover {\n",
              "      background-color: #434B5C;\n",
              "      box-shadow: 0px 1px 3px 1px rgba(0, 0, 0, 0.15);\n",
              "      filter: drop-shadow(0px 1px 2px rgba(0, 0, 0, 0.3));\n",
              "      fill: #FFFFFF;\n",
              "    }\n",
              "  </style>\n",
              "\n",
              "      <script>\n",
              "        const buttonEl =\n",
              "          document.querySelector('#df-38b97770-bff3-4bd3-9a6a-efad57abd94d button.colab-df-convert');\n",
              "        buttonEl.style.display =\n",
              "          google.colab.kernel.accessAllowed ? 'block' : 'none';\n",
              "\n",
              "        async function convertToInteractive(key) {\n",
              "          const element = document.querySelector('#df-38b97770-bff3-4bd3-9a6a-efad57abd94d');\n",
              "          const dataTable =\n",
              "            await google.colab.kernel.invokeFunction('convertToInteractive',\n",
              "                                                     [key], {});\n",
              "          if (!dataTable) return;\n",
              "\n",
              "          const docLinkHtml = 'Like what you see? Visit the ' +\n",
              "            '<a target=\"_blank\" href=https://colab.research.google.com/notebooks/data_table.ipynb>data table notebook</a>'\n",
              "            + ' to learn more about interactive tables.';\n",
              "          element.innerHTML = '';\n",
              "          dataTable['output_type'] = 'display_data';\n",
              "          await google.colab.output.renderOutput(dataTable, element);\n",
              "          const docLink = document.createElement('div');\n",
              "          docLink.innerHTML = docLinkHtml;\n",
              "          element.appendChild(docLink);\n",
              "        }\n",
              "      </script>\n",
              "    </div>\n",
              "  </div>\n",
              "  "
            ]
          },
          "metadata": {},
          "execution_count": 108
        }
      ]
    },
    {
      "cell_type": "code",
      "source": [
        "train_targets=train_df1[target_cols]\n",
        "train_targets.head(5)"
      ],
      "metadata": {
        "colab": {
          "base_uri": "https://localhost:8080/",
          "height": 206
        },
        "id": "cbwzxX8a3bjv",
        "outputId": "a4ee2fbd-e2a9-4ab3-a12c-23133eff6c62"
      },
      "execution_count": 110,
      "outputs": [
        {
          "output_type": "execute_result",
          "data": {
            "text/plain": [
              "        rent\n",
              "10087   8500\n",
              "14619  25000\n",
              "5368   21500\n",
              "14832  22500\n",
              "12448   8000"
            ],
            "text/html": [
              "\n",
              "  <div id=\"df-aa07abc4-5c46-4b2e-aaff-f385a914ff16\">\n",
              "    <div class=\"colab-df-container\">\n",
              "      <div>\n",
              "<style scoped>\n",
              "    .dataframe tbody tr th:only-of-type {\n",
              "        vertical-align: middle;\n",
              "    }\n",
              "\n",
              "    .dataframe tbody tr th {\n",
              "        vertical-align: top;\n",
              "    }\n",
              "\n",
              "    .dataframe thead th {\n",
              "        text-align: right;\n",
              "    }\n",
              "</style>\n",
              "<table border=\"1\" class=\"dataframe\">\n",
              "  <thead>\n",
              "    <tr style=\"text-align: right;\">\n",
              "      <th></th>\n",
              "      <th>rent</th>\n",
              "    </tr>\n",
              "  </thead>\n",
              "  <tbody>\n",
              "    <tr>\n",
              "      <th>10087</th>\n",
              "      <td>8500</td>\n",
              "    </tr>\n",
              "    <tr>\n",
              "      <th>14619</th>\n",
              "      <td>25000</td>\n",
              "    </tr>\n",
              "    <tr>\n",
              "      <th>5368</th>\n",
              "      <td>21500</td>\n",
              "    </tr>\n",
              "    <tr>\n",
              "      <th>14832</th>\n",
              "      <td>22500</td>\n",
              "    </tr>\n",
              "    <tr>\n",
              "      <th>12448</th>\n",
              "      <td>8000</td>\n",
              "    </tr>\n",
              "  </tbody>\n",
              "</table>\n",
              "</div>\n",
              "      <button class=\"colab-df-convert\" onclick=\"convertToInteractive('df-aa07abc4-5c46-4b2e-aaff-f385a914ff16')\"\n",
              "              title=\"Convert this dataframe to an interactive table.\"\n",
              "              style=\"display:none;\">\n",
              "        \n",
              "  <svg xmlns=\"http://www.w3.org/2000/svg\" height=\"24px\"viewBox=\"0 0 24 24\"\n",
              "       width=\"24px\">\n",
              "    <path d=\"M0 0h24v24H0V0z\" fill=\"none\"/>\n",
              "    <path d=\"M18.56 5.44l.94 2.06.94-2.06 2.06-.94-2.06-.94-.94-2.06-.94 2.06-2.06.94zm-11 1L8.5 8.5l.94-2.06 2.06-.94-2.06-.94L8.5 2.5l-.94 2.06-2.06.94zm10 10l.94 2.06.94-2.06 2.06-.94-2.06-.94-.94-2.06-.94 2.06-2.06.94z\"/><path d=\"M17.41 7.96l-1.37-1.37c-.4-.4-.92-.59-1.43-.59-.52 0-1.04.2-1.43.59L10.3 9.45l-7.72 7.72c-.78.78-.78 2.05 0 2.83L4 21.41c.39.39.9.59 1.41.59.51 0 1.02-.2 1.41-.59l7.78-7.78 2.81-2.81c.8-.78.8-2.07 0-2.86zM5.41 20L4 18.59l7.72-7.72 1.47 1.35L5.41 20z\"/>\n",
              "  </svg>\n",
              "      </button>\n",
              "      \n",
              "  <style>\n",
              "    .colab-df-container {\n",
              "      display:flex;\n",
              "      flex-wrap:wrap;\n",
              "      gap: 12px;\n",
              "    }\n",
              "\n",
              "    .colab-df-convert {\n",
              "      background-color: #E8F0FE;\n",
              "      border: none;\n",
              "      border-radius: 50%;\n",
              "      cursor: pointer;\n",
              "      display: none;\n",
              "      fill: #1967D2;\n",
              "      height: 32px;\n",
              "      padding: 0 0 0 0;\n",
              "      width: 32px;\n",
              "    }\n",
              "\n",
              "    .colab-df-convert:hover {\n",
              "      background-color: #E2EBFA;\n",
              "      box-shadow: 0px 1px 2px rgba(60, 64, 67, 0.3), 0px 1px 3px 1px rgba(60, 64, 67, 0.15);\n",
              "      fill: #174EA6;\n",
              "    }\n",
              "\n",
              "    [theme=dark] .colab-df-convert {\n",
              "      background-color: #3B4455;\n",
              "      fill: #D2E3FC;\n",
              "    }\n",
              "\n",
              "    [theme=dark] .colab-df-convert:hover {\n",
              "      background-color: #434B5C;\n",
              "      box-shadow: 0px 1px 3px 1px rgba(0, 0, 0, 0.15);\n",
              "      filter: drop-shadow(0px 1px 2px rgba(0, 0, 0, 0.3));\n",
              "      fill: #FFFFFF;\n",
              "    }\n",
              "  </style>\n",
              "\n",
              "      <script>\n",
              "        const buttonEl =\n",
              "          document.querySelector('#df-aa07abc4-5c46-4b2e-aaff-f385a914ff16 button.colab-df-convert');\n",
              "        buttonEl.style.display =\n",
              "          google.colab.kernel.accessAllowed ? 'block' : 'none';\n",
              "\n",
              "        async function convertToInteractive(key) {\n",
              "          const element = document.querySelector('#df-aa07abc4-5c46-4b2e-aaff-f385a914ff16');\n",
              "          const dataTable =\n",
              "            await google.colab.kernel.invokeFunction('convertToInteractive',\n",
              "                                                     [key], {});\n",
              "          if (!dataTable) return;\n",
              "\n",
              "          const docLinkHtml = 'Like what you see? Visit the ' +\n",
              "            '<a target=\"_blank\" href=https://colab.research.google.com/notebooks/data_table.ipynb>data table notebook</a>'\n",
              "            + ' to learn more about interactive tables.';\n",
              "          element.innerHTML = '';\n",
              "          dataTable['output_type'] = 'display_data';\n",
              "          await google.colab.output.renderOutput(dataTable, element);\n",
              "          const docLink = document.createElement('div');\n",
              "          docLink.innerHTML = docLinkHtml;\n",
              "          element.appendChild(docLink);\n",
              "        }\n",
              "      </script>\n",
              "    </div>\n",
              "  </div>\n",
              "  "
            ]
          },
          "metadata": {},
          "execution_count": 110
        }
      ]
    },
    {
      "cell_type": "code",
      "source": [
        "val_inputs1=val_df1[input_cols]\n",
        "val_inputs1.head(5)"
      ],
      "metadata": {
        "colab": {
          "base_uri": "https://localhost:8080/",
          "height": 270
        },
        "id": "_GHsDwzP3p0M",
        "outputId": "93d0395e-6e21-4987-8e03-62863d4b2290"
      },
      "execution_count": 111,
      "outputs": [
        {
          "output_type": "execute_result",
          "data": {
            "text/plain": [
              "                                     id  type  gym  lift  swimming_pool  \\\n",
              "16330  ff8081816108a00501610915abc93a4b  BHK3    1     1              1   \n",
              "7850   ff8081815aacc98e015aae15194752a5  BHK2    0     0              0   \n",
              "13547  ff80818158de4fb60158dea009ce0ed2   RK1    0     0              0   \n",
              "5565   ff80818160204e9b0160267e7faf7a7f  BHK2    0     0              0   \n",
              "10606  ff808181638d2a350163909b97eb7088  BHK2    0     0              0   \n",
              "\n",
              "       negotiable      furnishing      parking  property_size  property_age  \\\n",
              "16330           1  SEMI_FURNISHED         BOTH           1505             1   \n",
              "7850            1  SEMI_FURNISHED  TWO_WHEELER            743            15   \n",
              "13547           0  SEMI_FURNISHED  TWO_WHEELER            200            10   \n",
              "5565            1  SEMI_FURNISHED         BOTH           1000             0   \n",
              "10606           0  SEMI_FURNISHED  TWO_WHEELER            500            10   \n",
              "\n",
              "       bathroom facing  cup_board  floor  total_floor water_supply  \\\n",
              "16330         2      N          3      3            5  CORPORATION   \n",
              "7850          2      N          2      1            2  CORPORATION   \n",
              "13547         1      W          1      0            3  CORPORATION   \n",
              "5565          2      N          2      0            3    CORP_BORE   \n",
              "10606         1      S          2      1            3    CORP_BORE   \n",
              "\n",
              "      building_type  balconies  \n",
              "16330            AP          2  \n",
              "7850             IF          0  \n",
              "13547            IH          1  \n",
              "5565             AP          0  \n",
              "10606            AP          1  "
            ],
            "text/html": [
              "\n",
              "  <div id=\"df-f56c08e1-b19c-4968-a573-3c31998eedcf\">\n",
              "    <div class=\"colab-df-container\">\n",
              "      <div>\n",
              "<style scoped>\n",
              "    .dataframe tbody tr th:only-of-type {\n",
              "        vertical-align: middle;\n",
              "    }\n",
              "\n",
              "    .dataframe tbody tr th {\n",
              "        vertical-align: top;\n",
              "    }\n",
              "\n",
              "    .dataframe thead th {\n",
              "        text-align: right;\n",
              "    }\n",
              "</style>\n",
              "<table border=\"1\" class=\"dataframe\">\n",
              "  <thead>\n",
              "    <tr style=\"text-align: right;\">\n",
              "      <th></th>\n",
              "      <th>id</th>\n",
              "      <th>type</th>\n",
              "      <th>gym</th>\n",
              "      <th>lift</th>\n",
              "      <th>swimming_pool</th>\n",
              "      <th>negotiable</th>\n",
              "      <th>furnishing</th>\n",
              "      <th>parking</th>\n",
              "      <th>property_size</th>\n",
              "      <th>property_age</th>\n",
              "      <th>bathroom</th>\n",
              "      <th>facing</th>\n",
              "      <th>cup_board</th>\n",
              "      <th>floor</th>\n",
              "      <th>total_floor</th>\n",
              "      <th>water_supply</th>\n",
              "      <th>building_type</th>\n",
              "      <th>balconies</th>\n",
              "    </tr>\n",
              "  </thead>\n",
              "  <tbody>\n",
              "    <tr>\n",
              "      <th>16330</th>\n",
              "      <td>ff8081816108a00501610915abc93a4b</td>\n",
              "      <td>BHK3</td>\n",
              "      <td>1</td>\n",
              "      <td>1</td>\n",
              "      <td>1</td>\n",
              "      <td>1</td>\n",
              "      <td>SEMI_FURNISHED</td>\n",
              "      <td>BOTH</td>\n",
              "      <td>1505</td>\n",
              "      <td>1</td>\n",
              "      <td>2</td>\n",
              "      <td>N</td>\n",
              "      <td>3</td>\n",
              "      <td>3</td>\n",
              "      <td>5</td>\n",
              "      <td>CORPORATION</td>\n",
              "      <td>AP</td>\n",
              "      <td>2</td>\n",
              "    </tr>\n",
              "    <tr>\n",
              "      <th>7850</th>\n",
              "      <td>ff8081815aacc98e015aae15194752a5</td>\n",
              "      <td>BHK2</td>\n",
              "      <td>0</td>\n",
              "      <td>0</td>\n",
              "      <td>0</td>\n",
              "      <td>1</td>\n",
              "      <td>SEMI_FURNISHED</td>\n",
              "      <td>TWO_WHEELER</td>\n",
              "      <td>743</td>\n",
              "      <td>15</td>\n",
              "      <td>2</td>\n",
              "      <td>N</td>\n",
              "      <td>2</td>\n",
              "      <td>1</td>\n",
              "      <td>2</td>\n",
              "      <td>CORPORATION</td>\n",
              "      <td>IF</td>\n",
              "      <td>0</td>\n",
              "    </tr>\n",
              "    <tr>\n",
              "      <th>13547</th>\n",
              "      <td>ff80818158de4fb60158dea009ce0ed2</td>\n",
              "      <td>RK1</td>\n",
              "      <td>0</td>\n",
              "      <td>0</td>\n",
              "      <td>0</td>\n",
              "      <td>0</td>\n",
              "      <td>SEMI_FURNISHED</td>\n",
              "      <td>TWO_WHEELER</td>\n",
              "      <td>200</td>\n",
              "      <td>10</td>\n",
              "      <td>1</td>\n",
              "      <td>W</td>\n",
              "      <td>1</td>\n",
              "      <td>0</td>\n",
              "      <td>3</td>\n",
              "      <td>CORPORATION</td>\n",
              "      <td>IH</td>\n",
              "      <td>1</td>\n",
              "    </tr>\n",
              "    <tr>\n",
              "      <th>5565</th>\n",
              "      <td>ff80818160204e9b0160267e7faf7a7f</td>\n",
              "      <td>BHK2</td>\n",
              "      <td>0</td>\n",
              "      <td>0</td>\n",
              "      <td>0</td>\n",
              "      <td>1</td>\n",
              "      <td>SEMI_FURNISHED</td>\n",
              "      <td>BOTH</td>\n",
              "      <td>1000</td>\n",
              "      <td>0</td>\n",
              "      <td>2</td>\n",
              "      <td>N</td>\n",
              "      <td>2</td>\n",
              "      <td>0</td>\n",
              "      <td>3</td>\n",
              "      <td>CORP_BORE</td>\n",
              "      <td>AP</td>\n",
              "      <td>0</td>\n",
              "    </tr>\n",
              "    <tr>\n",
              "      <th>10606</th>\n",
              "      <td>ff808181638d2a350163909b97eb7088</td>\n",
              "      <td>BHK2</td>\n",
              "      <td>0</td>\n",
              "      <td>0</td>\n",
              "      <td>0</td>\n",
              "      <td>0</td>\n",
              "      <td>SEMI_FURNISHED</td>\n",
              "      <td>TWO_WHEELER</td>\n",
              "      <td>500</td>\n",
              "      <td>10</td>\n",
              "      <td>1</td>\n",
              "      <td>S</td>\n",
              "      <td>2</td>\n",
              "      <td>1</td>\n",
              "      <td>3</td>\n",
              "      <td>CORP_BORE</td>\n",
              "      <td>AP</td>\n",
              "      <td>1</td>\n",
              "    </tr>\n",
              "  </tbody>\n",
              "</table>\n",
              "</div>\n",
              "      <button class=\"colab-df-convert\" onclick=\"convertToInteractive('df-f56c08e1-b19c-4968-a573-3c31998eedcf')\"\n",
              "              title=\"Convert this dataframe to an interactive table.\"\n",
              "              style=\"display:none;\">\n",
              "        \n",
              "  <svg xmlns=\"http://www.w3.org/2000/svg\" height=\"24px\"viewBox=\"0 0 24 24\"\n",
              "       width=\"24px\">\n",
              "    <path d=\"M0 0h24v24H0V0z\" fill=\"none\"/>\n",
              "    <path d=\"M18.56 5.44l.94 2.06.94-2.06 2.06-.94-2.06-.94-.94-2.06-.94 2.06-2.06.94zm-11 1L8.5 8.5l.94-2.06 2.06-.94-2.06-.94L8.5 2.5l-.94 2.06-2.06.94zm10 10l.94 2.06.94-2.06 2.06-.94-2.06-.94-.94-2.06-.94 2.06-2.06.94z\"/><path d=\"M17.41 7.96l-1.37-1.37c-.4-.4-.92-.59-1.43-.59-.52 0-1.04.2-1.43.59L10.3 9.45l-7.72 7.72c-.78.78-.78 2.05 0 2.83L4 21.41c.39.39.9.59 1.41.59.51 0 1.02-.2 1.41-.59l7.78-7.78 2.81-2.81c.8-.78.8-2.07 0-2.86zM5.41 20L4 18.59l7.72-7.72 1.47 1.35L5.41 20z\"/>\n",
              "  </svg>\n",
              "      </button>\n",
              "      \n",
              "  <style>\n",
              "    .colab-df-container {\n",
              "      display:flex;\n",
              "      flex-wrap:wrap;\n",
              "      gap: 12px;\n",
              "    }\n",
              "\n",
              "    .colab-df-convert {\n",
              "      background-color: #E8F0FE;\n",
              "      border: none;\n",
              "      border-radius: 50%;\n",
              "      cursor: pointer;\n",
              "      display: none;\n",
              "      fill: #1967D2;\n",
              "      height: 32px;\n",
              "      padding: 0 0 0 0;\n",
              "      width: 32px;\n",
              "    }\n",
              "\n",
              "    .colab-df-convert:hover {\n",
              "      background-color: #E2EBFA;\n",
              "      box-shadow: 0px 1px 2px rgba(60, 64, 67, 0.3), 0px 1px 3px 1px rgba(60, 64, 67, 0.15);\n",
              "      fill: #174EA6;\n",
              "    }\n",
              "\n",
              "    [theme=dark] .colab-df-convert {\n",
              "      background-color: #3B4455;\n",
              "      fill: #D2E3FC;\n",
              "    }\n",
              "\n",
              "    [theme=dark] .colab-df-convert:hover {\n",
              "      background-color: #434B5C;\n",
              "      box-shadow: 0px 1px 3px 1px rgba(0, 0, 0, 0.15);\n",
              "      filter: drop-shadow(0px 1px 2px rgba(0, 0, 0, 0.3));\n",
              "      fill: #FFFFFF;\n",
              "    }\n",
              "  </style>\n",
              "\n",
              "      <script>\n",
              "        const buttonEl =\n",
              "          document.querySelector('#df-f56c08e1-b19c-4968-a573-3c31998eedcf button.colab-df-convert');\n",
              "        buttonEl.style.display =\n",
              "          google.colab.kernel.accessAllowed ? 'block' : 'none';\n",
              "\n",
              "        async function convertToInteractive(key) {\n",
              "          const element = document.querySelector('#df-f56c08e1-b19c-4968-a573-3c31998eedcf');\n",
              "          const dataTable =\n",
              "            await google.colab.kernel.invokeFunction('convertToInteractive',\n",
              "                                                     [key], {});\n",
              "          if (!dataTable) return;\n",
              "\n",
              "          const docLinkHtml = 'Like what you see? Visit the ' +\n",
              "            '<a target=\"_blank\" href=https://colab.research.google.com/notebooks/data_table.ipynb>data table notebook</a>'\n",
              "            + ' to learn more about interactive tables.';\n",
              "          element.innerHTML = '';\n",
              "          dataTable['output_type'] = 'display_data';\n",
              "          await google.colab.output.renderOutput(dataTable, element);\n",
              "          const docLink = document.createElement('div');\n",
              "          docLink.innerHTML = docLinkHtml;\n",
              "          element.appendChild(docLink);\n",
              "        }\n",
              "      </script>\n",
              "    </div>\n",
              "  </div>\n",
              "  "
            ]
          },
          "metadata": {},
          "execution_count": 111
        }
      ]
    },
    {
      "cell_type": "code",
      "source": [
        "val_targets=val_df1[target_cols]\n",
        "val_targets.head(5)"
      ],
      "metadata": {
        "colab": {
          "base_uri": "https://localhost:8080/",
          "height": 206
        },
        "id": "OzaboMCj3vIA",
        "outputId": "318fcd1b-4035-4c91-d913-0eabdab5dd3c"
      },
      "execution_count": 112,
      "outputs": [
        {
          "output_type": "execute_result",
          "data": {
            "text/plain": [
              "        rent\n",
              "16330  22000\n",
              "7850   22000\n",
              "13547   8250\n",
              "5565   20000\n",
              "10606  12500"
            ],
            "text/html": [
              "\n",
              "  <div id=\"df-33178a04-459a-4e17-af85-b19f8e1102ec\">\n",
              "    <div class=\"colab-df-container\">\n",
              "      <div>\n",
              "<style scoped>\n",
              "    .dataframe tbody tr th:only-of-type {\n",
              "        vertical-align: middle;\n",
              "    }\n",
              "\n",
              "    .dataframe tbody tr th {\n",
              "        vertical-align: top;\n",
              "    }\n",
              "\n",
              "    .dataframe thead th {\n",
              "        text-align: right;\n",
              "    }\n",
              "</style>\n",
              "<table border=\"1\" class=\"dataframe\">\n",
              "  <thead>\n",
              "    <tr style=\"text-align: right;\">\n",
              "      <th></th>\n",
              "      <th>rent</th>\n",
              "    </tr>\n",
              "  </thead>\n",
              "  <tbody>\n",
              "    <tr>\n",
              "      <th>16330</th>\n",
              "      <td>22000</td>\n",
              "    </tr>\n",
              "    <tr>\n",
              "      <th>7850</th>\n",
              "      <td>22000</td>\n",
              "    </tr>\n",
              "    <tr>\n",
              "      <th>13547</th>\n",
              "      <td>8250</td>\n",
              "    </tr>\n",
              "    <tr>\n",
              "      <th>5565</th>\n",
              "      <td>20000</td>\n",
              "    </tr>\n",
              "    <tr>\n",
              "      <th>10606</th>\n",
              "      <td>12500</td>\n",
              "    </tr>\n",
              "  </tbody>\n",
              "</table>\n",
              "</div>\n",
              "      <button class=\"colab-df-convert\" onclick=\"convertToInteractive('df-33178a04-459a-4e17-af85-b19f8e1102ec')\"\n",
              "              title=\"Convert this dataframe to an interactive table.\"\n",
              "              style=\"display:none;\">\n",
              "        \n",
              "  <svg xmlns=\"http://www.w3.org/2000/svg\" height=\"24px\"viewBox=\"0 0 24 24\"\n",
              "       width=\"24px\">\n",
              "    <path d=\"M0 0h24v24H0V0z\" fill=\"none\"/>\n",
              "    <path d=\"M18.56 5.44l.94 2.06.94-2.06 2.06-.94-2.06-.94-.94-2.06-.94 2.06-2.06.94zm-11 1L8.5 8.5l.94-2.06 2.06-.94-2.06-.94L8.5 2.5l-.94 2.06-2.06.94zm10 10l.94 2.06.94-2.06 2.06-.94-2.06-.94-.94-2.06-.94 2.06-2.06.94z\"/><path d=\"M17.41 7.96l-1.37-1.37c-.4-.4-.92-.59-1.43-.59-.52 0-1.04.2-1.43.59L10.3 9.45l-7.72 7.72c-.78.78-.78 2.05 0 2.83L4 21.41c.39.39.9.59 1.41.59.51 0 1.02-.2 1.41-.59l7.78-7.78 2.81-2.81c.8-.78.8-2.07 0-2.86zM5.41 20L4 18.59l7.72-7.72 1.47 1.35L5.41 20z\"/>\n",
              "  </svg>\n",
              "      </button>\n",
              "      \n",
              "  <style>\n",
              "    .colab-df-container {\n",
              "      display:flex;\n",
              "      flex-wrap:wrap;\n",
              "      gap: 12px;\n",
              "    }\n",
              "\n",
              "    .colab-df-convert {\n",
              "      background-color: #E8F0FE;\n",
              "      border: none;\n",
              "      border-radius: 50%;\n",
              "      cursor: pointer;\n",
              "      display: none;\n",
              "      fill: #1967D2;\n",
              "      height: 32px;\n",
              "      padding: 0 0 0 0;\n",
              "      width: 32px;\n",
              "    }\n",
              "\n",
              "    .colab-df-convert:hover {\n",
              "      background-color: #E2EBFA;\n",
              "      box-shadow: 0px 1px 2px rgba(60, 64, 67, 0.3), 0px 1px 3px 1px rgba(60, 64, 67, 0.15);\n",
              "      fill: #174EA6;\n",
              "    }\n",
              "\n",
              "    [theme=dark] .colab-df-convert {\n",
              "      background-color: #3B4455;\n",
              "      fill: #D2E3FC;\n",
              "    }\n",
              "\n",
              "    [theme=dark] .colab-df-convert:hover {\n",
              "      background-color: #434B5C;\n",
              "      box-shadow: 0px 1px 3px 1px rgba(0, 0, 0, 0.15);\n",
              "      filter: drop-shadow(0px 1px 2px rgba(0, 0, 0, 0.3));\n",
              "      fill: #FFFFFF;\n",
              "    }\n",
              "  </style>\n",
              "\n",
              "      <script>\n",
              "        const buttonEl =\n",
              "          document.querySelector('#df-33178a04-459a-4e17-af85-b19f8e1102ec button.colab-df-convert');\n",
              "        buttonEl.style.display =\n",
              "          google.colab.kernel.accessAllowed ? 'block' : 'none';\n",
              "\n",
              "        async function convertToInteractive(key) {\n",
              "          const element = document.querySelector('#df-33178a04-459a-4e17-af85-b19f8e1102ec');\n",
              "          const dataTable =\n",
              "            await google.colab.kernel.invokeFunction('convertToInteractive',\n",
              "                                                     [key], {});\n",
              "          if (!dataTable) return;\n",
              "\n",
              "          const docLinkHtml = 'Like what you see? Visit the ' +\n",
              "            '<a target=\"_blank\" href=https://colab.research.google.com/notebooks/data_table.ipynb>data table notebook</a>'\n",
              "            + ' to learn more about interactive tables.';\n",
              "          element.innerHTML = '';\n",
              "          dataTable['output_type'] = 'display_data';\n",
              "          await google.colab.output.renderOutput(dataTable, element);\n",
              "          const docLink = document.createElement('div');\n",
              "          docLink.innerHTML = docLinkHtml;\n",
              "          element.appendChild(docLink);\n",
              "        }\n",
              "      </script>\n",
              "    </div>\n",
              "  </div>\n",
              "  "
            ]
          },
          "metadata": {},
          "execution_count": 112
        }
      ]
    },
    {
      "cell_type": "code",
      "source": [
        "from sklearn.dummy import DummyRegressor"
      ],
      "metadata": {
        "id": "lIMaLvH8CxFq"
      },
      "execution_count": 113,
      "outputs": []
    },
    {
      "cell_type": "code",
      "source": [
        "dummy_regr = DummyRegressor(strategy=\"mean\")"
      ],
      "metadata": {
        "id": "nTANsOseCjaM"
      },
      "execution_count": 114,
      "outputs": []
    },
    {
      "cell_type": "code",
      "source": [
        "dummy_regr.fit(train_inputs1, train_targets)"
      ],
      "metadata": {
        "colab": {
          "base_uri": "https://localhost:8080/"
        },
        "id": "DG6IsPdqC-3o",
        "outputId": "18372129-dd49-4391-a9ae-dd2452e05783"
      },
      "execution_count": 116,
      "outputs": [
        {
          "output_type": "execute_result",
          "data": {
            "text/plain": [
              "DummyRegressor()"
            ]
          },
          "metadata": {},
          "execution_count": 116
        }
      ]
    },
    {
      "cell_type": "code",
      "source": [
        "train_preds_dummy=dummy_regr.predict(val_inputs1)"
      ],
      "metadata": {
        "id": "SHRDsQNxDFPr"
      },
      "execution_count": 118,
      "outputs": []
    },
    {
      "cell_type": "code",
      "source": [
        "from sklearn.metrics import mean_squared_error\n"
      ],
      "metadata": {
        "id": "j3Gky2cLCtCR"
      },
      "execution_count": 119,
      "outputs": []
    },
    {
      "cell_type": "code",
      "source": [],
      "metadata": {
        "id": "LGbQSCq2CvP_"
      },
      "execution_count": null,
      "outputs": []
    },
    {
      "cell_type": "code",
      "source": [],
      "metadata": {
        "id": "F6WWeOBtCvNX"
      },
      "execution_count": null,
      "outputs": []
    },
    {
      "cell_type": "code",
      "source": [
        "train_rmse = mean_squared_error(val_targets, train_preds_dummy, squared=False)\n",
        "train_rmse"
      ],
      "metadata": {
        "colab": {
          "base_uri": "https://localhost:8080/"
        },
        "id": "NvyOqvgBCvKm",
        "outputId": "877d05f8-80d7-44df-a6c3-04df64411435"
      },
      "execution_count": 123,
      "outputs": [
        {
          "output_type": "execute_result",
          "data": {
            "text/plain": [
              "8527.347208103169"
            ]
          },
          "metadata": {},
          "execution_count": 123
        }
      ]
    },
    {
      "cell_type": "code",
      "source": [
        "### the rmse for the baseline model is 8527.347"
      ],
      "metadata": {
        "id": "Ok_BaO-DDXHi"
      },
      "execution_count": 124,
      "outputs": []
    },
    {
      "cell_type": "code",
      "source": [
        "from sklearn.linear_model import LinearRegression"
      ],
      "metadata": {
        "id": "X-55RzgRDqaT"
      },
      "execution_count": 125,
      "outputs": []
    },
    {
      "cell_type": "code",
      "source": [
        "linear_model=LinearRegression()\n"
      ],
      "metadata": {
        "id": "nBgDRhC3Dv0n"
      },
      "execution_count": 126,
      "outputs": []
    },
    {
      "cell_type": "code",
      "source": [
        "train_cols=[\n",
        " 'type',\n",
        " 'gym',\n",
        " 'lift',\n",
        " 'swimming_pool',\n",
        " 'negotiable',\n",
        " 'furnishing',\n",
        " 'parking',\n",
        " 'property_size',\n",
        " 'property_age',\n",
        " 'bathroom',\n",
        " 'facing',\n",
        " 'cup_board',\n",
        " 'floor',\n",
        " 'total_floor',\n",
        " 'water_supply',\n",
        " 'building_type',\n",
        " 'balconies',\n",
        " ]"
      ],
      "metadata": {
        "id": "xoWSvrvgEA5y"
      },
      "execution_count": 128,
      "outputs": []
    },
    {
      "cell_type": "code",
      "source": [
        "from sklearn import preprocessing"
      ],
      "metadata": {
        "id": "85Tn9byAEecO"
      },
      "execution_count": 130,
      "outputs": []
    },
    {
      "cell_type": "code",
      "source": [
        "label_encoder = preprocessing.LabelEncoder()\n"
      ],
      "metadata": {
        "id": "5qawMRfZEfTL"
      },
      "execution_count": 131,
      "outputs": []
    },
    {
      "cell_type": "code",
      "source": [
        "train_inputs1['type']= label_encoder.fit_transform(train_inputs1['type'])\n",
        "val_inputs1['type']= label_encoder.fit_transform(val_inputs1['type'])\n"
      ],
      "metadata": {
        "colab": {
          "base_uri": "https://localhost:8080/"
        },
        "id": "d-c9MjFFEjDh",
        "outputId": "34696ee7-90ef-4b39-c640-56502545ff4e"
      },
      "execution_count": 148,
      "outputs": [
        {
          "output_type": "stream",
          "name": "stderr",
          "text": [
            "/usr/local/lib/python3.7/dist-packages/ipykernel_launcher.py:1: SettingWithCopyWarning: \n",
            "A value is trying to be set on a copy of a slice from a DataFrame.\n",
            "Try using .loc[row_indexer,col_indexer] = value instead\n",
            "\n",
            "See the caveats in the documentation: https://pandas.pydata.org/pandas-docs/stable/user_guide/indexing.html#returning-a-view-versus-a-copy\n",
            "  \"\"\"Entry point for launching an IPython kernel.\n",
            "/usr/local/lib/python3.7/dist-packages/ipykernel_launcher.py:2: SettingWithCopyWarning: \n",
            "A value is trying to be set on a copy of a slice from a DataFrame.\n",
            "Try using .loc[row_indexer,col_indexer] = value instead\n",
            "\n",
            "See the caveats in the documentation: https://pandas.pydata.org/pandas-docs/stable/user_guide/indexing.html#returning-a-view-versus-a-copy\n",
            "  \n"
          ]
        }
      ]
    },
    {
      "cell_type": "code",
      "source": [
        "train_inputs1['parking']= label_encoder.fit_transform(train_inputs1['parking'])\n",
        "val_inputs1['parking']= label_encoder.fit_transform(val_inputs1['parking'])\n"
      ],
      "metadata": {
        "colab": {
          "base_uri": "https://localhost:8080/"
        },
        "id": "VmC5iKW6EtgD",
        "outputId": "8ba65c2f-579d-4605-fd08-4f1cf247d2b9"
      },
      "execution_count": 149,
      "outputs": [
        {
          "output_type": "stream",
          "name": "stderr",
          "text": [
            "/usr/local/lib/python3.7/dist-packages/ipykernel_launcher.py:1: SettingWithCopyWarning: \n",
            "A value is trying to be set on a copy of a slice from a DataFrame.\n",
            "Try using .loc[row_indexer,col_indexer] = value instead\n",
            "\n",
            "See the caveats in the documentation: https://pandas.pydata.org/pandas-docs/stable/user_guide/indexing.html#returning-a-view-versus-a-copy\n",
            "  \"\"\"Entry point for launching an IPython kernel.\n",
            "/usr/local/lib/python3.7/dist-packages/ipykernel_launcher.py:2: SettingWithCopyWarning: \n",
            "A value is trying to be set on a copy of a slice from a DataFrame.\n",
            "Try using .loc[row_indexer,col_indexer] = value instead\n",
            "\n",
            "See the caveats in the documentation: https://pandas.pydata.org/pandas-docs/stable/user_guide/indexing.html#returning-a-view-versus-a-copy\n",
            "  \n"
          ]
        }
      ]
    },
    {
      "cell_type": "code",
      "source": [
        "train_inputs1['furnishing']= label_encoder.fit_transform(train_inputs1['furnishing'])\n",
        "val_inputs1['furnishing']= label_encoder.fit_transform(val_inputs1['furnishing'])\n"
      ],
      "metadata": {
        "colab": {
          "base_uri": "https://localhost:8080/"
        },
        "id": "EtshCOP0FJZZ",
        "outputId": "7d433dbb-07b4-4118-8277-a7346494bd89"
      },
      "execution_count": 150,
      "outputs": [
        {
          "output_type": "stream",
          "name": "stderr",
          "text": [
            "/usr/local/lib/python3.7/dist-packages/ipykernel_launcher.py:1: SettingWithCopyWarning: \n",
            "A value is trying to be set on a copy of a slice from a DataFrame.\n",
            "Try using .loc[row_indexer,col_indexer] = value instead\n",
            "\n",
            "See the caveats in the documentation: https://pandas.pydata.org/pandas-docs/stable/user_guide/indexing.html#returning-a-view-versus-a-copy\n",
            "  \"\"\"Entry point for launching an IPython kernel.\n",
            "/usr/local/lib/python3.7/dist-packages/ipykernel_launcher.py:2: SettingWithCopyWarning: \n",
            "A value is trying to be set on a copy of a slice from a DataFrame.\n",
            "Try using .loc[row_indexer,col_indexer] = value instead\n",
            "\n",
            "See the caveats in the documentation: https://pandas.pydata.org/pandas-docs/stable/user_guide/indexing.html#returning-a-view-versus-a-copy\n",
            "  \n"
          ]
        }
      ]
    },
    {
      "cell_type": "code",
      "source": [
        "train_inputs1['facing']= label_encoder.fit_transform(train_inputs1['facing'])\n",
        "val_inputs1['facing']= label_encoder.fit_transform(val_inputs1['facing'])\n"
      ],
      "metadata": {
        "colab": {
          "base_uri": "https://localhost:8080/"
        },
        "id": "Wq8I7dZiFR0F",
        "outputId": "16b33b3a-3b54-4317-b015-f22e6d2e6549"
      },
      "execution_count": 151,
      "outputs": [
        {
          "output_type": "stream",
          "name": "stderr",
          "text": [
            "/usr/local/lib/python3.7/dist-packages/ipykernel_launcher.py:1: SettingWithCopyWarning: \n",
            "A value is trying to be set on a copy of a slice from a DataFrame.\n",
            "Try using .loc[row_indexer,col_indexer] = value instead\n",
            "\n",
            "See the caveats in the documentation: https://pandas.pydata.org/pandas-docs/stable/user_guide/indexing.html#returning-a-view-versus-a-copy\n",
            "  \"\"\"Entry point for launching an IPython kernel.\n",
            "/usr/local/lib/python3.7/dist-packages/ipykernel_launcher.py:2: SettingWithCopyWarning: \n",
            "A value is trying to be set on a copy of a slice from a DataFrame.\n",
            "Try using .loc[row_indexer,col_indexer] = value instead\n",
            "\n",
            "See the caveats in the documentation: https://pandas.pydata.org/pandas-docs/stable/user_guide/indexing.html#returning-a-view-versus-a-copy\n",
            "  \n"
          ]
        }
      ]
    },
    {
      "cell_type": "code",
      "source": [
        "train_inputs1['water_supply']= label_encoder.fit_transform(train_inputs1['water_supply'])\n",
        "val_inputs1['water_supply']= label_encoder.fit_transform(val_inputs1['water_supply'])\n"
      ],
      "metadata": {
        "colab": {
          "base_uri": "https://localhost:8080/"
        },
        "id": "56sO7XZtFYvQ",
        "outputId": "7baa9329-93b2-4883-f34a-23c7608f2ac5"
      },
      "execution_count": 152,
      "outputs": [
        {
          "output_type": "stream",
          "name": "stderr",
          "text": [
            "/usr/local/lib/python3.7/dist-packages/ipykernel_launcher.py:1: SettingWithCopyWarning: \n",
            "A value is trying to be set on a copy of a slice from a DataFrame.\n",
            "Try using .loc[row_indexer,col_indexer] = value instead\n",
            "\n",
            "See the caveats in the documentation: https://pandas.pydata.org/pandas-docs/stable/user_guide/indexing.html#returning-a-view-versus-a-copy\n",
            "  \"\"\"Entry point for launching an IPython kernel.\n",
            "/usr/local/lib/python3.7/dist-packages/ipykernel_launcher.py:2: SettingWithCopyWarning: \n",
            "A value is trying to be set on a copy of a slice from a DataFrame.\n",
            "Try using .loc[row_indexer,col_indexer] = value instead\n",
            "\n",
            "See the caveats in the documentation: https://pandas.pydata.org/pandas-docs/stable/user_guide/indexing.html#returning-a-view-versus-a-copy\n",
            "  \n"
          ]
        }
      ]
    },
    {
      "cell_type": "code",
      "source": [
        "train_inputs1['building_type']= label_encoder.fit_transform(train_inputs1['building_type'])\n",
        "val_inputs1['building_type']= label_encoder.fit_transform(val_inputs1['building_type'])\n"
      ],
      "metadata": {
        "colab": {
          "base_uri": "https://localhost:8080/"
        },
        "id": "6dQjv1WBFg-w",
        "outputId": "688205bd-ed38-4dcb-b9c7-5434fd4f0dff"
      },
      "execution_count": 153,
      "outputs": [
        {
          "output_type": "stream",
          "name": "stderr",
          "text": [
            "/usr/local/lib/python3.7/dist-packages/ipykernel_launcher.py:1: SettingWithCopyWarning: \n",
            "A value is trying to be set on a copy of a slice from a DataFrame.\n",
            "Try using .loc[row_indexer,col_indexer] = value instead\n",
            "\n",
            "See the caveats in the documentation: https://pandas.pydata.org/pandas-docs/stable/user_guide/indexing.html#returning-a-view-versus-a-copy\n",
            "  \"\"\"Entry point for launching an IPython kernel.\n",
            "/usr/local/lib/python3.7/dist-packages/ipykernel_launcher.py:2: SettingWithCopyWarning: \n",
            "A value is trying to be set on a copy of a slice from a DataFrame.\n",
            "Try using .loc[row_indexer,col_indexer] = value instead\n",
            "\n",
            "See the caveats in the documentation: https://pandas.pydata.org/pandas-docs/stable/user_guide/indexing.html#returning-a-view-versus-a-copy\n",
            "  \n"
          ]
        }
      ]
    },
    {
      "cell_type": "markdown",
      "source": [],
      "metadata": {
        "id": "-4E45mKBE1Nm"
      }
    },
    {
      "cell_type": "code",
      "source": [
        "linear_model.fit(train_inputs1[train_cols],train_targets)"
      ],
      "metadata": {
        "colab": {
          "base_uri": "https://localhost:8080/"
        },
        "id": "WZrbc4kzDwxs",
        "outputId": "79ba53a5-7155-42e4-c470-d3e63c7c7662"
      },
      "execution_count": 145,
      "outputs": [
        {
          "output_type": "execute_result",
          "data": {
            "text/plain": [
              "LinearRegression()"
            ]
          },
          "metadata": {},
          "execution_count": 145
        }
      ]
    },
    {
      "cell_type": "code",
      "source": [
        "linear_preds=linear_model.predict(val_inputs1[train_cols])"
      ],
      "metadata": {
        "id": "dR56JdSLFri5"
      },
      "execution_count": 154,
      "outputs": []
    },
    {
      "cell_type": "code",
      "source": [
        "linear_rmse = mean_squared_error(val_targets, linear_preds, squared=False)\n",
        "linear_rmse"
      ],
      "metadata": {
        "colab": {
          "base_uri": "https://localhost:8080/"
        },
        "id": "wMugVVZvGsR5",
        "outputId": "d243907f-961c-4708-ac39-f17f107c3f8b"
      },
      "execution_count": 156,
      "outputs": [
        {
          "output_type": "execute_result",
          "data": {
            "text/plain": [
              "6780.780115622501"
            ]
          },
          "metadata": {},
          "execution_count": 156
        }
      ]
    }
  ]
}