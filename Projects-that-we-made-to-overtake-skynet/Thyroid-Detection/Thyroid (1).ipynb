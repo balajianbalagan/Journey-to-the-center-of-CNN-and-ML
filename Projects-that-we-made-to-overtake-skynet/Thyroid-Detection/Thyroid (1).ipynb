{
  "cells": [
    {
      "cell_type": "code",
      "source": [
        "!pip install split-folders"
      ],
      "metadata": {
        "colab": {
          "base_uri": "https://localhost:8080/"
        },
        "id": "jq3SEzsZv-4j",
        "outputId": "5fea92ca-2711-41d1-c99e-791d511872d9"
      },
      "execution_count": 1,
      "outputs": [
        {
          "output_type": "stream",
          "name": "stdout",
          "text": [
            "Looking in indexes: https://pypi.org/simple, https://us-python.pkg.dev/colab-wheels/public/simple/\n",
            "Collecting split-folders\n",
            "  Downloading split_folders-0.5.1-py3-none-any.whl (8.4 kB)\n",
            "Installing collected packages: split-folders\n",
            "Successfully installed split-folders-0.5.1\n"
          ]
        }
      ]
    },
    {
      "cell_type": "code",
      "source": [
        "import matplotlib.pyplot as plt\n",
        "import numpy as np\n",
        "import os\n",
        "import PIL\n",
        "import tensorflow as tf\n",
        "import pathlib\n",
        "import cv2\n",
        "from keras.preprocessing.image import ImageDataGenerator\n",
        "from tensorflow import keras\n",
        "from tensorflow.keras import layers\n",
        "from tensorflow.keras.models import Sequential\n",
        "from keras.models import Sequential, Model,load_model\n",
        "from keras.callbacks import EarlyStopping,ModelCheckpoint\n",
        "from keras.layers import Input, Add, Dense, Activation, ZeroPadding2D, BatchNormalization, Flatten, Conv2D, AveragePooling2D, MaxPooling2D, GlobalMaxPooling2D,MaxPool2D\n",
        "from keras.preprocessing import image\n",
        "from keras.initializers import glorot_uniform\n",
        "from sklearn.metrics import accuracy_score, precision_score, recall_score, f1_score, cohen_kappa_score, roc_auc_score, confusion_matrix\n",
        "from sklearn.metrics import classification_report\n",
        "from keras.layers import Input, Add, Dense, Activation, ZeroPadding2D, BatchNormalization, Flatten, Conv2D, AveragePooling2D, MaxPooling2D, GlobalMaxPooling2D,MaxPool2D,Dropout\n",
        "import tensorflow as tf\n",
        "import splitfolders \n",
        "import pandas as pd\n",
        "import glob\n",
        "from sklearn.metrics import confusion_matrix\n",
        "import itertools\n",
        "import plotly.graph_objects as go\n",
        "import plotly.express as px\n",
        "#Suppressing Warnings\n",
        "os.environ['TF_CPP_MIN_LOG_LEVEL'] = '2'"
      ],
      "metadata": {
        "id": "bjghCM7Ov-09"
      },
      "execution_count": 2,
      "outputs": []
    },
    {
      "cell_type": "code",
      "source": [
        "! pip install opendatasets"
      ],
      "metadata": {
        "colab": {
          "base_uri": "https://localhost:8080/"
        },
        "id": "SMOf8og4v-vk",
        "outputId": "e93c8f55-be58-4081-d2f6-60fa48f3e35f"
      },
      "execution_count": 3,
      "outputs": [
        {
          "output_type": "stream",
          "name": "stdout",
          "text": [
            "Looking in indexes: https://pypi.org/simple, https://us-python.pkg.dev/colab-wheels/public/simple/\n",
            "Collecting opendatasets\n",
            "  Downloading opendatasets-0.1.22-py3-none-any.whl (15 kB)\n",
            "Requirement already satisfied: click in /usr/local/lib/python3.7/dist-packages (from opendatasets) (7.1.2)\n",
            "Requirement already satisfied: kaggle in /usr/local/lib/python3.7/dist-packages (from opendatasets) (1.5.12)\n",
            "Requirement already satisfied: tqdm in /usr/local/lib/python3.7/dist-packages (from opendatasets) (4.64.0)\n",
            "Requirement already satisfied: requests in /usr/local/lib/python3.7/dist-packages (from kaggle->opendatasets) (2.23.0)\n",
            "Requirement already satisfied: python-slugify in /usr/local/lib/python3.7/dist-packages (from kaggle->opendatasets) (6.1.2)\n",
            "Requirement already satisfied: urllib3 in /usr/local/lib/python3.7/dist-packages (from kaggle->opendatasets) (1.24.3)\n",
            "Requirement already satisfied: six>=1.10 in /usr/local/lib/python3.7/dist-packages (from kaggle->opendatasets) (1.15.0)\n",
            "Requirement already satisfied: certifi in /usr/local/lib/python3.7/dist-packages (from kaggle->opendatasets) (2022.6.15)\n",
            "Requirement already satisfied: python-dateutil in /usr/local/lib/python3.7/dist-packages (from kaggle->opendatasets) (2.8.2)\n",
            "Requirement already satisfied: text-unidecode>=1.3 in /usr/local/lib/python3.7/dist-packages (from python-slugify->kaggle->opendatasets) (1.3)\n",
            "Requirement already satisfied: chardet<4,>=3.0.2 in /usr/local/lib/python3.7/dist-packages (from requests->kaggle->opendatasets) (3.0.4)\n",
            "Requirement already satisfied: idna<3,>=2.5 in /usr/local/lib/python3.7/dist-packages (from requests->kaggle->opendatasets) (2.10)\n",
            "Installing collected packages: opendatasets\n",
            "Successfully installed opendatasets-0.1.22\n"
          ]
        }
      ]
    },
    {
      "cell_type": "code",
      "source": [
        ""
      ],
      "metadata": {
        "id": "RnyqhO76v-om"
      },
      "execution_count": null,
      "outputs": []
    },
    {
      "cell_type": "code",
      "execution_count": 4,
      "metadata": {
        "colab": {
          "base_uri": "https://localhost:8080/"
        },
        "id": "T1pFnLCwuCXW",
        "outputId": "ca1fdd95-d55c-4167-92b9-28a10b7f9847"
      },
      "outputs": [
        {
          "output_type": "stream",
          "name": "stdout",
          "text": [
            "Mounted at /content/gdrive\n"
          ]
        }
      ],
      "source": [
        "from google.colab import drive\n",
        "drive.mount('/content/gdrive')"
      ]
    },
    {
      "cell_type": "code",
      "source": [
        "train_path='/content/gdrive/MyDrive/train/train'\n",
        "test_path='/content/gdrive/MyDrive/test'\n",
        "val_path='/content/gdrive/MyDrive/validation/validation'"
      ],
      "metadata": {
        "id": "1UY-lOLFzxF5"
      },
      "execution_count": 6,
      "outputs": []
    },
    {
      "cell_type": "code",
      "source": [
        "train_datagen = ImageDataGenerator(zoom_range=0.15,width_shift_range=0.2,height_shift_range=0.2,shear_range=0.15)\n",
        "test_datagen = ImageDataGenerator()\n",
        "val_datagen = ImageDataGenerator()\n",
        "train_generator = train_datagen.flow_from_directory(train_path,target_size=(224, 224),batch_size=32,shuffle=True,class_mode='binary',classes=['Benign','Malign'])\n",
        "test_generator = test_datagen.flow_from_directory(test_path,target_size=(224,224),batch_size=32,shuffle=False,class_mode='binary',classes=['Benign','Malign'])\n",
        "val_generator = val_datagen.flow_from_directory(val_path,target_size=(224,224),batch_size=32,shuffle=False,class_mode='binary',classes=['Benign','Malign'])"
      ],
      "metadata": {
        "colab": {
          "base_uri": "https://localhost:8080/"
        },
        "id": "LYx6ReGrzwDe",
        "outputId": "7a3d4550-62c0-4f61-dc74-3222c296f36d"
      },
      "execution_count": 10,
      "outputs": [
        {
          "output_type": "stream",
          "name": "stdout",
          "text": [
            "Found 273 images belonging to 2 classes.\n",
            "Found 0 images belonging to 2 classes.\n",
            "Found 139 images belonging to 2 classes.\n"
          ]
        }
      ]
    },
    {
      "cell_type": "code",
      "source": [
        "print(test_generator.class_indices)\n",
        "print(train_generator.class_indices)\n",
        "print(val_generator.class_indices)"
      ],
      "metadata": {
        "colab": {
          "base_uri": "https://localhost:8080/"
        },
        "id": "ksjw6e0z1SJ1",
        "outputId": "eb5e497a-91cf-4c61-c784-7e13a8712b03"
      },
      "execution_count": 11,
      "outputs": [
        {
          "output_type": "stream",
          "name": "stdout",
          "text": [
            "{'Benign': 0, 'Malign': 1}\n",
            "{'Benign': 0, 'Malign': 1}\n",
            "{'Benign': 0, 'Malign': 1}\n"
          ]
        }
      ]
    },
    {
      "cell_type": "markdown",
      "source": [
        "## Using a simple model as a baseline\n"
      ],
      "metadata": {
        "id": "lZgkROhz1hOH"
      }
    },
    {
      "cell_type": "code",
      "source": [
        "model=tf.keras.models.Sequential([\n",
        "    \n",
        "    tf.keras.layers.Conv2D(8,(3,3),activation ='relu', input_shape=(224,224,3)),\n",
        "    tf.keras.layers.MaxPooling2D(2,2),\n",
        "    \n",
        "    tf.keras.layers.Conv2D(16,(3,3),activation ='relu'),\n",
        "    tf.keras.layers.MaxPooling2D(2,2),\n",
        "    \n",
        "    tf.keras.layers.Conv2D(32,(3,3),activation ='relu'),\n",
        "    tf.keras.layers.MaxPooling2D(2,2),\n",
        "    \n",
        "    tf.keras.layers.Flatten(),\n",
        "    \n",
        "    tf.keras.layers.Dense(1024,activation='relu'),\n",
        "    tf.keras.layers.Dense(512,activation='relu'),\n",
        "    \n",
        "    tf.keras.layers.Dense(1,activation='sigmoid')    \n",
        " ])"
      ],
      "metadata": {
        "id": "bwY7BAJB1YWk"
      },
      "execution_count": 12,
      "outputs": []
    },
    {
      "cell_type": "code",
      "source": [
        "model.compile(loss = \"binary_crossentropy\", optimizer = \"adagrad\", metrics = [\"accuracy\",\"AUC\"])\n",
        "model.summary()"
      ],
      "metadata": {
        "colab": {
          "base_uri": "https://localhost:8080/"
        },
        "id": "JOlHqcoi1oRw",
        "outputId": "d06ed7af-83f7-4fbf-a751-9c0f73950e06"
      },
      "execution_count": 13,
      "outputs": [
        {
          "output_type": "stream",
          "name": "stdout",
          "text": [
            "Model: \"sequential\"\n",
            "_________________________________________________________________\n",
            " Layer (type)                Output Shape              Param #   \n",
            "=================================================================\n",
            " conv2d (Conv2D)             (None, 222, 222, 8)       224       \n",
            "                                                                 \n",
            " max_pooling2d (MaxPooling2D  (None, 111, 111, 8)      0         \n",
            " )                                                               \n",
            "                                                                 \n",
            " conv2d_1 (Conv2D)           (None, 109, 109, 16)      1168      \n",
            "                                                                 \n",
            " max_pooling2d_1 (MaxPooling  (None, 54, 54, 16)       0         \n",
            " 2D)                                                             \n",
            "                                                                 \n",
            " conv2d_2 (Conv2D)           (None, 52, 52, 32)        4640      \n",
            "                                                                 \n",
            " max_pooling2d_2 (MaxPooling  (None, 26, 26, 32)       0         \n",
            " 2D)                                                             \n",
            "                                                                 \n",
            " flatten (Flatten)           (None, 21632)             0         \n",
            "                                                                 \n",
            " dense (Dense)               (None, 1024)              22152192  \n",
            "                                                                 \n",
            " dense_1 (Dense)             (None, 512)               524800    \n",
            "                                                                 \n",
            " dense_2 (Dense)             (None, 1)                 513       \n",
            "                                                                 \n",
            "=================================================================\n",
            "Total params: 22,683,537\n",
            "Trainable params: 22,683,537\n",
            "Non-trainable params: 0\n",
            "_________________________________________________________________\n"
          ]
        }
      ]
    },
    {
      "cell_type": "code",
      "source": [
        "es=EarlyStopping(monitor='val_accuracy', mode='max', verbose=1, patience=10)\n",
        "mc = ModelCheckpoint('./output/model.h5', monitor='val_accuracy', mode='max' )"
      ],
      "metadata": {
        "id": "oPFG8ooF12ea"
      },
      "execution_count": 14,
      "outputs": []
    },
    {
      "cell_type": "code",
      "source": [
        "H = model.fit(train_generator,validation_data=val_generator,epochs=15,verbose=1, callbacks=[es,mc])"
      ],
      "metadata": {
        "colab": {
          "base_uri": "https://localhost:8080/"
        },
        "id": "skSHmMqj1v2o",
        "outputId": "837791b4-e064-41d1-8265-0286da6b3762"
      },
      "execution_count": 15,
      "outputs": [
        {
          "output_type": "stream",
          "name": "stdout",
          "text": [
            "Epoch 1/15\n",
            "9/9 [==============================] - 88s 9s/step - loss: 31.7223 - accuracy: 0.6081 - auc: 0.5091 - val_loss: 17.7099 - val_accuracy: 0.7554 - val_auc: 0.5000\n",
            "Epoch 2/15\n",
            "9/9 [==============================] - 5s 567ms/step - loss: 4.7195 - accuracy: 0.7839 - auc: 0.6032 - val_loss: 4.3651 - val_accuracy: 0.7554 - val_auc: 0.5000\n",
            "Epoch 3/15\n",
            "9/9 [==============================] - 5s 575ms/step - loss: 3.7614 - accuracy: 0.6813 - auc: 0.4986 - val_loss: 2.6672 - val_accuracy: 0.7554 - val_auc: 0.5345\n",
            "Epoch 4/15\n",
            "9/9 [==============================] - 5s 565ms/step - loss: 1.8921 - accuracy: 0.7473 - auc: 0.5307 - val_loss: 4.3364 - val_accuracy: 0.2518 - val_auc: 0.6402\n",
            "Epoch 5/15\n",
            "9/9 [==============================] - 5s 564ms/step - loss: 1.3092 - accuracy: 0.7070 - auc: 0.6000 - val_loss: 1.9292 - val_accuracy: 0.7554 - val_auc: 0.6011\n",
            "Epoch 6/15\n",
            "9/9 [==============================] - 5s 562ms/step - loss: 0.9384 - accuracy: 0.7839 - auc: 0.6392 - val_loss: 1.9466 - val_accuracy: 0.4604 - val_auc: 0.6464\n",
            "Epoch 7/15\n",
            "9/9 [==============================] - 5s 568ms/step - loss: 1.2715 - accuracy: 0.6740 - auc: 0.5726 - val_loss: 1.6192 - val_accuracy: 0.7482 - val_auc: 0.6144\n",
            "Epoch 8/15\n",
            "9/9 [==============================] - 5s 569ms/step - loss: 1.2785 - accuracy: 0.7070 - auc: 0.5425 - val_loss: 0.8966 - val_accuracy: 0.6906 - val_auc: 0.6706\n",
            "Epoch 9/15\n",
            "9/9 [==============================] - 5s 573ms/step - loss: 0.5526 - accuracy: 0.7985 - auc: 0.7330 - val_loss: 2.1262 - val_accuracy: 0.4029 - val_auc: 0.7053\n",
            "Epoch 10/15\n",
            "9/9 [==============================] - 5s 572ms/step - loss: 0.8804 - accuracy: 0.7326 - auc: 0.6233 - val_loss: 1.1484 - val_accuracy: 0.6259 - val_auc: 0.6794\n",
            "Epoch 11/15\n",
            "9/9 [==============================] - 5s 570ms/step - loss: 0.8595 - accuracy: 0.7473 - auc: 0.6976 - val_loss: 1.1674 - val_accuracy: 0.5971 - val_auc: 0.6724\n",
            "Epoch 11: early stopping\n"
          ]
        }
      ]
    },
    {
      "cell_type": "code",
      "source": [
        "plt.plot(H.history['accuracy'])\n",
        "plt.plot(H.history['val_accuracy'])\n",
        "plt.title('model accuracy')\n",
        "plt.ylabel('accuracy')\n",
        "plt.xlabel('epoch')\n",
        "plt.legend(['train', 'val'], loc='upper left')\n",
        "plt.show()"
      ],
      "metadata": {
        "colab": {
          "base_uri": "https://localhost:8080/",
          "height": 295
        },
        "id": "YwAwfceo2GVL",
        "outputId": "ef1a24b0-4580-42ba-eb3d-41e2acc19363"
      },
      "execution_count": 16,
      "outputs": [
        {
          "output_type": "display_data",
          "data": {
            "text/plain": [
              "<Figure size 432x288 with 1 Axes>"
            ],
            "image/png": "[encoded data removed]"
          },
          "metadata": {
            "needs_background": "light"
          }
        }
      ]
    },
    {
      "cell_type": "markdown",
      "source": [
        "## Second Model with augmentation"
      ],
      "metadata": {
        "id": "9PIoHkZF4R_n"
      }
    },
    {
      "cell_type": "code",
      "source": [
        "model1=tf.keras.models.Sequential([\n",
        "    tf.keras.layers.experimental.preprocessing.RandomFlip(\n",
        "    mode=\"horizontal_and_vertical\", seed=45),\n",
        "    \n",
        "    tf.keras.layers.Conv2D(8,(3,3),activation ='relu', input_shape=(224,224,3)),\n",
        "    tf.keras.layers.MaxPooling2D(2,2),\n",
        "    \n",
        "    tf.keras.layers.Conv2D(16,(3,3),activation ='relu'),\n",
        "    tf.keras.layers.MaxPooling2D(2,2),\n",
        "    \n",
        "    tf.keras.layers.Conv2D(32,(3,3),activation ='relu'),\n",
        "    tf.keras.layers.MaxPooling2D(2,2),\n",
        "    \n",
        "    tf.keras.layers.Flatten(),\n",
        "    \n",
        "    tf.keras.layers.Dense(1024,activation='relu'),\n",
        "    tf.keras.layers.Dense(512,activation='relu'),\n",
        "    \n",
        "    tf.keras.layers.Dense(1,activation='sigmoid')    \n",
        " ])"
      ],
      "metadata": {
        "id": "mX4icVo84PDp"
      },
      "execution_count": 18,
      "outputs": []
    },
    {
      "cell_type": "code",
      "source": [
        "model1.compile(loss = \"binary_crossentropy\", optimizer = \"adagrad\", metrics = [\"accuracy\",\"AUC\"])\n",
        "# model1.summary()"
      ],
      "metadata": {
        "id": "N7ibeJer4ymK"
      },
      "execution_count": 20,
      "outputs": []
    },
    {
      "cell_type": "code",
      "source": [
        "H1 = model.fit(train_generator,validation_data=val_generator,epochs=15,verbose=1, callbacks=[es,mc])"
      ],
      "metadata": {
        "colab": {
          "base_uri": "https://localhost:8080/"
        },
        "id": "0bHF1A954-pY",
        "outputId": "644a1878-05e5-4eb2-8872-5b3c15395913"
      },
      "execution_count": 21,
      "outputs": [
        {
          "output_type": "stream",
          "name": "stdout",
          "text": [
            "Epoch 1/15\n",
            "9/9 [==============================] - 5s 587ms/step - loss: 0.8823 - accuracy: 0.6923 - auc: 0.5601 - val_loss: 0.8854 - val_accuracy: 0.6763 - val_auc: 0.6669\n",
            "Epoch 2/15\n",
            "9/9 [==============================] - 5s 562ms/step - loss: 0.6492 - accuracy: 0.7509 - auc: 0.6776 - val_loss: 0.7195 - val_accuracy: 0.7050 - val_auc: 0.6880\n",
            "Epoch 3/15\n",
            "9/9 [==============================] - 5s 562ms/step - loss: 0.5324 - accuracy: 0.8022 - auc: 0.6947 - val_loss: 0.7214 - val_accuracy: 0.6835 - val_auc: 0.6852\n",
            "Epoch 4/15\n",
            "9/9 [==============================] - 5s 563ms/step - loss: 0.7329 - accuracy: 0.7509 - auc: 0.6205 - val_loss: 0.9335 - val_accuracy: 0.6619 - val_auc: 0.6807\n",
            "Epoch 5/15\n",
            "9/9 [==============================] - 5s 567ms/step - loss: 0.6427 - accuracy: 0.7509 - auc: 0.6703 - val_loss: 0.8616 - val_accuracy: 0.6475 - val_auc: 0.6756\n",
            "Epoch 6/15\n",
            "9/9 [==============================] - 5s 572ms/step - loss: 0.7906 - accuracy: 0.7289 - auc: 0.5990 - val_loss: 0.7031 - val_accuracy: 0.7410 - val_auc: 0.6584\n",
            "Epoch 7/15\n",
            "9/9 [==============================] - 5s 566ms/step - loss: 0.4836 - accuracy: 0.7912 - auc: 0.7181 - val_loss: 0.6709 - val_accuracy: 0.7482 - val_auc: 0.6728\n",
            "Epoch 8/15\n",
            "9/9 [==============================] - 5s 563ms/step - loss: 0.5913 - accuracy: 0.7766 - auc: 0.6798 - val_loss: 0.6492 - val_accuracy: 0.7482 - val_auc: 0.6784\n",
            "Epoch 9/15\n",
            "9/9 [==============================] - 6s 603ms/step - loss: 0.5198 - accuracy: 0.7766 - auc: 0.7478 - val_loss: 0.6552 - val_accuracy: 0.7482 - val_auc: 0.6878\n",
            "Epoch 10/15\n",
            "9/9 [==============================] - 5s 591ms/step - loss: 0.5892 - accuracy: 0.7692 - auc: 0.6433 - val_loss: 0.6399 - val_accuracy: 0.7698 - val_auc: 0.6730\n",
            "Epoch 11/15\n",
            "9/9 [==============================] - 5s 575ms/step - loss: 0.5367 - accuracy: 0.7912 - auc: 0.6818 - val_loss: 0.7001 - val_accuracy: 0.6691 - val_auc: 0.6745\n",
            "Epoch 12/15\n",
            "9/9 [==============================] - 5s 565ms/step - loss: 0.5103 - accuracy: 0.7839 - auc: 0.7120 - val_loss: 0.5905 - val_accuracy: 0.7554 - val_auc: 0.6787\n",
            "Epoch 13/15\n",
            "9/9 [==============================] - 5s 563ms/step - loss: 0.7375 - accuracy: 0.7289 - auc: 0.6101 - val_loss: 0.7483 - val_accuracy: 0.7554 - val_auc: 0.6924\n",
            "Epoch 14/15\n",
            "9/9 [==============================] - 5s 591ms/step - loss: 0.4662 - accuracy: 0.7912 - auc: 0.7433 - val_loss: 0.6542 - val_accuracy: 0.6906 - val_auc: 0.6961\n",
            "Epoch 15/15\n",
            "9/9 [==============================] - 5s 555ms/step - loss: 0.5374 - accuracy: 0.7656 - auc: 0.6726 - val_loss: 0.8246 - val_accuracy: 0.7554 - val_auc: 0.6849\n"
          ]
        }
      ]
    },
    {
      "cell_type": "code",
      "source": [
        "plt.plot(H1.history['accuracy'])\n",
        "plt.plot(H1.history['val_accuracy'])\n",
        "plt.title('new model accuracy')\n",
        "plt.ylabel('accuracy')\n",
        "plt.xlabel('epoch')\n",
        "plt.legend(['train', 'val'], loc='upper left')\n",
        "plt.show()"
      ],
      "metadata": {
        "colab": {
          "base_uri": "https://localhost:8080/",
          "height": 295
        },
        "id": "ybOOXxvs5gBx",
        "outputId": "400d1773-4111-4fb4-d763-5d284c629852"
      },
      "execution_count": 22,
      "outputs": [
        {
          "output_type": "display_data",
          "data": {
            "text/plain": [
              "<Figure size 432x288 with 1 Axes>"
            ],
            "image/png": "[encoded data removed]"
          },
          "metadata": {
            "needs_background": "light"
          }
        }
      ]
    }
  ],
  "metadata": {
    "colab": {
      "name": "Thyroid.ipynb",
      "provenance": []
    },
    "kernelspec": {
      "display_name": "Python 3",
      "name": "python3"
    },
    "language_info": {
      "name": "python"
    },
    "accelerator": "GPU",
    "gpuClass": "standard"
  },
  "nbformat": 4,
  "nbformat_minor": 0
}