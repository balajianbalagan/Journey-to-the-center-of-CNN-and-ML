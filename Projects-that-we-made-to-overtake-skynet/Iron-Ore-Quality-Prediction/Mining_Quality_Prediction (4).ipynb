{
  "cells": [
    {
      "cell_type": "markdown",
      "metadata": {
        "id": "pc2ztRZVySbj"
      },
      "source": [
        "Here's an outline of the project:\n",
        "\n",
        "Download the dataset\n",
        "\n",
        "Explore & analyze the dataset\n",
        "\n",
        "Prepare the dataset for ML training\n",
        "\n",
        "Train hardcoded & baseline models\n",
        "\n",
        "Make predictions & submit to Kaggle\n",
        "\n",
        "Peform feature engineering\n",
        "\n",
        "Train & evaluate different models\n",
        "\n",
        "Tune hyperparameters for the best models\n",
        "\n",
        "Train on a GPU with the entire dataset\n",
        "\n",
        "Document & publish the project online\n",
        "\n",
        "\n",
        "\n"
      ]
    },
    {
      "cell_type": "markdown",
      "metadata": {
        "id": "TXjwNWp7yRRQ"
      },
      "source": [
        "# Downloading the dataset"
      ]
    },
    {
      "cell_type": "code",
      "execution_count": 1,
      "metadata": {
        "colab": {
          "base_uri": "https://localhost:8080/"
        },
        "id": "b7MCJcFgzPVP",
        "outputId": "6a79f205-6c14-402f-9ae1-419a0c66c58e"
      },
      "outputs": [
        {
          "output_type": "stream",
          "name": "stdout",
          "text": [
            "Looking in indexes: https://pypi.org/simple, https://us-python.pkg.dev/colab-wheels/public/simple/\n",
            "Collecting opendatasets\n",
            "  Downloading opendatasets-0.1.22-py3-none-any.whl (15 kB)\n",
            "Requirement already satisfied: kaggle in /usr/local/lib/python3.7/dist-packages (from opendatasets) (1.5.12)\n",
            "Requirement already satisfied: click in /usr/local/lib/python3.7/dist-packages (from opendatasets) (7.1.2)\n",
            "Requirement already satisfied: tqdm in /usr/local/lib/python3.7/dist-packages (from opendatasets) (4.64.0)\n",
            "Requirement already satisfied: python-slugify in /usr/local/lib/python3.7/dist-packages (from kaggle->opendatasets) (6.1.2)\n",
            "Requirement already satisfied: certifi in /usr/local/lib/python3.7/dist-packages (from kaggle->opendatasets) (2022.6.15)\n",
            "Requirement already satisfied: six>=1.10 in /usr/local/lib/python3.7/dist-packages (from kaggle->opendatasets) (1.15.0)\n",
            "Requirement already satisfied: requests in /usr/local/lib/python3.7/dist-packages (from kaggle->opendatasets) (2.23.0)\n",
            "Requirement already satisfied: urllib3 in /usr/local/lib/python3.7/dist-packages (from kaggle->opendatasets) (1.24.3)\n",
            "Requirement already satisfied: python-dateutil in /usr/local/lib/python3.7/dist-packages (from kaggle->opendatasets) (2.8.2)\n",
            "Requirement already satisfied: text-unidecode>=1.3 in /usr/local/lib/python3.7/dist-packages (from python-slugify->kaggle->opendatasets) (1.3)\n",
            "Requirement already satisfied: chardet<4,>=3.0.2 in /usr/local/lib/python3.7/dist-packages (from requests->kaggle->opendatasets) (3.0.4)\n",
            "Requirement already satisfied: idna<3,>=2.5 in /usr/local/lib/python3.7/dist-packages (from requests->kaggle->opendatasets) (2.10)\n",
            "Installing collected packages: opendatasets\n",
            "Successfully installed opendatasets-0.1.22\n"
          ]
        }
      ],
      "source": [
        "! pip install opendatasets"
      ]
    },
    {
      "cell_type": "code",
      "execution_count": 2,
      "metadata": {
        "id": "Z_S0zHLoaPqo"
      },
      "outputs": [],
      "source": [
        "import opendatasets as od"
      ]
    },
    {
      "cell_type": "code",
      "execution_count": 3,
      "metadata": {
        "id": "U2z_SeWnbn6v"
      },
      "outputs": [],
      "source": [
        "data_url='https://www.kaggle.com/datasets/edumagalhaes/quality-prediction-in-a-mining-process'"
      ]
    },
    {
      "cell_type": "code",
      "execution_count": 4,
      "metadata": {
        "colab": {
          "base_uri": "https://localhost:8080/"
        },
        "id": "-1EJNi-4zcQu",
        "outputId": "71327eb5-612a-4c3f-8b67-a434ed3fe8bf"
      },
      "outputs": [
        {
          "output_type": "stream",
          "name": "stdout",
          "text": [
            "Please provide your Kaggle credentials to download this dataset. Learn more: http://bit.ly/kaggle-creds\n",
            "Your Kaggle username: aswinramanathan\n",
            "Your Kaggle Key: ··········\n",
            "Downloading quality-prediction-in-a-mining-process.zip to ./quality-prediction-in-a-mining-process\n"
          ]
        },
        {
          "output_type": "stream",
          "name": "stderr",
          "text": [
            "100%|██████████| 50.9M/50.9M [00:02<00:00, 24.3MB/s]\n"
          ]
        },
        {
          "output_type": "stream",
          "name": "stdout",
          "text": [
            "\n"
          ]
        }
      ],
      "source": [
        "od.download(data_url)"
      ]
    },
    {
      "cell_type": "code",
      "execution_count": 5,
      "metadata": {
        "id": "Aed_C6nrztd4"
      },
      "outputs": [],
      "source": [
        "data_dir='quality-prediction-in-a-mining-process'"
      ]
    },
    {
      "cell_type": "markdown",
      "metadata": {
        "id": "vz0iF-4R0Ahb"
      },
      "source": [
        "# Opening and viewing the dataset\n"
      ]
    },
    {
      "cell_type": "code",
      "execution_count": 6,
      "metadata": {
        "colab": {
          "base_uri": "https://localhost:8080/"
        },
        "id": "leBCrNh40aiO",
        "outputId": "a4a71d3f-f234-4022-fbda-d016596417f7"
      },
      "outputs": [
        {
          "output_type": "stream",
          "name": "stdout",
          "text": [
            "total 176M\n",
            "-rw-r--r-- 1 root root 176M Jul 15 14:13 MiningProcess_Flotation_Plant_Database.csv\n"
          ]
        }
      ],
      "source": [
        "!ls -lh {data_dir}"
      ]
    },
    {
      "cell_type": "code",
      "execution_count": 7,
      "metadata": {
        "colab": {
          "base_uri": "https://localhost:8080/"
        },
        "id": "G7MVRL7c0ist",
        "outputId": "b043b277-015d-4d64-f225-8d88daeb5f19"
      },
      "outputs": [
        {
          "output_type": "stream",
          "name": "stdout",
          "text": [
            "date,% Iron Feed,% Silica Feed,Starch Flow,Amina Flow,Ore Pulp Flow,Ore Pulp pH,Ore Pulp Density,Flotation Column 01 Air Flow,Flotation Column 02 Air Flow,Flotation Column 03 Air Flow,Flotation Column 04 Air Flow,Flotation Column 05 Air Flow,Flotation Column 06 Air Flow,Flotation Column 07 Air Flow,Flotation Column 01 Level,Flotation Column 02 Level,Flotation Column 03 Level,Flotation Column 04 Level,Flotation Column 05 Level,Flotation Column 06 Level,Flotation Column 07 Level,% Iron Concentrate,% Silica Concentrate\n",
            "2017-03-10 01:00:00,\"55,2\",\"16,98\",\"3019,53\",\"557,434\",\"395,713\",\"10,0664\",\"1,74\",\"249,214\",\"253,235\",\"250,576\",\"295,096\",\"306,4\",\"250,225\",\"250,884\",\"457,396\",\"432,962\",\"424,954\",\"443,558\",\"502,255\",\"446,37\",\"523,344\",\"66,91\",\"1,31\"\n",
            "2017-03-10 01:00:00,\"55,2\",\"16,98\",\"3024,41\",\"563,965\",\"397,383\",\"10,0672\",\"1,74\",\"249,719\",\"250,532\",\"250,862\",\"295,096\",\"306,4\",\"250,137\",\"248,994\",\"451,891\",\"429,56\",\"432,939\",\"448,086\",\"496,363\",\"445,922\",\"498,075\",\"66,91\",\"1,31\"\n",
            "2017-03-10 01:00:00,\"55,2\",\"16,98\",\"3043,46\",\"568,054\",\"399,668\",\"10,068\",\"1,74\",\"249,741\",\"247,874\",\"250,313\",\"295,096\",\"306,4\",\"251,345\",\"248,071\",\"451,24\",\"468,927\",\"434,61\",\"449,688\",\"484,411\",\"447,826\",\"458,567\",\"66,91\",\"1,31\"\n",
            "2017-03-10 01:00:00,\"55,2\",\"16,98\",\"3047,36\",\"568,665\",\"397,939\",\"10,0689\",\"1,74\",\"249,917\",\"254,487\",\"250,049\",\"295,096\",\"306,4\",\"250,422\",\"251,147\",\"452,441\",\"458,165\",\"442,865\",\"446,21\",\"471,411\",\"437,69\",\"427,669\",\"66,91\",\"1,31\"\n",
            "2017-03-10 01:00:00,\"55,2\",\"16,98\",\"3033,69\",\"558,167\",\"400,254\",\"10,0697\",\"1,74\",\"250,203\",\"252,136\",\"249,895\",\"295,096\",\"306,4\",\"249,983\",\"248,928\",\"452,441\",\"452,9\",\"450,523\",\"453,67\",\"462,598\",\"443,682\",\"425,679\",\"66,91\",\"1,31\"\n",
            "2017-03-10 01:00:00,\"55,2\",\"16,98\",\"3079,1\",\"564,697\",\"396,533\",\"10,0705\",\"1,74\",\"250,73\",\"248,906\",\"249,521\",\"295,096\",\"306,4\",\"250,356\",\"251,873\",\"444,384\",\"443,269\",\"460,449\",\"439,92\",\"451,588\",\"433,539\",\"425,458\",\"66,91\",\"1,31\"\n",
            "2017-03-10 01:00:00,\"55,2\",\"16,98\",\"3127,79\",\"566,467\",\"392,9\",\"10,0713\",\"1,74\",\"250,313\",\"252,202\",\"249,082\",\"295,096\",\"306,4\",\"250,95\",\"253,477\",\"446,185\",\"444,571\",\"452,306\",\"431,328\",\"443,548\",\"444,575\",\"431,251\",\"66,91\",\"1,31\"\n",
            "2017-03-10 01:00:00,\"55,2\",\"16,98\",\"3152,93\",\"558,777\",\"397,002\",\"10,0722\",\"1,74\",\"249,895\",\"253,63\",\"249,258\",\"295,096\",\"306,4\",\"249,456\",\"253,345\",\"445,985\",\"461,341\",\"461,64\",\"442,067\",\"441,73\",\"461,77\",\"449,679\",\"66,91\",\"1,31\"\n",
            "2017-03-10 01:00:00,\"55,2\",\"16,98\",\"3147,27\",\"556,03\",\"394,307\",\"10,073\",\"1,74\",\"250,137\",\"251,104\",\"248,774\",\"295,096\",\"306,4\",\"248,577\",\"250,884\",\"446,686\",\"478,385\",\"459,103\",\"455,074\",\"439,798\",\"457,738\",\"455,915\",\"66,91\",\"1,31\"\n"
          ]
        }
      ],
      "source": [
        "!head {data_dir}/MiningProcess_Flotation_Plant_Database.csv"
      ]
    },
    {
      "cell_type": "code",
      "execution_count": 8,
      "metadata": {
        "colab": {
          "base_uri": "https://localhost:8080/"
        },
        "id": "wiYsCG6N00ZP",
        "outputId": "ebe77eb5-88d4-41bf-e54d-aa82c4820ac9"
      },
      "outputs": [
        {
          "output_type": "execute_result",
          "data": {
            "text/plain": [
              "['date',\n",
              " '% Iron Feed',\n",
              " '% Silica Feed',\n",
              " 'Starch Flow',\n",
              " 'Amina Flow',\n",
              " 'Ore Pulp Flow',\n",
              " 'Ore Pulp pH',\n",
              " 'Ore Pulp Density',\n",
              " 'Flotation Column 01 Air Flow',\n",
              " 'Flotation Column 02 Air Flow',\n",
              " 'Flotation Column 03 Air Flow',\n",
              " 'Flotation Column 04 Air Flow',\n",
              " 'Flotation Column 05 Air Flow',\n",
              " 'Flotation Column 06 Air Flow',\n",
              " 'Flotation Column 07 Air Flow',\n",
              " 'Flotation Column 01 Level',\n",
              " 'Flotation Column 02 Level',\n",
              " 'Flotation Column 03 Level',\n",
              " 'Flotation Column 04 Level',\n",
              " 'Flotation Column 05 Level',\n",
              " 'Flotation Column 06 Level',\n",
              " 'Flotation Column 07 Level',\n",
              " '% Iron Concentrate',\n",
              " '% Silica Concentrate']"
            ]
          },
          "metadata": {},
          "execution_count": 8
        }
      ],
      "source": [
        "cols='date,% Iron Feed,% Silica Feed,Starch Flow,Amina Flow,Ore Pulp Flow,Ore Pulp pH,Ore Pulp Density,Flotation Column 01 Air Flow,Flotation Column 02 Air Flow,Flotation Column 03 Air Flow,Flotation Column 04 Air Flow,Flotation Column 05 Air Flow,Flotation Column 06 Air Flow,Flotation Column 07 Air Flow,Flotation Column 01 Level,Flotation Column 02 Level,Flotation Column 03 Level,Flotation Column 04 Level,Flotation Column 05 Level,Flotation Column 06 Level,Flotation Column 07 Level,% Iron Concentrate,% Silica Concentrate'.split(',')\n",
        "cols"
      ]
    },
    {
      "cell_type": "code",
      "execution_count": 9,
      "metadata": {
        "colab": {
          "base_uri": "https://localhost:8080/"
        },
        "id": "0VULvl2908eX",
        "outputId": "94ad323a-89cb-4ede-e328-db151517080d"
      },
      "outputs": [
        {
          "output_type": "execute_result",
          "data": {
            "text/plain": [
              "24"
            ]
          },
          "metadata": {},
          "execution_count": 9
        }
      ],
      "source": [
        "len(cols)"
      ]
    },
    {
      "cell_type": "markdown",
      "metadata": {
        "id": "jxCxD4wF1MTX"
      },
      "source": [
        "So the given data set has 24 columns\n",
        "\n",
        "We may not need all of these columns in the first iteration of building the model\n",
        "\n",
        "Let us take the necessary columns along each way"
      ]
    },
    {
      "cell_type": "code",
      "execution_count": 10,
      "metadata": {
        "colab": {
          "base_uri": "https://localhost:8080/"
        },
        "id": "xs5TxYpY1aIS",
        "outputId": "3896a63b-89e5-428b-a080-e867b3909bce"
      },
      "outputs": [
        {
          "output_type": "stream",
          "name": "stdout",
          "text": [
            "737454 quality-prediction-in-a-mining-process/MiningProcess_Flotation_Plant_Database.csv\n"
          ]
        }
      ],
      "source": [
        "!wc -l {data_dir}/MiningProcess_Flotation_Plant_Database.csv"
      ]
    },
    {
      "cell_type": "markdown",
      "metadata": {
        "id": "UZ3mZLzb1yUn"
      },
      "source": [
        "There are nearly 74 thousand rows in the given dataset\n"
      ]
    },
    {
      "cell_type": "markdown",
      "metadata": {
        "id": "N0z5HntV5cRy"
      },
      "source": [
        ""
      ]
    },
    {
      "cell_type": "code",
      "execution_count": 11,
      "metadata": {
        "colab": {
          "base_uri": "https://localhost:8080/"
        },
        "id": "A_Iv3uCC16h-",
        "outputId": "82629b04-bd6b-498a-d59e-da3e35ad50d3"
      },
      "outputs": [
        {
          "output_type": "stream",
          "name": "stdout",
          "text": [
            "date,% Iron Feed,% Silica Feed,Starch Flow,Amina Flow,Ore Pulp Flow,Ore Pulp pH,Ore Pulp Density,Flotation Column 01 Air Flow,Flotation Column 02 Air Flow,Flotation Column 03 Air Flow,Flotation Column 04 Air Flow,Flotation Column 05 Air Flow,Flotation Column 06 Air Flow,Flotation Column 07 Air Flow,Flotation Column 01 Level,Flotation Column 02 Level,Flotation Column 03 Level,Flotation Column 04 Level,Flotation Column 05 Level,Flotation Column 06 Level,Flotation Column 07 Level,% Iron Concentrate,% Silica Concentrate\n",
            "2017-03-10 01:00:00,\"55,2\",\"16,98\",\"3019,53\",\"557,434\",\"395,713\",\"10,0664\",\"1,74\",\"249,214\",\"253,235\",\"250,576\",\"295,096\",\"306,4\",\"250,225\",\"250,884\",\"457,396\",\"432,962\",\"424,954\",\"443,558\",\"502,255\",\"446,37\",\"523,344\",\"66,91\",\"1,31\"\n",
            "2017-03-10 01:00:00,\"55,2\",\"16,98\",\"3024,41\",\"563,965\",\"397,383\",\"10,0672\",\"1,74\",\"249,719\",\"250,532\",\"250,862\",\"295,096\",\"306,4\",\"250,137\",\"248,994\",\"451,891\",\"429,56\",\"432,939\",\"448,086\",\"496,363\",\"445,922\",\"498,075\",\"66,91\",\"1,31\"\n",
            "2017-03-10 01:00:00,\"55,2\",\"16,98\",\"3043,46\",\"568,054\",\"399,668\",\"10,068\",\"1,74\",\"249,741\",\"247,874\",\"250,313\",\"295,096\",\"306,4\",\"251,345\",\"248,071\",\"451,24\",\"468,927\",\"434,61\",\"449,688\",\"484,411\",\"447,826\",\"458,567\",\"66,91\",\"1,31\"\n",
            "2017-03-10 01:00:00,\"55,2\",\"16,98\",\"3047,36\",\"568,665\",\"397,939\",\"10,0689\",\"1,74\",\"249,917\",\"254,487\",\"250,049\",\"295,096\",\"306,4\",\"250,422\",\"251,147\",\"452,441\",\"458,165\",\"442,865\",\"446,21\",\"471,411\",\"437,69\",\"427,669\",\"66,91\",\"1,31\"\n",
            "2017-03-10 01:00:00,\"55,2\",\"16,98\",\"3033,69\",\"558,167\",\"400,254\",\"10,0697\",\"1,74\",\"250,203\",\"252,136\",\"249,895\",\"295,096\",\"306,4\",\"249,983\",\"248,928\",\"452,441\",\"452,9\",\"450,523\",\"453,67\",\"462,598\",\"443,682\",\"425,679\",\"66,91\",\"1,31\"\n",
            "2017-03-10 01:00:00,\"55,2\",\"16,98\",\"3079,1\",\"564,697\",\"396,533\",\"10,0705\",\"1,74\",\"250,73\",\"248,906\",\"249,521\",\"295,096\",\"306,4\",\"250,356\",\"251,873\",\"444,384\",\"443,269\",\"460,449\",\"439,92\",\"451,588\",\"433,539\",\"425,458\",\"66,91\",\"1,31\"\n",
            "2017-03-10 01:00:00,\"55,2\",\"16,98\",\"3127,79\",\"566,467\",\"392,9\",\"10,0713\",\"1,74\",\"250,313\",\"252,202\",\"249,082\",\"295,096\",\"306,4\",\"250,95\",\"253,477\",\"446,185\",\"444,571\",\"452,306\",\"431,328\",\"443,548\",\"444,575\",\"431,251\",\"66,91\",\"1,31\"\n",
            "2017-03-10 01:00:00,\"55,2\",\"16,98\",\"3152,93\",\"558,777\",\"397,002\",\"10,0722\",\"1,74\",\"249,895\",\"253,63\",\"249,258\",\"295,096\",\"306,4\",\"249,456\",\"253,345\",\"445,985\",\"461,341\",\"461,64\",\"442,067\",\"441,73\",\"461,77\",\"449,679\",\"66,91\",\"1,31\"\n",
            "2017-03-10 01:00:00,\"55,2\",\"16,98\",\"3147,27\",\"556,03\",\"394,307\",\"10,073\",\"1,74\",\"250,137\",\"251,104\",\"248,774\",\"295,096\",\"306,4\",\"248,577\",\"250,884\",\"446,686\",\"478,385\",\"459,103\",\"455,074\",\"439,798\",\"457,738\",\"455,915\",\"66,91\",\"1,31\"\n"
          ]
        }
      ],
      "source": [
        "!head {data_dir}/MiningProcess_Flotation_Plant_Database.csv"
      ]
    },
    {
      "cell_type": "markdown",
      "metadata": {
        "id": "NdxWYNsK2RiR"
      },
      "source": [
        "# Using pandas to read the dataset"
      ]
    },
    {
      "cell_type": "code",
      "execution_count": 12,
      "metadata": {
        "id": "_qyKBQ3n2Yhp"
      },
      "outputs": [],
      "source": [
        "import pandas as pd"
      ]
    },
    {
      "cell_type": "code",
      "execution_count": 13,
      "metadata": {
        "colab": {
          "base_uri": "https://localhost:8080/"
        },
        "id": "UdgPdTA42rdg",
        "outputId": "56bf7f5a-9e37-4e54-8ac6-870b9388c8be"
      },
      "outputs": [
        {
          "output_type": "execute_result",
          "data": {
            "text/plain": [
              "['date',\n",
              " '% Iron Feed',\n",
              " '% Silica Feed',\n",
              " 'Starch Flow',\n",
              " 'Amina Flow',\n",
              " 'Ore Pulp Flow',\n",
              " 'Ore Pulp pH',\n",
              " 'Ore Pulp Density',\n",
              " 'Flotation Column 01 Air Flow',\n",
              " 'Flotation Column 02 Air Flow',\n",
              " 'Flotation Column 03 Air Flow',\n",
              " 'Flotation Column 04 Air Flow',\n",
              " 'Flotation Column 05 Air Flow',\n",
              " 'Flotation Column 06 Air Flow',\n",
              " 'Flotation Column 07 Air Flow',\n",
              " 'Flotation Column 01 Level',\n",
              " 'Flotation Column 02 Level',\n",
              " 'Flotation Column 03 Level',\n",
              " 'Flotation Column 04 Level',\n",
              " 'Flotation Column 05 Level',\n",
              " 'Flotation Column 06 Level',\n",
              " 'Flotation Column 07 Level',\n",
              " '% Iron Concentrate',\n",
              " '% Silica Concentrate']"
            ]
          },
          "metadata": {},
          "execution_count": 13
        }
      ],
      "source": [
        "cols"
      ]
    },
    {
      "cell_type": "code",
      "execution_count": 14,
      "metadata": {
        "id": "qYoLO6Bo21Ff"
      },
      "outputs": [],
      "source": [
        "need_cols=('% Iron Feed',\n",
        " '% Silica Feed',\n",
        " 'Starch Flow',\n",
        " 'Amina Flow',\n",
        " 'Ore Pulp Flow',\n",
        " 'Ore Pulp pH',\n",
        " 'Ore Pulp Density',\n",
        " 'Flotation Column 01 Air Flow',\n",
        " 'Flotation Column 02 Air Flow',\n",
        " 'Flotation Column 03 Air Flow',\n",
        " 'Flotation Column 04 Air Flow',\n",
        " 'Flotation Column 05 Air Flow',\n",
        " 'Flotation Column 06 Air Flow',\n",
        " 'Flotation Column 07 Air Flow',\n",
        " 'Flotation Column 01 Level',\n",
        " 'Flotation Column 02 Level',\n",
        " 'Flotation Column 03 Level',\n",
        " 'Flotation Column 04 Level',\n",
        " 'Flotation Column 05 Level',\n",
        " 'Flotation Column 06 Level',\n",
        " 'Flotation Column 07 Level',\n",
        " '% Iron Concentrate',\n",
        " '% Silica Concentrate')"
      ]
    },
    {
      "cell_type": "code",
      "execution_count": 15,
      "metadata": {
        "colab": {
          "base_uri": "https://localhost:8080/"
        },
        "id": "Y45lFtco3F3P",
        "outputId": "7ca7e966-26c8-4c36-b5a7-acf8f74c006e"
      },
      "outputs": [
        {
          "output_type": "execute_result",
          "data": {
            "text/plain": [
              "('% Iron Feed',\n",
              " '% Silica Feed',\n",
              " 'Starch Flow',\n",
              " 'Amina Flow',\n",
              " 'Ore Pulp Flow',\n",
              " 'Ore Pulp pH',\n",
              " 'Ore Pulp Density',\n",
              " 'Flotation Column 01 Air Flow',\n",
              " 'Flotation Column 02 Air Flow',\n",
              " 'Flotation Column 03 Air Flow',\n",
              " 'Flotation Column 04 Air Flow',\n",
              " 'Flotation Column 05 Air Flow',\n",
              " 'Flotation Column 06 Air Flow',\n",
              " 'Flotation Column 07 Air Flow',\n",
              " 'Flotation Column 01 Level',\n",
              " 'Flotation Column 02 Level',\n",
              " 'Flotation Column 03 Level',\n",
              " 'Flotation Column 04 Level',\n",
              " 'Flotation Column 05 Level',\n",
              " 'Flotation Column 06 Level',\n",
              " 'Flotation Column 07 Level',\n",
              " '% Iron Concentrate',\n",
              " '% Silica Concentrate')"
            ]
          },
          "metadata": {},
          "execution_count": 15
        }
      ],
      "source": [
        "need_cols\n"
      ]
    },
    {
      "cell_type": "markdown",
      "metadata": {
        "id": "vK9091Dm3Jxk"
      },
      "source": [
        "We have ignored the date field in the gievn dataset for the first iteration because the date of extraction will not have that much of an effect on the output quality\n",
        "\n",
        "Besides, porcessing dates is resource-intensive. So let us take care of that in other iterations if needed."
      ]
    },
    {
      "cell_type": "code",
      "execution_count": 16,
      "metadata": {
        "id": "P10Hep_I3IaP"
      },
      "outputs": [],
      "source": [
        "data_types_cols={\n",
        "    '% Iron Feed':'float32',\n",
        " '% Silica Feed':'float32',\n",
        " 'Starch Flow':'float32',\n",
        " 'Amina Flow':'float32',\n",
        " 'Ore Pulp Flow':'float32',\n",
        " 'Ore Pulp pH':'float32',\n",
        " 'Ore Pulp Density':'float32',\n",
        " 'Flotation Column 01 Air Flow':'float32',\n",
        " 'Flotation Column 02 Air Flow':'float32',\n",
        " 'Flotation Column 03 Air Flow':'float32',\n",
        " 'Flotation Column 04 Air Flow':'float32',\n",
        " 'Flotation Column 05 Air Flow':'float32',\n",
        " 'Flotation Column 06 Air Flow':'float32',\n",
        " 'Flotation Column 07 Air Flow':'float32',\n",
        " 'Flotation Column 01 Level':'float32',\n",
        " 'Flotation Column 02 Level':'float32',\n",
        " 'Flotation Column 03 Level':'float32',\n",
        " 'Flotation Column 04 Level':'float32',\n",
        " 'Flotation Column 05 Level':'float32',\n",
        " 'Flotation Column 06 Level':'float32',\n",
        " 'Flotation Column 07 Level':'float32',\n",
        " '% Iron Concentrate':'float32',\n",
        " '% Silica Concentrate':'float32'\n",
        "    \n",
        "}"
      ]
    },
    {
      "cell_type": "code",
      "execution_count": 17,
      "metadata": {
        "colab": {
          "base_uri": "https://localhost:8080/"
        },
        "id": "yKBE1B_j4WEV",
        "outputId": "c0cdcc21-7648-4729-b178-373464429c10"
      },
      "outputs": [
        {
          "output_type": "execute_result",
          "data": {
            "text/plain": [
              "{'% Iron Concentrate': 'float32',\n",
              " '% Iron Feed': 'float32',\n",
              " '% Silica Concentrate': 'float32',\n",
              " '% Silica Feed': 'float32',\n",
              " 'Amina Flow': 'float32',\n",
              " 'Flotation Column 01 Air Flow': 'float32',\n",
              " 'Flotation Column 01 Level': 'float32',\n",
              " 'Flotation Column 02 Air Flow': 'float32',\n",
              " 'Flotation Column 02 Level': 'float32',\n",
              " 'Flotation Column 03 Air Flow': 'float32',\n",
              " 'Flotation Column 03 Level': 'float32',\n",
              " 'Flotation Column 04 Air Flow': 'float32',\n",
              " 'Flotation Column 04 Level': 'float32',\n",
              " 'Flotation Column 05 Air Flow': 'float32',\n",
              " 'Flotation Column 05 Level': 'float32',\n",
              " 'Flotation Column 06 Air Flow': 'float32',\n",
              " 'Flotation Column 06 Level': 'float32',\n",
              " 'Flotation Column 07 Air Flow': 'float32',\n",
              " 'Flotation Column 07 Level': 'float32',\n",
              " 'Ore Pulp Density': 'float32',\n",
              " 'Ore Pulp Flow': 'float32',\n",
              " 'Ore Pulp pH': 'float32',\n",
              " 'Starch Flow': 'float32'}"
            ]
          },
          "metadata": {},
          "execution_count": 17
        }
      ],
      "source": [
        "data_types_cols"
      ]
    },
    {
      "cell_type": "code",
      "execution_count": 18,
      "metadata": {
        "id": "EfKNkQt64Zhh"
      },
      "outputs": [],
      "source": [
        "\n",
        "# df=pd.read_csv(\"/content/quality/MiningProcess_Flotation_Plant_Database.csv\",usecols=need_cols,dtype=data_dir)\n",
        "df=pd.read_csv(\"/content/quality-prediction-in-a-mining-process/MiningProcess_Flotation_Plant_Database.csv\",usecols=[x for x in range(0,24)])"
      ]
    },
    {
      "cell_type": "code",
      "execution_count": 19,
      "metadata": {
        "colab": {
          "base_uri": "https://localhost:8080/",
          "height": 870
        },
        "id": "FDrYvplzdw_2",
        "outputId": "46841bb6-9ae4-47dd-f16c-b26d10c24cf5"
      },
      "outputs": [
        {
          "output_type": "execute_result",
          "data": {
            "text/plain": [
              "                       date % Iron Feed % Silica Feed Starch Flow Amina Flow  \\\n",
              "0       2017-03-10 01:00:00        55,2         16,98     3019,53    557,434   \n",
              "1       2017-03-10 01:00:00        55,2         16,98     3024,41    563,965   \n",
              "2       2017-03-10 01:00:00        55,2         16,98     3043,46    568,054   \n",
              "3       2017-03-10 01:00:00        55,2         16,98     3047,36    568,665   \n",
              "4       2017-03-10 01:00:00        55,2         16,98     3033,69    558,167   \n",
              "...                     ...         ...           ...         ...        ...   \n",
              "737448  2017-09-09 23:00:00       49,75          23,2     2710,94    441,052   \n",
              "737449  2017-09-09 23:00:00       49,75          23,2     2692,01    473,436   \n",
              "737450  2017-09-09 23:00:00       49,75          23,2      2692,2    500,488   \n",
              "737451  2017-09-09 23:00:00       49,75          23,2     1164,12    491,548   \n",
              "737452  2017-09-09 23:00:00       49,75          23,2     1164,12    468,019   \n",
              "\n",
              "       Ore Pulp Flow Ore Pulp pH Ore Pulp Density  \\\n",
              "0            395,713     10,0664             1,74   \n",
              "1            397,383     10,0672             1,74   \n",
              "2            399,668      10,068             1,74   \n",
              "3            397,939     10,0689             1,74   \n",
              "4            400,254     10,0697             1,74   \n",
              "...              ...         ...              ...   \n",
              "737448        386,57     9,62129          1,65365   \n",
              "737449       384,939     9,62063          1,65352   \n",
              "737450       383,496     9,61874          1,65338   \n",
              "737451       384,976     9,61686          1,65324   \n",
              "737452       384,801     9,61497           1,6531   \n",
              "\n",
              "       Flotation Column 01 Air Flow Flotation Column 02 Air Flow  ...  \\\n",
              "0                           249,214                      253,235  ...   \n",
              "1                           249,719                      250,532  ...   \n",
              "2                           249,741                      247,874  ...   \n",
              "3                           249,917                      254,487  ...   \n",
              "4                           250,203                      252,136  ...   \n",
              "...                             ...                          ...  ...   \n",
              "737448                      302,344                      298,786  ...   \n",
              "737449                      303,013                      301,879  ...   \n",
              "737450                      303,662                      307,397  ...   \n",
              "737451                       302,55                      301,959  ...   \n",
              "737452                      300,355                      292,865  ...   \n",
              "\n",
              "       Flotation Column 07 Air Flow Flotation Column 01 Level  \\\n",
              "0                           250,884                   457,396   \n",
              "1                           248,994                   451,891   \n",
              "2                           248,071                    451,24   \n",
              "3                           251,147                   452,441   \n",
              "4                           248,928                   452,441   \n",
              "...                             ...                       ...   \n",
              "737448                      313,695                    392,16   \n",
              "737449                        236,7                   401,505   \n",
              "737450                      225,879                   408,899   \n",
              "737451                      308,115                   405,107   \n",
              "737452                      308,115                   413,754   \n",
              "\n",
              "       Flotation Column 02 Level Flotation Column 03 Level  \\\n",
              "0                        432,962                   424,954   \n",
              "1                         429,56                   432,939   \n",
              "2                        468,927                    434,61   \n",
              "3                        458,165                   442,865   \n",
              "4                          452,9                   450,523   \n",
              "...                          ...                       ...   \n",
              "737448                   430,702                   872,008   \n",
              "737449                   404,616                   864,409   \n",
              "737450                   399,316                   867,598   \n",
              "737451                   466,832                   876,591   \n",
              "737452                   514,143                   881,323   \n",
              "\n",
              "       Flotation Column 04 Level Flotation Column 05 Level  \\\n",
              "0                        443,558                   502,255   \n",
              "1                        448,086                   496,363   \n",
              "2                        449,688                   484,411   \n",
              "3                         446,21                   471,411   \n",
              "4                         453,67                   462,598   \n",
              "...                          ...                       ...   \n",
              "737448                   418,725                   497,548   \n",
              "737449                   418,377                   506,398   \n",
              "737450                   419,531                   503,414   \n",
              "737451                   407,299                   502,301   \n",
              "737452                   378,969                     500,1   \n",
              "\n",
              "       Flotation Column 06 Level Flotation Column 07 Level % Iron Concentrate  \\\n",
              "0                         446,37                   523,344              66,91   \n",
              "1                        445,922                   498,075              66,91   \n",
              "2                        447,826                   458,567              66,91   \n",
              "3                         437,69                   427,669              66,91   \n",
              "4                        443,682                   425,679              66,91   \n",
              "...                          ...                       ...                ...   \n",
              "737448                   446,357                   416,892              64,27   \n",
              "737449                   372,995                   426,337              64,27   \n",
              "737450                   336,035                    433,13              64,27   \n",
              "737451                   340,844                   433,966              64,27   \n",
              "737452                   374,354                   441,182              64,27   \n",
              "\n",
              "       % Silica Concentrate  \n",
              "0                      1,31  \n",
              "1                      1,31  \n",
              "2                      1,31  \n",
              "3                      1,31  \n",
              "4                      1,31  \n",
              "...                     ...  \n",
              "737448                 1,71  \n",
              "737449                 1,71  \n",
              "737450                 1,71  \n",
              "737451                 1,71  \n",
              "737452                 1,71  \n",
              "\n",
              "[737453 rows x 24 columns]"
            ],
            "text/html": [
              "\n",
              "  <div id=\"df-02d49670-3c19-4e23-b7c9-1973c3d9ae8c\">\n",
              "    <div class=\"colab-df-container\">\n",
              "      <div>\n",
              "<style scoped>\n",
              "    .dataframe tbody tr th:only-of-type {\n",
              "        vertical-align: middle;\n",
              "    }\n",
              "\n",
              "    .dataframe tbody tr th {\n",
              "        vertical-align: top;\n",
              "    }\n",
              "\n",
              "    .dataframe thead th {\n",
              "        text-align: right;\n",
              "    }\n",
              "</style>\n",
              "<table border=\"1\" class=\"dataframe\">\n",
              "  <thead>\n",
              "    <tr style=\"text-align: right;\">\n",
              "      <th></th>\n",
              "      <th>date</th>\n",
              "      <th>% Iron Feed</th>\n",
              "      <th>% Silica Feed</th>\n",
              "      <th>Starch Flow</th>\n",
              "      <th>Amina Flow</th>\n",
              "      <th>Ore Pulp Flow</th>\n",
              "      <th>Ore Pulp pH</th>\n",
              "      <th>Ore Pulp Density</th>\n",
              "      <th>Flotation Column 01 Air Flow</th>\n",
              "      <th>Flotation Column 02 Air Flow</th>\n",
              "      <th>...</th>\n",
              "      <th>Flotation Column 07 Air Flow</th>\n",
              "      <th>Flotation Column 01 Level</th>\n",
              "      <th>Flotation Column 02 Level</th>\n",
              "      <th>Flotation Column 03 Level</th>\n",
              "      <th>Flotation Column 04 Level</th>\n",
              "      <th>Flotation Column 05 Level</th>\n",
              "      <th>Flotation Column 06 Level</th>\n",
              "      <th>Flotation Column 07 Level</th>\n",
              "      <th>% Iron Concentrate</th>\n",
              "      <th>% Silica Concentrate</th>\n",
              "    </tr>\n",
              "  </thead>\n",
              "  <tbody>\n",
              "    <tr>\n",
              "      <th>0</th>\n",
              "      <td>2017-03-10 01:00:00</td>\n",
              "      <td>55,2</td>\n",
              "      <td>16,98</td>\n",
              "      <td>3019,53</td>\n",
              "      <td>557,434</td>\n",
              "      <td>395,713</td>\n",
              "      <td>10,0664</td>\n",
              "      <td>1,74</td>\n",
              "      <td>249,214</td>\n",
              "      <td>253,235</td>\n",
              "      <td>...</td>\n",
              "      <td>250,884</td>\n",
              "      <td>457,396</td>\n",
              "      <td>432,962</td>\n",
              "      <td>424,954</td>\n",
              "      <td>443,558</td>\n",
              "      <td>502,255</td>\n",
              "      <td>446,37</td>\n",
              "      <td>523,344</td>\n",
              "      <td>66,91</td>\n",
              "      <td>1,31</td>\n",
              "    </tr>\n",
              "    <tr>\n",
              "      <th>1</th>\n",
              "      <td>2017-03-10 01:00:00</td>\n",
              "      <td>55,2</td>\n",
              "      <td>16,98</td>\n",
              "      <td>3024,41</td>\n",
              "      <td>563,965</td>\n",
              "      <td>397,383</td>\n",
              "      <td>10,0672</td>\n",
              "      <td>1,74</td>\n",
              "      <td>249,719</td>\n",
              "      <td>250,532</td>\n",
              "      <td>...</td>\n",
              "      <td>248,994</td>\n",
              "      <td>451,891</td>\n",
              "      <td>429,56</td>\n",
              "      <td>432,939</td>\n",
              "      <td>448,086</td>\n",
              "      <td>496,363</td>\n",
              "      <td>445,922</td>\n",
              "      <td>498,075</td>\n",
              "      <td>66,91</td>\n",
              "      <td>1,31</td>\n",
              "    </tr>\n",
              "    <tr>\n",
              "      <th>2</th>\n",
              "      <td>2017-03-10 01:00:00</td>\n",
              "      <td>55,2</td>\n",
              "      <td>16,98</td>\n",
              "      <td>3043,46</td>\n",
              "      <td>568,054</td>\n",
              "      <td>399,668</td>\n",
              "      <td>10,068</td>\n",
              "      <td>1,74</td>\n",
              "      <td>249,741</td>\n",
              "      <td>247,874</td>\n",
              "      <td>...</td>\n",
              "      <td>248,071</td>\n",
              "      <td>451,24</td>\n",
              "      <td>468,927</td>\n",
              "      <td>434,61</td>\n",
              "      <td>449,688</td>\n",
              "      <td>484,411</td>\n",
              "      <td>447,826</td>\n",
              "      <td>458,567</td>\n",
              "      <td>66,91</td>\n",
              "      <td>1,31</td>\n",
              "    </tr>\n",
              "    <tr>\n",
              "      <th>3</th>\n",
              "      <td>2017-03-10 01:00:00</td>\n",
              "      <td>55,2</td>\n",
              "      <td>16,98</td>\n",
              "      <td>3047,36</td>\n",
              "      <td>568,665</td>\n",
              "      <td>397,939</td>\n",
              "      <td>10,0689</td>\n",
              "      <td>1,74</td>\n",
              "      <td>249,917</td>\n",
              "      <td>254,487</td>\n",
              "      <td>...</td>\n",
              "      <td>251,147</td>\n",
              "      <td>452,441</td>\n",
              "      <td>458,165</td>\n",
              "      <td>442,865</td>\n",
              "      <td>446,21</td>\n",
              "      <td>471,411</td>\n",
              "      <td>437,69</td>\n",
              "      <td>427,669</td>\n",
              "      <td>66,91</td>\n",
              "      <td>1,31</td>\n",
              "    </tr>\n",
              "    <tr>\n",
              "      <th>4</th>\n",
              "      <td>2017-03-10 01:00:00</td>\n",
              "      <td>55,2</td>\n",
              "      <td>16,98</td>\n",
              "      <td>3033,69</td>\n",
              "      <td>558,167</td>\n",
              "      <td>400,254</td>\n",
              "      <td>10,0697</td>\n",
              "      <td>1,74</td>\n",
              "      <td>250,203</td>\n",
              "      <td>252,136</td>\n",
              "      <td>...</td>\n",
              "      <td>248,928</td>\n",
              "      <td>452,441</td>\n",
              "      <td>452,9</td>\n",
              "      <td>450,523</td>\n",
              "      <td>453,67</td>\n",
              "      <td>462,598</td>\n",
              "      <td>443,682</td>\n",
              "      <td>425,679</td>\n",
              "      <td>66,91</td>\n",
              "      <td>1,31</td>\n",
              "    </tr>\n",
              "    <tr>\n",
              "      <th>...</th>\n",
              "      <td>...</td>\n",
              "      <td>...</td>\n",
              "      <td>...</td>\n",
              "      <td>...</td>\n",
              "      <td>...</td>\n",
              "      <td>...</td>\n",
              "      <td>...</td>\n",
              "      <td>...</td>\n",
              "      <td>...</td>\n",
              "      <td>...</td>\n",
              "      <td>...</td>\n",
              "      <td>...</td>\n",
              "      <td>...</td>\n",
              "      <td>...</td>\n",
              "      <td>...</td>\n",
              "      <td>...</td>\n",
              "      <td>...</td>\n",
              "      <td>...</td>\n",
              "      <td>...</td>\n",
              "      <td>...</td>\n",
              "      <td>...</td>\n",
              "    </tr>\n",
              "    <tr>\n",
              "      <th>737448</th>\n",
              "      <td>2017-09-09 23:00:00</td>\n",
              "      <td>49,75</td>\n",
              "      <td>23,2</td>\n",
              "      <td>2710,94</td>\n",
              "      <td>441,052</td>\n",
              "      <td>386,57</td>\n",
              "      <td>9,62129</td>\n",
              "      <td>1,65365</td>\n",
              "      <td>302,344</td>\n",
              "      <td>298,786</td>\n",
              "      <td>...</td>\n",
              "      <td>313,695</td>\n",
              "      <td>392,16</td>\n",
              "      <td>430,702</td>\n",
              "      <td>872,008</td>\n",
              "      <td>418,725</td>\n",
              "      <td>497,548</td>\n",
              "      <td>446,357</td>\n",
              "      <td>416,892</td>\n",
              "      <td>64,27</td>\n",
              "      <td>1,71</td>\n",
              "    </tr>\n",
              "    <tr>\n",
              "      <th>737449</th>\n",
              "      <td>2017-09-09 23:00:00</td>\n",
              "      <td>49,75</td>\n",
              "      <td>23,2</td>\n",
              "      <td>2692,01</td>\n",
              "      <td>473,436</td>\n",
              "      <td>384,939</td>\n",
              "      <td>9,62063</td>\n",
              "      <td>1,65352</td>\n",
              "      <td>303,013</td>\n",
              "      <td>301,879</td>\n",
              "      <td>...</td>\n",
              "      <td>236,7</td>\n",
              "      <td>401,505</td>\n",
              "      <td>404,616</td>\n",
              "      <td>864,409</td>\n",
              "      <td>418,377</td>\n",
              "      <td>506,398</td>\n",
              "      <td>372,995</td>\n",
              "      <td>426,337</td>\n",
              "      <td>64,27</td>\n",
              "      <td>1,71</td>\n",
              "    </tr>\n",
              "    <tr>\n",
              "      <th>737450</th>\n",
              "      <td>2017-09-09 23:00:00</td>\n",
              "      <td>49,75</td>\n",
              "      <td>23,2</td>\n",
              "      <td>2692,2</td>\n",
              "      <td>500,488</td>\n",
              "      <td>383,496</td>\n",
              "      <td>9,61874</td>\n",
              "      <td>1,65338</td>\n",
              "      <td>303,662</td>\n",
              "      <td>307,397</td>\n",
              "      <td>...</td>\n",
              "      <td>225,879</td>\n",
              "      <td>408,899</td>\n",
              "      <td>399,316</td>\n",
              "      <td>867,598</td>\n",
              "      <td>419,531</td>\n",
              "      <td>503,414</td>\n",
              "      <td>336,035</td>\n",
              "      <td>433,13</td>\n",
              "      <td>64,27</td>\n",
              "      <td>1,71</td>\n",
              "    </tr>\n",
              "    <tr>\n",
              "      <th>737451</th>\n",
              "      <td>2017-09-09 23:00:00</td>\n",
              "      <td>49,75</td>\n",
              "      <td>23,2</td>\n",
              "      <td>1164,12</td>\n",
              "      <td>491,548</td>\n",
              "      <td>384,976</td>\n",
              "      <td>9,61686</td>\n",
              "      <td>1,65324</td>\n",
              "      <td>302,55</td>\n",
              "      <td>301,959</td>\n",
              "      <td>...</td>\n",
              "      <td>308,115</td>\n",
              "      <td>405,107</td>\n",
              "      <td>466,832</td>\n",
              "      <td>876,591</td>\n",
              "      <td>407,299</td>\n",
              "      <td>502,301</td>\n",
              "      <td>340,844</td>\n",
              "      <td>433,966</td>\n",
              "      <td>64,27</td>\n",
              "      <td>1,71</td>\n",
              "    </tr>\n",
              "    <tr>\n",
              "      <th>737452</th>\n",
              "      <td>2017-09-09 23:00:00</td>\n",
              "      <td>49,75</td>\n",
              "      <td>23,2</td>\n",
              "      <td>1164,12</td>\n",
              "      <td>468,019</td>\n",
              "      <td>384,801</td>\n",
              "      <td>9,61497</td>\n",
              "      <td>1,6531</td>\n",
              "      <td>300,355</td>\n",
              "      <td>292,865</td>\n",
              "      <td>...</td>\n",
              "      <td>308,115</td>\n",
              "      <td>413,754</td>\n",
              "      <td>514,143</td>\n",
              "      <td>881,323</td>\n",
              "      <td>378,969</td>\n",
              "      <td>500,1</td>\n",
              "      <td>374,354</td>\n",
              "      <td>441,182</td>\n",
              "      <td>64,27</td>\n",
              "      <td>1,71</td>\n",
              "    </tr>\n",
              "  </tbody>\n",
              "</table>\n",
              "<p>737453 rows × 24 columns</p>\n",
              "</div>\n",
              "      <button class=\"colab-df-convert\" onclick=\"convertToInteractive('df-02d49670-3c19-4e23-b7c9-1973c3d9ae8c')\"\n",
              "              title=\"Convert this dataframe to an interactive table.\"\n",
              "              style=\"display:none;\">\n",
              "        \n",
              "  <svg xmlns=\"http://www.w3.org/2000/svg\" height=\"24px\"viewBox=\"0 0 24 24\"\n",
              "       width=\"24px\">\n",
              "    <path d=\"M0 0h24v24H0V0z\" fill=\"none\"/>\n",
              "    <path d=\"M18.56 5.44l.94 2.06.94-2.06 2.06-.94-2.06-.94-.94-2.06-.94 2.06-2.06.94zm-11 1L8.5 8.5l.94-2.06 2.06-.94-2.06-.94L8.5 2.5l-.94 2.06-2.06.94zm10 10l.94 2.06.94-2.06 2.06-.94-2.06-.94-.94-2.06-.94 2.06-2.06.94z\"/><path d=\"M17.41 7.96l-1.37-1.37c-.4-.4-.92-.59-1.43-.59-.52 0-1.04.2-1.43.59L10.3 9.45l-7.72 7.72c-.78.78-.78 2.05 0 2.83L4 21.41c.39.39.9.59 1.41.59.51 0 1.02-.2 1.41-.59l7.78-7.78 2.81-2.81c.8-.78.8-2.07 0-2.86zM5.41 20L4 18.59l7.72-7.72 1.47 1.35L5.41 20z\"/>\n",
              "  </svg>\n",
              "      </button>\n",
              "      \n",
              "  <style>\n",
              "    .colab-df-container {\n",
              "      display:flex;\n",
              "      flex-wrap:wrap;\n",
              "      gap: 12px;\n",
              "    }\n",
              "\n",
              "    .colab-df-convert {\n",
              "      background-color: #E8F0FE;\n",
              "      border: none;\n",
              "      border-radius: 50%;\n",
              "      cursor: pointer;\n",
              "      display: none;\n",
              "      fill: #1967D2;\n",
              "      height: 32px;\n",
              "      padding: 0 0 0 0;\n",
              "      width: 32px;\n",
              "    }\n",
              "\n",
              "    .colab-df-convert:hover {\n",
              "      background-color: #E2EBFA;\n",
              "      box-shadow: 0px 1px 2px rgba(60, 64, 67, 0.3), 0px 1px 3px 1px rgba(60, 64, 67, 0.15);\n",
              "      fill: #174EA6;\n",
              "    }\n",
              "\n",
              "    [theme=dark] .colab-df-convert {\n",
              "      background-color: #3B4455;\n",
              "      fill: #D2E3FC;\n",
              "    }\n",
              "\n",
              "    [theme=dark] .colab-df-convert:hover {\n",
              "      background-color: #434B5C;\n",
              "      box-shadow: 0px 1px 3px 1px rgba(0, 0, 0, 0.15);\n",
              "      filter: drop-shadow(0px 1px 2px rgba(0, 0, 0, 0.3));\n",
              "      fill: #FFFFFF;\n",
              "    }\n",
              "  </style>\n",
              "\n",
              "      <script>\n",
              "        const buttonEl =\n",
              "          document.querySelector('#df-02d49670-3c19-4e23-b7c9-1973c3d9ae8c button.colab-df-convert');\n",
              "        buttonEl.style.display =\n",
              "          google.colab.kernel.accessAllowed ? 'block' : 'none';\n",
              "\n",
              "        async function convertToInteractive(key) {\n",
              "          const element = document.querySelector('#df-02d49670-3c19-4e23-b7c9-1973c3d9ae8c');\n",
              "          const dataTable =\n",
              "            await google.colab.kernel.invokeFunction('convertToInteractive',\n",
              "                                                     [key], {});\n",
              "          if (!dataTable) return;\n",
              "\n",
              "          const docLinkHtml = 'Like what you see? Visit the ' +\n",
              "            '<a target=\"_blank\" href=https://colab.research.google.com/notebooks/data_table.ipynb>data table notebook</a>'\n",
              "            + ' to learn more about interactive tables.';\n",
              "          element.innerHTML = '';\n",
              "          dataTable['output_type'] = 'display_data';\n",
              "          await google.colab.output.renderOutput(dataTable, element);\n",
              "          const docLink = document.createElement('div');\n",
              "          docLink.innerHTML = docLinkHtml;\n",
              "          element.appendChild(docLink);\n",
              "        }\n",
              "      </script>\n",
              "    </div>\n",
              "  </div>\n",
              "  "
            ]
          },
          "metadata": {},
          "execution_count": 19
        }
      ],
      "source": [
        "df"
      ]
    },
    {
      "cell_type": "code",
      "execution_count": 20,
      "metadata": {
        "colab": {
          "base_uri": "https://localhost:8080/"
        },
        "id": "-euCJZP4hQ9a",
        "outputId": "5d9755fe-b66a-4913-b8da-cef0d10edb58"
      },
      "outputs": [
        {
          "output_type": "execute_result",
          "data": {
            "text/plain": [
              "(737453, 24)"
            ]
          },
          "metadata": {},
          "execution_count": 20
        }
      ],
      "source": [
        "df.shape"
      ]
    },
    {
      "cell_type": "code",
      "execution_count": 21,
      "metadata": {
        "colab": {
          "base_uri": "https://localhost:8080/"
        },
        "id": "sGJHr0kQeeGQ",
        "outputId": "8ccdfcde-e697-4c75-b4b4-ce548ecaaee2"
      },
      "outputs": [
        {
          "output_type": "stream",
          "name": "stdout",
          "text": [
            "<class 'pandas.core.frame.DataFrame'>\n",
            "RangeIndex: 737453 entries, 0 to 737452\n",
            "Data columns (total 24 columns):\n",
            " #   Column                        Non-Null Count   Dtype \n",
            "---  ------                        --------------   ----- \n",
            " 0   date                          737453 non-null  object\n",
            " 1   % Iron Feed                   737453 non-null  object\n",
            " 2   % Silica Feed                 737453 non-null  object\n",
            " 3   Starch Flow                   737453 non-null  object\n",
            " 4   Amina Flow                    737453 non-null  object\n",
            " 5   Ore Pulp Flow                 737453 non-null  object\n",
            " 6   Ore Pulp pH                   737453 non-null  object\n",
            " 7   Ore Pulp Density              737453 non-null  object\n",
            " 8   Flotation Column 01 Air Flow  737453 non-null  object\n",
            " 9   Flotation Column 02 Air Flow  737453 non-null  object\n",
            " 10  Flotation Column 03 Air Flow  737453 non-null  object\n",
            " 11  Flotation Column 04 Air Flow  737453 non-null  object\n",
            " 12  Flotation Column 05 Air Flow  737453 non-null  object\n",
            " 13  Flotation Column 06 Air Flow  737453 non-null  object\n",
            " 14  Flotation Column 07 Air Flow  737453 non-null  object\n",
            " 15  Flotation Column 01 Level     737453 non-null  object\n",
            " 16  Flotation Column 02 Level     737453 non-null  object\n",
            " 17  Flotation Column 03 Level     737453 non-null  object\n",
            " 18  Flotation Column 04 Level     737453 non-null  object\n",
            " 19  Flotation Column 05 Level     737453 non-null  object\n",
            " 20  Flotation Column 06 Level     737453 non-null  object\n",
            " 21  Flotation Column 07 Level     737453 non-null  object\n",
            " 22  % Iron Concentrate            737453 non-null  object\n",
            " 23  % Silica Concentrate          737453 non-null  object\n",
            "dtypes: object(24)\n",
            "memory usage: 135.0+ MB\n"
          ]
        }
      ],
      "source": [
        "df.info()"
      ]
    },
    {
      "cell_type": "markdown",
      "metadata": {
        "id": "Zi0CWAuYgM2W"
      },
      "source": [
        "We don't need the date column because the date is not related to the outcome of the ore\n",
        "\n",
        "Let us drop the date field"
      ]
    },
    {
      "cell_type": "code",
      "execution_count": 22,
      "metadata": {
        "id": "alNWejEygUBK"
      },
      "outputs": [],
      "source": [
        "df.drop(['date'],axis=1,inplace=True)"
      ]
    },
    {
      "cell_type": "markdown",
      "metadata": {
        "id": "iyCUCM0Jf57z"
      },
      "source": [
        "The columns are not of float data type\n",
        "\n",
        "Let us convert them into float data type"
      ]
    },
    {
      "cell_type": "code",
      "execution_count": 23,
      "metadata": {
        "colab": {
          "base_uri": "https://localhost:8080/"
        },
        "id": "WsJQdt1Igoh8",
        "outputId": "6ea76807-3c92-4c6a-9b2a-ba6c90ad1ac6"
      },
      "outputs": [
        {
          "output_type": "execute_result",
          "data": {
            "text/plain": [
              "Index(['% Iron Feed', '% Silica Feed', 'Starch Flow', 'Amina Flow',\n",
              "       'Ore Pulp Flow', 'Ore Pulp pH', 'Ore Pulp Density',\n",
              "       'Flotation Column 01 Air Flow', 'Flotation Column 02 Air Flow',\n",
              "       'Flotation Column 03 Air Flow', 'Flotation Column 04 Air Flow',\n",
              "       'Flotation Column 05 Air Flow', 'Flotation Column 06 Air Flow',\n",
              "       'Flotation Column 07 Air Flow', 'Flotation Column 01 Level',\n",
              "       'Flotation Column 02 Level', 'Flotation Column 03 Level',\n",
              "       'Flotation Column 04 Level', 'Flotation Column 05 Level',\n",
              "       'Flotation Column 06 Level', 'Flotation Column 07 Level',\n",
              "       '% Iron Concentrate', '% Silica Concentrate'],\n",
              "      dtype='object')"
            ]
          },
          "metadata": {},
          "execution_count": 23
        }
      ],
      "source": [
        "df.columns"
      ]
    },
    {
      "cell_type": "code",
      "execution_count": 24,
      "metadata": {
        "id": "eiTsBMCxg30S"
      },
      "outputs": [],
      "source": [
        "for i in list(df.columns):\n",
        "    df[i]=df[i].str.replace(',','.')"
      ]
    },
    {
      "cell_type": "markdown",
      "metadata": {
        "id": "VeSCL1nfg_MF"
      },
      "source": [
        "We have converted the commas in each value to a decimal point because without this pandas won't be able to transform object to float32"
      ]
    },
    {
      "cell_type": "code",
      "execution_count": 25,
      "metadata": {
        "id": "VmWvBOcYgCna"
      },
      "outputs": [],
      "source": [
        "for i in list(df.columns):\n",
        "    df[i]=df[i].astype('float32')"
      ]
    },
    {
      "cell_type": "markdown",
      "metadata": {
        "id": "qaC7ac2JlkRg"
      },
      "source": [
        "# EDA for whole dataset"
      ]
    },
    {
      "cell_type": "code",
      "execution_count": 26,
      "metadata": {
        "colab": {
          "base_uri": "https://localhost:8080/"
        },
        "id": "ixRMKZ7Ahccd",
        "outputId": "15344894-0ff4-4938-e3d4-1492cc72c89d"
      },
      "outputs": [
        {
          "output_type": "stream",
          "name": "stdout",
          "text": [
            "<class 'pandas.core.frame.DataFrame'>\n",
            "RangeIndex: 737453 entries, 0 to 737452\n",
            "Data columns (total 23 columns):\n",
            " #   Column                        Non-Null Count   Dtype  \n",
            "---  ------                        --------------   -----  \n",
            " 0   % Iron Feed                   737453 non-null  float32\n",
            " 1   % Silica Feed                 737453 non-null  float32\n",
            " 2   Starch Flow                   737453 non-null  float32\n",
            " 3   Amina Flow                    737453 non-null  float32\n",
            " 4   Ore Pulp Flow                 737453 non-null  float32\n",
            " 5   Ore Pulp pH                   737453 non-null  float32\n",
            " 6   Ore Pulp Density              737453 non-null  float32\n",
            " 7   Flotation Column 01 Air Flow  737453 non-null  float32\n",
            " 8   Flotation Column 02 Air Flow  737453 non-null  float32\n",
            " 9   Flotation Column 03 Air Flow  737453 non-null  float32\n",
            " 10  Flotation Column 04 Air Flow  737453 non-null  float32\n",
            " 11  Flotation Column 05 Air Flow  737453 non-null  float32\n",
            " 12  Flotation Column 06 Air Flow  737453 non-null  float32\n",
            " 13  Flotation Column 07 Air Flow  737453 non-null  float32\n",
            " 14  Flotation Column 01 Level     737453 non-null  float32\n",
            " 15  Flotation Column 02 Level     737453 non-null  float32\n",
            " 16  Flotation Column 03 Level     737453 non-null  float32\n",
            " 17  Flotation Column 04 Level     737453 non-null  float32\n",
            " 18  Flotation Column 05 Level     737453 non-null  float32\n",
            " 19  Flotation Column 06 Level     737453 non-null  float32\n",
            " 20  Flotation Column 07 Level     737453 non-null  float32\n",
            " 21  % Iron Concentrate            737453 non-null  float32\n",
            " 22  % Silica Concentrate          737453 non-null  float32\n",
            "dtypes: float32(23)\n",
            "memory usage: 64.7 MB\n"
          ]
        }
      ],
      "source": [
        "df.info()"
      ]
    },
    {
      "cell_type": "code",
      "execution_count": 27,
      "metadata": {
        "colab": {
          "base_uri": "https://localhost:8080/"
        },
        "id": "20IFI9xpfwZh",
        "outputId": "7661e4fb-e457-4ef1-d8aa-14978d0a351c"
      },
      "outputs": [
        {
          "output_type": "execute_result",
          "data": {
            "text/plain": [
              "% Iron Feed                     0\n",
              "% Silica Feed                   0\n",
              "Starch Flow                     0\n",
              "Amina Flow                      0\n",
              "Ore Pulp Flow                   0\n",
              "Ore Pulp pH                     0\n",
              "Ore Pulp Density                0\n",
              "Flotation Column 01 Air Flow    0\n",
              "Flotation Column 02 Air Flow    0\n",
              "Flotation Column 03 Air Flow    0\n",
              "Flotation Column 04 Air Flow    0\n",
              "Flotation Column 05 Air Flow    0\n",
              "Flotation Column 06 Air Flow    0\n",
              "Flotation Column 07 Air Flow    0\n",
              "Flotation Column 01 Level       0\n",
              "Flotation Column 02 Level       0\n",
              "Flotation Column 03 Level       0\n",
              "Flotation Column 04 Level       0\n",
              "Flotation Column 05 Level       0\n",
              "Flotation Column 06 Level       0\n",
              "Flotation Column 07 Level       0\n",
              "% Iron Concentrate              0\n",
              "% Silica Concentrate            0\n",
              "dtype: int64"
            ]
          },
          "metadata": {},
          "execution_count": 27
        }
      ],
      "source": [
        "df.isnull().sum()"
      ]
    },
    {
      "cell_type": "markdown",
      "metadata": {
        "id": "iu5EN40Tf0jL"
      },
      "source": [
        "So there are no null values"
      ]
    },
    {
      "cell_type": "code",
      "execution_count": 28,
      "metadata": {
        "colab": {
          "base_uri": "https://localhost:8080/",
          "height": 428
        },
        "id": "4eqmRJo7f4oq",
        "outputId": "c2bd83b5-0d31-4e86-c7d3-7e152d08c436"
      },
      "outputs": [
        {
          "output_type": "execute_result",
          "data": {
            "text/plain": [
              "         % Iron Feed  % Silica Feed    Starch Flow     Amina Flow  \\\n",
              "count  737453.000000  737453.000000  737453.000000  737453.000000   \n",
              "mean       56.294743      14.651719    2869.140381     488.144653   \n",
              "std         5.157743       6.807439    1215.203735      91.230537   \n",
              "min        42.740002       1.310000       0.002026     241.669006   \n",
              "25%        52.669998       8.940000    2076.320068     431.795990   \n",
              "50%        56.080002      13.850000    3018.429932     504.393005   \n",
              "75%        59.720001      19.600000    3727.729980     553.257019   \n",
              "max        65.779999      33.400002    6300.229980     739.538025   \n",
              "\n",
              "       Ore Pulp Flow    Ore Pulp pH  Ore Pulp Density  \\\n",
              "count  737453.000000  737453.000000     737453.000000   \n",
              "mean      397.578400       9.767639          1.680380   \n",
              "std         9.699785       0.387007          0.069249   \n",
              "min       376.248993       8.753340          1.519820   \n",
              "25%       394.264008       9.527360          1.647310   \n",
              "50%       399.248993       9.798100          1.697600   \n",
              "75%       402.967987      10.038000          1.728330   \n",
              "max       418.640991      10.808100          1.853250   \n",
              "\n",
              "       Flotation Column 01 Air Flow  Flotation Column 02 Air Flow  \\\n",
              "count                 737453.000000                 737453.000000   \n",
              "mean                     280.151886                    277.159973   \n",
              "std                       29.621286                     30.149357   \n",
              "min                      175.509995                    175.156006   \n",
              "25%                      250.281006                    250.457001   \n",
              "50%                      299.343994                    296.222992   \n",
              "75%                      300.148987                    300.690002   \n",
              "max                      373.871002                    375.992004   \n",
              "\n",
              "       Flotation Column 03 Air Flow  ...  Flotation Column 07 Air Flow  \\\n",
              "count                 737453.000000  ...                 737453.000000   \n",
              "mean                     281.082489  ...                    290.754883   \n",
              "std                       28.558270  ...                     28.670105   \n",
              "min                      176.468994  ...                    185.962006   \n",
              "25%                      250.854996  ...                    256.302002   \n",
              "50%                      298.696014  ...                    299.010986   \n",
              "75%                      300.381989  ...                    301.903992   \n",
              "max                      364.346008  ...                    371.592987   \n",
              "\n",
              "       Flotation Column 01 Level  Flotation Column 02 Level  \\\n",
              "count              737453.000000              737453.000000   \n",
              "mean                  520.244812                 522.649597   \n",
              "std                   131.014923                 128.165054   \n",
              "min                   149.218002                 210.751999   \n",
              "25%                   416.977997                 441.882996   \n",
              "50%                   491.877991                 495.955994   \n",
              "75%                   594.114014                 595.463989   \n",
              "max                   862.273987                 828.919006   \n",
              "\n",
              "       Flotation Column 03 Level  Flotation Column 04 Level  \\\n",
              "count              737453.000000              737453.000000   \n",
              "mean                  531.352661                 420.320984   \n",
              "std                   150.842163                  91.794434   \n",
              "min                   126.254997                 162.201004   \n",
              "25%                   411.325012                 356.678986   \n",
              "50%                   494.317993                 411.973999   \n",
              "75%                   601.249023                 485.549011   \n",
              "max                   886.822021                 680.359009   \n",
              "\n",
              "       Flotation Column 05 Level  Flotation Column 06 Level  \\\n",
              "count              737453.000000              737453.000000   \n",
              "mean                  425.251648                 429.941040   \n",
              "std                    84.535820                  89.862228   \n",
              "min                   166.990997                 155.841003   \n",
              "25%                   357.653015                 358.497009   \n",
              "50%                   408.773010                 424.664581   \n",
              "75%                   484.329010                 492.683990   \n",
              "max                   675.643982                 698.861023   \n",
              "\n",
              "       Flotation Column 07 Level  % Iron Concentrate  % Silica Concentrate  \n",
              "count              737453.000000       737453.000000         737453.000000  \n",
              "mean                  421.021271           65.050049              2.326763  \n",
              "std                    84.891495            1.118645              1.125554  \n",
              "min                   175.348999           62.049999              0.600000  \n",
              "25%                   356.772003           64.370003              1.440000  \n",
              "50%                   411.065002           65.209999              2.000000  \n",
              "75%                   476.464996           65.860001              3.010000  \n",
              "max                   659.901978           68.010002              5.530000  \n",
              "\n",
              "[8 rows x 23 columns]"
            ],
            "text/html": [
              "\n",
              "  <div id=\"df-f2cea373-c4ca-4913-9df0-2f26c254787e\">\n",
              "    <div class=\"colab-df-container\">\n",
              "      <div>\n",
              "<style scoped>\n",
              "    .dataframe tbody tr th:only-of-type {\n",
              "        vertical-align: middle;\n",
              "    }\n",
              "\n",
              "    .dataframe tbody tr th {\n",
              "        vertical-align: top;\n",
              "    }\n",
              "\n",
              "    .dataframe thead th {\n",
              "        text-align: right;\n",
              "    }\n",
              "</style>\n",
              "<table border=\"1\" class=\"dataframe\">\n",
              "  <thead>\n",
              "    <tr style=\"text-align: right;\">\n",
              "      <th></th>\n",
              "      <th>% Iron Feed</th>\n",
              "      <th>% Silica Feed</th>\n",
              "      <th>Starch Flow</th>\n",
              "      <th>Amina Flow</th>\n",
              "      <th>Ore Pulp Flow</th>\n",
              "      <th>Ore Pulp pH</th>\n",
              "      <th>Ore Pulp Density</th>\n",
              "      <th>Flotation Column 01 Air Flow</th>\n",
              "      <th>Flotation Column 02 Air Flow</th>\n",
              "      <th>Flotation Column 03 Air Flow</th>\n",
              "      <th>...</th>\n",
              "      <th>Flotation Column 07 Air Flow</th>\n",
              "      <th>Flotation Column 01 Level</th>\n",
              "      <th>Flotation Column 02 Level</th>\n",
              "      <th>Flotation Column 03 Level</th>\n",
              "      <th>Flotation Column 04 Level</th>\n",
              "      <th>Flotation Column 05 Level</th>\n",
              "      <th>Flotation Column 06 Level</th>\n",
              "      <th>Flotation Column 07 Level</th>\n",
              "      <th>% Iron Concentrate</th>\n",
              "      <th>% Silica Concentrate</th>\n",
              "    </tr>\n",
              "  </thead>\n",
              "  <tbody>\n",
              "    <tr>\n",
              "      <th>count</th>\n",
              "      <td>737453.000000</td>\n",
              "      <td>737453.000000</td>\n",
              "      <td>737453.000000</td>\n",
              "      <td>737453.000000</td>\n",
              "      <td>737453.000000</td>\n",
              "      <td>737453.000000</td>\n",
              "      <td>737453.000000</td>\n",
              "      <td>737453.000000</td>\n",
              "      <td>737453.000000</td>\n",
              "      <td>737453.000000</td>\n",
              "      <td>...</td>\n",
              "      <td>737453.000000</td>\n",
              "      <td>737453.000000</td>\n",
              "      <td>737453.000000</td>\n",
              "      <td>737453.000000</td>\n",
              "      <td>737453.000000</td>\n",
              "      <td>737453.000000</td>\n",
              "      <td>737453.000000</td>\n",
              "      <td>737453.000000</td>\n",
              "      <td>737453.000000</td>\n",
              "      <td>737453.000000</td>\n",
              "    </tr>\n",
              "    <tr>\n",
              "      <th>mean</th>\n",
              "      <td>56.294743</td>\n",
              "      <td>14.651719</td>\n",
              "      <td>2869.140381</td>\n",
              "      <td>488.144653</td>\n",
              "      <td>397.578400</td>\n",
              "      <td>9.767639</td>\n",
              "      <td>1.680380</td>\n",
              "      <td>280.151886</td>\n",
              "      <td>277.159973</td>\n",
              "      <td>281.082489</td>\n",
              "      <td>...</td>\n",
              "      <td>290.754883</td>\n",
              "      <td>520.244812</td>\n",
              "      <td>522.649597</td>\n",
              "      <td>531.352661</td>\n",
              "      <td>420.320984</td>\n",
              "      <td>425.251648</td>\n",
              "      <td>429.941040</td>\n",
              "      <td>421.021271</td>\n",
              "      <td>65.050049</td>\n",
              "      <td>2.326763</td>\n",
              "    </tr>\n",
              "    <tr>\n",
              "      <th>std</th>\n",
              "      <td>5.157743</td>\n",
              "      <td>6.807439</td>\n",
              "      <td>1215.203735</td>\n",
              "      <td>91.230537</td>\n",
              "      <td>9.699785</td>\n",
              "      <td>0.387007</td>\n",
              "      <td>0.069249</td>\n",
              "      <td>29.621286</td>\n",
              "      <td>30.149357</td>\n",
              "      <td>28.558270</td>\n",
              "      <td>...</td>\n",
              "      <td>28.670105</td>\n",
              "      <td>131.014923</td>\n",
              "      <td>128.165054</td>\n",
              "      <td>150.842163</td>\n",
              "      <td>91.794434</td>\n",
              "      <td>84.535820</td>\n",
              "      <td>89.862228</td>\n",
              "      <td>84.891495</td>\n",
              "      <td>1.118645</td>\n",
              "      <td>1.125554</td>\n",
              "    </tr>\n",
              "    <tr>\n",
              "      <th>min</th>\n",
              "      <td>42.740002</td>\n",
              "      <td>1.310000</td>\n",
              "      <td>0.002026</td>\n",
              "      <td>241.669006</td>\n",
              "      <td>376.248993</td>\n",
              "      <td>8.753340</td>\n",
              "      <td>1.519820</td>\n",
              "      <td>175.509995</td>\n",
              "      <td>175.156006</td>\n",
              "      <td>176.468994</td>\n",
              "      <td>...</td>\n",
              "      <td>185.962006</td>\n",
              "      <td>149.218002</td>\n",
              "      <td>210.751999</td>\n",
              "      <td>126.254997</td>\n",
              "      <td>162.201004</td>\n",
              "      <td>166.990997</td>\n",
              "      <td>155.841003</td>\n",
              "      <td>175.348999</td>\n",
              "      <td>62.049999</td>\n",
              "      <td>0.600000</td>\n",
              "    </tr>\n",
              "    <tr>\n",
              "      <th>25%</th>\n",
              "      <td>52.669998</td>\n",
              "      <td>8.940000</td>\n",
              "      <td>2076.320068</td>\n",
              "      <td>431.795990</td>\n",
              "      <td>394.264008</td>\n",
              "      <td>9.527360</td>\n",
              "      <td>1.647310</td>\n",
              "      <td>250.281006</td>\n",
              "      <td>250.457001</td>\n",
              "      <td>250.854996</td>\n",
              "      <td>...</td>\n",
              "      <td>256.302002</td>\n",
              "      <td>416.977997</td>\n",
              "      <td>441.882996</td>\n",
              "      <td>411.325012</td>\n",
              "      <td>356.678986</td>\n",
              "      <td>357.653015</td>\n",
              "      <td>358.497009</td>\n",
              "      <td>356.772003</td>\n",
              "      <td>64.370003</td>\n",
              "      <td>1.440000</td>\n",
              "    </tr>\n",
              "    <tr>\n",
              "      <th>50%</th>\n",
              "      <td>56.080002</td>\n",
              "      <td>13.850000</td>\n",
              "      <td>3018.429932</td>\n",
              "      <td>504.393005</td>\n",
              "      <td>399.248993</td>\n",
              "      <td>9.798100</td>\n",
              "      <td>1.697600</td>\n",
              "      <td>299.343994</td>\n",
              "      <td>296.222992</td>\n",
              "      <td>298.696014</td>\n",
              "      <td>...</td>\n",
              "      <td>299.010986</td>\n",
              "      <td>491.877991</td>\n",
              "      <td>495.955994</td>\n",
              "      <td>494.317993</td>\n",
              "      <td>411.973999</td>\n",
              "      <td>408.773010</td>\n",
              "      <td>424.664581</td>\n",
              "      <td>411.065002</td>\n",
              "      <td>65.209999</td>\n",
              "      <td>2.000000</td>\n",
              "    </tr>\n",
              "    <tr>\n",
              "      <th>75%</th>\n",
              "      <td>59.720001</td>\n",
              "      <td>19.600000</td>\n",
              "      <td>3727.729980</td>\n",
              "      <td>553.257019</td>\n",
              "      <td>402.967987</td>\n",
              "      <td>10.038000</td>\n",
              "      <td>1.728330</td>\n",
              "      <td>300.148987</td>\n",
              "      <td>300.690002</td>\n",
              "      <td>300.381989</td>\n",
              "      <td>...</td>\n",
              "      <td>301.903992</td>\n",
              "      <td>594.114014</td>\n",
              "      <td>595.463989</td>\n",
              "      <td>601.249023</td>\n",
              "      <td>485.549011</td>\n",
              "      <td>484.329010</td>\n",
              "      <td>492.683990</td>\n",
              "      <td>476.464996</td>\n",
              "      <td>65.860001</td>\n",
              "      <td>3.010000</td>\n",
              "    </tr>\n",
              "    <tr>\n",
              "      <th>max</th>\n",
              "      <td>65.779999</td>\n",
              "      <td>33.400002</td>\n",
              "      <td>6300.229980</td>\n",
              "      <td>739.538025</td>\n",
              "      <td>418.640991</td>\n",
              "      <td>10.808100</td>\n",
              "      <td>1.853250</td>\n",
              "      <td>373.871002</td>\n",
              "      <td>375.992004</td>\n",
              "      <td>364.346008</td>\n",
              "      <td>...</td>\n",
              "      <td>371.592987</td>\n",
              "      <td>862.273987</td>\n",
              "      <td>828.919006</td>\n",
              "      <td>886.822021</td>\n",
              "      <td>680.359009</td>\n",
              "      <td>675.643982</td>\n",
              "      <td>698.861023</td>\n",
              "      <td>659.901978</td>\n",
              "      <td>68.010002</td>\n",
              "      <td>5.530000</td>\n",
              "    </tr>\n",
              "  </tbody>\n",
              "</table>\n",
              "<p>8 rows × 23 columns</p>\n",
              "</div>\n",
              "      <button class=\"colab-df-convert\" onclick=\"convertToInteractive('df-f2cea373-c4ca-4913-9df0-2f26c254787e')\"\n",
              "              title=\"Convert this dataframe to an interactive table.\"\n",
              "              style=\"display:none;\">\n",
              "        \n",
              "  <svg xmlns=\"http://www.w3.org/2000/svg\" height=\"24px\"viewBox=\"0 0 24 24\"\n",
              "       width=\"24px\">\n",
              "    <path d=\"M0 0h24v24H0V0z\" fill=\"none\"/>\n",
              "    <path d=\"M18.56 5.44l.94 2.06.94-2.06 2.06-.94-2.06-.94-.94-2.06-.94 2.06-2.06.94zm-11 1L8.5 8.5l.94-2.06 2.06-.94-2.06-.94L8.5 2.5l-.94 2.06-2.06.94zm10 10l.94 2.06.94-2.06 2.06-.94-2.06-.94-.94-2.06-.94 2.06-2.06.94z\"/><path d=\"M17.41 7.96l-1.37-1.37c-.4-.4-.92-.59-1.43-.59-.52 0-1.04.2-1.43.59L10.3 9.45l-7.72 7.72c-.78.78-.78 2.05 0 2.83L4 21.41c.39.39.9.59 1.41.59.51 0 1.02-.2 1.41-.59l7.78-7.78 2.81-2.81c.8-.78.8-2.07 0-2.86zM5.41 20L4 18.59l7.72-7.72 1.47 1.35L5.41 20z\"/>\n",
              "  </svg>\n",
              "      </button>\n",
              "      \n",
              "  <style>\n",
              "    .colab-df-container {\n",
              "      display:flex;\n",
              "      flex-wrap:wrap;\n",
              "      gap: 12px;\n",
              "    }\n",
              "\n",
              "    .colab-df-convert {\n",
              "      background-color: #E8F0FE;\n",
              "      border: none;\n",
              "      border-radius: 50%;\n",
              "      cursor: pointer;\n",
              "      display: none;\n",
              "      fill: #1967D2;\n",
              "      height: 32px;\n",
              "      padding: 0 0 0 0;\n",
              "      width: 32px;\n",
              "    }\n",
              "\n",
              "    .colab-df-convert:hover {\n",
              "      background-color: #E2EBFA;\n",
              "      box-shadow: 0px 1px 2px rgba(60, 64, 67, 0.3), 0px 1px 3px 1px rgba(60, 64, 67, 0.15);\n",
              "      fill: #174EA6;\n",
              "    }\n",
              "\n",
              "    [theme=dark] .colab-df-convert {\n",
              "      background-color: #3B4455;\n",
              "      fill: #D2E3FC;\n",
              "    }\n",
              "\n",
              "    [theme=dark] .colab-df-convert:hover {\n",
              "      background-color: #434B5C;\n",
              "      box-shadow: 0px 1px 3px 1px rgba(0, 0, 0, 0.15);\n",
              "      filter: drop-shadow(0px 1px 2px rgba(0, 0, 0, 0.3));\n",
              "      fill: #FFFFFF;\n",
              "    }\n",
              "  </style>\n",
              "\n",
              "      <script>\n",
              "        const buttonEl =\n",
              "          document.querySelector('#df-f2cea373-c4ca-4913-9df0-2f26c254787e button.colab-df-convert');\n",
              "        buttonEl.style.display =\n",
              "          google.colab.kernel.accessAllowed ? 'block' : 'none';\n",
              "\n",
              "        async function convertToInteractive(key) {\n",
              "          const element = document.querySelector('#df-f2cea373-c4ca-4913-9df0-2f26c254787e');\n",
              "          const dataTable =\n",
              "            await google.colab.kernel.invokeFunction('convertToInteractive',\n",
              "                                                     [key], {});\n",
              "          if (!dataTable) return;\n",
              "\n",
              "          const docLinkHtml = 'Like what you see? Visit the ' +\n",
              "            '<a target=\"_blank\" href=https://colab.research.google.com/notebooks/data_table.ipynb>data table notebook</a>'\n",
              "            + ' to learn more about interactive tables.';\n",
              "          element.innerHTML = '';\n",
              "          dataTable['output_type'] = 'display_data';\n",
              "          await google.colab.output.renderOutput(dataTable, element);\n",
              "          const docLink = document.createElement('div');\n",
              "          docLink.innerHTML = docLinkHtml;\n",
              "          element.appendChild(docLink);\n",
              "        }\n",
              "      </script>\n",
              "    </div>\n",
              "  </div>\n",
              "  "
            ]
          },
          "metadata": {},
          "execution_count": 28
        }
      ],
      "source": [
        "df.describe()"
      ]
    },
    {
      "cell_type": "code",
      "execution_count": 29,
      "metadata": {
        "colab": {
          "base_uri": "https://localhost:8080/",
          "height": 805
        },
        "id": "XoTLQq_7hkE0",
        "outputId": "8c4bde7b-9e05-4f7b-a82f-8f0c3c777840"
      },
      "outputs": [
        {
          "output_type": "execute_result",
          "data": {
            "text/plain": [
              "    % Iron Feed  % Silica Feed  Starch Flow  Amina Flow  Ore Pulp Flow  \\\n",
              "0     55.200001          16.98  3019.530029  557.434021     395.713013   \n",
              "1     55.200001          16.98  3024.409912  563.965027     397.382996   \n",
              "2     55.200001          16.98  3043.459961  568.054016     399.667999   \n",
              "3     55.200001          16.98  3047.360107  568.664978     397.938995   \n",
              "4     55.200001          16.98  3033.689941  558.166992     400.253998   \n",
              "5     55.200001          16.98  3079.100098  564.697021     396.532990   \n",
              "6     55.200001          16.98  3127.790039  566.466980     392.899994   \n",
              "7     55.200001          16.98  3152.929932  558.776978     397.002014   \n",
              "8     55.200001          16.98  3147.270020  556.030029     394.307007   \n",
              "9     55.200001          16.98  3142.580078  565.856995     393.105011   \n",
              "10    55.200001          16.98  3148.050049  561.950989     396.532990   \n",
              "11    55.200001          16.98  3150.389893  558.471985     397.851990   \n",
              "12    55.200001          16.98  3280.270020  564.026001     393.545013   \n",
              "13    55.200001          16.98  3411.129883  567.260986     394.160004   \n",
              "14    55.200001          16.98  3447.459961  561.645996     392.549011   \n",
              "15    55.200001          16.98  3562.699951  560.364014     394.687988   \n",
              "16    55.200001          16.98  3707.030029  563.049011     396.503998   \n",
              "17    55.200001          16.98  3784.959961  557.982971     394.834015   \n",
              "18    55.200001          16.98  3798.050049  563.109985     396.709015   \n",
              "19    55.200001          16.98  3866.600098  564.270020     398.261993   \n",
              "\n",
              "    Ore Pulp pH  Ore Pulp Density  Flotation Column 01 Air Flow  \\\n",
              "0       10.0664              1.74                    249.214005   \n",
              "1       10.0672              1.74                    249.718994   \n",
              "2       10.0680              1.74                    249.740997   \n",
              "3       10.0689              1.74                    249.917007   \n",
              "4       10.0697              1.74                    250.203003   \n",
              "5       10.0705              1.74                    250.729996   \n",
              "6       10.0713              1.74                    250.313004   \n",
              "7       10.0722              1.74                    249.895004   \n",
              "8       10.0730              1.74                    250.136993   \n",
              "9       10.0738              1.74                    249.653000   \n",
              "10      10.0746              1.74                    249.235992   \n",
              "11      10.0755              1.74                    249.169998   \n",
              "12      10.0763              1.74                    249.016006   \n",
              "13      10.0771              1.74                    249.257996   \n",
              "14      10.0779              1.74                    249.389999   \n",
              "15      10.0788              1.74                    250.005005   \n",
              "16      10.0796              1.74                    250.115005   \n",
              "17      10.0804              1.74                    250.048996   \n",
              "18      10.0812              1.74                    250.203003   \n",
              "19      10.0821              1.74                    250.268997   \n",
              "\n",
              "    Flotation Column 02 Air Flow  Flotation Column 03 Air Flow  ...  \\\n",
              "0                     253.235001                    250.576004  ...   \n",
              "1                     250.531998                    250.862000  ...   \n",
              "2                     247.873993                    250.313004  ...   \n",
              "3                     254.487000                    250.048996  ...   \n",
              "4                     252.136002                    249.895004  ...   \n",
              "5                     248.906006                    249.520996  ...   \n",
              "6                     252.201996                    249.082001  ...   \n",
              "7                     253.630005                    249.257996  ...   \n",
              "8                     251.104004                    248.774002  ...   \n",
              "9                     252.201996                    248.203003  ...   \n",
              "10                    250.817993                    250.225006  ...   \n",
              "11                    249.828995                    251.147003  ...   \n",
              "12                    249.828995                    251.147003  ...   \n",
              "13                    250.136993                    251.608994  ...   \n",
              "14                    251.190994                    250.268997  ...   \n",
              "15                    252.201996                    249.455994  ...   \n",
              "16                    249.389999                    249.697006  ...   \n",
              "17                    246.533005                    249.828995  ...   \n",
              "18                    248.181000                    250.291000  ...   \n",
              "19                    247.938995                    249.718994  ...   \n",
              "\n",
              "    Flotation Column 07 Air Flow  Flotation Column 01 Level  \\\n",
              "0                     250.884003                 457.395996   \n",
              "1                     248.994003                 451.890991   \n",
              "2                     248.070999                 451.239990   \n",
              "3                     251.147003                 452.441010   \n",
              "4                     248.927994                 452.441010   \n",
              "5                     251.873001                 444.384003   \n",
              "6                     253.477005                 446.184998   \n",
              "7                     253.345001                 445.984985   \n",
              "8                     250.884003                 446.686005   \n",
              "9                     248.136993                 445.684998   \n",
              "10                    246.796997                 456.494995   \n",
              "11                    246.533005                 461.450012   \n",
              "12                    251.147003                 457.946991   \n",
              "13                    249.587006                 448.036987   \n",
              "14                    250.225006                 433.923004   \n",
              "15                    248.839996                 434.674011   \n",
              "16                    250.774002                 446.735992   \n",
              "17                    248.643005                 451.990997   \n",
              "18                    249.807007                 447.536987   \n",
              "19                    251.542999                 452.441010   \n",
              "\n",
              "    Flotation Column 02 Level  Flotation Column 03 Level  \\\n",
              "0                  432.962006                 424.954010   \n",
              "1                  429.559998                 432.938995   \n",
              "2                  468.927002                 434.609985   \n",
              "3                  458.165009                 442.864990   \n",
              "4                  452.899994                 450.523010   \n",
              "5                  443.269012                 460.449005   \n",
              "6                  444.571014                 452.306000   \n",
              "7                  461.341003                 461.640015   \n",
              "8                  478.385010                 459.102997   \n",
              "9                  478.778992                 460.665009   \n",
              "10                 438.059998                 466.332001   \n",
              "11                 421.410004                 467.790009   \n",
              "12                 425.372009                 453.817993   \n",
              "13                 428.260010                 447.074005   \n",
              "14                 418.459015                 431.265991   \n",
              "15                 416.420013                 435.955994   \n",
              "16                 398.407013                 444.212006   \n",
              "17                 426.334991                 443.023987   \n",
              "18                 428.317993                 445.291992   \n",
              "19                 443.154999                 444.104004   \n",
              "\n",
              "    Flotation Column 04 Level  Flotation Column 05 Level  \\\n",
              "0                  443.558014                 502.255005   \n",
              "1                  448.085999                 496.363007   \n",
              "2                  449.687988                 484.411011   \n",
              "3                  446.209991                 471.411011   \n",
              "4                  453.670013                 462.597992   \n",
              "5                  439.920013                 451.588013   \n",
              "6                  431.328003                 443.548004   \n",
              "7                  442.066986                 441.730011   \n",
              "8                  455.074005                 439.798004   \n",
              "9                  457.225006                 453.235992   \n",
              "10                 458.005005                 455.493011   \n",
              "11                 458.589996                 453.839996   \n",
              "12                 453.941986                 459.628998   \n",
              "13                 458.515991                 472.134003   \n",
              "14                 465.704987                 481.441986   \n",
              "15                 459.921997                 484.359985   \n",
              "16                 444.880005                 471.963989   \n",
              "17                 429.997986                 452.628998   \n",
              "18                 425.779999                 433.191010   \n",
              "19                 418.667999                 409.286987   \n",
              "\n",
              "    Flotation Column 06 Level  Flotation Column 07 Level  % Iron Concentrate  \\\n",
              "0                  446.369995                 523.343994           66.910004   \n",
              "1                  445.921997                 498.075012           66.910004   \n",
              "2                  447.825989                 458.566986           66.910004   \n",
              "3                  437.690002                 427.669006           66.910004   \n",
              "4                  443.682007                 425.678986           66.910004   \n",
              "5                  433.539001                 425.458008           66.910004   \n",
              "6                  444.575012                 431.251007           66.910004   \n",
              "7                  461.769989                 449.678986           66.910004   \n",
              "8                  457.738007                 455.915009           66.910004   \n",
              "9                  449.898010                 455.750000           66.910004   \n",
              "10                 448.049988                 452.662994           66.910004   \n",
              "11                 448.049988                 451.339996           66.910004   \n",
              "12                 443.738007                 460.608002           66.910004   \n",
              "13                 461.489990                 467.666992           66.910004   \n",
              "14                 479.298004                 471.307007           66.910004   \n",
              "15                 457.850006                 473.846985           66.910004   \n",
              "16                 439.873993                 470.260986           66.910004   \n",
              "17                 440.769989                 463.420990           66.910004   \n",
              "18                 453.033997                 451.617004           66.910004   \n",
              "19                 453.649994                 437.820007           66.910004   \n",
              "\n",
              "    % Silica Concentrate  \n",
              "0                   1.31  \n",
              "1                   1.31  \n",
              "2                   1.31  \n",
              "3                   1.31  \n",
              "4                   1.31  \n",
              "5                   1.31  \n",
              "6                   1.31  \n",
              "7                   1.31  \n",
              "8                   1.31  \n",
              "9                   1.31  \n",
              "10                  1.31  \n",
              "11                  1.31  \n",
              "12                  1.31  \n",
              "13                  1.31  \n",
              "14                  1.31  \n",
              "15                  1.31  \n",
              "16                  1.31  \n",
              "17                  1.31  \n",
              "18                  1.31  \n",
              "19                  1.31  \n",
              "\n",
              "[20 rows x 23 columns]"
            ],
            "text/html": [
              "\n",
              "  <div id=\"df-600ba1f1-7ee1-4aee-a60c-acafdb358f9a\">\n",
              "    <div class=\"colab-df-container\">\n",
              "      <div>\n",
              "<style scoped>\n",
              "    .dataframe tbody tr th:only-of-type {\n",
              "        vertical-align: middle;\n",
              "    }\n",
              "\n",
              "    .dataframe tbody tr th {\n",
              "        vertical-align: top;\n",
              "    }\n",
              "\n",
              "    .dataframe thead th {\n",
              "        text-align: right;\n",
              "    }\n",
              "</style>\n",
              "<table border=\"1\" class=\"dataframe\">\n",
              "  <thead>\n",
              "    <tr style=\"text-align: right;\">\n",
              "      <th></th>\n",
              "      <th>% Iron Feed</th>\n",
              "      <th>% Silica Feed</th>\n",
              "      <th>Starch Flow</th>\n",
              "      <th>Amina Flow</th>\n",
              "      <th>Ore Pulp Flow</th>\n",
              "      <th>Ore Pulp pH</th>\n",
              "      <th>Ore Pulp Density</th>\n",
              "      <th>Flotation Column 01 Air Flow</th>\n",
              "      <th>Flotation Column 02 Air Flow</th>\n",
              "      <th>Flotation Column 03 Air Flow</th>\n",
              "      <th>...</th>\n",
              "      <th>Flotation Column 07 Air Flow</th>\n",
              "      <th>Flotation Column 01 Level</th>\n",
              "      <th>Flotation Column 02 Level</th>\n",
              "      <th>Flotation Column 03 Level</th>\n",
              "      <th>Flotation Column 04 Level</th>\n",
              "      <th>Flotation Column 05 Level</th>\n",
              "      <th>Flotation Column 06 Level</th>\n",
              "      <th>Flotation Column 07 Level</th>\n",
              "      <th>% Iron Concentrate</th>\n",
              "      <th>% Silica Concentrate</th>\n",
              "    </tr>\n",
              "  </thead>\n",
              "  <tbody>\n",
              "    <tr>\n",
              "      <th>0</th>\n",
              "      <td>55.200001</td>\n",
              "      <td>16.98</td>\n",
              "      <td>3019.530029</td>\n",
              "      <td>557.434021</td>\n",
              "      <td>395.713013</td>\n",
              "      <td>10.0664</td>\n",
              "      <td>1.74</td>\n",
              "      <td>249.214005</td>\n",
              "      <td>253.235001</td>\n",
              "      <td>250.576004</td>\n",
              "      <td>...</td>\n",
              "      <td>250.884003</td>\n",
              "      <td>457.395996</td>\n",
              "      <td>432.962006</td>\n",
              "      <td>424.954010</td>\n",
              "      <td>443.558014</td>\n",
              "      <td>502.255005</td>\n",
              "      <td>446.369995</td>\n",
              "      <td>523.343994</td>\n",
              "      <td>66.910004</td>\n",
              "      <td>1.31</td>\n",
              "    </tr>\n",
              "    <tr>\n",
              "      <th>1</th>\n",
              "      <td>55.200001</td>\n",
              "      <td>16.98</td>\n",
              "      <td>3024.409912</td>\n",
              "      <td>563.965027</td>\n",
              "      <td>397.382996</td>\n",
              "      <td>10.0672</td>\n",
              "      <td>1.74</td>\n",
              "      <td>249.718994</td>\n",
              "      <td>250.531998</td>\n",
              "      <td>250.862000</td>\n",
              "      <td>...</td>\n",
              "      <td>248.994003</td>\n",
              "      <td>451.890991</td>\n",
              "      <td>429.559998</td>\n",
              "      <td>432.938995</td>\n",
              "      <td>448.085999</td>\n",
              "      <td>496.363007</td>\n",
              "      <td>445.921997</td>\n",
              "      <td>498.075012</td>\n",
              "      <td>66.910004</td>\n",
              "      <td>1.31</td>\n",
              "    </tr>\n",
              "    <tr>\n",
              "      <th>2</th>\n",
              "      <td>55.200001</td>\n",
              "      <td>16.98</td>\n",
              "      <td>3043.459961</td>\n",
              "      <td>568.054016</td>\n",
              "      <td>399.667999</td>\n",
              "      <td>10.0680</td>\n",
              "      <td>1.74</td>\n",
              "      <td>249.740997</td>\n",
              "      <td>247.873993</td>\n",
              "      <td>250.313004</td>\n",
              "      <td>...</td>\n",
              "      <td>248.070999</td>\n",
              "      <td>451.239990</td>\n",
              "      <td>468.927002</td>\n",
              "      <td>434.609985</td>\n",
              "      <td>449.687988</td>\n",
              "      <td>484.411011</td>\n",
              "      <td>447.825989</td>\n",
              "      <td>458.566986</td>\n",
              "      <td>66.910004</td>\n",
              "      <td>1.31</td>\n",
              "    </tr>\n",
              "    <tr>\n",
              "      <th>3</th>\n",
              "      <td>55.200001</td>\n",
              "      <td>16.98</td>\n",
              "      <td>3047.360107</td>\n",
              "      <td>568.664978</td>\n",
              "      <td>397.938995</td>\n",
              "      <td>10.0689</td>\n",
              "      <td>1.74</td>\n",
              "      <td>249.917007</td>\n",
              "      <td>254.487000</td>\n",
              "      <td>250.048996</td>\n",
              "      <td>...</td>\n",
              "      <td>251.147003</td>\n",
              "      <td>452.441010</td>\n",
              "      <td>458.165009</td>\n",
              "      <td>442.864990</td>\n",
              "      <td>446.209991</td>\n",
              "      <td>471.411011</td>\n",
              "      <td>437.690002</td>\n",
              "      <td>427.669006</td>\n",
              "      <td>66.910004</td>\n",
              "      <td>1.31</td>\n",
              "    </tr>\n",
              "    <tr>\n",
              "      <th>4</th>\n",
              "      <td>55.200001</td>\n",
              "      <td>16.98</td>\n",
              "      <td>3033.689941</td>\n",
              "      <td>558.166992</td>\n",
              "      <td>400.253998</td>\n",
              "      <td>10.0697</td>\n",
              "      <td>1.74</td>\n",
              "      <td>250.203003</td>\n",
              "      <td>252.136002</td>\n",
              "      <td>249.895004</td>\n",
              "      <td>...</td>\n",
              "      <td>248.927994</td>\n",
              "      <td>452.441010</td>\n",
              "      <td>452.899994</td>\n",
              "      <td>450.523010</td>\n",
              "      <td>453.670013</td>\n",
              "      <td>462.597992</td>\n",
              "      <td>443.682007</td>\n",
              "      <td>425.678986</td>\n",
              "      <td>66.910004</td>\n",
              "      <td>1.31</td>\n",
              "    </tr>\n",
              "    <tr>\n",
              "      <th>5</th>\n",
              "      <td>55.200001</td>\n",
              "      <td>16.98</td>\n",
              "      <td>3079.100098</td>\n",
              "      <td>564.697021</td>\n",
              "      <td>396.532990</td>\n",
              "      <td>10.0705</td>\n",
              "      <td>1.74</td>\n",
              "      <td>250.729996</td>\n",
              "      <td>248.906006</td>\n",
              "      <td>249.520996</td>\n",
              "      <td>...</td>\n",
              "      <td>251.873001</td>\n",
              "      <td>444.384003</td>\n",
              "      <td>443.269012</td>\n",
              "      <td>460.449005</td>\n",
              "      <td>439.920013</td>\n",
              "      <td>451.588013</td>\n",
              "      <td>433.539001</td>\n",
              "      <td>425.458008</td>\n",
              "      <td>66.910004</td>\n",
              "      <td>1.31</td>\n",
              "    </tr>\n",
              "    <tr>\n",
              "      <th>6</th>\n",
              "      <td>55.200001</td>\n",
              "      <td>16.98</td>\n",
              "      <td>3127.790039</td>\n",
              "      <td>566.466980</td>\n",
              "      <td>392.899994</td>\n",
              "      <td>10.0713</td>\n",
              "      <td>1.74</td>\n",
              "      <td>250.313004</td>\n",
              "      <td>252.201996</td>\n",
              "      <td>249.082001</td>\n",
              "      <td>...</td>\n",
              "      <td>253.477005</td>\n",
              "      <td>446.184998</td>\n",
              "      <td>444.571014</td>\n",
              "      <td>452.306000</td>\n",
              "      <td>431.328003</td>\n",
              "      <td>443.548004</td>\n",
              "      <td>444.575012</td>\n",
              "      <td>431.251007</td>\n",
              "      <td>66.910004</td>\n",
              "      <td>1.31</td>\n",
              "    </tr>\n",
              "    <tr>\n",
              "      <th>7</th>\n",
              "      <td>55.200001</td>\n",
              "      <td>16.98</td>\n",
              "      <td>3152.929932</td>\n",
              "      <td>558.776978</td>\n",
              "      <td>397.002014</td>\n",
              "      <td>10.0722</td>\n",
              "      <td>1.74</td>\n",
              "      <td>249.895004</td>\n",
              "      <td>253.630005</td>\n",
              "      <td>249.257996</td>\n",
              "      <td>...</td>\n",
              "      <td>253.345001</td>\n",
              "      <td>445.984985</td>\n",
              "      <td>461.341003</td>\n",
              "      <td>461.640015</td>\n",
              "      <td>442.066986</td>\n",
              "      <td>441.730011</td>\n",
              "      <td>461.769989</td>\n",
              "      <td>449.678986</td>\n",
              "      <td>66.910004</td>\n",
              "      <td>1.31</td>\n",
              "    </tr>\n",
              "    <tr>\n",
              "      <th>8</th>\n",
              "      <td>55.200001</td>\n",
              "      <td>16.98</td>\n",
              "      <td>3147.270020</td>\n",
              "      <td>556.030029</td>\n",
              "      <td>394.307007</td>\n",
              "      <td>10.0730</td>\n",
              "      <td>1.74</td>\n",
              "      <td>250.136993</td>\n",
              "      <td>251.104004</td>\n",
              "      <td>248.774002</td>\n",
              "      <td>...</td>\n",
              "      <td>250.884003</td>\n",
              "      <td>446.686005</td>\n",
              "      <td>478.385010</td>\n",
              "      <td>459.102997</td>\n",
              "      <td>455.074005</td>\n",
              "      <td>439.798004</td>\n",
              "      <td>457.738007</td>\n",
              "      <td>455.915009</td>\n",
              "      <td>66.910004</td>\n",
              "      <td>1.31</td>\n",
              "    </tr>\n",
              "    <tr>\n",
              "      <th>9</th>\n",
              "      <td>55.200001</td>\n",
              "      <td>16.98</td>\n",
              "      <td>3142.580078</td>\n",
              "      <td>565.856995</td>\n",
              "      <td>393.105011</td>\n",
              "      <td>10.0738</td>\n",
              "      <td>1.74</td>\n",
              "      <td>249.653000</td>\n",
              "      <td>252.201996</td>\n",
              "      <td>248.203003</td>\n",
              "      <td>...</td>\n",
              "      <td>248.136993</td>\n",
              "      <td>445.684998</td>\n",
              "      <td>478.778992</td>\n",
              "      <td>460.665009</td>\n",
              "      <td>457.225006</td>\n",
              "      <td>453.235992</td>\n",
              "      <td>449.898010</td>\n",
              "      <td>455.750000</td>\n",
              "      <td>66.910004</td>\n",
              "      <td>1.31</td>\n",
              "    </tr>\n",
              "    <tr>\n",
              "      <th>10</th>\n",
              "      <td>55.200001</td>\n",
              "      <td>16.98</td>\n",
              "      <td>3148.050049</td>\n",
              "      <td>561.950989</td>\n",
              "      <td>396.532990</td>\n",
              "      <td>10.0746</td>\n",
              "      <td>1.74</td>\n",
              "      <td>249.235992</td>\n",
              "      <td>250.817993</td>\n",
              "      <td>250.225006</td>\n",
              "      <td>...</td>\n",
              "      <td>246.796997</td>\n",
              "      <td>456.494995</td>\n",
              "      <td>438.059998</td>\n",
              "      <td>466.332001</td>\n",
              "      <td>458.005005</td>\n",
              "      <td>455.493011</td>\n",
              "      <td>448.049988</td>\n",
              "      <td>452.662994</td>\n",
              "      <td>66.910004</td>\n",
              "      <td>1.31</td>\n",
              "    </tr>\n",
              "    <tr>\n",
              "      <th>11</th>\n",
              "      <td>55.200001</td>\n",
              "      <td>16.98</td>\n",
              "      <td>3150.389893</td>\n",
              "      <td>558.471985</td>\n",
              "      <td>397.851990</td>\n",
              "      <td>10.0755</td>\n",
              "      <td>1.74</td>\n",
              "      <td>249.169998</td>\n",
              "      <td>249.828995</td>\n",
              "      <td>251.147003</td>\n",
              "      <td>...</td>\n",
              "      <td>246.533005</td>\n",
              "      <td>461.450012</td>\n",
              "      <td>421.410004</td>\n",
              "      <td>467.790009</td>\n",
              "      <td>458.589996</td>\n",
              "      <td>453.839996</td>\n",
              "      <td>448.049988</td>\n",
              "      <td>451.339996</td>\n",
              "      <td>66.910004</td>\n",
              "      <td>1.31</td>\n",
              "    </tr>\n",
              "    <tr>\n",
              "      <th>12</th>\n",
              "      <td>55.200001</td>\n",
              "      <td>16.98</td>\n",
              "      <td>3280.270020</td>\n",
              "      <td>564.026001</td>\n",
              "      <td>393.545013</td>\n",
              "      <td>10.0763</td>\n",
              "      <td>1.74</td>\n",
              "      <td>249.016006</td>\n",
              "      <td>249.828995</td>\n",
              "      <td>251.147003</td>\n",
              "      <td>...</td>\n",
              "      <td>251.147003</td>\n",
              "      <td>457.946991</td>\n",
              "      <td>425.372009</td>\n",
              "      <td>453.817993</td>\n",
              "      <td>453.941986</td>\n",
              "      <td>459.628998</td>\n",
              "      <td>443.738007</td>\n",
              "      <td>460.608002</td>\n",
              "      <td>66.910004</td>\n",
              "      <td>1.31</td>\n",
              "    </tr>\n",
              "    <tr>\n",
              "      <th>13</th>\n",
              "      <td>55.200001</td>\n",
              "      <td>16.98</td>\n",
              "      <td>3411.129883</td>\n",
              "      <td>567.260986</td>\n",
              "      <td>394.160004</td>\n",
              "      <td>10.0771</td>\n",
              "      <td>1.74</td>\n",
              "      <td>249.257996</td>\n",
              "      <td>250.136993</td>\n",
              "      <td>251.608994</td>\n",
              "      <td>...</td>\n",
              "      <td>249.587006</td>\n",
              "      <td>448.036987</td>\n",
              "      <td>428.260010</td>\n",
              "      <td>447.074005</td>\n",
              "      <td>458.515991</td>\n",
              "      <td>472.134003</td>\n",
              "      <td>461.489990</td>\n",
              "      <td>467.666992</td>\n",
              "      <td>66.910004</td>\n",
              "      <td>1.31</td>\n",
              "    </tr>\n",
              "    <tr>\n",
              "      <th>14</th>\n",
              "      <td>55.200001</td>\n",
              "      <td>16.98</td>\n",
              "      <td>3447.459961</td>\n",
              "      <td>561.645996</td>\n",
              "      <td>392.549011</td>\n",
              "      <td>10.0779</td>\n",
              "      <td>1.74</td>\n",
              "      <td>249.389999</td>\n",
              "      <td>251.190994</td>\n",
              "      <td>250.268997</td>\n",
              "      <td>...</td>\n",
              "      <td>250.225006</td>\n",
              "      <td>433.923004</td>\n",
              "      <td>418.459015</td>\n",
              "      <td>431.265991</td>\n",
              "      <td>465.704987</td>\n",
              "      <td>481.441986</td>\n",
              "      <td>479.298004</td>\n",
              "      <td>471.307007</td>\n",
              "      <td>66.910004</td>\n",
              "      <td>1.31</td>\n",
              "    </tr>\n",
              "    <tr>\n",
              "      <th>15</th>\n",
              "      <td>55.200001</td>\n",
              "      <td>16.98</td>\n",
              "      <td>3562.699951</td>\n",
              "      <td>560.364014</td>\n",
              "      <td>394.687988</td>\n",
              "      <td>10.0788</td>\n",
              "      <td>1.74</td>\n",
              "      <td>250.005005</td>\n",
              "      <td>252.201996</td>\n",
              "      <td>249.455994</td>\n",
              "      <td>...</td>\n",
              "      <td>248.839996</td>\n",
              "      <td>434.674011</td>\n",
              "      <td>416.420013</td>\n",
              "      <td>435.955994</td>\n",
              "      <td>459.921997</td>\n",
              "      <td>484.359985</td>\n",
              "      <td>457.850006</td>\n",
              "      <td>473.846985</td>\n",
              "      <td>66.910004</td>\n",
              "      <td>1.31</td>\n",
              "    </tr>\n",
              "    <tr>\n",
              "      <th>16</th>\n",
              "      <td>55.200001</td>\n",
              "      <td>16.98</td>\n",
              "      <td>3707.030029</td>\n",
              "      <td>563.049011</td>\n",
              "      <td>396.503998</td>\n",
              "      <td>10.0796</td>\n",
              "      <td>1.74</td>\n",
              "      <td>250.115005</td>\n",
              "      <td>249.389999</td>\n",
              "      <td>249.697006</td>\n",
              "      <td>...</td>\n",
              "      <td>250.774002</td>\n",
              "      <td>446.735992</td>\n",
              "      <td>398.407013</td>\n",
              "      <td>444.212006</td>\n",
              "      <td>444.880005</td>\n",
              "      <td>471.963989</td>\n",
              "      <td>439.873993</td>\n",
              "      <td>470.260986</td>\n",
              "      <td>66.910004</td>\n",
              "      <td>1.31</td>\n",
              "    </tr>\n",
              "    <tr>\n",
              "      <th>17</th>\n",
              "      <td>55.200001</td>\n",
              "      <td>16.98</td>\n",
              "      <td>3784.959961</td>\n",
              "      <td>557.982971</td>\n",
              "      <td>394.834015</td>\n",
              "      <td>10.0804</td>\n",
              "      <td>1.74</td>\n",
              "      <td>250.048996</td>\n",
              "      <td>246.533005</td>\n",
              "      <td>249.828995</td>\n",
              "      <td>...</td>\n",
              "      <td>248.643005</td>\n",
              "      <td>451.990997</td>\n",
              "      <td>426.334991</td>\n",
              "      <td>443.023987</td>\n",
              "      <td>429.997986</td>\n",
              "      <td>452.628998</td>\n",
              "      <td>440.769989</td>\n",
              "      <td>463.420990</td>\n",
              "      <td>66.910004</td>\n",
              "      <td>1.31</td>\n",
              "    </tr>\n",
              "    <tr>\n",
              "      <th>18</th>\n",
              "      <td>55.200001</td>\n",
              "      <td>16.98</td>\n",
              "      <td>3798.050049</td>\n",
              "      <td>563.109985</td>\n",
              "      <td>396.709015</td>\n",
              "      <td>10.0812</td>\n",
              "      <td>1.74</td>\n",
              "      <td>250.203003</td>\n",
              "      <td>248.181000</td>\n",
              "      <td>250.291000</td>\n",
              "      <td>...</td>\n",
              "      <td>249.807007</td>\n",
              "      <td>447.536987</td>\n",
              "      <td>428.317993</td>\n",
              "      <td>445.291992</td>\n",
              "      <td>425.779999</td>\n",
              "      <td>433.191010</td>\n",
              "      <td>453.033997</td>\n",
              "      <td>451.617004</td>\n",
              "      <td>66.910004</td>\n",
              "      <td>1.31</td>\n",
              "    </tr>\n",
              "    <tr>\n",
              "      <th>19</th>\n",
              "      <td>55.200001</td>\n",
              "      <td>16.98</td>\n",
              "      <td>3866.600098</td>\n",
              "      <td>564.270020</td>\n",
              "      <td>398.261993</td>\n",
              "      <td>10.0821</td>\n",
              "      <td>1.74</td>\n",
              "      <td>250.268997</td>\n",
              "      <td>247.938995</td>\n",
              "      <td>249.718994</td>\n",
              "      <td>...</td>\n",
              "      <td>251.542999</td>\n",
              "      <td>452.441010</td>\n",
              "      <td>443.154999</td>\n",
              "      <td>444.104004</td>\n",
              "      <td>418.667999</td>\n",
              "      <td>409.286987</td>\n",
              "      <td>453.649994</td>\n",
              "      <td>437.820007</td>\n",
              "      <td>66.910004</td>\n",
              "      <td>1.31</td>\n",
              "    </tr>\n",
              "  </tbody>\n",
              "</table>\n",
              "<p>20 rows × 23 columns</p>\n",
              "</div>\n",
              "      <button class=\"colab-df-convert\" onclick=\"convertToInteractive('df-600ba1f1-7ee1-4aee-a60c-acafdb358f9a')\"\n",
              "              title=\"Convert this dataframe to an interactive table.\"\n",
              "              style=\"display:none;\">\n",
              "        \n",
              "  <svg xmlns=\"http://www.w3.org/2000/svg\" height=\"24px\"viewBox=\"0 0 24 24\"\n",
              "       width=\"24px\">\n",
              "    <path d=\"M0 0h24v24H0V0z\" fill=\"none\"/>\n",
              "    <path d=\"M18.56 5.44l.94 2.06.94-2.06 2.06-.94-2.06-.94-.94-2.06-.94 2.06-2.06.94zm-11 1L8.5 8.5l.94-2.06 2.06-.94-2.06-.94L8.5 2.5l-.94 2.06-2.06.94zm10 10l.94 2.06.94-2.06 2.06-.94-2.06-.94-.94-2.06-.94 2.06-2.06.94z\"/><path d=\"M17.41 7.96l-1.37-1.37c-.4-.4-.92-.59-1.43-.59-.52 0-1.04.2-1.43.59L10.3 9.45l-7.72 7.72c-.78.78-.78 2.05 0 2.83L4 21.41c.39.39.9.59 1.41.59.51 0 1.02-.2 1.41-.59l7.78-7.78 2.81-2.81c.8-.78.8-2.07 0-2.86zM5.41 20L4 18.59l7.72-7.72 1.47 1.35L5.41 20z\"/>\n",
              "  </svg>\n",
              "      </button>\n",
              "      \n",
              "  <style>\n",
              "    .colab-df-container {\n",
              "      display:flex;\n",
              "      flex-wrap:wrap;\n",
              "      gap: 12px;\n",
              "    }\n",
              "\n",
              "    .colab-df-convert {\n",
              "      background-color: #E8F0FE;\n",
              "      border: none;\n",
              "      border-radius: 50%;\n",
              "      cursor: pointer;\n",
              "      display: none;\n",
              "      fill: #1967D2;\n",
              "      height: 32px;\n",
              "      padding: 0 0 0 0;\n",
              "      width: 32px;\n",
              "    }\n",
              "\n",
              "    .colab-df-convert:hover {\n",
              "      background-color: #E2EBFA;\n",
              "      box-shadow: 0px 1px 2px rgba(60, 64, 67, 0.3), 0px 1px 3px 1px rgba(60, 64, 67, 0.15);\n",
              "      fill: #174EA6;\n",
              "    }\n",
              "\n",
              "    [theme=dark] .colab-df-convert {\n",
              "      background-color: #3B4455;\n",
              "      fill: #D2E3FC;\n",
              "    }\n",
              "\n",
              "    [theme=dark] .colab-df-convert:hover {\n",
              "      background-color: #434B5C;\n",
              "      box-shadow: 0px 1px 3px 1px rgba(0, 0, 0, 0.15);\n",
              "      filter: drop-shadow(0px 1px 2px rgba(0, 0, 0, 0.3));\n",
              "      fill: #FFFFFF;\n",
              "    }\n",
              "  </style>\n",
              "\n",
              "      <script>\n",
              "        const buttonEl =\n",
              "          document.querySelector('#df-600ba1f1-7ee1-4aee-a60c-acafdb358f9a button.colab-df-convert');\n",
              "        buttonEl.style.display =\n",
              "          google.colab.kernel.accessAllowed ? 'block' : 'none';\n",
              "\n",
              "        async function convertToInteractive(key) {\n",
              "          const element = document.querySelector('#df-600ba1f1-7ee1-4aee-a60c-acafdb358f9a');\n",
              "          const dataTable =\n",
              "            await google.colab.kernel.invokeFunction('convertToInteractive',\n",
              "                                                     [key], {});\n",
              "          if (!dataTable) return;\n",
              "\n",
              "          const docLinkHtml = 'Like what you see? Visit the ' +\n",
              "            '<a target=\"_blank\" href=https://colab.research.google.com/notebooks/data_table.ipynb>data table notebook</a>'\n",
              "            + ' to learn more about interactive tables.';\n",
              "          element.innerHTML = '';\n",
              "          dataTable['output_type'] = 'display_data';\n",
              "          await google.colab.output.renderOutput(dataTable, element);\n",
              "          const docLink = document.createElement('div');\n",
              "          docLink.innerHTML = docLinkHtml;\n",
              "          element.appendChild(docLink);\n",
              "        }\n",
              "      </script>\n",
              "    </div>\n",
              "  </div>\n",
              "  "
            ]
          },
          "metadata": {},
          "execution_count": 29
        }
      ],
      "source": [
        "df.head(20)"
      ]
    },
    {
      "cell_type": "code",
      "execution_count": 30,
      "metadata": {
        "id": "_fgaQjvOhyFA",
        "colab": {
          "base_uri": "https://localhost:8080/",
          "height": 34
        },
        "outputId": "6ed8045d-eaf1-4724-9143-1c83bf3f1c2a"
      },
      "outputs": [
        {
          "output_type": "display_data",
          "data": {
            "text/plain": [
              "<IPython.core.display.Javascript object>"
            ],
            "application/javascript": [
              "\n",
              "    async function download(id, filename, size) {\n",
              "      if (!google.colab.kernel.accessAllowed) {\n",
              "        return;\n",
              "      }\n",
              "      const div = document.createElement('div');\n",
              "      const label = document.createElement('label');\n",
              "      label.textContent = `Downloading \"${filename}\": `;\n",
              "      div.appendChild(label);\n",
              "      const progress = document.createElement('progress');\n",
              "      progress.max = size;\n",
              "      div.appendChild(progress);\n",
              "      document.body.appendChild(div);\n",
              "\n",
              "      const buffers = [];\n",
              "      let downloaded = 0;\n",
              "\n",
              "      const channel = await google.colab.kernel.comms.open(id);\n",
              "      // Send a message to notify the kernel that we're ready.\n",
              "      channel.send({})\n",
              "\n",
              "      for await (const message of channel.messages) {\n",
              "        // Send a message to notify the kernel that we're ready.\n",
              "        channel.send({})\n",
              "        if (message.buffers) {\n",
              "          for (const buffer of message.buffers) {\n",
              "            buffers.push(buffer);\n",
              "            downloaded += buffer.byteLength;\n",
              "            progress.value = downloaded;\n",
              "          }\n",
              "        }\n",
              "      }\n",
              "      const blob = new Blob(buffers, {type: 'application/binary'});\n",
              "      const a = document.createElement('a');\n",
              "      a.href = window.URL.createObjectURL(blob);\n",
              "      a.download = filename;\n",
              "      div.appendChild(a);\n",
              "      a.click();\n",
              "      div.remove();\n",
              "    }\n",
              "  "
            ]
          },
          "metadata": {}
        },
        {
          "output_type": "display_data",
          "data": {
            "text/plain": [
              "<IPython.core.display.Javascript object>"
            ],
            "application/javascript": [
              "download(\"download_1b76584e-9f49-4e1f-bb6a-3226b522a841\", \"processed_df.csv\", 134297336)"
            ]
          },
          "metadata": {}
        }
      ],
      "source": [
        "from google.colab import files\n",
        "\n",
        "df.to_csv('processed_df.csv', encoding = 'utf-8-sig') \n",
        "files.download('processed_df.csv')"
      ]
    },
    {
      "cell_type": "code",
      "execution_count": 31,
      "metadata": {
        "colab": {
          "base_uri": "https://localhost:8080/",
          "height": 1000
        },
        "id": "23uV8mqsjEIl",
        "outputId": "65a18e53-6182-49f3-eee4-9712d7587269"
      },
      "outputs": [
        {
          "output_type": "execute_result",
          "data": {
            "text/plain": [
              "<matplotlib.axes._subplots.AxesSubplot at 0x7f5b76daf750>"
            ]
          },
          "metadata": {},
          "execution_count": 31
        },
        {
          "output_type": "display_data",
          "data": {
            "text/plain": [
              "<Figure size 1296x1296 with 2 Axes>"
            ],
            "image/png": "[encoded data removed]"
          },
          "metadata": {
            "needs_background": "light"
          }
        }
      ],
      "source": [
        "import seaborn as sns\n",
        "import matplotlib.pyplot as plt\n",
        "fig=plt.figure(figsize=(18,18))\n",
        "sns.heatmap(df.corr(),linewidths=0.003,linecolor='white',annot=True)"
      ]
    },
    {
      "cell_type": "markdown",
      "metadata": {
        "id": "a4IpscFPldFS"
      },
      "source": [
        ""
      ]
    },
    {
      "cell_type": "markdown",
      "metadata": {
        "id": "07bwT0PKlc1I"
      },
      "source": [
        "# Splitting the dataset into training set and test set"
      ]
    },
    {
      "cell_type": "markdown",
      "metadata": {
        "id": "eJIRZlyhmP5h"
      },
      "source": [
        "The given dataset does not have pre defined test and training sets.\n",
        "\n",
        "Let us split the given data set into 2 parts"
      ]
    },
    {
      "cell_type": "code",
      "execution_count": 32,
      "metadata": {
        "id": "Nljk4SHLmYhZ"
      },
      "outputs": [],
      "source": [
        "y=df['% Silica Concentrate']\n",
        "x=df.drop(['% Silica Concentrate'],axis=1)"
      ]
    },
    {
      "cell_type": "code",
      "execution_count": 33,
      "metadata": {
        "colab": {
          "base_uri": "https://localhost:8080/"
        },
        "id": "Js_oQ0oSmfki",
        "outputId": "6cef75c1-c8ca-499a-e20a-0cbef6b95eec"
      },
      "outputs": [
        {
          "output_type": "execute_result",
          "data": {
            "text/plain": [
              "((737453, 22), (737453,))"
            ]
          },
          "metadata": {},
          "execution_count": 33
        }
      ],
      "source": [
        "x.shape, y.shape"
      ]
    },
    {
      "cell_type": "code",
      "execution_count": 34,
      "metadata": {
        "colab": {
          "base_uri": "https://localhost:8080/"
        },
        "id": "YebU7Px3mim1",
        "outputId": "1a4fe17e-c872-488d-88f1-b750ca6a8b16"
      },
      "outputs": [
        {
          "output_type": "stream",
          "name": "stdout",
          "text": [
            "<class 'pandas.core.frame.DataFrame'>\n",
            "RangeIndex: 737453 entries, 0 to 737452\n",
            "Data columns (total 22 columns):\n",
            " #   Column                        Non-Null Count   Dtype  \n",
            "---  ------                        --------------   -----  \n",
            " 0   % Iron Feed                   737453 non-null  float32\n",
            " 1   % Silica Feed                 737453 non-null  float32\n",
            " 2   Starch Flow                   737453 non-null  float32\n",
            " 3   Amina Flow                    737453 non-null  float32\n",
            " 4   Ore Pulp Flow                 737453 non-null  float32\n",
            " 5   Ore Pulp pH                   737453 non-null  float32\n",
            " 6   Ore Pulp Density              737453 non-null  float32\n",
            " 7   Flotation Column 01 Air Flow  737453 non-null  float32\n",
            " 8   Flotation Column 02 Air Flow  737453 non-null  float32\n",
            " 9   Flotation Column 03 Air Flow  737453 non-null  float32\n",
            " 10  Flotation Column 04 Air Flow  737453 non-null  float32\n",
            " 11  Flotation Column 05 Air Flow  737453 non-null  float32\n",
            " 12  Flotation Column 06 Air Flow  737453 non-null  float32\n",
            " 13  Flotation Column 07 Air Flow  737453 non-null  float32\n",
            " 14  Flotation Column 01 Level     737453 non-null  float32\n",
            " 15  Flotation Column 02 Level     737453 non-null  float32\n",
            " 16  Flotation Column 03 Level     737453 non-null  float32\n",
            " 17  Flotation Column 04 Level     737453 non-null  float32\n",
            " 18  Flotation Column 05 Level     737453 non-null  float32\n",
            " 19  Flotation Column 06 Level     737453 non-null  float32\n",
            " 20  Flotation Column 07 Level     737453 non-null  float32\n",
            " 21  % Iron Concentrate            737453 non-null  float32\n",
            "dtypes: float32(22)\n",
            "memory usage: 61.9 MB\n"
          ]
        }
      ],
      "source": [
        "x.info()"
      ]
    },
    {
      "cell_type": "code",
      "execution_count": 35,
      "metadata": {
        "id": "xi_N5uQ4m17r"
      },
      "outputs": [],
      "source": [
        "from sklearn.model_selection import train_test_split\n",
        "x_train,x_test,y_train,y_test=train_test_split(x,y,random_state=55,test_size=0.3)"
      ]
    },
    {
      "cell_type": "code",
      "execution_count": 36,
      "metadata": {
        "colab": {
          "base_uri": "https://localhost:8080/",
          "height": 334
        },
        "id": "ldr0DAkSnRr_",
        "outputId": "641c5cf0-8cda-4236-967b-73c63c222cdc"
      },
      "outputs": [
        {
          "output_type": "execute_result",
          "data": {
            "text/plain": [
              "        % Iron Feed  % Silica Feed  Starch Flow  Amina Flow  Ore Pulp Flow  \\\n",
              "476790    53.790001      16.570000  2921.879883  536.770020     397.878998   \n",
              "134350    55.169998      14.350000  2454.570068  522.664978     397.476990   \n",
              "377463    48.820000      22.320000  3623.679932  526.872009     401.290985   \n",
              "43833     56.730000      12.730000  2242.520020  567.627014     398.678009   \n",
              "391386    52.669998      17.879999  1168.262085  259.621796     402.541473   \n",
              "\n",
              "        Ore Pulp pH  Ore Pulp Density  Flotation Column 01 Air Flow  \\\n",
              "476790      9.88267          1.742690                    302.738007   \n",
              "134350      9.17094          1.704420                    249.828995   \n",
              "377463      9.96612          1.642500                    298.860992   \n",
              "43833       9.56761          1.774490                    200.339996   \n",
              "391386      9.22478          1.519943                    299.393005   \n",
              "\n",
              "        Flotation Column 02 Air Flow  Flotation Column 03 Air Flow  ...  \\\n",
              "476790                    298.938995                    299.903992  ...   \n",
              "134350                    251.378998                    251.024994  ...   \n",
              "377463                    299.839996                    302.028015  ...   \n",
              "43833                     200.352005                    200.636002  ...   \n",
              "391386                    308.968994                    301.024994  ...   \n",
              "\n",
              "        Flotation Column 06 Air Flow  Flotation Column 07 Air Flow  \\\n",
              "476790                    290.165985                    287.385986   \n",
              "134350                    250.207993                    250.475998   \n",
              "377463                    304.122009                    298.554993   \n",
              "43833                     252.505005                    248.574997   \n",
              "391386                    297.949005                    295.657990   \n",
              "\n",
              "        Flotation Column 01 Level  Flotation Column 02 Level  \\\n",
              "476790                 610.487000                 540.112000   \n",
              "134350                 792.468018                 610.304016   \n",
              "377463                 390.894012                 424.781006   \n",
              "43833                  796.690979                 809.661987   \n",
              "391386                 321.213776                 740.423523   \n",
              "\n",
              "        Flotation Column 03 Level  Flotation Column 04 Level  \\\n",
              "476790                 588.182983                 506.923004   \n",
              "134350                 595.213989                 427.623993   \n",
              "377463                 405.742004                 461.632996   \n",
              "43833                  808.786987                 424.377991   \n",
              "391386                 872.940002                 642.797668   \n",
              "\n",
              "        Flotation Column 05 Level  Flotation Column 06 Level  \\\n",
              "476790                 483.802002                 460.888000   \n",
              "134350                 423.704987                 499.920013   \n",
              "377463                 446.489014                 460.066986   \n",
              "43833                  456.598999                 390.782990   \n",
              "391386                 650.102600                 624.150330   \n",
              "\n",
              "        Flotation Column 07 Level  % Iron Concentrate  \n",
              "476790                 506.575989           66.169998  \n",
              "134350                 431.903992           62.820812  \n",
              "377463                 456.460999           64.250000  \n",
              "43833                  462.500000           65.489998  \n",
              "391386                 312.456970           64.989998  \n",
              "\n",
              "[5 rows x 22 columns]"
            ],
            "text/html": [
              "\n",
              "  <div id=\"df-fe225411-3cef-4993-943f-c611b73661da\">\n",
              "    <div class=\"colab-df-container\">\n",
              "      <div>\n",
              "<style scoped>\n",
              "    .dataframe tbody tr th:only-of-type {\n",
              "        vertical-align: middle;\n",
              "    }\n",
              "\n",
              "    .dataframe tbody tr th {\n",
              "        vertical-align: top;\n",
              "    }\n",
              "\n",
              "    .dataframe thead th {\n",
              "        text-align: right;\n",
              "    }\n",
              "</style>\n",
              "<table border=\"1\" class=\"dataframe\">\n",
              "  <thead>\n",
              "    <tr style=\"text-align: right;\">\n",
              "      <th></th>\n",
              "      <th>% Iron Feed</th>\n",
              "      <th>% Silica Feed</th>\n",
              "      <th>Starch Flow</th>\n",
              "      <th>Amina Flow</th>\n",
              "      <th>Ore Pulp Flow</th>\n",
              "      <th>Ore Pulp pH</th>\n",
              "      <th>Ore Pulp Density</th>\n",
              "      <th>Flotation Column 01 Air Flow</th>\n",
              "      <th>Flotation Column 02 Air Flow</th>\n",
              "      <th>Flotation Column 03 Air Flow</th>\n",
              "      <th>...</th>\n",
              "      <th>Flotation Column 06 Air Flow</th>\n",
              "      <th>Flotation Column 07 Air Flow</th>\n",
              "      <th>Flotation Column 01 Level</th>\n",
              "      <th>Flotation Column 02 Level</th>\n",
              "      <th>Flotation Column 03 Level</th>\n",
              "      <th>Flotation Column 04 Level</th>\n",
              "      <th>Flotation Column 05 Level</th>\n",
              "      <th>Flotation Column 06 Level</th>\n",
              "      <th>Flotation Column 07 Level</th>\n",
              "      <th>% Iron Concentrate</th>\n",
              "    </tr>\n",
              "  </thead>\n",
              "  <tbody>\n",
              "    <tr>\n",
              "      <th>476790</th>\n",
              "      <td>53.790001</td>\n",
              "      <td>16.570000</td>\n",
              "      <td>2921.879883</td>\n",
              "      <td>536.770020</td>\n",
              "      <td>397.878998</td>\n",
              "      <td>9.88267</td>\n",
              "      <td>1.742690</td>\n",
              "      <td>302.738007</td>\n",
              "      <td>298.938995</td>\n",
              "      <td>299.903992</td>\n",
              "      <td>...</td>\n",
              "      <td>290.165985</td>\n",
              "      <td>287.385986</td>\n",
              "      <td>610.487000</td>\n",
              "      <td>540.112000</td>\n",
              "      <td>588.182983</td>\n",
              "      <td>506.923004</td>\n",
              "      <td>483.802002</td>\n",
              "      <td>460.888000</td>\n",
              "      <td>506.575989</td>\n",
              "      <td>66.169998</td>\n",
              "    </tr>\n",
              "    <tr>\n",
              "      <th>134350</th>\n",
              "      <td>55.169998</td>\n",
              "      <td>14.350000</td>\n",
              "      <td>2454.570068</td>\n",
              "      <td>522.664978</td>\n",
              "      <td>397.476990</td>\n",
              "      <td>9.17094</td>\n",
              "      <td>1.704420</td>\n",
              "      <td>249.828995</td>\n",
              "      <td>251.378998</td>\n",
              "      <td>251.024994</td>\n",
              "      <td>...</td>\n",
              "      <td>250.207993</td>\n",
              "      <td>250.475998</td>\n",
              "      <td>792.468018</td>\n",
              "      <td>610.304016</td>\n",
              "      <td>595.213989</td>\n",
              "      <td>427.623993</td>\n",
              "      <td>423.704987</td>\n",
              "      <td>499.920013</td>\n",
              "      <td>431.903992</td>\n",
              "      <td>62.820812</td>\n",
              "    </tr>\n",
              "    <tr>\n",
              "      <th>377463</th>\n",
              "      <td>48.820000</td>\n",
              "      <td>22.320000</td>\n",
              "      <td>3623.679932</td>\n",
              "      <td>526.872009</td>\n",
              "      <td>401.290985</td>\n",
              "      <td>9.96612</td>\n",
              "      <td>1.642500</td>\n",
              "      <td>298.860992</td>\n",
              "      <td>299.839996</td>\n",
              "      <td>302.028015</td>\n",
              "      <td>...</td>\n",
              "      <td>304.122009</td>\n",
              "      <td>298.554993</td>\n",
              "      <td>390.894012</td>\n",
              "      <td>424.781006</td>\n",
              "      <td>405.742004</td>\n",
              "      <td>461.632996</td>\n",
              "      <td>446.489014</td>\n",
              "      <td>460.066986</td>\n",
              "      <td>456.460999</td>\n",
              "      <td>64.250000</td>\n",
              "    </tr>\n",
              "    <tr>\n",
              "      <th>43833</th>\n",
              "      <td>56.730000</td>\n",
              "      <td>12.730000</td>\n",
              "      <td>2242.520020</td>\n",
              "      <td>567.627014</td>\n",
              "      <td>398.678009</td>\n",
              "      <td>9.56761</td>\n",
              "      <td>1.774490</td>\n",
              "      <td>200.339996</td>\n",
              "      <td>200.352005</td>\n",
              "      <td>200.636002</td>\n",
              "      <td>...</td>\n",
              "      <td>252.505005</td>\n",
              "      <td>248.574997</td>\n",
              "      <td>796.690979</td>\n",
              "      <td>809.661987</td>\n",
              "      <td>808.786987</td>\n",
              "      <td>424.377991</td>\n",
              "      <td>456.598999</td>\n",
              "      <td>390.782990</td>\n",
              "      <td>462.500000</td>\n",
              "      <td>65.489998</td>\n",
              "    </tr>\n",
              "    <tr>\n",
              "      <th>391386</th>\n",
              "      <td>52.669998</td>\n",
              "      <td>17.879999</td>\n",
              "      <td>1168.262085</td>\n",
              "      <td>259.621796</td>\n",
              "      <td>402.541473</td>\n",
              "      <td>9.22478</td>\n",
              "      <td>1.519943</td>\n",
              "      <td>299.393005</td>\n",
              "      <td>308.968994</td>\n",
              "      <td>301.024994</td>\n",
              "      <td>...</td>\n",
              "      <td>297.949005</td>\n",
              "      <td>295.657990</td>\n",
              "      <td>321.213776</td>\n",
              "      <td>740.423523</td>\n",
              "      <td>872.940002</td>\n",
              "      <td>642.797668</td>\n",
              "      <td>650.102600</td>\n",
              "      <td>624.150330</td>\n",
              "      <td>312.456970</td>\n",
              "      <td>64.989998</td>\n",
              "    </tr>\n",
              "  </tbody>\n",
              "</table>\n",
              "<p>5 rows × 22 columns</p>\n",
              "</div>\n",
              "      <button class=\"colab-df-convert\" onclick=\"convertToInteractive('df-fe225411-3cef-4993-943f-c611b73661da')\"\n",
              "              title=\"Convert this dataframe to an interactive table.\"\n",
              "              style=\"display:none;\">\n",
              "        \n",
              "  <svg xmlns=\"http://www.w3.org/2000/svg\" height=\"24px\"viewBox=\"0 0 24 24\"\n",
              "       width=\"24px\">\n",
              "    <path d=\"M0 0h24v24H0V0z\" fill=\"none\"/>\n",
              "    <path d=\"M18.56 5.44l.94 2.06.94-2.06 2.06-.94-2.06-.94-.94-2.06-.94 2.06-2.06.94zm-11 1L8.5 8.5l.94-2.06 2.06-.94-2.06-.94L8.5 2.5l-.94 2.06-2.06.94zm10 10l.94 2.06.94-2.06 2.06-.94-2.06-.94-.94-2.06-.94 2.06-2.06.94z\"/><path d=\"M17.41 7.96l-1.37-1.37c-.4-.4-.92-.59-1.43-.59-.52 0-1.04.2-1.43.59L10.3 9.45l-7.72 7.72c-.78.78-.78 2.05 0 2.83L4 21.41c.39.39.9.59 1.41.59.51 0 1.02-.2 1.41-.59l7.78-7.78 2.81-2.81c.8-.78.8-2.07 0-2.86zM5.41 20L4 18.59l7.72-7.72 1.47 1.35L5.41 20z\"/>\n",
              "  </svg>\n",
              "      </button>\n",
              "      \n",
              "  <style>\n",
              "    .colab-df-container {\n",
              "      display:flex;\n",
              "      flex-wrap:wrap;\n",
              "      gap: 12px;\n",
              "    }\n",
              "\n",
              "    .colab-df-convert {\n",
              "      background-color: #E8F0FE;\n",
              "      border: none;\n",
              "      border-radius: 50%;\n",
              "      cursor: pointer;\n",
              "      display: none;\n",
              "      fill: #1967D2;\n",
              "      height: 32px;\n",
              "      padding: 0 0 0 0;\n",
              "      width: 32px;\n",
              "    }\n",
              "\n",
              "    .colab-df-convert:hover {\n",
              "      background-color: #E2EBFA;\n",
              "      box-shadow: 0px 1px 2px rgba(60, 64, 67, 0.3), 0px 1px 3px 1px rgba(60, 64, 67, 0.15);\n",
              "      fill: #174EA6;\n",
              "    }\n",
              "\n",
              "    [theme=dark] .colab-df-convert {\n",
              "      background-color: #3B4455;\n",
              "      fill: #D2E3FC;\n",
              "    }\n",
              "\n",
              "    [theme=dark] .colab-df-convert:hover {\n",
              "      background-color: #434B5C;\n",
              "      box-shadow: 0px 1px 3px 1px rgba(0, 0, 0, 0.15);\n",
              "      filter: drop-shadow(0px 1px 2px rgba(0, 0, 0, 0.3));\n",
              "      fill: #FFFFFF;\n",
              "    }\n",
              "  </style>\n",
              "\n",
              "      <script>\n",
              "        const buttonEl =\n",
              "          document.querySelector('#df-fe225411-3cef-4993-943f-c611b73661da button.colab-df-convert');\n",
              "        buttonEl.style.display =\n",
              "          google.colab.kernel.accessAllowed ? 'block' : 'none';\n",
              "\n",
              "        async function convertToInteractive(key) {\n",
              "          const element = document.querySelector('#df-fe225411-3cef-4993-943f-c611b73661da');\n",
              "          const dataTable =\n",
              "            await google.colab.kernel.invokeFunction('convertToInteractive',\n",
              "                                                     [key], {});\n",
              "          if (!dataTable) return;\n",
              "\n",
              "          const docLinkHtml = 'Like what you see? Visit the ' +\n",
              "            '<a target=\"_blank\" href=https://colab.research.google.com/notebooks/data_table.ipynb>data table notebook</a>'\n",
              "            + ' to learn more about interactive tables.';\n",
              "          element.innerHTML = '';\n",
              "          dataTable['output_type'] = 'display_data';\n",
              "          await google.colab.output.renderOutput(dataTable, element);\n",
              "          const docLink = document.createElement('div');\n",
              "          docLink.innerHTML = docLinkHtml;\n",
              "          element.appendChild(docLink);\n",
              "        }\n",
              "      </script>\n",
              "    </div>\n",
              "  </div>\n",
              "  "
            ]
          },
          "metadata": {},
          "execution_count": 36
        }
      ],
      "source": [
        "x_train.head()"
      ]
    },
    {
      "cell_type": "code",
      "execution_count": 37,
      "metadata": {
        "colab": {
          "base_uri": "https://localhost:8080/"
        },
        "id": "v_rMxX19nVqK",
        "outputId": "52ccbbe7-fe27-47ba-b0f1-86da0d6f8819"
      },
      "outputs": [
        {
          "output_type": "execute_result",
          "data": {
            "text/plain": [
              "476790    1.000000\n",
              "134350    5.229075\n",
              "377463    2.320000\n",
              "43833     2.530000\n",
              "391386    2.400000\n",
              "Name: % Silica Concentrate, dtype: float32"
            ]
          },
          "metadata": {},
          "execution_count": 37
        }
      ],
      "source": [
        "y_train.head()"
      ]
    },
    {
      "cell_type": "markdown",
      "metadata": {
        "id": "Le_9a4IXRzPj"
      },
      "source": [
        "# EDA for specific columns of interest"
      ]
    },
    {
      "cell_type": "code",
      "execution_count": 38,
      "metadata": {
        "colab": {
          "base_uri": "https://localhost:8080/",
          "height": 947
        },
        "id": "WUf5LNOjR3tI",
        "outputId": "78fc88ec-142f-40a3-8ffe-30efb171c849"
      },
      "outputs": [
        {
          "output_type": "execute_result",
          "data": {
            "text/plain": [
              "array([[<matplotlib.axes._subplots.AxesSubplot object at 0x7f5b86239ad0>,\n",
              "        <matplotlib.axes._subplots.AxesSubplot object at 0x7f5b879cc450>],\n",
              "       [<matplotlib.axes._subplots.AxesSubplot object at 0x7f5b89158dd0>,\n",
              "        <matplotlib.axes._subplots.AxesSubplot object at 0x7f5b8bf4a850>],\n",
              "       [<matplotlib.axes._subplots.AxesSubplot object at 0x7f5b8d742410>,\n",
              "        <matplotlib.axes._subplots.AxesSubplot object at 0x7f5b8ed9cc50>]],\n",
              "      dtype=object)"
            ]
          },
          "metadata": {},
          "execution_count": 38
        },
        {
          "output_type": "display_data",
          "data": {
            "text/plain": [
              "<Figure size 1008x1008 with 6 Axes>"
            ],
            "image/png": "[encoded data removed]"
          },
          "metadata": {
            "needs_background": "light"
          }
        }
      ],
      "source": [
        "# fig=plt.figure(figsize=(30,30))\n",
        "df.hist(column=['Starch Flow', 'Amina Flow', 'Ore Pulp Flow', 'Ore Pulp pH', 'Ore Pulp Density'],grid=True,figsize=(14,14))"
      ]
    },
    {
      "cell_type": "code",
      "execution_count": 39,
      "metadata": {
        "colab": {
          "base_uri": "https://localhost:8080/",
          "height": 1000
        },
        "id": "wDzmDqJcTHyo",
        "outputId": "d59cb191-5e34-4355-c668-5a50adb8767e"
      },
      "outputs": [
        {
          "output_type": "execute_result",
          "data": {
            "text/plain": [
              "array([[<matplotlib.axes._subplots.AxesSubplot object at 0x7f5b7612cd10>,\n",
              "        <matplotlib.axes._subplots.AxesSubplot object at 0x7f5b8d7549d0>,\n",
              "        <matplotlib.axes._subplots.AxesSubplot object at 0x7f5b95077850>],\n",
              "       [<matplotlib.axes._subplots.AxesSubplot object at 0x7f5b903d1e90>,\n",
              "        <matplotlib.axes._subplots.AxesSubplot object at 0x7f5b79263950>,\n",
              "        <matplotlib.axes._subplots.AxesSubplot object at 0x7f5b7c6ec5d0>],\n",
              "       [<matplotlib.axes._subplots.AxesSubplot object at 0x7f5b7e2f2490>,\n",
              "        <matplotlib.axes._subplots.AxesSubplot object at 0x7f5b7e1459d0>,\n",
              "        <matplotlib.axes._subplots.AxesSubplot object at 0x7f5b7e145990>]],\n",
              "      dtype=object)"
            ]
          },
          "metadata": {},
          "execution_count": 39
        },
        {
          "output_type": "display_data",
          "data": {
            "text/plain": [
              "<Figure size 1152x1152 with 9 Axes>"
            ],
            "image/png": "[encoded data removed]"
          },
          "metadata": {
            "needs_background": "light"
          }
        }
      ],
      "source": [
        "df.hist(column=['Flotation Column 01 Air Flow',\n",
        " 'Flotation Column 02 Air Flow',\n",
        " 'Flotation Column 03 Air Flow',\n",
        " 'Flotation Column 04 Air Flow',\n",
        " 'Flotation Column 05 Air Flow',\n",
        " 'Flotation Column 06 Air Flow',\n",
        " 'Flotation Column 07 Air Flow',],grid=True,figsize=(16,16))"
      ]
    },
    {
      "cell_type": "code",
      "execution_count": 40,
      "metadata": {
        "colab": {
          "base_uri": "https://localhost:8080/",
          "height": 999
        },
        "id": "cDpKO2duTYN5",
        "outputId": "d6ec4020-7606-48be-c73e-988112fd6a40"
      },
      "outputs": [
        {
          "output_type": "execute_result",
          "data": {
            "text/plain": [
              "array([[<matplotlib.axes._subplots.AxesSubplot object at 0x7f5b832b27d0>,\n",
              "        <matplotlib.axes._subplots.AxesSubplot object at 0x7f5b9053b990>,\n",
              "        <matplotlib.axes._subplots.AxesSubplot object at 0x7f5b91d50290>],\n",
              "       [<matplotlib.axes._subplots.AxesSubplot object at 0x7f5b93822e90>,\n",
              "        <matplotlib.axes._subplots.AxesSubplot object at 0x7f5b95235850>,\n",
              "        <matplotlib.axes._subplots.AxesSubplot object at 0x7f5b96a3e450>],\n",
              "       [<matplotlib.axes._subplots.AxesSubplot object at 0x7f5b97f67bd0>,\n",
              "        <matplotlib.axes._subplots.AxesSubplot object at 0x7f5b7625d950>,\n",
              "        <matplotlib.axes._subplots.AxesSubplot object at 0x7f5b7625d910>]],\n",
              "      dtype=object)"
            ]
          },
          "metadata": {},
          "execution_count": 40
        },
        {
          "output_type": "display_data",
          "data": {
            "text/plain": [
              "<Figure size 1008x1008 with 9 Axes>"
            ],
            "image/png": "[encoded data removed]"
          },
          "metadata": {
            "needs_background": "light"
          }
        }
      ],
      "source": [
        "df.hist(column=['Flotation Column 01 Level',\n",
        "       'Flotation Column 02 Level', 'Flotation Column 03 Level',\n",
        "       'Flotation Column 04 Level', 'Flotation Column 05 Level',\n",
        "       'Flotation Column 06 Level', 'Flotation Column 07 Level'],grid=True,figsize=(14,14))"
      ]
    },
    {
      "cell_type": "code",
      "execution_count": 41,
      "metadata": {
        "colab": {
          "base_uri": "https://localhost:8080/",
          "height": 442
        },
        "id": "v4DPYXZoTmI5",
        "outputId": "633c6d7f-9440-4381-fa50-d7a3ab095e49"
      },
      "outputs": [
        {
          "output_type": "execute_result",
          "data": {
            "text/plain": [
              "array([[<matplotlib.axes._subplots.AxesSubplot object at 0x7f5b8ac0d7d0>,\n",
              "        <matplotlib.axes._subplots.AxesSubplot object at 0x7f5b8c322f50>]],\n",
              "      dtype=object)"
            ]
          },
          "metadata": {},
          "execution_count": 41
        },
        {
          "output_type": "display_data",
          "data": {
            "text/plain": [
              "<Figure size 720x432 with 2 Axes>"
            ],
            "image/png": "[encoded data removed]"
          },
          "metadata": {
            "needs_background": "light"
          }
        }
      ],
      "source": [
        "df.hist(column=['% Iron Feed', '% Silica Feed'],grid=True,figsize=(10,6))"
      ]
    },
    {
      "cell_type": "markdown",
      "metadata": {
        "id": "fxEXZ0wZUhHJ"
      },
      "source": [
        "# Creating a baseline model"
      ]
    },
    {
      "cell_type": "markdown",
      "metadata": {
        "id": "k_ar5icnUsZV"
      },
      "source": [
        "Let us use a dummy regressor to create a baseline model to see if machine learning can even solve this problem"
      ]
    },
    {
      "cell_type": "code",
      "execution_count": 42,
      "metadata": {
        "id": "BWuRKR10UkbX"
      },
      "outputs": [],
      "source": [
        "from sklearn.dummy import DummyRegressor"
      ]
    },
    {
      "cell_type": "code",
      "execution_count": 43,
      "metadata": {
        "colab": {
          "base_uri": "https://localhost:8080/"
        },
        "id": "RSIhAO5-U31e",
        "outputId": "73357a5e-92fe-44de-90ff-b442e73c58b7"
      },
      "outputs": [
        {
          "output_type": "execute_result",
          "data": {
            "text/plain": [
              "DummyRegressor()"
            ]
          },
          "metadata": {},
          "execution_count": 43
        }
      ],
      "source": [
        "dummy_regr = DummyRegressor(strategy=\"mean\")\n",
        "dummy_regr.fit(x_train, y_train)"
      ]
    },
    {
      "cell_type": "code",
      "execution_count": 44,
      "metadata": {
        "id": "BetKx0xTVE22"
      },
      "outputs": [],
      "source": [
        "y_preds=dummy_regr.predict(x_test)"
      ]
    },
    {
      "cell_type": "markdown",
      "metadata": {
        "id": "72jaZnYEVL7z"
      },
      "source": [
        "Now that we have made a prediction using the dummy regressor, let us evaluate its performance"
      ]
    },
    {
      "cell_type": "code",
      "execution_count": 45,
      "metadata": {
        "id": "CXfvPtEVVS_e"
      },
      "outputs": [],
      "source": [
        "from sklearn.metrics import mean_squared_error"
      ]
    },
    {
      "cell_type": "code",
      "execution_count": 46,
      "metadata": {
        "colab": {
          "base_uri": "https://localhost:8080/"
        },
        "id": "w1xn-xyTVxqG",
        "outputId": "1ad3881f-002c-4501-a83c-d34fee40325f"
      },
      "outputs": [
        {
          "output_type": "execute_result",
          "data": {
            "text/plain": [
              "1.1251208"
            ]
          },
          "metadata": {},
          "execution_count": 46
        }
      ],
      "source": [
        "mean_squared_error(y_test, y_preds, squared=False)\n",
        "#setting squared to false returns RMSE"
      ]
    },
    {
      "cell_type": "code",
      "execution_count": 47,
      "metadata": {
        "colab": {
          "base_uri": "https://localhost:8080/"
        },
        "id": "1mb4AwKqZOUO",
        "outputId": "d814b4ff-6142-477a-b61c-00da0c5961f3"
      },
      "outputs": [
        {
          "output_type": "execute_result",
          "data": {
            "text/plain": [
              "1.2658968"
            ]
          },
          "metadata": {},
          "execution_count": 47
        }
      ],
      "source": [
        "mean_squared_error(y_test, y_preds, squared=True)\n",
        "#this is just the square of the RMSE value"
      ]
    },
    {
      "cell_type": "code",
      "execution_count": 48,
      "metadata": {
        "id": "maYelxIVXICR"
      },
      "outputs": [],
      "source": [
        "from sklearn.metrics import mean_absolute_error"
      ]
    },
    {
      "cell_type": "code",
      "execution_count": 49,
      "metadata": {
        "colab": {
          "base_uri": "https://localhost:8080/"
        },
        "id": "EvvxvTAaXM7R",
        "outputId": "da0f303f-d1e4-4f0e-cb84-dd900daa0cb7"
      },
      "outputs": [
        {
          "output_type": "execute_result",
          "data": {
            "text/plain": [
              "0.9162111"
            ]
          },
          "metadata": {},
          "execution_count": 49
        }
      ],
      "source": [
        "mean_absolute_error(y_test, y_preds)"
      ]
    },
    {
      "cell_type": "markdown",
      "metadata": {
        "id": "fB73k_jCYumb"
      },
      "source": [
        "The baseline model we chose is the dummy regressor which returns predictions as the mean of all values\n",
        "\n",
        "This baseline model has been able to achieve a RMSE of 1.1251 and an MAE of 0.9162\n",
        "\n",
        "We have to build models that perform better than this"
      ]
    },
    {
      "cell_type": "markdown",
      "metadata": {
        "id": "bRSRTYPbZpFO"
      },
      "source": [
        "# Creating a linear regressor"
      ]
    },
    {
      "cell_type": "code",
      "execution_count": 50,
      "metadata": {
        "id": "lf7Q3OUCZrMS"
      },
      "outputs": [],
      "source": [
        "from sklearn.linear_model import LinearRegression"
      ]
    },
    {
      "cell_type": "code",
      "execution_count": 51,
      "metadata": {
        "colab": {
          "base_uri": "https://localhost:8080/"
        },
        "id": "9MM4sKGIZ3YC",
        "outputId": "a4d65990-6b47-42a5-b889-e99b65968b73"
      },
      "outputs": [
        {
          "output_type": "execute_result",
          "data": {
            "text/plain": [
              "LinearRegression()"
            ]
          },
          "metadata": {},
          "execution_count": 51
        }
      ],
      "source": [
        "reg_model = LinearRegression()\n",
        "reg_model.fit(x_train,y_train)"
      ]
    },
    {
      "cell_type": "code",
      "execution_count": 52,
      "metadata": {
        "colab": {
          "base_uri": "https://localhost:8080/"
        },
        "id": "Kgj1qwe4aBXR",
        "outputId": "0cf773b8-7c1d-49b6-9ce3-88bd153db588"
      },
      "outputs": [
        {
          "output_type": "execute_result",
          "data": {
            "text/plain": [
              "array([ 2.6332591e-02,  2.9345823e-02, -1.7380342e-05,  6.8139518e-04,\n",
              "        4.2627598e-03,  4.5710240e-02,  1.6998844e-01, -5.1549920e-03,\n",
              "       -1.4805323e-03, -9.2085672e-04,  2.1023550e-03,  1.4536972e-02,\n",
              "       -8.4214145e-05,  1.2617982e-03, -2.8416654e-04, -1.6036374e-04,\n",
              "       -8.5281907e-05, -1.2025214e-04, -1.8532062e-04, -2.1128973e-04,\n",
              "        1.9448623e-04, -7.8705525e-01], dtype=float32)"
            ]
          },
          "metadata": {},
          "execution_count": 52
        }
      ],
      "source": [
        "reg_model.coef_"
      ]
    },
    {
      "cell_type": "markdown",
      "metadata": {
        "id": "zjKYqUyraHmg"
      },
      "source": [
        "These are the coefficients for all variables in the linear regression model"
      ]
    },
    {
      "cell_type": "code",
      "execution_count": 53,
      "metadata": {
        "id": "qwLsqdEdgw4q"
      },
      "outputs": [],
      "source": [
        "train_reg_pred=reg_model.predict(x_train)"
      ]
    },
    {
      "cell_type": "code",
      "execution_count": 54,
      "metadata": {
        "colab": {
          "base_uri": "https://localhost:8080/"
        },
        "id": "1P3o33gBhPNK",
        "outputId": "3d729f12-5583-4095-dd88-d470a5b063a8"
      },
      "outputs": [
        {
          "output_type": "execute_result",
          "data": {
            "text/plain": [
              "0.6368067"
            ]
          },
          "metadata": {},
          "execution_count": 54
        }
      ],
      "source": [
        "mean_squared_error(y_train,train_reg_pred,squared=False)"
      ]
    },
    {
      "cell_type": "code",
      "execution_count": 55,
      "metadata": {
        "colab": {
          "base_uri": "https://localhost:8080/"
        },
        "id": "NQN4f6Xihe1l",
        "outputId": "3784e95b-45f9-46bb-f5da-0b36c19ee3bd"
      },
      "outputs": [
        {
          "output_type": "execute_result",
          "data": {
            "text/plain": [
              "0.49193692"
            ]
          },
          "metadata": {},
          "execution_count": 55
        }
      ],
      "source": [
        "mean_absolute_error(y_train, train_reg_pred)"
      ]
    },
    {
      "cell_type": "markdown",
      "metadata": {
        "id": "JJmO-ZYPhmkf"
      },
      "source": [
        "The model doesn't seem to overfit the training data"
      ]
    },
    {
      "cell_type": "code",
      "execution_count": 56,
      "metadata": {
        "id": "7htUc7xpaOuR"
      },
      "outputs": [],
      "source": [
        "reg_pred=reg_model.predict(x_test)"
      ]
    },
    {
      "cell_type": "code",
      "execution_count": 57,
      "metadata": {
        "colab": {
          "base_uri": "https://localhost:8080/"
        },
        "id": "A4NQPuqcabtq",
        "outputId": "240c7f4e-2751-4e09-805c-661ec8759759"
      },
      "outputs": [
        {
          "output_type": "execute_result",
          "data": {
            "text/plain": [
              "array([1.6913567, 2.5474129, 1.9922333, ..., 2.0815544, 3.3916206,\n",
              "       1.602642 ], dtype=float32)"
            ]
          },
          "metadata": {},
          "execution_count": 57
        }
      ],
      "source": [
        "reg_pred"
      ]
    },
    {
      "cell_type": "code",
      "execution_count": 58,
      "metadata": {
        "colab": {
          "base_uri": "https://localhost:8080/"
        },
        "id": "Va0RrzmxagHW",
        "outputId": "6c4efbcf-8e75-4b62-88bc-af9fadb8bb74"
      },
      "outputs": [
        {
          "output_type": "execute_result",
          "data": {
            "text/plain": [
              "0.6385002"
            ]
          },
          "metadata": {},
          "execution_count": 58
        }
      ],
      "source": [
        "mean_squared_error(y_test, reg_pred, squared=False)\n",
        "#setting squared to false returns RMSE"
      ]
    },
    {
      "cell_type": "code",
      "execution_count": 59,
      "metadata": {
        "colab": {
          "base_uri": "https://localhost:8080/"
        },
        "id": "bH_f1kw5bBlr",
        "outputId": "bb8dcada-10a0-47b8-d10f-d5c6a8a3dc90"
      },
      "outputs": [
        {
          "output_type": "execute_result",
          "data": {
            "text/plain": [
              "0.49312726"
            ]
          },
          "metadata": {},
          "execution_count": 59
        }
      ],
      "source": [
        "mean_absolute_error(y_test, reg_pred)"
      ]
    },
    {
      "cell_type": "markdown",
      "metadata": {
        "id": "ewZ1C_ZHbGQE"
      },
      "source": [
        "This simple linear regression model has been able to achieve a RMSE of 0.6385 and an MAE of 0.4931"
      ]
    },
    {
      "cell_type": "markdown",
      "metadata": {
        "id": "QNilBOMBbTbH"
      },
      "source": [
        "This is a drastic increase in performance from the baseline model. So we can say that this problem can be solved by machine learning"
      ]
    },
    {
      "cell_type": "markdown",
      "metadata": {
        "id": "JTrRA1zXgHhM"
      },
      "source": [
        "# Creating a Ridge Regression Model"
      ]
    },
    {
      "cell_type": "code",
      "execution_count": 60,
      "metadata": {
        "id": "0PY4JRyQhtWg"
      },
      "outputs": [],
      "source": [
        "from sklearn.linear_model import Ridge"
      ]
    },
    {
      "cell_type": "code",
      "execution_count": 61,
      "metadata": {
        "id": "PVvRov1jhyRR"
      },
      "outputs": [],
      "source": [
        "ridge1 = Ridge(alpha=1.0)"
      ]
    },
    {
      "cell_type": "code",
      "execution_count": 62,
      "metadata": {
        "colab": {
          "base_uri": "https://localhost:8080/"
        },
        "id": "xzIEX-V2iE7S",
        "outputId": "bfa62cab-c563-4c95-8ae0-37a07f5a9ffd"
      },
      "outputs": [
        {
          "output_type": "stream",
          "name": "stderr",
          "text": [
            "/usr/local/lib/python3.7/dist-packages/sklearn/linear_model/_ridge.py:157: LinAlgWarning: Ill-conditioned matrix (rcond=1.34062e-09): result may not be accurate.\n",
            "  return linalg.solve(A, Xy, sym_pos=True, overwrite_a=True).T\n"
          ]
        },
        {
          "output_type": "execute_result",
          "data": {
            "text/plain": [
              "Ridge()"
            ]
          },
          "metadata": {},
          "execution_count": 62
        }
      ],
      "source": [
        "ridge1.fit(x_train,y_train)"
      ]
    },
    {
      "cell_type": "code",
      "execution_count": 63,
      "metadata": {
        "id": "X2Z-A4sAiN4Y"
      },
      "outputs": [],
      "source": [
        "ridge1_pred=ridge1.predict(x_test)"
      ]
    },
    {
      "cell_type": "code",
      "execution_count": 64,
      "metadata": {
        "colab": {
          "base_uri": "https://localhost:8080/"
        },
        "id": "bw75vvYaiVQr",
        "outputId": "4bd66b2b-c255-4564-a929-e022705add7e"
      },
      "outputs": [
        {
          "output_type": "execute_result",
          "data": {
            "text/plain": [
              "array([1.6913414, 2.5474052, 1.9922447, ..., 2.0815315, 3.3916245,\n",
              "       1.602642 ], dtype=float32)"
            ]
          },
          "metadata": {},
          "execution_count": 64
        }
      ],
      "source": [
        "ridge1_pred"
      ]
    },
    {
      "cell_type": "code",
      "execution_count": 65,
      "metadata": {
        "colab": {
          "base_uri": "https://localhost:8080/"
        },
        "id": "ebsaiX2XiX08",
        "outputId": "3ba7445c-ccaa-4344-d374-d0d602e321ff"
      },
      "outputs": [
        {
          "output_type": "execute_result",
          "data": {
            "text/plain": [
              "0.63850015"
            ]
          },
          "metadata": {},
          "execution_count": 65
        }
      ],
      "source": [
        "mean_squared_error(y_test, ridge1_pred, squared=False)"
      ]
    },
    {
      "cell_type": "code",
      "execution_count": 66,
      "metadata": {
        "colab": {
          "base_uri": "https://localhost:8080/"
        },
        "id": "vS47uR_Qifye",
        "outputId": "ae212579-4079-46ae-9827-bab26c1cf44e"
      },
      "outputs": [
        {
          "output_type": "execute_result",
          "data": {
            "text/plain": [
              "0.4931273"
            ]
          },
          "metadata": {},
          "execution_count": 66
        }
      ],
      "source": [
        "mean_absolute_error(y_test, ridge1_pred)"
      ]
    },
    {
      "cell_type": "markdown",
      "metadata": {
        "id": "I_qYX2htinV4"
      },
      "source": [
        "The ridge regression model with regularization parameter as 1 performs slightly better than the linear regression model without regularization"
      ]
    },
    {
      "cell_type": "markdown",
      "metadata": {
        "id": "xI40vv3wi0t3"
      },
      "source": [
        "Let us repeat this with regularization parameter as 5"
      ]
    },
    {
      "cell_type": "code",
      "execution_count": 67,
      "metadata": {
        "id": "DWEDe7Kri8GZ"
      },
      "outputs": [],
      "source": [
        "ridge2=Ridge(alpha=3.0)"
      ]
    },
    {
      "cell_type": "code",
      "execution_count": 68,
      "metadata": {
        "colab": {
          "base_uri": "https://localhost:8080/"
        },
        "id": "1e0T063AjB5n",
        "outputId": "b0967146-7095-42ec-aba9-246aee6ea08a"
      },
      "outputs": [
        {
          "output_type": "stream",
          "name": "stderr",
          "text": [
            "/usr/local/lib/python3.7/dist-packages/sklearn/linear_model/_ridge.py:157: LinAlgWarning: Ill-conditioned matrix (rcond=1.34283e-09): result may not be accurate.\n",
            "  return linalg.solve(A, Xy, sym_pos=True, overwrite_a=True).T\n"
          ]
        },
        {
          "output_type": "execute_result",
          "data": {
            "text/plain": [
              "Ridge(alpha=3.0)"
            ]
          },
          "metadata": {},
          "execution_count": 68
        }
      ],
      "source": [
        "ridge2.fit(x_train,y_train)"
      ]
    },
    {
      "cell_type": "code",
      "execution_count": 69,
      "metadata": {
        "id": "7CwBLeoZjFWU"
      },
      "outputs": [],
      "source": [
        "ridge2_pred=ridge2.predict(x_test)"
      ]
    },
    {
      "cell_type": "code",
      "execution_count": 70,
      "metadata": {
        "colab": {
          "base_uri": "https://localhost:8080/"
        },
        "id": "VVYZAsuFjK7r",
        "outputId": "d535f43a-f1d8-4602-91e4-da2431dacabc"
      },
      "outputs": [
        {
          "output_type": "execute_result",
          "data": {
            "text/plain": [
              "array([1.6913147, 2.547371 , 1.9922829, ..., 2.0815582, 3.3916206,\n",
              "       1.6026497], dtype=float32)"
            ]
          },
          "metadata": {},
          "execution_count": 70
        }
      ],
      "source": [
        "ridge2_pred"
      ]
    },
    {
      "cell_type": "code",
      "execution_count": 71,
      "metadata": {
        "colab": {
          "base_uri": "https://localhost:8080/"
        },
        "id": "Ibg5ubw3jQFY",
        "outputId": "e2f75afb-a5c6-4703-aa3a-bd62d7aa9dec"
      },
      "outputs": [
        {
          "output_type": "execute_result",
          "data": {
            "text/plain": [
              "0.63850015"
            ]
          },
          "metadata": {},
          "execution_count": 71
        }
      ],
      "source": [
        "mean_squared_error(y_test, ridge2_pred, squared=False)"
      ]
    },
    {
      "cell_type": "code",
      "execution_count": 72,
      "metadata": {
        "colab": {
          "base_uri": "https://localhost:8080/"
        },
        "id": "Ry4U6AadjWL3",
        "outputId": "67fb048e-19ee-493d-f58d-5d00d5779005"
      },
      "outputs": [
        {
          "output_type": "execute_result",
          "data": {
            "text/plain": [
              "0.49312755"
            ]
          },
          "metadata": {},
          "execution_count": 72
        }
      ],
      "source": [
        "mean_absolute_error(y_test, ridge2_pred)"
      ]
    },
    {
      "cell_type": "markdown",
      "metadata": {
        "id": "G1cQQG8-jogA"
      },
      "source": [
        "Let us try to make a new ridge regression model with regularization parameter as 50000. This should theoretically lead to underfit"
      ]
    },
    {
      "cell_type": "code",
      "execution_count": 73,
      "metadata": {
        "id": "mdtZLcf-jyOm"
      },
      "outputs": [],
      "source": [
        "ridge3=Ridge(alpha=50000.0)"
      ]
    },
    {
      "cell_type": "code",
      "execution_count": 74,
      "metadata": {
        "colab": {
          "base_uri": "https://localhost:8080/"
        },
        "id": "K3mffKHoj04H",
        "outputId": "fc1cfc3b-b179-4d43-e7ee-63e369310b52"
      },
      "outputs": [
        {
          "output_type": "stream",
          "name": "stderr",
          "text": [
            "/usr/local/lib/python3.7/dist-packages/sklearn/linear_model/_ridge.py:157: LinAlgWarning: Ill-conditioned matrix (rcond=5.6863e-08): result may not be accurate.\n",
            "  return linalg.solve(A, Xy, sym_pos=True, overwrite_a=True).T\n"
          ]
        },
        {
          "output_type": "execute_result",
          "data": {
            "text/plain": [
              "Ridge(alpha=50000.0)"
            ]
          },
          "metadata": {},
          "execution_count": 74
        }
      ],
      "source": [
        "ridge3.fit(x_train,y_train)"
      ]
    },
    {
      "cell_type": "code",
      "execution_count": 75,
      "metadata": {
        "colab": {
          "base_uri": "https://localhost:8080/"
        },
        "id": "4tIIPYlIj5Vn",
        "outputId": "c28504ce-1bd6-4f23-8c30-0f2e83892cac"
      },
      "outputs": [
        {
          "output_type": "execute_result",
          "data": {
            "text/plain": [
              "array([1.6601219, 2.4528809, 2.035839 , ..., 2.1065216, 3.2918663,\n",
              "       1.6363564], dtype=float32)"
            ]
          },
          "metadata": {},
          "execution_count": 75
        }
      ],
      "source": [
        "ridge3_pred=ridge3.predict(x_test)\n",
        "ridge3_pred"
      ]
    },
    {
      "cell_type": "code",
      "execution_count": 76,
      "metadata": {
        "colab": {
          "base_uri": "https://localhost:8080/"
        },
        "id": "7v2PSLh_j5Og",
        "outputId": "727a0263-3ce9-4b16-ab2e-b0479a3bba56"
      },
      "outputs": [
        {
          "output_type": "execute_result",
          "data": {
            "text/plain": [
              "0.6421053"
            ]
          },
          "metadata": {},
          "execution_count": 76
        }
      ],
      "source": [
        "mean_squared_error(y_test, ridge3_pred, squared=False)"
      ]
    },
    {
      "cell_type": "code",
      "execution_count": 77,
      "metadata": {
        "colab": {
          "base_uri": "https://localhost:8080/"
        },
        "id": "3TUoMPY0j5D2",
        "outputId": "97c8380e-2a6f-41de-e43a-81de695a5cc5"
      },
      "outputs": [
        {
          "output_type": "execute_result",
          "data": {
            "text/plain": [
              "0.49635273"
            ]
          },
          "metadata": {},
          "execution_count": 77
        }
      ],
      "source": [
        "mean_absolute_error(y_test, ridge3_pred)"
      ]
    },
    {
      "cell_type": "markdown",
      "metadata": {
        "id": "9ovLKZEkkhMw"
      },
      "source": [
        "As expected, the predictions begin to get worse and the RMSE and MAE start to shoot up. This is because the model is unnecessarily penalized"
      ]
    },
    {
      "cell_type": "markdown",
      "metadata": {
        "id": "DVqCMIVIm12Y"
      },
      "source": [
        "# Creating a Random Forest Regressor"
      ]
    },
    {
      "cell_type": "code",
      "execution_count": 78,
      "metadata": {
        "id": "9Z4dxvj6m6f7"
      },
      "outputs": [],
      "source": [
        "from sklearn.ensemble import RandomForestRegressor\n"
      ]
    },
    {
      "cell_type": "code",
      "execution_count": 81,
      "metadata": {
        "id": "qnyIPLYUnTs2"
      },
      "outputs": [],
      "source": [
        "# randFor = RandomForestRegressor(n_estimators=70,max_depth=10, random_state=55,max_features='log2')\n",
        "randFor = RandomForestRegressor(n_estimators=10, random_state=55)"
      ]
    },
    {
      "cell_type": "markdown",
      "source": [
        "Trying to train the model on the entire training set and with n_estimators set to 50 is taking over 23 minutes even with GPU\n",
        "\n",
        "So let us try to reduce the computational load by limiting n_estimators to 10 and use 50% of the training set"
      ],
      "metadata": {
        "id": "QJ5f5uilNubv"
      }
    },
    {
      "cell_type": "code",
      "source": [
        "new_x_train, new_X_test, new_y_train, new_y_test = train_test_split( x_train, y_train, train_size=0.20, random_state=66)"
      ],
      "metadata": {
        "id": "ftmr1W0DNkso"
      },
      "execution_count": 84,
      "outputs": []
    },
    {
      "cell_type": "code",
      "source": [
        "new_x_train.shape"
      ],
      "metadata": {
        "colab": {
          "base_uri": "https://localhost:8080/"
        },
        "id": "V5hTBj1FOj0I",
        "outputId": "df234d77-e390-408a-8f39-b74cb649fbeb"
      },
      "execution_count": 85,
      "outputs": [
        {
          "output_type": "execute_result",
          "data": {
            "text/plain": [
              "(103243, 22)"
            ]
          },
          "metadata": {},
          "execution_count": 85
        }
      ]
    },
    {
      "cell_type": "code",
      "source": [
        "new_y_train.shape"
      ],
      "metadata": {
        "colab": {
          "base_uri": "https://localhost:8080/"
        },
        "id": "o-uEzslFOoiH",
        "outputId": "af277db8-0f9c-457a-bf1d-77bb84897d96"
      },
      "execution_count": 86,
      "outputs": [
        {
          "output_type": "execute_result",
          "data": {
            "text/plain": [
              "(103243,)"
            ]
          },
          "metadata": {},
          "execution_count": 86
        }
      ]
    },
    {
      "cell_type": "code",
      "execution_count": 87,
      "metadata": {
        "colab": {
          "base_uri": "https://localhost:8080/"
        },
        "id": "7Hn-H9uvnzRf",
        "outputId": "ac8e19ee-51c5-4217-b2cb-865a2d796c33"
      },
      "outputs": [
        {
          "output_type": "execute_result",
          "data": {
            "text/plain": [
              "RandomForestRegressor(n_estimators=10, random_state=55)"
            ]
          },
          "metadata": {},
          "execution_count": 87
        }
      ],
      "source": [
        "randFor.fit(new_x_train,new_y_train)"
      ]
    },
    {
      "cell_type": "markdown",
      "source": [
        "Now that we have trained a model with 20% of the training data it is essential that we save it for later use because training this model on a subset of the whole data itself takes us 20 seconds"
      ],
      "metadata": {
        "id": "HSp4L5FMPYnn"
      }
    },
    {
      "cell_type": "code",
      "source": [
        "import joblib"
      ],
      "metadata": {
        "id": "w_rU-aQLy5Td"
      },
      "execution_count": 88,
      "outputs": []
    },
    {
      "cell_type": "code",
      "source": [
        "joblib.dump(randFor, \"./random_forest.joblib\")"
      ],
      "metadata": {
        "colab": {
          "base_uri": "https://localhost:8080/"
        },
        "id": "ymv3DCyyPs3g",
        "outputId": "6e1f0c6a-2332-4cec-e9c8-94d84243f7c6"
      },
      "execution_count": 90,
      "outputs": [
        {
          "output_type": "execute_result",
          "data": {
            "text/plain": [
              "['./random_forest.joblib']"
            ]
          },
          "metadata": {},
          "execution_count": 90
        }
      ]
    },
    {
      "cell_type": "code",
      "source": [
        "rand1_pred=randFor.predict(x_test)\n",
        "rand1_pred"
      ],
      "metadata": {
        "colab": {
          "base_uri": "https://localhost:8080/"
        },
        "id": "U_0UeI9qQJMF",
        "outputId": "90596244-e1cd-43bc-a206-a588b54d0b6e"
      },
      "execution_count": 91,
      "outputs": [
        {
          "output_type": "execute_result",
          "data": {
            "text/plain": [
              "array([1.19000006, 2.74999998, 1.63999999, ..., 2.20000005, 4.0227735 ,\n",
              "       1.19000006])"
            ]
          },
          "metadata": {},
          "execution_count": 91
        }
      ]
    },
    {
      "cell_type": "code",
      "source": [
        "mean_squared_error(y_test, rand1_pred, squared=False)"
      ],
      "metadata": {
        "colab": {
          "base_uri": "https://localhost:8080/"
        },
        "id": "jZ9TcuybQXIO",
        "outputId": "2dd84fe5-970f-4e26-bcea-a6e850c7cc6b"
      },
      "execution_count": 92,
      "outputs": [
        {
          "output_type": "execute_result",
          "data": {
            "text/plain": [
              "0.13328925829029278"
            ]
          },
          "metadata": {},
          "execution_count": 92
        }
      ]
    },
    {
      "cell_type": "code",
      "source": [
        "mean_absolute_error(y_test, rand1_pred)"
      ],
      "metadata": {
        "colab": {
          "base_uri": "https://localhost:8080/"
        },
        "id": "_1h6Zv3sQrd9",
        "outputId": "581163ba-07f6-440d-df34-06c0e14f8493"
      },
      "execution_count": 93,
      "outputs": [
        {
          "output_type": "execute_result",
          "data": {
            "text/plain": [
              "0.05810619248896467"
            ]
          },
          "metadata": {},
          "execution_count": 93
        }
      ]
    },
    {
      "cell_type": "markdown",
      "source": [
        "Clearly, the random forest regressor outperforms all the previous models by a huge margin\n",
        "\n",
        "This has been achieved with the bare minimum inputs"
      ],
      "metadata": {
        "id": "8PczBjBxQw7c"
      }
    },
    {
      "cell_type": "markdown",
      "source": [
        "Let us try to refine the tree regressor in the upcoming iterations"
      ],
      "metadata": {
        "id": "23tbydShQ9ti"
      }
    }
  ],
  "metadata": {
    "colab": {
      "collapsed_sections": [],
      "name": "Mining Quality Prediction.ipynb",
      "provenance": []
    },
    "gpuClass": "standard",
    "kernelspec": {
      "display_name": "Python 3",
      "name": "python3"
    },
    "language_info": {
      "name": "python"
    },
    "accelerator": "GPU"
  },
  "nbformat": 4,
  "nbformat_minor": 0
}